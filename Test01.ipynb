{
 "cells": [
  {
   "cell_type": "code",
   "execution_count": 2,
   "id": "ceca2b20-e7b1-4688-a998-e2cb128d2607",
   "metadata": {},
   "outputs": [
    {
     "name": "stdout",
     "output_type": "stream",
     "text": [
      "3.9.13 (main, Aug 25 2022, 23:51:50) [MSC v.1916 64 bit (AMD64)]\n"
     ]
    }
   ],
   "source": [
    "import sys\n",
    "print(sys.version)"
   ]
  },
  {
   "cell_type": "code",
   "execution_count": 3,
   "id": "256ae9f7-425c-44ec-986a-2521071e6a64",
   "metadata": {},
   "outputs": [
    {
     "name": "stdout",
     "output_type": "stream",
     "text": [
      " C 드라이브의 볼륨에는 이름이 없습니다.\n",
      " 볼륨 일련 번호: D42D-DE20\n",
      "\n",
      " C:\\python 디렉터리\n",
      "\n",
      "2023-02-13  오전 10:32    <DIR>          .\n",
      "2023-02-13  오전 10:32    <DIR>          ..\n",
      "2023-02-13  오전 10:30    <DIR>          .ipynb_checkpoints\n",
      "2023-02-13  오전 10:32               992 Test01.ipynb\n",
      "               1개 파일                 992 바이트\n",
      "               3개 디렉터리  175,730,290,688 바이트 남음\n"
     ]
    }
   ],
   "source": [
    "!dir"
   ]
  },
  {
   "cell_type": "code",
   "execution_count": 1,
   "id": "b63435fd-6956-4200-a315-9814dfb14de0",
   "metadata": {},
   "outputs": [],
   "source": [
    "x=1\n",
    "text = \"# 주석아님\""
   ]
  },
  {
   "cell_type": "code",
   "execution_count": 2,
   "id": "97c32622-fd14-426f-8879-d4ece4cb8d16",
   "metadata": {},
   "outputs": [
    {
     "name": "stdout",
     "output_type": "stream",
     "text": [
      "1\n"
     ]
    }
   ],
   "source": [
    "print(x)"
   ]
  },
  {
   "cell_type": "code",
   "execution_count": 3,
   "id": "dc7997e5-7d91-46f1-9312-37214fa578be",
   "metadata": {},
   "outputs": [
    {
     "name": "stdout",
     "output_type": "stream",
     "text": [
      "# 주석아님\n"
     ]
    }
   ],
   "source": [
    "print(text)"
   ]
  },
  {
   "cell_type": "code",
   "execution_count": 6,
   "id": "8c2402c9-9d7d-4d30-9486-e54f6fbcb131",
   "metadata": {},
   "outputs": [
    {
     "name": "stdout",
     "output_type": "stream",
     "text": [
      "Hello, world!\n",
      "Hello, world!\n",
      "Python Programming\n"
     ]
    }
   ],
   "source": [
    "x='Hello, world!'\n",
    "print(x)\n",
    "print(x)\n",
    "print(\"Python Programming\")"
   ]
  },
  {
   "cell_type": "code",
   "execution_count": 7,
   "id": "b93a6396-81e3-4e3e-bb77-f4fc8923f843",
   "metadata": {},
   "outputs": [
    {
     "data": {
      "text/plain": [
       "89"
      ]
     },
     "execution_count": 7,
     "metadata": {},
     "output_type": "execute_result"
    }
   ],
   "source": [
    "13+(22-3)*4"
   ]
  },
  {
   "cell_type": "code",
   "execution_count": 9,
   "id": "e684c483-5c30-4394-af17-f4dcde4bae1d",
   "metadata": {},
   "outputs": [
    {
     "data": {
      "text/plain": [
       "28.2"
      ]
     },
     "execution_count": 9,
     "metadata": {},
     "output_type": "execute_result"
    }
   ],
   "source": [
    "13+((22-3)*4)/5"
   ]
  },
  {
   "cell_type": "code",
   "execution_count": 13,
   "id": "44270add-aeca-4c3b-b78d-b27861282876",
   "metadata": {},
   "outputs": [
    {
     "data": {
      "text/plain": [
       "7"
      ]
     },
     "execution_count": 13,
     "metadata": {},
     "output_type": "execute_result"
    }
   ],
   "source": [
    "int(0.2467*12+4.159)"
   ]
  },
  {
   "cell_type": "code",
   "execution_count": 16,
   "id": "51b45796-9189-4431-a0c8-80afed129e3a",
   "metadata": {},
   "outputs": [
    {
     "name": "stdout",
     "output_type": "stream",
     "text": [
      "가장 시끄러운 층은 = 7 층\n"
     ]
    }
   ],
   "source": [
    "a=int(0.2467 * 12 + 4.159)\n",
    "print(\"가장 시끄러운 층은 =\", a, \"층\")"
   ]
  },
  {
   "cell_type": "code",
   "execution_count": 18,
   "id": "00c1cb8a-14f8-4a74-b964-9623ad71e705",
   "metadata": {},
   "outputs": [
    {
     "name": "stdout",
     "output_type": "stream",
     "text": [
      "냉장고 가격은 1272000 원 입니다.\n"
     ]
    }
   ],
   "source": [
    "print(\"냉장고 가격은\", 53000*24, \"원 입니다.\")"
   ]
  },
  {
   "cell_type": "code",
   "execution_count": 22,
   "id": "1951f97b-d5d0-4c15-9c6b-565d6877b82c",
   "metadata": {},
   "outputs": [
    {
     "name": "stdout",
     "output_type": "stream",
     "text": [
      "총 지불 해야 할 금액은 16500000 원 입니다.\n"
     ]
    }
   ],
   "source": [
    "people = 250\n",
    "book = 20000\n",
    "tax = book*0.1\n",
    "total = int(people * (book+tax)*3)\n",
    "\n",
    "print(\"총 지불 해야 할 금액은\", total, \"원 입니다.\")"
   ]
  },
  {
   "cell_type": "code",
   "execution_count": null,
   "id": "04e769ea-a5bf-440b-86df-aa7f521b94e6",
   "metadata": {},
   "outputs": [
    {
     "data": {
      "text/plain": [
       "'0x1f'"
      ]
     },
     "execution_count": 23,
     "metadata": {},
     "output_type": "execute_result"
    }
   ],
   "source": [
    "hex(31)"
   ]
  },
  {
   "cell_type": "code",
   "execution_count": 25,
   "id": "27819ab3-5a38-475e-b3a1-dd8518b5f7a2",
   "metadata": {},
   "outputs": [
    {
     "data": {
      "text/plain": [
       "'0b10100'"
      ]
     },
     "execution_count": 25,
     "metadata": {},
     "output_type": "execute_result"
    }
   ],
   "source": [
    "bin(20)"
   ]
  },
  {
   "cell_type": "code",
   "execution_count": 26,
   "id": "c840672a-8614-4534-a7fe-ab61b7b8c9a3",
   "metadata": {},
   "outputs": [
    {
     "data": {
      "text/plain": [
       "'0o41'"
      ]
     },
     "execution_count": 26,
     "metadata": {},
     "output_type": "execute_result"
    }
   ],
   "source": [
    "oct(33)\n",
    "\n"
   ]
  },
  {
   "cell_type": "code",
   "execution_count": 30,
   "id": "6e52eaf8-dc09-4314-a1b1-c81959c5ffe4",
   "metadata": {},
   "outputs": [
    {
     "name": "stdout",
     "output_type": "stream",
     "text": [
      "453.0\n"
     ]
    }
   ],
   "source": [
    "# 왜곡이라는 스킬이 AP(Ability Power, 주문력)*0.6+225의 피해를 줍니다.\n",
    "# AP가 아래와 같을 때 스킬 피해량을 구하시오.\n",
    "AP = 380\n",
    "왜곡 = AP * 0.6 +225\n",
    "print(왜곡)"
   ]
  },
  {
   "cell_type": "code",
   "execution_count": 34,
   "id": "1ab6953b-70e5-4a76-8aa2-b1978746082e",
   "metadata": {},
   "outputs": [
    {
     "name": "stdout",
     "output_type": "stream",
     "text": [
      "30\n"
     ]
    }
   ],
   "source": [
    "a=10\n",
    "# a 변수 값에 20을 더한 결과를 다시 a에 하ㅓ할당\n",
    "a=a+20\n",
    "\n",
    "print(a)"
   ]
  },
  {
   "cell_type": "code",
   "execution_count": 35,
   "id": "27bc5e35-4d63-4a72-91d6-1a9adc2e1cef",
   "metadata": {},
   "outputs": [],
   "source": [
    "del a\n",
    "#변수 삭제"
   ]
  },
  {
   "cell_type": "code",
   "execution_count": 36,
   "id": "d31df809-fccb-42c9-bb80-a5f2cc78a9b1",
   "metadata": {},
   "outputs": [
    {
     "name": "stdout",
     "output_type": "stream",
     "text": [
      "\"안녕?\"이라는 그 인사를 듣고 나는 '누구지?'라고 생각했다.\n"
     ]
    }
   ],
   "source": [
    "print(\"\\\"안녕?\\\"이라는 그 인사를 듣고 나는 '누구지?'라고 생각했다.\")"
   ]
  },
  {
   "cell_type": "code",
   "execution_count": null,
   "id": "d79b46fa-4714-4355-9404-3a2d5e9b2aa7",
   "metadata": {},
   "outputs": [],
   "source": []
  },
  {
   "cell_type": "code",
   "execution_count": null,
   "id": "ab4ace16-3cda-4af2-9c6b-1d1624505820",
   "metadata": {},
   "outputs": [],
   "source": [
    "## 230214 수업"
   ]
  },
  {
   "cell_type": "code",
   "execution_count": 6,
   "id": "9cf19e47-a60c-42c7-800c-4db6d24c6c15",
   "metadata": {},
   "outputs": [
    {
     "name": "stdout",
     "output_type": "stream",
     "text": [
      "안녕하세요.\n",
      "나는 파이썬을 공부하고 있습니다.\n",
      "반갑습니다.\n"
     ]
    }
   ],
   "source": [
    "# 마지막에 \\\"\"\" 하면 삼중따옴표가 역슬래시가 되어서\n",
    "# 줄 바꿈이 되지 않게 변경하는 것이 아니라\n",
    "# 문장이 끝나지 않는 오류(EOF)가 난다.\n",
    "\n",
    "print(\"\"\"\\\n",
    "안녕하세요.\n",
    "나는 파이썬을 공부하고 있습니다.\n",
    "반갑습니다.\\\n",
    "\"\"\")"
   ]
  },
  {
   "cell_type": "code",
   "execution_count": 14,
   "id": "d89ebba6-0ac4-4564-b88b-712dc84eb3fb",
   "metadata": {},
   "outputs": [
    {
     "name": "stdout",
     "output_type": "stream",
     "text": [
      "\"안녕하세요\"\n",
      "나는 파이썬을 공부하고 있습니다.\n",
      "반갑습니다.\n"
     ]
    }
   ],
   "source": [
    "#삼중 따옴표를 사용해서 출력하기\n",
    "\n",
    "print(\"\"\"\\\n",
    "\"안녕하세요\"\n",
    "나는 파이썬을 공부하고 있습니다.\n",
    "반갑습니다.\\\n",
    "\"\"\")\n",
    "\n",
    "# \\\"안녕하세요\\\" 안 해도 됨"
   ]
  },
  {
   "cell_type": "code",
   "execution_count": 19,
   "id": "bb5cfaa5-b221-4e11-86f9-a00736befb17",
   "metadata": {},
   "outputs": [
    {
     "name": "stdout",
     "output_type": "stream",
     "text": [
      "너무 너무 너무 너무 너무 너무 너무 파이썬 공부가 즐겁습니다.\n",
      "너무 너무 너무 너무 너무 너무 너무  파이썬 공부가 즐겁습니다.\n"
     ]
    }
   ],
   "source": [
    "print(\"너무 \"*7+ \"파이썬 공부가 즐겁습니다.\")\n",
    "print(\"너무 \"*7, \"파이썬 공부가 즐겁습니다.\") #띄어쓰기가 자동으로 됨\n",
    "\n",
    "# sep라는 인자에 값을 설정하면 없앨 수 있음 <<<< 찾아보기"
   ]
  },
  {
   "cell_type": "code",
   "execution_count": 22,
   "id": "0ef69096-d88a-4cd6-bcdd-fe296bf7ece9",
   "metadata": {},
   "outputs": [
    {
     "name": "stdout",
     "output_type": "stream",
     "text": [
      "Pony\n"
     ]
    }
   ],
   "source": [
    "#문자열 인덱스\n",
    "word = 'Python'\n",
    "print(word[0] + word[-2] + word[5] + word[1])"
   ]
  },
  {
   "cell_type": "code",
   "execution_count": 26,
   "id": "1ec34c1e-c371-4112-a62f-bebf88e30d83",
   "metadata": {},
   "outputs": [
    {
     "name": "stdout",
     "output_type": "stream",
     "text": [
      "꺾\n"
     ]
    }
   ],
   "source": [
    "#연습문제6\n",
    "#인덱스는 0부터 시작!\n",
    "\n",
    "sentence = '중요한 것은 꺾이지 않는 마음'\n",
    "print(sentence[7])"
   ]
  },
  {
   "cell_type": "code",
   "execution_count": 30,
   "id": "4552d778-cee9-43b3-8707-1a3a4a2cea72",
   "metadata": {},
   "outputs": [
    {
     "name": "stdout",
     "output_type": "stream",
     "text": [
      "Python\n"
     ]
    }
   ],
   "source": [
    "#문자열 슬라이싱\n",
    "word = 'Python'\n",
    "print(word[::])"
   ]
  },
  {
   "cell_type": "code",
   "execution_count": 32,
   "id": "f2e9ed53-df7b-4a47-9289-cde0db36edbd",
   "metadata": {},
   "outputs": [
    {
     "name": "stdout",
     "output_type": "stream",
     "text": [
      "은 꺾이지 않는 마음\n"
     ]
    }
   ],
   "source": [
    "print(sentence[5:42])\n",
    "\n",
    "#초과 범위 슬라이싱 해도 IndexError와 다르게 유연하게 처리 됨"
   ]
  },
  {
   "cell_type": "code",
   "execution_count": 36,
   "id": "e937c0fb-d59b-4dfa-850a-b71b9f4018a9",
   "metadata": {},
   "outputs": [
    {
     "name": "stdout",
     "output_type": "stream",
     "text": [
      "꺾이지 않는 마음\n"
     ]
    }
   ],
   "source": [
    "#연습문제7\n",
    "#슬라이싱으로 '꺾이지 않는 마음' 출력\n",
    "\n",
    "print(sentence[-9:])"
   ]
  },
  {
   "cell_type": "code",
   "execution_count": 73,
   "id": "d191eb5b-b370-42d4-b964-79141d6eb8d8",
   "metadata": {},
   "outputs": [
    {
     "name": "stdout",
     "output_type": "stream",
     "text": [
      "한요중\n",
      "한요중\n",
      "한요중\n"
     ]
    }
   ],
   "source": [
    "#연습문제8\n",
    "#'한요중'을 출력하라\n",
    "\n",
    "print(sentence[-14::-1])\n",
    "print(sentence[2::-1])\n",
    "\n",
    "# 2 1 0 을 슬라이싱으로 표현하면 [2: :-1]\n",
    "# -14 -15 -16 을 슬라이싱으로 [-14: : -1] 단순히 숫자를 +- 한다고 생각.\n",
    "\n",
    "print(sentence[:3][::-1])  #참신한 방법"
   ]
  },
  {
   "cell_type": "code",
   "execution_count": 74,
   "id": "c2257373-ee03-405c-85ab-6d1ce086398f",
   "metadata": {},
   "outputs": [
    {
     "name": "stdout",
     "output_type": "stream",
     "text": [
      "[1, 4, 9, 16, 25]\n"
     ]
    },
    {
     "data": {
      "text/plain": [
       "list"
      ]
     },
     "execution_count": 74,
     "metadata": {},
     "output_type": "execute_result"
    }
   ],
   "source": [
    "#리스트\n",
    "\n",
    "squares = [ 1**2, 2**2, 3**2, 4**2, 5**2 ]\n",
    "print(squares)\n",
    "type(squares)"
   ]
  },
  {
   "cell_type": "code",
   "execution_count": 81,
   "id": "5b0537da-147c-4e0c-aeab-5382034ef9a9",
   "metadata": {},
   "outputs": [
    {
     "data": {
      "text/plain": [
       "[16, 25]"
      ]
     },
     "execution_count": 81,
     "metadata": {},
     "output_type": "execute_result"
    }
   ],
   "source": [
    "#리스트의 슬라이싱\n",
    "squares[-2:]"
   ]
  },
  {
   "cell_type": "code",
   "execution_count": 79,
   "id": "c3e54b95-bab3-4cd1-ad7a-2736b5240e70",
   "metadata": {},
   "outputs": [
    {
     "name": "stdout",
     "output_type": "stream",
     "text": [
      "[1, 4, 9, 16, 25, 3, 3]\n"
     ]
    }
   ],
   "source": [
    "#리스트의 더하기\n",
    "print(squares+[3,3])"
   ]
  },
  {
   "cell_type": "code",
   "execution_count": 78,
   "id": "4939617c-43f5-4290-aacf-8fb0bd62edab",
   "metadata": {},
   "outputs": [
    {
     "data": {
      "text/plain": [
       "[1, 4, 9, 16, 25, 1, 4, 9, 16, 25]"
      ]
     },
     "execution_count": 78,
     "metadata": {},
     "output_type": "execute_result"
    }
   ],
   "source": [
    "#리스트의 곱하기\n",
    "squares *2"
   ]
  },
  {
   "cell_type": "code",
   "execution_count": 82,
   "id": "84cac881-8009-4a09-99e3-93fc637925a5",
   "metadata": {},
   "outputs": [
    {
     "name": "stdout",
     "output_type": "stream",
     "text": [
      "[1, 8, 27, 64, 125]\n"
     ]
    }
   ],
   "source": [
    "#리스트의 값은 가변(mutable)\n",
    "cubes = [1, 8, 27, 65, 125] #65가 아니라 64가 올바른 값이라 수정하고 싶음\n",
    "cubes[3] = 4**3 #인덱싱으로 값 변경\n",
    "print(cubes)"
   ]
  },
  {
   "cell_type": "code",
   "execution_count": 86,
   "id": "10cae2bb-57a8-4a28-a5a7-c214713120b2",
   "metadata": {},
   "outputs": [
    {
     "name": "stdout",
     "output_type": "stream",
     "text": [
      "['a', 'b', 'C', 'D', 'E']\n"
     ]
    },
    {
     "data": {
      "text/plain": [
       "5"
      ]
     },
     "execution_count": 86,
     "metadata": {},
     "output_type": "execute_result"
    }
   ],
   "source": [
    "#슬라이싱으로 변경 시 슬라이싱범위와 대입하는 값의 개수가 같아야 함!!\n",
    "\n",
    "letters = ['a', 'b', 'c', 'd']\n",
    "letters[2:5] = ['C', 'D', \"E\"]  #자동으로 추가됨\n",
    "print(letters)\n",
    "\n",
    "len(letters)"
   ]
  },
  {
   "cell_type": "code",
   "execution_count": 97,
   "id": "cfbee46e-79dc-4086-921e-d89b82b1b23b",
   "metadata": {},
   "outputs": [
    {
     "data": {
      "text/plain": [
       "False"
      ]
     },
     "execution_count": 97,
     "metadata": {},
     "output_type": "execute_result"
    }
   ],
   "source": [
    "#공무원 시험 결과가 아래 리스트 형태로 제공되었다.\n",
    "# 한 과목이라도 60점 미만이면 과락이다.\n",
    "# 과락이면 False, 아니면 True를 출력하도록 코드를 완성해 보세요.\n",
    "\n",
    "scores = [88, 73, 89, 59, 77]\n",
    "\n",
    "scores[0]>=60 and scores[1]>=60 and scores[2]>=60\\\n",
    "    and scores[3]>=60 and scores[4]>=60"
   ]
  },
  {
   "cell_type": "code",
   "execution_count": 99,
   "id": "552b322c-20f3-4df1-bcdd-03765344d3e5",
   "metadata": {},
   "outputs": [
    {
     "name": "stdout",
     "output_type": "stream",
     "text": [
      "['b', 'c']\n"
     ]
    }
   ],
   "source": [
    "#리스트에 del 사용해보기\n",
    "\n",
    "alpha = ['a', 'b', 'c']\n",
    "del alpha[0]\n",
    "print(alpha)\n",
    "# ['b', 'c']"
   ]
  },
  {
   "cell_type": "code",
   "execution_count": 110,
   "id": "140e5eac-34e2-4333-a201-3af30b3f40a5",
   "metadata": {},
   "outputs": [
    {
     "name": "stdout",
     "output_type": "stream",
     "text": [
      "0.21483516693115234\n"
     ]
    }
   ],
   "source": [
    "import time\n",
    "\n",
    "start_time = time.time()\n",
    "test = []\n",
    "\n",
    "# 1,000,000번을 반복해서 tuple 만듭니다.\n",
    "for _ in range(1_000_000):\n",
    "    tp = (_, _) # tuple\n",
    "    test.append(tp)\n",
    "\n",
    "    #끝나는 시간 - 시작하는 시간\n",
    "print(time.time() - start_time)\n",
    "\n",
    "#동작하는 시간"
   ]
  },
  {
   "cell_type": "code",
   "execution_count": 111,
   "id": "c4b36c4f-46c5-4ded-976f-4b1ab9fa9d44",
   "metadata": {},
   "outputs": [
    {
     "name": "stdout",
     "output_type": "stream",
     "text": [
      "0.608726978302002\n"
     ]
    }
   ],
   "source": [
    "import time\n",
    "\n",
    "start_time = time.time()\n",
    "test = []\n",
    "\n",
    "for _ in range(1_000_000):\n",
    "    li = [_, _] # list\n",
    "    test.append(li)\n",
    "\n",
    "print(time.time() - start_time)\n",
    "\n",
    "# list가 시간이 더 많이 걸린다. tuple이 빠르다!\n",
    "# 동시성을 고려하면 tuple 적용 시켜야 할 때도 있음."
   ]
  },
  {
   "cell_type": "code",
   "execution_count": 119,
   "id": "b48088d7-823d-4dd2-aed3-d1fc4397e820",
   "metadata": {},
   "outputs": [],
   "source": [
    "s1, s2 = \"문도\""
   ]
  },
  {
   "cell_type": "code",
   "execution_count": 120,
   "id": "f6f0dee3-6e6f-4a0d-8440-1a0bff843c7d",
   "metadata": {},
   "outputs": [
    {
     "name": "stdout",
     "output_type": "stream",
     "text": [
      "문 도\n"
     ]
    }
   ],
   "source": [
    "print(s1, s2)"
   ]
  },
  {
   "cell_type": "code",
   "execution_count": 127,
   "id": "2d53d7fc-ab88-4d99-b4a5-1543d9d37cf0",
   "metadata": {},
   "outputs": [
    {
     "name": "stdin",
     "output_type": "stream",
     "text": [
      "Message:  1.2\n"
     ]
    },
    {
     "name": "stdout",
     "output_type": "stream",
     "text": [
      "input_value: 1 \n",
      "type: <class 'int'>\n"
     ]
    }
   ],
   "source": [
    "#input 사용해보기\n",
    "\n",
    "input_value = int(float(input(\"Message: \")))\n",
    "print(\"input_value:\", input_value, \"\\ntype:\", type(input_value))"
   ]
  },
  {
   "cell_type": "code",
   "execution_count": 128,
   "id": "869c7c8a-a4fa-4337-8b69-921189cfdb97",
   "metadata": {},
   "outputs": [
    {
     "name": "stdin",
     "output_type": "stream",
     "text": [
      "이름을 입력하시오: 이주현\n"
     ]
    },
    {
     "name": "stdout",
     "output_type": "stream",
     "text": [
      "이주현 씨, 안녕하세요?\n",
      "파이썬에 오신 것을 환영합니다.\n"
     ]
    },
    {
     "name": "stdin",
     "output_type": "stream",
     "text": [
      "첫번째 정수를 입력하세요: 300\n",
      "두번째 정수를 입력하세요: 400\n"
     ]
    },
    {
     "name": "stdout",
     "output_type": "stream",
     "text": [
      "300 과 400 의 합은 700 입니다.\n"
     ]
    }
   ],
   "source": [
    "#사용자의 이름을 물어보고\n",
    "#이어서 2개의 정수를 받아서 덧셈을 한 후\n",
    "#결과를 출력하는 프로그램을 작성해보세요\n",
    "\n",
    "name = input(\"이름을 입력하시오:\")\n",
    "print(name, \"씨, 안녕하세요?\\n파이썬에 오신 것을 환영합니다.\")\n",
    "num1 = int(input(\"첫번째 정수를 입력하세요:\"))\n",
    "num2 = int(input(\"두번째 정수를 입력하세요:\"))\n",
    "print(num1,\"과\", num2,\"의 합은\", num1+num2, \"입니다.\")"
   ]
  },
  {
   "cell_type": "code",
   "execution_count": 134,
   "id": "06dc0891-cea3-480f-9418-ed4ad613ecfa",
   "metadata": {},
   "outputs": [
    {
     "name": "stdin",
     "output_type": "stream",
     "text": [
      "경기장은 어디입니까? 고척\n",
      "이긴 팀은 어디입니까? KT\n",
      "진 팀은 어디입니까? LG\n",
      "우수 선수는 누구입니까? 강백호\n",
      "스코어는 몇대몇입니까? 10:9\n"
     ]
    },
    {
     "name": "stdout",
     "output_type": "stream",
     "text": [
      "\n",
      "\n",
      "[속보] KT 가 10:9 로 승리...\n",
      "오늘 고척 경기장에서 야구 경기가 있었습니다.\n",
      "KT 와 LG 는 치열한 공방전을 펼쳤습니다.\n",
      "이 경기에서 강백호가 맹활약을 했습니다.\n",
      "그 끝내 KT가 LG를 10:9 로 승리하였습니다.\n",
      "기사 끝.\n"
     ]
    }
   ],
   "source": [
    "#연습문제\n",
    "#경기장, 점수, 이긴 팀, 진팀, 우수 선수를 질문하고 변수에 저장\n",
    "#문자열에 문장을 붙여서 기사를 작성\n",
    "\n",
    "dorm = input(\"경기장은 어디입니까?\")\n",
    "vicTeam = input(\"이긴 팀은 어디입니까?\")\n",
    "failTeam = input(\"진 팀은 어디입니까?\")\n",
    "bestPlayer = input(\"우수 선수는 누구입니까?\")\n",
    "score = input(\"스코어는 몇대몇입니까?\")\n",
    "\n",
    "print(\"\\n\")\n",
    "print(\"[속보]\",vicTeam, \"가\",score,\"로 승리...\")\n",
    "print(\"오늘\",dorm,\"경기장에서 야구 경기가 있었습니다.\")\n",
    "print(vicTeam,\"와\", failTeam,\"는 치열한 공방전을 펼쳤습니다.\")\n",
    "print(\"이 경기에서\", bestPlayer+\"가 맹활약을 했습니다.\")\n",
    "print(\"그 끝내\", vicTeam+\"가\", failTeam+\"를\", score,\\\n",
    "      \"로 승리하였습니다.\\n기사 끝.\")"
   ]
  },
  {
   "cell_type": "code",
   "execution_count": 137,
   "id": "2a199b2d-76d3-4be8-b622-cee1f940d8ae",
   "metadata": {},
   "outputs": [
    {
     "name": "stdin",
     "output_type": "stream",
     "text": [
      "hh:mm:ss의 형태로 시간을 입력해 주세요. 11:22:33\n"
     ]
    },
    {
     "name": "stdout",
     "output_type": "stream",
     "text": [
      "\n",
      "실행 결과:\n",
      "시 : 11\n",
      "분 : 22\n",
      "초 : 33\n"
     ]
    }
   ],
   "source": [
    "(hour, min, sec) = \\\n",
    "input(\"hh:mm:ss의 형태로 시간을 입력해 주세요.\").split(':')\n",
    "\n",
    "print(\"\\n실행 결과:\\n시 :\", hour)\n",
    "print(\"분 :\", min)\n",
    "print(\"초 :\", sec)"
   ]
  },
  {
   "cell_type": "code",
   "execution_count": 176,
   "id": "deb94070-ef23-46c9-bc82-14369814c75c",
   "metadata": {},
   "outputs": [
    {
     "name": "stdin",
     "output_type": "stream",
     "text": [
      "입력해주세요: 10,10,20,20\n"
     ]
    },
    {
     "name": "stdout",
     "output_type": "stream",
     "text": [
      "10 10 20 20\n",
      "<class 'int'>\n",
      "평균 점수는 15.0 점 입니다.\n"
     ]
    }
   ],
   "source": [
    "#사용자 입력 값을 받고 list로 바꿔서 수치환산\n",
    "#평균 점수 구하기\n",
    "\n",
    "score = input(\"입력해주세요:\").split(',')\n",
    "\n",
    "kor, eng, mat, sci = map(int, score)\n",
    "\n",
    "print(kor, eng, mat, sci) #입력받은 것이 tuple 형식으로 배분됨\n",
    "print(type(kor)) #map 함수로 int 정상적으로 적용\n",
    "print(\"평균 점수는\", (kor+eng+mat+sci)/len(score), \"점 입니다.\")\n"
   ]
  },
  {
   "cell_type": "code",
   "execution_count": 179,
   "id": "a6465ff2-92c2-40c1-9775-dd866a947ab5",
   "metadata": {},
   "outputs": [
    {
     "name": "stdin",
     "output_type": "stream",
     "text": [
      "국어, 영어, 수학, 과학 점수를 입력해주세요: 98,100,96,100\n"
     ]
    },
    {
     "name": "stdout",
     "output_type": "stream",
     "text": [
      "실행 결과:\n",
      "평균 점수는 98.5 점 입니다.\n"
     ]
    }
   ],
   "source": [
    "#사용자 입력 값을 받고 list로 바꿔서 수치환산\n",
    "#평균 점수 구하기\n",
    "\n",
    "score = input(\"국어, 영어, 수학, 과학 점수를 입력해주세요:\").split(',')\n",
    "kor, eng, mat, sci = map(int, score)\n",
    "\n",
    "print(\"실행 결과:\")\n",
    "print(\"평균 점수는\", (kor+eng+mat+sci)/len(score), \"점 입니다.\")\n"
   ]
  },
  {
   "cell_type": "code",
   "execution_count": 183,
   "id": "69afdb1b-01b8-406a-bd87-5bcf9057a41f",
   "metadata": {},
   "outputs": [
    {
     "name": "stdin",
     "output_type": "stream",
     "text": [
      " 105\n"
     ]
    },
    {
     "ename": "ValueError",
     "evalue": "too many values to unpack (expected 2)",
     "output_type": "error",
     "traceback": [
      "\u001b[1;31m---------------------------------------------------------------------------\u001b[0m",
      "\u001b[1;31mValueError\u001b[0m                                Traceback (most recent call last)",
      "\u001b[1;32m~\\AppData\\Local\\Temp\\ipykernel_18972\\1313567695.py\u001b[0m in \u001b[0;36m<module>\u001b[1;34m\u001b[0m\n\u001b[1;32m----> 1\u001b[1;33m \u001b[0mA\u001b[0m\u001b[1;33m,\u001b[0m \u001b[0mB\u001b[0m \u001b[1;33m=\u001b[0m \u001b[0mmap\u001b[0m\u001b[1;33m(\u001b[0m\u001b[0mint\u001b[0m\u001b[1;33m,\u001b[0m\u001b[0minput\u001b[0m\u001b[1;33m(\u001b[0m\u001b[1;33m)\u001b[0m\u001b[1;33m)\u001b[0m\u001b[1;33m\u001b[0m\u001b[1;33m\u001b[0m\u001b[0m\n\u001b[0m\u001b[0;32m      2\u001b[0m \u001b[0mprint\u001b[0m\u001b[1;33m(\u001b[0m\u001b[0mA\u001b[0m\u001b[1;33m+\u001b[0m\u001b[0mB\u001b[0m\u001b[1;33m)\u001b[0m\u001b[1;33m\u001b[0m\u001b[1;33m\u001b[0m\u001b[0m\n",
      "\u001b[1;31mValueError\u001b[0m: too many values to unpack (expected 2)"
     ]
    }
   ],
   "source": [
    "A, B = map(int,input())\n",
    "print(A+B)"
   ]
  },
  {
   "cell_type": "code",
   "execution_count": null,
   "id": "d374f163-b4cb-492a-a414-9d1bfe9b05ea",
   "metadata": {},
   "outputs": [],
   "source": []
  },
  {
   "cell_type": "code",
   "execution_count": null,
   "id": "88c1de3a-2420-4110-b61a-756ce72d1041",
   "metadata": {},
   "outputs": [],
   "source": [
    "#230215"
   ]
  },
  {
   "cell_type": "code",
   "execution_count": 24,
   "id": "f21075fe-7055-4578-b010-f665bee6dc57",
   "metadata": {},
   "outputs": [
    {
     "name": "stdout",
     "output_type": "stream",
     "text": [
      "2021/02/03 18:33:23\n"
     ]
    }
   ],
   "source": [
    "#sep, end 사용하기\n",
    "#연습문제\n",
    "\n",
    "year = '2021'\n",
    "month = '02'\n",
    "day = '03'\n",
    "hour = '18'\n",
    "minute = '33'\n",
    "second = '23'\n",
    "\n",
    "print(year, month, day, sep='/', end=' ')\n",
    "print(hour, minute, second, sep=':')"
   ]
  },
  {
   "cell_type": "code",
   "execution_count": 54,
   "id": "248ed1cc-446a-4971-8d68-63e13997693f",
   "metadata": {},
   "outputs": [
    {
     "name": "stdin",
     "output_type": "stream",
     "text": [
      "사과와 귤을 몇개 드릴까요? 10,20\n"
     ]
    },
    {
     "name": "stdout",
     "output_type": "stream",
     "text": [
      "총 가격은 14000원입니다.\n"
     ]
    }
   ],
   "source": [
    "#연습문제\n",
    "#사과는 하나에 1000원, 귤은 하나에 200원, 총액 계산\n",
    "# input() 1회 작성, 입력 방식: 10,20\n",
    "# map(), split() 활용\n",
    "# 총 액수와 '원입니다.'는 붙여서 출력\n",
    "\n",
    "num = input(\"사과와 귤을 몇개 드릴까요?\").split(',')\n",
    "                            #입력값이 10,20 형식이어야 함.\n",
    "apple, mandarin = map(int, num)    #map(일괄 적용할 함수, 리스트나 변수)\n",
    "\n",
    "print('총 가격은 ', apple*1000+mandarin*200, '원입니다.',sep=(''))"
   ]
  },
  {
   "cell_type": "code",
   "execution_count": 64,
   "id": "a40dbcee-e05e-40de-a0ad-f462ee9296da",
   "metadata": {},
   "outputs": [
    {
     "name": "stdout",
     "output_type": "stream",
     "text": [
      "10\n",
      "10 20 30\n",
      "101  292  34  345\n"
     ]
    }
   ],
   "source": [
    "#format() 사용하기\n",
    "#중괄호 개수와 format() 메서드의 인수의 개수 차이가 나면 안 됨!!\n",
    "#초과되는 인수는 버려짐, 부족하면 에러남(IndexError)\n",
    "\n",
    "print(\"{}\".format(10))\n",
    "print('{} {} {}'.format(10,20,30))\n",
    "print('{}  {}  {}  {}'.format(101,292,34,345))"
   ]
  },
  {
   "cell_type": "code",
   "execution_count": 63,
   "id": "bdc45df0-e66b-414c-82ff-5f6f3fe92c7c",
   "metadata": {},
   "outputs": [
    {
     "name": "stdout",
     "output_type": "stream",
     "text": [
      "오늘의 날짜를 알려드립니다!\n",
      "2023년 2월 15일입니다.\n"
     ]
    }
   ],
   "source": [
    "#format과 삼중 따옴표 사용\n",
    "\n",
    "import time\n",
    "\n",
    "today = \"\"\"오늘의 날짜를 알려드립니다!\n",
    "{}년 {}월 {}일입니다.\\\n",
    "\"\"\".format(time.localtime().tm_year,\n",
    "           time.localtime().tm_mon,\n",
    "           time.localtime().tm_mday)\n",
    "\n",
    "print(today)"
   ]
  },
  {
   "cell_type": "code",
   "execution_count": 68,
   "id": "8257857c-df2a-485f-b48e-ee4d6e591407",
   "metadata": {},
   "outputs": [
    {
     "name": "stdout",
     "output_type": "stream",
     "text": [
      "10\n",
      "안     녕   하시렵니      까\n"
     ]
    }
   ],
   "source": [
    "#문자열의 f-string\n",
    "a='안'\n",
    "b='녕'\n",
    "c='하시렵니'\n",
    "\n",
    "print(f'{10}')\n",
    "print(f'{a}     {b}   {c}      {\"까\"}')\n",
    "                #중괄호 안에 '~~'문자열은 따옴표 달라야 됨"
   ]
  },
  {
   "cell_type": "code",
   "execution_count": 82,
   "id": "1fe49cc2-c7be-4b78-bbe4-7f2a693f361f",
   "metadata": {},
   "outputs": [
    {
     "name": "stdout",
     "output_type": "stream",
     "text": [
      "오늘의 날짜를 알려드립니다!\n",
      "2023년 2월 15일입니다.\n"
     ]
    }
   ],
   "source": [
    "#문자열의 f-string과 삼중따옴표\n",
    "\n",
    "import time\n",
    "\n",
    "today = f'''오늘의 날짜를 알려드립니다!\n",
    "{time.localtime().tm_year}년 {time.localtime().tm_mon}월 \\\n",
    "{time.localtime().tm_mday}일입니다.\\\n",
    "'''\n",
    "\n",
    "#줄바꿈 방지는 \\\n",
    "#줄바꿈은 \\n\n",
    "\n",
    "print(today)"
   ]
  },
  {
   "cell_type": "code",
   "execution_count": 88,
   "id": "c081595d-18b1-48b6-9866-92b9a2eca5f3",
   "metadata": {},
   "outputs": [
    {
     "data": {
      "text/plain": [
       "True"
      ]
     },
     "execution_count": 88,
     "metadata": {},
     "output_type": "execute_result"
    }
   ],
   "source": [
    "#is 키워드\n",
    "\n",
    "#좌 is 우\n",
    "#좌우 객체를 비교하여 동일한 종류의 객체라면 True, 다르면 False\n",
    "\n",
    "value1= 3\n",
    "value2= 4\n",
    "type(value1) is int\n",
    "# type(value1) is 5 ->error\n",
    "type(value1) is type(value2)"
   ]
  },
  {
   "cell_type": "code",
   "execution_count": 99,
   "id": "db90634e-fb83-481d-b930-ceb4643b4fbf",
   "metadata": {},
   "outputs": [
    {
     "name": "stdin",
     "output_type": "stream",
     "text": [
      "아이디를 입력하세요 : ddd\n",
      "회원 등급을 입력해주세요 : 0\n"
     ]
    },
    {
     "name": "stdout",
     "output_type": "stream",
     "text": [
      "권한이 없습니다.\n"
     ]
    }
   ],
   "source": [
    "#아이디를 입력 받고 admin이면 관리자 권한, 또는 권한이 있다는 안내문 출력\n",
    "\n",
    "ID = input('아이디를 입력하세요 :')\n",
    "\n",
    "if ID == 'admin':\n",
    "    print('최고 관리자, 모든 권한을 갖습니다.')\n",
    "else:\n",
    "    level = int(input('회원 등급을 입력해주세요 :'))\n",
    "    if 1 <= level <= 3:\n",
    "        print('제한적인 권한을 갖습니다.')\n",
    "    else:\n",
    "        print('권한이 없습니다.')"
   ]
  },
  {
   "cell_type": "code",
   "execution_count": 7,
   "id": "9622e74f-324e-4e18-8012-9ebd203949ec",
   "metadata": {},
   "outputs": [
    {
     "name": "stdin",
     "output_type": "stream",
     "text": [
      "자연수 하나 입력해주세요: 55\n"
     ]
    },
    {
     "name": "stdout",
     "output_type": "stream",
     "text": [
      "5\n"
     ]
    }
   ],
   "source": [
    "#사용자로부터 자연수를 입력받고\n",
    "# 50을 뺀 값을 출력, 단 음수가 되면 0 출력\n",
    "# 실행 결과: 자연수 하나 입력해주세요:\n",
    "\n",
    "num = int(input(\"자연수 하나 입력해주세요:\"))\n",
    "if num<50:\n",
    "    print(0)\n",
    "else:\n",
    "    print(num-50)"
   ]
  },
  {
   "cell_type": "code",
   "execution_count": 14,
   "id": "002238de-da99-4536-a758-b295dffb2381",
   "metadata": {},
   "outputs": [
    {
     "name": "stdin",
     "output_type": "stream",
     "text": [
      "입력하세요 40\n"
     ]
    },
    {
     "name": "stdout",
     "output_type": "stream",
     "text": [
      "0\n"
     ]
    }
   ],
   "source": [
    "# 모범~답안\n",
    "num = int(input(\"입력하세요\"))\n",
    "\n",
    "result = num - 50\n",
    "\n",
    "if result <0:\n",
    "    result = 0\n",
    "\n",
    "print(result)"
   ]
  },
  {
   "cell_type": "code",
   "execution_count": 15,
   "id": "d1995560-43a0-4c52-ad73-b8a8691c8a32",
   "metadata": {},
   "outputs": [
    {
     "name": "stdin",
     "output_type": "stream",
     "text": [
      "자연수 하나 입력해 주세요: 55\n"
     ]
    },
    {
     "name": "stdout",
     "output_type": "stream",
     "text": [
      "홀수입니다.\n"
     ]
    }
   ],
   "source": [
    "#연습문제 \n",
    "\n",
    "#자연수 입력 받고\n",
    "#짝수인지 홀수인지 화면에 출력\n",
    "\n",
    "num1 = int(input(\"자연수 하나 입력해 주세요:\"))\n",
    "\n",
    "if num1%2 ==0:    # %는 나머지를 구하는 기호\n",
    "    print(\"짝수입니다.\")\n",
    "else:\n",
    "    print(\"홀수입니다.\")"
   ]
  },
  {
   "cell_type": "code",
   "execution_count": 19,
   "id": "be8d91a6-9187-4a4e-8c5c-f068d9b76713",
   "metadata": {},
   "outputs": [
    {
     "name": "stdin",
     "output_type": "stream",
     "text": [
      "소프트웨어 설계 점수를 입력하세요. -7\n",
      "소프트웨어 개발 점수를 입력하세요. 5\n",
      "데이터베이스 구축 점수를 입력하세요. 68\n",
      "프로그래밍 언어 활용 점수를 입력하세요. 56\n",
      "정보시스템 구축관리 점수를 입력하세요. 100\n"
     ]
    },
    {
     "name": "stdout",
     "output_type": "stream",
     "text": [
      "잘못된 점수입니다.\n"
     ]
    }
   ],
   "source": [
    "#사용자로부터 과목별 점수를 입력 받고\n",
    "#과목 평균 점수가 60점 이상일 때 합격\n",
    "# 평균 점수에 따라 합격, 불합격을 출력하는 프로그램\n",
    "\n",
    "sw1 = int(input(\"소프트웨어 설계 점수를 입력하세요.\"))\n",
    "sw2 = int(input(\"소프트웨어 개발 점수를 입력하세요.\"))\n",
    "db1 = int(input(\"데이터베이스 구축 점수를 입력하세요.\"))\n",
    "pl1 = int(input(\"프로그래밍 언어 활용 점수를 입력하세요.\"))\n",
    "sy1 = int(input(\"정보시스템 구축관리 점수를 입력하세요.\"))\n",
    "\n",
    "sumScore = 0\n",
    "midScore = 0\n",
    "\n",
    "if sw1>=0 and sw1<=100:\n",
    "    sumScore += sw1\n",
    "    if sw2>=0 and sw2<=100:\n",
    "        sumScore += sw2\n",
    "        if db1>=0 and db1<=100:\n",
    "            sumScore += db1\n",
    "            if pl1>=0 and pl1<=100:\n",
    "                sumScore += pl1\n",
    "                if sy1>=0 and sy1<=100:\n",
    "                    sumScore +=sy1\n",
    "                    midScore = sumScore/5\n",
    "                    if midScore>=60:\n",
    "                        print(\"합격\")\n",
    "                    else: print(\"불합격\")\n",
    "                else: print(\"잘못된 점수입니다.\")\n",
    "            else: print(\"잘못된 점수입니다.\")\n",
    "        else: print(\"잘못된 점수입니다.\")\n",
    "    else: print(\"잘못된 점수입니다.\")\n",
    "else: print(\"잘못된 점수입니다.\")\n"
   ]
  },
  {
   "cell_type": "code",
   "execution_count": 22,
   "id": "3181bd1a-51fc-45dd-8db9-4dfcb48a866a",
   "metadata": {},
   "outputs": [
    {
     "name": "stdin",
     "output_type": "stream",
     "text": [
      "현재 물의 온도를 입력해 주세요. 456\n"
     ]
    },
    {
     "name": "stdout",
     "output_type": "stream",
     "text": [
      "기체로 예상됩니다.\n"
     ]
    }
   ],
   "source": [
    "#물의 온도에 따라 현재 상태로 출력하는 프로그램\n",
    "\n",
    "water = float(input(\"현재 물의 온도를 입력해 주세요.\"))\n",
    "if water<0:\n",
    "    print(\"고체로 예상됩니다.\")\n",
    "elif water>100:\n",
    "    print(\"기체로 예상됩니다.\")\n",
    "else:\n",
    "    print(\"액체로 예상됩니다.\")"
   ]
  },
  {
   "cell_type": "code",
   "execution_count": 28,
   "id": "bbd47da5-3c35-4331-8954-c7032e656496",
   "metadata": {},
   "outputs": [
    {
     "name": "stdin",
     "output_type": "stream",
     "text": [
      "자신의 나이를 입력하세요. 15\n"
     ]
    },
    {
     "name": "stdout",
     "output_type": "stream",
     "text": [
      "1100원입니다.\n"
     ]
    }
   ],
   "source": [
    "#시내버스 요금 연습문제\n",
    "#19세 이상 1500원 / 청소년 12-18세 1100원 / 어린이 6-11세 800원 / 미취학 아동 무료\n",
    "\n",
    "age = int(input(\"자신의 나이를 입력하세요.\"))\n",
    "if age>=19:\n",
    "    print(\"1500원입니다.\")\n",
    "elif age>=12:\n",
    "    print(\"1100원입니다.\")\n",
    "elif age>=6:\n",
    "    print(\"800원입니다.\")\n",
    "else:\n",
    "    print(\"무료입니다.\")"
   ]
  },
  {
   "cell_type": "code",
   "execution_count": 57,
   "id": "bd9d11c4-f4b5-4220-8485-5b07fc483155",
   "metadata": {},
   "outputs": [
    {
     "name": "stdin",
     "output_type": "stream",
     "text": [
      "발주 수량을 입력하세요: 2001\n"
     ]
    },
    {
     "name": "stdout",
     "output_type": "stream",
     "text": [
      "2001개를 주문하셨습니다.\n",
      "적용 할인율은 20%입니다.\n",
      "총 발주 금액은 $16008입니다.\n"
     ]
    }
   ],
   "source": [
    "#납품 문제\n",
    "#A사는 B사에 C상품($10/개) 납품함\n",
    "#수량할인 1000이상 1500이하 5% 할인\n",
    "#1500 초과 2000 이하 10% 할인\n",
    "# 2000 초과 20% 할인 소수점은 버림\n",
    "\n",
    "# 발주수량을 입력하세요:\n",
    "# 00개를 주문하셨습니다.\n",
    "#적용 할인율은 00%입니다.\n",
    "#총 발주금액은 $00입니다. \n",
    "\n",
    "count = int(input(\"발주 수량을 입력하세요:\"))\n",
    "print( count,'개를 주문하셨습니다.', sep=(''))\n",
    "\n",
    "if count> 2000:\n",
    "    #print(\"적용 할인율은 20%입니다.\")\n",
    "    sale = 0.2\n",
    "elif count>1500:\n",
    "    #print(\"적용 할인율은 10%입니다.\")\n",
    "    sale = 0.1\n",
    "elif count>=1000 :\n",
    "    #print(\"적용 할인율은 5%입니다.\") -> 한 줄로 합치기\n",
    "    sale = 0.05\n",
    "else:\n",
    "    sale = 0\n",
    "\n",
    "print('적용 할인율은 ', int(sale*100),'%입니다.',sep=(''))\n",
    "print(\"총 발주 금액은 $\", int(count*(1-sale)*10),\"입니다.\",sep=(''))"
   ]
  },
  {
   "cell_type": "code",
   "execution_count": 4,
   "id": "169dd7df-7c6a-47fb-a68f-75c279f836d7",
   "metadata": {},
   "outputs": [
    {
     "name": "stdin",
     "output_type": "stream",
     "text": [
      "발주 수량을 입력하세요: 56545\n"
     ]
    },
    {
     "name": "stdout",
     "output_type": "stream",
     "text": [
      "56545개를 주문하셨습니다.\n",
      "적용할인율은 20%입니다.\n",
      "총 발주 금액은 $452360입니다.\n"
     ]
    }
   ],
   "source": [
    "#납품 문제\n",
    "#A사는 B사에 C상품($10/개) 납품함\n",
    "#수량할인 1000이상 1500이하 5% 할인\n",
    "#1500 초과 2000 이하 10% 할인\n",
    "# 2000 초과 20% 할인 소수점은 버림\n",
    "\n",
    "# 발주수량을 입력하세요:\n",
    "# 00개를 주문하셨습니다.\n",
    "#적용 할인율은 00%입니다.\n",
    "#총 발주금액은 $00입니다. \n",
    "\n",
    "#위에 거 format 문으로 작성해보기\n",
    "\n",
    "price = 10 # $10/개\n",
    "\n",
    "count = int(input(\"발주 수량을 입력하세요:\"))\n",
    "print( count,'개를 주문하셨습니다.', sep=(''))\n",
    "\n",
    "if count> 2000:\n",
    "    sale = 20\n",
    "elif count>1500:\n",
    "    sale = 10\n",
    "elif count>=1000 :\n",
    "    sale = 5\n",
    "else:\n",
    "    sale = 0\n",
    "\n",
    "\n",
    "print(f'적용할인율은 {sale}%입니다.')\n",
    "print(f'총 발주 금액은 ${int(price*count*(1-sale/100))}입니다.')"
   ]
  },
  {
   "cell_type": "code",
   "execution_count": 69,
   "id": "c5afcbaf-fffe-4deb-9acc-5129b88665e0",
   "metadata": {},
   "outputs": [
    {
     "name": "stdin",
     "output_type": "stream",
     "text": [
      "주민번호 뒷자리를 입력하세요: 2485631\n"
     ]
    },
    {
     "name": "stdout",
     "output_type": "stream",
     "text": [
      "여자\n"
     ]
    }
   ],
   "source": [
    "#주민등록번호 뒷 7자리 중 1,3이면 남자\n",
    "#2,4인 경우 여자, 성별을 확인하는 프로그램\n",
    "# 7자리가 아니면 자리수를 잘못입력햇습니다\n",
    "# 1234가 아니면 잘못된 입력입니다 출력\n",
    "\n",
    "personNum = input('주민번호 뒷자리를 입력하세요:')\n",
    "firstNum = int(personNum[0])\n",
    "\n",
    "if len(personNum) != 7 :\n",
    "    print('자리수를 잘못 입력했습니다.')\n",
    "#else\n",
    "    # firstNum = int(personNum[0]) else로 자르고 여기에 있어도 됨\n",
    "#if first~\n",
    "elif firstNum==1 or firstNum==3:\n",
    "    print('남자')\n",
    "elif firstNum==2 or firstNum==4:\n",
    "    print('여자')\n",
    "else:\n",
    "    print('잘못된 입력입니다.')"
   ]
  },
  {
   "cell_type": "code",
   "execution_count": 79,
   "id": "9d99222b-8495-4292-ba74-bb63db6e69de",
   "metadata": {},
   "outputs": [
    {
     "name": "stdin",
     "output_type": "stream",
     "text": [
      "확인할 연도를 입력하세요: 1900\n"
     ]
    },
    {
     "name": "stdout",
     "output_type": "stream",
     "text": [
      "평년입니다.\n"
     ]
    }
   ],
   "source": [
    "#윤년 구하기\n",
    "#연도 값을 입력 받고 윤년인지 아닌지 결과를 출력\n",
    "\n",
    "#연도가 4로 나누어 떨어지는 경우: 윤년, 그 밖의 해: 평년\n",
    "#예외 규칙: 100으로 나누어 떨어지되, 400으로 나누어 떨어지지 않는 해: 평년\n",
    "#ex) 1900년도는 100으로 나누어 떨어지지만 400으로 나누어 떨어지지 않음\n",
    "\n",
    "year = int(input('확인할 연도를 입력하세요:'))\n",
    "if year%4 == 0:\n",
    "    moon = '윤년'\n",
    "    if year%100 ==0 and year%400 !=0:\n",
    "        moon = '평년'\n",
    "else:\n",
    "    moon = '평년'\n",
    "\n",
    "print(moon+'입니다.')"
   ]
  },
  {
   "cell_type": "code",
   "execution_count": 95,
   "id": "a68704ad-257f-40a1-8dd4-382412b13908",
   "metadata": {},
   "outputs": [
    {
     "name": "stdin",
     "output_type": "stream",
     "text": [
      "확인할 연도를 입력하세요: 1900\n"
     ]
    },
    {
     "name": "stdout",
     "output_type": "stream",
     "text": [
      "평년입니다.\n"
     ]
    }
   ],
   "source": [
    "#if 한 번만 쓰기\n",
    "\n",
    "year = int(input('확인할 연도를 입력하세요:'))\n",
    "\n",
    "if (year%100 ==0 and year%400 !=0) or year%4!=0:\n",
    "    moon = '평년'\n",
    "else:\n",
    "    moon = '윤년'\n",
    "\n",
    "print(moon+'입니다.')"
   ]
  },
  {
   "cell_type": "code",
   "execution_count": null,
   "id": "98532c4c-ca66-4a45-8815-16f713d08e7f",
   "metadata": {},
   "outputs": [],
   "source": []
  },
  {
   "cell_type": "code",
   "execution_count": 2,
   "id": "ddd199b4-922b-450a-a4dd-feaee6bd2596",
   "metadata": {},
   "outputs": [
    {
     "name": "stdout",
     "output_type": "stream",
     "text": [
      "hello\n",
      "hello\n",
      "hello\n",
      "hello\n",
      "hello\n",
      "hello\n",
      "hello\n",
      "hello\n",
      "hello\n",
      "hello\n"
     ]
    }
   ],
   "source": [
    "#list와 range가 동작하는 큰 차이점\n",
    "\n",
    "#list는 Memory에 모든 값을 다 만들어 놓고 메모리 차지함.\n",
    "#range는 만들 것을 알고 있으니까 필요할 때마다 만들어서 그때그때 제공\n",
    "#메모리 적으로 range가 조금 더 효율적\n",
    "\n",
    "for n in range(10):\n",
    "    # range는 0에서 9까지 생성함.\n",
    "    print(\"hello\")\n"
   ]
  },
  {
   "cell_type": "code",
   "execution_count": null,
   "id": "a3ef80a0-8110-4ebb-b04b-43de8af87942",
   "metadata": {},
   "outputs": [],
   "source": []
  }
 ],
 "metadata": {
  "kernelspec": {
   "display_name": "Python 3 (ipykernel)",
   "language": "python",
   "name": "python3"
  },
  "language_info": {
   "codemirror_mode": {
    "name": "ipython",
    "version": 3
   },
   "file_extension": ".py",
   "mimetype": "text/x-python",
   "name": "python",
   "nbconvert_exporter": "python",
   "pygments_lexer": "ipython3",
   "version": "3.9.13"
  }
 },
 "nbformat": 4,
 "nbformat_minor": 5
}
