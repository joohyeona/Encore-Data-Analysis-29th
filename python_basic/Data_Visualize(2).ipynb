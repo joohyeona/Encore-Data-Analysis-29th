{
 "cells": [
  {
   "cell_type": "code",
   "execution_count": 1,
   "id": "d38d87ea-e36b-4644-a557-3f37c8308d82",
   "metadata": {},
   "outputs": [
    {
     "data": {
      "text/plain": [
       "'C:\\\\python'"
      ]
     },
     "execution_count": 1,
     "metadata": {},
     "output_type": "execute_result"
    }
   ],
   "source": [
    "%pwd"
   ]
  },
  {
   "cell_type": "code",
   "execution_count": 2,
   "id": "8cb4f8c8-80c4-432c-9301-dbf8d63cb6a3",
   "metadata": {},
   "outputs": [],
   "source": [
    "import matplotlib as mpl\n",
    "import matplotlib.pyplot as plt\n",
    "import matplotlib.font_manager as fm"
   ]
  },
  {
   "cell_type": "code",
   "execution_count": null,
   "id": "fac90453-ede8-4cc1-98ee-96f435f32df7",
   "metadata": {},
   "outputs": [],
   "source": [
    "# 시스템 폰트 경로 리스트\n",
    "\n",
    "font_list = mpl.font_manager.findSystemFonts()\n",
    "print(font_list)"
   ]
  },
  {
   "cell_type": "code",
   "execution_count": 72,
   "id": "492026a0-bd4d-4c70-8f62-df2a152dc627",
   "metadata": {},
   "outputs": [],
   "source": [
    "#폰트 설정하기\n",
    "\n",
    "prop = mpl.font_manager.FontProperties(fname='C:\\python\\fonts')\n",
    "plt.rcParams['font.family'] = prop.get_family()"
   ]
  },
  {
   "cell_type": "code",
   "execution_count": 73,
   "id": "30b1deb0-ba2d-4c0b-8422-1b23cb131d24",
   "metadata": {},
   "outputs": [
    {
     "name": "stdout",
     "output_type": "stream",
     "text": [
      "NeoDunggeunmo Pro\n",
      "D2Coding\n",
      "D2Coding\n",
      "HYSinMyeongJo-Medium\n",
      "MS Gothic\n",
      "D2Coding\n"
     ]
    }
   ],
   "source": [
    "# Path 중간에 한글 경로가 포함되는지 꼭 확인합니다. 만약 있다면 이를 지양합니다.\n",
    "\n",
    "import matplotlib as mpl\n",
    "# Add every font at the specified location\n",
    "font_dir = ['./fonts']\n",
    "for font in mpl.font_manager.findSystemFonts(fontpaths=font_dir):\n",
    "    print(mpl.font_manager.FontProperties(fname=font).get_name())\n",
    "    mpl.font_manager.fontManager.addfont(font)"
   ]
  },
  {
   "cell_type": "code",
   "execution_count": 74,
   "id": "53d02377-69eb-476e-8d1d-57a84cce99f9",
   "metadata": {},
   "outputs": [
    {
     "name": "stdout",
     "output_type": "stream",
     "text": [
      "['NeoDunggeunmo Pro']\n"
     ]
    }
   ],
   "source": [
    "# Set font family globally\n",
    "mpl.rcParams['font.family'] = 'NeoDunggeunmo Pro'\n",
    "print(mpl.rcParams['font.family'])"
   ]
  },
  {
   "cell_type": "code",
   "execution_count": 75,
   "id": "c4583c63-5278-4789-b993-5c789b7f57ba",
   "metadata": {},
   "outputs": [],
   "source": [
    "# mpl.rc('font', family='폰트명') 메서드를 통한 설정으로 전체 범위에 대해 적용하기\n",
    "# fontdict keyword argument를 이용해서 세부적으로 적용하는 방법\n",
    "\n",
    "global_font = {'family': 'NeoDunggeunmo Pro', 'size':12, 'weight': 'bold'}\n",
    "\n",
    "#폰트 설정\n",
    "mpl.rc('font', **global_font) # pass in the font dict as kwargs"
   ]
  },
  {
   "cell_type": "code",
   "execution_count": 76,
   "id": "a07dbbff-da90-498b-a9ce-aeb116f7b901",
   "metadata": {},
   "outputs": [],
   "source": [
    "# 유니코드에서 음수 부호설정\n",
    "mpl.rc('axes', unicode_minus= False)\n",
    "\n",
    "#Unicode minus －1\n",
    "#ASCII hypen    -1  암튼 약간 다름"
   ]
  },
  {
   "cell_type": "code",
   "execution_count": 77,
   "id": "47140f29-0dfb-4e48-97cd-9b71a0f97bae",
   "metadata": {},
   "outputs": [],
   "source": [
    "%matplotlib inline"
   ]
  },
  {
   "cell_type": "markdown",
   "id": "cd042aa5-be48-4937-964f-044383fa9c9b",
   "metadata": {
    "tags": []
   },
   "source": [
    "# Stack Overflow Annual Developer Survey"
   ]
  },
  {
   "cell_type": "markdown",
   "id": "00fa48c4-97c8-4553-824b-73fae8ef4d3a",
   "metadata": {},
   "source": [
    "https://insights.stackoverflow.com/survey"
   ]
  },
  {
   "cell_type": "code",
   "execution_count": 78,
   "id": "5086b3b7-31ff-4cc0-87f1-949142496b91",
   "metadata": {},
   "outputs": [],
   "source": [
    "import pandas as pd\n",
    "import seaborn as sns\n",
    "import numpy as np\n",
    "import matplotlib as mpl\n",
    "import matplotlib.pyplot as plt"
   ]
  },
  {
   "cell_type": "code",
   "execution_count": 11,
   "id": "a8d0a9ae-f6fa-4535-a206-23b1880f5429",
   "metadata": {},
   "outputs": [
    {
     "data": {
      "text/html": [
       "<div>\n",
       "<style scoped>\n",
       "    .dataframe tbody tr th:only-of-type {\n",
       "        vertical-align: middle;\n",
       "    }\n",
       "\n",
       "    .dataframe tbody tr th {\n",
       "        vertical-align: top;\n",
       "    }\n",
       "\n",
       "    .dataframe thead th {\n",
       "        text-align: right;\n",
       "    }\n",
       "</style>\n",
       "<table border=\"1\" class=\"dataframe\">\n",
       "  <thead>\n",
       "    <tr style=\"text-align: right;\">\n",
       "      <th></th>\n",
       "      <th>MainBranch</th>\n",
       "      <th>Employment</th>\n",
       "      <th>RemoteWork</th>\n",
       "      <th>CodingActivities</th>\n",
       "      <th>EdLevel</th>\n",
       "      <th>LearnCode</th>\n",
       "      <th>LearnCodeOnline</th>\n",
       "      <th>LearnCodeCoursesCert</th>\n",
       "      <th>YearsCode</th>\n",
       "      <th>YearsCodePro</th>\n",
       "      <th>...</th>\n",
       "      <th>TimeSearching</th>\n",
       "      <th>TimeAnswering</th>\n",
       "      <th>Onboarding</th>\n",
       "      <th>ProfessionalTech</th>\n",
       "      <th>TrueFalse_1</th>\n",
       "      <th>TrueFalse_2</th>\n",
       "      <th>TrueFalse_3</th>\n",
       "      <th>SurveyLength</th>\n",
       "      <th>SurveyEase</th>\n",
       "      <th>ConvertedCompYearly</th>\n",
       "    </tr>\n",
       "    <tr>\n",
       "      <th>ResponseId</th>\n",
       "      <th></th>\n",
       "      <th></th>\n",
       "      <th></th>\n",
       "      <th></th>\n",
       "      <th></th>\n",
       "      <th></th>\n",
       "      <th></th>\n",
       "      <th></th>\n",
       "      <th></th>\n",
       "      <th></th>\n",
       "      <th></th>\n",
       "      <th></th>\n",
       "      <th></th>\n",
       "      <th></th>\n",
       "      <th></th>\n",
       "      <th></th>\n",
       "      <th></th>\n",
       "      <th></th>\n",
       "      <th></th>\n",
       "      <th></th>\n",
       "      <th></th>\n",
       "    </tr>\n",
       "  </thead>\n",
       "  <tbody>\n",
       "    <tr>\n",
       "      <th>1</th>\n",
       "      <td>None of these</td>\n",
       "      <td>NaN</td>\n",
       "      <td>NaN</td>\n",
       "      <td>NaN</td>\n",
       "      <td>NaN</td>\n",
       "      <td>NaN</td>\n",
       "      <td>NaN</td>\n",
       "      <td>NaN</td>\n",
       "      <td>NaN</td>\n",
       "      <td>NaN</td>\n",
       "      <td>...</td>\n",
       "      <td>NaN</td>\n",
       "      <td>NaN</td>\n",
       "      <td>NaN</td>\n",
       "      <td>NaN</td>\n",
       "      <td>NaN</td>\n",
       "      <td>NaN</td>\n",
       "      <td>NaN</td>\n",
       "      <td>NaN</td>\n",
       "      <td>NaN</td>\n",
       "      <td>NaN</td>\n",
       "    </tr>\n",
       "    <tr>\n",
       "      <th>2</th>\n",
       "      <td>I am a developer by profession</td>\n",
       "      <td>Employed, full-time</td>\n",
       "      <td>Fully remote</td>\n",
       "      <td>Hobby;Contribute to open-source projects</td>\n",
       "      <td>NaN</td>\n",
       "      <td>NaN</td>\n",
       "      <td>NaN</td>\n",
       "      <td>NaN</td>\n",
       "      <td>NaN</td>\n",
       "      <td>NaN</td>\n",
       "      <td>...</td>\n",
       "      <td>NaN</td>\n",
       "      <td>NaN</td>\n",
       "      <td>NaN</td>\n",
       "      <td>NaN</td>\n",
       "      <td>NaN</td>\n",
       "      <td>NaN</td>\n",
       "      <td>NaN</td>\n",
       "      <td>Too long</td>\n",
       "      <td>Difficult</td>\n",
       "      <td>NaN</td>\n",
       "    </tr>\n",
       "    <tr>\n",
       "      <th>3</th>\n",
       "      <td>I am not primarily a developer, but I write co...</td>\n",
       "      <td>Employed, full-time</td>\n",
       "      <td>Hybrid (some remote, some in-person)</td>\n",
       "      <td>Hobby</td>\n",
       "      <td>Master’s degree (M.A., M.S., M.Eng., MBA, etc.)</td>\n",
       "      <td>Books / Physical media;Friend or family member...</td>\n",
       "      <td>Technical documentation;Blogs;Programming Game...</td>\n",
       "      <td>NaN</td>\n",
       "      <td>14</td>\n",
       "      <td>5</td>\n",
       "      <td>...</td>\n",
       "      <td>NaN</td>\n",
       "      <td>NaN</td>\n",
       "      <td>NaN</td>\n",
       "      <td>NaN</td>\n",
       "      <td>NaN</td>\n",
       "      <td>NaN</td>\n",
       "      <td>NaN</td>\n",
       "      <td>Appropriate in length</td>\n",
       "      <td>Neither easy nor difficult</td>\n",
       "      <td>40205.0</td>\n",
       "    </tr>\n",
       "    <tr>\n",
       "      <th>4</th>\n",
       "      <td>I am a developer by profession</td>\n",
       "      <td>Employed, full-time</td>\n",
       "      <td>Fully remote</td>\n",
       "      <td>I don’t code outside of work</td>\n",
       "      <td>Bachelor’s degree (B.A., B.S., B.Eng., etc.)</td>\n",
       "      <td>Books / Physical media;School (i.e., Universit...</td>\n",
       "      <td>NaN</td>\n",
       "      <td>NaN</td>\n",
       "      <td>20</td>\n",
       "      <td>17</td>\n",
       "      <td>...</td>\n",
       "      <td>NaN</td>\n",
       "      <td>NaN</td>\n",
       "      <td>NaN</td>\n",
       "      <td>NaN</td>\n",
       "      <td>NaN</td>\n",
       "      <td>NaN</td>\n",
       "      <td>NaN</td>\n",
       "      <td>Appropriate in length</td>\n",
       "      <td>Easy</td>\n",
       "      <td>215232.0</td>\n",
       "    </tr>\n",
       "    <tr>\n",
       "      <th>5</th>\n",
       "      <td>I am a developer by profession</td>\n",
       "      <td>Employed, full-time</td>\n",
       "      <td>Hybrid (some remote, some in-person)</td>\n",
       "      <td>Hobby</td>\n",
       "      <td>Bachelor’s degree (B.A., B.S., B.Eng., etc.)</td>\n",
       "      <td>Other online resources (e.g., videos, blogs, f...</td>\n",
       "      <td>Technical documentation;Blogs;Stack Overflow;O...</td>\n",
       "      <td>NaN</td>\n",
       "      <td>8</td>\n",
       "      <td>3</td>\n",
       "      <td>...</td>\n",
       "      <td>NaN</td>\n",
       "      <td>NaN</td>\n",
       "      <td>NaN</td>\n",
       "      <td>NaN</td>\n",
       "      <td>NaN</td>\n",
       "      <td>NaN</td>\n",
       "      <td>NaN</td>\n",
       "      <td>Too long</td>\n",
       "      <td>Easy</td>\n",
       "      <td>NaN</td>\n",
       "    </tr>\n",
       "    <tr>\n",
       "      <th>...</th>\n",
       "      <td>...</td>\n",
       "      <td>...</td>\n",
       "      <td>...</td>\n",
       "      <td>...</td>\n",
       "      <td>...</td>\n",
       "      <td>...</td>\n",
       "      <td>...</td>\n",
       "      <td>...</td>\n",
       "      <td>...</td>\n",
       "      <td>...</td>\n",
       "      <td>...</td>\n",
       "      <td>...</td>\n",
       "      <td>...</td>\n",
       "      <td>...</td>\n",
       "      <td>...</td>\n",
       "      <td>...</td>\n",
       "      <td>...</td>\n",
       "      <td>...</td>\n",
       "      <td>...</td>\n",
       "      <td>...</td>\n",
       "      <td>...</td>\n",
       "    </tr>\n",
       "    <tr>\n",
       "      <th>73264</th>\n",
       "      <td>I am a developer by profession</td>\n",
       "      <td>Employed, full-time</td>\n",
       "      <td>Fully remote</td>\n",
       "      <td>Freelance/contract work</td>\n",
       "      <td>Bachelor’s degree (B.A., B.S., B.Eng., etc.)</td>\n",
       "      <td>Books / Physical media;Other online resources ...</td>\n",
       "      <td>Technical documentation;Blogs;Written Tutorial...</td>\n",
       "      <td>Udemy</td>\n",
       "      <td>8</td>\n",
       "      <td>5</td>\n",
       "      <td>...</td>\n",
       "      <td>30-60 minutes a day</td>\n",
       "      <td>Less than 15 minutes a day</td>\n",
       "      <td>Just right</td>\n",
       "      <td>DevOps function;Microservices;Developer portal...</td>\n",
       "      <td>Yes</td>\n",
       "      <td>Yes</td>\n",
       "      <td>Yes</td>\n",
       "      <td>Too long</td>\n",
       "      <td>Easy</td>\n",
       "      <td>NaN</td>\n",
       "    </tr>\n",
       "    <tr>\n",
       "      <th>73265</th>\n",
       "      <td>I am a developer by profession</td>\n",
       "      <td>Employed, full-time</td>\n",
       "      <td>Full in-person</td>\n",
       "      <td>Hobby</td>\n",
       "      <td>Master’s degree (M.A., M.S., M.Eng., MBA, etc.)</td>\n",
       "      <td>Other online resources (e.g., videos, blogs, f...</td>\n",
       "      <td>Technical documentation;Blogs;Written Tutorial...</td>\n",
       "      <td>Coursera;Udemy;Udacity</td>\n",
       "      <td>6</td>\n",
       "      <td>5</td>\n",
       "      <td>...</td>\n",
       "      <td>15-30 minutes a day</td>\n",
       "      <td>60-120 minutes a day</td>\n",
       "      <td>Very long</td>\n",
       "      <td>None of these</td>\n",
       "      <td>No</td>\n",
       "      <td>Yes</td>\n",
       "      <td>Yes</td>\n",
       "      <td>Too long</td>\n",
       "      <td>Easy</td>\n",
       "      <td>NaN</td>\n",
       "    </tr>\n",
       "    <tr>\n",
       "      <th>73266</th>\n",
       "      <td>I am not primarily a developer, but I write co...</td>\n",
       "      <td>Employed, full-time</td>\n",
       "      <td>Hybrid (some remote, some in-person)</td>\n",
       "      <td>Hobby;School or academic work</td>\n",
       "      <td>Bachelor’s degree (B.A., B.S., B.Eng., etc.)</td>\n",
       "      <td>Books / Physical media;Other online resources ...</td>\n",
       "      <td>Technical documentation;Programming Games;Stac...</td>\n",
       "      <td>Udemy;Codecademy;Pluralsight;edX</td>\n",
       "      <td>42</td>\n",
       "      <td>33</td>\n",
       "      <td>...</td>\n",
       "      <td>30-60 minutes a day</td>\n",
       "      <td>60-120 minutes a day</td>\n",
       "      <td>Just right</td>\n",
       "      <td>None of these</td>\n",
       "      <td>No</td>\n",
       "      <td>No</td>\n",
       "      <td>No</td>\n",
       "      <td>Appropriate in length</td>\n",
       "      <td>Easy</td>\n",
       "      <td>NaN</td>\n",
       "    </tr>\n",
       "    <tr>\n",
       "      <th>73267</th>\n",
       "      <td>I am a developer by profession</td>\n",
       "      <td>Employed, full-time</td>\n",
       "      <td>Hybrid (some remote, some in-person)</td>\n",
       "      <td>Hobby</td>\n",
       "      <td>Bachelor’s degree (B.A., B.S., B.Eng., etc.)</td>\n",
       "      <td>Books / Physical media;On the job training</td>\n",
       "      <td>NaN</td>\n",
       "      <td>NaN</td>\n",
       "      <td>50</td>\n",
       "      <td>31</td>\n",
       "      <td>...</td>\n",
       "      <td>NaN</td>\n",
       "      <td>NaN</td>\n",
       "      <td>NaN</td>\n",
       "      <td>NaN</td>\n",
       "      <td>NaN</td>\n",
       "      <td>NaN</td>\n",
       "      <td>NaN</td>\n",
       "      <td>Appropriate in length</td>\n",
       "      <td>Easy</td>\n",
       "      <td>NaN</td>\n",
       "    </tr>\n",
       "    <tr>\n",
       "      <th>73268</th>\n",
       "      <td>I used to be a developer by profession, but no...</td>\n",
       "      <td>Independent contractor, freelancer, or self-em...</td>\n",
       "      <td>Fully remote</td>\n",
       "      <td>Hobby;Contribute to open-source projects;Boots...</td>\n",
       "      <td>Bachelor’s degree (B.A., B.S., B.Eng., etc.)</td>\n",
       "      <td>Books / Physical media;Friend or family member...</td>\n",
       "      <td>Technical documentation;Blogs;Programming Game...</td>\n",
       "      <td>Udemy;Pluralsight</td>\n",
       "      <td>16</td>\n",
       "      <td>5</td>\n",
       "      <td>...</td>\n",
       "      <td>NaN</td>\n",
       "      <td>NaN</td>\n",
       "      <td>NaN</td>\n",
       "      <td>NaN</td>\n",
       "      <td>NaN</td>\n",
       "      <td>NaN</td>\n",
       "      <td>NaN</td>\n",
       "      <td>Appropriate in length</td>\n",
       "      <td>Easy</td>\n",
       "      <td>NaN</td>\n",
       "    </tr>\n",
       "  </tbody>\n",
       "</table>\n",
       "<p>73268 rows × 78 columns</p>\n",
       "</div>"
      ],
      "text/plain": [
       "                                                   MainBranch  \\\n",
       "ResponseId                                                      \n",
       "1                                               None of these   \n",
       "2                              I am a developer by profession   \n",
       "3           I am not primarily a developer, but I write co...   \n",
       "4                              I am a developer by profession   \n",
       "5                              I am a developer by profession   \n",
       "...                                                       ...   \n",
       "73264                          I am a developer by profession   \n",
       "73265                          I am a developer by profession   \n",
       "73266       I am not primarily a developer, but I write co...   \n",
       "73267                          I am a developer by profession   \n",
       "73268       I used to be a developer by profession, but no...   \n",
       "\n",
       "                                                   Employment  \\\n",
       "ResponseId                                                      \n",
       "1                                                         NaN   \n",
       "2                                         Employed, full-time   \n",
       "3                                         Employed, full-time   \n",
       "4                                         Employed, full-time   \n",
       "5                                         Employed, full-time   \n",
       "...                                                       ...   \n",
       "73264                                     Employed, full-time   \n",
       "73265                                     Employed, full-time   \n",
       "73266                                     Employed, full-time   \n",
       "73267                                     Employed, full-time   \n",
       "73268       Independent contractor, freelancer, or self-em...   \n",
       "\n",
       "                                      RemoteWork  \\\n",
       "ResponseId                                         \n",
       "1                                            NaN   \n",
       "2                                   Fully remote   \n",
       "3           Hybrid (some remote, some in-person)   \n",
       "4                                   Fully remote   \n",
       "5           Hybrid (some remote, some in-person)   \n",
       "...                                          ...   \n",
       "73264                               Fully remote   \n",
       "73265                             Full in-person   \n",
       "73266       Hybrid (some remote, some in-person)   \n",
       "73267       Hybrid (some remote, some in-person)   \n",
       "73268                               Fully remote   \n",
       "\n",
       "                                             CodingActivities  \\\n",
       "ResponseId                                                      \n",
       "1                                                         NaN   \n",
       "2                    Hobby;Contribute to open-source projects   \n",
       "3                                                       Hobby   \n",
       "4                                I don’t code outside of work   \n",
       "5                                                       Hobby   \n",
       "...                                                       ...   \n",
       "73264                                 Freelance/contract work   \n",
       "73265                                                   Hobby   \n",
       "73266                           Hobby;School or academic work   \n",
       "73267                                                   Hobby   \n",
       "73268       Hobby;Contribute to open-source projects;Boots...   \n",
       "\n",
       "                                                    EdLevel  \\\n",
       "ResponseId                                                    \n",
       "1                                                       NaN   \n",
       "2                                                       NaN   \n",
       "3           Master’s degree (M.A., M.S., M.Eng., MBA, etc.)   \n",
       "4              Bachelor’s degree (B.A., B.S., B.Eng., etc.)   \n",
       "5              Bachelor’s degree (B.A., B.S., B.Eng., etc.)   \n",
       "...                                                     ...   \n",
       "73264          Bachelor’s degree (B.A., B.S., B.Eng., etc.)   \n",
       "73265       Master’s degree (M.A., M.S., M.Eng., MBA, etc.)   \n",
       "73266          Bachelor’s degree (B.A., B.S., B.Eng., etc.)   \n",
       "73267          Bachelor’s degree (B.A., B.S., B.Eng., etc.)   \n",
       "73268          Bachelor’s degree (B.A., B.S., B.Eng., etc.)   \n",
       "\n",
       "                                                    LearnCode  \\\n",
       "ResponseId                                                      \n",
       "1                                                         NaN   \n",
       "2                                                         NaN   \n",
       "3           Books / Physical media;Friend or family member...   \n",
       "4           Books / Physical media;School (i.e., Universit...   \n",
       "5           Other online resources (e.g., videos, blogs, f...   \n",
       "...                                                       ...   \n",
       "73264       Books / Physical media;Other online resources ...   \n",
       "73265       Other online resources (e.g., videos, blogs, f...   \n",
       "73266       Books / Physical media;Other online resources ...   \n",
       "73267              Books / Physical media;On the job training   \n",
       "73268       Books / Physical media;Friend or family member...   \n",
       "\n",
       "                                              LearnCodeOnline  \\\n",
       "ResponseId                                                      \n",
       "1                                                         NaN   \n",
       "2                                                         NaN   \n",
       "3           Technical documentation;Blogs;Programming Game...   \n",
       "4                                                         NaN   \n",
       "5           Technical documentation;Blogs;Stack Overflow;O...   \n",
       "...                                                       ...   \n",
       "73264       Technical documentation;Blogs;Written Tutorial...   \n",
       "73265       Technical documentation;Blogs;Written Tutorial...   \n",
       "73266       Technical documentation;Programming Games;Stac...   \n",
       "73267                                                     NaN   \n",
       "73268       Technical documentation;Blogs;Programming Game...   \n",
       "\n",
       "                        LearnCodeCoursesCert YearsCode YearsCodePro  ...  \\\n",
       "ResponseId                                                           ...   \n",
       "1                                        NaN       NaN          NaN  ...   \n",
       "2                                        NaN       NaN          NaN  ...   \n",
       "3                                        NaN        14            5  ...   \n",
       "4                                        NaN        20           17  ...   \n",
       "5                                        NaN         8            3  ...   \n",
       "...                                      ...       ...          ...  ...   \n",
       "73264                                  Udemy         8            5  ...   \n",
       "73265                 Coursera;Udemy;Udacity         6            5  ...   \n",
       "73266       Udemy;Codecademy;Pluralsight;edX        42           33  ...   \n",
       "73267                                    NaN        50           31  ...   \n",
       "73268                      Udemy;Pluralsight        16            5  ...   \n",
       "\n",
       "                  TimeSearching               TimeAnswering  Onboarding  \\\n",
       "ResponseId                                                                \n",
       "1                           NaN                         NaN         NaN   \n",
       "2                           NaN                         NaN         NaN   \n",
       "3                           NaN                         NaN         NaN   \n",
       "4                           NaN                         NaN         NaN   \n",
       "5                           NaN                         NaN         NaN   \n",
       "...                         ...                         ...         ...   \n",
       "73264       30-60 minutes a day  Less than 15 minutes a day  Just right   \n",
       "73265       15-30 minutes a day        60-120 minutes a day   Very long   \n",
       "73266       30-60 minutes a day        60-120 minutes a day  Just right   \n",
       "73267                       NaN                         NaN         NaN   \n",
       "73268                       NaN                         NaN         NaN   \n",
       "\n",
       "                                             ProfessionalTech TrueFalse_1  \\\n",
       "ResponseId                                                                  \n",
       "1                                                         NaN         NaN   \n",
       "2                                                         NaN         NaN   \n",
       "3                                                         NaN         NaN   \n",
       "4                                                         NaN         NaN   \n",
       "5                                                         NaN         NaN   \n",
       "...                                                       ...         ...   \n",
       "73264       DevOps function;Microservices;Developer portal...         Yes   \n",
       "73265                                           None of these          No   \n",
       "73266                                           None of these          No   \n",
       "73267                                                     NaN         NaN   \n",
       "73268                                                     NaN         NaN   \n",
       "\n",
       "           TrueFalse_2  TrueFalse_3           SurveyLength  \\\n",
       "ResponseId                                                   \n",
       "1                  NaN          NaN                    NaN   \n",
       "2                  NaN          NaN               Too long   \n",
       "3                  NaN          NaN  Appropriate in length   \n",
       "4                  NaN          NaN  Appropriate in length   \n",
       "5                  NaN          NaN               Too long   \n",
       "...                ...          ...                    ...   \n",
       "73264              Yes          Yes               Too long   \n",
       "73265              Yes          Yes               Too long   \n",
       "73266               No           No  Appropriate in length   \n",
       "73267              NaN          NaN  Appropriate in length   \n",
       "73268              NaN          NaN  Appropriate in length   \n",
       "\n",
       "                            SurveyEase ConvertedCompYearly  \n",
       "ResponseId                                                  \n",
       "1                                  NaN                 NaN  \n",
       "2                            Difficult                 NaN  \n",
       "3           Neither easy nor difficult             40205.0  \n",
       "4                                 Easy            215232.0  \n",
       "5                                 Easy                 NaN  \n",
       "...                                ...                 ...  \n",
       "73264                             Easy                 NaN  \n",
       "73265                             Easy                 NaN  \n",
       "73266                             Easy                 NaN  \n",
       "73267                             Easy                 NaN  \n",
       "73268                             Easy                 NaN  \n",
       "\n",
       "[73268 rows x 78 columns]"
      ]
     },
     "execution_count": 11,
     "metadata": {},
     "output_type": "execute_result"
    }
   ],
   "source": [
    "survey_raw_df = pd.read_csv('datas/survey_results_public.csv', index_col='ResponseId')\n",
    "survey_raw_df"
   ]
  },
  {
   "cell_type": "code",
   "execution_count": 12,
   "id": "fd64e5a2-cba8-4dfb-b1f1-86256b9c38d0",
   "metadata": {},
   "outputs": [
    {
     "data": {
      "text/plain": [
       "qname\n",
       "S0             <div><span style=\"font-size:19px;\"><strong>Hel...\n",
       "MetaInfo                                       Browser Meta Info\n",
       "S1             <span style=\"font-size:22px; font-family: aria...\n",
       "MainBranch     Which of the following options best describes ...\n",
       "Employment     Which of the following best describes your cur...\n",
       "                                     ...                        \n",
       "Frequency_2    Interacting with people outside of your immedi...\n",
       "Frequency_3    Encountering knowledge silos (where one indivi...\n",
       "TrueFalse_1    Are you involved in supporting new hires durin...\n",
       "TrueFalse_2    Do you use learning resources provided by your...\n",
       "TrueFalse_3    Does your employer give you time to learn new ...\n",
       "Name: question, Length: 79, dtype: object"
      ]
     },
     "execution_count": 12,
     "metadata": {},
     "output_type": "execute_result"
    }
   ],
   "source": [
    "schema_raw = pd.read_csv('datas/survey_results_schema.csv', index_col='qname')['question']\n",
    "schema_raw"
   ]
  },
  {
   "cell_type": "code",
   "execution_count": 13,
   "id": "05e6b52e-f413-48a8-b100-8ebc6a922a7c",
   "metadata": {},
   "outputs": [
    {
     "data": {
      "text/plain": [
       "Index(['MainBranch', 'Employment', 'RemoteWork', 'CodingActivities', 'EdLevel',\n",
       "       'LearnCode', 'LearnCodeOnline', 'LearnCodeCoursesCert', 'YearsCode',\n",
       "       'YearsCodePro', 'DevType', 'OrgSize', 'PurchaseInfluence', 'BuyNewTool',\n",
       "       'Country', 'Currency', 'CompTotal', 'CompFreq',\n",
       "       'LanguageHaveWorkedWith', 'LanguageWantToWorkWith',\n",
       "       'DatabaseHaveWorkedWith', 'DatabaseWantToWorkWith',\n",
       "       'PlatformHaveWorkedWith', 'PlatformWantToWorkWith',\n",
       "       'WebframeHaveWorkedWith', 'WebframeWantToWorkWith',\n",
       "       'MiscTechHaveWorkedWith', 'MiscTechWantToWorkWith',\n",
       "       'ToolsTechHaveWorkedWith', 'ToolsTechWantToWorkWith',\n",
       "       'NEWCollabToolsHaveWorkedWith', 'NEWCollabToolsWantToWorkWith',\n",
       "       'OpSysProfessional use', 'OpSysPersonal use', 'VersionControlSystem',\n",
       "       'VCInteraction', 'VCHostingPersonal use', 'VCHostingProfessional use',\n",
       "       'OfficeStackAsyncHaveWorkedWith', 'OfficeStackAsyncWantToWorkWith',\n",
       "       'OfficeStackSyncHaveWorkedWith', 'OfficeStackSyncWantToWorkWith',\n",
       "       'Blockchain', 'NEWSOSites', 'SOVisitFreq', 'SOAccount', 'SOPartFreq',\n",
       "       'SOComm', 'Age', 'Gender', 'Trans', 'Sexuality', 'Ethnicity',\n",
       "       'Accessibility', 'MentalHealth', 'TBranch', 'ICorPM', 'WorkExp',\n",
       "       'Knowledge_1', 'Knowledge_2', 'Knowledge_3', 'Knowledge_4',\n",
       "       'Knowledge_5', 'Knowledge_6', 'Knowledge_7', 'Frequency_1',\n",
       "       'Frequency_2', 'Frequency_3', 'TimeSearching', 'TimeAnswering',\n",
       "       'Onboarding', 'ProfessionalTech', 'TrueFalse_1', 'TrueFalse_2',\n",
       "       'TrueFalse_3', 'SurveyLength', 'SurveyEase', 'ConvertedCompYearly'],\n",
       "      dtype='object')"
      ]
     },
     "execution_count": 13,
     "metadata": {},
     "output_type": "execute_result"
    }
   ],
   "source": [
    "survey_raw_df.columns"
   ]
  },
  {
   "cell_type": "code",
   "execution_count": 14,
   "id": "233424bb-a3eb-4076-a254-73b7c69de73a",
   "metadata": {},
   "outputs": [
    {
     "data": {
      "text/plain": [
       "Index(['S0', 'MetaInfo', 'S1', 'MainBranch', 'Employment', 'RemoteWork',\n",
       "       'CodingActivities', 'S2', 'EdLevel', 'LearnCode', 'LearnCodeOnline',\n",
       "       'LearnCodeCoursesCert', 'YearsCode', 'YearsCodePro', 'DevType',\n",
       "       'OrgSize', 'PurchaseInfluence', 'BuyNewTool', 'Country', 'Currency',\n",
       "       'CompTotal', 'CompFreq', 'S3', 'Language', 'Database', 'Platform',\n",
       "       'Webframe', 'MiscTech', 'ToolsTech', 'NEWCollabTools', 'OpSys',\n",
       "       'VersionControlSystem', 'VCInteraction', 'VCHosting',\n",
       "       'OfficeStackAsync', 'OfficeStackSync', 'Blockchain', 'S4', 'NEWSOSites',\n",
       "       'SOVisitFreq', 'SOAccount', 'SOPartFreq', 'SOComm', 'S5', 'Age',\n",
       "       'Gender', 'Trans', 'Sexuality', 'Ethnicity', 'Accessibility',\n",
       "       'MentalHealth', 'S6', 'TBranch', 'ICorPM', 'WorkExp', 'Knowledge',\n",
       "       'Frequency', 'TimeSearching', 'TimeAnswering', 'Onboarding',\n",
       "       'ProfessionalTech', 'SOTeamsUsage', 'TrueFalse', 'S7', 'SurveyLength',\n",
       "       'SurveyEase', 'Knowledge_1', 'Knowledge_2', 'Knowledge_3',\n",
       "       'Knowledge_4', 'Knowledge_5', 'Knowledge_6', 'Knowledge_7',\n",
       "       'Frequency_1', 'Frequency_2', 'Frequency_3', 'TrueFalse_1',\n",
       "       'TrueFalse_2', 'TrueFalse_3'],\n",
       "      dtype='object', name='qname')"
      ]
     },
     "execution_count": 14,
     "metadata": {},
     "output_type": "execute_result"
    }
   ],
   "source": [
    "schema_raw.index"
   ]
  },
  {
   "cell_type": "code",
   "execution_count": 15,
   "id": "46697171-2ca3-4d19-8708-f78cf71fb743",
   "metadata": {},
   "outputs": [
    {
     "data": {
      "text/plain": [
       "'What is your current total compensation (salary, bonuses, and perks, before taxes and deductions)? Please enter a whole number in the box below, without any punctuation.  If you are paid hourly, please estimate an equivalent weekly, monthly, or yearly salary. If you prefer not to answer, please leave the box empty.'"
      ]
     },
     "execution_count": 15,
     "metadata": {},
     "output_type": "execute_result"
    }
   ],
   "source": [
    "schema_raw['CompTotal']"
   ]
  },
  {
   "cell_type": "code",
   "execution_count": 16,
   "id": "2a525923-fefa-4edc-8cb7-adce308c37a0",
   "metadata": {},
   "outputs": [
    {
     "data": {
      "text/plain": [
       "'Is that compensation weekly, monthly, or yearly?'"
      ]
     },
     "execution_count": 16,
     "metadata": {},
     "output_type": "execute_result"
    }
   ],
   "source": [
    "# schema rqw index : qname\n",
    "#            value : question\n",
    "schema_raw['CompFreq']"
   ]
  },
  {
   "cell_type": "code",
   "execution_count": 17,
   "id": "54b3c48b-2820-4f98-8ee7-e01797ff48dd",
   "metadata": {},
   "outputs": [
    {
     "name": "stdout",
     "output_type": "stream",
     "text": [
      "<class 'pandas.core.frame.DataFrame'>\n",
      "Int64Index: 73268 entries, 1 to 73268\n",
      "Data columns (total 78 columns):\n",
      " #   Column                          Non-Null Count  Dtype  \n",
      "---  ------                          --------------  -----  \n",
      " 0   MainBranch                      73268 non-null  object \n",
      " 1   Employment                      71709 non-null  object \n",
      " 2   RemoteWork                      58958 non-null  object \n",
      " 3   CodingActivities                58899 non-null  object \n",
      " 4   EdLevel                         71571 non-null  object \n",
      " 5   LearnCode                       71580 non-null  object \n",
      " 6   LearnCodeOnline                 50685 non-null  object \n",
      " 7   LearnCodeCoursesCert            29389 non-null  object \n",
      " 8   YearsCode                       71331 non-null  object \n",
      " 9   YearsCodePro                    51833 non-null  object \n",
      " 10  DevType                         61302 non-null  object \n",
      " 11  OrgSize                         51039 non-null  object \n",
      " 12  PurchaseInfluence               50969 non-null  object \n",
      " 13  BuyNewTool                      67963 non-null  object \n",
      " 14  Country                         71771 non-null  object \n",
      " 15  Currency                        51264 non-null  object \n",
      " 16  CompTotal                       38422 non-null  float64\n",
      " 17  CompFreq                        44425 non-null  object \n",
      " 18  LanguageHaveWorkedWith          70975 non-null  object \n",
      " 19  LanguageWantToWorkWith          67027 non-null  object \n",
      " 20  DatabaseHaveWorkedWith          60121 non-null  object \n",
      " 21  DatabaseWantToWorkWith          51014 non-null  object \n",
      " 22  PlatformHaveWorkedWith          49924 non-null  object \n",
      " 23  PlatformWantToWorkWith          40415 non-null  object \n",
      " 24  WebframeHaveWorkedWith          53544 non-null  object \n",
      " 25  WebframeWantToWorkWith          46122 non-null  object \n",
      " 26  MiscTechHaveWorkedWith          44992 non-null  object \n",
      " 27  MiscTechWantToWorkWith          36810 non-null  object \n",
      " 28  ToolsTechHaveWorkedWith         54171 non-null  object \n",
      " 29  ToolsTechWantToWorkWith         46566 non-null  object \n",
      " 30  NEWCollabToolsHaveWorkedWith    70347 non-null  object \n",
      " 31  NEWCollabToolsWantToWorkWith    64108 non-null  object \n",
      " 32  OpSysProfessional use           65503 non-null  object \n",
      " 33  OpSysPersonal use               70963 non-null  object \n",
      " 34  VersionControlSystem            71379 non-null  object \n",
      " 35  VCInteraction                   68156 non-null  object \n",
      " 36  VCHostingPersonal use           0 non-null      float64\n",
      " 37  VCHostingProfessional use       0 non-null      float64\n",
      " 38  OfficeStackAsyncHaveWorkedWith  46223 non-null  object \n",
      " 39  OfficeStackAsyncWantToWorkWith  32072 non-null  object \n",
      " 40  OfficeStackSyncHaveWorkedWith   62128 non-null  object \n",
      " 41  OfficeStackSyncWantToWorkWith   47688 non-null  object \n",
      " 42  Blockchain                      71071 non-null  object \n",
      " 43  NEWSOSites                      71365 non-null  object \n",
      " 44  SOVisitFreq                     70961 non-null  object \n",
      " 45  SOAccount                       71572 non-null  object \n",
      " 46  SOPartFreq                      58229 non-null  object \n",
      " 47  SOComm                          71408 non-null  object \n",
      " 48  Age                             70946 non-null  object \n",
      " 49  Gender                          70853 non-null  object \n",
      " 50  Trans                           70315 non-null  object \n",
      " 51  Sexuality                       66565 non-null  object \n",
      " 52  Ethnicity                       69474 non-null  object \n",
      " 53  Accessibility                   67244 non-null  object \n",
      " 54  MentalHealth                    66447 non-null  object \n",
      " 55  TBranch                         52670 non-null  object \n",
      " 56  ICorPM                          36283 non-null  object \n",
      " 57  WorkExp                         36769 non-null  float64\n",
      " 58  Knowledge_1                     35804 non-null  object \n",
      " 59  Knowledge_2                     34973 non-null  object \n",
      " 60  Knowledge_3                     35133 non-null  object \n",
      " 61  Knowledge_4                     35097 non-null  object \n",
      " 62  Knowledge_5                     35014 non-null  object \n",
      " 63  Knowledge_6                     34991 non-null  object \n",
      " 64  Knowledge_7                     34977 non-null  object \n",
      " 65  Frequency_1                     35371 non-null  object \n",
      " 66  Frequency_2                     35344 non-null  object \n",
      " 67  Frequency_3                     34515 non-null  object \n",
      " 68  TimeSearching                   36198 non-null  object \n",
      " 69  TimeAnswering                   36022 non-null  object \n",
      " 70  Onboarding                      35679 non-null  object \n",
      " 71  ProfessionalTech                34906 non-null  object \n",
      " 72  TrueFalse_1                     35819 non-null  object \n",
      " 73  TrueFalse_2                     35715 non-null  object \n",
      " 74  TrueFalse_3                     35749 non-null  object \n",
      " 75  SurveyLength                    70444 non-null  object \n",
      " 76  SurveyEase                      70508 non-null  object \n",
      " 77  ConvertedCompYearly             38071 non-null  float64\n",
      "dtypes: float64(5), object(73)\n",
      "memory usage: 44.2+ MB\n"
     ]
    }
   ],
   "source": [
    "survey_raw_df.info()"
   ]
  },
  {
   "cell_type": "code",
   "execution_count": 18,
   "id": "f48d454f-f8d2-47ca-b48d-28778ea22d75",
   "metadata": {},
   "outputs": [],
   "source": [
    "# 한 번에 표현되는(볼 수 있는) column, row 범위를 변경\n",
    "\n",
    "pd.set_option('display.max_columns', 78)\n",
    "pd.set_option('display.max_rows', 78) #row 무한으로 하면 73268개... 렌더링하다가 죽음"
   ]
  },
  {
   "cell_type": "code",
   "execution_count": 19,
   "id": "75e4d8cf-dc9f-4963-ad2d-70a3407088e2",
   "metadata": {},
   "outputs": [],
   "source": [
    "selected_columns = [\n",
    "    #인구 통계\n",
    "    'Country',\n",
    "    'Age',\n",
    "    'Gender',\n",
    "    'EdLevel',\n",
    "    #프로그래밍 경험\n",
    "    'YearsCode',\n",
    "    'YearsCodePro',\n",
    "    'LanguageHaveWorkedWith',\n",
    "    'LanguageWantToWorkWith',\n",
    "    'LearnCodeCoursesCert',\n",
    "    'ProfessionalTech',\n",
    "    'SOAccount',\n",
    "    #고용 관련 정보\n",
    "    'Employment',\n",
    "    'DevType',\n",
    "    'WorkExp'\n",
    "]"
   ]
  },
  {
   "cell_type": "code",
   "execution_count": 20,
   "id": "11347cac-d29d-439c-b01c-df8971fc5b69",
   "metadata": {},
   "outputs": [
    {
     "data": {
      "text/html": [
       "<div>\n",
       "<style scoped>\n",
       "    .dataframe tbody tr th:only-of-type {\n",
       "        vertical-align: middle;\n",
       "    }\n",
       "\n",
       "    .dataframe tbody tr th {\n",
       "        vertical-align: top;\n",
       "    }\n",
       "\n",
       "    .dataframe thead th {\n",
       "        text-align: right;\n",
       "    }\n",
       "</style>\n",
       "<table border=\"1\" class=\"dataframe\">\n",
       "  <thead>\n",
       "    <tr style=\"text-align: right;\">\n",
       "      <th></th>\n",
       "      <th>Country</th>\n",
       "      <th>Age</th>\n",
       "      <th>Gender</th>\n",
       "      <th>EdLevel</th>\n",
       "      <th>YearsCode</th>\n",
       "      <th>YearsCodePro</th>\n",
       "      <th>LanguageHaveWorkedWith</th>\n",
       "      <th>LanguageWantToWorkWith</th>\n",
       "      <th>LearnCodeCoursesCert</th>\n",
       "      <th>ProfessionalTech</th>\n",
       "      <th>SOAccount</th>\n",
       "      <th>Employment</th>\n",
       "      <th>DevType</th>\n",
       "      <th>WorkExp</th>\n",
       "    </tr>\n",
       "    <tr>\n",
       "      <th>ResponseId</th>\n",
       "      <th></th>\n",
       "      <th></th>\n",
       "      <th></th>\n",
       "      <th></th>\n",
       "      <th></th>\n",
       "      <th></th>\n",
       "      <th></th>\n",
       "      <th></th>\n",
       "      <th></th>\n",
       "      <th></th>\n",
       "      <th></th>\n",
       "      <th></th>\n",
       "      <th></th>\n",
       "      <th></th>\n",
       "    </tr>\n",
       "  </thead>\n",
       "  <tbody>\n",
       "    <tr>\n",
       "      <th>1</th>\n",
       "      <td>NaN</td>\n",
       "      <td>NaN</td>\n",
       "      <td>NaN</td>\n",
       "      <td>NaN</td>\n",
       "      <td>NaN</td>\n",
       "      <td>NaN</td>\n",
       "      <td>NaN</td>\n",
       "      <td>NaN</td>\n",
       "      <td>NaN</td>\n",
       "      <td>NaN</td>\n",
       "      <td>NaN</td>\n",
       "      <td>NaN</td>\n",
       "      <td>NaN</td>\n",
       "      <td>NaN</td>\n",
       "    </tr>\n",
       "    <tr>\n",
       "      <th>2</th>\n",
       "      <td>Canada</td>\n",
       "      <td>NaN</td>\n",
       "      <td>NaN</td>\n",
       "      <td>NaN</td>\n",
       "      <td>NaN</td>\n",
       "      <td>NaN</td>\n",
       "      <td>JavaScript;TypeScript</td>\n",
       "      <td>Rust;TypeScript</td>\n",
       "      <td>NaN</td>\n",
       "      <td>NaN</td>\n",
       "      <td>Yes</td>\n",
       "      <td>Employed, full-time</td>\n",
       "      <td>NaN</td>\n",
       "      <td>NaN</td>\n",
       "    </tr>\n",
       "    <tr>\n",
       "      <th>3</th>\n",
       "      <td>United Kingdom of Great Britain and Northern I...</td>\n",
       "      <td>25-34 years old</td>\n",
       "      <td>Man</td>\n",
       "      <td>Master’s degree (M.A., M.S., M.Eng., MBA, etc.)</td>\n",
       "      <td>14</td>\n",
       "      <td>5</td>\n",
       "      <td>C#;C++;HTML/CSS;JavaScript;Python</td>\n",
       "      <td>C#;C++;HTML/CSS;JavaScript;TypeScript</td>\n",
       "      <td>NaN</td>\n",
       "      <td>NaN</td>\n",
       "      <td>Yes</td>\n",
       "      <td>Employed, full-time</td>\n",
       "      <td>Data scientist or machine learning specialist;...</td>\n",
       "      <td>NaN</td>\n",
       "    </tr>\n",
       "    <tr>\n",
       "      <th>4</th>\n",
       "      <td>Israel</td>\n",
       "      <td>35-44 years old</td>\n",
       "      <td>Man</td>\n",
       "      <td>Bachelor’s degree (B.A., B.S., B.Eng., etc.)</td>\n",
       "      <td>20</td>\n",
       "      <td>17</td>\n",
       "      <td>C#;JavaScript;SQL;TypeScript</td>\n",
       "      <td>C#;SQL;TypeScript</td>\n",
       "      <td>NaN</td>\n",
       "      <td>NaN</td>\n",
       "      <td>Yes</td>\n",
       "      <td>Employed, full-time</td>\n",
       "      <td>Developer, full-stack</td>\n",
       "      <td>NaN</td>\n",
       "    </tr>\n",
       "    <tr>\n",
       "      <th>5</th>\n",
       "      <td>United States of America</td>\n",
       "      <td>25-34 years old</td>\n",
       "      <td>NaN</td>\n",
       "      <td>Bachelor’s degree (B.A., B.S., B.Eng., etc.)</td>\n",
       "      <td>8</td>\n",
       "      <td>3</td>\n",
       "      <td>C#;HTML/CSS;JavaScript;SQL;Swift;TypeScript</td>\n",
       "      <td>C#;Elixir;F#;Go;JavaScript;Rust;TypeScript</td>\n",
       "      <td>NaN</td>\n",
       "      <td>NaN</td>\n",
       "      <td>Yes</td>\n",
       "      <td>Employed, full-time</td>\n",
       "      <td>Developer, front-end;Developer, full-stack;Dev...</td>\n",
       "      <td>NaN</td>\n",
       "    </tr>\n",
       "    <tr>\n",
       "      <th>...</th>\n",
       "      <td>...</td>\n",
       "      <td>...</td>\n",
       "      <td>...</td>\n",
       "      <td>...</td>\n",
       "      <td>...</td>\n",
       "      <td>...</td>\n",
       "      <td>...</td>\n",
       "      <td>...</td>\n",
       "      <td>...</td>\n",
       "      <td>...</td>\n",
       "      <td>...</td>\n",
       "      <td>...</td>\n",
       "      <td>...</td>\n",
       "      <td>...</td>\n",
       "    </tr>\n",
       "    <tr>\n",
       "      <th>73264</th>\n",
       "      <td>Nigeria</td>\n",
       "      <td>25-34 years old</td>\n",
       "      <td>Man</td>\n",
       "      <td>Bachelor’s degree (B.A., B.S., B.Eng., etc.)</td>\n",
       "      <td>8</td>\n",
       "      <td>5</td>\n",
       "      <td>Bash/Shell;Dart;JavaScript;PHP;Python;SQL;Type...</td>\n",
       "      <td>Bash/Shell;Go;JavaScript;Python;SQL;TypeScript</td>\n",
       "      <td>Udemy</td>\n",
       "      <td>DevOps function;Microservices;Developer portal...</td>\n",
       "      <td>Yes</td>\n",
       "      <td>Employed, full-time</td>\n",
       "      <td>Developer, back-end</td>\n",
       "      <td>5.0</td>\n",
       "    </tr>\n",
       "    <tr>\n",
       "      <th>73265</th>\n",
       "      <td>United States of America</td>\n",
       "      <td>25-34 years old</td>\n",
       "      <td>Man</td>\n",
       "      <td>Master’s degree (M.A., M.S., M.Eng., MBA, etc.)</td>\n",
       "      <td>6</td>\n",
       "      <td>5</td>\n",
       "      <td>Bash/Shell;HTML/CSS;JavaScript;Python;SQL</td>\n",
       "      <td>HTML/CSS;JavaScript;Python</td>\n",
       "      <td>Coursera;Udemy;Udacity</td>\n",
       "      <td>None of these</td>\n",
       "      <td>Not sure/can't remember</td>\n",
       "      <td>Employed, full-time</td>\n",
       "      <td>Data scientist or machine learning specialist</td>\n",
       "      <td>6.0</td>\n",
       "    </tr>\n",
       "    <tr>\n",
       "      <th>73266</th>\n",
       "      <td>United States of America</td>\n",
       "      <td>55-64 years old</td>\n",
       "      <td>Man</td>\n",
       "      <td>Bachelor’s degree (B.A., B.S., B.Eng., etc.)</td>\n",
       "      <td>42</td>\n",
       "      <td>33</td>\n",
       "      <td>HTML/CSS;JavaScript;PHP;Python;SQL</td>\n",
       "      <td>C#;HTML/CSS;JavaScript;PHP;Python;SQL</td>\n",
       "      <td>Udemy;Codecademy;Pluralsight;edX</td>\n",
       "      <td>None of these</td>\n",
       "      <td>Yes</td>\n",
       "      <td>Employed, full-time</td>\n",
       "      <td>Developer, full-stack;Developer, desktop or en...</td>\n",
       "      <td>42.0</td>\n",
       "    </tr>\n",
       "    <tr>\n",
       "      <th>73267</th>\n",
       "      <td>United Kingdom of Great Britain and Northern I...</td>\n",
       "      <td>55-64 years old</td>\n",
       "      <td>Man</td>\n",
       "      <td>Bachelor’s degree (B.A., B.S., B.Eng., etc.)</td>\n",
       "      <td>50</td>\n",
       "      <td>31</td>\n",
       "      <td>C#;Delphi;VBA</td>\n",
       "      <td>Delphi</td>\n",
       "      <td>NaN</td>\n",
       "      <td>NaN</td>\n",
       "      <td>Yes</td>\n",
       "      <td>Employed, full-time</td>\n",
       "      <td>Developer, front-end;Developer, desktop or ent...</td>\n",
       "      <td>NaN</td>\n",
       "    </tr>\n",
       "    <tr>\n",
       "      <th>73268</th>\n",
       "      <td>Canada</td>\n",
       "      <td>25-34 years old</td>\n",
       "      <td>Man</td>\n",
       "      <td>Bachelor’s degree (B.A., B.S., B.Eng., etc.)</td>\n",
       "      <td>16</td>\n",
       "      <td>5</td>\n",
       "      <td>C#;JavaScript;Lua;PowerShell;SQL;TypeScript</td>\n",
       "      <td>PowerShell;Rust;TypeScript</td>\n",
       "      <td>Udemy;Pluralsight</td>\n",
       "      <td>NaN</td>\n",
       "      <td>Yes</td>\n",
       "      <td>Independent contractor, freelancer, or self-em...</td>\n",
       "      <td>Developer, front-end;Engineer, data;Engineer, ...</td>\n",
       "      <td>NaN</td>\n",
       "    </tr>\n",
       "  </tbody>\n",
       "</table>\n",
       "<p>73268 rows × 14 columns</p>\n",
       "</div>"
      ],
      "text/plain": [
       "                                                      Country  \\\n",
       "ResponseId                                                      \n",
       "1                                                         NaN   \n",
       "2                                                      Canada   \n",
       "3           United Kingdom of Great Britain and Northern I...   \n",
       "4                                                      Israel   \n",
       "5                                    United States of America   \n",
       "...                                                       ...   \n",
       "73264                                                 Nigeria   \n",
       "73265                                United States of America   \n",
       "73266                                United States of America   \n",
       "73267       United Kingdom of Great Britain and Northern I...   \n",
       "73268                                                  Canada   \n",
       "\n",
       "                        Age Gender  \\\n",
       "ResponseId                           \n",
       "1                       NaN    NaN   \n",
       "2                       NaN    NaN   \n",
       "3           25-34 years old    Man   \n",
       "4           35-44 years old    Man   \n",
       "5           25-34 years old    NaN   \n",
       "...                     ...    ...   \n",
       "73264       25-34 years old    Man   \n",
       "73265       25-34 years old    Man   \n",
       "73266       55-64 years old    Man   \n",
       "73267       55-64 years old    Man   \n",
       "73268       25-34 years old    Man   \n",
       "\n",
       "                                                    EdLevel YearsCode  \\\n",
       "ResponseId                                                              \n",
       "1                                                       NaN       NaN   \n",
       "2                                                       NaN       NaN   \n",
       "3           Master’s degree (M.A., M.S., M.Eng., MBA, etc.)        14   \n",
       "4              Bachelor’s degree (B.A., B.S., B.Eng., etc.)        20   \n",
       "5              Bachelor’s degree (B.A., B.S., B.Eng., etc.)         8   \n",
       "...                                                     ...       ...   \n",
       "73264          Bachelor’s degree (B.A., B.S., B.Eng., etc.)         8   \n",
       "73265       Master’s degree (M.A., M.S., M.Eng., MBA, etc.)         6   \n",
       "73266          Bachelor’s degree (B.A., B.S., B.Eng., etc.)        42   \n",
       "73267          Bachelor’s degree (B.A., B.S., B.Eng., etc.)        50   \n",
       "73268          Bachelor’s degree (B.A., B.S., B.Eng., etc.)        16   \n",
       "\n",
       "           YearsCodePro                             LanguageHaveWorkedWith  \\\n",
       "ResponseId                                                                   \n",
       "1                   NaN                                                NaN   \n",
       "2                   NaN                              JavaScript;TypeScript   \n",
       "3                     5                  C#;C++;HTML/CSS;JavaScript;Python   \n",
       "4                    17                       C#;JavaScript;SQL;TypeScript   \n",
       "5                     3        C#;HTML/CSS;JavaScript;SQL;Swift;TypeScript   \n",
       "...                 ...                                                ...   \n",
       "73264                 5  Bash/Shell;Dart;JavaScript;PHP;Python;SQL;Type...   \n",
       "73265                 5          Bash/Shell;HTML/CSS;JavaScript;Python;SQL   \n",
       "73266                33                 HTML/CSS;JavaScript;PHP;Python;SQL   \n",
       "73267                31                                      C#;Delphi;VBA   \n",
       "73268                 5        C#;JavaScript;Lua;PowerShell;SQL;TypeScript   \n",
       "\n",
       "                                    LanguageWantToWorkWith  \\\n",
       "ResponseId                                                   \n",
       "1                                                      NaN   \n",
       "2                                          Rust;TypeScript   \n",
       "3                    C#;C++;HTML/CSS;JavaScript;TypeScript   \n",
       "4                                        C#;SQL;TypeScript   \n",
       "5               C#;Elixir;F#;Go;JavaScript;Rust;TypeScript   \n",
       "...                                                    ...   \n",
       "73264       Bash/Shell;Go;JavaScript;Python;SQL;TypeScript   \n",
       "73265                           HTML/CSS;JavaScript;Python   \n",
       "73266                C#;HTML/CSS;JavaScript;PHP;Python;SQL   \n",
       "73267                                               Delphi   \n",
       "73268                           PowerShell;Rust;TypeScript   \n",
       "\n",
       "                        LearnCodeCoursesCert  \\\n",
       "ResponseId                                     \n",
       "1                                        NaN   \n",
       "2                                        NaN   \n",
       "3                                        NaN   \n",
       "4                                        NaN   \n",
       "5                                        NaN   \n",
       "...                                      ...   \n",
       "73264                                  Udemy   \n",
       "73265                 Coursera;Udemy;Udacity   \n",
       "73266       Udemy;Codecademy;Pluralsight;edX   \n",
       "73267                                    NaN   \n",
       "73268                      Udemy;Pluralsight   \n",
       "\n",
       "                                             ProfessionalTech  \\\n",
       "ResponseId                                                      \n",
       "1                                                         NaN   \n",
       "2                                                         NaN   \n",
       "3                                                         NaN   \n",
       "4                                                         NaN   \n",
       "5                                                         NaN   \n",
       "...                                                       ...   \n",
       "73264       DevOps function;Microservices;Developer portal...   \n",
       "73265                                           None of these   \n",
       "73266                                           None of these   \n",
       "73267                                                     NaN   \n",
       "73268                                                     NaN   \n",
       "\n",
       "                          SOAccount  \\\n",
       "ResponseId                            \n",
       "1                               NaN   \n",
       "2                               Yes   \n",
       "3                               Yes   \n",
       "4                               Yes   \n",
       "5                               Yes   \n",
       "...                             ...   \n",
       "73264                           Yes   \n",
       "73265       Not sure/can't remember   \n",
       "73266                           Yes   \n",
       "73267                           Yes   \n",
       "73268                           Yes   \n",
       "\n",
       "                                                   Employment  \\\n",
       "ResponseId                                                      \n",
       "1                                                         NaN   \n",
       "2                                         Employed, full-time   \n",
       "3                                         Employed, full-time   \n",
       "4                                         Employed, full-time   \n",
       "5                                         Employed, full-time   \n",
       "...                                                       ...   \n",
       "73264                                     Employed, full-time   \n",
       "73265                                     Employed, full-time   \n",
       "73266                                     Employed, full-time   \n",
       "73267                                     Employed, full-time   \n",
       "73268       Independent contractor, freelancer, or self-em...   \n",
       "\n",
       "                                                      DevType  WorkExp  \n",
       "ResponseId                                                              \n",
       "1                                                         NaN      NaN  \n",
       "2                                                         NaN      NaN  \n",
       "3           Data scientist or machine learning specialist;...      NaN  \n",
       "4                                       Developer, full-stack      NaN  \n",
       "5           Developer, front-end;Developer, full-stack;Dev...      NaN  \n",
       "...                                                       ...      ...  \n",
       "73264                                     Developer, back-end      5.0  \n",
       "73265           Data scientist or machine learning specialist      6.0  \n",
       "73266       Developer, full-stack;Developer, desktop or en...     42.0  \n",
       "73267       Developer, front-end;Developer, desktop or ent...      NaN  \n",
       "73268       Developer, front-end;Engineer, data;Engineer, ...      NaN  \n",
       "\n",
       "[73268 rows x 14 columns]"
      ]
     },
     "execution_count": 20,
     "metadata": {},
     "output_type": "execute_result"
    }
   ],
   "source": [
    "survey_df = survey_raw_df[selected_columns].copy()\n",
    "survey_df"
   ]
  },
  {
   "cell_type": "code",
   "execution_count": 21,
   "id": "87842384-10d7-45ba-9d47-b2e0fde8e1fc",
   "metadata": {},
   "outputs": [
    {
     "name": "stdout",
     "output_type": "stream",
     "text": [
      "<class 'pandas.core.frame.DataFrame'>\n",
      "Int64Index: 73268 entries, 1 to 73268\n",
      "Data columns (total 14 columns):\n",
      " #   Column                  Non-Null Count  Dtype  \n",
      "---  ------                  --------------  -----  \n",
      " 0   Country                 71771 non-null  object \n",
      " 1   Age                     70946 non-null  object \n",
      " 2   Gender                  70853 non-null  object \n",
      " 3   EdLevel                 71571 non-null  object \n",
      " 4   YearsCode               71331 non-null  object \n",
      " 5   YearsCodePro            51833 non-null  object \n",
      " 6   LanguageHaveWorkedWith  70975 non-null  object \n",
      " 7   LanguageWantToWorkWith  67027 non-null  object \n",
      " 8   LearnCodeCoursesCert    29389 non-null  object \n",
      " 9   ProfessionalTech        34906 non-null  object \n",
      " 10  SOAccount               71572 non-null  object \n",
      " 11  Employment              71709 non-null  object \n",
      " 12  DevType                 61302 non-null  object \n",
      " 13  WorkExp                 36769 non-null  float64\n",
      "dtypes: float64(1), object(13)\n",
      "memory usage: 8.4+ MB\n"
     ]
    }
   ],
   "source": [
    "survey_df.info()"
   ]
  },
  {
   "cell_type": "code",
   "execution_count": 22,
   "id": "e8acee73-52c6-4ecf-a0d1-3259bfc7fbf3",
   "metadata": {},
   "outputs": [
    {
     "name": "stdout",
     "output_type": "stream",
     "text": [
      "Including any education, how many years have you been coding in total?\n"
     ]
    }
   ],
   "source": [
    "print(schema_raw['YearsCode'])"
   ]
  },
  {
   "cell_type": "code",
   "execution_count": 23,
   "id": "7bbaea48-5b52-4689-a61a-20fda1e50232",
   "metadata": {},
   "outputs": [
    {
     "data": {
      "text/plain": [
       "10                    5217\n",
       "5                     5193\n",
       "6                     4651\n",
       "4                     4480\n",
       "7                     4237\n",
       "8                     4227\n",
       "3                     4122\n",
       "2                     3351\n",
       "12                    2995\n",
       "15                    2962\n",
       "20                    2659\n",
       "9                     2581\n",
       "11                    1819\n",
       "14                    1811\n",
       "13                    1624\n",
       "25                    1582\n",
       "1                     1566\n",
       "Less than 1 year      1413\n",
       "16                    1406\n",
       "30                    1330\n",
       "22                    1176\n",
       "18                    1150\n",
       "17                    1080\n",
       "40                     777\n",
       "24                     752\n",
       "35                     742\n",
       "23                     644\n",
       "19                     563\n",
       "26                     489\n",
       "27                     485\n",
       "21                     483\n",
       "28                     425\n",
       "32                     371\n",
       "38                     288\n",
       "37                     277\n",
       "34                     241\n",
       "36                     236\n",
       "33                     229\n",
       "42                     216\n",
       "29                     208\n",
       "More than 50 years     172\n",
       "31                     170\n",
       "45                     167\n",
       "39                     159\n",
       "41                     143\n",
       "43                     115\n",
       "44                     104\n",
       "50                      68\n",
       "46                      57\n",
       "47                      42\n",
       "48                      41\n",
       "49                      35\n",
       "Name: YearsCode, dtype: int64"
      ]
     },
     "execution_count": 23,
     "metadata": {},
     "output_type": "execute_result"
    }
   ],
   "source": [
    "survey_df['YearsCode'].value_counts()"
   ]
  },
  {
   "cell_type": "code",
   "execution_count": 24,
   "id": "afcae5b2-cda0-4310-8cea-49b79951aed0",
   "metadata": {},
   "outputs": [],
   "source": [
    "def count_nan(series):\n",
    "    return len(series) - series.count()\n",
    "    #isna().sum()이나 isnull().sum()도 가능"
   ]
  },
  {
   "cell_type": "code",
   "execution_count": 25,
   "id": "78c64911-8280-4d79-a137-f458f4a27c9d",
   "metadata": {},
   "outputs": [],
   "source": [
    "survey_df['YearsCode'].replace(['Less than 1 year','More than 50 years'],\n",
    "                               [0, 51], inplace=True)"
   ]
  },
  {
   "cell_type": "code",
   "execution_count": 26,
   "id": "318e20ef-82dc-4a7d-8221-047f9e919299",
   "metadata": {},
   "outputs": [],
   "source": [
    "survey_df['YearsCode'] = survey_df['YearsCode'].astype('float')"
   ]
  },
  {
   "cell_type": "code",
   "execution_count": 27,
   "id": "f10ce031-a247-4906-8dcf-92e006416b52",
   "metadata": {},
   "outputs": [
    {
     "name": "stdout",
     "output_type": "stream",
     "text": [
      "NOT including education, how many years have you coded professionally (as a part of your work)?\n"
     ]
    },
    {
     "data": {
      "text/plain": [
       "21435"
      ]
     },
     "execution_count": 27,
     "metadata": {},
     "output_type": "execute_result"
    }
   ],
   "source": [
    "#YearsCodePro 교육기간을 포함하지 않는 차이점을 찾음, 순수하게 일한 기간만 나타냄\n",
    "print(schema_raw['YearsCodePro'])\n",
    "count_nan(survey_df['YearsCodePro'])"
   ]
  },
  {
   "cell_type": "code",
   "execution_count": 28,
   "id": "dddbc7af-3a08-444f-8bac-a30b484077dc",
   "metadata": {},
   "outputs": [
    {
     "data": {
      "text/plain": [
       "3                     4261\n",
       "5                     4057\n",
       "2                     3945\n",
       "4                     3884\n",
       "10                    3333\n",
       "6                     3184\n",
       "7                     2760\n",
       "8                     2646\n",
       "1                     2644\n",
       "Less than 1 year      1972\n",
       "15                    1822\n",
       "12                    1711\n",
       "9                     1583\n",
       "20                    1472\n",
       "11                    1369\n",
       "14                    1048\n",
       "22                     933\n",
       "16                     921\n",
       "13                     914\n",
       "25                     877\n",
       "18                     787\n",
       "17                     723\n",
       "30                     568\n",
       "23                     463\n",
       "24                     454\n",
       "21                     429\n",
       "19                     380\n",
       "26                     320\n",
       "27                     286\n",
       "35                     266\n",
       "28                     254\n",
       "32                     223\n",
       "40                     175\n",
       "29                     126\n",
       "33                     122\n",
       "31                     121\n",
       "34                     113\n",
       "36                     111\n",
       "37                     100\n",
       "38                      96\n",
       "42                      67\n",
       "45                      52\n",
       "39                      51\n",
       "41                      42\n",
       "More than 50 years      41\n",
       "43                      31\n",
       "44                      26\n",
       "46                      19\n",
       "48                      18\n",
       "50                      14\n",
       "47                      10\n",
       "49                       9\n",
       "Name: YearsCodePro, dtype: int64"
      ]
     },
     "execution_count": 28,
     "metadata": {},
     "output_type": "execute_result"
    }
   ],
   "source": [
    "survey_df['YearsCodePro'].value_counts()"
   ]
  },
  {
   "cell_type": "code",
   "execution_count": 29,
   "id": "8fe2a8a9-d6e4-4729-abf4-3013dadf17b3",
   "metadata": {},
   "outputs": [],
   "source": [
    "survey_df['YearsCodePro'].replace({'Less than 1 year':0,'More than 50 years':51},\n",
    "                               inplace=True)"
   ]
  },
  {
   "cell_type": "code",
   "execution_count": 30,
   "id": "cac2d70a-685c-4ea9-ad62-c397816aefc7",
   "metadata": {},
   "outputs": [],
   "source": [
    "survey_df['YearsCodePro'] = survey_df['YearsCodePro'].astype('float')"
   ]
  },
  {
   "cell_type": "code",
   "execution_count": 31,
   "id": "314e1f6d-9de8-4061-b5be-87dbdff42fec",
   "metadata": {},
   "outputs": [
    {
     "data": {
      "text/plain": [
       "3.0     4261\n",
       "5.0     4057\n",
       "2.0     3945\n",
       "4.0     3884\n",
       "10.0    3333\n",
       "6.0     3184\n",
       "7.0     2760\n",
       "8.0     2646\n",
       "1.0     2644\n",
       "0.0     1972\n",
       "15.0    1822\n",
       "12.0    1711\n",
       "9.0     1583\n",
       "20.0    1472\n",
       "11.0    1369\n",
       "14.0    1048\n",
       "22.0     933\n",
       "16.0     921\n",
       "13.0     914\n",
       "25.0     877\n",
       "18.0     787\n",
       "17.0     723\n",
       "30.0     568\n",
       "23.0     463\n",
       "24.0     454\n",
       "21.0     429\n",
       "19.0     380\n",
       "26.0     320\n",
       "27.0     286\n",
       "35.0     266\n",
       "28.0     254\n",
       "32.0     223\n",
       "40.0     175\n",
       "29.0     126\n",
       "33.0     122\n",
       "31.0     121\n",
       "34.0     113\n",
       "36.0     111\n",
       "37.0     100\n",
       "38.0      96\n",
       "42.0      67\n",
       "45.0      52\n",
       "39.0      51\n",
       "41.0      42\n",
       "51.0      41\n",
       "43.0      31\n",
       "44.0      26\n",
       "46.0      19\n",
       "48.0      18\n",
       "50.0      14\n",
       "47.0      10\n",
       "49.0       9\n",
       "Name: YearsCodePro, dtype: int64"
      ]
     },
     "execution_count": 31,
     "metadata": {},
     "output_type": "execute_result"
    }
   ],
   "source": [
    "survey_df['YearsCodePro'].value_counts()"
   ]
  },
  {
   "cell_type": "code",
   "execution_count": 32,
   "id": "cc357248-2df8-4596-838f-b6c522175fbd",
   "metadata": {},
   "outputs": [
    {
     "data": {
      "text/html": [
       "<div>\n",
       "<style scoped>\n",
       "    .dataframe tbody tr th:only-of-type {\n",
       "        vertical-align: middle;\n",
       "    }\n",
       "\n",
       "    .dataframe tbody tr th {\n",
       "        vertical-align: top;\n",
       "    }\n",
       "\n",
       "    .dataframe thead th {\n",
       "        text-align: right;\n",
       "    }\n",
       "</style>\n",
       "<table border=\"1\" class=\"dataframe\">\n",
       "  <thead>\n",
       "    <tr style=\"text-align: right;\">\n",
       "      <th></th>\n",
       "      <th>YearsCode</th>\n",
       "      <th>YearsCodePro</th>\n",
       "      <th>WorkExp</th>\n",
       "    </tr>\n",
       "  </thead>\n",
       "  <tbody>\n",
       "    <tr>\n",
       "      <th>count</th>\n",
       "      <td>71331.000000</td>\n",
       "      <td>51833.000000</td>\n",
       "      <td>36769.000000</td>\n",
       "    </tr>\n",
       "    <tr>\n",
       "      <th>mean</th>\n",
       "      <td>12.251307</td>\n",
       "      <td>9.910270</td>\n",
       "      <td>10.242378</td>\n",
       "    </tr>\n",
       "    <tr>\n",
       "      <th>std</th>\n",
       "      <td>9.952419</td>\n",
       "      <td>8.712048</td>\n",
       "      <td>8.706850</td>\n",
       "    </tr>\n",
       "    <tr>\n",
       "      <th>min</th>\n",
       "      <td>0.000000</td>\n",
       "      <td>0.000000</td>\n",
       "      <td>0.000000</td>\n",
       "    </tr>\n",
       "    <tr>\n",
       "      <th>25%</th>\n",
       "      <td>5.000000</td>\n",
       "      <td>4.000000</td>\n",
       "      <td>4.000000</td>\n",
       "    </tr>\n",
       "    <tr>\n",
       "      <th>50%</th>\n",
       "      <td>9.000000</td>\n",
       "      <td>7.000000</td>\n",
       "      <td>8.000000</td>\n",
       "    </tr>\n",
       "    <tr>\n",
       "      <th>75%</th>\n",
       "      <td>16.000000</td>\n",
       "      <td>14.000000</td>\n",
       "      <td>15.000000</td>\n",
       "    </tr>\n",
       "    <tr>\n",
       "      <th>max</th>\n",
       "      <td>51.000000</td>\n",
       "      <td>51.000000</td>\n",
       "      <td>50.000000</td>\n",
       "    </tr>\n",
       "  </tbody>\n",
       "</table>\n",
       "</div>"
      ],
      "text/plain": [
       "          YearsCode  YearsCodePro       WorkExp\n",
       "count  71331.000000  51833.000000  36769.000000\n",
       "mean      12.251307      9.910270     10.242378\n",
       "std        9.952419      8.712048      8.706850\n",
       "min        0.000000      0.000000      0.000000\n",
       "25%        5.000000      4.000000      4.000000\n",
       "50%        9.000000      7.000000      8.000000\n",
       "75%       16.000000     14.000000     15.000000\n",
       "max       51.000000     51.000000     50.000000"
      ]
     },
     "execution_count": 32,
     "metadata": {},
     "output_type": "execute_result"
    }
   ],
   "source": [
    "survey_df.describe()"
   ]
  },
  {
   "cell_type": "code",
   "execution_count": 33,
   "id": "69aad2f7-7e48-4842-8c74-118e301bf3c7",
   "metadata": {},
   "outputs": [],
   "source": [
    "survey_df['YearsCode'] = pd.to_numeric(survey_df.YearsCode, errors = 'coerce')\n",
    "survey_df['YearsCodePro'] = pd.to_numeric(survey_df.YearsCodePro, errors='coerce')"
   ]
  },
  {
   "cell_type": "code",
   "execution_count": 34,
   "id": "cd32ce44-f6af-478c-829f-5e8e33ec7026",
   "metadata": {},
   "outputs": [],
   "source": [
    "#numeric 쓰면 수치형 데이터로 편하게 바꿀 수 있다."
   ]
  },
  {
   "cell_type": "code",
   "execution_count": 35,
   "id": "6465f4f5-e512-42b9-9db2-0358b1fa2edf",
   "metadata": {},
   "outputs": [
    {
     "data": {
      "text/plain": [
       "'Which of the following describe you, if any? Please check all that apply.'"
      ]
     },
     "execution_count": 35,
     "metadata": {},
     "output_type": "execute_result"
    }
   ],
   "source": [
    "schema_raw['Gender']"
   ]
  },
  {
   "cell_type": "code",
   "execution_count": 36,
   "id": "1088c737-95d3-489b-93c7-e095ab12e2f9",
   "metadata": {},
   "outputs": [
    {
     "data": {
      "text/plain": [
       "Man                                                                                   64607\n",
       "Woman                                                                                  3399\n",
       "Prefer not to say                                                                      1172\n",
       "Non-binary, genderqueer, or gender non-conforming                                       704\n",
       "Or, in your own words:                                                                  279\n",
       "Man;Non-binary, genderqueer, or gender non-conforming                                   235\n",
       "Man;Or, in your own words:                                                              171\n",
       "Woman;Non-binary, genderqueer, or gender non-conforming                                 160\n",
       "Man;Woman;Non-binary, genderqueer, or gender non-conforming                              31\n",
       "Man;Woman                                                                                24\n",
       "Man;Or, in your own words:;Woman;Non-binary, genderqueer, or gender non-conforming       18\n",
       "Or, in your own words:;Woman;Non-binary, genderqueer, or gender non-conforming           15\n",
       "Or, in your own words:;Non-binary, genderqueer, or gender non-conforming                 14\n",
       "Or, in your own words:;Woman                                                             13\n",
       "Man;Or, in your own words:;Non-binary, genderqueer, or gender non-conforming              9\n",
       "Man;Or, in your own words:;Woman                                                          2\n",
       "Name: Gender, dtype: int64"
      ]
     },
     "execution_count": 36,
     "metadata": {},
     "output_type": "execute_result"
    }
   ],
   "source": [
    "survey_df['Gender'].value_counts()"
   ]
  },
  {
   "cell_type": "code",
   "execution_count": 37,
   "id": "ed11ba8e-27b3-40b0-8f64-b8e3d939c8bc",
   "metadata": {},
   "outputs": [],
   "source": [
    "survey_df.where(~(survey_df['Gender'].str.contains(';',na=False)), np.nan, inplace=True)\n",
    "              # ~: 비트 연산자, Series의 자료형의 벡터화 연산을 위해 True <-> False 반전\n",
    "                                    # ;로 구분된거 포함된것을 nan 처리 해버리기"
   ]
  },
  {
   "cell_type": "code",
   "execution_count": 38,
   "id": "1be9010c-04b0-4902-a44b-00fabf10ff59",
   "metadata": {},
   "outputs": [
    {
     "data": {
      "text/plain": [
       "Man                                                  64607\n",
       "Woman                                                 3399\n",
       "Prefer not to say                                     1172\n",
       "Non-binary, genderqueer, or gender non-conforming      704\n",
       "Or, in your own words:                                 279\n",
       "Name: Gender, dtype: int64"
      ]
     },
     "execution_count": 38,
     "metadata": {},
     "output_type": "execute_result"
    }
   ],
   "source": [
    "survey_df['Gender'].value_counts()"
   ]
  },
  {
   "cell_type": "code",
   "execution_count": 39,
   "id": "ae8c5015-f530-4d25-aea7-72844a21a214",
   "metadata": {},
   "outputs": [],
   "source": [
    "%matplotlib inline"
   ]
  },
  {
   "cell_type": "code",
   "execution_count": 40,
   "id": "0e4fda56-51ce-4e4a-9509-1359a81487c8",
   "metadata": {},
   "outputs": [],
   "source": [
    "sns.set_style('darkgrid')"
   ]
  },
  {
   "cell_type": "code",
   "execution_count": 41,
   "id": "ffe80552-58f4-4799-9811-10aef43eed5a",
   "metadata": {},
   "outputs": [],
   "source": [
    "mpl.rcParams['font.size']=14"
   ]
  },
  {
   "cell_type": "code",
   "execution_count": 42,
   "id": "bdbd6646-2c7c-408d-b81d-270884f09c67",
   "metadata": {},
   "outputs": [],
   "source": [
    "mpl.rcParams['figure.figsize'] = (9,5)"
   ]
  },
  {
   "cell_type": "code",
   "execution_count": 60,
   "id": "041812e6-e2f6-4ad8-a626-29486266190f",
   "metadata": {},
   "outputs": [],
   "source": [
    "mpl.rcParams['figure.facecolor']='#ffffff'"
   ]
  },
  {
   "cell_type": "code",
   "execution_count": 61,
   "id": "f0561ea8-b3c3-4bc4-8403-ed2186e6763b",
   "metadata": {},
   "outputs": [
    {
     "name": "stdout",
     "output_type": "stream",
     "text": [
      "['Solarize_Light2', '_classic_test_patch', '_mpl-gallery', '_mpl-gallery-nogrid', 'bmh', 'classic', 'dark_background', 'fast', 'fivethirtyeight', 'ggplot', 'grayscale', 'seaborn', 'seaborn-bright', 'seaborn-colorblind', 'seaborn-dark', 'seaborn-dark-palette', 'seaborn-darkgrid', 'seaborn-deep', 'seaborn-muted', 'seaborn-notebook', 'seaborn-paper', 'seaborn-pastel', 'seaborn-poster', 'seaborn-talk', 'seaborn-ticks', 'seaborn-white', 'seaborn-whitegrid', 'tableau-colorblind10']\n"
     ]
    }
   ],
   "source": [
    "#matplotlib.pyplot에 style을 적용할 수 있는 것들에 대한 리스트 조회\n",
    "print(plt.style.available)"
   ]
  },
  {
   "cell_type": "code",
   "execution_count": 62,
   "id": "62587786-fd44-47c6-8df3-1387de2dddc0",
   "metadata": {},
   "outputs": [],
   "source": [
    "mpl.rcParams['axes.facecolor']='white'"
   ]
  },
  {
   "cell_type": "code",
   "execution_count": 69,
   "id": "cf383d6a-b17e-43f7-9343-7de44c37c69b",
   "metadata": {},
   "outputs": [],
   "source": [
    "#스타일 변경\n",
    "plt.style.use('seaborn-pastel')\n",
    "\n",
    "#스타일 설정 초기화\n",
    "#plt.style.use('default')"
   ]
  },
  {
   "cell_type": "code",
   "execution_count": 70,
   "id": "6920f446-f46a-4134-a777-a58ca7d1b410",
   "metadata": {},
   "outputs": [
    {
     "data": {
      "image/png": "[encoded data removed]",
      "text/plain": [
       "<Figure size 640x480 with 1 Axes>"
      ]
     },
     "metadata": {},
     "output_type": "display_data"
    }
   ],
   "source": [
    "plt.plot(range(10))\n",
    "plt.show()"
   ]
  },
  {
   "cell_type": "code",
   "execution_count": 48,
   "id": "c3be8609-cf11-488a-8c82-22168ac5177f",
   "metadata": {},
   "outputs": [
    {
     "data": {
      "text/plain": [
       "United States of America                                13321\n",
       "India                                                    6618\n",
       "Germany                                                  5342\n",
       "United Kingdom of Great Britain and Northern Ireland     4132\n",
       "Canada                                                   2459\n",
       "France                                                   2306\n",
       "Brazil                                                   2088\n",
       "Poland                                                   1719\n",
       "Netherlands                                              1539\n",
       "Spain                                                    1511\n",
       "Italy                                                    1504\n",
       "Australia                                                1449\n",
       "Russian Federation                                       1215\n",
       "Turkey                                                   1014\n",
       "Sweden                                                   1008\n",
       "Name: Country, dtype: int64"
      ]
     },
     "execution_count": 48,
     "metadata": {},
     "output_type": "execute_result"
    }
   ],
   "source": [
    "survey_df['Country'].value_counts().head(15)"
   ]
  },
  {
   "cell_type": "code",
   "execution_count": 79,
   "id": "de398ad2-ca4c-4ae3-8791-107a28d16c8f",
   "metadata": {},
   "outputs": [
    {
     "data": {
      "image/png": "[encoded data removed]",
      "text/plain": [
       "<Figure size 640x480 with 1 Axes>"
      ]
     },
     "metadata": {},
     "output_type": "display_data"
    }
   ],
   "source": [
    "top_countries = survey_df['Country'].value_counts().head(15)\n",
    "plt.title('응답자의 지역')\n",
    "sns.barplot(x = top_countries.index, y = top_countries)\n",
    "plt.xticks(rotation=90)\n",
    "plt.ylabel('응답자의 수 ')\n",
    "\n",
    "plt.show()"
   ]
  },
  {
   "cell_type": "code",
   "execution_count": 50,
   "id": "c7884bc6-2620-4134-a492-4ab8b973fc16",
   "metadata": {},
   "outputs": [
    {
     "data": {
      "text/plain": [
       "'What is your age?'"
      ]
     },
     "execution_count": 50,
     "metadata": {},
     "output_type": "execute_result"
    }
   ],
   "source": [
    "#연령 특징 살펴보기\n",
    "schema_raw['Age']"
   ]
  },
  {
   "cell_type": "code",
   "execution_count": 51,
   "id": "c937b81e-4a8a-4861-8a4f-a233fdd87c74",
   "metadata": {},
   "outputs": [
    {
     "data": {
      "text/plain": [
       "ResponseId\n",
       "1                    NaN\n",
       "2                    NaN\n",
       "3        25-34 years old\n",
       "4        35-44 years old\n",
       "5        25-34 years old\n",
       "              ...       \n",
       "73264    25-34 years old\n",
       "73265    25-34 years old\n",
       "73266    55-64 years old\n",
       "73267    55-64 years old\n",
       "73268    25-34 years old\n",
       "Name: Age, Length: 73268, dtype: object"
      ]
     },
     "execution_count": 51,
     "metadata": {},
     "output_type": "execute_result"
    }
   ],
   "source": [
    "survey_df['Age']"
   ]
  },
  {
   "cell_type": "code",
   "execution_count": 52,
   "id": "4e7c5b2f-d75f-4e8b-a101-d7f8fa349c50",
   "metadata": {},
   "outputs": [
    {
     "data": {
      "text/plain": [
       "array([nan, '25-34 years old', '35-44 years old', 'Under 18 years old',\n",
       "       '18-24 years old', '45-54 years old', '55-64 years old',\n",
       "       '65 years or older', 'Prefer not to say'], dtype=object)"
      ]
     },
     "execution_count": 52,
     "metadata": {},
     "output_type": "execute_result"
    }
   ],
   "source": [
    "survey_df['Age'].unique()"
   ]
  },
  {
   "cell_type": "code",
   "execution_count": 53,
   "id": "552f4edb-4f1b-45af-ad88-1c1e57bdd379",
   "metadata": {},
   "outputs": [
    {
     "data": {
      "text/plain": [
       "25-34 years old       27878\n",
       "18-24 years old       16455\n",
       "35-44 years old       13866\n",
       "45-54 years old        5250\n",
       "Under 18 years old     3775\n",
       "55-64 years old        1974\n",
       "65 years or older       547\n",
       "Prefer not to say       512\n",
       "Name: Age, dtype: int64"
      ]
     },
     "execution_count": 53,
     "metadata": {},
     "output_type": "execute_result"
    }
   ],
   "source": [
    "age_count = survey_df['Age'].value_counts()\n",
    "age_count"
   ]
  },
  {
   "cell_type": "code",
   "execution_count": 82,
   "id": "3a74984c-3a06-449d-9df3-e28605fd0bb7",
   "metadata": {},
   "outputs": [
    {
     "data": {
      "image/png": "[encoded data removed]",
      "text/plain": [
       "<Figure size 640x480 with 1 Axes>"
      ]
     },
     "metadata": {},
     "output_type": "display_data"
    }
   ],
   "source": [
    "age_count = survey_df['Age'].value_counts()\n",
    "\n",
    "i = ['Under 18 years old', '18-24 years old','25-34 years old',\n",
    "     '35-44 years old', '45-54 years old', '55-64 years old',\n",
    "     '65 years or older', 'Prefer not to say']\n",
    "\n",
    "sns.barplot(x = i, y = age_count[i])\n",
    "\n",
    "'''\n",
    "age_order = ['Under 18 years old', '18-24 years old','25-34 years old',\n",
    "             '35-44 years old', '45-54 years old', '55-64 years old',\n",
    "             '65 years or older', 'Prefer not to say']\n",
    "sns.barplot(x=age_count.index, y=age_count.values, order=age_order)\n",
    "'''\n",
    "\n",
    "plt.title('What is your age?')\n",
    "plt.xticks(rotation=90)\n",
    "plt.ylabel('응답자의 수')\n",
    "\n",
    "plt.show()"
   ]
  },
  {
   "cell_type": "code",
   "execution_count": 56,
   "id": "f73def05-6b37-425c-a2de-b6da9013381b",
   "metadata": {},
   "outputs": [
    {
     "data": {
      "text/plain": [
       "ResponseId\n",
       "1                    NaN\n",
       "2                    NaN\n",
       "3        25-34 years old\n",
       "4        35-44 years old\n",
       "5        25-34 years old\n",
       "              ...       \n",
       "73264    25-34 years old\n",
       "73265    25-34 years old\n",
       "73266    55-64 years old\n",
       "73267    55-64 years old\n",
       "73268    25-34 years old\n",
       "Name: Age, Length: 73268, dtype: category\n",
       "Categories (8, object): ['18-24 years old', '25-34 years old', '35-44 years old', '45-54 years old', '55-64 years old', '65 years or older', 'Prefer not to say', 'Under 18 years old']"
      ]
     },
     "execution_count": 56,
     "metadata": {},
     "output_type": "execute_result"
    }
   ],
   "source": [
    " survey_df['Age'].astype('category')"
   ]
  },
  {
   "cell_type": "code",
   "execution_count": 83,
   "id": "4122c16e-4493-4d1c-afff-11701b177a2e",
   "metadata": {},
   "outputs": [
    {
     "data": {
      "text/plain": [
       "'Which of the following describe you, if any? Please check all that apply.'"
      ]
     },
     "execution_count": 83,
     "metadata": {},
     "output_type": "execute_result"
    }
   ],
   "source": [
    "schema_raw.Gender"
   ]
  },
  {
   "cell_type": "code",
   "execution_count": 85,
   "id": "57af3055-8a15-4044-992b-8b1b246814ec",
   "metadata": {},
   "outputs": [
    {
     "data": {
      "text/plain": [
       "Man                                                  0.920839\n",
       "Woman                                                0.048446\n",
       "Prefer not to say                                    0.016704\n",
       "Non-binary, genderqueer, or gender non-conforming    0.010034\n",
       "Or, in your own words:                               0.003977\n",
       "Name: Gender, dtype: float64"
      ]
     },
     "execution_count": 85,
     "metadata": {},
     "output_type": "execute_result"
    }
   ],
   "source": [
    "gender_counts = survey_df['Gender'].value_counts(True)\n",
    "gender_counts"
   ]
  },
  {
   "cell_type": "code",
   "execution_count": 124,
   "id": "6ba5dd23-d138-47eb-8899-163d79a5f042",
   "metadata": {},
   "outputs": [
    {
     "data": {
      "image/png": "[encoded data removed]",
      "text/plain": [
       "<Figure size 640x480 with 1 Axes>"
      ]
     },
     "metadata": {},
     "output_type": "display_data"
    }
   ],
   "source": [
    "plt.pie(gender_counts, labels=gender_counts.index, startangle=180, autopct='%1.1f%%',\n",
    "       rotatelabels=True, labeldistance=1.2, pctdistance = 1)\n",
    "        #rotatelables label을 조금 틀어지게 해서 겹치는 것을 적게 함(회전)\n",
    "                        # labeldistance 중심으로부터 거리\n",
    "                                            #pct는 퍼센트값\n",
    "\n",
    "plt.title(schema_raw.Gender)\n",
    "\n",
    "plt.show()"
   ]
  },
  {
   "cell_type": "code",
   "execution_count": 125,
   "id": "76034567-8c71-4791-ba08-796bb8d57b8c",
   "metadata": {},
   "outputs": [
    {
     "data": {
      "text/plain": [
       "'Which of the following best describes the highest level of formal education that you’ve completed? *'"
      ]
     },
     "execution_count": 125,
     "metadata": {},
     "output_type": "execute_result"
    }
   ],
   "source": [
    "#응답자의 교육 수준\n",
    "schema_raw['EdLevel']"
   ]
  },
  {
   "cell_type": "code",
   "execution_count": 126,
   "id": "83709a2e-b19d-4aba-8fcb-990d11e54a8f",
   "metadata": {},
   "outputs": [
    {
     "data": {
      "text/plain": [
       "Bachelor’s degree (B.A., B.S., B.Eng., etc.)                                          30050\n",
       "Master’s degree (M.A., M.S., M.Eng., MBA, etc.)                                       15394\n",
       "Some college/university study without earning a degree                                 9194\n",
       "Secondary school (e.g. American high school, German Realschule or Gymnasium, etc.)     7769\n",
       "Associate degree (A.A., A.S., etc.)                                                    2221\n",
       "Other doctoral degree (Ph.D., Ed.D., etc.)                                             2152\n",
       "Primary/elementary school                                                              1767\n",
       "Something else                                                                         1222\n",
       "Professional degree (JD, MD, etc.)                                                     1110\n",
       "Name: EdLevel, dtype: int64"
      ]
     },
     "execution_count": 126,
     "metadata": {},
     "output_type": "execute_result"
    }
   ],
   "source": [
    "survey_df['EdLevel'].value_counts()"
   ]
  },
  {
   "cell_type": "code",
   "execution_count": 129,
   "id": "ac8b8964-157a-40c1-8f8e-4c5c97966e9e",
   "metadata": {},
   "outputs": [
    {
     "data": {
      "image/png": "[encoded data removed]",
      "text/plain": [
       "<Figure size 640x480 with 1 Axes>"
      ]
     },
     "metadata": {},
     "output_type": "display_data"
    }
   ],
   "source": [
    "edLevel = survey_df['EdLevel'].value_counts()\n",
    "\n",
    "l = ['Master’s degree (M.A., M.S., M.Eng., MBA, etc.)',\n",
    "     'Bachelor’s degree (B.A., B.S., B.Eng., etc.)',\n",
    "     'Secondary school (e.g. American high school, German Realschule or Gymnasium, etc.)',\n",
    "     'Some college/university study without earning a degree',\n",
    "     'Something else',\n",
    "     'Primary/elementary school',\n",
    "     'Other doctoral degree (Ph.D., Ed.D., etc.)',\n",
    "     'Associate degree (A.A., A.S., etc.)',\n",
    "     'Professional degree (JD, MD, etc.)']\n",
    "\n",
    "sns.barplot(x = edLevel, y = edLevel.index, order = l)\n",
    "\n",
    "plt.title(schema_raw['EdLevel'])\n",
    "plt.xticks(rotation=45)\n",
    "\n",
    "plt.show()"
   ]
  },
  {
   "cell_type": "code",
   "execution_count": 140,
   "id": "dbf01578-3b5b-4a4d-b324-7dd8a7ad89a8",
   "metadata": {},
   "outputs": [
    {
     "data": {
      "image/png": "[encoded data removed]",
      "text/plain": [
       "<Figure size 640x480 with 1 Axes>"
      ]
     },
     "metadata": {},
     "output_type": "display_data"
    }
   ],
   "source": [
    "edLevel = survey_df['EdLevel'].value_counts()\n",
    "\n",
    "l = ['Master’s degree (M.A., M.S., M.Eng., MBA, etc.)',\n",
    "     'Bachelor’s degree (B.A., B.S., B.Eng., etc.)',\n",
    "     'Secondary school (e.g. American high school, German Realschule or Gymnasium, etc.)',\n",
    "     'Some college/university study without earning a degree',\n",
    "     'Something else',\n",
    "     'Primary/elementary school',\n",
    "     'Other doctoral degree (Ph.D., Ed.D., etc.)',\n",
    "     'Associate degree (A.A., A.S., etc.)',\n",
    "     'Professional degree (JD, MD, etc.)']\n",
    "\n",
    "sns.barplot(x = edLevel, y = edLevel.index, order = l)\n",
    "\n",
    "plt.xlabel('')\n",
    "plt.title(schema_raw['EdLevel'])\n",
    "plt.xticks(rotation=45)\n",
    "\n",
    "plt.show()"
   ]
  },
  {
   "cell_type": "code",
   "execution_count": 149,
   "id": "e02a5942-46a6-4829-88e0-db842ff40915",
   "metadata": {},
   "outputs": [
    {
     "data": {
      "image/png": "[encoded data removed]",
      "text/plain": [
       "<Figure size 640x480 with 1 Axes>"
      ]
     },
     "metadata": {},
     "output_type": "display_data"
    }
   ],
   "source": [
    "#강사님 답안\n",
    "sns.countplot(y = survey_df['EdLevel'])\n",
    "\n",
    "plt.xticks(rotation=45)\n",
    "plt.title(schema_raw['EdLevel'])\n",
    "plt.xlabel(None)\n",
    "plt.ylabel(None)\n",
    "plt.show()"
   ]
  },
  {
   "cell_type": "code",
   "execution_count": 162,
   "id": "708fcb28-801b-4856-b577-0ffba366c9d7",
   "metadata": {},
   "outputs": [
    {
     "data": {
      "image/png": "[encoded data removed]",
      "text/plain": [
       "<Figure size 640x480 with 1 Axes>"
      ]
     },
     "metadata": {},
     "output_type": "display_data"
    }
   ],
   "source": [
    "edLevel = survey_df['EdLevel'].value_counts(True)\n",
    "\n",
    "sns.barplot(x = edLevel*100, y = edLevel.index)\n",
    "\n",
    "plt.xlabel('')\n",
    "plt.title(schema_raw['EdLevel'])\n",
    "plt.xticks(rotation=45)\n",
    "\n",
    "plt.show()"
   ]
  },
  {
   "cell_type": "code",
   "execution_count": 150,
   "id": "a9a30474-cff5-4b63-8bb9-ec49076dbfc8",
   "metadata": {},
   "outputs": [
    {
     "data": {
      "text/plain": [
       "Bachelor’s degree (B.A., B.S., B.Eng., etc.)                                          0.423962\n",
       "Master’s degree (M.A., M.S., M.Eng., MBA, etc.)                                       0.217187\n",
       "Some college/university study without earning a degree                                0.129714\n",
       "Secondary school (e.g. American high school, German Realschule or Gymnasium, etc.)    0.109609\n",
       "Associate degree (A.A., A.S., etc.)                                                   0.031335\n",
       "Other doctoral degree (Ph.D., Ed.D., etc.)                                            0.030362\n",
       "Primary/elementary school                                                             0.024930\n",
       "Something else                                                                        0.017241\n",
       "Professional degree (JD, MD, etc.)                                                    0.015660\n",
       "Name: EdLevel, dtype: float64"
      ]
     },
     "execution_count": 150,
     "metadata": {},
     "output_type": "execute_result"
    }
   ],
   "source": [
    "survey_df['EdLevel'].value_counts(True)"
   ]
  },
  {
   "cell_type": "code",
   "execution_count": 164,
   "id": "e1012b2e-4422-436d-b4f4-24f954374851",
   "metadata": {},
   "outputs": [
    {
     "data": {
      "text/plain": [
       "'Which of the following best describes your current employment status?'"
      ]
     },
     "execution_count": 164,
     "metadata": {},
     "output_type": "execute_result"
    }
   ],
   "source": [
    "#고용 형태 확인\n",
    "schema_raw['Employment']"
   ]
  },
  {
   "cell_type": "code",
   "execution_count": 165,
   "id": "6c2f2e68-7792-48cd-99d9-44a544357e85",
   "metadata": {},
   "outputs": [
    {
     "data": {
      "text/plain": [
       "ResponseId\n",
       "1                                                      NaN\n",
       "2                                      Employed, full-time\n",
       "3                                      Employed, full-time\n",
       "4                                      Employed, full-time\n",
       "5                                      Employed, full-time\n",
       "                               ...                        \n",
       "73264                                  Employed, full-time\n",
       "73265                                  Employed, full-time\n",
       "73266                                  Employed, full-time\n",
       "73267                                  Employed, full-time\n",
       "73268    Independent contractor, freelancer, or self-em...\n",
       "Name: Employment, Length: 73268, dtype: object"
      ]
     },
     "execution_count": 165,
     "metadata": {},
     "output_type": "execute_result"
    }
   ],
   "source": [
    "survey_df['Employment']"
   ]
  },
  {
   "cell_type": "code",
   "execution_count": 166,
   "id": "0edb4353-090d-415e-a67f-5924b7f269f6",
   "metadata": {},
   "outputs": [
    {
     "data": {
      "text/plain": [
       "array([nan, 'Employed, full-time', 'Student, full-time',\n",
       "       'Student, part-time', 'Not employed, but looking for work',\n",
       "       'Independent contractor, freelancer, or self-employed',\n",
       "       'Employed, full-time;Independent contractor, freelancer, or self-employed',\n",
       "       'Employed, part-time', 'Student, part-time;Employed, part-time',\n",
       "       'Not employed, and not looking for work',\n",
       "       'Student, full-time;Employed, part-time',\n",
       "       'Employed, full-time;Student, part-time',\n",
       "       'Employed, full-time;Student, full-time',\n",
       "       'Student, part-time;Independent contractor, freelancer, or self-employed',\n",
       "       'Retired', 'Student, full-time;Not employed, but looking for work',\n",
       "       'I prefer not to say',\n",
       "       'Student, full-time;Independent contractor, freelancer, or self-employed',\n",
       "       'Student, full-time;Not employed, and not looking for work',\n",
       "       'Not employed, but looking for work;Independent contractor, freelancer, or self-employed',\n",
       "       'Employed, full-time;Student, part-time;Independent contractor, freelancer, or self-employed',\n",
       "       'Independent contractor, freelancer, or self-employed;Employed, part-time',\n",
       "       'Student, part-time;Independent contractor, freelancer, or self-employed;Employed, part-time',\n",
       "       'Employed, full-time;Independent contractor, freelancer, or self-employed;Employed, part-time',\n",
       "       'Independent contractor, freelancer, or self-employed;Retired',\n",
       "       'Employed, full-time;Student, full-time;Student, part-time;Independent contractor, freelancer, or self-employed;Employed, part-time',\n",
       "       'Employed, full-time;Student, part-time;Employed, part-time',\n",
       "       'Student, full-time;Student, part-time',\n",
       "       'Employed, full-time;Student, full-time;Independent contractor, freelancer, or self-employed',\n",
       "       'Student, full-time;Independent contractor, freelancer, or self-employed;Employed, part-time',\n",
       "       'Student, part-time;Not employed, and not looking for work',\n",
       "       'Student, part-time;Not employed, but looking for work;Independent contractor, freelancer, or self-employed',\n",
       "       'Employed, full-time;Employed, part-time',\n",
       "       'Student, part-time;Not employed, but looking for work',\n",
       "       'Employed, full-time;Not employed, but looking for work',\n",
       "       'Student, full-time;Student, part-time;Not employed, but looking for work;Independent contractor, freelancer, or self-employed;Not employed, and not looking for work',\n",
       "       'Employed, full-time;Student, full-time;Employed, part-time',\n",
       "       'Independent contractor, freelancer, or self-employed;Not employed, and not looking for work',\n",
       "       'Student, full-time;Not employed, but looking for work;Independent contractor, freelancer, or self-employed',\n",
       "       'Not employed, but looking for work;Not employed, and not looking for work',\n",
       "       'Employed, full-time;Student, part-time;Independent contractor, freelancer, or self-employed;Employed, part-time',\n",
       "       'Not employed, but looking for work;Independent contractor, freelancer, or self-employed;Employed, part-time',\n",
       "       'Employed, full-time;Student, full-time;Student, part-time',\n",
       "       'Employed, full-time;Not employed, but looking for work;Employed, part-time',\n",
       "       'Student, part-time;Not employed, but looking for work;Employed, part-time',\n",
       "       'Employed, full-time;Student, full-time;Independent contractor, freelancer, or self-employed;Employed, part-time',\n",
       "       'Not employed, but looking for work;Employed, part-time',\n",
       "       'Employed, full-time;Not employed, but looking for work;Independent contractor, freelancer, or self-employed;Employed, part-time',\n",
       "       'Student, full-time;Independent contractor, freelancer, or self-employed;Not employed, and not looking for work',\n",
       "       'Student, part-time;Not employed, but looking for work;Independent contractor, freelancer, or self-employed;Employed, part-time',\n",
       "       'Not employed, and not looking for work;Retired',\n",
       "       'Employed, full-time;Not employed, and not looking for work',\n",
       "       'Student, full-time;Retired',\n",
       "       'Student, full-time;Student, part-time;Employed, part-time',\n",
       "       'Student, full-time;Student, part-time;Not employed, but looking for work',\n",
       "       'Student, full-time;Student, part-time;Not employed, and not looking for work',\n",
       "       'Student, full-time;Not employed, but looking for work;Independent contractor, freelancer, or self-employed;Employed, part-time',\n",
       "       'Student, full-time;Not employed, but looking for work;Not employed, and not looking for work',\n",
       "       'Employed, full-time;Not employed, but looking for work;Independent contractor, freelancer, or self-employed',\n",
       "       'Employed, part-time;Retired', 'Employed, full-time;Retired',\n",
       "       'Not employed, but looking for work;Independent contractor, freelancer, or self-employed;Retired',\n",
       "       'Employed, full-time;Student, part-time;Not employed, but looking for work;Independent contractor, freelancer, or self-employed;Employed, part-time',\n",
       "       'Student, full-time;Student, part-time;Not employed, but looking for work;Independent contractor, freelancer, or self-employed',\n",
       "       'Student, part-time;Not employed, but looking for work;Not employed, and not looking for work',\n",
       "       'Employed, full-time;Student, full-time;Student, part-time;Independent contractor, freelancer, or self-employed',\n",
       "       'Employed, part-time;Not employed, and not looking for work',\n",
       "       'Student, part-time;Independent contractor, freelancer, or self-employed;Not employed, and not looking for work',\n",
       "       'Student, full-time;Student, part-time;Independent contractor, freelancer, or self-employed',\n",
       "       'Not employed, but looking for work;Independent contractor, freelancer, or self-employed;Not employed, and not looking for work',\n",
       "       'Employed, full-time;Student, full-time;Student, part-time;Not employed, but looking for work;Independent contractor, freelancer, or self-employed;Employed, part-time;Not employed, and not looking for work;Retired',\n",
       "       'Employed, full-time;Not employed, but looking for work;Not employed, and not looking for work',\n",
       "       'Not employed, but looking for work;Retired',\n",
       "       'Employed, full-time;Student, full-time;Student, part-time;Employed, part-time',\n",
       "       'Employed, full-time;Student, full-time;Not employed, but looking for work',\n",
       "       'Employed, full-time;Student, full-time;Student, part-time;Not employed, but looking for work;Independent contractor, freelancer, or self-employed;Employed, part-time;Not employed, and not looking for work',\n",
       "       'Employed, full-time;Student, full-time;Not employed, but looking for work;Employed, part-time',\n",
       "       'Student, part-time;Retired',\n",
       "       'Employed, full-time;Student, full-time;Retired',\n",
       "       'Student, full-time;Not employed, but looking for work;Employed, part-time',\n",
       "       'Employed, full-time;Independent contractor, freelancer, or self-employed;Retired',\n",
       "       'Student, part-time;Independent contractor, freelancer, or self-employed;Retired',\n",
       "       'Independent contractor, freelancer, or self-employed;Employed, part-time;Retired',\n",
       "       'Employed, full-time;Student, full-time;Student, part-time;Not employed, but looking for work;Employed, part-time;Not employed, and not looking for work',\n",
       "       'Student, full-time;Student, part-time;Independent contractor, freelancer, or self-employed;Employed, part-time',\n",
       "       'Employed, full-time;Student, part-time;Not employed, but looking for work',\n",
       "       'Employed, full-time;Student, full-time;Independent contractor, freelancer, or self-employed;Employed, part-time;Not employed, and not looking for work',\n",
       "       'Student, full-time;Student, part-time;Not employed, but looking for work;Independent contractor, freelancer, or self-employed;Employed, part-time;Not employed, and not looking for work;Retired',\n",
       "       'Student, part-time;Not employed, but looking for work;Independent contractor, freelancer, or self-employed;Not employed, and not looking for work',\n",
       "       'Employed, full-time;Student, full-time;Independent contractor, freelancer, or self-employed;Not employed, and not looking for work',\n",
       "       'Employed, full-time;Student, full-time;Student, part-time;Independent contractor, freelancer, or self-employed;Retired',\n",
       "       'Student, full-time;Independent contractor, freelancer, or self-employed;Retired',\n",
       "       'Student, full-time;Student, part-time;Not employed, but looking for work;Not employed, and not looking for work',\n",
       "       'Employed, full-time;Student, full-time;Student, part-time;Not employed, but looking for work;Employed, part-time',\n",
       "       'Employed, full-time;Student, full-time;Not employed, but looking for work;Independent contractor, freelancer, or self-employed',\n",
       "       'Student, part-time;Independent contractor, freelancer, or self-employed;Employed, part-time;Not employed, and not looking for work',\n",
       "       'Employed, full-time;Independent contractor, freelancer, or self-employed;Not employed, and not looking for work',\n",
       "       'Independent contractor, freelancer, or self-employed;Not employed, and not looking for work;Retired',\n",
       "       'Not employed, but looking for work;Employed, part-time;Retired',\n",
       "       'Independent contractor, freelancer, or self-employed;Employed, part-time;Not employed, and not looking for work',\n",
       "       'Student, part-time;Independent contractor, freelancer, or self-employed;Employed, part-time;Retired'],\n",
       "      dtype=object)"
      ]
     },
     "execution_count": 166,
     "metadata": {},
     "output_type": "execute_result"
    }
   ],
   "source": [
    "survey_df['Employment'].unique()"
   ]
  },
  {
   "cell_type": "code",
   "execution_count": 168,
   "id": "67f0ec75-15b3-49fa-87ec-49b44b213248",
   "metadata": {},
   "outputs": [
    {
     "data": {
      "text/plain": [
       "Employed, full-time                                                         42644\n",
       "Student, full-time                                                           6663\n",
       "Independent contractor, freelancer, or self-employed                         4941\n",
       "Employed, full-time;Independent contractor, freelancer, or self-employed     3456\n",
       "Not employed, but looking for work                                           1810\n",
       "Student, full-time;Employed, part-time                                       1148\n",
       "Employed, part-time                                                          1116\n",
       "Student, part-time                                                           1036\n",
       "Employed, full-time;Student, full-time                                        961\n",
       "Employed, full-time;Student, part-time                                        932\n",
       "Student, part-time;Employed, part-time                                        717\n",
       "Student, full-time;Not employed, but looking for work                         715\n",
       "Not employed, and not looking for work                                        705\n",
       "I prefer not to say                                                           599\n",
       "Student, full-time;Independent contractor, freelancer, or self-employed       430\n",
       "Name: Employment, dtype: int64"
      ]
     },
     "execution_count": 168,
     "metadata": {},
     "output_type": "execute_result"
    }
   ],
   "source": [
    "survey_df['Employment'].value_counts().head(15)"
   ]
  },
  {
   "cell_type": "code",
   "execution_count": 169,
   "id": "51dbd588-8344-4bc7-8b8b-30332393abf9",
   "metadata": {},
   "outputs": [
    {
     "data": {
      "text/plain": [
       "'Which of the following describes your current job? Please select all that apply.'"
      ]
     },
     "execution_count": 169,
     "metadata": {},
     "output_type": "execute_result"
    }
   ],
   "source": [
    "schema_raw.DevType"
   ]
  },
  {
   "cell_type": "code",
   "execution_count": 171,
   "id": "f3eef1ff-380d-4bd8-a84d-c316431ba4a4",
   "metadata": {},
   "outputs": [
    {
     "data": {
      "text/plain": [
       "Developer, full-stack                                                                                                                                                                                                                                                                                                                                                                                                                  7091\n",
       "Developer, back-end                                                                                                                                                                                                                                                                                                                                                                                                                    5274\n",
       "Developer, front-end                                                                                                                                                                                                                                                                                                                                                                                                                   2364\n",
       "Developer, front-end;Developer, full-stack;Developer, back-end                                                                                                                                                                                                                                                                                                                                                                         1793\n",
       "Developer, full-stack;Developer, back-end                                                                                                                                                                                                                                                                                                                                                                                              1522\n",
       "                                                                                                                                                                                                                                                                                                                                                                                                                                       ... \n",
       "Educator;Engineering manager;Developer, game or graphics                                                                                                                                                                                                                                                                                                                                                                                  1\n",
       "Data scientist or machine learning specialist;Developer, full-stack;Student;Project manager                                                                                                                                                                                                                                                                                                                                               1\n",
       "Data scientist or machine learning specialist;Engineer, data;Engineer, site reliability;Developer, full-stack;Developer, back-end;Database administrator                                                                                                                                                                                                                                                                                  1\n",
       "Developer, full-stack;Developer, back-end;Developer, desktop or enterprise applications;Engineering manager;Database administrator;DevOps specialist;Project manager;Data or business analyst;Senior Executive (C-Suite, VP, etc.)                                                                                                                                                                                                        1\n",
       "Developer, front-end;Engineer, data;Engineer, site reliability;Developer, full-stack;Developer, back-end;Developer, desktop or enterprise applications;Developer, QA or test;Student;Developer, mobile;Academic researcher;DevOps specialist;Developer, embedded applications or devices;Developer, game or graphics;Cloud infrastructure engineer;Data or business analyst;Designer;Scientist;Product manager;System administrator       1\n",
       "Name: DevType, Length: 9886, dtype: int64"
      ]
     },
     "execution_count": 171,
     "metadata": {},
     "output_type": "execute_result"
    }
   ],
   "source": [
    "survey_df.DevType.value_counts()"
   ]
  },
  {
   "cell_type": "code",
   "execution_count": 207,
   "id": "cf946e25-d621-4825-b80b-74047f9d80c7",
   "metadata": {},
   "outputs": [
    {
     "data": {
      "text/plain": [
       "ResponseId\n",
       "1                                                      NaN\n",
       "2                                                      NaN\n",
       "3        Data scientist or machine learning specialist;...\n",
       "4                                    Developer, full-stack\n",
       "5        Developer, front-end;Developer, full-stack;Dev...\n",
       "                               ...                        \n",
       "73264                                  Developer, back-end\n",
       "73265        Data scientist or machine learning specialist\n",
       "73266    Developer, full-stack;Developer, desktop or en...\n",
       "73267    Developer, front-end;Developer, desktop or ent...\n",
       "73268    Developer, front-end;Engineer, data;Engineer, ...\n",
       "Name: DevType, Length: 73268, dtype: object"
      ]
     },
     "execution_count": 207,
     "metadata": {},
     "output_type": "execute_result"
    }
   ],
   "source": [
    "dev = survey_df.DevType\n",
    "dev"
   ]
  },
  {
   "cell_type": "code",
   "execution_count": 198,
   "id": "2b72ea23-3692-43f3-99a2-ec0985356521",
   "metadata": {},
   "outputs": [],
   "source": [
    "def split_multicolumn(x):\n",
    "    # return할 df\n",
    "    result_df = x.to_frame()\n",
    "    #기술 스텍 목록을 담았다가 마지막 반환할 때 인덱싱으로 활용\n",
    "    options = []\n",
    "    \n",
    "    #NaN 값을 갖는 row를 제외하고 반복\n",
    "    for idx, value in x[ x.notnull() ].items():\n",
    "        #value를 가져와서 ';' 기준으로 split하고 기술 목록을만든다.\n",
    "        for o in value.split(';'):\n",
    "            #현재 option이 result_df.columns에 없으면 추가\n",
    "            if o not in result_df.columns:\n",
    "                options.append(o)\n",
    "                #result_df를 일단 전부 False로 채우기\n",
    "                result_df[o] = False\n",
    "            #파싱한 기술 스텍에 해당하는 column의 값에 True를 넣는다.\n",
    "            result_df.at[idx, o] = True    #result_df.loc[idx, option] = True\n",
    "    return result_df"
   ]
  },
  {
   "cell_type": "code",
   "execution_count": 199,
   "id": "d6e57bbc-fa74-4804-bc75-c0973f3ff7f9",
   "metadata": {},
   "outputs": [
    {
     "data": {
      "text/plain": [
       "0    a;c\n",
       "1    b;d\n",
       "dtype: object"
      ]
     },
     "execution_count": 199,
     "metadata": {},
     "output_type": "execute_result"
    }
   ],
   "source": [
    "a = pd.Series({0:'a;c',1:'b;d'})\n",
    "a"
   ]
  },
  {
   "cell_type": "code",
   "execution_count": 213,
   "id": "4812472a-c275-474e-be44-ded04cc749a2",
   "metadata": {},
   "outputs": [
    {
     "data": {
      "text/html": [
       "<div>\n",
       "<style scoped>\n",
       "    .dataframe tbody tr th:only-of-type {\n",
       "        vertical-align: middle;\n",
       "    }\n",
       "\n",
       "    .dataframe tbody tr th {\n",
       "        vertical-align: top;\n",
       "    }\n",
       "\n",
       "    .dataframe thead th {\n",
       "        text-align: right;\n",
       "    }\n",
       "</style>\n",
       "<table border=\"1\" class=\"dataframe\">\n",
       "  <thead>\n",
       "    <tr style=\"text-align: right;\">\n",
       "      <th></th>\n",
       "      <th>DevType</th>\n",
       "      <th>Data scientist or machine learning specialist</th>\n",
       "      <th>Developer, front-end</th>\n",
       "      <th>Engineer, data</th>\n",
       "      <th>Engineer, site reliability</th>\n",
       "      <th>Developer, full-stack</th>\n",
       "      <th>Developer, back-end</th>\n",
       "      <th>Developer, desktop or enterprise applications</th>\n",
       "      <th>Developer, QA or test</th>\n",
       "      <th>Student</th>\n",
       "      <th>Developer, mobile</th>\n",
       "      <th>Educator</th>\n",
       "      <th>Engineering manager</th>\n",
       "      <th>Database administrator</th>\n",
       "      <th>Academic researcher</th>\n",
       "      <th>DevOps specialist</th>\n",
       "      <th>Other (please specify):</th>\n",
       "      <th>Developer, embedded applications or devices</th>\n",
       "      <th>Developer, game or graphics</th>\n",
       "      <th>Project manager</th>\n",
       "      <th>Cloud infrastructure engineer</th>\n",
       "      <th>Data or business analyst</th>\n",
       "      <th>Designer</th>\n",
       "      <th>Scientist</th>\n",
       "      <th>Product manager</th>\n",
       "      <th>Senior Executive (C-Suite, VP, etc.)</th>\n",
       "      <th>System administrator</th>\n",
       "      <th>Blockchain</th>\n",
       "      <th>Marketing or sales professional</th>\n",
       "      <th>Security professional</th>\n",
       "    </tr>\n",
       "    <tr>\n",
       "      <th>ResponseId</th>\n",
       "      <th></th>\n",
       "      <th></th>\n",
       "      <th></th>\n",
       "      <th></th>\n",
       "      <th></th>\n",
       "      <th></th>\n",
       "      <th></th>\n",
       "      <th></th>\n",
       "      <th></th>\n",
       "      <th></th>\n",
       "      <th></th>\n",
       "      <th></th>\n",
       "      <th></th>\n",
       "      <th></th>\n",
       "      <th></th>\n",
       "      <th></th>\n",
       "      <th></th>\n",
       "      <th></th>\n",
       "      <th></th>\n",
       "      <th></th>\n",
       "      <th></th>\n",
       "      <th></th>\n",
       "      <th></th>\n",
       "      <th></th>\n",
       "      <th></th>\n",
       "      <th></th>\n",
       "      <th></th>\n",
       "      <th></th>\n",
       "      <th></th>\n",
       "      <th></th>\n",
       "    </tr>\n",
       "  </thead>\n",
       "  <tbody>\n",
       "    <tr>\n",
       "      <th>1</th>\n",
       "      <td>NaN</td>\n",
       "      <td>False</td>\n",
       "      <td>False</td>\n",
       "      <td>False</td>\n",
       "      <td>False</td>\n",
       "      <td>False</td>\n",
       "      <td>False</td>\n",
       "      <td>False</td>\n",
       "      <td>False</td>\n",
       "      <td>False</td>\n",
       "      <td>False</td>\n",
       "      <td>False</td>\n",
       "      <td>False</td>\n",
       "      <td>False</td>\n",
       "      <td>False</td>\n",
       "      <td>False</td>\n",
       "      <td>False</td>\n",
       "      <td>False</td>\n",
       "      <td>False</td>\n",
       "      <td>False</td>\n",
       "      <td>False</td>\n",
       "      <td>False</td>\n",
       "      <td>False</td>\n",
       "      <td>False</td>\n",
       "      <td>False</td>\n",
       "      <td>False</td>\n",
       "      <td>False</td>\n",
       "      <td>False</td>\n",
       "      <td>False</td>\n",
       "      <td>False</td>\n",
       "    </tr>\n",
       "    <tr>\n",
       "      <th>2</th>\n",
       "      <td>NaN</td>\n",
       "      <td>False</td>\n",
       "      <td>False</td>\n",
       "      <td>False</td>\n",
       "      <td>False</td>\n",
       "      <td>False</td>\n",
       "      <td>False</td>\n",
       "      <td>False</td>\n",
       "      <td>False</td>\n",
       "      <td>False</td>\n",
       "      <td>False</td>\n",
       "      <td>False</td>\n",
       "      <td>False</td>\n",
       "      <td>False</td>\n",
       "      <td>False</td>\n",
       "      <td>False</td>\n",
       "      <td>False</td>\n",
       "      <td>False</td>\n",
       "      <td>False</td>\n",
       "      <td>False</td>\n",
       "      <td>False</td>\n",
       "      <td>False</td>\n",
       "      <td>False</td>\n",
       "      <td>False</td>\n",
       "      <td>False</td>\n",
       "      <td>False</td>\n",
       "      <td>False</td>\n",
       "      <td>False</td>\n",
       "      <td>False</td>\n",
       "      <td>False</td>\n",
       "    </tr>\n",
       "    <tr>\n",
       "      <th>3</th>\n",
       "      <td>Data scientist or machine learning specialist;...</td>\n",
       "      <td>True</td>\n",
       "      <td>True</td>\n",
       "      <td>True</td>\n",
       "      <td>True</td>\n",
       "      <td>False</td>\n",
       "      <td>False</td>\n",
       "      <td>False</td>\n",
       "      <td>False</td>\n",
       "      <td>False</td>\n",
       "      <td>False</td>\n",
       "      <td>False</td>\n",
       "      <td>False</td>\n",
       "      <td>False</td>\n",
       "      <td>False</td>\n",
       "      <td>False</td>\n",
       "      <td>False</td>\n",
       "      <td>False</td>\n",
       "      <td>False</td>\n",
       "      <td>False</td>\n",
       "      <td>False</td>\n",
       "      <td>False</td>\n",
       "      <td>False</td>\n",
       "      <td>False</td>\n",
       "      <td>False</td>\n",
       "      <td>False</td>\n",
       "      <td>False</td>\n",
       "      <td>False</td>\n",
       "      <td>False</td>\n",
       "      <td>False</td>\n",
       "    </tr>\n",
       "    <tr>\n",
       "      <th>4</th>\n",
       "      <td>Developer, full-stack</td>\n",
       "      <td>False</td>\n",
       "      <td>False</td>\n",
       "      <td>False</td>\n",
       "      <td>False</td>\n",
       "      <td>True</td>\n",
       "      <td>False</td>\n",
       "      <td>False</td>\n",
       "      <td>False</td>\n",
       "      <td>False</td>\n",
       "      <td>False</td>\n",
       "      <td>False</td>\n",
       "      <td>False</td>\n",
       "      <td>False</td>\n",
       "      <td>False</td>\n",
       "      <td>False</td>\n",
       "      <td>False</td>\n",
       "      <td>False</td>\n",
       "      <td>False</td>\n",
       "      <td>False</td>\n",
       "      <td>False</td>\n",
       "      <td>False</td>\n",
       "      <td>False</td>\n",
       "      <td>False</td>\n",
       "      <td>False</td>\n",
       "      <td>False</td>\n",
       "      <td>False</td>\n",
       "      <td>False</td>\n",
       "      <td>False</td>\n",
       "      <td>False</td>\n",
       "    </tr>\n",
       "    <tr>\n",
       "      <th>5</th>\n",
       "      <td>Developer, front-end;Developer, full-stack;Dev...</td>\n",
       "      <td>False</td>\n",
       "      <td>True</td>\n",
       "      <td>False</td>\n",
       "      <td>False</td>\n",
       "      <td>True</td>\n",
       "      <td>True</td>\n",
       "      <td>True</td>\n",
       "      <td>True</td>\n",
       "      <td>False</td>\n",
       "      <td>False</td>\n",
       "      <td>False</td>\n",
       "      <td>False</td>\n",
       "      <td>False</td>\n",
       "      <td>False</td>\n",
       "      <td>False</td>\n",
       "      <td>False</td>\n",
       "      <td>False</td>\n",
       "      <td>False</td>\n",
       "      <td>False</td>\n",
       "      <td>False</td>\n",
       "      <td>False</td>\n",
       "      <td>False</td>\n",
       "      <td>False</td>\n",
       "      <td>False</td>\n",
       "      <td>False</td>\n",
       "      <td>False</td>\n",
       "      <td>False</td>\n",
       "      <td>False</td>\n",
       "      <td>False</td>\n",
       "    </tr>\n",
       "  </tbody>\n",
       "</table>\n",
       "</div>"
      ],
      "text/plain": [
       "                                                      DevType  \\\n",
       "ResponseId                                                      \n",
       "1                                                         NaN   \n",
       "2                                                         NaN   \n",
       "3           Data scientist or machine learning specialist;...   \n",
       "4                                       Developer, full-stack   \n",
       "5           Developer, front-end;Developer, full-stack;Dev...   \n",
       "\n",
       "            Data scientist or machine learning specialist  \\\n",
       "ResponseId                                                  \n",
       "1                                                   False   \n",
       "2                                                   False   \n",
       "3                                                    True   \n",
       "4                                                   False   \n",
       "5                                                   False   \n",
       "\n",
       "            Developer, front-end  Engineer, data  Engineer, site reliability  \\\n",
       "ResponseId                                                                     \n",
       "1                          False           False                       False   \n",
       "2                          False           False                       False   \n",
       "3                           True            True                        True   \n",
       "4                          False           False                       False   \n",
       "5                           True           False                       False   \n",
       "\n",
       "            Developer, full-stack  Developer, back-end  \\\n",
       "ResponseId                                               \n",
       "1                           False                False   \n",
       "2                           False                False   \n",
       "3                           False                False   \n",
       "4                            True                False   \n",
       "5                            True                 True   \n",
       "\n",
       "            Developer, desktop or enterprise applications  \\\n",
       "ResponseId                                                  \n",
       "1                                                   False   \n",
       "2                                                   False   \n",
       "3                                                   False   \n",
       "4                                                   False   \n",
       "5                                                    True   \n",
       "\n",
       "            Developer, QA or test  Student  Developer, mobile  Educator  \\\n",
       "ResponseId                                                                \n",
       "1                           False    False              False     False   \n",
       "2                           False    False              False     False   \n",
       "3                           False    False              False     False   \n",
       "4                           False    False              False     False   \n",
       "5                            True    False              False     False   \n",
       "\n",
       "            Engineering manager  Database administrator  Academic researcher  \\\n",
       "ResponseId                                                                     \n",
       "1                         False                   False                False   \n",
       "2                         False                   False                False   \n",
       "3                         False                   False                False   \n",
       "4                         False                   False                False   \n",
       "5                         False                   False                False   \n",
       "\n",
       "            DevOps specialist  Other (please specify):  \\\n",
       "ResponseId                                               \n",
       "1                       False                    False   \n",
       "2                       False                    False   \n",
       "3                       False                    False   \n",
       "4                       False                    False   \n",
       "5                       False                    False   \n",
       "\n",
       "            Developer, embedded applications or devices  \\\n",
       "ResponseId                                                \n",
       "1                                                 False   \n",
       "2                                                 False   \n",
       "3                                                 False   \n",
       "4                                                 False   \n",
       "5                                                 False   \n",
       "\n",
       "            Developer, game or graphics  Project manager  \\\n",
       "ResponseId                                                 \n",
       "1                                 False            False   \n",
       "2                                 False            False   \n",
       "3                                 False            False   \n",
       "4                                 False            False   \n",
       "5                                 False            False   \n",
       "\n",
       "            Cloud infrastructure engineer  Data or business analyst  Designer  \\\n",
       "ResponseId                                                                      \n",
       "1                                   False                     False     False   \n",
       "2                                   False                     False     False   \n",
       "3                                   False                     False     False   \n",
       "4                                   False                     False     False   \n",
       "5                                   False                     False     False   \n",
       "\n",
       "            Scientist  Product manager  Senior Executive (C-Suite, VP, etc.)  \\\n",
       "ResponseId                                                                     \n",
       "1               False            False                                 False   \n",
       "2               False            False                                 False   \n",
       "3               False            False                                 False   \n",
       "4               False            False                                 False   \n",
       "5               False            False                                 False   \n",
       "\n",
       "            System administrator  Blockchain  Marketing or sales professional  \\\n",
       "ResponseId                                                                      \n",
       "1                          False       False                            False   \n",
       "2                          False       False                            False   \n",
       "3                          False       False                            False   \n",
       "4                          False       False                            False   \n",
       "5                          False       False                            False   \n",
       "\n",
       "            Security professional  \n",
       "ResponseId                         \n",
       "1                           False  \n",
       "2                           False  \n",
       "3                           False  \n",
       "4                           False  \n",
       "5                           False  "
      ]
     },
     "execution_count": 213,
     "metadata": {},
     "output_type": "execute_result"
    }
   ],
   "source": [
    "dev1 = split_multicolumn(dev)\n",
    "dev1.head(5)"
   ]
  },
  {
   "cell_type": "code",
   "execution_count": 216,
   "id": "f61910a0-3e24-4999-bb80-a22d149e3155",
   "metadata": {},
   "outputs": [
    {
     "ename": "AttributeError",
     "evalue": "DevType",
     "output_type": "error",
     "traceback": [
      "\u001b[1;31m---------------------------------------------------------------------------\u001b[0m",
      "\u001b[1;31mAttributeError\u001b[0m                            Traceback (most recent call last)",
      "\u001b[1;32m~\\AppData\\Local\\Temp\\ipykernel_5088\\2630202246.py\u001b[0m in \u001b[0;36m<module>\u001b[1;34m\u001b[0m\n\u001b[1;32m----> 1\u001b[1;33m \u001b[1;32mdel\u001b[0m\u001b[1;33m(\u001b[0m\u001b[0mdev1\u001b[0m\u001b[1;33m.\u001b[0m\u001b[0mDevType\u001b[0m\u001b[1;33m)\u001b[0m\u001b[1;33m\u001b[0m\u001b[1;33m\u001b[0m\u001b[0m\n\u001b[0m",
      "\u001b[1;31mAttributeError\u001b[0m: DevType"
     ]
    }
   ],
   "source": [
    "del(dev1.DevType)"
   ]
  },
  {
   "cell_type": "code",
   "execution_count": null,
   "id": "ffd18959-5427-4891-b5d3-c62530412af0",
   "metadata": {},
   "outputs": [],
   "source": []
  }
 ],
 "metadata": {
  "kernelspec": {
   "display_name": "Python 3 (ipykernel)",
   "language": "python",
   "name": "python3"
  },
  "language_info": {
   "codemirror_mode": {
    "name": "ipython",
    "version": 3
   },
   "file_extension": ".py",
   "mimetype": "text/x-python",
   "name": "python",
   "nbconvert_exporter": "python",
   "pygments_lexer": "ipython3",
   "version": "3.9.13"
  },
  "widgets": {
   "application/vnd.jupyter.widget-state+json": {
    "state": {},
    "version_major": 2,
    "version_minor": 0
   }
  }
 },
 "nbformat": 4,
 "nbformat_minor": 5
}
