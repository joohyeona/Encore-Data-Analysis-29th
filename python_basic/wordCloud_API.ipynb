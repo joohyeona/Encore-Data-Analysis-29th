{
 "cells": [
  {
   "cell_type": "code",
   "execution_count": 15,
   "id": "ea641a35-ebb1-4bf8-9830-a08dc2db1607",
   "metadata": {},
   "outputs": [
    {
     "data": {
      "text/plain": [
       "'C:\\\\python'"
      ]
     },
     "execution_count": 15,
     "metadata": {},
     "output_type": "execute_result"
    }
   ],
   "source": [
    "%pwd"
   ]
  },
  {
   "cell_type": "code",
   "execution_count": 1,
   "id": "75daf0af-bdaf-4bce-ae80-9ad5b33c0135",
   "metadata": {},
   "outputs": [],
   "source": [
    "import os\n",
    "import sys\n",
    "import urllib.request"
   ]
  },
  {
   "cell_type": "code",
   "execution_count": 2,
   "id": "28415c98-b02c-4d45-8537-c3aa27cb7177",
   "metadata": {},
   "outputs": [],
   "source": [
    "# API 호출\n",
    "client_id = \"adzRLUeZvZmM9tMCa2w1\"\n",
    "client_secret = \"t9A_mP8s19\"\n",
    "encText = urllib.parse.quote(\"문화 누리 카드\")     # 원하는 키워드 입력\n",
    "url = \"https://openapi.naver.com/v1/search/news?query=\" + encText # JSON 결과"
   ]
  },
  {
   "cell_type": "code",
   "execution_count": null,
   "id": "f8d748f8-051e-42c7-bb37-c051f396cec5",
   "metadata": {},
   "outputs": [],
   "source": [
    "request = urllib.request.Request(url)\n",
    "request.add_header(\"X-Naver-Client-Id\",client_id)\n",
    "request.add_header(\"X-Naver-Client-Secret\",client_secret)\n",
    "response = urllib.request.urlopen(request)\n",
    "rescode = response.getcode()\n",
    "if(rescode==200):\n",
    "    response_body = response.read()\n",
    "    print(response_body.decode('utf-8'))\n",
    "else:\n",
    "    print(\"Error Code:\" + rescode)"
   ]
  },
  {
   "cell_type": "code",
   "execution_count": 13,
   "id": "92f1977f-23a4-4772-a955-17582166c744",
   "metadata": {},
   "outputs": [
    {
     "name": "stdout",
     "output_type": "stream",
     "text": [
      "{\n",
      "\t\"lastBuildDate\":\"Tue, 21 Mar 2023 02:22:44 +0900\",\n",
      "\t\"total\":21655,\n",
      "\t\"start\":1,\n",
      "\t\"display\":10,\n",
      "\t\"items\":[\n",
      "\t\t{\n",
      "\t\t\t\"title\":\"<b>문화누리카드<\\/b>로 충북청주FC 홈경기 즐기자\",\n",
      "\t\t\t\"originallink\":\"http:\\/\\/www.cctimes.kr\\/news\\/articleView.html?idxno=743976\",\n",
      "\t\t\t\"link\":\"http:\\/\\/www.cctimes.kr\\/news\\/articleView.html?idxno=743976\",\n",
      "\t\t\t\"description\":\"충북청주FC 홈경기 관람권을 청주시 <b>문화누리카드<\\/b>로 결제하면 40%를 할인받을 수 있게 된다. 청주시는 청주를 연고로 한 프로축구단 공식 출범에 따라 시민의 스포츠관람 기회를 확대하기 위해 충북문화재단... \",\n",
      "\t\t\t\"pubDate\":\"Mon, 20 Mar 2023 20:12:00 +0900\"\n",
      "\t\t},\n",
      "\t\t{\n",
      "\t\t\t\"title\":\"<b>문화누리카드<\\/b>로 충북청주FC 홈경기 관람 &apos;40% 할인&apos;\",\n",
      "\t\t\t\"originallink\":\"http:\\/\\/www.ccdn.co.kr\\/news\\/articleView.html?idxno=904483\",\n",
      "\t\t\t\"link\":\"http:\\/\\/www.ccdn.co.kr\\/news\\/articleView.html?idxno=904483\",\n",
      "\t\t\t\"description\":\"K리그2 충북청주FC 홈경기 관람권을 <b>문화누리카드<\\/b>로 예매하면 할인 혜택을 받을 수 있다. 20일 청주시에 따르면 충북청주FC 홈경기 관람권을 <b>문화누리카드<\\/b>로 예매하면 40% 할인된다. 스포츠 관람 저변 확대를 위해... \",\n",
      "\t\t\t\"pubDate\":\"Mon, 20 Mar 2023 20:10:00 +0900\"\n",
      "\t\t},\n",
      "\t\t{\n",
      "\t\t\t\"title\":\"충북청주FC 홈경기 관람권, <b>문화누리카드<\\/b> 결제 40% 할인 적용\",\n",
      "\t\t\t\"originallink\":\"https:\\/\\/thepublic.kr\\/news\\/view\\/1065604585283599\",\n",
      "\t\t\t\"link\":\"https:\\/\\/thepublic.kr\\/news\\/view\\/1065604585283599\",\n",
      "\t\t\t\"description\":\"\\/청주시 제공 충북청주FC 홈경기 관람권을 <b>문화누리카드<\\/b>로 결제하면, 40% 할인 받는다. 20일 시에 따르면 경기 당 본인 포함 최대 4매까지 가능하며, 티켓링크 온라인 예매와 당일 현장 구매 모두 할인 적용을 받는다.... \",\n",
      "\t\t\t\"pubDate\":\"Mon, 20 Mar 2023 19:56:00 +0900\"\n",
      "\t\t},\n",
      "\t\t{\n",
      "\t\t\t\"title\":\"&quot;충북청주FC 홈경기 40% 할인&quot;\",\n",
      "\t\t\t\"originallink\":\"https:\\/\\/www.ccdailynews.com\\/news\\/articleView.html?idxno=2192971\",\n",
      "\t\t\t\"link\":\"https:\\/\\/www.ccdailynews.com\\/news\\/articleView.html?idxno=2192971\",\n",
      "\t\t\t\"description\":\"충북 청주시는 충북청주FC 홈 경기 관람권을 <b>문화누리카드<\\/b>로 결제하면 40% 할인된다고 20일 밝혔다. 1경기 당 본인 포함 최대 4매까지 가능하며 티켓링크 온라인 예매와 당일 현장 구매 모두 적용된다. 청주 연고... \",\n",
      "\t\t\t\"pubDate\":\"Mon, 20 Mar 2023 18:24:00 +0900\"\n",
      "\t\t},\n",
      "\t\t{\n",
      "\t\t\t\"title\":\"충북청주FC 홈 관람권 <b>문화누리카드<\\/b> 결제하면 40% 할인\",\n",
      "\t\t\t\"originallink\":\"https:\\/\\/www.nocutnews.co.kr\\/news\\/5912769\",\n",
      "\t\t\t\"link\":\"https:\\/\\/n.news.naver.com\\/mnews\\/article\\/079\\/0003749423?sid=102\",\n",
      "\t\t\t\"description\":\"청주시가 충북청주FC 홈경기 관람권을 <b>문화누리카드<\\/b>로 결제하면 40% 할인을 받을 수 있다고 20일 밝혔다. 경기 당 본인 포함 최대 4매까지 가능하며 티켓링크 온라인 예매와 당일 현장 구매 모두 할인이 적용된다.... \",\n",
      "\t\t\t\"pubDate\":\"Mon, 20 Mar 2023 17:44:00 +0900\"\n",
      "\t\t},\n",
      "\t\t{\n",
      "\t\t\t\"title\":\"충북청주FC 홈 관람권, <b>문화누리카드<\\/b> 결제 땐 40% 할인\",\n",
      "\t\t\t\"originallink\":\"http:\\/\\/www.newsis.com\\/view\\/?id=NISX20230320_0002233468&cID=10899&pID=10800\",\n",
      "\t\t\t\"link\":\"https:\\/\\/n.news.naver.com\\/mnews\\/article\\/003\\/0011752648?sid=102\",\n",
      "\t\t\t\"description\":\"충북 청주시는 충북청주FC 홈경기 관람권을 <b>문화누리카드<\\/b>로 결제하면 40% 할인 혜택을 준다고 20일 밝혔다. 티켓링크 온라인 예매와 현장 구매 등 본인을 포함해 최대 4장까지 할인 가능하다. 올해 프로축구 K리그2... \",\n",
      "\t\t\t\"pubDate\":\"Mon, 20 Mar 2023 16:13:00 +0900\"\n",
      "\t\t},\n",
      "\t\t{\n",
      "\t\t\t\"title\":\"충북청주FC 홈경기 관람권, <b>문화누리카드<\\/b>로 결제 시 40% 할인\",\n",
      "\t\t\t\"originallink\":\"http:\\/\\/news.tf.co.kr\\/read\\/national\\/2005940.htm\",\n",
      "\t\t\t\"link\":\"https:\\/\\/n.news.naver.com\\/mnews\\/article\\/629\\/0000206798?sid=102\",\n",
      "\t\t\t\"description\":\"앞으로 충북청주FC 홈경기 관람권을 <b>문화누리카드<\\/b>로 결제하면 40%를 할인받을 수 있다. 20일 청주시에 따르면 청주를 연고로 한 프로축구단 공식 출범에 맞춰 시민들의 스포츠 관람 기회를 확대하기 위해... \",\n",
      "\t\t\t\"pubDate\":\"Mon, 20 Mar 2023 15:31:00 +0900\"\n",
      "\t\t},\n",
      "\t\t{\n",
      "\t\t\t\"title\":\"청주시, 충북청주FC 홈경기 관람권 <b>문화누리카드<\\/b> 할인\",\n",
      "\t\t\t\"originallink\":\"https:\\/\\/www.inews365.com\\/news\\/article.html?no=756637\",\n",
      "\t\t\t\"link\":\"https:\\/\\/www.inews365.com\\/news\\/article.html?no=756637\",\n",
      "\t\t\t\"description\":\"［충북일보］ 청주시가 충북청주FC 홈경기 관람권을 <b>문화누리카드<\\/b>로 결제하면 40% 할인을 해준다고 20일 밝혔다. 할인은 경기 당 본인 포함 최대 4매까지 가능하며 티켓링크 온라인 예매와 당일 현장 구매 모두 할인이... \",\n",
      "\t\t\t\"pubDate\":\"Mon, 20 Mar 2023 15:04:00 +0900\"\n",
      "\t\t},\n",
      "\t\t{\n",
      "\t\t\t\"title\":\"경로당 찾아 복지혜택 안내\",\n",
      "\t\t\t\"originallink\":\"https:\\/\\/www.siminilbo.co.kr\\/news\\/newsview.php?ncode=1160285419304019\",\n",
      "\t\t\t\"link\":\"https:\\/\\/www.siminilbo.co.kr\\/news\\/newsview.php?ncode=1160285419304019\",\n",
      "\t\t\t\"description\":\"경기 동두천시 상패동행정복지센터가 최근 지역내 경로당에 방문해 다양한 복지서비스를 안내하고 <b>문화누리카드<\\/b>를 사용할 수 있는 &apos;누리터&apos; 홍보 활동을 진행했다. 사진은 동 관계자가 사천 경로당을 방문해 노인들에게... \",\n",
      "\t\t\t\"pubDate\":\"Mon, 20 Mar 2023 14:46:00 +0900\"\n",
      "\t\t},\n",
      "\t\t{\n",
      "\t\t\t\"title\":\"&quot;<b>문화누리카드<\\/b>로 충북청주FC 홈경기 즐기세요&quot; 관람권 40% 할인\",\n",
      "\t\t\t\"originallink\":\"https:\\/\\/www.news1.kr\\/articles\\/4987306\",\n",
      "\t\t\t\"link\":\"https:\\/\\/n.news.naver.com\\/mnews\\/article\\/421\\/0006694402?sid=102\",\n",
      "\t\t\t\"description\":\"충북청주FC 홈경기 관람권을 청주시 <b>문화누리카드<\\/b>로 결제하면 40%를 할인받을 수 있게 된다. 청주시는 청주를 연고로 한 프로축구단 공식 출범에 따라 시민의 스포츠관람 기회를 확대하기 위해 충북문화재단... \",\n",
      "\t\t\t\"pubDate\":\"Mon, 20 Mar 2023 14:36:00 +0900\"\n",
      "\t\t}\n",
      "\t]\n",
      "}\n"
     ]
    }
   ],
   "source": [
    "print(response_body.decode('utf-8'))"
   ]
  },
  {
   "cell_type": "code",
   "execution_count": 8,
   "id": "0d9a7917-af5b-49c4-8662-4e1bc49d8c74",
   "metadata": {},
   "outputs": [],
   "source": [
    "import requests\n",
    "import pandas as pd\n",
    "from bs4 import BeautifulSoup\n",
    "import matplotlib.pyplot as plt\n",
    "from wordcloud import WordCloud"
   ]
  },
  {
   "cell_type": "code",
   "execution_count": 14,
   "id": "c8ae0876-ea12-485b-8955-408507bc3b2f",
   "metadata": {},
   "outputs": [
    {
     "ename": "AttributeError",
     "evalue": "'str' object has no attribute 'text'",
     "output_type": "error",
     "traceback": [
      "\u001b[1;31m---------------------------------------------------------------------------\u001b[0m",
      "\u001b[1;31mAttributeError\u001b[0m                            Traceback (most recent call last)",
      "\u001b[1;32m~\\AppData\\Local\\Temp\\ipykernel_9596\\1424950469.py\u001b[0m in \u001b[0;36m<module>\u001b[1;34m\u001b[0m\n\u001b[0;32m      2\u001b[0m \u001b[1;31m#news_url = 'https://news.naver.com/main/ranking/popularDay.nhn?date={}'.format(date)\u001b[0m\u001b[1;33m\u001b[0m\u001b[1;33m\u001b[0m\u001b[0m\n\u001b[0;32m      3\u001b[0m \u001b[0mreq\u001b[0m \u001b[1;33m=\u001b[0m \u001b[0mresponse_body\u001b[0m\u001b[1;33m.\u001b[0m\u001b[0mdecode\u001b[0m\u001b[1;33m(\u001b[0m\u001b[1;34m'utf-8'\u001b[0m\u001b[1;33m)\u001b[0m\u001b[1;33m\u001b[0m\u001b[1;33m\u001b[0m\u001b[0m\n\u001b[1;32m----> 4\u001b[1;33m \u001b[0msoup\u001b[0m \u001b[1;33m=\u001b[0m \u001b[0mBeautifulSoup\u001b[0m\u001b[1;33m(\u001b[0m\u001b[0mreq\u001b[0m\u001b[1;33m.\u001b[0m\u001b[0mtext\u001b[0m\u001b[1;33m,\u001b[0m \u001b[1;34m'html.parser'\u001b[0m\u001b[1;33m)\u001b[0m\u001b[1;33m\u001b[0m\u001b[1;33m\u001b[0m\u001b[0m\n\u001b[0m\u001b[0;32m      5\u001b[0m \u001b[0mnews_titles\u001b[0m \u001b[1;33m=\u001b[0m \u001b[0msoup\u001b[0m\u001b[1;33m.\u001b[0m\u001b[0mselect\u001b[0m\u001b[1;33m(\u001b[0m\u001b[1;34m'.rankingnews_box > ul > li > div > a'\u001b[0m\u001b[1;33m)\u001b[0m\u001b[1;33m\u001b[0m\u001b[1;33m\u001b[0m\u001b[0m\n\u001b[0;32m      6\u001b[0m \u001b[1;33m\u001b[0m\u001b[0m\n",
      "\u001b[1;31mAttributeError\u001b[0m: 'str' object has no attribute 'text'"
     ]
    }
   ],
   "source": [
    "#date='20210324'\n",
    "#news_url = 'https://news.naver.com/main/ranking/popularDay.nhn?date={}'.format(date)\n",
    "req = response_body.decode('utf-8')\n",
    "soup = BeautifulSoup(req.text, 'html.parser')\n",
    "news_titles = soup.select('.rankingnews_box > ul > li > div > a')\n",
    "\n",
    "crowled_title = []\n",
    "for i in range(len(news_titles)):\n",
    "    crowled_title.append(news_titles[i].text)\n",
    "    print(i+1, news_titles[i].text) # 기사 제목 리스트 저장하기"
   ]
  },
  {
   "cell_type": "code",
   "execution_count": null,
   "id": "456b0cde-a64b-4e3b-8a17-200701ab9e09",
   "metadata": {},
   "outputs": [],
   "source": [
    "나는\n",
    "문화누리카드 검색햇을때 나오는 결과를 워드클라우드로 하고 싶엇다...\n",
    "근데잘거임"
   ]
  }
 ],
 "metadata": {
  "kernelspec": {
   "display_name": "Python 3 (ipykernel)",
   "language": "python",
   "name": "python3"
  },
  "language_info": {
   "codemirror_mode": {
    "name": "ipython",
    "version": 3
   },
   "file_extension": ".py",
   "mimetype": "text/x-python",
   "name": "python",
   "nbconvert_exporter": "python",
   "pygments_lexer": "ipython3",
   "version": "3.9.13"
  },
  "widgets": {
   "application/vnd.jupyter.widget-state+json": {
    "state": {},
    "version_major": 2,
    "version_minor": 0
   }
  }
 },
 "nbformat": 4,
 "nbformat_minor": 5
}
