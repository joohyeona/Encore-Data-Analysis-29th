{
 "cells": [
  {
   "cell_type": "code",
   "execution_count": 4,
   "id": "66a598e7-c359-4fa2-a52b-228e98640a9b",
   "metadata": {},
   "outputs": [
    {
     "name": "stdin",
     "output_type": "stream",
     "text": [
      " 11:22:33\n"
     ]
    },
    {
     "name": "stdout",
     "output_type": "stream",
     "text": [
      "11 22 33\n"
     ]
    }
   ],
   "source": [
    "list1 = input().split(':')\n",
    "hh, mm, ss = map(int, list1)\n",
    "print( hh, mm, ss)"
   ]
  },
  {
   "cell_type": "code",
   "execution_count": 7,
   "id": "25fcaf0c-5093-4755-ac97-c860c7253a6e",
   "metadata": {},
   "outputs": [
    {
     "name": "stdin",
     "output_type": "stream",
     "text": [
      "점수를 입력하세요 55,66,77,88\n"
     ]
    },
    {
     "name": "stdout",
     "output_type": "stream",
     "text": [
      "평균 점수는  71.5 점입니다.\n"
     ]
    }
   ],
   "source": [
    "list2 = input('점수를 입력하세요').split(',')\n",
    "\n",
    "kor, eng, mat, sci = map(int, list2)\n",
    "\n",
    "print('평균 점수는 ', (kor+eng+mat+sci)/len(list2), '점입니다.')"
   ]
  },
  {
   "cell_type": "code",
   "execution_count": 1,
   "id": "817bebf2-aec7-45d6-a601-9afb898c8354",
   "metadata": {},
   "outputs": [
    {
     "data": {
      "text/plain": [
       "135"
      ]
     },
     "execution_count": 1,
     "metadata": {},
     "output_type": "execute_result"
    }
   ],
   "source": [
    "7+3*2**7-256\n"
   ]
  },
  {
   "cell_type": "code",
   "execution_count": 3,
   "id": "7d9d8be1-3aeb-4862-b2f4-3c6cb6f8cf0b",
   "metadata": {},
   "outputs": [
    {
     "name": "stdout",
     "output_type": "stream",
     "text": [
      "100 None False\n"
     ]
    }
   ],
   "source": [
    "b = 100\n",
    "c = None\n",
    "d = False\n",
    "print( b, c, d)"
   ]
  },
  {
   "cell_type": "code",
   "execution_count": 15,
   "id": "1e7fe2a2-c338-492b-a481-d15e955ecc64",
   "metadata": {},
   "outputs": [
    {
     "name": "stdout",
     "output_type": "stream",
     "text": [
      "zxvtrpnlj\n"
     ]
    }
   ],
   "source": [
    "letters = 'abcdefghijklmnopqrstuvwxyz'\n",
    "print( letters[-1:-18:-2] )"
   ]
  }
 ],
 "metadata": {
  "kernelspec": {
   "display_name": "Python 3 (ipykernel)",
   "language": "python",
   "name": "python3"
  },
  "language_info": {
   "codemirror_mode": {
    "name": "ipython",
    "version": 3
   },
   "file_extension": ".py",
   "mimetype": "text/x-python",
   "name": "python",
   "nbconvert_exporter": "python",
   "pygments_lexer": "ipython3",
   "version": "3.9.13"
  },
  "widgets": {
   "application/vnd.jupyter.widget-state+json": {
    "state": {},
    "version_major": 2,
    "version_minor": 0
   }
  }
 },
 "nbformat": 4,
 "nbformat_minor": 5
}
