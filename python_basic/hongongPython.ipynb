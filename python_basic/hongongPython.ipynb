{
 "cells": [
  {
   "cell_type": "code",
   "execution_count": 2,
   "id": "83262145-4a84-4c48-8571-0d1887e3fe16",
   "metadata": {},
   "outputs": [
    {
     "name": "stdout",
     "output_type": "stream",
     "text": [
      "Hello Python\n"
     ]
    }
   ],
   "source": [
    "print('Hello Python')"
   ]
  },
  {
   "cell_type": "code",
   "execution_count": 3,
   "id": "63424863-a737-4b5b-88d8-ad5cec306831",
   "metadata": {},
   "outputs": [
    {
     "name": "stdout",
     "output_type": "stream",
     "text": [
      "<class 'str'>\n"
     ]
    }
   ],
   "source": [
    "print(type('안녕하세요'))"
   ]
  },
  {
   "cell_type": "code",
   "execution_count": 8,
   "id": "b3777498-4caa-42e6-bf60-f7aabafe99a4",
   "metadata": {},
   "outputs": [
    {
     "name": "stdout",
     "output_type": "stream",
     "text": [
      "\"안녕하세요\"라고 말했습니다\n",
      "\"안녕하세요\"라고 말했습니다\n",
      "\\ \\ \\ \\\n"
     ]
    }
   ],
   "source": [
    "#구문 오류 Syntax Error\n",
    "#print(\"\"안녕하세요\"라고 말했습니다\")\n",
    "\n",
    "# 오류 안 나고 따옴표 출력하는 법\n",
    "print('\"안녕하세요\"라고 말했습니다')\n",
    "print(\"\\\"안녕하세요\\\"라고 말했습니다\")\n",
    "\n",
    "#역슬래시\n",
    "print('\\\\ \\\\ \\\\ \\\\')"
   ]
  },
  {
   "cell_type": "code",
   "execution_count": 7,
   "id": "9531a564-5e72-44c8-bda5-d16e7cac8804",
   "metadata": {},
   "outputs": [
    {
     "name": "stdout",
     "output_type": "stream",
     "text": [
      "안녕\n",
      "하\t세요\n"
     ]
    }
   ],
   "source": [
    "#줄바꿈 \\n\n",
    "#탭 \\t\n",
    "\n",
    "print('안녕\\n하\\t세요')"
   ]
  },
  {
   "cell_type": "code",
   "execution_count": 10,
   "id": "3e2da8aa-dd93-400d-ae79-521e36e4ea2b",
   "metadata": {},
   "outputs": [
    {
     "name": "stdout",
     "output_type": "stream",
     "text": [
      "# 연습문제\n",
      "\\\\\\\\\n",
      "--------\n",
      "\n"
     ]
    }
   ],
   "source": [
    "# 02-1 자료형과 문자열\n",
    "\n",
    "#문제 3\n",
    "print('# 연습문제')\n",
    "print('\\\\\\\\\\\\\\\\')\n",
    "print('-'*8)\n",
    "\n",
    "print('')"
   ]
  },
  {
   "cell_type": "code",
   "execution_count": null,
   "id": "96721a37-c7aa-41dd-ab18-b82b8e58d2e3",
   "metadata": {},
   "outputs": [],
   "source": [
    "#134page"
   ]
  }
 ],
 "metadata": {
  "kernelspec": {
   "display_name": "Python 3 (ipykernel)",
   "language": "python",
   "name": "python3"
  },
  "language_info": {
   "codemirror_mode": {
    "name": "ipython",
    "version": 3
   },
   "file_extension": ".py",
   "mimetype": "text/x-python",
   "name": "python",
   "nbconvert_exporter": "python",
   "pygments_lexer": "ipython3",
   "version": "3.9.13"
  }
 },
 "nbformat": 4,
 "nbformat_minor": 5
}
