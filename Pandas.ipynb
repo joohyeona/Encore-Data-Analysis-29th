{
 "cells": [
  {
   "cell_type": "code",
   "execution_count": 1,
   "id": "627ce3e4-67df-4a1a-b569-5b205df1f62c",
   "metadata": {},
   "outputs": [],
   "source": [
    "import pandas as pd\n",
    "import numpy as np"
   ]
  },
  {
   "cell_type": "code",
   "execution_count": 3,
   "id": "b6da9ea3-ef69-40f2-be7e-a1a6ad97891e",
   "metadata": {},
   "outputs": [
    {
     "data": {
      "text/plain": [
       "1    하나\n",
       "2     둘\n",
       "3     셋\n",
       "4     넷\n",
       "5    다섯\n",
       "dtype: object"
      ]
     },
     "execution_count": 3,
     "metadata": {},
     "output_type": "execute_result"
    }
   ],
   "source": [
    "# Series 객체를 생성할 때 pd.Series()\n",
    "\n",
    "series = pd.Series(['하나', '둘', '셋', '넷', '다섯'],\n",
    "                    index = [ _ for _ in range(1,6)])\n",
    "\n",
    "series"
   ]
  },
  {
   "cell_type": "code",
   "execution_count": 4,
   "id": "86fe32e6-cd0d-4023-b906-2dcbfae50eab",
   "metadata": {},
   "outputs": [
    {
     "data": {
      "text/plain": [
       "0    10\n",
       "1    20\n",
       "2    30\n",
       "3    40\n",
       "4    50\n",
       "5    60\n",
       "6    70\n",
       "7    80\n",
       "8    90\n",
       "dtype: int64"
      ]
     },
     "execution_count": 4,
     "metadata": {},
     "output_type": "execute_result"
    }
   ],
   "source": [
    "#10에서 90까지 값을 갖는 Series 생성\n",
    "#rangeIndex 사용\n",
    "\n",
    "s = pd.Series([ _ for _ in range(10,100,10)])\n",
    "s\n",
    "\n",
    "# pd.Series(list(range(10,100,10)))  <이렇게합시다...:)"
   ]
  },
  {
   "cell_type": "code",
   "execution_count": 5,
   "id": "2fccfbe0-ec47-48ef-b822-5cdae6dc78da",
   "metadata": {},
   "outputs": [
    {
     "data": {
      "text/plain": [
       "서울    9904312\n",
       "부산    3448737\n",
       "인천    2890451\n",
       "대구    2466052\n",
       "dtype: int64"
      ]
     },
     "execution_count": 5,
     "metadata": {},
     "output_type": "execute_result"
    }
   ],
   "source": [
    "# 각 도시의 2015년 인구 데이터를 series로 만들기~\n",
    "# 읽기 쉽게 하기 위해 콤마로 3자리씩 끊어 표기하는 법 _로!\n",
    "\n",
    "s = pd.Series( [9_904_312, 3_448_737, 2_890_451, 2_466_052],\n",
    "              index=['서울', '부산', '인천', '대구'])\n",
    "s"
   ]
  },
  {
   "cell_type": "code",
   "execution_count": 6,
   "id": "500d59de-19dc-49bf-bce7-739328201e87",
   "metadata": {},
   "outputs": [
    {
     "data": {
      "text/plain": [
       "0    10\n",
       "1    11\n",
       "2    12\n",
       "3    13\n",
       "dtype: int64"
      ]
     },
     "execution_count": 6,
     "metadata": {},
     "output_type": "execute_result"
    }
   ],
   "source": [
    "pd.Series(range(10,14))\n",
    "\n",
    "#index와 value의 개수는 동일해야 함.\n",
    "#index를 지정하지 않으면 0부터 시작하는 정수 값(rangeIndex)"
   ]
  },
  {
   "cell_type": "code",
   "execution_count": 7,
   "id": "e6f86862-f16c-4c96-b88f-a32ecb46646e",
   "metadata": {},
   "outputs": [
    {
     "name": "stdout",
     "output_type": "stream",
     "text": [
      "[9904312 3448737 2890451 2466052]\n"
     ]
    },
    {
     "data": {
      "text/plain": [
       "4"
      ]
     },
     "execution_count": 7,
     "metadata": {},
     "output_type": "execute_result"
    }
   ],
   "source": [
    "# 앞서 만든 연습문제의 Series 객체의 값 중 50보다 큰 값의 개수\n",
    "\n",
    "print(s.values)\n",
    "sum(s.values[:]>50) #하하 sum을 하면 되는군요:)"
   ]
  },
  {
   "cell_type": "code",
   "execution_count": 8,
   "id": "fa30e576-f850-445a-aa2f-d19c9f77cc74",
   "metadata": {},
   "outputs": [
    {
     "name": "stdout",
     "output_type": "stream",
     "text": [
      "c    3\n",
      "a    1\n",
      "b    2\n",
      "dtype: int64\n",
      "c     3.0\n",
      "a     1.0\n",
      "b1    NaN\n",
      "dtype: float64\n"
     ]
    }
   ],
   "source": [
    "d = {'a':1, 'b':2, 'c':3}\n",
    "ser = pd.Series(data=d, index=['c','a','b'])  #index 순서대로 딕셔너리 위치 바뀜\n",
    "                                        #딕셔너리는 순서가 없는 데이터(비시퀀스)\n",
    "print(ser)\n",
    "\n",
    "ser2 = pd.Series(data=d, index=['c','a','b1']) #없는 키를 입력하면 \n",
    "print(ser2)                                    #Nan 값 뜸"
   ]
  },
  {
   "cell_type": "code",
   "execution_count": 9,
   "id": "774c9d5d-bf96-458d-bb28-060a1341c388",
   "metadata": {},
   "outputs": [
    {
     "data": {
      "text/plain": [
       "철수     88\n",
       "영희     95\n",
       "길동    100\n",
       "몽룡     67\n",
       "dtype: int64"
      ]
     },
     "execution_count": 9,
     "metadata": {},
     "output_type": "execute_result"
    }
   ],
   "source": [
    "#연습문제 이름 index, 점수 values로 하는 series 만들기\n",
    "\n",
    "score = pd.Series([88,95,100,67],\n",
    "                  index=['철수','영희','길동','몽룡'])\n",
    "score"
   ]
  },
  {
   "cell_type": "code",
   "execution_count": 10,
   "id": "631b44c9-4daf-4632-868d-a9cc17060910",
   "metadata": {},
   "outputs": [
    {
     "name": "stdout",
     "output_type": "stream",
     "text": [
      "88\n"
     ]
    },
    {
     "data": {
      "text/plain": [
       "(88, 95, 67)"
      ]
     },
     "execution_count": 10,
     "metadata": {},
     "output_type": "execute_result"
    }
   ],
   "source": [
    "#index를 속성처럼 활용하기\n",
    "print(score.철수)\n",
    "\n",
    "score.철수, score.영희, score.몽룡\n",
    "\n",
    "#가능합니다."
   ]
  },
  {
   "cell_type": "code",
   "execution_count": 11,
   "id": "18cf7c34-7158-4407-997c-5de586496bf7",
   "metadata": {},
   "outputs": [
    {
     "data": {
      "text/plain": [
       "1"
      ]
     },
     "execution_count": 11,
     "metadata": {},
     "output_type": "execute_result"
    }
   ],
   "source": [
    "ser.a"
   ]
  },
  {
   "cell_type": "code",
   "execution_count": 12,
   "id": "ff719025-8c40-48e2-95bd-683902f5271d",
   "metadata": {},
   "outputs": [
    {
     "name": "stdout",
     "output_type": "stream",
     "text": [
      "True \n",
      "\n",
      "서울, 9904312\n",
      "부산, 3448737\n",
      "인천, 2890451\n",
      "대구, 2466052\n"
     ]
    }
   ],
   "source": [
    "#index label을 키(key)로 사용하므로\n",
    "#딕셔너리처럼 in, items() method 사용하며 요소의 키, 값에 접근 가능\n",
    "\n",
    "print('서울' in s, '\\n')\n",
    "\n",
    "for k, v in s.items():\n",
    "    print(f'{k}, {v}')"
   ]
  },
  {
   "cell_type": "code",
   "execution_count": 13,
   "id": "11a9af3a-ddb7-490b-8e58-fbba36615a45",
   "metadata": {},
   "outputs": [
    {
     "name": "stdout",
     "output_type": "stream",
     "text": [
      "0, 영\n",
      "1, 일\n",
      "2, 이\n",
      "3, 삼\n",
      "4, 사\n",
      "5, 오\n",
      "6, 육\n",
      "7, 칠\n",
      "8, 팔\n",
      "9, 구\n",
      "\n",
      "\n",
      "영 in test.values():  True\n",
      "서울 in s:  True\n"
     ]
    }
   ],
   "source": [
    "test = dict( zip(range(10), list('영일이삼사오육칠팔구')) )\n",
    "            #zip으로 dict에 키, 값을 넣어줌\n",
    "\n",
    "for k, v in test.items():\n",
    "    print(f'{k}, {v}')    #하나씩 꺼내줍니다\n",
    "    \n",
    "print('\\n')\n",
    "print('영 in test.values(): ', '영' in test.values())\n",
    "print('서울 in s: ', '서울' in s)"
   ]
  },
  {
   "cell_type": "code",
   "execution_count": 14,
   "id": "3683aab8-939c-4158-8e04-ef37819b6d0b",
   "metadata": {},
   "outputs": [
    {
     "name": "stdout",
     "output_type": "stream",
     "text": [
      "서울의 인구는 300만이 넘습니다.\n",
      "부산의 인구는 300만이 넘습니다.\n"
     ]
    }
   ],
   "source": [
    "pop = pd.Series( [9_904_312, 3_448_737, 2_890_451, 2_466_052],\n",
    "              index=['서울', '부산', '인천', '대구'])\n",
    "#population\n",
    "#도시의 인구가 300만이 넘는 곳을 찾아 다음과 같이 출력해보세요.\n",
    "# 서울의 인구는 300만이 넘습니다.\n",
    "# for, items() 사용\n",
    "\n",
    "for a, b in pop.items():\n",
    "    if b>=3000000:\n",
    "        print(f'{a}의 인구는 300만이 넘습니다.')"
   ]
  },
  {
   "cell_type": "code",
   "execution_count": 15,
   "id": "6d4dad8a-3937-46af-86e1-02c87666644c",
   "metadata": {},
   "outputs": [
    {
     "name": "stdout",
     "output_type": "stream",
     "text": [
      "9904312 9904312 \n",
      "\n",
      "인천    2890451\n",
      "대구    2466052\n",
      "부산    3448737\n",
      "dtype: int64 \n",
      "\n",
      "대구    2466052\n",
      "부산    3448737\n",
      "dtype: int64 \n",
      "\n",
      "9904312\n"
     ]
    }
   ],
   "source": [
    "print(pop['서울'], pop[0], '\\n')\n",
    "print(pop[[2, 3, 1]], '\\n')\n",
    "print(pop[['대구', '부산']], '\\n')\n",
    "#pop.0은 안 됨\n",
    "print(pop.서울)"
   ]
  },
  {
   "cell_type": "code",
   "execution_count": 16,
   "id": "254618ea-25bd-4a3f-a1ad-4eb8164ee899",
   "metadata": {},
   "outputs": [
    {
     "data": {
      "text/plain": [
       "인천    2890451\n",
       "dtype: int64"
      ]
     },
     "execution_count": 16,
     "metadata": {},
     "output_type": "execute_result"
    }
   ],
   "source": [
    "#인천의 인덱스와 값을 시리즈로 조회해보세요.\n",
    "pop[['인천']]"
   ]
  },
  {
   "cell_type": "code",
   "execution_count": 17,
   "id": "a0fad390-7f9d-4675-98ae-31ccd3dbc68e",
   "metadata": {},
   "outputs": [
    {
     "name": "stdout",
     "output_type": "stream",
     "text": [
      "서울    9904312\n",
      "부산    3448737\n",
      "인천    2890451\n",
      "대구    2466052\n",
      "dtype: int64 \n",
      "\n",
      "부산    3448737\n",
      "인천    2890451\n",
      "dtype: int64 \n",
      "\n",
      "부산    3448737\n",
      "인천    2890451\n",
      "대구    2466052\n",
      "dtype: int64\n"
     ]
    }
   ],
   "source": [
    "print(pop,'\\n')\n",
    "print(pop[1:3], '\\n')\n",
    "print(pop['부산':'대구'])"
   ]
  },
  {
   "cell_type": "code",
   "execution_count": 18,
   "id": "b4d998ba-7e2f-470a-bcb1-0daf554a4842",
   "metadata": {},
   "outputs": [],
   "source": [
    "#2015년도 인구, 2010년도 인구 비교(증감)\n",
    "#근데 이제 대구 대신 대전을 포함한\n",
    "pop15 = pop\n",
    "pop10 = pd.Series({'서울':9631482, '부산':3393191, '인천':2632035, '대전':1490158})\n",
    "\n",
    "popM = pop15-pop10\n",
    "\n",
    "#계산이 불가능한 데이터는 NaN(Not a Number) 값을 가짐"
   ]
  },
  {
   "cell_type": "code",
   "execution_count": 19,
   "id": "42490e21-bb95-4c38-8562-31add7da04b1",
   "metadata": {},
   "outputs": [
    {
     "data": {
      "text/plain": [
       "대구     True\n",
       "대전     True\n",
       "부산    False\n",
       "서울    False\n",
       "인천    False\n",
       "dtype: bool"
      ]
     },
     "execution_count": 19,
     "metadata": {},
     "output_type": "execute_result"
    }
   ],
   "source": [
    "popM.isnull()\n",
    "#NaN -> True null 값입니다.\n",
    "#값 있으면 False"
   ]
  },
  {
   "cell_type": "code",
   "execution_count": 20,
   "id": "3cf1c415-438f-459b-b793-8f23245835c6",
   "metadata": {},
   "outputs": [
    {
     "data": {
      "text/plain": [
       "대구    False\n",
       "대전    False\n",
       "부산     True\n",
       "서울     True\n",
       "인천     True\n",
       "dtype: bool"
      ]
     },
     "execution_count": 20,
     "metadata": {},
     "output_type": "execute_result"
    }
   ],
   "source": [
    "popM.notnull()\n",
    "#반대~"
   ]
  },
  {
   "cell_type": "code",
   "execution_count": 21,
   "id": "1504276a-b9ae-4511-ad9f-1affa38c2d68",
   "metadata": {},
   "outputs": [
    {
     "name": "stdout",
     "output_type": "stream",
     "text": [
      "대구   NaN\n",
      "대전   NaN\n",
      "dtype: float64 \n",
      "\n",
      "부산     55546.0\n",
      "서울    272830.0\n",
      "인천    258416.0\n",
      "dtype: float64 \n",
      "\n",
      "서울    9904312\n",
      "부산    3448737\n",
      "dtype: int64\n"
     ]
    }
   ],
   "source": [
    "#NaN이 아닌 값만 인덱싱으로 구하기\n",
    "\n",
    "print( popM[ popM.isnull() ], '\\n' )\n",
    "print( popM[ popM.notnull() ], '\\n' )\n",
    "\n",
    "print(pop[ pop>3000000 ] )"
   ]
  },
  {
   "cell_type": "code",
   "execution_count": 22,
   "id": "1dea4dd4-0ae6-4d25-8c87-8bccdb3a57e7",
   "metadata": {},
   "outputs": [
    {
     "data": {
      "text/plain": [
       "부산    1.636984\n",
       "서울    2.832690\n",
       "인천    9.818107\n",
       "dtype: float64"
      ]
     },
     "execution_count": 22,
     "metadata": {},
     "output_type": "execute_result"
    }
   ],
   "source": [
    "#Nan 값을 배제하고 2010년 대비 2015년의 인구 증가율 구하기\n",
    "\n",
    "popP = (pop15 - pop10) / pop10 * 100\n",
    "popP = popP[ popP.notnull() ]    #notnull true인 값만 popP에 추가~\n",
    "popP"
   ]
  },
  {
   "cell_type": "code",
   "execution_count": 23,
   "id": "0b853d20-acd8-445f-b8a7-4796308b56cf",
   "metadata": {},
   "outputs": [
    {
     "data": {
      "text/plain": [
       "서울    272830.0\n",
       "dtype: float64"
      ]
     },
     "execution_count": 23,
     "metadata": {},
     "output_type": "execute_result"
    }
   ],
   "source": [
    "#2010년 대비 2015년 증가량 구하기(NaN값 배제)\n",
    "#인구수 증가가 가장 많은 도시의 이름과 증가한 인구수를 series 객체로 출력\n",
    "\n",
    "popPlus = pop15 - pop10\n",
    "popPlus = popPlus[ popPlus.notnull() ]\n",
    "popPlus[ popPlus == popPlus.max() ]"
   ]
  },
  {
   "cell_type": "code",
   "execution_count": 24,
   "id": "db5079d8-5c55-4135-96a8-50b6d10c23f0",
   "metadata": {},
   "outputs": [
    {
     "data": {
      "text/plain": [
       "서울    272830.0\n",
       "dtype: float64"
      ]
     },
     "execution_count": 24,
     "metadata": {},
     "output_type": "execute_result"
    }
   ],
   "source": [
    "#강사님 답변\n",
    "popPlus = pop15 - pop10\n",
    "popPlus = popPlus[ popPlus.notnull() ]\n",
    "popPlus[[popPlus.values.argmax()]]"
   ]
  },
  {
   "cell_type": "code",
   "execution_count": 25,
   "id": "3b2f1939-afa5-44d4-ac1a-1ae8d91938b8",
   "metadata": {},
   "outputs": [
    {
     "data": {
      "text/plain": [
       "부산    1.63\n",
       "인천    9.82\n",
       "울산    1.03\n",
       "dtype: float64"
      ]
     },
     "execution_count": 25,
     "metadata": {},
     "output_type": "execute_result"
    }
   ],
   "source": [
    "#갱신\n",
    "popP.서울 = 2.83\n",
    "popP['인천'] = 9.82\n",
    "\n",
    "popP['부산':'서울'] = 1.63, 2.83\n",
    "popP['울산'] = 1.03\n",
    "del popP['서울']\n",
    "\n",
    "popP"
   ]
  },
  {
   "cell_type": "code",
   "execution_count": 26,
   "id": "aeca04ff-f744-45aa-b895-3cc884adb90f",
   "metadata": {},
   "outputs": [
    {
     "data": {
      "text/plain": [
       "대구    False\n",
       "대전    False\n",
       "부산     True\n",
       "서울     True\n",
       "인천     True\n",
       "dtype: bool"
      ]
     },
     "execution_count": 26,
     "metadata": {},
     "output_type": "execute_result"
    }
   ],
   "source": [
    "popM.notnull()"
   ]
  },
  {
   "cell_type": "code",
   "execution_count": 27,
   "id": "7f8ca947-3fc3-48d6-8708-8790763bcaf3",
   "metadata": {},
   "outputs": [
    {
     "data": {
      "text/plain": [
       "카카오     60010\n",
       "삼성전자    61000\n",
       "LG전자    90000\n",
       "dtype: int64"
      ]
     },
     "execution_count": 27,
     "metadata": {},
     "output_type": "execute_result"
    }
   ],
   "source": [
    "fin1 = {'카카오': 60010, '삼성전자': 61000, 'LG전자': 90000}\n",
    "fin2_value = [60200, 61200, 200100]\n",
    "fin2_index = ['카카오', '삼성전자', '네이버']\n",
    "\n",
    "ser_finance1 = pd.Series(fin1)\n",
    "ser_finance2 = pd.Series(fin2_value, index = fin2_index )\n",
    "\n",
    "ser_finance1"
   ]
  },
  {
   "cell_type": "code",
   "execution_count": 28,
   "id": "e596a0b8-1b0d-453c-86b5-197092708762",
   "metadata": {},
   "outputs": [
    {
     "data": {
      "text/plain": [
       "카카오      60200\n",
       "삼성전자     61200\n",
       "네이버     200100\n",
       "dtype: int64"
      ]
     },
     "execution_count": 28,
     "metadata": {},
     "output_type": "execute_result"
    }
   ],
   "source": [
    "ser_finance2"
   ]
  },
  {
   "cell_type": "code",
   "execution_count": 29,
   "id": "6fb3ce38-e0e4-488a-b9e7-ee7a4fbd3d67",
   "metadata": {},
   "outputs": [
    {
     "data": {
      "text/plain": [
       "LG전자      NaN\n",
       "네이버       NaN\n",
       "삼성전자   -200.0\n",
       "카카오    -190.0\n",
       "dtype: float64"
      ]
     },
     "execution_count": 29,
     "metadata": {},
     "output_type": "execute_result"
    }
   ],
   "source": [
    "ser_finance1 - ser_finance2"
   ]
  },
  {
   "cell_type": "code",
   "execution_count": 30,
   "id": "e57296f3-edbd-44db-8fc5-791a6c3b0171",
   "metadata": {},
   "outputs": [
    {
     "data": {
      "text/plain": [
       "LG전자         NaN\n",
       "네이버          NaN\n",
       "삼성전자    122200.0\n",
       "카카오     120210.0\n",
       "dtype: float64"
      ]
     },
     "execution_count": 30,
     "metadata": {},
     "output_type": "execute_result"
    }
   ],
   "source": [
    "ser_finance1 + ser_finance2"
   ]
  },
  {
   "cell_type": "code",
   "execution_count": 31,
   "id": "5a22d2e6-a678-4de1-96fa-b5894f84a7ca",
   "metadata": {},
   "outputs": [
    {
     "data": {
      "text/plain": [
       "LG전자             NaN\n",
       "네이버              NaN\n",
       "삼성전자    3.733200e+09\n",
       "카카오     3.612602e+09\n",
       "dtype: float64"
      ]
     },
     "execution_count": 31,
     "metadata": {},
     "output_type": "execute_result"
    }
   ],
   "source": [
    "ser_finance1 * ser_finance2"
   ]
  },
  {
   "cell_type": "code",
   "execution_count": 32,
   "id": "5deaf636-2fb1-4869-9e41-bb1f6c65a8b9",
   "metadata": {},
   "outputs": [
    {
     "data": {
      "text/plain": [
       "LG전자         NaN\n",
       "네이버          NaN\n",
       "삼성전자    0.996732\n",
       "카카오     0.996844\n",
       "dtype: float64"
      ]
     },
     "execution_count": 32,
     "metadata": {},
     "output_type": "execute_result"
    }
   ],
   "source": [
    "ser_finance1 / ser_finance2"
   ]
  },
  {
   "cell_type": "code",
   "execution_count": 41,
   "id": "283d4684-9110-4e46-affb-28cfbd76136c",
   "metadata": {},
   "outputs": [
    {
     "data": {
      "text/plain": [
       "삼성전자   -200.0\n",
       "카카오    -190.0\n",
       "dtype: float64"
      ]
     },
     "execution_count": 41,
     "metadata": {},
     "output_type": "execute_result"
    }
   ],
   "source": [
    "result = ser_finance1 - ser_finance2\n",
    "result[result.notnull()]    #nan 값 빼고 저장하기"
   ]
  },
  {
   "cell_type": "code",
   "execution_count": null,
   "id": "39006f7d-9ae4-4ed4-8d26-9ad9803875ff",
   "metadata": {},
   "outputs": [],
   "source": []
  },
  {
   "cell_type": "code",
   "execution_count": null,
   "id": "55be10f2-5f3c-44db-9f50-e27cc1050fad",
   "metadata": {},
   "outputs": [],
   "source": [
    "pd.DataFrame( data=None, index:'key'=None)"
   ]
  },
  {
   "cell_type": "code",
   "execution_count": 42,
   "id": "3ad880ae-acfc-4b84-b6d4-72b70ea06c0f",
   "metadata": {},
   "outputs": [
    {
     "data": {
      "text/html": [
       "<div>\n",
       "<style scoped>\n",
       "    .dataframe tbody tr th:only-of-type {\n",
       "        vertical-align: middle;\n",
       "    }\n",
       "\n",
       "    .dataframe tbody tr th {\n",
       "        vertical-align: top;\n",
       "    }\n",
       "\n",
       "    .dataframe thead th {\n",
       "        text-align: right;\n",
       "    }\n",
       "</style>\n",
       "<table border=\"1\" class=\"dataframe\">\n",
       "  <thead>\n",
       "    <tr style=\"text-align: right;\">\n",
       "      <th></th>\n",
       "      <th>col1</th>\n",
       "      <th>col2</th>\n",
       "    </tr>\n",
       "  </thead>\n",
       "  <tbody>\n",
       "    <tr>\n",
       "      <th>0</th>\n",
       "      <td>1</td>\n",
       "      <td>3</td>\n",
       "    </tr>\n",
       "    <tr>\n",
       "      <th>1</th>\n",
       "      <td>2</td>\n",
       "      <td>4</td>\n",
       "    </tr>\n",
       "  </tbody>\n",
       "</table>\n",
       "</div>"
      ],
      "text/plain": [
       "   col1  col2\n",
       "0     1     3\n",
       "1     2     4"
      ]
     },
     "execution_count": 42,
     "metadata": {},
     "output_type": "execute_result"
    }
   ],
   "source": [
    "d = {'col1' : [1, 2], 'col2': [3,4] }  #열 이름이 key, 값들이 value\n",
    "df = pd.DataFrame(data=d)\n",
    "df"
   ]
  },
  {
   "cell_type": "code",
   "execution_count": 43,
   "id": "e59e4994-df0f-4167-9e6e-aaa36e1253c1",
   "metadata": {},
   "outputs": [
    {
     "data": {
      "text/html": [
       "<div>\n",
       "<style scoped>\n",
       "    .dataframe tbody tr th:only-of-type {\n",
       "        vertical-align: middle;\n",
       "    }\n",
       "\n",
       "    .dataframe tbody tr th {\n",
       "        vertical-align: top;\n",
       "    }\n",
       "\n",
       "    .dataframe thead th {\n",
       "        text-align: right;\n",
       "    }\n",
       "</style>\n",
       "<table border=\"1\" class=\"dataframe\">\n",
       "  <thead>\n",
       "    <tr style=\"text-align: right;\">\n",
       "      <th></th>\n",
       "      <th>지역</th>\n",
       "      <th>2015</th>\n",
       "      <th>2010</th>\n",
       "      <th>2005</th>\n",
       "      <th>2000</th>\n",
       "      <th>2010-2015 증가율</th>\n",
       "    </tr>\n",
       "  </thead>\n",
       "  <tbody>\n",
       "    <tr>\n",
       "      <th>서울</th>\n",
       "      <td>수도권</td>\n",
       "      <td>9904312</td>\n",
       "      <td>9631482</td>\n",
       "      <td>9762546</td>\n",
       "      <td>9853972</td>\n",
       "      <td>0.0283</td>\n",
       "    </tr>\n",
       "    <tr>\n",
       "      <th>부산</th>\n",
       "      <td>경상권</td>\n",
       "      <td>3448737</td>\n",
       "      <td>3393191</td>\n",
       "      <td>3512547</td>\n",
       "      <td>3655437</td>\n",
       "      <td>0.0163</td>\n",
       "    </tr>\n",
       "    <tr>\n",
       "      <th>인천</th>\n",
       "      <td>수도권</td>\n",
       "      <td>2890451</td>\n",
       "      <td>2632035</td>\n",
       "      <td>2517680</td>\n",
       "      <td>2466338</td>\n",
       "      <td>0.0982</td>\n",
       "    </tr>\n",
       "    <tr>\n",
       "      <th>대구</th>\n",
       "      <td>경상권</td>\n",
       "      <td>2466052</td>\n",
       "      <td>2431774</td>\n",
       "      <td>2456016</td>\n",
       "      <td>2473990</td>\n",
       "      <td>0.0141</td>\n",
       "    </tr>\n",
       "  </tbody>\n",
       "</table>\n",
       "</div>"
      ],
      "text/plain": [
       "     지역     2015     2010     2005     2000  2010-2015 증가율\n",
       "서울  수도권  9904312  9631482  9762546  9853972         0.0283\n",
       "부산  경상권  3448737  3393191  3512547  3655437         0.0163\n",
       "인천  수도권  2890451  2632035  2517680  2466338         0.0982\n",
       "대구  경상권  2466052  2431774  2456016  2473990         0.0141"
      ]
     },
     "execution_count": 43,
     "metadata": {},
     "output_type": "execute_result"
    }
   ],
   "source": [
    "data = {\n",
    "    \"2015\" : [9904312, 3448737, 2890451, 2466052],\n",
    "    \"2010\" : [9631482, 3393191, 2632035, 2431774],\n",
    "    \"2005\" : [9762546, 3512547, 2517680, 2456016],\n",
    "    \"2000\" : [9853972, 3655437, 2466338, 2473990],\n",
    "    \"지역\" : [\"수도권\", \"경상권\", \"수도권\", \"경상권\"],\n",
    "    \"2010-2015 증가율\" :[0.0283, 0.0163, 0.0982, 0.0141]\n",
    "}\n",
    "columns = [\"지역\", \"2015\", \"2010\", \"2005\", \"2000\", \"2010-2015 증가율\"]\n",
    "index = [\"서울\", \"부산\", \"인천\", \"대구\"]\n",
    "df = pd.DataFrame(data, index = index, columns = columns)\n",
    "df"
   ]
  },
  {
   "cell_type": "code",
   "execution_count": 45,
   "id": "3aba8f16-a88a-4280-bfa8-cfcdd073e63a",
   "metadata": {},
   "outputs": [
    {
     "data": {
      "text/plain": [
       "지역                object\n",
       "2015               int64\n",
       "2010               int64\n",
       "2005               int64\n",
       "2000               int64\n",
       "2010-2015 증가율    float64\n",
       "dtype: object"
      ]
     },
     "execution_count": 45,
     "metadata": {},
     "output_type": "execute_result"
    }
   ],
   "source": [
    "# dataFrame 자료형 확인\n",
    "# 각 열 별로 자료형이 다를 수 있다.\n",
    "df.dtypes #dtype이 아닌 dtypes!"
   ]
  },
  {
   "cell_type": "code",
   "execution_count": 46,
   "id": "4e45c06c-acfb-49eb-83b6-ed3ba2ada5c4",
   "metadata": {},
   "outputs": [
    {
     "name": "stdout",
     "output_type": "stream",
     "text": [
      "[['수도권' 9904312 9631482 9762546 9853972 0.0283]\n",
      " ['경상권' 3448737 3393191 3512547 3655437 0.0163]\n",
      " ['수도권' 2890451 2632035 2517680 2466338 0.0982]\n",
      " ['경상권' 2466052 2431774 2456016 2473990 0.0141]] \n",
      "\n",
      "Index(['지역', '2015', '2010', '2005', '2000', '2010-2015 증가율'], dtype='object') \n",
      "\n"
     ]
    },
    {
     "data": {
      "text/plain": [
       "Index(['서울', '부산', '인천', '대구'], dtype='object')"
      ]
     },
     "execution_count": 46,
     "metadata": {},
     "output_type": "execute_result"
    }
   ],
   "source": [
    "print(df.values, '\\n')\n",
    "print(df.columns, '\\n')\n",
    "df.index"
   ]
  },
  {
   "cell_type": "code",
   "execution_count": 50,
   "id": "4c97e533-a65f-4730-9b14-c869130f6dc6",
   "metadata": {},
   "outputs": [],
   "source": [
    "df.index.name = '도시'    #행이름의 그룹이름 \n",
    "df.columns.name = '특성'  #열이름의 그룹이름"
   ]
  },
  {
   "cell_type": "code",
   "execution_count": 49,
   "id": "3514835d-593b-4f5a-9e35-9de5439b4cc2",
   "metadata": {},
   "outputs": [
    {
     "data": {
      "text/html": [
       "<div>\n",
       "<style scoped>\n",
       "    .dataframe tbody tr th:only-of-type {\n",
       "        vertical-align: middle;\n",
       "    }\n",
       "\n",
       "    .dataframe tbody tr th {\n",
       "        vertical-align: top;\n",
       "    }\n",
       "\n",
       "    .dataframe thead th {\n",
       "        text-align: right;\n",
       "    }\n",
       "</style>\n",
       "<table border=\"1\" class=\"dataframe\">\n",
       "  <thead>\n",
       "    <tr style=\"text-align: right;\">\n",
       "      <th>특성</th>\n",
       "      <th>지역</th>\n",
       "      <th>2015</th>\n",
       "      <th>2010</th>\n",
       "      <th>2005</th>\n",
       "      <th>2000</th>\n",
       "      <th>2010-2015 증가율</th>\n",
       "    </tr>\n",
       "    <tr>\n",
       "      <th>도시</th>\n",
       "      <th></th>\n",
       "      <th></th>\n",
       "      <th></th>\n",
       "      <th></th>\n",
       "      <th></th>\n",
       "      <th></th>\n",
       "    </tr>\n",
       "  </thead>\n",
       "  <tbody>\n",
       "    <tr>\n",
       "      <th>서울</th>\n",
       "      <td>수도권</td>\n",
       "      <td>9904312</td>\n",
       "      <td>9631482</td>\n",
       "      <td>9762546</td>\n",
       "      <td>9853972</td>\n",
       "      <td>0.0283</td>\n",
       "    </tr>\n",
       "    <tr>\n",
       "      <th>부산</th>\n",
       "      <td>경상권</td>\n",
       "      <td>3448737</td>\n",
       "      <td>3393191</td>\n",
       "      <td>3512547</td>\n",
       "      <td>3655437</td>\n",
       "      <td>0.0163</td>\n",
       "    </tr>\n",
       "    <tr>\n",
       "      <th>인천</th>\n",
       "      <td>수도권</td>\n",
       "      <td>2890451</td>\n",
       "      <td>2632035</td>\n",
       "      <td>2517680</td>\n",
       "      <td>2466338</td>\n",
       "      <td>0.0982</td>\n",
       "    </tr>\n",
       "    <tr>\n",
       "      <th>대구</th>\n",
       "      <td>경상권</td>\n",
       "      <td>2466052</td>\n",
       "      <td>2431774</td>\n",
       "      <td>2456016</td>\n",
       "      <td>2473990</td>\n",
       "      <td>0.0141</td>\n",
       "    </tr>\n",
       "  </tbody>\n",
       "</table>\n",
       "</div>"
      ],
      "text/plain": [
       "특성   지역     2015     2010     2005     2000  2010-2015 증가율\n",
       "도시                                                        \n",
       "서울  수도권  9904312  9631482  9762546  9853972         0.0283\n",
       "부산  경상권  3448737  3393191  3512547  3655437         0.0163\n",
       "인천  수도권  2890451  2632035  2517680  2466338         0.0982\n",
       "대구  경상권  2466052  2431774  2456016  2473990         0.0141"
      ]
     },
     "execution_count": 49,
     "metadata": {},
     "output_type": "execute_result"
    }
   ],
   "source": [
    "df\n"
   ]
  },
  {
   "cell_type": "code",
   "execution_count": 66,
   "id": "9276476c-8525-4b6a-bcfb-4acf2e11a281",
   "metadata": {},
   "outputs": [
    {
     "data": {
      "text/html": [
       "<div>\n",
       "<style scoped>\n",
       "    .dataframe tbody tr th:only-of-type {\n",
       "        vertical-align: middle;\n",
       "    }\n",
       "\n",
       "    .dataframe tbody tr th {\n",
       "        vertical-align: top;\n",
       "    }\n",
       "\n",
       "    .dataframe thead th {\n",
       "        text-align: right;\n",
       "    }\n",
       "</style>\n",
       "<table border=\"1\" class=\"dataframe\">\n",
       "  <thead>\n",
       "    <tr style=\"text-align: right;\">\n",
       "      <th>Summary</th>\n",
       "      <th>Special Color</th>\n",
       "      <th>Display Size</th>\n",
       "      <th>Running Time</th>\n",
       "      <th>Bionic Chip</th>\n",
       "    </tr>\n",
       "  </thead>\n",
       "  <tbody>\n",
       "    <tr>\n",
       "      <th>iPhone11Pro</th>\n",
       "      <td>Midnight Green</td>\n",
       "      <td>5.8</td>\n",
       "      <td>18</td>\n",
       "      <td>A13</td>\n",
       "    </tr>\n",
       "    <tr>\n",
       "      <th>iPhone12Pro</th>\n",
       "      <td>Pacific Blue</td>\n",
       "      <td>6.1</td>\n",
       "      <td>17</td>\n",
       "      <td>A14</td>\n",
       "    </tr>\n",
       "    <tr>\n",
       "      <th>iPhone13Pro</th>\n",
       "      <td>Alpine Green</td>\n",
       "      <td>6.1</td>\n",
       "      <td>22</td>\n",
       "      <td>A15</td>\n",
       "    </tr>\n",
       "    <tr>\n",
       "      <th>iPhone14Pro</th>\n",
       "      <td>Deep Purple</td>\n",
       "      <td>6.1</td>\n",
       "      <td>23</td>\n",
       "      <td>A16</td>\n",
       "    </tr>\n",
       "  </tbody>\n",
       "</table>\n",
       "</div>"
      ],
      "text/plain": [
       "Summary       Special Color  Display Size  Running Time Bionic Chip\n",
       "iPhone11Pro  Midnight Green           5.8            18         A13\n",
       "iPhone12Pro    Pacific Blue           6.1            17         A14\n",
       "iPhone13Pro    Alpine Green           6.1            22         A15\n",
       "iPhone14Pro     Deep Purple           6.1            23         A16"
      ]
     },
     "execution_count": 66,
     "metadata": {},
     "output_type": "execute_result"
    }
   ],
   "source": [
    "data = {\n",
    "    \"Special Color\":['Midnight Green','Pacific Blue', 'Alpine Green', 'Deep Purple' ],\n",
    "    \"Display Size\":[5.8, 6.1, 6.1, 6.1 ],\n",
    "    \"Running Time\":[18, 17, 22, 23 ],\n",
    "    \"Bionic Chip\": ['A13', 'A14', 'A15', 'A16' ]\n",
    "}\n",
    "\n",
    "index = ['iPhone11Pro', 'iPhone12Pro', 'iPhone13Pro', 'iPhone14Pro']\n",
    "\n",
    "iPhone = pd.DataFrame(data = data, index = index)\n",
    "iPhone.columns.name = 'Summary'\n",
    "iPhone\n",
    "    "
   ]
  },
  {
   "cell_type": "code",
   "execution_count": 53,
   "id": "d1073bda-37f4-443e-9269-5598a26ea5ca",
   "metadata": {},
   "outputs": [
    {
     "data": {
      "text/plain": [
       "Summary\n",
       "Special Color     object\n",
       "Display Size     float64\n",
       "Running Time       int64\n",
       "Bionic Chip       object\n",
       "dtype: object"
      ]
     },
     "execution_count": 53,
     "metadata": {},
     "output_type": "execute_result"
    }
   ],
   "source": [
    "iPhone.dtypes "
   ]
  },
  {
   "cell_type": "code",
   "execution_count": 58,
   "id": "6dd590a0-cdaa-4b1a-8391-b65b1598f1bc",
   "metadata": {},
   "outputs": [],
   "source": [
    "#주현주현 왜 나랑 안 노라죠\n",
    "#나랑 노라죠\n",
    "#공부 하지뭬\n",
    "#난 내일 늦게 와\n",
    "#한번 상담사분깨 물어볼게\n",
    "#히히히히히히히"
   ]
  },
  {
   "cell_type": "code",
   "execution_count": 67,
   "id": "0692f468-a4be-426b-8cce-57295f3e2d08",
   "metadata": {},
   "outputs": [],
   "source": [
    "# dataFrame 추가, 갱신, 삭제\n",
    "\n",
    "# 열 추가 ( inch *25.4 = mm )\n",
    "iPhone ['Display Size(mm)'] = iPhone['Display Size']*25.4"
   ]
  },
  {
   "cell_type": "code",
   "execution_count": 68,
   "id": "82163ffd-76a8-4f66-ba42-ae2faaf9e414",
   "metadata": {},
   "outputs": [],
   "source": [
    "# 열 갱신\n",
    "# iPhone['Display Size'] = ['5.8 inch', '6.1 inch', '6.1 inch', '6.1 inch']\n",
    "\n",
    "del iPhone['Bionic Chip']"
   ]
  },
  {
   "cell_type": "code",
   "execution_count": 69,
   "id": "b5f2d942-0fb5-40ea-8b86-a62c6db4bfa8",
   "metadata": {},
   "outputs": [
    {
     "data": {
      "text/html": [
       "<div>\n",
       "<style scoped>\n",
       "    .dataframe tbody tr th:only-of-type {\n",
       "        vertical-align: middle;\n",
       "    }\n",
       "\n",
       "    .dataframe tbody tr th {\n",
       "        vertical-align: top;\n",
       "    }\n",
       "\n",
       "    .dataframe thead th {\n",
       "        text-align: right;\n",
       "    }\n",
       "</style>\n",
       "<table border=\"1\" class=\"dataframe\">\n",
       "  <thead>\n",
       "    <tr style=\"text-align: right;\">\n",
       "      <th>Summary</th>\n",
       "      <th>Special Color</th>\n",
       "      <th>Display Size</th>\n",
       "      <th>Running Time</th>\n",
       "      <th>Display Size(mm)</th>\n",
       "    </tr>\n",
       "  </thead>\n",
       "  <tbody>\n",
       "    <tr>\n",
       "      <th>iPhone11Pro</th>\n",
       "      <td>Midnight Green</td>\n",
       "      <td>5.8</td>\n",
       "      <td>18</td>\n",
       "      <td>147.32</td>\n",
       "    </tr>\n",
       "    <tr>\n",
       "      <th>iPhone12Pro</th>\n",
       "      <td>Pacific Blue</td>\n",
       "      <td>6.1</td>\n",
       "      <td>17</td>\n",
       "      <td>154.94</td>\n",
       "    </tr>\n",
       "    <tr>\n",
       "      <th>iPhone13Pro</th>\n",
       "      <td>Alpine Green</td>\n",
       "      <td>6.1</td>\n",
       "      <td>22</td>\n",
       "      <td>154.94</td>\n",
       "    </tr>\n",
       "    <tr>\n",
       "      <th>iPhone14Pro</th>\n",
       "      <td>Deep Purple</td>\n",
       "      <td>6.1</td>\n",
       "      <td>23</td>\n",
       "      <td>154.94</td>\n",
       "    </tr>\n",
       "  </tbody>\n",
       "</table>\n",
       "</div>"
      ],
      "text/plain": [
       "Summary       Special Color  Display Size  Running Time  Display Size(mm)\n",
       "iPhone11Pro  Midnight Green           5.8            18            147.32\n",
       "iPhone12Pro    Pacific Blue           6.1            17            154.94\n",
       "iPhone13Pro    Alpine Green           6.1            22            154.94\n",
       "iPhone14Pro     Deep Purple           6.1            23            154.94"
      ]
     },
     "execution_count": 69,
     "metadata": {},
     "output_type": "execute_result"
    }
   ],
   "source": [
    "iPhone"
   ]
  },
  {
   "cell_type": "code",
   "execution_count": 79,
   "id": "5ff0703b-c8b6-47e5-a32b-f57b8b0221e1",
   "metadata": {},
   "outputs": [],
   "source": [
    "#열 다시 추가\n",
    "iPhone[\"Bionic Chip\"] = ['A13', 'A14', 'A15', 'A16' ]  #같은 문자열"
   ]
  },
  {
   "cell_type": "code",
   "execution_count": 80,
   "id": "54b7e7dd-50bb-4a18-8701-745dbb3baef3",
   "metadata": {},
   "outputs": [
    {
     "data": {
      "text/html": [
       "<div>\n",
       "<style scoped>\n",
       "    .dataframe tbody tr th:only-of-type {\n",
       "        vertical-align: middle;\n",
       "    }\n",
       "\n",
       "    .dataframe tbody tr th {\n",
       "        vertical-align: top;\n",
       "    }\n",
       "\n",
       "    .dataframe thead th {\n",
       "        text-align: right;\n",
       "    }\n",
       "</style>\n",
       "<table border=\"1\" class=\"dataframe\">\n",
       "  <thead>\n",
       "    <tr style=\"text-align: right;\">\n",
       "      <th>Summary</th>\n",
       "      <th>Special Color</th>\n",
       "      <th>Display Size</th>\n",
       "      <th>Running Time</th>\n",
       "      <th>Display Size(mm)</th>\n",
       "      <th>Bionic Chip</th>\n",
       "    </tr>\n",
       "  </thead>\n",
       "  <tbody>\n",
       "    <tr>\n",
       "      <th>iPhone11Pro</th>\n",
       "      <td>Midnight Green</td>\n",
       "      <td>5.8</td>\n",
       "      <td>18</td>\n",
       "      <td>147.32</td>\n",
       "      <td>A13</td>\n",
       "    </tr>\n",
       "    <tr>\n",
       "      <th>iPhone12Pro</th>\n",
       "      <td>Pacific Blue</td>\n",
       "      <td>6.1</td>\n",
       "      <td>17</td>\n",
       "      <td>154.94</td>\n",
       "      <td>A14</td>\n",
       "    </tr>\n",
       "    <tr>\n",
       "      <th>iPhone13Pro</th>\n",
       "      <td>Alpine Green</td>\n",
       "      <td>6.1</td>\n",
       "      <td>22</td>\n",
       "      <td>154.94</td>\n",
       "      <td>A15</td>\n",
       "    </tr>\n",
       "    <tr>\n",
       "      <th>iPhone14Pro</th>\n",
       "      <td>Deep Purple</td>\n",
       "      <td>6.1</td>\n",
       "      <td>23</td>\n",
       "      <td>154.94</td>\n",
       "      <td>A16</td>\n",
       "    </tr>\n",
       "  </tbody>\n",
       "</table>\n",
       "</div>"
      ],
      "text/plain": [
       "Summary       Special Color  Display Size  Running Time  Display Size(mm)  \\\n",
       "iPhone11Pro  Midnight Green           5.8            18            147.32   \n",
       "iPhone12Pro    Pacific Blue           6.1            17            154.94   \n",
       "iPhone13Pro    Alpine Green           6.1            22            154.94   \n",
       "iPhone14Pro     Deep Purple           6.1            23            154.94   \n",
       "\n",
       "Summary     Bionic Chip  \n",
       "iPhone11Pro         A13  \n",
       "iPhone12Pro         A14  \n",
       "iPhone13Pro         A15  \n",
       "iPhone14Pro         A16  "
      ]
     },
     "execution_count": 80,
     "metadata": {},
     "output_type": "execute_result"
    }
   ],
   "source": [
    "iPhone"
   ]
  },
  {
   "cell_type": "code",
   "execution_count": 81,
   "id": "db639bdc-ebcf-4c00-b6ab-49a1b73088d8",
   "metadata": {},
   "outputs": [
    {
     "data": {
      "text/plain": [
       "iPhone11Pro    Midnight Green\n",
       "iPhone12Pro      Pacific Blue\n",
       "iPhone13Pro      Alpine Green\n",
       "iPhone14Pro       Deep Purple\n",
       "Name: Special Color, dtype: object"
      ]
     },
     "execution_count": 81,
     "metadata": {},
     "output_type": "execute_result"
    }
   ],
   "source": [
    "iPhone['Special Color']  # index도 시리즈 객체로 같이 반환된당"
   ]
  },
  {
   "cell_type": "code",
   "execution_count": 85,
   "id": "d63ff4cb-0848-4f6a-be72-89c12b09eddd",
   "metadata": {},
   "outputs": [
    {
     "data": {
      "text/html": [
       "<div>\n",
       "<style scoped>\n",
       "    .dataframe tbody tr th:only-of-type {\n",
       "        vertical-align: middle;\n",
       "    }\n",
       "\n",
       "    .dataframe tbody tr th {\n",
       "        vertical-align: top;\n",
       "    }\n",
       "\n",
       "    .dataframe thead th {\n",
       "        text-align: right;\n",
       "    }\n",
       "</style>\n",
       "<table border=\"1\" class=\"dataframe\">\n",
       "  <thead>\n",
       "    <tr style=\"text-align: right;\">\n",
       "      <th>Summary</th>\n",
       "      <th>Special Color</th>\n",
       "    </tr>\n",
       "  </thead>\n",
       "  <tbody>\n",
       "    <tr>\n",
       "      <th>iPhone11Pro</th>\n",
       "      <td>Midnight Green</td>\n",
       "    </tr>\n",
       "    <tr>\n",
       "      <th>iPhone12Pro</th>\n",
       "      <td>Pacific Blue</td>\n",
       "    </tr>\n",
       "    <tr>\n",
       "      <th>iPhone13Pro</th>\n",
       "      <td>Alpine Green</td>\n",
       "    </tr>\n",
       "    <tr>\n",
       "      <th>iPhone14Pro</th>\n",
       "      <td>Deep Purple</td>\n",
       "    </tr>\n",
       "  </tbody>\n",
       "</table>\n",
       "</div>"
      ],
      "text/plain": [
       "Summary       Special Color\n",
       "iPhone11Pro  Midnight Green\n",
       "iPhone12Pro    Pacific Blue\n",
       "iPhone13Pro    Alpine Green\n",
       "iPhone14Pro     Deep Purple"
      ]
     },
     "execution_count": 85,
     "metadata": {},
     "output_type": "execute_result"
    }
   ],
   "source": [
    "iPhone[['Special Color'] ]  #dataframe 방식으로 반환하기"
   ]
  },
  {
   "cell_type": "code",
   "execution_count": null,
   "id": "9845761b-cf9d-4525-955f-c994bb52c740",
   "metadata": {},
   "outputs": [],
   "source": [
    "#문자열 label일 때는 정수 index사용불가능.\n",
    "#key Error 발생함\n",
    "\n",
    "iPhone[0]\n",
    "\n",
    "#문자열 label 아니고 기본 정수형 column index를 가지는 경우에는 index 값으로 정수 사용 가능"
   ]
  },
  {
   "cell_type": "code",
   "execution_count": 88,
   "id": "1fde006c-5557-474e-bfb6-62f8de2673eb",
   "metadata": {},
   "outputs": [
    {
     "name": "stdout",
     "output_type": "stream",
     "text": [
      "   0  1   2   3\n",
      "0  0  1   2   3\n",
      "1  4  5   6   7\n",
      "2  8  9  10  11 \n",
      "\n",
      "0     2\n",
      "1     6\n",
      "2    10\n",
      "Name: 2, dtype: int32\n"
     ]
    }
   ],
   "source": [
    "df2 = pd.DataFrame(np.arange(12).reshape(3, 4))\n",
    "print(df2, '\\n')\n",
    "print(df2[2])"
   ]
  },
  {
   "cell_type": "code",
   "execution_count": 90,
   "id": "3fb2e526-a695-4e87-8267-2640dc0da3a3",
   "metadata": {},
   "outputs": [
    {
     "data": {
      "text/plain": [
       "'Alpine Green'"
      ]
     },
     "execution_count": 90,
     "metadata": {},
     "output_type": "execute_result"
    }
   ],
   "source": [
    "#iPhone['iPhone13Pro'] row 단위로 인덱싱 못 함.\n",
    "#column으로 먼저 접근 후 row로 도려내기는 가능\n",
    "iPhone['Special Color']['iPhone13Pro']\n",
    "# 나중에 나오는 at을 더 많이 사용함"
   ]
  },
  {
   "cell_type": "code",
   "execution_count": 92,
   "id": "accbd5cf-717d-44fa-a3a5-0cdf4a41913a",
   "metadata": {},
   "outputs": [
    {
     "data": {
      "text/html": [
       "<div>\n",
       "<style scoped>\n",
       "    .dataframe tbody tr th:only-of-type {\n",
       "        vertical-align: middle;\n",
       "    }\n",
       "\n",
       "    .dataframe tbody tr th {\n",
       "        vertical-align: top;\n",
       "    }\n",
       "\n",
       "    .dataframe thead th {\n",
       "        text-align: right;\n",
       "    }\n",
       "</style>\n",
       "<table border=\"1\" class=\"dataframe\">\n",
       "  <thead>\n",
       "    <tr style=\"text-align: right;\">\n",
       "      <th></th>\n",
       "      <th>국어</th>\n",
       "      <th>영어</th>\n",
       "      <th>수학</th>\n",
       "    </tr>\n",
       "  </thead>\n",
       "  <tbody>\n",
       "    <tr>\n",
       "      <th>춘향</th>\n",
       "      <td>80</td>\n",
       "      <td>90</td>\n",
       "      <td>90</td>\n",
       "    </tr>\n",
       "    <tr>\n",
       "      <th>몽룡</th>\n",
       "      <td>90</td>\n",
       "      <td>70</td>\n",
       "      <td>60</td>\n",
       "    </tr>\n",
       "    <tr>\n",
       "      <th>향단</th>\n",
       "      <td>70</td>\n",
       "      <td>60</td>\n",
       "      <td>80</td>\n",
       "    </tr>\n",
       "    <tr>\n",
       "      <th>방자</th>\n",
       "      <td>30</td>\n",
       "      <td>40</td>\n",
       "      <td>70</td>\n",
       "    </tr>\n",
       "  </tbody>\n",
       "</table>\n",
       "</div>"
      ],
      "text/plain": [
       "    국어  영어  수학\n",
       "춘향  80  90  90\n",
       "몽룡  90  70  60\n",
       "향단  70  60  80\n",
       "방자  30  40  70"
      ]
     },
     "execution_count": 92,
     "metadata": {},
     "output_type": "execute_result"
    }
   ],
   "source": [
    "#연습문제\n",
    "\n",
    "data = {\n",
    "    '국어': [80,90,70,30],\n",
    "    '영어': [90,70,60,40],\n",
    "    '수학': [90,60,80,70]\n",
    "}\n",
    "columns = ['국어', '영어', '수학']\n",
    "index = ['춘향', '몽룡', '향단', '방자']\n",
    "df = pd.DataFrame(data, index=index, columns=columns)\n",
    "df"
   ]
  },
  {
   "cell_type": "code",
   "execution_count": 112,
   "id": "7661fdd4-92ac-4bdf-9dee-b33a32729a78",
   "metadata": {},
   "outputs": [
    {
     "data": {
      "text/plain": [
       "춘향    90\n",
       "몽룡    60\n",
       "향단    80\n",
       "방자    70\n",
       "Name: 수학, dtype: int64"
      ]
     },
     "execution_count": 112,
     "metadata": {},
     "output_type": "execute_result"
    }
   ],
   "source": [
    "# 1) 모든 학생의 수학 점수를 Series\n",
    "pd.Series(df['수학'])"
   ]
  },
  {
   "cell_type": "code",
   "execution_count": null,
   "id": "74350ee6-1ca4-411a-a900-83ffc0e6d29c",
   "metadata": {},
   "outputs": [],
   "source": [
    "# 2) 모든 학생의 국어와 영어점수를 데이터 프레임\n",
    "df[['국어','영어']]"
   ]
  },
  {
   "cell_type": "code",
   "execution_count": 103,
   "id": "1f9636ec-c4a0-4fc8-9cf4-505d93f6bb21",
   "metadata": {},
   "outputs": [
    {
     "data": {
      "text/html": [
       "<div>\n",
       "<style scoped>\n",
       "    .dataframe tbody tr th:only-of-type {\n",
       "        vertical-align: middle;\n",
       "    }\n",
       "\n",
       "    .dataframe tbody tr th {\n",
       "        vertical-align: top;\n",
       "    }\n",
       "\n",
       "    .dataframe thead th {\n",
       "        text-align: right;\n",
       "    }\n",
       "</style>\n",
       "<table border=\"1\" class=\"dataframe\">\n",
       "  <thead>\n",
       "    <tr style=\"text-align: right;\">\n",
       "      <th></th>\n",
       "      <th>국어</th>\n",
       "      <th>영어</th>\n",
       "      <th>수학</th>\n",
       "      <th>평균점수</th>\n",
       "    </tr>\n",
       "  </thead>\n",
       "  <tbody>\n",
       "    <tr>\n",
       "      <th>춘향</th>\n",
       "      <td>80</td>\n",
       "      <td>90</td>\n",
       "      <td>90</td>\n",
       "      <td>86.666667</td>\n",
       "    </tr>\n",
       "    <tr>\n",
       "      <th>몽룡</th>\n",
       "      <td>90</td>\n",
       "      <td>70</td>\n",
       "      <td>60</td>\n",
       "      <td>73.333333</td>\n",
       "    </tr>\n",
       "    <tr>\n",
       "      <th>향단</th>\n",
       "      <td>70</td>\n",
       "      <td>60</td>\n",
       "      <td>80</td>\n",
       "      <td>70.000000</td>\n",
       "    </tr>\n",
       "    <tr>\n",
       "      <th>방자</th>\n",
       "      <td>30</td>\n",
       "      <td>40</td>\n",
       "      <td>70</td>\n",
       "      <td>46.666667</td>\n",
       "    </tr>\n",
       "  </tbody>\n",
       "</table>\n",
       "</div>"
      ],
      "text/plain": [
       "    국어  영어  수학       평균점수\n",
       "춘향  80  90  90  86.666667\n",
       "몽룡  90  70  60  73.333333\n",
       "향단  70  60  80  70.000000\n",
       "방자  30  40  70  46.666667"
      ]
     },
     "execution_count": 103,
     "metadata": {},
     "output_type": "execute_result"
    }
   ],
   "source": [
    "#3) 모든 학생, 각 과목 평균 점수를 새로운 열로 추가\n",
    "avg =[]\n",
    "\n",
    "for i in index:\n",
    "    sumv = 0\n",
    "    for c in columns:\n",
    "        sumv += df[c][i]\n",
    "    avg.append(sumv/3)\n",
    "df['평균점수'] = avg\n",
    "df"
   ]
  },
  {
   "cell_type": "code",
   "execution_count": 128,
   "id": "2aa4890d-db0c-4edb-be08-721e4fef97ff",
   "metadata": {},
   "outputs": [
    {
     "data": {
      "text/html": [
       "<div>\n",
       "<style scoped>\n",
       "    .dataframe tbody tr th:only-of-type {\n",
       "        vertical-align: middle;\n",
       "    }\n",
       "\n",
       "    .dataframe tbody tr th {\n",
       "        vertical-align: top;\n",
       "    }\n",
       "\n",
       "    .dataframe thead th {\n",
       "        text-align: right;\n",
       "    }\n",
       "</style>\n",
       "<table border=\"1\" class=\"dataframe\">\n",
       "  <thead>\n",
       "    <tr style=\"text-align: right;\">\n",
       "      <th></th>\n",
       "      <th>국어</th>\n",
       "      <th>영어</th>\n",
       "      <th>수학</th>\n",
       "      <th>평균점수</th>\n",
       "      <th>평균</th>\n",
       "    </tr>\n",
       "  </thead>\n",
       "  <tbody>\n",
       "    <tr>\n",
       "      <th>춘향</th>\n",
       "      <td>80</td>\n",
       "      <td>90</td>\n",
       "      <td>90</td>\n",
       "      <td>86.666667</td>\n",
       "      <td>86.67</td>\n",
       "    </tr>\n",
       "    <tr>\n",
       "      <th>몽룡</th>\n",
       "      <td>90</td>\n",
       "      <td>70</td>\n",
       "      <td>60</td>\n",
       "      <td>73.333333</td>\n",
       "      <td>73.33</td>\n",
       "    </tr>\n",
       "    <tr>\n",
       "      <th>향단</th>\n",
       "      <td>70</td>\n",
       "      <td>60</td>\n",
       "      <td>80</td>\n",
       "      <td>70.000000</td>\n",
       "      <td>70.00</td>\n",
       "    </tr>\n",
       "    <tr>\n",
       "      <th>방자</th>\n",
       "      <td>30</td>\n",
       "      <td>40</td>\n",
       "      <td>70</td>\n",
       "      <td>46.666667</td>\n",
       "      <td>46.67</td>\n",
       "    </tr>\n",
       "  </tbody>\n",
       "</table>\n",
       "</div>"
      ],
      "text/plain": [
       "    국어  영어  수학       평균점수     평균\n",
       "춘향  80  90  90  86.666667  86.67\n",
       "몽룡  90  70  60  73.333333  73.33\n",
       "향단  70  60  80  70.000000  70.00\n",
       "방자  30  40  70  46.666667  46.67"
      ]
     },
     "execution_count": 128,
     "metadata": {},
     "output_type": "execute_result"
    }
   ],
   "source": [
    "df['평균'] = round((df['국어']+df['영어']+df['수학'])/3, 2)\n",
    "df"
   ]
  },
  {
   "cell_type": "code",
   "execution_count": 122,
   "id": "a6fb1c90-b7ba-4a13-8953-53919f19671d",
   "metadata": {},
   "outputs": [
    {
     "data": {
      "text/html": [
       "<div>\n",
       "<style scoped>\n",
       "    .dataframe tbody tr th:only-of-type {\n",
       "        vertical-align: middle;\n",
       "    }\n",
       "\n",
       "    .dataframe tbody tr th {\n",
       "        vertical-align: top;\n",
       "    }\n",
       "\n",
       "    .dataframe thead th {\n",
       "        text-align: right;\n",
       "    }\n",
       "</style>\n",
       "<table border=\"1\" class=\"dataframe\">\n",
       "  <thead>\n",
       "    <tr style=\"text-align: right;\">\n",
       "      <th></th>\n",
       "      <th>춘향의 점수</th>\n",
       "    </tr>\n",
       "  </thead>\n",
       "  <tbody>\n",
       "    <tr>\n",
       "      <th>국어</th>\n",
       "      <td>80</td>\n",
       "    </tr>\n",
       "    <tr>\n",
       "      <th>영어</th>\n",
       "      <td>90</td>\n",
       "    </tr>\n",
       "    <tr>\n",
       "      <th>수학</th>\n",
       "      <td>90</td>\n",
       "    </tr>\n",
       "  </tbody>\n",
       "</table>\n",
       "</div>"
      ],
      "text/plain": [
       "    춘향의 점수\n",
       "국어      80\n",
       "영어      90\n",
       "수학      90"
      ]
     },
     "execution_count": 122,
     "metadata": {},
     "output_type": "execute_result"
    }
   ],
   "source": [
    "# 4) 춘향의 점수를 DataFrame\n",
    "ch = pd.DataFrame(data = [df['국어']['춘향'], df['영어']['춘향'], df['수학']['춘향']],\n",
    "                  index = columns, columns = ['춘향의 점수'] )\n",
    "\n",
    "#ch = pd.DataFrame(data=df[[df[_]['춘향'] for _ in columns]], columns = ['춘향의 점수'] )\n",
    "ch"
   ]
  },
  {
   "cell_type": "code",
   "execution_count": 126,
   "id": "ba61815c-90e2-48e9-9dcd-e339263d1559",
   "metadata": {},
   "outputs": [
    {
     "data": {
      "text/html": [
       "<div>\n",
       "<style scoped>\n",
       "    .dataframe tbody tr th:only-of-type {\n",
       "        vertical-align: middle;\n",
       "    }\n",
       "\n",
       "    .dataframe tbody tr th {\n",
       "        vertical-align: top;\n",
       "    }\n",
       "\n",
       "    .dataframe thead th {\n",
       "        text-align: right;\n",
       "    }\n",
       "</style>\n",
       "<table border=\"1\" class=\"dataframe\">\n",
       "  <thead>\n",
       "    <tr style=\"text-align: right;\">\n",
       "      <th></th>\n",
       "      <th>춘향</th>\n",
       "    </tr>\n",
       "  </thead>\n",
       "  <tbody>\n",
       "    <tr>\n",
       "      <th>국어</th>\n",
       "      <td>80.000000</td>\n",
       "    </tr>\n",
       "    <tr>\n",
       "      <th>영어</th>\n",
       "      <td>90.000000</td>\n",
       "    </tr>\n",
       "    <tr>\n",
       "      <th>수학</th>\n",
       "      <td>90.000000</td>\n",
       "    </tr>\n",
       "    <tr>\n",
       "      <th>평균점수</th>\n",
       "      <td>86.666667</td>\n",
       "    </tr>\n",
       "  </tbody>\n",
       "</table>\n",
       "</div>"
      ],
      "text/plain": [
       "             춘향\n",
       "국어    80.000000\n",
       "영어    90.000000\n",
       "수학    90.000000\n",
       "평균점수  86.666667"
      ]
     },
     "execution_count": 126,
     "metadata": {},
     "output_type": "execute_result"
    }
   ],
   "source": [
    "df.T[['춘향']] #전치 (Transpose)"
   ]
  },
  {
   "cell_type": "code",
   "execution_count": 130,
   "id": "e0fb5dad-f967-41c9-99e4-6aba97939fb1",
   "metadata": {},
   "outputs": [
    {
     "data": {
      "text/html": [
       "<div>\n",
       "<style scoped>\n",
       "    .dataframe tbody tr th:only-of-type {\n",
       "        vertical-align: middle;\n",
       "    }\n",
       "\n",
       "    .dataframe tbody tr th {\n",
       "        vertical-align: top;\n",
       "    }\n",
       "\n",
       "    .dataframe thead th {\n",
       "        text-align: right;\n",
       "    }\n",
       "</style>\n",
       "<table border=\"1\" class=\"dataframe\">\n",
       "  <thead>\n",
       "    <tr style=\"text-align: right;\">\n",
       "      <th></th>\n",
       "      <th>국어</th>\n",
       "      <th>영어</th>\n",
       "      <th>수학</th>\n",
       "      <th>평균점수</th>\n",
       "      <th>평균</th>\n",
       "    </tr>\n",
       "  </thead>\n",
       "  <tbody>\n",
       "    <tr>\n",
       "      <th>춘향</th>\n",
       "      <td>80</td>\n",
       "      <td>90</td>\n",
       "      <td>90</td>\n",
       "      <td>86.666667</td>\n",
       "      <td>86.67</td>\n",
       "    </tr>\n",
       "  </tbody>\n",
       "</table>\n",
       "</div>"
      ],
      "text/plain": [
       "    국어  영어  수학       평균점수     평균\n",
       "춘향  80  90  90  86.666667  86.67"
      ]
     },
     "execution_count": 130,
     "metadata": {},
     "output_type": "execute_result"
    }
   ],
   "source": [
    "df[:1] #df['춘향':'춘향']"
   ]
  },
  {
   "cell_type": "code",
   "execution_count": 114,
   "id": "2a5c2640-b548-44bf-a0bf-0c98960b594e",
   "metadata": {},
   "outputs": [
    {
     "data": {
      "text/plain": [
       "0    70\n",
       "1    60\n",
       "2    80\n",
       "dtype: int64"
      ]
     },
     "execution_count": 114,
     "metadata": {},
     "output_type": "execute_result"
    }
   ],
   "source": [
    "# 5) 향단의 점수를 Series\n",
    "pd.Series( [df[_]['향단'] for _ in columns])"
   ]
  },
  {
   "cell_type": "code",
   "execution_count": 127,
   "id": "7f241ab4-5611-4ab7-944a-0a1f8fb87b32",
   "metadata": {},
   "outputs": [
    {
     "data": {
      "text/plain": [
       "국어      70.0\n",
       "영어      60.0\n",
       "수학      80.0\n",
       "평균점수    70.0\n",
       "Name: 향단, dtype: float64"
      ]
     },
     "execution_count": 127,
     "metadata": {},
     "output_type": "execute_result"
    }
   ],
   "source": [
    "pd.Series( df.T['향단'] )  #전치 (Transpose)"
   ]
  },
  {
   "cell_type": "code",
   "execution_count": 133,
   "id": "50f5a2c4-cc5e-4fd2-9dab-3131a229efa3",
   "metadata": {},
   "outputs": [
    {
     "data": {
      "text/plain": [
       "국어      70.0\n",
       "영어      60.0\n",
       "수학      80.0\n",
       "평균점수    70.0\n",
       "평균      70.0\n",
       "Name: 향단, dtype: float64"
      ]
     },
     "execution_count": 133,
     "metadata": {},
     "output_type": "execute_result"
    }
   ],
   "source": [
    "df.T['향단'] #Series로 감싸지 않아도 됨 column에 대한 반환값은 자동으로 시리즈~!"
   ]
  },
  {
   "cell_type": "code",
   "execution_count": null,
   "id": "14accf09-dd0e-405c-a68f-967946c72128",
   "metadata": {},
   "outputs": [],
   "source": [
    "# df.loc[index] 로 향단이 가져오면 됨"
   ]
  },
  {
   "cell_type": "code",
   "execution_count": 156,
   "id": "0db080e7-ff3c-493d-a84d-b7147b52fbac",
   "metadata": {},
   "outputs": [
    {
     "data": {
      "text/html": [
       "<div>\n",
       "<style scoped>\n",
       "    .dataframe tbody tr th:only-of-type {\n",
       "        vertical-align: middle;\n",
       "    }\n",
       "\n",
       "    .dataframe tbody tr th {\n",
       "        vertical-align: top;\n",
       "    }\n",
       "\n",
       "    .dataframe thead th {\n",
       "        text-align: right;\n",
       "    }\n",
       "</style>\n",
       "<table border=\"1\" class=\"dataframe\">\n",
       "  <thead>\n",
       "    <tr style=\"text-align: right;\">\n",
       "      <th></th>\n",
       "      <th>A</th>\n",
       "      <th>B</th>\n",
       "      <th>C</th>\n",
       "      <th>D</th>\n",
       "    </tr>\n",
       "  </thead>\n",
       "  <tbody>\n",
       "    <tr>\n",
       "      <th>2013-02-26</th>\n",
       "      <td>1.764052</td>\n",
       "      <td>0.400157</td>\n",
       "      <td>0.978738</td>\n",
       "      <td>2.240893</td>\n",
       "    </tr>\n",
       "    <tr>\n",
       "      <th>2013-02-27</th>\n",
       "      <td>1.867558</td>\n",
       "      <td>-0.977278</td>\n",
       "      <td>0.950088</td>\n",
       "      <td>-0.151357</td>\n",
       "    </tr>\n",
       "    <tr>\n",
       "      <th>2013-02-28</th>\n",
       "      <td>-0.103219</td>\n",
       "      <td>0.410599</td>\n",
       "      <td>0.144044</td>\n",
       "      <td>1.454274</td>\n",
       "    </tr>\n",
       "    <tr>\n",
       "      <th>2013-03-01</th>\n",
       "      <td>0.761038</td>\n",
       "      <td>0.121675</td>\n",
       "      <td>0.443863</td>\n",
       "      <td>0.333674</td>\n",
       "    </tr>\n",
       "    <tr>\n",
       "      <th>2013-03-02</th>\n",
       "      <td>1.494079</td>\n",
       "      <td>-0.205158</td>\n",
       "      <td>0.313068</td>\n",
       "      <td>-0.854096</td>\n",
       "    </tr>\n",
       "    <tr>\n",
       "      <th>2013-03-03</th>\n",
       "      <td>-2.552990</td>\n",
       "      <td>0.653619</td>\n",
       "      <td>0.864436</td>\n",
       "      <td>-0.742165</td>\n",
       "    </tr>\n",
       "  </tbody>\n",
       "</table>\n",
       "</div>"
      ],
      "text/plain": [
       "                   A         B         C         D\n",
       "2013-02-26  1.764052  0.400157  0.978738  2.240893\n",
       "2013-02-27  1.867558 -0.977278  0.950088 -0.151357\n",
       "2013-02-28 -0.103219  0.410599  0.144044  1.454274\n",
       "2013-03-01  0.761038  0.121675  0.443863  0.333674\n",
       "2013-03-02  1.494079 -0.205158  0.313068 -0.854096\n",
       "2013-03-03 -2.552990  0.653619  0.864436 -0.742165"
      ]
     },
     "execution_count": 156,
     "metadata": {},
     "output_type": "execute_result"
    }
   ],
   "source": [
    "#연습문제\n",
    "#다음 DataFrame을 만들어 보세요\n",
    "\"\"\"\n",
    "- 랜덤 시드는 0입니다.\n",
    "- values는 넘파이 서브 패키지 중 random의 randn() 메서드를 사용하세요.\n",
    "- index는 pd.date_range(\"20130226\", periods=날짜수)을 활용하세요.\n",
    "\"\"\"\n",
    "\n",
    "import numpy as np\n",
    "np.random.seed(0)\n",
    "\n",
    "index = pd.date_range(\"20130226\", periods=6)\n",
    "\n",
    "pd.DataFrame( data = np.random.randn(24).reshape(6, 4),\n",
    "             index = index, columns = ['A', 'B', 'C', 'D'] )"
   ]
  },
  {
   "cell_type": "code",
   "execution_count": null,
   "id": "6a358f34-fb62-45a6-98c9-ff0574dd1bc9",
   "metadata": {},
   "outputs": [],
   "source": []
  },
  {
   "cell_type": "code",
   "execution_count": 9,
   "id": "e6cef89d-c462-45bc-a81b-fa06f96b237d",
   "metadata": {},
   "outputs": [],
   "source": [
    "\"\"\"\n",
    "230307 수업\n",
    "\"\"\"\n",
    "\n",
    "import pandas as pd\n",
    "import numpy as np"
   ]
  },
  {
   "cell_type": "code",
   "execution_count": 10,
   "id": "c42c38b6-60bf-4776-b745-3ef2c414713b",
   "metadata": {},
   "outputs": [
    {
     "data": {
      "text/plain": [
       "'\\n앞 5개, 뒤 5개 출력해 줌\\n많은 데이터를 한번에 출력하면 주피터 자체가 느려질 수 있기 때문\\n'"
      ]
     },
     "execution_count": 10,
     "metadata": {},
     "output_type": "execute_result"
    }
   ],
   "source": [
    "#Series의 값이 많은 경우\n",
    "\n",
    "nums = pd.Series(range(500))\n",
    "nums\n",
    "\n",
    "\"\"\"\n",
    "앞 5개, 뒤 5개 출력해 줌\n",
    "많은 데이터를 한번에 출력하면 주피터 자체가 느려질 수 있기 때문\n",
    "\"\"\""
   ]
  },
  {
   "cell_type": "code",
   "execution_count": 5,
   "id": "e897d72d-f755-427c-99b5-cd3b40634252",
   "metadata": {},
   "outputs": [
    {
     "data": {
      "text/plain": [
       "0    0\n",
       "1    1\n",
       "2    2\n",
       "3    3\n",
       "4    4\n",
       "5    5\n",
       "6    6\n",
       "7    7\n",
       "8    8\n",
       "9    9\n",
       "dtype: int64"
      ]
     },
     "execution_count": 5,
     "metadata": {},
     "output_type": "execute_result"
    }
   ],
   "source": [
    "#series head 메서드\n",
    "#데이터를 앞에 n개 출력해 볼 수 있는 메서드\n",
    "nums.head(10)"
   ]
  },
  {
   "cell_type": "code",
   "execution_count": 6,
   "id": "71d339f7-4822-4a88-b8b6-753d0034a1c3",
   "metadata": {},
   "outputs": [
    {
     "data": {
      "text/plain": [
       "490    490\n",
       "491    491\n",
       "492    492\n",
       "493    493\n",
       "494    494\n",
       "495    495\n",
       "496    496\n",
       "497    497\n",
       "498    498\n",
       "499    499\n",
       "dtype: int64"
      ]
     },
     "execution_count": 6,
     "metadata": {},
     "output_type": "execute_result"
    }
   ],
   "source": [
    "#series tail 메서드\n",
    "#데이터를 뒤에 n개 출력해 볼 수 있음\n",
    "\n",
    "nums.tail(10)"
   ]
  },
  {
   "cell_type": "code",
   "execution_count": 11,
   "id": "e1977950-c243-4788-9399-3b327dddad77",
   "metadata": {},
   "outputs": [
    {
     "data": {
      "text/plain": [
       "0    1.0\n",
       "1    2.0\n",
       "2    NaN\n",
       "3    4.0\n",
       "4    5.0\n",
       "dtype: float64"
      ]
     },
     "execution_count": 11,
     "metadata": {},
     "output_type": "execute_result"
    }
   ],
   "source": [
    "nums = pd.Series ( [1, 2, np.nan, 4, 5] )\n",
    "nums"
   ]
  },
  {
   "cell_type": "code",
   "execution_count": 13,
   "id": "e7b3fc8b-16e6-412c-b2f2-e242f6d3d074",
   "metadata": {},
   "outputs": [
    {
     "data": {
      "text/plain": [
       "0    h\n",
       "1    e\n",
       "2    l\n",
       "3    l\n",
       "4    o\n",
       "dtype: object"
      ]
     },
     "execution_count": 13,
     "metadata": {},
     "output_type": "execute_result"
    }
   ],
   "source": [
    "hello = pd.Series(list('hello'))\n",
    "hello"
   ]
  },
  {
   "cell_type": "code",
   "execution_count": 15,
   "id": "1e62e4a8-5d12-4f0a-ad51-587333882bb6",
   "metadata": {},
   "outputs": [
    {
     "data": {
      "text/plain": [
       "4"
      ]
     },
     "execution_count": 15,
     "metadata": {},
     "output_type": "execute_result"
    }
   ],
   "source": [
    "#unique한 값의 개수를 반환\n",
    "hello.nunique()"
   ]
  },
  {
   "cell_type": "code",
   "execution_count": 16,
   "id": "3d0bd295-6d03-42bb-88eb-3bbec116ac23",
   "metadata": {},
   "outputs": [
    {
     "data": {
      "text/plain": [
       "4"
      ]
     },
     "execution_count": 16,
     "metadata": {},
     "output_type": "execute_result"
    }
   ],
   "source": [
    "#데이터의 개수를 반환\n",
    "nums.count()"
   ]
  },
  {
   "cell_type": "code",
   "execution_count": 18,
   "id": "8ee8fcd1-a7e1-4814-98c9-2f5d805a080e",
   "metadata": {},
   "outputs": [
    {
     "data": {
      "text/plain": [
       "0    A\n",
       "1    a\n",
       "2    B\n",
       "3    b\n",
       "4    C\n",
       "5    c\n",
       "dtype: object"
      ]
     },
     "execution_count": 18,
     "metadata": {},
     "output_type": "execute_result"
    }
   ],
   "source": [
    "somechar = pd.Series(list(\"AaBbCc\"))\n",
    "somechar"
   ]
  },
  {
   "cell_type": "code",
   "execution_count": 21,
   "id": "519659d6-fe6e-4c6f-ada1-6ed9478f31d2",
   "metadata": {},
   "outputs": [
    {
     "data": {
      "text/plain": [
       "97"
      ]
     },
     "execution_count": 21,
     "metadata": {},
     "output_type": "execute_result"
    }
   ],
   "source": [
    "#하나의 문자를 unicode 숫자로 변경해주는 ord()\n",
    "ord('a')"
   ]
  },
  {
   "cell_type": "code",
   "execution_count": 22,
   "id": "e7930b7d-297a-4d02-b50c-c824eeed8d2d",
   "metadata": {},
   "outputs": [
    {
     "data": {
      "text/plain": [
       "count    4.000000\n",
       "mean     3.000000\n",
       "std      1.825742\n",
       "min      1.000000\n",
       "25%      1.750000\n",
       "50%      3.000000\n",
       "75%      4.250000\n",
       "max      5.000000\n",
       "dtype: float64"
      ]
     },
     "execution_count": 22,
     "metadata": {},
     "output_type": "execute_result"
    }
   ],
   "source": [
    "#수학연산 describe() 메서드\n",
    "nums.describe()"
   ]
  },
  {
   "cell_type": "code",
   "execution_count": 23,
   "id": "06d0e35f-e0cd-4a0d-bf03-a13095a69c68",
   "metadata": {},
   "outputs": [],
   "source": [
    "superheros = [\n",
    "    \"Batman\",\n",
    "    \"Superman\",\n",
    "     \"Spider-Man\",\n",
    "     \"Iron Man\",\n",
    "     \"Captain America\",\n",
    "     \"Wonder Woman\"\n",
    "]\n",
    "strength_levels = (100, 120, 90, 95, 110, 120)"
   ]
  },
  {
   "cell_type": "code",
   "execution_count": 25,
   "id": "e9dce5ff-7759-4f1a-aedd-e1e341324ae1",
   "metadata": {},
   "outputs": [
    {
     "data": {
      "text/plain": [
       "'\\n연습문제!!\\n'"
      ]
     },
     "execution_count": 25,
     "metadata": {},
     "output_type": "execute_result"
    }
   ],
   "source": [
    "\"\"\"\n",
    "연습문제!!\n",
    "\"\"\""
   ]
  },
  {
   "cell_type": "code",
   "execution_count": null,
   "id": "aef6cda2-7093-4631-88be-4666d13570ae",
   "metadata": {},
   "outputs": [],
   "source": []
  },
  {
   "cell_type": "code",
   "execution_count": null,
   "id": "d4d8010f-0f32-44bf-b887-b8f92b445e75",
   "metadata": {},
   "outputs": [],
   "source": []
  },
  {
   "cell_type": "code",
   "execution_count": 72,
   "id": "3527b687-5ac7-49b6-86cd-511ac09296c9",
   "metadata": {},
   "outputs": [
    {
     "name": "stderr",
     "output_type": "stream",
     "text": [
      "C:\\Users\\user\\AppData\\Local\\Temp\\ipykernel_9480\\3037897865.py:3: FutureWarning: The squeeze argument has been deprecated and will be removed in a future version. Append .squeeze(\"columns\") to the call to squeeze.\n",
      "\n",
      "\n",
      "  pokemons = pd.read_csv (\"C:\\python\\datas\\pokemon.csv\", index_col=\"Pokemon\", squeeze=True)\n"
     ]
    }
   ],
   "source": [
    "#csv 데이터 읽어오기\n",
    "\n",
    "pokemons = pd.read_csv (\"C:\\python\\datas\\pokemon.csv\", index_col=\"Pokemon\", squeeze=True)"
   ]
  },
  {
   "cell_type": "code",
   "execution_count": 7,
   "id": "ac76fef2-057c-4b6a-ac56-947c8a957263",
   "metadata": {},
   "outputs": [
    {
     "data": {
      "text/plain": [
       "Pokemon\n",
       "Bulbasaur      Grass / Poison\n",
       "Ivysaur        Grass / Poison\n",
       "Venusaur       Grass / Poison\n",
       "Charmander               Fire\n",
       "Charmeleon               Fire\n",
       "                    ...      \n",
       "Stakataka        Rock / Steel\n",
       "Blacephalon      Fire / Ghost\n",
       "Zeraora              Electric\n",
       "Meltan                  Steel\n",
       "Melmetal                Steel\n",
       "Name: Type, Length: 809, dtype: object"
      ]
     },
     "execution_count": 7,
     "metadata": {},
     "output_type": "execute_result"
    }
   ],
   "source": [
    "pokemons"
   ]
  },
  {
   "cell_type": "code",
   "execution_count": 8,
   "id": "0483a184-6fa8-4316-8dff-30f18586c8fe",
   "metadata": {},
   "outputs": [
    {
     "data": {
      "text/plain": [
       "count        809\n",
       "unique       159\n",
       "top       Normal\n",
       "freq          65\n",
       "Name: Type, dtype: object"
      ]
     },
     "execution_count": 8,
     "metadata": {},
     "output_type": "execute_result"
    }
   ],
   "source": [
    "pokemons.describe()"
   ]
  },
  {
   "cell_type": "code",
   "execution_count": 12,
   "id": "7b167928-c5d5-4f4b-b2eb-b3e0cb87789c",
   "metadata": {},
   "outputs": [
    {
     "data": {
      "text/plain": [
       "Pokemon\n",
       "Empoleon      Water / Steel\n",
       "Corsola        Water / Rock\n",
       "Relicanth      Water / Rock\n",
       "Carracosta     Water / Rock\n",
       "Tirtouga       Water / Rock\n",
       "                  ...      \n",
       "Kricketune              Bug\n",
       "Cascoon                 Bug\n",
       "Scatterbug              Bug\n",
       "Kricketot               Bug\n",
       "Grubbin                 Bug\n",
       "Name: Type, Length: 809, dtype: object"
      ]
     },
     "execution_count": 12,
     "metadata": {},
     "output_type": "execute_result"
    }
   ],
   "source": [
    "pokemons.sort_values(ascending = False)    #값 내림차순 정렬"
   ]
  },
  {
   "cell_type": "code",
   "execution_count": 73,
   "id": "e6e9904d-1613-4034-96d6-1072b2b933f8",
   "metadata": {},
   "outputs": [
    {
     "name": "stderr",
     "output_type": "stream",
     "text": [
      "C:\\Users\\user\\AppData\\Local\\Temp\\ipykernel_9480\\3262380209.py:1: FutureWarning: The squeeze argument has been deprecated and will be removed in a future version. Append .squeeze(\"columns\") to the call to squeeze.\n",
      "\n",
      "\n",
      "  google = pd.read_csv(\"C:\\python\\datas\\google_stocks.csv\", parse_dates=[\"Date\"],\n"
     ]
    },
    {
     "data": {
      "text/plain": [
       "Date\n",
       "2004-08-19      49.98\n",
       "2004-08-20      53.95\n",
       "2004-08-23      54.50\n",
       "2004-08-24      52.24\n",
       "2004-08-25      52.80\n",
       "               ...   \n",
       "2019-10-21    1246.15\n",
       "2019-10-22    1242.80\n",
       "2019-10-23    1259.13\n",
       "2019-10-24    1260.99\n",
       "2019-10-25    1265.13\n",
       "Name: Close, Length: 3824, dtype: float64"
      ]
     },
     "execution_count": 73,
     "metadata": {},
     "output_type": "execute_result"
    }
   ],
   "source": [
    "google = pd.read_csv(\"C:\\python\\datas\\google_stocks.csv\", parse_dates=[\"Date\"],\n",
    "                     index_col=\"Date\", squeeze=True)\n",
    "google"
   ]
  },
  {
   "cell_type": "code",
   "execution_count": 75,
   "id": "5a4da755-8a8f-4ff6-b99a-9aa8c568cc75",
   "metadata": {},
   "outputs": [
    {
     "name": "stderr",
     "output_type": "stream",
     "text": [
      "C:\\Users\\user\\AppData\\Local\\Temp\\ipykernel_9480\\2069280567.py:1: FutureWarning: The squeeze argument has been deprecated and will be removed in a future version. Append .squeeze(\"columns\") to the call to squeeze.\n",
      "\n",
      "\n",
      "  war = pd.read_csv('C:\\\\python\\\\datas\\\\revolutionary_war.csv', parse_dates=['Start Date'],\n"
     ]
    },
    {
     "data": {
      "text/plain": [
       "Start Date\n",
       "1774-09-01    Massachusetts\n",
       "1774-12-14    New Hampshire\n",
       "1775-04-19    Massachusetts\n",
       "1775-04-19    Massachusetts\n",
       "1775-04-20         Virginia\n",
       "                  ...      \n",
       "1782-09-11         Virginia\n",
       "1782-09-13              NaN\n",
       "1782-10-18              NaN\n",
       "1782-12-06              NaN\n",
       "1783-01-22         Virginia\n",
       "Name: State, Length: 232, dtype: object"
      ]
     },
     "execution_count": 75,
     "metadata": {},
     "output_type": "execute_result"
    }
   ],
   "source": [
    "war = pd.read_csv('C:\\\\python\\\\datas\\\\revolutionary_war.csv', parse_dates=['Start Date'],\n",
    "                  index_col='Start Date', usecols=['Start Date', 'State'],\n",
    "                  squeeze=True\n",
    "                 )\n",
    "war"
   ]
  },
  {
   "cell_type": "code",
   "execution_count": 76,
   "id": "207661cb-9826-4349-a1aa-4566f069e315",
   "metadata": {},
   "outputs": [
    {
     "data": {
      "text/plain": [
       "'\\n\\n\\n\\n슬라이드 47page까지!\\n\\n\\n\\n\\n'"
      ]
     },
     "execution_count": 76,
     "metadata": {},
     "output_type": "execute_result"
    }
   ],
   "source": [
    "\"\"\"\n",
    "\n",
    "\n",
    "\n",
    "슬라이드 47page까지!\n",
    "\n",
    "\n",
    "\n",
    "\n",
    "\"\"\""
   ]
  },
  {
   "cell_type": "code",
   "execution_count": 21,
   "id": "71aaebd3-d999-4d31-90d9-b865856ba59a",
   "metadata": {},
   "outputs": [
    {
     "data": {
      "text/plain": [
       "Date\n",
       "2019-04-29    1287.58\n",
       "2019-04-26    1272.18\n",
       "2018-07-26    1268.33\n",
       "2019-10-25    1265.13\n",
       "2019-04-23    1264.55\n",
       "2018-07-25    1263.70\n",
       "2019-04-25    1263.45\n",
       "2019-10-24    1260.99\n",
       "2019-10-23    1259.13\n",
       "2019-04-24    1256.00\n",
       "Name: Close, dtype: float64"
      ]
     },
     "execution_count": 21,
     "metadata": {},
     "output_type": "execute_result"
    }
   ],
   "source": [
    "google.nlargest(10)"
   ]
  },
  {
   "cell_type": "code",
   "execution_count": 23,
   "id": "31b1ab6c-e6ee-47e2-af75-04e29830b078",
   "metadata": {},
   "outputs": [
    {
     "data": {
      "text/plain": [
       "Normal                65\n",
       "Water                 61\n",
       "Grass                 38\n",
       "Psychic               35\n",
       "Fire                  30\n",
       "                      ..\n",
       "Fire / Psychic         1\n",
       "Normal / Ground        1\n",
       "Psychic / Fighting     1\n",
       "Dark / Ghost           1\n",
       "Fire / Ghost           1\n",
       "Name: Type, Length: 159, dtype: int64"
      ]
     },
     "execution_count": 23,
     "metadata": {},
     "output_type": "execute_result"
    }
   ],
   "source": [
    "\"\"\"\n",
    "Series 내 데이터의 고유한 값의 빈도를 볼 때 활용\n",
    "값의 내림차순으로 (빈도) 정렬됨\n",
    "\"\"\"\n",
    "\n",
    "pokemons.value_counts()"
   ]
  },
  {
   "cell_type": "code",
   "execution_count": 26,
   "id": "a47362a3-97c0-4ee4-b013-10e9311d1b32",
   "metadata": {},
   "outputs": [
    {
     "data": {
      "text/plain": [
       "159"
      ]
     },
     "execution_count": 26,
     "metadata": {},
     "output_type": "execute_result"
    }
   ],
   "source": [
    "#            ↑와 같은 값 나옴\n",
    "len(pokemons.value_counts())"
   ]
  },
  {
   "cell_type": "code",
   "execution_count": 28,
   "id": "df4d27e5-e9ad-481e-a4ff-76ce2bb59b8f",
   "metadata": {},
   "outputs": [
    {
     "data": {
      "text/plain": [
       "count    3824.000000\n",
       "mean      479.945860\n",
       "std       328.528592\n",
       "min        49.820000\n",
       "25%       235.860000\n",
       "50%       314.680000\n",
       "75%       708.205000\n",
       "max      1287.580000\n",
       "Name: Close, dtype: float64"
      ]
     },
     "execution_count": 28,
     "metadata": {},
     "output_type": "execute_result"
    }
   ],
   "source": [
    "google.describe()\n",
    "\n",
    "#min        49.820000\n",
    "#max      1287.580000"
   ]
  },
  {
   "cell_type": "code",
   "execution_count": 31,
   "id": "59c636a1-821f-43ca-be09-e1caebe7f2ed",
   "metadata": {},
   "outputs": [
    {
     "data": {
      "text/plain": [
       "array([   0.,  200.,  400.,  600.,  800., 1000., 1200., 1400.])"
      ]
     },
     "execution_count": 31,
     "metadata": {},
     "output_type": "execute_result"
    }
   ],
   "source": [
    "bins = np.linspace(0, 1400, 8)\n",
    "bins   # 이걸로 슬라이싱해줄거임 인위적으로 범위 만든겨"
   ]
  },
  {
   "cell_type": "code",
   "execution_count": 34,
   "id": "e8eb5478-2dff-479c-91f3-ff65308bf20d",
   "metadata": {},
   "outputs": [
    {
     "data": {
      "text/plain": [
       "(200.0, 400.0]      1568\n",
       "(-0.001, 200.0]      595\n",
       "(400.0, 600.0]       575\n",
       "(1000.0, 1200.0]     406\n",
       "(600.0, 800.0]       380\n",
       "(800.0, 1000.0]      207\n",
       "(1200.0, 1400.0]      93\n",
       "Name: Close, dtype: int64"
      ]
     },
     "execution_count": 34,
     "metadata": {},
     "output_type": "execute_result"
    }
   ],
   "source": [
    "google.value_counts(bins=bins)\n",
    "\n",
    "#(0, 200] 0초과 200이하, (200, 400]... 범위에 포함되는 값의 개수를\n",
    "#세어서 자동으로 값의 내림차순으로 정렬"
   ]
  },
  {
   "cell_type": "code",
   "execution_count": 44,
   "id": "35857074-942a-4703-adfe-afe0df6c7b79",
   "metadata": {},
   "outputs": [
    {
     "data": {
      "text/plain": [
       "(-0.001, 200.0]      595\n",
       "(200.0, 400.0]      1568\n",
       "(400.0, 600.0]       575\n",
       "(600.0, 800.0]       380\n",
       "(800.0, 1000.0]      207\n",
       "(1000.0, 1200.0]     406\n",
       "(1200.0, 1400.0]      93\n",
       "Name: Close, dtype: int64"
      ]
     },
     "execution_count": 44,
     "metadata": {},
     "output_type": "execute_result"
    }
   ],
   "source": [
    "\"\"\"\n",
    "연습문제\n",
    "- google 변수가 가리키는 Series 객체에 대해\n",
    "[0, 200, 400, 600, 800, 1000, 1200, 1400]의 구간을 갖는 값의 개수를 구하고\n",
    "인덱스 순으로 정렬\n",
    "\"\"\"\n",
    "\n",
    "google.value_counts(bins=range(0,1401,200)).sort_index(na_position=\"first\")\n",
    "#                                         , sort=False) 해주면 sort 풀림\n",
    "#                          미입력 시 기본값 sort =True"
   ]
  },
  {
   "cell_type": "code",
   "execution_count": 45,
   "id": "26f7ffc8-2edc-48db-bb24-51ca2fa2c896",
   "metadata": {},
   "outputs": [
    {
     "data": {
      "text/plain": [
       "(48.581, 204.54]       651\n",
       "(204.54, 359.26]      1435\n",
       "(359.26, 513.98]       263\n",
       "(513.98, 668.7]        466\n",
       "(668.7, 823.42]        334\n",
       "(823.42, 978.14]       161\n",
       "(978.14, 1132.86]      283\n",
       "(1132.86, 1287.58]     231\n",
       "Name: Close, dtype: int64"
      ]
     },
     "execution_count": 45,
     "metadata": {},
     "output_type": "execute_result"
    }
   ],
   "source": [
    "#bins 에 정수로 전달하면 알아서 정수만큼의 구간으로 나누어줌\n",
    "google.value_counts(bins=8, sort=False)"
   ]
  },
  {
   "cell_type": "code",
   "execution_count": 54,
   "id": "71b38244-b00c-43bd-a298-9dfed0583715",
   "metadata": {},
   "outputs": [
    {
     "data": {
      "text/html": [
       "<div>\n",
       "<style scoped>\n",
       "    .dataframe tbody tr th:only-of-type {\n",
       "        vertical-align: middle;\n",
       "    }\n",
       "\n",
       "    .dataframe tbody tr th {\n",
       "        vertical-align: top;\n",
       "    }\n",
       "\n",
       "    .dataframe thead th {\n",
       "        text-align: right;\n",
       "    }\n",
       "</style>\n",
       "<table border=\"1\" class=\"dataframe\">\n",
       "  <thead>\n",
       "    <tr style=\"text-align: right;\">\n",
       "      <th></th>\n",
       "      <th>c1</th>\n",
       "      <th>c2</th>\n",
       "      <th>c3</th>\n",
       "    </tr>\n",
       "  </thead>\n",
       "  <tbody>\n",
       "    <tr>\n",
       "      <th>0</th>\n",
       "      <td>1</td>\n",
       "      <td>1.11</td>\n",
       "      <td>one</td>\n",
       "    </tr>\n",
       "    <tr>\n",
       "      <th>1</th>\n",
       "      <td>2</td>\n",
       "      <td></td>\n",
       "      <td>two</td>\n",
       "    </tr>\n",
       "    <tr>\n",
       "      <th>2</th>\n",
       "      <td>누락</td>\n",
       "      <td>3.33</td>\n",
       "      <td>three</td>\n",
       "    </tr>\n",
       "  </tbody>\n",
       "</table>\n",
       "</div>"
      ],
      "text/plain": [
       "   c1    c2     c3\n",
       "0   1  1.11    one\n",
       "1   2          two\n",
       "2  누락  3.33  three"
      ]
     },
     "execution_count": 54,
     "metadata": {},
     "output_type": "execute_result"
    }
   ],
   "source": [
    "#pandas 데이터 csv로 출력하기\n",
    "\n",
    "columns = ['c1', 'c2', 'c3']\n",
    "df_csv = pd.DataFrame([[1, 2, '누락'],\n",
    "              [1.11, '', 3.33],\n",
    "              ['one', 'two', 'three']],index=columns).T\n",
    "df_csv"
   ]
  },
  {
   "cell_type": "code",
   "execution_count": 56,
   "id": "b16d0c27-ccf2-4cf3-8f91-8dd1431f185f",
   "metadata": {},
   "outputs": [],
   "source": [
    "\"\"\"\n",
    "데이터를 csv 파일로 출력할 때 to_csv() 메서드 활용\n",
    "index=True 기본값인데 현재 만든 dataframe에서는 index가 필요없으므로 false로 해보겟읍니다\n",
    "\"\"\"\n",
    "\n",
    "df_csv.to_csv('datas/sample1.csv', index=False)"
   ]
  },
  {
   "cell_type": "code",
   "execution_count": 63,
   "id": "01b34e7b-961c-4635-9107-43c332128e82",
   "metadata": {},
   "outputs": [
    {
     "name": "stdout",
     "output_type": "stream",
     "text": [
      "   c1  c2\n",
      "0   1   4\n",
      "1   2   5\n",
      "2   3   6\n"
     ]
    },
    {
     "data": {
      "text/html": [
       "<div>\n",
       "<style scoped>\n",
       "    .dataframe tbody tr th:only-of-type {\n",
       "        vertical-align: middle;\n",
       "    }\n",
       "\n",
       "    .dataframe tbody tr th {\n",
       "        vertical-align: top;\n",
       "    }\n",
       "\n",
       "    .dataframe thead th {\n",
       "        text-align: right;\n",
       "    }\n",
       "</style>\n",
       "<table border=\"1\" class=\"dataframe\">\n",
       "  <thead>\n",
       "    <tr style=\"text-align: right;\">\n",
       "      <th></th>\n",
       "      <th>c1</th>\n",
       "      <th>c2</th>\n",
       "      <th>c3</th>\n",
       "    </tr>\n",
       "  </thead>\n",
       "  <tbody>\n",
       "    <tr>\n",
       "      <th>0</th>\n",
       "      <td>1</td>\n",
       "      <td>2</td>\n",
       "      <td>3</td>\n",
       "    </tr>\n",
       "    <tr>\n",
       "      <th>1</th>\n",
       "      <td>4</td>\n",
       "      <td>5</td>\n",
       "      <td>6</td>\n",
       "    </tr>\n",
       "  </tbody>\n",
       "</table>\n",
       "</div>"
      ],
      "text/plain": [
       "   c1  c2  c3\n",
       "0   1   2   3\n",
       "1   4   5   6"
      ]
     },
     "execution_count": 63,
     "metadata": {},
     "output_type": "execute_result"
    }
   ],
   "source": [
    "#딕셔너리는 키값 기준으로 열 추가됨\n",
    "d = { 'c1' :[1, 2, 3], 'c2':[4, 5, 6] }\n",
    "print(pd.DataFrame(d))\n",
    "\n",
    "#리스트는 행으로 쌓임...\n",
    "pd.DataFrame(\n",
    "    data = [[1,2,3], [4,5,6]],\n",
    "    columns = ['c1', 'c2', 'c3']\n",
    ")"
   ]
  },
  {
   "cell_type": "code",
   "execution_count": 71,
   "id": "eea889d7-f1c9-4ea0-a397-782cb14a4312",
   "metadata": {},
   "outputs": [
    {
     "data": {
      "text/plain": [
       "'C:\\\\python'"
      ]
     },
     "execution_count": 71,
     "metadata": {},
     "output_type": "execute_result"
    }
   ],
   "source": [
    "%pwd\n",
    "\n",
    "#지금 어디서 동작하고 있는지 위치 뜸"
   ]
  },
  {
   "cell_type": "code",
   "execution_count": 70,
   "id": "694893a3-0338-4895-b06c-4e15f4f3c5aa",
   "metadata": {},
   "outputs": [
    {
     "name": "stdout",
     "output_type": "stream",
     "text": [
      "C:\\python\n"
     ]
    }
   ],
   "source": [
    "%cd C:\\\\python\n",
    "\n",
    "# 현재 경로 바꿔줌"
   ]
  },
  {
   "cell_type": "code",
   "execution_count": 77,
   "id": "71daf45e-dd43-4894-8e92-28501bd8c000",
   "metadata": {},
   "outputs": [
    {
     "name": "stdout",
     "output_type": "stream",
     "text": [
      "C:\\python\\datas\n"
     ]
    },
    {
     "data": {
      "text/html": [
       "<div>\n",
       "<style scoped>\n",
       "    .dataframe tbody tr th:only-of-type {\n",
       "        vertical-align: middle;\n",
       "    }\n",
       "\n",
       "    .dataframe tbody tr th {\n",
       "        vertical-align: top;\n",
       "    }\n",
       "\n",
       "    .dataframe thead th {\n",
       "        text-align: right;\n",
       "    }\n",
       "</style>\n",
       "<table border=\"1\" class=\"dataframe\">\n",
       "  <thead>\n",
       "    <tr style=\"text-align: right;\">\n",
       "      <th></th>\n",
       "      <th>c1</th>\n",
       "      <th>c2</th>\n",
       "      <th>c3</th>\n",
       "    </tr>\n",
       "  </thead>\n",
       "  <tbody>\n",
       "    <tr>\n",
       "      <th>0</th>\n",
       "      <td>1</td>\n",
       "      <td>1.11</td>\n",
       "      <td>one</td>\n",
       "    </tr>\n",
       "    <tr>\n",
       "      <th>1</th>\n",
       "      <td>2</td>\n",
       "      <td>NaN</td>\n",
       "      <td>two</td>\n",
       "    </tr>\n",
       "    <tr>\n",
       "      <th>2</th>\n",
       "      <td>누락</td>\n",
       "      <td>3.33</td>\n",
       "      <td>three</td>\n",
       "    </tr>\n",
       "  </tbody>\n",
       "</table>\n",
       "</div>"
      ],
      "text/plain": [
       "   c1    c2     c3\n",
       "0   1  1.11    one\n",
       "1   2   NaN    two\n",
       "2  누락  3.33  three"
      ]
     },
     "execution_count": 77,
     "metadata": {},
     "output_type": "execute_result"
    }
   ],
   "source": [
    "%cd C:\\\\python\\datas\n",
    "df_read = pd.read_csv('sample1.csv')\n",
    "df_read"
   ]
  },
  {
   "cell_type": "code",
   "execution_count": 79,
   "id": "6accd303-270b-43ff-9cd7-5816a3d0a22c",
   "metadata": {},
   "outputs": [],
   "source": [
    "df_csv.to_csv('sample2.csv', index=False, header=False)\n",
    "#인덱스 없이:)"
   ]
  },
  {
   "cell_type": "code",
   "execution_count": 81,
   "id": "083516f8-4af5-487d-9c9a-fe713a04a731",
   "metadata": {},
   "outputs": [
    {
     "data": {
      "text/html": [
       "<div>\n",
       "<style scoped>\n",
       "    .dataframe tbody tr th:only-of-type {\n",
       "        vertical-align: middle;\n",
       "    }\n",
       "\n",
       "    .dataframe tbody tr th {\n",
       "        vertical-align: top;\n",
       "    }\n",
       "\n",
       "    .dataframe thead th {\n",
       "        text-align: right;\n",
       "    }\n",
       "</style>\n",
       "<table border=\"1\" class=\"dataframe\">\n",
       "  <thead>\n",
       "    <tr style=\"text-align: right;\">\n",
       "      <th></th>\n",
       "      <th>c1</th>\n",
       "      <th>c2</th>\n",
       "      <th>c3</th>\n",
       "    </tr>\n",
       "  </thead>\n",
       "  <tbody>\n",
       "    <tr>\n",
       "      <th>0</th>\n",
       "      <td>1</td>\n",
       "      <td>1.11</td>\n",
       "      <td>one</td>\n",
       "    </tr>\n",
       "    <tr>\n",
       "      <th>1</th>\n",
       "      <td>2</td>\n",
       "      <td>NaN</td>\n",
       "      <td>two</td>\n",
       "    </tr>\n",
       "    <tr>\n",
       "      <th>2</th>\n",
       "      <td>누락</td>\n",
       "      <td>3.33</td>\n",
       "      <td>three</td>\n",
       "    </tr>\n",
       "  </tbody>\n",
       "</table>\n",
       "</div>"
      ],
      "text/plain": [
       "   c1    c2     c3\n",
       "0   1  1.11    one\n",
       "1   2   NaN    two\n",
       "2  누락  3.33  three"
      ]
     },
     "execution_count": 81,
     "metadata": {},
     "output_type": "execute_result"
    }
   ],
   "source": [
    "pd.read_csv('sample2.csv', names=['c1', 'c2', 'c3'])\n",
    "\n",
    "#불러올 때 header 만들어 줌 (열 이름)"
   ]
  },
  {
   "cell_type": "code",
   "execution_count": 88,
   "id": "50cb25c2-399c-47ce-b2ac-ae22d84c73dc",
   "metadata": {},
   "outputs": [
    {
     "name": "stdout",
     "output_type": "stream",
     "text": [
      "Writing sample3.txt\n"
     ]
    }
   ],
   "source": [
    "%%writefile sample3.txt\n",
    "c1       c2        c3        c4\n",
    "0.179181 -1.538472  1.347553  0.43381\n",
    "1.024209  0.087307 -1.281997  0.49265\n",
    "0.417899 -2.002308  0.255245 -1.10515"
   ]
  },
  {
   "cell_type": "code",
   "execution_count": 89,
   "id": "4f67a298-6db6-4d15-9f16-1e18e09a7f07",
   "metadata": {},
   "outputs": [],
   "source": [
    "# 위는 jupyterlab 자체 기능"
   ]
  },
  {
   "cell_type": "code",
   "execution_count": 91,
   "id": "210f586b-b4c5-4bb6-97a8-4d3bec6ed7e2",
   "metadata": {},
   "outputs": [
    {
     "data": {
      "text/html": [
       "<div>\n",
       "<style scoped>\n",
       "    .dataframe tbody tr th:only-of-type {\n",
       "        vertical-align: middle;\n",
       "    }\n",
       "\n",
       "    .dataframe tbody tr th {\n",
       "        vertical-align: top;\n",
       "    }\n",
       "\n",
       "    .dataframe thead th {\n",
       "        text-align: right;\n",
       "    }\n",
       "</style>\n",
       "<table border=\"1\" class=\"dataframe\">\n",
       "  <thead>\n",
       "    <tr style=\"text-align: right;\">\n",
       "      <th></th>\n",
       "      <th>c1</th>\n",
       "      <th>c2</th>\n",
       "      <th>c3</th>\n",
       "      <th>c4</th>\n",
       "    </tr>\n",
       "  </thead>\n",
       "  <tbody>\n",
       "    <tr>\n",
       "      <th>0</th>\n",
       "      <td>0.179181</td>\n",
       "      <td>-1.538472</td>\n",
       "      <td>1.347553</td>\n",
       "      <td>0.43381</td>\n",
       "    </tr>\n",
       "    <tr>\n",
       "      <th>1</th>\n",
       "      <td>1.024209</td>\n",
       "      <td>0.087307</td>\n",
       "      <td>-1.281997</td>\n",
       "      <td>0.49265</td>\n",
       "    </tr>\n",
       "    <tr>\n",
       "      <th>2</th>\n",
       "      <td>0.417899</td>\n",
       "      <td>-2.002308</td>\n",
       "      <td>0.255245</td>\n",
       "      <td>-1.10515</td>\n",
       "    </tr>\n",
       "  </tbody>\n",
       "</table>\n",
       "</div>"
      ],
      "text/plain": [
       "         c1        c2        c3       c4\n",
       "0  0.179181 -1.538472  1.347553  0.43381\n",
       "1  1.024209  0.087307 -1.281997  0.49265\n",
       "2  0.417899 -2.002308  0.255245 -1.10515"
      ]
     },
     "execution_count": 91,
     "metadata": {},
     "output_type": "execute_result"
    }
   ],
   "source": [
    "        # 길이가 정해지지 않은 공백이 구분자인 경우\n",
    "        #                       space + 정규식 문자열 사용\n",
    "pd.read_table('sample3.txt', sep='\\s+' )"
   ]
  },
  {
   "cell_type": "code",
   "execution_count": 92,
   "id": "184765fc-14b2-41f6-b008-f14398b76fb7",
   "metadata": {},
   "outputs": [
    {
     "name": "stdout",
     "output_type": "stream",
     "text": [
      "Writing sample4.txt\n"
     ]
    }
   ],
   "source": [
    "%%writefile sample4.txt\n",
    "파일 제목: sample4.txt\n",
    "데이터 포맷의 설명:\n",
    "c1, c2, c3\n",
    "1, 1.11, one\n",
    "2, 2.22, two\n",
    "3, 3.33, three"
   ]
  },
  {
   "cell_type": "code",
   "execution_count": 93,
   "id": "92d4f603-f2a3-4c20-af9d-3155d4be4415",
   "metadata": {},
   "outputs": [
    {
     "data": {
      "text/html": [
       "<div>\n",
       "<style scoped>\n",
       "    .dataframe tbody tr th:only-of-type {\n",
       "        vertical-align: middle;\n",
       "    }\n",
       "\n",
       "    .dataframe tbody tr th {\n",
       "        vertical-align: top;\n",
       "    }\n",
       "\n",
       "    .dataframe thead th {\n",
       "        text-align: right;\n",
       "    }\n",
       "</style>\n",
       "<table border=\"1\" class=\"dataframe\">\n",
       "  <thead>\n",
       "    <tr style=\"text-align: right;\">\n",
       "      <th></th>\n",
       "      <th>c1</th>\n",
       "      <th>c2</th>\n",
       "      <th>c3</th>\n",
       "    </tr>\n",
       "  </thead>\n",
       "  <tbody>\n",
       "    <tr>\n",
       "      <th>0</th>\n",
       "      <td>1</td>\n",
       "      <td>1.11</td>\n",
       "      <td>one</td>\n",
       "    </tr>\n",
       "    <tr>\n",
       "      <th>1</th>\n",
       "      <td>2</td>\n",
       "      <td>2.22</td>\n",
       "      <td>two</td>\n",
       "    </tr>\n",
       "    <tr>\n",
       "      <th>2</th>\n",
       "      <td>3</td>\n",
       "      <td>3.33</td>\n",
       "      <td>three</td>\n",
       "    </tr>\n",
       "  </tbody>\n",
       "</table>\n",
       "</div>"
      ],
      "text/plain": [
       "   c1    c2      c3\n",
       "0   1  1.11     one\n",
       "1   2  2.22     two\n",
       "2   3  3.33   three"
      ]
     },
     "execution_count": 93,
     "metadata": {},
     "output_type": "execute_result"
    }
   ],
   "source": [
    "#앞 두 줄을 skip 하겠다는 뜻\n",
    "pd.read_csv('sample4.txt', skiprows=[0, 1] )"
   ]
  },
  {
   "cell_type": "code",
   "execution_count": 95,
   "id": "b020860f-b28f-47a1-9acf-0e42cc0c9312",
   "metadata": {},
   "outputs": [
    {
     "data": {
      "text/html": [
       "<div>\n",
       "<style scoped>\n",
       "    .dataframe tbody tr th:only-of-type {\n",
       "        vertical-align: middle;\n",
       "    }\n",
       "\n",
       "    .dataframe tbody tr th {\n",
       "        vertical-align: top;\n",
       "    }\n",
       "\n",
       "    .dataframe thead th {\n",
       "        text-align: right;\n",
       "    }\n",
       "</style>\n",
       "<table border=\"1\" class=\"dataframe\">\n",
       "  <thead>\n",
       "    <tr style=\"text-align: right;\">\n",
       "      <th></th>\n",
       "      <th>c1</th>\n",
       "      <th>c2</th>\n",
       "      <th>c3</th>\n",
       "    </tr>\n",
       "  </thead>\n",
       "  <tbody>\n",
       "    <tr>\n",
       "      <th>0</th>\n",
       "      <td>1.0</td>\n",
       "      <td>1.11</td>\n",
       "      <td>one</td>\n",
       "    </tr>\n",
       "    <tr>\n",
       "      <th>1</th>\n",
       "      <td>2.0</td>\n",
       "      <td>NaN</td>\n",
       "      <td>two</td>\n",
       "    </tr>\n",
       "    <tr>\n",
       "      <th>2</th>\n",
       "      <td>NaN</td>\n",
       "      <td>3.33</td>\n",
       "      <td>three</td>\n",
       "    </tr>\n",
       "  </tbody>\n",
       "</table>\n",
       "</div>"
      ],
      "text/plain": [
       "    c1    c2     c3\n",
       "0  1.0  1.11    one\n",
       "1  2.0   NaN    two\n",
       "2  NaN  3.33  three"
      ]
     },
     "execution_count": 95,
     "metadata": {},
     "output_type": "execute_result"
    }
   ],
   "source": [
    "#자료 안 특정 값을 NaN으로 취급하고 싶으면 na_values 인수에 NaN으로 취급할 값을 넣기\n",
    "\n",
    "df_na_val = pd.read_csv('sample1.csv', na_values=['누락'] )\n",
    "df_na_val"
   ]
  },
  {
   "cell_type": "code",
   "execution_count": 98,
   "id": "a0beb6c2-3357-4ccc-abb4-b3b8a439b14f",
   "metadata": {},
   "outputs": [],
   "source": [
    "# 구분자 바꿔서 넣어봅쉬다\n",
    "# | vertical bar\n",
    "\n",
    "df_na_val.to_csv('sample5.txt', sep = '|' )\n",
    "\n",
    "#to_csv 지만 .txt로 지정해주면 txt로 저장된다"
   ]
  },
  {
   "cell_type": "code",
   "execution_count": 99,
   "id": "78724690-7a9a-43a0-ad65-4f6c6e264aa5",
   "metadata": {},
   "outputs": [],
   "source": [
    "#불러올 때와 마찬가지로 저장할 때도\n",
    "#na_rep 키워드 인수를 사용해서 NaN 값을 바꿀 수 있다.\n",
    "df_na_val.to_csv('sample6.csv', na_rep='누락')"
   ]
  },
  {
   "cell_type": "code",
   "execution_count": 104,
   "id": "fa32775a-2572-4b49-b62b-af9cfd4a844e",
   "metadata": {},
   "outputs": [
    {
     "data": {
      "text/html": [
       "<div>\n",
       "<style scoped>\n",
       "    .dataframe tbody tr th:only-of-type {\n",
       "        vertical-align: middle;\n",
       "    }\n",
       "\n",
       "    .dataframe tbody tr th {\n",
       "        vertical-align: top;\n",
       "    }\n",
       "\n",
       "    .dataframe thead th {\n",
       "        text-align: right;\n",
       "    }\n",
       "</style>\n",
       "<table border=\"1\" class=\"dataframe\">\n",
       "  <thead>\n",
       "    <tr style=\"text-align: right;\">\n",
       "      <th></th>\n",
       "      <th>survived</th>\n",
       "      <th>sex</th>\n",
       "      <th>age</th>\n",
       "      <th>n_siblings_spouses</th>\n",
       "      <th>parch</th>\n",
       "      <th>fare</th>\n",
       "      <th>class</th>\n",
       "      <th>deck</th>\n",
       "      <th>embark_town</th>\n",
       "      <th>alone</th>\n",
       "    </tr>\n",
       "  </thead>\n",
       "  <tbody>\n",
       "    <tr>\n",
       "      <th>0</th>\n",
       "      <td>0</td>\n",
       "      <td>male</td>\n",
       "      <td>22.0</td>\n",
       "      <td>1</td>\n",
       "      <td>0</td>\n",
       "      <td>7.2500</td>\n",
       "      <td>Third</td>\n",
       "      <td>unknown</td>\n",
       "      <td>Southampton</td>\n",
       "      <td>n</td>\n",
       "    </tr>\n",
       "    <tr>\n",
       "      <th>1</th>\n",
       "      <td>1</td>\n",
       "      <td>female</td>\n",
       "      <td>38.0</td>\n",
       "      <td>1</td>\n",
       "      <td>0</td>\n",
       "      <td>71.2833</td>\n",
       "      <td>First</td>\n",
       "      <td>C</td>\n",
       "      <td>Cherbourg</td>\n",
       "      <td>n</td>\n",
       "    </tr>\n",
       "    <tr>\n",
       "      <th>2</th>\n",
       "      <td>1</td>\n",
       "      <td>female</td>\n",
       "      <td>26.0</td>\n",
       "      <td>0</td>\n",
       "      <td>0</td>\n",
       "      <td>7.9250</td>\n",
       "      <td>Third</td>\n",
       "      <td>unknown</td>\n",
       "      <td>Southampton</td>\n",
       "      <td>y</td>\n",
       "    </tr>\n",
       "    <tr>\n",
       "      <th>3</th>\n",
       "      <td>1</td>\n",
       "      <td>female</td>\n",
       "      <td>35.0</td>\n",
       "      <td>1</td>\n",
       "      <td>0</td>\n",
       "      <td>53.1000</td>\n",
       "      <td>First</td>\n",
       "      <td>C</td>\n",
       "      <td>Southampton</td>\n",
       "      <td>n</td>\n",
       "    </tr>\n",
       "    <tr>\n",
       "      <th>4</th>\n",
       "      <td>0</td>\n",
       "      <td>male</td>\n",
       "      <td>28.0</td>\n",
       "      <td>0</td>\n",
       "      <td>0</td>\n",
       "      <td>8.4583</td>\n",
       "      <td>Third</td>\n",
       "      <td>unknown</td>\n",
       "      <td>Queenstown</td>\n",
       "      <td>y</td>\n",
       "    </tr>\n",
       "    <tr>\n",
       "      <th>...</th>\n",
       "      <td>...</td>\n",
       "      <td>...</td>\n",
       "      <td>...</td>\n",
       "      <td>...</td>\n",
       "      <td>...</td>\n",
       "      <td>...</td>\n",
       "      <td>...</td>\n",
       "      <td>...</td>\n",
       "      <td>...</td>\n",
       "      <td>...</td>\n",
       "    </tr>\n",
       "    <tr>\n",
       "      <th>622</th>\n",
       "      <td>0</td>\n",
       "      <td>male</td>\n",
       "      <td>28.0</td>\n",
       "      <td>0</td>\n",
       "      <td>0</td>\n",
       "      <td>10.5000</td>\n",
       "      <td>Second</td>\n",
       "      <td>unknown</td>\n",
       "      <td>Southampton</td>\n",
       "      <td>y</td>\n",
       "    </tr>\n",
       "    <tr>\n",
       "      <th>623</th>\n",
       "      <td>0</td>\n",
       "      <td>male</td>\n",
       "      <td>25.0</td>\n",
       "      <td>0</td>\n",
       "      <td>0</td>\n",
       "      <td>7.0500</td>\n",
       "      <td>Third</td>\n",
       "      <td>unknown</td>\n",
       "      <td>Southampton</td>\n",
       "      <td>y</td>\n",
       "    </tr>\n",
       "    <tr>\n",
       "      <th>624</th>\n",
       "      <td>1</td>\n",
       "      <td>female</td>\n",
       "      <td>19.0</td>\n",
       "      <td>0</td>\n",
       "      <td>0</td>\n",
       "      <td>30.0000</td>\n",
       "      <td>First</td>\n",
       "      <td>B</td>\n",
       "      <td>Southampton</td>\n",
       "      <td>y</td>\n",
       "    </tr>\n",
       "    <tr>\n",
       "      <th>625</th>\n",
       "      <td>0</td>\n",
       "      <td>female</td>\n",
       "      <td>28.0</td>\n",
       "      <td>1</td>\n",
       "      <td>2</td>\n",
       "      <td>23.4500</td>\n",
       "      <td>Third</td>\n",
       "      <td>unknown</td>\n",
       "      <td>Southampton</td>\n",
       "      <td>n</td>\n",
       "    </tr>\n",
       "    <tr>\n",
       "      <th>626</th>\n",
       "      <td>0</td>\n",
       "      <td>male</td>\n",
       "      <td>32.0</td>\n",
       "      <td>0</td>\n",
       "      <td>0</td>\n",
       "      <td>7.7500</td>\n",
       "      <td>Third</td>\n",
       "      <td>unknown</td>\n",
       "      <td>Queenstown</td>\n",
       "      <td>y</td>\n",
       "    </tr>\n",
       "  </tbody>\n",
       "</table>\n",
       "<p>627 rows × 10 columns</p>\n",
       "</div>"
      ],
      "text/plain": [
       "     survived     sex   age  n_siblings_spouses  parch     fare   class  \\\n",
       "0           0    male  22.0                   1      0   7.2500   Third   \n",
       "1           1  female  38.0                   1      0  71.2833   First   \n",
       "2           1  female  26.0                   0      0   7.9250   Third   \n",
       "3           1  female  35.0                   1      0  53.1000   First   \n",
       "4           0    male  28.0                   0      0   8.4583   Third   \n",
       "..        ...     ...   ...                 ...    ...      ...     ...   \n",
       "622         0    male  28.0                   0      0  10.5000  Second   \n",
       "623         0    male  25.0                   0      0   7.0500   Third   \n",
       "624         1  female  19.0                   0      0  30.0000   First   \n",
       "625         0  female  28.0                   1      2  23.4500   Third   \n",
       "626         0    male  32.0                   0      0   7.7500   Third   \n",
       "\n",
       "        deck  embark_town alone  \n",
       "0    unknown  Southampton     n  \n",
       "1          C    Cherbourg     n  \n",
       "2    unknown  Southampton     y  \n",
       "3          C  Southampton     n  \n",
       "4    unknown   Queenstown     y  \n",
       "..       ...          ...   ...  \n",
       "622  unknown  Southampton     y  \n",
       "623  unknown  Southampton     y  \n",
       "624        B  Southampton     y  \n",
       "625  unknown  Southampton     n  \n",
       "626  unknown   Queenstown     y  \n",
       "\n",
       "[627 rows x 10 columns]"
      ]
     },
     "execution_count": 104,
     "metadata": {},
     "output_type": "execute_result"
    }
   ],
   "source": [
    "#유명한 데이터인데 불러와볼게용.\n",
    "\"\"\" 온라인 csv 파일 가져오기 \"\"\"\n",
    "\n",
    "titanic = pd.read_csv(\"https://storage.googleapis.com/tf-datasets/titanic/train.csv\")\n",
    "titanic"
   ]
  },
  {
   "cell_type": "code",
   "execution_count": 101,
   "id": "d8172748-e17d-4e1a-b907-ce2e4ec7d8ad",
   "metadata": {},
   "outputs": [
    {
     "data": {
      "text/html": [
       "<div>\n",
       "<style scoped>\n",
       "    .dataframe tbody tr th:only-of-type {\n",
       "        vertical-align: middle;\n",
       "    }\n",
       "\n",
       "    .dataframe tbody tr th {\n",
       "        vertical-align: top;\n",
       "    }\n",
       "\n",
       "    .dataframe thead th {\n",
       "        text-align: right;\n",
       "    }\n",
       "</style>\n",
       "<table border=\"1\" class=\"dataframe\">\n",
       "  <thead>\n",
       "    <tr style=\"text-align: right;\">\n",
       "      <th></th>\n",
       "      <th>survived</th>\n",
       "      <th>age</th>\n",
       "      <th>n_siblings_spouses</th>\n",
       "      <th>parch</th>\n",
       "      <th>fare</th>\n",
       "    </tr>\n",
       "  </thead>\n",
       "  <tbody>\n",
       "    <tr>\n",
       "      <th>count</th>\n",
       "      <td>627.000000</td>\n",
       "      <td>627.000000</td>\n",
       "      <td>627.000000</td>\n",
       "      <td>627.000000</td>\n",
       "      <td>627.000000</td>\n",
       "    </tr>\n",
       "    <tr>\n",
       "      <th>mean</th>\n",
       "      <td>0.387560</td>\n",
       "      <td>29.631308</td>\n",
       "      <td>0.545455</td>\n",
       "      <td>0.379585</td>\n",
       "      <td>34.385399</td>\n",
       "    </tr>\n",
       "    <tr>\n",
       "      <th>std</th>\n",
       "      <td>0.487582</td>\n",
       "      <td>12.511818</td>\n",
       "      <td>1.151090</td>\n",
       "      <td>0.792999</td>\n",
       "      <td>54.597730</td>\n",
       "    </tr>\n",
       "    <tr>\n",
       "      <th>min</th>\n",
       "      <td>0.000000</td>\n",
       "      <td>0.750000</td>\n",
       "      <td>0.000000</td>\n",
       "      <td>0.000000</td>\n",
       "      <td>0.000000</td>\n",
       "    </tr>\n",
       "    <tr>\n",
       "      <th>25%</th>\n",
       "      <td>0.000000</td>\n",
       "      <td>23.000000</td>\n",
       "      <td>0.000000</td>\n",
       "      <td>0.000000</td>\n",
       "      <td>7.895800</td>\n",
       "    </tr>\n",
       "    <tr>\n",
       "      <th>50%</th>\n",
       "      <td>0.000000</td>\n",
       "      <td>28.000000</td>\n",
       "      <td>0.000000</td>\n",
       "      <td>0.000000</td>\n",
       "      <td>15.045800</td>\n",
       "    </tr>\n",
       "    <tr>\n",
       "      <th>75%</th>\n",
       "      <td>1.000000</td>\n",
       "      <td>35.000000</td>\n",
       "      <td>1.000000</td>\n",
       "      <td>0.000000</td>\n",
       "      <td>31.387500</td>\n",
       "    </tr>\n",
       "    <tr>\n",
       "      <th>max</th>\n",
       "      <td>1.000000</td>\n",
       "      <td>80.000000</td>\n",
       "      <td>8.000000</td>\n",
       "      <td>5.000000</td>\n",
       "      <td>512.329200</td>\n",
       "    </tr>\n",
       "  </tbody>\n",
       "</table>\n",
       "</div>"
      ],
      "text/plain": [
       "         survived         age  n_siblings_spouses       parch        fare\n",
       "count  627.000000  627.000000          627.000000  627.000000  627.000000\n",
       "mean     0.387560   29.631308            0.545455    0.379585   34.385399\n",
       "std      0.487582   12.511818            1.151090    0.792999   54.597730\n",
       "min      0.000000    0.750000            0.000000    0.000000    0.000000\n",
       "25%      0.000000   23.000000            0.000000    0.000000    7.895800\n",
       "50%      0.000000   28.000000            0.000000    0.000000   15.045800\n",
       "75%      1.000000   35.000000            1.000000    0.000000   31.387500\n",
       "max      1.000000   80.000000            8.000000    5.000000  512.329200"
      ]
     },
     "execution_count": 101,
     "metadata": {},
     "output_type": "execute_result"
    }
   ],
   "source": [
    "titanic.describe()"
   ]
  },
  {
   "cell_type": "code",
   "execution_count": 102,
   "id": "960d5726-b58a-4b83-9510-e3aaeffdf27d",
   "metadata": {},
   "outputs": [
    {
     "data": {
      "text/html": [
       "<div>\n",
       "<style scoped>\n",
       "    .dataframe tbody tr th:only-of-type {\n",
       "        vertical-align: middle;\n",
       "    }\n",
       "\n",
       "    .dataframe tbody tr th {\n",
       "        vertical-align: top;\n",
       "    }\n",
       "\n",
       "    .dataframe thead th {\n",
       "        text-align: right;\n",
       "    }\n",
       "</style>\n",
       "<table border=\"1\" class=\"dataframe\">\n",
       "  <thead>\n",
       "    <tr style=\"text-align: right;\">\n",
       "      <th></th>\n",
       "      <th>survived</th>\n",
       "      <th>sex</th>\n",
       "      <th>age</th>\n",
       "      <th>n_siblings_spouses</th>\n",
       "      <th>parch</th>\n",
       "      <th>fare</th>\n",
       "      <th>class</th>\n",
       "      <th>deck</th>\n",
       "      <th>embark_town</th>\n",
       "      <th>alone</th>\n",
       "    </tr>\n",
       "  </thead>\n",
       "  <tbody>\n",
       "    <tr>\n",
       "      <th>0</th>\n",
       "      <td>0</td>\n",
       "      <td>male</td>\n",
       "      <td>22.0</td>\n",
       "      <td>1</td>\n",
       "      <td>0</td>\n",
       "      <td>7.2500</td>\n",
       "      <td>Third</td>\n",
       "      <td>unknown</td>\n",
       "      <td>Southampton</td>\n",
       "      <td>n</td>\n",
       "    </tr>\n",
       "    <tr>\n",
       "      <th>1</th>\n",
       "      <td>1</td>\n",
       "      <td>female</td>\n",
       "      <td>38.0</td>\n",
       "      <td>1</td>\n",
       "      <td>0</td>\n",
       "      <td>71.2833</td>\n",
       "      <td>First</td>\n",
       "      <td>C</td>\n",
       "      <td>Cherbourg</td>\n",
       "      <td>n</td>\n",
       "    </tr>\n",
       "    <tr>\n",
       "      <th>2</th>\n",
       "      <td>1</td>\n",
       "      <td>female</td>\n",
       "      <td>26.0</td>\n",
       "      <td>0</td>\n",
       "      <td>0</td>\n",
       "      <td>7.9250</td>\n",
       "      <td>Third</td>\n",
       "      <td>unknown</td>\n",
       "      <td>Southampton</td>\n",
       "      <td>y</td>\n",
       "    </tr>\n",
       "    <tr>\n",
       "      <th>3</th>\n",
       "      <td>1</td>\n",
       "      <td>female</td>\n",
       "      <td>35.0</td>\n",
       "      <td>1</td>\n",
       "      <td>0</td>\n",
       "      <td>53.1000</td>\n",
       "      <td>First</td>\n",
       "      <td>C</td>\n",
       "      <td>Southampton</td>\n",
       "      <td>n</td>\n",
       "    </tr>\n",
       "    <tr>\n",
       "      <th>4</th>\n",
       "      <td>0</td>\n",
       "      <td>male</td>\n",
       "      <td>28.0</td>\n",
       "      <td>0</td>\n",
       "      <td>0</td>\n",
       "      <td>8.4583</td>\n",
       "      <td>Third</td>\n",
       "      <td>unknown</td>\n",
       "      <td>Queenstown</td>\n",
       "      <td>y</td>\n",
       "    </tr>\n",
       "  </tbody>\n",
       "</table>\n",
       "</div>"
      ],
      "text/plain": [
       "   survived     sex   age  n_siblings_spouses  parch     fare  class     deck  \\\n",
       "0         0    male  22.0                   1      0   7.2500  Third  unknown   \n",
       "1         1  female  38.0                   1      0  71.2833  First        C   \n",
       "2         1  female  26.0                   0      0   7.9250  Third  unknown   \n",
       "3         1  female  35.0                   1      0  53.1000  First        C   \n",
       "4         0    male  28.0                   0      0   8.4583  Third  unknown   \n",
       "\n",
       "   embark_town alone  \n",
       "0  Southampton     n  \n",
       "1    Cherbourg     n  \n",
       "2  Southampton     y  \n",
       "3  Southampton     n  \n",
       "4   Queenstown     y  "
      ]
     },
     "execution_count": 102,
     "metadata": {},
     "output_type": "execute_result"
    }
   ],
   "source": [
    "titanic.head(5)"
   ]
  },
  {
   "cell_type": "code",
   "execution_count": 103,
   "id": "f3c47273-b0d5-4bd1-8153-ec677956c667",
   "metadata": {},
   "outputs": [
    {
     "data": {
      "text/html": [
       "<div>\n",
       "<style scoped>\n",
       "    .dataframe tbody tr th:only-of-type {\n",
       "        vertical-align: middle;\n",
       "    }\n",
       "\n",
       "    .dataframe tbody tr th {\n",
       "        vertical-align: top;\n",
       "    }\n",
       "\n",
       "    .dataframe thead th {\n",
       "        text-align: right;\n",
       "    }\n",
       "</style>\n",
       "<table border=\"1\" class=\"dataframe\">\n",
       "  <thead>\n",
       "    <tr style=\"text-align: right;\">\n",
       "      <th></th>\n",
       "      <th>survived</th>\n",
       "      <th>sex</th>\n",
       "      <th>age</th>\n",
       "      <th>n_siblings_spouses</th>\n",
       "      <th>parch</th>\n",
       "      <th>fare</th>\n",
       "      <th>class</th>\n",
       "      <th>deck</th>\n",
       "      <th>embark_town</th>\n",
       "      <th>alone</th>\n",
       "    </tr>\n",
       "  </thead>\n",
       "  <tbody>\n",
       "    <tr>\n",
       "      <th>617</th>\n",
       "      <td>1</td>\n",
       "      <td>female</td>\n",
       "      <td>15.0</td>\n",
       "      <td>0</td>\n",
       "      <td>0</td>\n",
       "      <td>7.2250</td>\n",
       "      <td>Third</td>\n",
       "      <td>unknown</td>\n",
       "      <td>Cherbourg</td>\n",
       "      <td>y</td>\n",
       "    </tr>\n",
       "    <tr>\n",
       "      <th>618</th>\n",
       "      <td>0</td>\n",
       "      <td>male</td>\n",
       "      <td>20.0</td>\n",
       "      <td>0</td>\n",
       "      <td>0</td>\n",
       "      <td>9.8458</td>\n",
       "      <td>Third</td>\n",
       "      <td>unknown</td>\n",
       "      <td>Southampton</td>\n",
       "      <td>y</td>\n",
       "    </tr>\n",
       "    <tr>\n",
       "      <th>619</th>\n",
       "      <td>0</td>\n",
       "      <td>male</td>\n",
       "      <td>19.0</td>\n",
       "      <td>0</td>\n",
       "      <td>0</td>\n",
       "      <td>7.8958</td>\n",
       "      <td>Third</td>\n",
       "      <td>unknown</td>\n",
       "      <td>Southampton</td>\n",
       "      <td>y</td>\n",
       "    </tr>\n",
       "    <tr>\n",
       "      <th>620</th>\n",
       "      <td>0</td>\n",
       "      <td>male</td>\n",
       "      <td>28.0</td>\n",
       "      <td>0</td>\n",
       "      <td>0</td>\n",
       "      <td>7.8958</td>\n",
       "      <td>Third</td>\n",
       "      <td>unknown</td>\n",
       "      <td>Southampton</td>\n",
       "      <td>y</td>\n",
       "    </tr>\n",
       "    <tr>\n",
       "      <th>621</th>\n",
       "      <td>0</td>\n",
       "      <td>female</td>\n",
       "      <td>22.0</td>\n",
       "      <td>0</td>\n",
       "      <td>0</td>\n",
       "      <td>10.5167</td>\n",
       "      <td>Third</td>\n",
       "      <td>unknown</td>\n",
       "      <td>Southampton</td>\n",
       "      <td>y</td>\n",
       "    </tr>\n",
       "    <tr>\n",
       "      <th>622</th>\n",
       "      <td>0</td>\n",
       "      <td>male</td>\n",
       "      <td>28.0</td>\n",
       "      <td>0</td>\n",
       "      <td>0</td>\n",
       "      <td>10.5000</td>\n",
       "      <td>Second</td>\n",
       "      <td>unknown</td>\n",
       "      <td>Southampton</td>\n",
       "      <td>y</td>\n",
       "    </tr>\n",
       "    <tr>\n",
       "      <th>623</th>\n",
       "      <td>0</td>\n",
       "      <td>male</td>\n",
       "      <td>25.0</td>\n",
       "      <td>0</td>\n",
       "      <td>0</td>\n",
       "      <td>7.0500</td>\n",
       "      <td>Third</td>\n",
       "      <td>unknown</td>\n",
       "      <td>Southampton</td>\n",
       "      <td>y</td>\n",
       "    </tr>\n",
       "    <tr>\n",
       "      <th>624</th>\n",
       "      <td>1</td>\n",
       "      <td>female</td>\n",
       "      <td>19.0</td>\n",
       "      <td>0</td>\n",
       "      <td>0</td>\n",
       "      <td>30.0000</td>\n",
       "      <td>First</td>\n",
       "      <td>B</td>\n",
       "      <td>Southampton</td>\n",
       "      <td>y</td>\n",
       "    </tr>\n",
       "    <tr>\n",
       "      <th>625</th>\n",
       "      <td>0</td>\n",
       "      <td>female</td>\n",
       "      <td>28.0</td>\n",
       "      <td>1</td>\n",
       "      <td>2</td>\n",
       "      <td>23.4500</td>\n",
       "      <td>Third</td>\n",
       "      <td>unknown</td>\n",
       "      <td>Southampton</td>\n",
       "      <td>n</td>\n",
       "    </tr>\n",
       "    <tr>\n",
       "      <th>626</th>\n",
       "      <td>0</td>\n",
       "      <td>male</td>\n",
       "      <td>32.0</td>\n",
       "      <td>0</td>\n",
       "      <td>0</td>\n",
       "      <td>7.7500</td>\n",
       "      <td>Third</td>\n",
       "      <td>unknown</td>\n",
       "      <td>Queenstown</td>\n",
       "      <td>y</td>\n",
       "    </tr>\n",
       "  </tbody>\n",
       "</table>\n",
       "</div>"
      ],
      "text/plain": [
       "     survived     sex   age  n_siblings_spouses  parch     fare   class  \\\n",
       "617         1  female  15.0                   0      0   7.2250   Third   \n",
       "618         0    male  20.0                   0      0   9.8458   Third   \n",
       "619         0    male  19.0                   0      0   7.8958   Third   \n",
       "620         0    male  28.0                   0      0   7.8958   Third   \n",
       "621         0  female  22.0                   0      0  10.5167   Third   \n",
       "622         0    male  28.0                   0      0  10.5000  Second   \n",
       "623         0    male  25.0                   0      0   7.0500   Third   \n",
       "624         1  female  19.0                   0      0  30.0000   First   \n",
       "625         0  female  28.0                   1      2  23.4500   Third   \n",
       "626         0    male  32.0                   0      0   7.7500   Third   \n",
       "\n",
       "        deck  embark_town alone  \n",
       "617  unknown    Cherbourg     y  \n",
       "618  unknown  Southampton     y  \n",
       "619  unknown  Southampton     y  \n",
       "620  unknown  Southampton     y  \n",
       "621  unknown  Southampton     y  \n",
       "622  unknown  Southampton     y  \n",
       "623  unknown  Southampton     y  \n",
       "624        B  Southampton     y  \n",
       "625  unknown  Southampton     n  \n",
       "626  unknown   Queenstown     y  "
      ]
     },
     "execution_count": 103,
     "metadata": {},
     "output_type": "execute_result"
    }
   ],
   "source": [
    "titanic.tail(10)"
   ]
  },
  {
   "cell_type": "code",
   "execution_count": 112,
   "id": "3d878fc8-4640-424e-9271-86203ea7f852",
   "metadata": {},
   "outputs": [
    {
     "name": "stderr",
     "output_type": "stream",
     "text": [
      "C:\\Users\\user\\AppData\\Local\\Temp\\ipykernel_9480\\306811262.py:3: DtypeWarning: Columns (4) have mixed types. Specify dtype option on import or set low_memory=False.\n",
      "  cities = pd.read_csv('공공데이터활용지원센터_공공데이터포털 목록개방현황_20230228.csv', encoding='cp949')\n"
     ]
    }
   ],
   "source": [
    "# 저도 온라인 csv 파일 가져올게용\n",
    "\n",
    "cities = pd.read_csv('공공데이터활용지원센터_공공데이터포털 목록개방현황_20230228.csv', encoding='cp949')"
   ]
  },
  {
   "cell_type": "code",
   "execution_count": 113,
   "id": "b5b006bd-5284-4066-ad11-044a9f192753",
   "metadata": {},
   "outputs": [
    {
     "data": {
      "text/html": [
       "<div>\n",
       "<style scoped>\n",
       "    .dataframe tbody tr th:only-of-type {\n",
       "        vertical-align: middle;\n",
       "    }\n",
       "\n",
       "    .dataframe tbody tr th {\n",
       "        vertical-align: top;\n",
       "    }\n",
       "\n",
       "    .dataframe thead th {\n",
       "        text-align: right;\n",
       "    }\n",
       "</style>\n",
       "<table border=\"1\" class=\"dataframe\">\n",
       "  <thead>\n",
       "    <tr style=\"text-align: right;\">\n",
       "      <th></th>\n",
       "      <th>목록키</th>\n",
       "      <th>목록유형</th>\n",
       "      <th>목록명</th>\n",
       "      <th>목록설명</th>\n",
       "      <th>조회수</th>\n",
       "      <th>분류체계</th>\n",
       "      <th>기관코드</th>\n",
       "      <th>기관명</th>\n",
       "      <th>국가중점여부</th>\n",
       "      <th>표준데이터여부</th>\n",
       "      <th>목록 등록일</th>\n",
       "      <th>목록 수정일</th>\n",
       "      <th>목록 URL</th>\n",
       "      <th>다운로드_활용건수</th>\n",
       "      <th>키워드</th>\n",
       "    </tr>\n",
       "  </thead>\n",
       "  <tbody>\n",
       "    <tr>\n",
       "      <th>0</th>\n",
       "      <td>15112545</td>\n",
       "      <td>FILE</td>\n",
       "      <td>전라남도 화순군_풍향계측기 허가현황</td>\n",
       "      <td>전라남도 화순군의 풍향자원조사용 풍황계측기 및 풍향계측시설 등을 설치하기 위한 산지...</td>\n",
       "      <td>3</td>\n",
       "      <td>산업고용</td>\n",
       "      <td>4900000</td>\n",
       "      <td>전라남도 화순군</td>\n",
       "      <td>N</td>\n",
       "      <td>N</td>\n",
       "      <td>2023-02-28</td>\n",
       "      <td>2023-02-28</td>\n",
       "      <td>https://www.data.go.kr/data/15112545/fileData.do</td>\n",
       "      <td>-</td>\n",
       "      <td>정보화마을@직거래@특산물</td>\n",
       "    </tr>\n",
       "    <tr>\n",
       "      <th>1</th>\n",
       "      <td>15112546</td>\n",
       "      <td>FILE</td>\n",
       "      <td>경상북도 경주시_상상황리단길 상점정보</td>\n",
       "      <td>경주시 상상황리단길 홈페이지에 소개된 음식점, 카페, 놀거리, 숙박, 사진관, 서점...</td>\n",
       "      <td>4</td>\n",
       "      <td>문화관광</td>\n",
       "      <td>5050000</td>\n",
       "      <td>경상북도 경주시</td>\n",
       "      <td>N</td>\n",
       "      <td>N</td>\n",
       "      <td>2023-02-28</td>\n",
       "      <td>2023-02-28</td>\n",
       "      <td>https://www.data.go.kr/data/15112546/fileData.do</td>\n",
       "      <td>-</td>\n",
       "      <td>조사통계,국민여행조사,외래관광객조사</td>\n",
       "    </tr>\n",
       "    <tr>\n",
       "      <th>2</th>\n",
       "      <td>15112547</td>\n",
       "      <td>FILE</td>\n",
       "      <td>경상북도 경주시_상상황리단길 상품VR현황</td>\n",
       "      <td>경주시 상상황리단길 홈페이지에 소개된 상점들의 주요상품(상점명, 상품VR명, 홈페이...</td>\n",
       "      <td>2</td>\n",
       "      <td>문화관광</td>\n",
       "      <td>5050000</td>\n",
       "      <td>경상북도 경주시</td>\n",
       "      <td>N</td>\n",
       "      <td>N</td>\n",
       "      <td>2023-02-28</td>\n",
       "      <td>2023-02-28</td>\n",
       "      <td>https://www.data.go.kr/data/15112547/fileData.do</td>\n",
       "      <td>-</td>\n",
       "      <td>교통,물류,도로</td>\n",
       "    </tr>\n",
       "    <tr>\n",
       "      <th>3</th>\n",
       "      <td>15112548</td>\n",
       "      <td>FILE</td>\n",
       "      <td>경상북도 경주시_상상황리단길 항공VR현황</td>\n",
       "      <td>경주시 황리단길을 중심으로 촬영한 항공뷰(항공VR명, 홈페이지주소 등) VR를 상상...</td>\n",
       "      <td>3</td>\n",
       "      <td>문화관광</td>\n",
       "      <td>5050000</td>\n",
       "      <td>경상북도 경주시</td>\n",
       "      <td>N</td>\n",
       "      <td>N</td>\n",
       "      <td>2023-02-28</td>\n",
       "      <td>2023-02-28</td>\n",
       "      <td>https://www.data.go.kr/data/15112548/fileData.do</td>\n",
       "      <td>-</td>\n",
       "      <td>영문,생활,법령</td>\n",
       "    </tr>\n",
       "    <tr>\n",
       "      <th>4</th>\n",
       "      <td>15112512</td>\n",
       "      <td>FILE</td>\n",
       "      <td>경기도 안산시_반월국가산업단지 입주기업 정보</td>\n",
       "      <td>반월국가산업단지 입주기업 정보에 대한 데이터로 공장명, 주소, 업종명, 연락처, 종...</td>\n",
       "      <td>4</td>\n",
       "      <td>산업고용</td>\n",
       "      <td>3930000</td>\n",
       "      <td>경기도 안산시</td>\n",
       "      <td>N</td>\n",
       "      <td>N</td>\n",
       "      <td>2023-02-27</td>\n",
       "      <td>2023-02-28</td>\n",
       "      <td>https://www.data.go.kr/data/15112512/fileData.do</td>\n",
       "      <td>-</td>\n",
       "      <td>정보/통신,소프트웨어,인터넷 S/W</td>\n",
       "    </tr>\n",
       "    <tr>\n",
       "      <th>...</th>\n",
       "      <td>...</td>\n",
       "      <td>...</td>\n",
       "      <td>...</td>\n",
       "      <td>...</td>\n",
       "      <td>...</td>\n",
       "      <td>...</td>\n",
       "      <td>...</td>\n",
       "      <td>...</td>\n",
       "      <td>...</td>\n",
       "      <td>...</td>\n",
       "      <td>...</td>\n",
       "      <td>...</td>\n",
       "      <td>...</td>\n",
       "      <td>...</td>\n",
       "      <td>...</td>\n",
       "    </tr>\n",
       "    <tr>\n",
       "      <th>68605</th>\n",
       "      <td>3070263</td>\n",
       "      <td>API</td>\n",
       "      <td>영화진흥위원회_영화박스오피스 DB</td>\n",
       "      <td>전국영화관 발권데이터를 실시간 집계처리하여 일간/주간/월간 등의 박스오피스 제공정보</td>\n",
       "      <td>5387</td>\n",
       "      <td>문화관광</td>\n",
       "      <td>B551004</td>\n",
       "      <td>영화진흥위원회</td>\n",
       "      <td>N</td>\n",
       "      <td>N</td>\n",
       "      <td>2014-03-20</td>\n",
       "      <td>2014-03-20</td>\n",
       "      <td>https://www.data.go.kr/data/3070263/openapi.do</td>\n",
       "      <td>4090</td>\n",
       "      <td>가출청소년,청소년 상담교육,청소년 문화활동</td>\n",
       "    </tr>\n",
       "    <tr>\n",
       "      <th>68606</th>\n",
       "      <td>15050969</td>\n",
       "      <td>FILE</td>\n",
       "      <td>경기도 용인시_연령별, 유형별 등록 장애인 현황</td>\n",
       "      <td>연령별, 유형별 등록 장애인 현황 (15개 유형별에 대한 연령별 등록 장애인 현황)</td>\n",
       "      <td>2357</td>\n",
       "      <td>사회복지</td>\n",
       "      <td>4050000</td>\n",
       "      <td>경기도 용인시</td>\n",
       "      <td>N</td>\n",
       "      <td>N</td>\n",
       "      <td>2013-11-07</td>\n",
       "      <td>2014-03-20</td>\n",
       "      <td>https://www.data.go.kr/data/15050969/fileData.do</td>\n",
       "      <td>891</td>\n",
       "      <td>상담복지센터,청소년,청소년상담복지센터</td>\n",
       "    </tr>\n",
       "    <tr>\n",
       "      <th>68607</th>\n",
       "      <td>15050607</td>\n",
       "      <td>FILE</td>\n",
       "      <td>경기도 용인시_수지구 암검진기관 현황</td>\n",
       "      <td>용인시 수지구 관내 암검진기관 현황 입니다.</td>\n",
       "      <td>1941</td>\n",
       "      <td>보건의료</td>\n",
       "      <td>4050000</td>\n",
       "      <td>경기도 용인시</td>\n",
       "      <td>N</td>\n",
       "      <td>N</td>\n",
       "      <td>2013-10-07</td>\n",
       "      <td>2014-03-20</td>\n",
       "      <td>https://www.data.go.kr/data/15050607/fileData.do</td>\n",
       "      <td>931</td>\n",
       "      <td>안산시,체육,취미교실</td>\n",
       "    </tr>\n",
       "    <tr>\n",
       "      <th>68608</th>\n",
       "      <td>3035853</td>\n",
       "      <td>FILE</td>\n",
       "      <td>경기도 용인시_처인구 안전상비의약품 판매업소 정보</td>\n",
       "      <td>용인시 처인구 안전상비의약품 판매업소 현황 입니다.</td>\n",
       "      <td>1783</td>\n",
       "      <td>식품건강</td>\n",
       "      <td>4050000</td>\n",
       "      <td>경기도 용인시</td>\n",
       "      <td>N</td>\n",
       "      <td>N</td>\n",
       "      <td>2013-10-07</td>\n",
       "      <td>2014-03-20</td>\n",
       "      <td>https://www.data.go.kr/data/3035853/fileData.do</td>\n",
       "      <td>959</td>\n",
       "      <td>공장,공장주소,공장생산품</td>\n",
       "    </tr>\n",
       "    <tr>\n",
       "      <th>68609</th>\n",
       "      <td>3038338</td>\n",
       "      <td>FILE</td>\n",
       "      <td>충청북도 충주시_도매시장 중도매인현황</td>\n",
       "      <td>농수산물도매시장 입주법인별 중도매인현황</td>\n",
       "      <td>1830</td>\n",
       "      <td>문화관광</td>\n",
       "      <td>4390000</td>\n",
       "      <td>충청북도 충주시</td>\n",
       "      <td>N</td>\n",
       "      <td>N</td>\n",
       "      <td>2013-11-07</td>\n",
       "      <td>2013-11-07</td>\n",
       "      <td>https://www.data.go.kr/data/3038338/fileData.do</td>\n",
       "      <td>823</td>\n",
       "      <td>안산도시공사@점검현황@안전점검</td>\n",
       "    </tr>\n",
       "  </tbody>\n",
       "</table>\n",
       "<p>68610 rows × 15 columns</p>\n",
       "</div>"
      ],
      "text/plain": [
       "            목록키  목록유형                          목록명  \\\n",
       "0      15112545  FILE          전라남도 화순군_풍향계측기 허가현황   \n",
       "1      15112546  FILE         경상북도 경주시_상상황리단길 상점정보   \n",
       "2      15112547  FILE       경상북도 경주시_상상황리단길 상품VR현황   \n",
       "3      15112548  FILE       경상북도 경주시_상상황리단길 항공VR현황   \n",
       "4      15112512  FILE     경기도 안산시_반월국가산업단지 입주기업 정보   \n",
       "...         ...   ...                          ...   \n",
       "68605   3070263   API           영화진흥위원회_영화박스오피스 DB   \n",
       "68606  15050969  FILE   경기도 용인시_연령별, 유형별 등록 장애인 현황   \n",
       "68607  15050607  FILE         경기도 용인시_수지구 암검진기관 현황   \n",
       "68608   3035853  FILE  경기도 용인시_처인구 안전상비의약품 판매업소 정보   \n",
       "68609   3038338  FILE         충청북도 충주시_도매시장 중도매인현황   \n",
       "\n",
       "                                                    목록설명   조회수  분류체계     기관코드  \\\n",
       "0      전라남도 화순군의 풍향자원조사용 풍황계측기 및 풍향계측시설 등을 설치하기 위한 산지...     3  산업고용  4900000   \n",
       "1      경주시 상상황리단길 홈페이지에 소개된 음식점, 카페, 놀거리, 숙박, 사진관, 서점...     4  문화관광  5050000   \n",
       "2      경주시 상상황리단길 홈페이지에 소개된 상점들의 주요상품(상점명, 상품VR명, 홈페이...     2  문화관광  5050000   \n",
       "3      경주시 황리단길을 중심으로 촬영한 항공뷰(항공VR명, 홈페이지주소 등) VR를 상상...     3  문화관광  5050000   \n",
       "4      반월국가산업단지 입주기업 정보에 대한 데이터로 공장명, 주소, 업종명, 연락처, 종...     4  산업고용  3930000   \n",
       "...                                                  ...   ...   ...      ...   \n",
       "68605     전국영화관 발권데이터를 실시간 집계처리하여 일간/주간/월간 등의 박스오피스 제공정보  5387  문화관광  B551004   \n",
       "68606     연령별, 유형별 등록 장애인 현황 (15개 유형별에 대한 연령별 등록 장애인 현황)  2357  사회복지  4050000   \n",
       "68607                           용인시 수지구 관내 암검진기관 현황 입니다.  1941  보건의료  4050000   \n",
       "68608                       용인시 처인구 안전상비의약품 판매업소 현황 입니다.  1783  식품건강  4050000   \n",
       "68609                              농수산물도매시장 입주법인별 중도매인현황  1830  문화관광  4390000   \n",
       "\n",
       "            기관명 국가중점여부 표준데이터여부      목록 등록일      목록 수정일  \\\n",
       "0      전라남도 화순군      N       N  2023-02-28  2023-02-28   \n",
       "1      경상북도 경주시      N       N  2023-02-28  2023-02-28   \n",
       "2      경상북도 경주시      N       N  2023-02-28  2023-02-28   \n",
       "3      경상북도 경주시      N       N  2023-02-28  2023-02-28   \n",
       "4       경기도 안산시      N       N  2023-02-27  2023-02-28   \n",
       "...         ...    ...     ...         ...         ...   \n",
       "68605   영화진흥위원회      N       N  2014-03-20  2014-03-20   \n",
       "68606   경기도 용인시      N       N  2013-11-07  2014-03-20   \n",
       "68607   경기도 용인시      N       N  2013-10-07  2014-03-20   \n",
       "68608   경기도 용인시      N       N  2013-10-07  2014-03-20   \n",
       "68609  충청북도 충주시      N       N  2013-11-07  2013-11-07   \n",
       "\n",
       "                                                 목록 URL 다운로드_활용건수  \\\n",
       "0      https://www.data.go.kr/data/15112545/fileData.do         -   \n",
       "1      https://www.data.go.kr/data/15112546/fileData.do         -   \n",
       "2      https://www.data.go.kr/data/15112547/fileData.do         -   \n",
       "3      https://www.data.go.kr/data/15112548/fileData.do         -   \n",
       "4      https://www.data.go.kr/data/15112512/fileData.do         -   \n",
       "...                                                 ...       ...   \n",
       "68605    https://www.data.go.kr/data/3070263/openapi.do      4090   \n",
       "68606  https://www.data.go.kr/data/15050969/fileData.do       891   \n",
       "68607  https://www.data.go.kr/data/15050607/fileData.do       931   \n",
       "68608   https://www.data.go.kr/data/3035853/fileData.do       959   \n",
       "68609   https://www.data.go.kr/data/3038338/fileData.do       823   \n",
       "\n",
       "                           키워드  \n",
       "0                정보화마을@직거래@특산물  \n",
       "1          조사통계,국민여행조사,외래관광객조사  \n",
       "2                     교통,물류,도로  \n",
       "3                     영문,생활,법령  \n",
       "4          정보/통신,소프트웨어,인터넷 S/W  \n",
       "...                        ...  \n",
       "68605  가출청소년,청소년 상담교육,청소년 문화활동  \n",
       "68606     상담복지센터,청소년,청소년상담복지센터  \n",
       "68607              안산시,체육,취미교실  \n",
       "68608            공장,공장주소,공장생산품  \n",
       "68609         안산도시공사@점검현황@안전점검  \n",
       "\n",
       "[68610 rows x 15 columns]"
      ]
     },
     "execution_count": 113,
     "metadata": {},
     "output_type": "execute_result"
    }
   ],
   "source": [
    "cities"
   ]
  },
  {
   "cell_type": "code",
   "execution_count": 116,
   "id": "e02ae2a8-2606-4e87-9b4a-e766be7a80da",
   "metadata": {},
   "outputs": [
    {
     "data": {
      "text/html": [
       "<div>\n",
       "<style scoped>\n",
       "    .dataframe tbody tr th:only-of-type {\n",
       "        vertical-align: middle;\n",
       "    }\n",
       "\n",
       "    .dataframe tbody tr th {\n",
       "        vertical-align: top;\n",
       "    }\n",
       "\n",
       "    .dataframe thead th {\n",
       "        text-align: right;\n",
       "    }\n",
       "</style>\n",
       "<table border=\"1\" class=\"dataframe\">\n",
       "  <thead>\n",
       "    <tr style=\"text-align: right;\">\n",
       "      <th></th>\n",
       "      <th>목록키</th>\n",
       "    </tr>\n",
       "  </thead>\n",
       "  <tbody>\n",
       "    <tr>\n",
       "      <th>count</th>\n",
       "      <td>6.861000e+04</td>\n",
       "    </tr>\n",
       "    <tr>\n",
       "      <th>mean</th>\n",
       "      <td>1.377254e+07</td>\n",
       "    </tr>\n",
       "    <tr>\n",
       "      <th>std</th>\n",
       "      <td>3.746398e+06</td>\n",
       "    </tr>\n",
       "    <tr>\n",
       "      <th>min</th>\n",
       "      <td>2.140252e+06</td>\n",
       "    </tr>\n",
       "    <tr>\n",
       "      <th>25%</th>\n",
       "      <td>1.504309e+07</td>\n",
       "    </tr>\n",
       "    <tr>\n",
       "      <th>50%</th>\n",
       "      <td>1.506672e+07</td>\n",
       "    </tr>\n",
       "    <tr>\n",
       "      <th>75%</th>\n",
       "      <td>1.509113e+07</td>\n",
       "    </tr>\n",
       "    <tr>\n",
       "      <th>max</th>\n",
       "      <td>1.511255e+07</td>\n",
       "    </tr>\n",
       "  </tbody>\n",
       "</table>\n",
       "</div>"
      ],
      "text/plain": [
       "                목록키\n",
       "count  6.861000e+04\n",
       "mean   1.377254e+07\n",
       "std    3.746398e+06\n",
       "min    2.140252e+06\n",
       "25%    1.504309e+07\n",
       "50%    1.506672e+07\n",
       "75%    1.509113e+07\n",
       "max    1.511255e+07"
      ]
     },
     "execution_count": 116,
     "metadata": {},
     "output_type": "execute_result"
    }
   ],
   "source": [
    "cities.describe()"
   ]
  },
  {
   "cell_type": "code",
   "execution_count": 117,
   "id": "bafed8da-86f4-45a5-b88a-17f534182f11",
   "metadata": {},
   "outputs": [],
   "source": [
    "covid19 = pd.read_csv('COVID 19 Containment measures data.csv')"
   ]
  },
  {
   "cell_type": "code",
   "execution_count": 118,
   "id": "7f4f637f-95be-4fd1-8744-890a744687e9",
   "metadata": {},
   "outputs": [
    {
     "data": {
      "text/html": [
       "<div>\n",
       "<style scoped>\n",
       "    .dataframe tbody tr th:only-of-type {\n",
       "        vertical-align: middle;\n",
       "    }\n",
       "\n",
       "    .dataframe tbody tr th {\n",
       "        vertical-align: top;\n",
       "    }\n",
       "\n",
       "    .dataframe thead th {\n",
       "        text-align: right;\n",
       "    }\n",
       "</style>\n",
       "<table border=\"1\" class=\"dataframe\">\n",
       "  <thead>\n",
       "    <tr style=\"text-align: right;\">\n",
       "      <th></th>\n",
       "      <th>ID</th>\n",
       "      <th>Applies To</th>\n",
       "      <th>Country</th>\n",
       "      <th>Date Start</th>\n",
       "      <th>Date end intended</th>\n",
       "      <th>Description of measure implemented</th>\n",
       "      <th>Exceptions</th>\n",
       "      <th>Implementing City</th>\n",
       "      <th>Implementing State/Province</th>\n",
       "      <th>Keywords</th>\n",
       "      <th>Quantity</th>\n",
       "      <th>Source</th>\n",
       "      <th>Target city</th>\n",
       "      <th>Target country</th>\n",
       "      <th>Target region</th>\n",
       "      <th>Target state</th>\n",
       "    </tr>\n",
       "  </thead>\n",
       "  <tbody>\n",
       "    <tr>\n",
       "      <th>0</th>\n",
       "      <td>163</td>\n",
       "      <td>NaN</td>\n",
       "      <td>Austria</td>\n",
       "      <td>Mar 16, 2020</td>\n",
       "      <td>NaN</td>\n",
       "      <td>On 10 March 2020 government announced that all...</td>\n",
       "      <td>NaN</td>\n",
       "      <td>NaN</td>\n",
       "      <td>NaN</td>\n",
       "      <td>university closure</td>\n",
       "      <td>NaN</td>\n",
       "      <td>https://en.wikipedia.org/wiki/2020_coronavirus...</td>\n",
       "      <td>NaN</td>\n",
       "      <td>NaN</td>\n",
       "      <td>NaN</td>\n",
       "      <td>NaN</td>\n",
       "    </tr>\n",
       "    <tr>\n",
       "      <th>1</th>\n",
       "      <td>132</td>\n",
       "      <td>NaN</td>\n",
       "      <td>Germany</td>\n",
       "      <td>Feb 01, 2020</td>\n",
       "      <td>NaN</td>\n",
       "      <td>102 German citizens and 26 relatives, all of w...</td>\n",
       "      <td>NaN</td>\n",
       "      <td>NaN</td>\n",
       "      <td>NaN</td>\n",
       "      <td>international traveller quarantine - risk coun...</td>\n",
       "      <td>0.0001</td>\n",
       "      <td>https://www.tagesschau.de/inland/coronavirus-g...</td>\n",
       "      <td>NaN</td>\n",
       "      <td>NaN</td>\n",
       "      <td>NaN</td>\n",
       "      <td>NaN</td>\n",
       "    </tr>\n",
       "    <tr>\n",
       "      <th>2</th>\n",
       "      <td>578</td>\n",
       "      <td>NaN</td>\n",
       "      <td>United Kingdom</td>\n",
       "      <td>Mar 20, 2020</td>\n",
       "      <td>NaN</td>\n",
       "      <td>All schools, nurseries and colleges closed.</td>\n",
       "      <td>NaN</td>\n",
       "      <td>NaN</td>\n",
       "      <td>NaN</td>\n",
       "      <td>nursery school closure, school closure, univer...</td>\n",
       "      <td>NaN</td>\n",
       "      <td>https://www.theguardian.com/world/2020/mar/18/...</td>\n",
       "      <td>NaN</td>\n",
       "      <td>NaN</td>\n",
       "      <td>NaN</td>\n",
       "      <td>NaN</td>\n",
       "    </tr>\n",
       "    <tr>\n",
       "      <th>3</th>\n",
       "      <td>372</td>\n",
       "      <td>NaN</td>\n",
       "      <td>United Kingdom</td>\n",
       "      <td>Mar 16, 2020</td>\n",
       "      <td>NaN</td>\n",
       "      <td>If one person in any household has a persisten...</td>\n",
       "      <td>NaN</td>\n",
       "      <td>NaN</td>\n",
       "      <td>NaN</td>\n",
       "      <td>blanket isolation - symptoms</td>\n",
       "      <td>NaN</td>\n",
       "      <td>https://www.bbc.com/news/uk-51920444</td>\n",
       "      <td>NaN</td>\n",
       "      <td>NaN</td>\n",
       "      <td>NaN</td>\n",
       "      <td>NaN</td>\n",
       "    </tr>\n",
       "    <tr>\n",
       "      <th>4</th>\n",
       "      <td>357</td>\n",
       "      <td>NaN</td>\n",
       "      <td>United Kingdom</td>\n",
       "      <td>Mar 16, 2020</td>\n",
       "      <td>NaN</td>\n",
       "      <td>By the weekend, those with the most serious he...</td>\n",
       "      <td>NaN</td>\n",
       "      <td>NaN</td>\n",
       "      <td>NaN</td>\n",
       "      <td>isolation advice to elderly</td>\n",
       "      <td>NaN</td>\n",
       "      <td>https://www.bbc.com/news/uk-51920444</td>\n",
       "      <td>NaN</td>\n",
       "      <td>NaN</td>\n",
       "      <td>NaN</td>\n",
       "      <td>NaN</td>\n",
       "    </tr>\n",
       "    <tr>\n",
       "      <th>...</th>\n",
       "      <td>...</td>\n",
       "      <td>...</td>\n",
       "      <td>...</td>\n",
       "      <td>...</td>\n",
       "      <td>...</td>\n",
       "      <td>...</td>\n",
       "      <td>...</td>\n",
       "      <td>...</td>\n",
       "      <td>...</td>\n",
       "      <td>...</td>\n",
       "      <td>...</td>\n",
       "      <td>...</td>\n",
       "      <td>...</td>\n",
       "      <td>...</td>\n",
       "      <td>...</td>\n",
       "      <td>...</td>\n",
       "    </tr>\n",
       "    <tr>\n",
       "      <th>1698</th>\n",
       "      <td>NaN</td>\n",
       "      <td>NaN</td>\n",
       "      <td>US:Louisiana</td>\n",
       "      <td>Mar 11, 2020</td>\n",
       "      <td>NaN</td>\n",
       "      <td>public health emergency declared</td>\n",
       "      <td>NaN</td>\n",
       "      <td>NaN</td>\n",
       "      <td>NaN</td>\n",
       "      <td>state of emergency</td>\n",
       "      <td>NaN</td>\n",
       "      <td>https://gov.louisiana.gov/assets/Proclamations...</td>\n",
       "      <td>NaN</td>\n",
       "      <td>NaN</td>\n",
       "      <td>NaN</td>\n",
       "      <td>NaN</td>\n",
       "    </tr>\n",
       "    <tr>\n",
       "      <th>1699</th>\n",
       "      <td>NaN</td>\n",
       "      <td>NaN</td>\n",
       "      <td>US:Louisiana</td>\n",
       "      <td>Mar 13, 2020</td>\n",
       "      <td>NaN</td>\n",
       "      <td>all gatherings of 250 people or more postponed...</td>\n",
       "      <td>NaN</td>\n",
       "      <td>NaN</td>\n",
       "      <td>NaN</td>\n",
       "      <td>indoor gatherings banned, outdoor gatherings b...</td>\n",
       "      <td>250.0000</td>\n",
       "      <td>https://gov.louisiana.gov/assets/Proclamations...</td>\n",
       "      <td>NaN</td>\n",
       "      <td>NaN</td>\n",
       "      <td>NaN</td>\n",
       "      <td>NaN</td>\n",
       "    </tr>\n",
       "    <tr>\n",
       "      <th>1700</th>\n",
       "      <td>NaN</td>\n",
       "      <td>NaN</td>\n",
       "      <td>US:Louisiana</td>\n",
       "      <td>Mar 13, 2020</td>\n",
       "      <td>NaN</td>\n",
       "      <td>closure of all K-12 public schools; all Cathol...</td>\n",
       "      <td>NaN</td>\n",
       "      <td>NaN</td>\n",
       "      <td>NaN</td>\n",
       "      <td>school closure</td>\n",
       "      <td>NaN</td>\n",
       "      <td>https://gov.louisiana.gov/assets/Proclamations...</td>\n",
       "      <td>NaN</td>\n",
       "      <td>NaN</td>\n",
       "      <td>NaN</td>\n",
       "      <td>NaN</td>\n",
       "    </tr>\n",
       "    <tr>\n",
       "      <th>1701</th>\n",
       "      <td>NaN</td>\n",
       "      <td>NaN</td>\n",
       "      <td>US:Louisiana</td>\n",
       "      <td>Mar 13, 2020</td>\n",
       "      <td>NaN</td>\n",
       "      <td>all Louisiana elections postponed</td>\n",
       "      <td>NaN</td>\n",
       "      <td>NaN</td>\n",
       "      <td>NaN</td>\n",
       "      <td>very large event cancellation or postponement</td>\n",
       "      <td>NaN</td>\n",
       "      <td>https://en.wikipedia.org/wiki/2020_coronavirus...</td>\n",
       "      <td>NaN</td>\n",
       "      <td>NaN</td>\n",
       "      <td>NaN</td>\n",
       "      <td>NaN</td>\n",
       "    </tr>\n",
       "    <tr>\n",
       "      <th>1702</th>\n",
       "      <td>NaN</td>\n",
       "      <td>NaN</td>\n",
       "      <td>US:Louisiana</td>\n",
       "      <td>Mar 17, 2020</td>\n",
       "      <td>NaN</td>\n",
       "      <td>Jazz Fest 2020 postponed</td>\n",
       "      <td>NaN</td>\n",
       "      <td>NaN</td>\n",
       "      <td>NaN</td>\n",
       "      <td>very large event cancellation or postponement</td>\n",
       "      <td>NaN</td>\n",
       "      <td>https://wgno.com/news/local/jazz-fest-2020-pos...</td>\n",
       "      <td>NaN</td>\n",
       "      <td>NaN</td>\n",
       "      <td>NaN</td>\n",
       "      <td>NaN</td>\n",
       "    </tr>\n",
       "  </tbody>\n",
       "</table>\n",
       "<p>1703 rows × 16 columns</p>\n",
       "</div>"
      ],
      "text/plain": [
       "       ID Applies To         Country    Date Start Date end intended  \\\n",
       "0     163        NaN         Austria  Mar 16, 2020               NaN   \n",
       "1     132        NaN         Germany  Feb 01, 2020               NaN   \n",
       "2     578        NaN  United Kingdom  Mar 20, 2020               NaN   \n",
       "3     372        NaN  United Kingdom  Mar 16, 2020               NaN   \n",
       "4     357        NaN  United Kingdom  Mar 16, 2020               NaN   \n",
       "...   ...        ...             ...           ...               ...   \n",
       "1698  NaN        NaN    US:Louisiana  Mar 11, 2020               NaN   \n",
       "1699  NaN        NaN    US:Louisiana  Mar 13, 2020               NaN   \n",
       "1700  NaN        NaN    US:Louisiana  Mar 13, 2020               NaN   \n",
       "1701  NaN        NaN    US:Louisiana  Mar 13, 2020               NaN   \n",
       "1702  NaN        NaN    US:Louisiana  Mar 17, 2020               NaN   \n",
       "\n",
       "                     Description of measure implemented Exceptions  \\\n",
       "0     On 10 March 2020 government announced that all...        NaN   \n",
       "1     102 German citizens and 26 relatives, all of w...        NaN   \n",
       "2           All schools, nurseries and colleges closed.        NaN   \n",
       "3     If one person in any household has a persisten...        NaN   \n",
       "4     By the weekend, those with the most serious he...        NaN   \n",
       "...                                                 ...        ...   \n",
       "1698                   public health emergency declared        NaN   \n",
       "1699  all gatherings of 250 people or more postponed...        NaN   \n",
       "1700  closure of all K-12 public schools; all Cathol...        NaN   \n",
       "1701                  all Louisiana elections postponed        NaN   \n",
       "1702                           Jazz Fest 2020 postponed        NaN   \n",
       "\n",
       "     Implementing City Implementing State/Province  \\\n",
       "0                  NaN                         NaN   \n",
       "1                  NaN                         NaN   \n",
       "2                  NaN                         NaN   \n",
       "3                  NaN                         NaN   \n",
       "4                  NaN                         NaN   \n",
       "...                ...                         ...   \n",
       "1698               NaN                         NaN   \n",
       "1699               NaN                         NaN   \n",
       "1700               NaN                         NaN   \n",
       "1701               NaN                         NaN   \n",
       "1702               NaN                         NaN   \n",
       "\n",
       "                                               Keywords  Quantity  \\\n",
       "0                                    university closure       NaN   \n",
       "1     international traveller quarantine - risk coun...    0.0001   \n",
       "2     nursery school closure, school closure, univer...       NaN   \n",
       "3                          blanket isolation - symptoms       NaN   \n",
       "4                           isolation advice to elderly       NaN   \n",
       "...                                                 ...       ...   \n",
       "1698                                 state of emergency       NaN   \n",
       "1699  indoor gatherings banned, outdoor gatherings b...  250.0000   \n",
       "1700                                     school closure       NaN   \n",
       "1701      very large event cancellation or postponement       NaN   \n",
       "1702      very large event cancellation or postponement       NaN   \n",
       "\n",
       "                                                 Source Target city  \\\n",
       "0     https://en.wikipedia.org/wiki/2020_coronavirus...         NaN   \n",
       "1     https://www.tagesschau.de/inland/coronavirus-g...         NaN   \n",
       "2     https://www.theguardian.com/world/2020/mar/18/...         NaN   \n",
       "3                  https://www.bbc.com/news/uk-51920444         NaN   \n",
       "4                  https://www.bbc.com/news/uk-51920444         NaN   \n",
       "...                                                 ...         ...   \n",
       "1698  https://gov.louisiana.gov/assets/Proclamations...         NaN   \n",
       "1699  https://gov.louisiana.gov/assets/Proclamations...         NaN   \n",
       "1700  https://gov.louisiana.gov/assets/Proclamations...         NaN   \n",
       "1701  https://en.wikipedia.org/wiki/2020_coronavirus...         NaN   \n",
       "1702  https://wgno.com/news/local/jazz-fest-2020-pos...         NaN   \n",
       "\n",
       "     Target country Target region  Target state  \n",
       "0               NaN           NaN           NaN  \n",
       "1               NaN           NaN           NaN  \n",
       "2               NaN           NaN           NaN  \n",
       "3               NaN           NaN           NaN  \n",
       "4               NaN           NaN           NaN  \n",
       "...             ...           ...           ...  \n",
       "1698            NaN           NaN           NaN  \n",
       "1699            NaN           NaN           NaN  \n",
       "1700            NaN           NaN           NaN  \n",
       "1701            NaN           NaN           NaN  \n",
       "1702            NaN           NaN           NaN  \n",
       "\n",
       "[1703 rows x 16 columns]"
      ]
     },
     "execution_count": 118,
     "metadata": {},
     "output_type": "execute_result"
    }
   ],
   "source": [
    "covid19"
   ]
  },
  {
   "cell_type": "code",
   "execution_count": 119,
   "id": "abdac5d1-d558-4b7d-a45a-ca573b3ac3fe",
   "metadata": {},
   "outputs": [
    {
     "name": "stdout",
     "output_type": "stream",
     "text": [
      "C:\\python\n"
     ]
    }
   ],
   "source": [
    "%cd C:\\\\python\\"
   ]
  },
  {
   "cell_type": "code",
   "execution_count": null,
   "id": "1f9e3ff1-44cd-41ef-8d75-a97f79d4f582",
   "metadata": {},
   "outputs": [],
   "source": []
  }
 ],
 "metadata": {
  "kernelspec": {
   "display_name": "Python 3 (ipykernel)",
   "language": "python",
   "name": "python3"
  },
  "language_info": {
   "codemirror_mode": {
    "name": "ipython",
    "version": 3
   },
   "file_extension": ".py",
   "mimetype": "text/x-python",
   "name": "python",
   "nbconvert_exporter": "python",
   "pygments_lexer": "ipython3",
   "version": "3.9.13"
  },
  "widgets": {
   "application/vnd.jupyter.widget-state+json": {
    "state": {},
    "version_major": 2,
    "version_minor": 0
   }
  }
 },
 "nbformat": 4,
 "nbformat_minor": 5
}
