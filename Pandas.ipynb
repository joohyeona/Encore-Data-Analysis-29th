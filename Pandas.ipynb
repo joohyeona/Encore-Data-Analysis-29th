{
 "cells": [
  {
   "cell_type": "code",
   "execution_count": 2,
   "id": "627ce3e4-67df-4a1a-b569-5b205df1f62c",
   "metadata": {},
   "outputs": [],
   "source": [
    "import pandas as pd\n",
    "import numpy as np"
   ]
  },
  {
   "cell_type": "code",
   "execution_count": 3,
   "id": "b6da9ea3-ef69-40f2-be7e-a1a6ad97891e",
   "metadata": {},
   "outputs": [
    {
     "data": {
      "text/plain": [
       "1    하나\n",
       "2     둘\n",
       "3     셋\n",
       "4     넷\n",
       "5    다섯\n",
       "dtype: object"
      ]
     },
     "execution_count": 3,
     "metadata": {},
     "output_type": "execute_result"
    }
   ],
   "source": [
    "# Series 객체를 생성할 때 pd.Series()\n",
    "\n",
    "series = pd.Series(['하나', '둘', '셋', '넷', '다섯'],\n",
    "                    index = [ _ for _ in range(1,6)])\n",
    "\n",
    "series"
   ]
  },
  {
   "cell_type": "code",
   "execution_count": 4,
   "id": "86fe32e6-cd0d-4023-b906-2dcbfae50eab",
   "metadata": {},
   "outputs": [
    {
     "data": {
      "text/plain": [
       "0    10\n",
       "1    20\n",
       "2    30\n",
       "3    40\n",
       "4    50\n",
       "5    60\n",
       "6    70\n",
       "7    80\n",
       "8    90\n",
       "dtype: int64"
      ]
     },
     "execution_count": 4,
     "metadata": {},
     "output_type": "execute_result"
    }
   ],
   "source": [
    "#10에서 90까지 값을 갖는 Series 생성\n",
    "#rangeIndex 사용\n",
    "\n",
    "s = pd.Series([ _ for _ in range(10,100,10)])\n",
    "s\n",
    "\n",
    "# pd.Series(list(range(10,100,10)))  <이렇게합시다...:)"
   ]
  },
  {
   "cell_type": "code",
   "execution_count": 5,
   "id": "2fccfbe0-ec47-48ef-b822-5cdae6dc78da",
   "metadata": {},
   "outputs": [
    {
     "data": {
      "text/plain": [
       "서울    9904312\n",
       "부산    3448737\n",
       "인천    2890451\n",
       "대구    2466052\n",
       "dtype: int64"
      ]
     },
     "execution_count": 5,
     "metadata": {},
     "output_type": "execute_result"
    }
   ],
   "source": [
    "# 각 도시의 2015년 인구 데이터를 series로 만들기~\n",
    "# 읽기 쉽게 하기 위해 콤마로 3자리씩 끊어 표기하는 법 _로!\n",
    "\n",
    "s = pd.Series( [9_904_312, 3_448_737, 2_890_451, 2_466_052],\n",
    "              index=['서울', '부산', '인천', '대구'])\n",
    "s"
   ]
  },
  {
   "cell_type": "code",
   "execution_count": 6,
   "id": "500d59de-19dc-49bf-bce7-739328201e87",
   "metadata": {},
   "outputs": [
    {
     "data": {
      "text/plain": [
       "0    10\n",
       "1    11\n",
       "2    12\n",
       "3    13\n",
       "dtype: int64"
      ]
     },
     "execution_count": 6,
     "metadata": {},
     "output_type": "execute_result"
    }
   ],
   "source": [
    "pd.Series(range(10,14))\n",
    "\n",
    "#index와 value의 개수는 동일해야 함.\n",
    "#index를 지정하지 않으면 0부터 시작하는 정수 값(rangeIndex)"
   ]
  },
  {
   "cell_type": "code",
   "execution_count": 7,
   "id": "e6f86862-f16c-4c96-b88f-a32ecb46646e",
   "metadata": {},
   "outputs": [
    {
     "name": "stdout",
     "output_type": "stream",
     "text": [
      "[9904312 3448737 2890451 2466052]\n"
     ]
    },
    {
     "data": {
      "text/plain": [
       "4"
      ]
     },
     "execution_count": 7,
     "metadata": {},
     "output_type": "execute_result"
    }
   ],
   "source": [
    "# 앞서 만든 연습문제의 Series 객체의 값 중 50보다 큰 값의 개수\n",
    "\n",
    "print(s.values)\n",
    "sum(s.values[:]>50) #하하 sum을 하면 되는군요:)"
   ]
  },
  {
   "cell_type": "code",
   "execution_count": 8,
   "id": "fa30e576-f850-445a-aa2f-d19c9f77cc74",
   "metadata": {},
   "outputs": [
    {
     "name": "stdout",
     "output_type": "stream",
     "text": [
      "c    3\n",
      "a    1\n",
      "b    2\n",
      "dtype: int64\n",
      "c     3.0\n",
      "a     1.0\n",
      "b1    NaN\n",
      "dtype: float64\n"
     ]
    }
   ],
   "source": [
    "d = {'a':1, 'b':2, 'c':3}\n",
    "ser = pd.Series(data=d, index=['c','a','b'])  #index 순서대로 딕셔너리 위치 바뀜\n",
    "                                        #딕셔너리는 순서가 없는 데이터(비시퀀스)\n",
    "print(ser)\n",
    "\n",
    "ser2 = pd.Series(data=d, index=['c','a','b1']) #없는 키를 입력하면 \n",
    "print(ser2)                                    #Nan 값 뜸"
   ]
  },
  {
   "cell_type": "code",
   "execution_count": 9,
   "id": "774c9d5d-bf96-458d-bb28-060a1341c388",
   "metadata": {},
   "outputs": [
    {
     "data": {
      "text/plain": [
       "철수     88\n",
       "영희     95\n",
       "길동    100\n",
       "몽룡     67\n",
       "dtype: int64"
      ]
     },
     "execution_count": 9,
     "metadata": {},
     "output_type": "execute_result"
    }
   ],
   "source": [
    "#연습문제 이름 index, 점수 values로 하는 series 만들기\n",
    "\n",
    "score = pd.Series([88,95,100,67],\n",
    "                  index=['철수','영희','길동','몽룡'])\n",
    "score"
   ]
  },
  {
   "cell_type": "code",
   "execution_count": 10,
   "id": "631b44c9-4daf-4632-868d-a9cc17060910",
   "metadata": {},
   "outputs": [
    {
     "name": "stdout",
     "output_type": "stream",
     "text": [
      "88\n"
     ]
    },
    {
     "data": {
      "text/plain": [
       "(88, 95, 67)"
      ]
     },
     "execution_count": 10,
     "metadata": {},
     "output_type": "execute_result"
    }
   ],
   "source": [
    "#index를 속성처럼 활용하기\n",
    "print(score.철수)\n",
    "\n",
    "score.철수, score.영희, score.몽룡\n",
    "\n",
    "#가능합니다."
   ]
  },
  {
   "cell_type": "code",
   "execution_count": 11,
   "id": "18cf7c34-7158-4407-997c-5de586496bf7",
   "metadata": {},
   "outputs": [
    {
     "data": {
      "text/plain": [
       "1"
      ]
     },
     "execution_count": 11,
     "metadata": {},
     "output_type": "execute_result"
    }
   ],
   "source": [
    "ser.a"
   ]
  },
  {
   "cell_type": "code",
   "execution_count": 12,
   "id": "ff719025-8c40-48e2-95bd-683902f5271d",
   "metadata": {},
   "outputs": [
    {
     "name": "stdout",
     "output_type": "stream",
     "text": [
      "True \n",
      "\n",
      "서울, 9904312\n",
      "부산, 3448737\n",
      "인천, 2890451\n",
      "대구, 2466052\n"
     ]
    }
   ],
   "source": [
    "#index label을 키(key)로 사용하므로\n",
    "#딕셔너리처럼 in, items() method 사용하며 요소의 키, 값에 접근 가능\n",
    "\n",
    "print('서울' in s, '\\n')\n",
    "\n",
    "for k, v in s.items():\n",
    "    print(f'{k}, {v}')"
   ]
  },
  {
   "cell_type": "code",
   "execution_count": 13,
   "id": "11a9af3a-ddb7-490b-8e58-fbba36615a45",
   "metadata": {},
   "outputs": [
    {
     "name": "stdout",
     "output_type": "stream",
     "text": [
      "0, 영\n",
      "1, 일\n",
      "2, 이\n",
      "3, 삼\n",
      "4, 사\n",
      "5, 오\n",
      "6, 육\n",
      "7, 칠\n",
      "8, 팔\n",
      "9, 구\n",
      "\n",
      "\n",
      "영 in test.values():  True\n",
      "서울 in s:  True\n"
     ]
    }
   ],
   "source": [
    "test = dict( zip(range(10), list('영일이삼사오육칠팔구')) )\n",
    "            #zip으로 dict에 키, 값을 넣어줌\n",
    "\n",
    "for k, v in test.items():\n",
    "    print(f'{k}, {v}')    #하나씩 꺼내줍니다\n",
    "    \n",
    "print('\\n')\n",
    "print('영 in test.values(): ', '영' in test.values())\n",
    "print('서울 in s: ', '서울' in s)"
   ]
  },
  {
   "cell_type": "code",
   "execution_count": 14,
   "id": "3683aab8-939c-4158-8e04-ef37819b6d0b",
   "metadata": {},
   "outputs": [
    {
     "name": "stdout",
     "output_type": "stream",
     "text": [
      "서울의 인구는 300만이 넘습니다.\n",
      "부산의 인구는 300만이 넘습니다.\n"
     ]
    }
   ],
   "source": [
    "pop = pd.Series( [9_904_312, 3_448_737, 2_890_451, 2_466_052],\n",
    "              index=['서울', '부산', '인천', '대구'])\n",
    "#population\n",
    "#도시의 인구가 300만이 넘는 곳을 찾아 다음과 같이 출력해보세요.\n",
    "# 서울의 인구는 300만이 넘습니다.\n",
    "# for, items() 사용\n",
    "\n",
    "for a, b in pop.items():\n",
    "    if b>=3000000:\n",
    "        print(f'{a}의 인구는 300만이 넘습니다.')"
   ]
  },
  {
   "cell_type": "code",
   "execution_count": 15,
   "id": "6d4dad8a-3937-46af-86e1-02c87666644c",
   "metadata": {},
   "outputs": [
    {
     "name": "stdout",
     "output_type": "stream",
     "text": [
      "9904312 9904312 \n",
      "\n",
      "인천    2890451\n",
      "대구    2466052\n",
      "부산    3448737\n",
      "dtype: int64 \n",
      "\n",
      "대구    2466052\n",
      "부산    3448737\n",
      "dtype: int64 \n",
      "\n",
      "9904312\n"
     ]
    }
   ],
   "source": [
    "print(pop['서울'], pop[0], '\\n')\n",
    "print(pop[[2, 3, 1]], '\\n')\n",
    "print(pop[['대구', '부산']], '\\n')\n",
    "#pop.0은 안 됨\n",
    "print(pop.서울)"
   ]
  },
  {
   "cell_type": "code",
   "execution_count": 16,
   "id": "254618ea-25bd-4a3f-a1ad-4eb8164ee899",
   "metadata": {},
   "outputs": [
    {
     "data": {
      "text/plain": [
       "인천    2890451\n",
       "dtype: int64"
      ]
     },
     "execution_count": 16,
     "metadata": {},
     "output_type": "execute_result"
    }
   ],
   "source": [
    "#인천의 인덱스와 값을 시리즈로 조회해보세요.\n",
    "pop[['인천']]"
   ]
  },
  {
   "cell_type": "code",
   "execution_count": 17,
   "id": "a0fad390-7f9d-4675-98ae-31ccd3dbc68e",
   "metadata": {},
   "outputs": [
    {
     "name": "stdout",
     "output_type": "stream",
     "text": [
      "서울    9904312\n",
      "부산    3448737\n",
      "인천    2890451\n",
      "대구    2466052\n",
      "dtype: int64 \n",
      "\n",
      "부산    3448737\n",
      "인천    2890451\n",
      "dtype: int64 \n",
      "\n",
      "부산    3448737\n",
      "인천    2890451\n",
      "대구    2466052\n",
      "dtype: int64\n"
     ]
    }
   ],
   "source": [
    "print(pop,'\\n')\n",
    "print(pop[1:3], '\\n')\n",
    "print(pop['부산':'대구'])"
   ]
  },
  {
   "cell_type": "code",
   "execution_count": 18,
   "id": "b4d998ba-7e2f-470a-bcb1-0daf554a4842",
   "metadata": {},
   "outputs": [],
   "source": [
    "#2015년도 인구, 2010년도 인구 비교(증감)\n",
    "#근데 이제 대구 대신 대전을 포함한\n",
    "pop15 = pop\n",
    "pop10 = pd.Series({'서울':9631482, '부산':3393191, '인천':2632035, '대전':1490158})\n",
    "\n",
    "popM = pop15-pop10\n",
    "\n",
    "#계산이 불가능한 데이터는 NaN(Not a Number) 값을 가짐"
   ]
  },
  {
   "cell_type": "code",
   "execution_count": 19,
   "id": "42490e21-bb95-4c38-8562-31add7da04b1",
   "metadata": {},
   "outputs": [
    {
     "data": {
      "text/plain": [
       "대구     True\n",
       "대전     True\n",
       "부산    False\n",
       "서울    False\n",
       "인천    False\n",
       "dtype: bool"
      ]
     },
     "execution_count": 19,
     "metadata": {},
     "output_type": "execute_result"
    }
   ],
   "source": [
    "popM.isnull()\n",
    "#NaN -> True null 값입니다.\n",
    "#값 있으면 False"
   ]
  },
  {
   "cell_type": "code",
   "execution_count": 20,
   "id": "3cf1c415-438f-459b-b793-8f23245835c6",
   "metadata": {},
   "outputs": [
    {
     "data": {
      "text/plain": [
       "대구    False\n",
       "대전    False\n",
       "부산     True\n",
       "서울     True\n",
       "인천     True\n",
       "dtype: bool"
      ]
     },
     "execution_count": 20,
     "metadata": {},
     "output_type": "execute_result"
    }
   ],
   "source": [
    "popM.notnull()\n",
    "#반대~"
   ]
  },
  {
   "cell_type": "code",
   "execution_count": 21,
   "id": "1504276a-b9ae-4511-ad9f-1affa38c2d68",
   "metadata": {},
   "outputs": [
    {
     "name": "stdout",
     "output_type": "stream",
     "text": [
      "대구   NaN\n",
      "대전   NaN\n",
      "dtype: float64 \n",
      "\n",
      "부산     55546.0\n",
      "서울    272830.0\n",
      "인천    258416.0\n",
      "dtype: float64 \n",
      "\n",
      "서울    9904312\n",
      "부산    3448737\n",
      "dtype: int64\n"
     ]
    }
   ],
   "source": [
    "#NaN이 아닌 값만 인덱싱으로 구하기\n",
    "\n",
    "print( popM[ popM.isnull() ], '\\n' )\n",
    "print( popM[ popM.notnull() ], '\\n' )\n",
    "\n",
    "print(pop[ pop>3000000 ] )"
   ]
  },
  {
   "cell_type": "code",
   "execution_count": 22,
   "id": "1dea4dd4-0ae6-4d25-8c87-8bccdb3a57e7",
   "metadata": {},
   "outputs": [
    {
     "data": {
      "text/plain": [
       "부산    1.636984\n",
       "서울    2.832690\n",
       "인천    9.818107\n",
       "dtype: float64"
      ]
     },
     "execution_count": 22,
     "metadata": {},
     "output_type": "execute_result"
    }
   ],
   "source": [
    "#Nan 값을 배제하고 2010년 대비 2015년의 인구 증가율 구하기\n",
    "\n",
    "popP = (pop15 - pop10) / pop10 * 100\n",
    "popP = popP[ popP.notnull() ]    #notnull true인 값만 popP에 추가~\n",
    "popP"
   ]
  },
  {
   "cell_type": "code",
   "execution_count": 23,
   "id": "0b853d20-acd8-445f-b8a7-4796308b56cf",
   "metadata": {},
   "outputs": [
    {
     "data": {
      "text/plain": [
       "서울    272830.0\n",
       "dtype: float64"
      ]
     },
     "execution_count": 23,
     "metadata": {},
     "output_type": "execute_result"
    }
   ],
   "source": [
    "#2010년 대비 2015년 증가량 구하기(NaN값 배제)\n",
    "#인구수 증가가 가장 많은 도시의 이름과 증가한 인구수를 series 객체로 출력\n",
    "\n",
    "popPlus = pop15 - pop10\n",
    "popPlus = popPlus[ popPlus.notnull() ]\n",
    "popPlus[ popPlus == popPlus.max() ]"
   ]
  },
  {
   "cell_type": "code",
   "execution_count": 24,
   "id": "db5079d8-5c55-4135-96a8-50b6d10c23f0",
   "metadata": {},
   "outputs": [
    {
     "data": {
      "text/plain": [
       "서울    272830.0\n",
       "dtype: float64"
      ]
     },
     "execution_count": 24,
     "metadata": {},
     "output_type": "execute_result"
    }
   ],
   "source": [
    "#강사님 답변\n",
    "popPlus = pop15 - pop10\n",
    "popPlus = popPlus[ popPlus.notnull() ]\n",
    "popPlus[[popPlus.values.argmax()]]"
   ]
  },
  {
   "cell_type": "code",
   "execution_count": 25,
   "id": "3b2f1939-afa5-44d4-ac1a-1ae8d91938b8",
   "metadata": {},
   "outputs": [
    {
     "data": {
      "text/plain": [
       "부산    1.63\n",
       "인천    9.82\n",
       "울산    1.03\n",
       "dtype: float64"
      ]
     },
     "execution_count": 25,
     "metadata": {},
     "output_type": "execute_result"
    }
   ],
   "source": [
    "#갱신\n",
    "popP.서울 = 2.83\n",
    "popP['인천'] = 9.82\n",
    "\n",
    "popP['부산':'서울'] = 1.63, 2.83\n",
    "popP['울산'] = 1.03\n",
    "del popP['서울']\n",
    "\n",
    "popP"
   ]
  },
  {
   "cell_type": "code",
   "execution_count": 26,
   "id": "aeca04ff-f744-45aa-b895-3cc884adb90f",
   "metadata": {},
   "outputs": [
    {
     "data": {
      "text/plain": [
       "대구    False\n",
       "대전    False\n",
       "부산     True\n",
       "서울     True\n",
       "인천     True\n",
       "dtype: bool"
      ]
     },
     "execution_count": 26,
     "metadata": {},
     "output_type": "execute_result"
    }
   ],
   "source": [
    "popM.notnull()"
   ]
  },
  {
   "cell_type": "code",
   "execution_count": 27,
   "id": "7f8ca947-3fc3-48d6-8708-8790763bcaf3",
   "metadata": {},
   "outputs": [
    {
     "data": {
      "text/plain": [
       "카카오     60010\n",
       "삼성전자    61000\n",
       "LG전자    90000\n",
       "dtype: int64"
      ]
     },
     "execution_count": 27,
     "metadata": {},
     "output_type": "execute_result"
    }
   ],
   "source": [
    "fin1 = {'카카오': 60010, '삼성전자': 61000, 'LG전자': 90000}\n",
    "fin2_value = [60200, 61200, 200100]\n",
    "fin2_index = ['카카오', '삼성전자', '네이버']\n",
    "\n",
    "ser_finance1 = pd.Series(fin1)\n",
    "ser_finance2 = pd.Series(fin2_value, index = fin2_index )\n",
    "\n",
    "ser_finance1"
   ]
  },
  {
   "cell_type": "code",
   "execution_count": 28,
   "id": "e596a0b8-1b0d-453c-86b5-197092708762",
   "metadata": {},
   "outputs": [
    {
     "data": {
      "text/plain": [
       "카카오      60200\n",
       "삼성전자     61200\n",
       "네이버     200100\n",
       "dtype: int64"
      ]
     },
     "execution_count": 28,
     "metadata": {},
     "output_type": "execute_result"
    }
   ],
   "source": [
    "ser_finance2"
   ]
  },
  {
   "cell_type": "code",
   "execution_count": 29,
   "id": "6fb3ce38-e0e4-488a-b9e7-ee7a4fbd3d67",
   "metadata": {},
   "outputs": [
    {
     "data": {
      "text/plain": [
       "LG전자      NaN\n",
       "네이버       NaN\n",
       "삼성전자   -200.0\n",
       "카카오    -190.0\n",
       "dtype: float64"
      ]
     },
     "execution_count": 29,
     "metadata": {},
     "output_type": "execute_result"
    }
   ],
   "source": [
    "ser_finance1 - ser_finance2"
   ]
  },
  {
   "cell_type": "code",
   "execution_count": 30,
   "id": "e57296f3-edbd-44db-8fc5-791a6c3b0171",
   "metadata": {},
   "outputs": [
    {
     "data": {
      "text/plain": [
       "LG전자         NaN\n",
       "네이버          NaN\n",
       "삼성전자    122200.0\n",
       "카카오     120210.0\n",
       "dtype: float64"
      ]
     },
     "execution_count": 30,
     "metadata": {},
     "output_type": "execute_result"
    }
   ],
   "source": [
    "ser_finance1 + ser_finance2"
   ]
  },
  {
   "cell_type": "code",
   "execution_count": 31,
   "id": "5a22d2e6-a678-4de1-96fa-b5894f84a7ca",
   "metadata": {},
   "outputs": [
    {
     "data": {
      "text/plain": [
       "LG전자             NaN\n",
       "네이버              NaN\n",
       "삼성전자    3.733200e+09\n",
       "카카오     3.612602e+09\n",
       "dtype: float64"
      ]
     },
     "execution_count": 31,
     "metadata": {},
     "output_type": "execute_result"
    }
   ],
   "source": [
    "ser_finance1 * ser_finance2"
   ]
  },
  {
   "cell_type": "code",
   "execution_count": 32,
   "id": "5deaf636-2fb1-4869-9e41-bb1f6c65a8b9",
   "metadata": {},
   "outputs": [
    {
     "data": {
      "text/plain": [
       "LG전자         NaN\n",
       "네이버          NaN\n",
       "삼성전자    0.996732\n",
       "카카오     0.996844\n",
       "dtype: float64"
      ]
     },
     "execution_count": 32,
     "metadata": {},
     "output_type": "execute_result"
    }
   ],
   "source": [
    "ser_finance1 / ser_finance2"
   ]
  },
  {
   "cell_type": "code",
   "execution_count": 41,
   "id": "283d4684-9110-4e46-affb-28cfbd76136c",
   "metadata": {},
   "outputs": [
    {
     "data": {
      "text/plain": [
       "삼성전자   -200.0\n",
       "카카오    -190.0\n",
       "dtype: float64"
      ]
     },
     "execution_count": 41,
     "metadata": {},
     "output_type": "execute_result"
    }
   ],
   "source": [
    "result = ser_finance1 - ser_finance2\n",
    "result[result.notnull()]    #nan 값 빼고 저장하기"
   ]
  },
  {
   "cell_type": "code",
   "execution_count": null,
   "id": "39006f7d-9ae4-4ed4-8d26-9ad9803875ff",
   "metadata": {},
   "outputs": [],
   "source": []
  },
  {
   "cell_type": "code",
   "execution_count": null,
   "id": "55be10f2-5f3c-44db-9f50-e27cc1050fad",
   "metadata": {},
   "outputs": [],
   "source": [
    "pd.DataFrame( data=None, index:'key'=None)"
   ]
  },
  {
   "cell_type": "code",
   "execution_count": 42,
   "id": "3ad880ae-acfc-4b84-b6d4-72b70ea06c0f",
   "metadata": {},
   "outputs": [
    {
     "data": {
      "text/html": [
       "<div>\n",
       "<style scoped>\n",
       "    .dataframe tbody tr th:only-of-type {\n",
       "        vertical-align: middle;\n",
       "    }\n",
       "\n",
       "    .dataframe tbody tr th {\n",
       "        vertical-align: top;\n",
       "    }\n",
       "\n",
       "    .dataframe thead th {\n",
       "        text-align: right;\n",
       "    }\n",
       "</style>\n",
       "<table border=\"1\" class=\"dataframe\">\n",
       "  <thead>\n",
       "    <tr style=\"text-align: right;\">\n",
       "      <th></th>\n",
       "      <th>col1</th>\n",
       "      <th>col2</th>\n",
       "    </tr>\n",
       "  </thead>\n",
       "  <tbody>\n",
       "    <tr>\n",
       "      <th>0</th>\n",
       "      <td>1</td>\n",
       "      <td>3</td>\n",
       "    </tr>\n",
       "    <tr>\n",
       "      <th>1</th>\n",
       "      <td>2</td>\n",
       "      <td>4</td>\n",
       "    </tr>\n",
       "  </tbody>\n",
       "</table>\n",
       "</div>"
      ],
      "text/plain": [
       "   col1  col2\n",
       "0     1     3\n",
       "1     2     4"
      ]
     },
     "execution_count": 42,
     "metadata": {},
     "output_type": "execute_result"
    }
   ],
   "source": [
    "d = {'col1' : [1, 2], 'col2': [3,4] }  #열 이름이 key, 값들이 value\n",
    "df = pd.DataFrame(data=d)\n",
    "df"
   ]
  },
  {
   "cell_type": "code",
   "execution_count": 43,
   "id": "e59e4994-df0f-4167-9e6e-aaa36e1253c1",
   "metadata": {},
   "outputs": [
    {
     "data": {
      "text/html": [
       "<div>\n",
       "<style scoped>\n",
       "    .dataframe tbody tr th:only-of-type {\n",
       "        vertical-align: middle;\n",
       "    }\n",
       "\n",
       "    .dataframe tbody tr th {\n",
       "        vertical-align: top;\n",
       "    }\n",
       "\n",
       "    .dataframe thead th {\n",
       "        text-align: right;\n",
       "    }\n",
       "</style>\n",
       "<table border=\"1\" class=\"dataframe\">\n",
       "  <thead>\n",
       "    <tr style=\"text-align: right;\">\n",
       "      <th></th>\n",
       "      <th>지역</th>\n",
       "      <th>2015</th>\n",
       "      <th>2010</th>\n",
       "      <th>2005</th>\n",
       "      <th>2000</th>\n",
       "      <th>2010-2015 증가율</th>\n",
       "    </tr>\n",
       "  </thead>\n",
       "  <tbody>\n",
       "    <tr>\n",
       "      <th>서울</th>\n",
       "      <td>수도권</td>\n",
       "      <td>9904312</td>\n",
       "      <td>9631482</td>\n",
       "      <td>9762546</td>\n",
       "      <td>9853972</td>\n",
       "      <td>0.0283</td>\n",
       "    </tr>\n",
       "    <tr>\n",
       "      <th>부산</th>\n",
       "      <td>경상권</td>\n",
       "      <td>3448737</td>\n",
       "      <td>3393191</td>\n",
       "      <td>3512547</td>\n",
       "      <td>3655437</td>\n",
       "      <td>0.0163</td>\n",
       "    </tr>\n",
       "    <tr>\n",
       "      <th>인천</th>\n",
       "      <td>수도권</td>\n",
       "      <td>2890451</td>\n",
       "      <td>2632035</td>\n",
       "      <td>2517680</td>\n",
       "      <td>2466338</td>\n",
       "      <td>0.0982</td>\n",
       "    </tr>\n",
       "    <tr>\n",
       "      <th>대구</th>\n",
       "      <td>경상권</td>\n",
       "      <td>2466052</td>\n",
       "      <td>2431774</td>\n",
       "      <td>2456016</td>\n",
       "      <td>2473990</td>\n",
       "      <td>0.0141</td>\n",
       "    </tr>\n",
       "  </tbody>\n",
       "</table>\n",
       "</div>"
      ],
      "text/plain": [
       "     지역     2015     2010     2005     2000  2010-2015 증가율\n",
       "서울  수도권  9904312  9631482  9762546  9853972         0.0283\n",
       "부산  경상권  3448737  3393191  3512547  3655437         0.0163\n",
       "인천  수도권  2890451  2632035  2517680  2466338         0.0982\n",
       "대구  경상권  2466052  2431774  2456016  2473990         0.0141"
      ]
     },
     "execution_count": 43,
     "metadata": {},
     "output_type": "execute_result"
    }
   ],
   "source": [
    "data = {\n",
    "    \"2015\" : [9904312, 3448737, 2890451, 2466052],\n",
    "    \"2010\" : [9631482, 3393191, 2632035, 2431774],\n",
    "    \"2005\" : [9762546, 3512547, 2517680, 2456016],\n",
    "    \"2000\" : [9853972, 3655437, 2466338, 2473990],\n",
    "    \"지역\" : [\"수도권\", \"경상권\", \"수도권\", \"경상권\"],\n",
    "    \"2010-2015 증가율\" :[0.0283, 0.0163, 0.0982, 0.0141]\n",
    "}\n",
    "columns = [\"지역\", \"2015\", \"2010\", \"2005\", \"2000\", \"2010-2015 증가율\"]\n",
    "index = [\"서울\", \"부산\", \"인천\", \"대구\"]\n",
    "df = pd.DataFrame(data, index = index, columns = columns)\n",
    "df"
   ]
  },
  {
   "cell_type": "code",
   "execution_count": 45,
   "id": "3aba8f16-a88a-4280-bfa8-cfcdd073e63a",
   "metadata": {},
   "outputs": [
    {
     "data": {
      "text/plain": [
       "지역                object\n",
       "2015               int64\n",
       "2010               int64\n",
       "2005               int64\n",
       "2000               int64\n",
       "2010-2015 증가율    float64\n",
       "dtype: object"
      ]
     },
     "execution_count": 45,
     "metadata": {},
     "output_type": "execute_result"
    }
   ],
   "source": [
    "# dataFrame 자료형 확인\n",
    "# 각 열 별로 자료형이 다를 수 있다.\n",
    "df.dtypes #dtype이 아닌 dtypes!"
   ]
  },
  {
   "cell_type": "code",
   "execution_count": 46,
   "id": "4e45c06c-acfb-49eb-83b6-ed3ba2ada5c4",
   "metadata": {},
   "outputs": [
    {
     "name": "stdout",
     "output_type": "stream",
     "text": [
      "[['수도권' 9904312 9631482 9762546 9853972 0.0283]\n",
      " ['경상권' 3448737 3393191 3512547 3655437 0.0163]\n",
      " ['수도권' 2890451 2632035 2517680 2466338 0.0982]\n",
      " ['경상권' 2466052 2431774 2456016 2473990 0.0141]] \n",
      "\n",
      "Index(['지역', '2015', '2010', '2005', '2000', '2010-2015 증가율'], dtype='object') \n",
      "\n"
     ]
    },
    {
     "data": {
      "text/plain": [
       "Index(['서울', '부산', '인천', '대구'], dtype='object')"
      ]
     },
     "execution_count": 46,
     "metadata": {},
     "output_type": "execute_result"
    }
   ],
   "source": [
    "print(df.values, '\\n')\n",
    "print(df.columns, '\\n')\n",
    "df.index"
   ]
  },
  {
   "cell_type": "code",
   "execution_count": 50,
   "id": "4c97e533-a65f-4730-9b14-c869130f6dc6",
   "metadata": {},
   "outputs": [],
   "source": [
    "df.index.name = '도시'    #행이름의 그룹이름 \n",
    "df.columns.name = '특성'  #열이름의 그룹이름"
   ]
  },
  {
   "cell_type": "code",
   "execution_count": 49,
   "id": "3514835d-593b-4f5a-9e35-9de5439b4cc2",
   "metadata": {},
   "outputs": [
    {
     "data": {
      "text/html": [
       "<div>\n",
       "<style scoped>\n",
       "    .dataframe tbody tr th:only-of-type {\n",
       "        vertical-align: middle;\n",
       "    }\n",
       "\n",
       "    .dataframe tbody tr th {\n",
       "        vertical-align: top;\n",
       "    }\n",
       "\n",
       "    .dataframe thead th {\n",
       "        text-align: right;\n",
       "    }\n",
       "</style>\n",
       "<table border=\"1\" class=\"dataframe\">\n",
       "  <thead>\n",
       "    <tr style=\"text-align: right;\">\n",
       "      <th>특성</th>\n",
       "      <th>지역</th>\n",
       "      <th>2015</th>\n",
       "      <th>2010</th>\n",
       "      <th>2005</th>\n",
       "      <th>2000</th>\n",
       "      <th>2010-2015 증가율</th>\n",
       "    </tr>\n",
       "    <tr>\n",
       "      <th>도시</th>\n",
       "      <th></th>\n",
       "      <th></th>\n",
       "      <th></th>\n",
       "      <th></th>\n",
       "      <th></th>\n",
       "      <th></th>\n",
       "    </tr>\n",
       "  </thead>\n",
       "  <tbody>\n",
       "    <tr>\n",
       "      <th>서울</th>\n",
       "      <td>수도권</td>\n",
       "      <td>9904312</td>\n",
       "      <td>9631482</td>\n",
       "      <td>9762546</td>\n",
       "      <td>9853972</td>\n",
       "      <td>0.0283</td>\n",
       "    </tr>\n",
       "    <tr>\n",
       "      <th>부산</th>\n",
       "      <td>경상권</td>\n",
       "      <td>3448737</td>\n",
       "      <td>3393191</td>\n",
       "      <td>3512547</td>\n",
       "      <td>3655437</td>\n",
       "      <td>0.0163</td>\n",
       "    </tr>\n",
       "    <tr>\n",
       "      <th>인천</th>\n",
       "      <td>수도권</td>\n",
       "      <td>2890451</td>\n",
       "      <td>2632035</td>\n",
       "      <td>2517680</td>\n",
       "      <td>2466338</td>\n",
       "      <td>0.0982</td>\n",
       "    </tr>\n",
       "    <tr>\n",
       "      <th>대구</th>\n",
       "      <td>경상권</td>\n",
       "      <td>2466052</td>\n",
       "      <td>2431774</td>\n",
       "      <td>2456016</td>\n",
       "      <td>2473990</td>\n",
       "      <td>0.0141</td>\n",
       "    </tr>\n",
       "  </tbody>\n",
       "</table>\n",
       "</div>"
      ],
      "text/plain": [
       "특성   지역     2015     2010     2005     2000  2010-2015 증가율\n",
       "도시                                                        \n",
       "서울  수도권  9904312  9631482  9762546  9853972         0.0283\n",
       "부산  경상권  3448737  3393191  3512547  3655437         0.0163\n",
       "인천  수도권  2890451  2632035  2517680  2466338         0.0982\n",
       "대구  경상권  2466052  2431774  2456016  2473990         0.0141"
      ]
     },
     "execution_count": 49,
     "metadata": {},
     "output_type": "execute_result"
    }
   ],
   "source": [
    "df\n"
   ]
  },
  {
   "cell_type": "code",
   "execution_count": 66,
   "id": "9276476c-8525-4b6a-bcfb-4acf2e11a281",
   "metadata": {},
   "outputs": [
    {
     "data": {
      "text/html": [
       "<div>\n",
       "<style scoped>\n",
       "    .dataframe tbody tr th:only-of-type {\n",
       "        vertical-align: middle;\n",
       "    }\n",
       "\n",
       "    .dataframe tbody tr th {\n",
       "        vertical-align: top;\n",
       "    }\n",
       "\n",
       "    .dataframe thead th {\n",
       "        text-align: right;\n",
       "    }\n",
       "</style>\n",
       "<table border=\"1\" class=\"dataframe\">\n",
       "  <thead>\n",
       "    <tr style=\"text-align: right;\">\n",
       "      <th>Summary</th>\n",
       "      <th>Special Color</th>\n",
       "      <th>Display Size</th>\n",
       "      <th>Running Time</th>\n",
       "      <th>Bionic Chip</th>\n",
       "    </tr>\n",
       "  </thead>\n",
       "  <tbody>\n",
       "    <tr>\n",
       "      <th>iPhone11Pro</th>\n",
       "      <td>Midnight Green</td>\n",
       "      <td>5.8</td>\n",
       "      <td>18</td>\n",
       "      <td>A13</td>\n",
       "    </tr>\n",
       "    <tr>\n",
       "      <th>iPhone12Pro</th>\n",
       "      <td>Pacific Blue</td>\n",
       "      <td>6.1</td>\n",
       "      <td>17</td>\n",
       "      <td>A14</td>\n",
       "    </tr>\n",
       "    <tr>\n",
       "      <th>iPhone13Pro</th>\n",
       "      <td>Alpine Green</td>\n",
       "      <td>6.1</td>\n",
       "      <td>22</td>\n",
       "      <td>A15</td>\n",
       "    </tr>\n",
       "    <tr>\n",
       "      <th>iPhone14Pro</th>\n",
       "      <td>Deep Purple</td>\n",
       "      <td>6.1</td>\n",
       "      <td>23</td>\n",
       "      <td>A16</td>\n",
       "    </tr>\n",
       "  </tbody>\n",
       "</table>\n",
       "</div>"
      ],
      "text/plain": [
       "Summary       Special Color  Display Size  Running Time Bionic Chip\n",
       "iPhone11Pro  Midnight Green           5.8            18         A13\n",
       "iPhone12Pro    Pacific Blue           6.1            17         A14\n",
       "iPhone13Pro    Alpine Green           6.1            22         A15\n",
       "iPhone14Pro     Deep Purple           6.1            23         A16"
      ]
     },
     "execution_count": 66,
     "metadata": {},
     "output_type": "execute_result"
    }
   ],
   "source": [
    "data = {\n",
    "    \"Special Color\":['Midnight Green','Pacific Blue', 'Alpine Green', 'Deep Purple' ],\n",
    "    \"Display Size\":[5.8, 6.1, 6.1, 6.1 ],\n",
    "    \"Running Time\":[18, 17, 22, 23 ],\n",
    "    \"Bionic Chip\": ['A13', 'A14', 'A15', 'A16' ]\n",
    "}\n",
    "\n",
    "index = ['iPhone11Pro', 'iPhone12Pro', 'iPhone13Pro', 'iPhone14Pro']\n",
    "\n",
    "iPhone = pd.DataFrame(data = data, index = index)\n",
    "iPhone.columns.name = 'Summary'\n",
    "iPhone\n",
    "    "
   ]
  },
  {
   "cell_type": "code",
   "execution_count": 53,
   "id": "d1073bda-37f4-443e-9269-5598a26ea5ca",
   "metadata": {},
   "outputs": [
    {
     "data": {
      "text/plain": [
       "Summary\n",
       "Special Color     object\n",
       "Display Size     float64\n",
       "Running Time       int64\n",
       "Bionic Chip       object\n",
       "dtype: object"
      ]
     },
     "execution_count": 53,
     "metadata": {},
     "output_type": "execute_result"
    }
   ],
   "source": [
    "iPhone.dtypes "
   ]
  },
  {
   "cell_type": "code",
   "execution_count": 58,
   "id": "6dd590a0-cdaa-4b1a-8391-b65b1598f1bc",
   "metadata": {},
   "outputs": [],
   "source": [
    "#주현주현 왜 나랑 안 노라죠\n",
    "#나랑 노라죠\n",
    "#공부 하지뭬\n",
    "#난 내일 늦게 와\n",
    "#한번 상담사분깨 물어볼게\n",
    "#히히히히히히히"
   ]
  },
  {
   "cell_type": "code",
   "execution_count": 67,
   "id": "0692f468-a4be-426b-8cce-57295f3e2d08",
   "metadata": {},
   "outputs": [],
   "source": [
    "# dataFrame 추가, 갱신, 삭제\n",
    "\n",
    "# 열 추가 ( inch *25.4 = mm )\n",
    "iPhone ['Display Size(mm)'] = iPhone['Display Size']*25.4"
   ]
  },
  {
   "cell_type": "code",
   "execution_count": 68,
   "id": "82163ffd-76a8-4f66-ba42-ae2faaf9e414",
   "metadata": {},
   "outputs": [],
   "source": [
    "# 열 갱신\n",
    "# iPhone['Display Size'] = ['5.8 inch', '6.1 inch', '6.1 inch', '6.1 inch']\n",
    "\n",
    "del iPhone['Bionic Chip']"
   ]
  },
  {
   "cell_type": "code",
   "execution_count": 69,
   "id": "b5f2d942-0fb5-40ea-8b86-a62c6db4bfa8",
   "metadata": {},
   "outputs": [
    {
     "data": {
      "text/html": [
       "<div>\n",
       "<style scoped>\n",
       "    .dataframe tbody tr th:only-of-type {\n",
       "        vertical-align: middle;\n",
       "    }\n",
       "\n",
       "    .dataframe tbody tr th {\n",
       "        vertical-align: top;\n",
       "    }\n",
       "\n",
       "    .dataframe thead th {\n",
       "        text-align: right;\n",
       "    }\n",
       "</style>\n",
       "<table border=\"1\" class=\"dataframe\">\n",
       "  <thead>\n",
       "    <tr style=\"text-align: right;\">\n",
       "      <th>Summary</th>\n",
       "      <th>Special Color</th>\n",
       "      <th>Display Size</th>\n",
       "      <th>Running Time</th>\n",
       "      <th>Display Size(mm)</th>\n",
       "    </tr>\n",
       "  </thead>\n",
       "  <tbody>\n",
       "    <tr>\n",
       "      <th>iPhone11Pro</th>\n",
       "      <td>Midnight Green</td>\n",
       "      <td>5.8</td>\n",
       "      <td>18</td>\n",
       "      <td>147.32</td>\n",
       "    </tr>\n",
       "    <tr>\n",
       "      <th>iPhone12Pro</th>\n",
       "      <td>Pacific Blue</td>\n",
       "      <td>6.1</td>\n",
       "      <td>17</td>\n",
       "      <td>154.94</td>\n",
       "    </tr>\n",
       "    <tr>\n",
       "      <th>iPhone13Pro</th>\n",
       "      <td>Alpine Green</td>\n",
       "      <td>6.1</td>\n",
       "      <td>22</td>\n",
       "      <td>154.94</td>\n",
       "    </tr>\n",
       "    <tr>\n",
       "      <th>iPhone14Pro</th>\n",
       "      <td>Deep Purple</td>\n",
       "      <td>6.1</td>\n",
       "      <td>23</td>\n",
       "      <td>154.94</td>\n",
       "    </tr>\n",
       "  </tbody>\n",
       "</table>\n",
       "</div>"
      ],
      "text/plain": [
       "Summary       Special Color  Display Size  Running Time  Display Size(mm)\n",
       "iPhone11Pro  Midnight Green           5.8            18            147.32\n",
       "iPhone12Pro    Pacific Blue           6.1            17            154.94\n",
       "iPhone13Pro    Alpine Green           6.1            22            154.94\n",
       "iPhone14Pro     Deep Purple           6.1            23            154.94"
      ]
     },
     "execution_count": 69,
     "metadata": {},
     "output_type": "execute_result"
    }
   ],
   "source": [
    "iPhone"
   ]
  },
  {
   "cell_type": "code",
   "execution_count": 79,
   "id": "5ff0703b-c8b6-47e5-a32b-f57b8b0221e1",
   "metadata": {},
   "outputs": [],
   "source": [
    "#열 다시 추가\n",
    "iPhone[\"Bionic Chip\"] = ['A13', 'A14', 'A15', 'A16' ]  #같은 문자열"
   ]
  },
  {
   "cell_type": "code",
   "execution_count": 80,
   "id": "54b7e7dd-50bb-4a18-8701-745dbb3baef3",
   "metadata": {},
   "outputs": [
    {
     "data": {
      "text/html": [
       "<div>\n",
       "<style scoped>\n",
       "    .dataframe tbody tr th:only-of-type {\n",
       "        vertical-align: middle;\n",
       "    }\n",
       "\n",
       "    .dataframe tbody tr th {\n",
       "        vertical-align: top;\n",
       "    }\n",
       "\n",
       "    .dataframe thead th {\n",
       "        text-align: right;\n",
       "    }\n",
       "</style>\n",
       "<table border=\"1\" class=\"dataframe\">\n",
       "  <thead>\n",
       "    <tr style=\"text-align: right;\">\n",
       "      <th>Summary</th>\n",
       "      <th>Special Color</th>\n",
       "      <th>Display Size</th>\n",
       "      <th>Running Time</th>\n",
       "      <th>Display Size(mm)</th>\n",
       "      <th>Bionic Chip</th>\n",
       "    </tr>\n",
       "  </thead>\n",
       "  <tbody>\n",
       "    <tr>\n",
       "      <th>iPhone11Pro</th>\n",
       "      <td>Midnight Green</td>\n",
       "      <td>5.8</td>\n",
       "      <td>18</td>\n",
       "      <td>147.32</td>\n",
       "      <td>A13</td>\n",
       "    </tr>\n",
       "    <tr>\n",
       "      <th>iPhone12Pro</th>\n",
       "      <td>Pacific Blue</td>\n",
       "      <td>6.1</td>\n",
       "      <td>17</td>\n",
       "      <td>154.94</td>\n",
       "      <td>A14</td>\n",
       "    </tr>\n",
       "    <tr>\n",
       "      <th>iPhone13Pro</th>\n",
       "      <td>Alpine Green</td>\n",
       "      <td>6.1</td>\n",
       "      <td>22</td>\n",
       "      <td>154.94</td>\n",
       "      <td>A15</td>\n",
       "    </tr>\n",
       "    <tr>\n",
       "      <th>iPhone14Pro</th>\n",
       "      <td>Deep Purple</td>\n",
       "      <td>6.1</td>\n",
       "      <td>23</td>\n",
       "      <td>154.94</td>\n",
       "      <td>A16</td>\n",
       "    </tr>\n",
       "  </tbody>\n",
       "</table>\n",
       "</div>"
      ],
      "text/plain": [
       "Summary       Special Color  Display Size  Running Time  Display Size(mm)  \\\n",
       "iPhone11Pro  Midnight Green           5.8            18            147.32   \n",
       "iPhone12Pro    Pacific Blue           6.1            17            154.94   \n",
       "iPhone13Pro    Alpine Green           6.1            22            154.94   \n",
       "iPhone14Pro     Deep Purple           6.1            23            154.94   \n",
       "\n",
       "Summary     Bionic Chip  \n",
       "iPhone11Pro         A13  \n",
       "iPhone12Pro         A14  \n",
       "iPhone13Pro         A15  \n",
       "iPhone14Pro         A16  "
      ]
     },
     "execution_count": 80,
     "metadata": {},
     "output_type": "execute_result"
    }
   ],
   "source": [
    "iPhone"
   ]
  },
  {
   "cell_type": "code",
   "execution_count": 81,
   "id": "db639bdc-ebcf-4c00-b6ab-49a1b73088d8",
   "metadata": {},
   "outputs": [
    {
     "data": {
      "text/plain": [
       "iPhone11Pro    Midnight Green\n",
       "iPhone12Pro      Pacific Blue\n",
       "iPhone13Pro      Alpine Green\n",
       "iPhone14Pro       Deep Purple\n",
       "Name: Special Color, dtype: object"
      ]
     },
     "execution_count": 81,
     "metadata": {},
     "output_type": "execute_result"
    }
   ],
   "source": [
    "iPhone['Special Color']  # index도 시리즈 객체로 같이 반환된당"
   ]
  },
  {
   "cell_type": "code",
   "execution_count": 85,
   "id": "d63ff4cb-0848-4f6a-be72-89c12b09eddd",
   "metadata": {},
   "outputs": [
    {
     "data": {
      "text/html": [
       "<div>\n",
       "<style scoped>\n",
       "    .dataframe tbody tr th:only-of-type {\n",
       "        vertical-align: middle;\n",
       "    }\n",
       "\n",
       "    .dataframe tbody tr th {\n",
       "        vertical-align: top;\n",
       "    }\n",
       "\n",
       "    .dataframe thead th {\n",
       "        text-align: right;\n",
       "    }\n",
       "</style>\n",
       "<table border=\"1\" class=\"dataframe\">\n",
       "  <thead>\n",
       "    <tr style=\"text-align: right;\">\n",
       "      <th>Summary</th>\n",
       "      <th>Special Color</th>\n",
       "    </tr>\n",
       "  </thead>\n",
       "  <tbody>\n",
       "    <tr>\n",
       "      <th>iPhone11Pro</th>\n",
       "      <td>Midnight Green</td>\n",
       "    </tr>\n",
       "    <tr>\n",
       "      <th>iPhone12Pro</th>\n",
       "      <td>Pacific Blue</td>\n",
       "    </tr>\n",
       "    <tr>\n",
       "      <th>iPhone13Pro</th>\n",
       "      <td>Alpine Green</td>\n",
       "    </tr>\n",
       "    <tr>\n",
       "      <th>iPhone14Pro</th>\n",
       "      <td>Deep Purple</td>\n",
       "    </tr>\n",
       "  </tbody>\n",
       "</table>\n",
       "</div>"
      ],
      "text/plain": [
       "Summary       Special Color\n",
       "iPhone11Pro  Midnight Green\n",
       "iPhone12Pro    Pacific Blue\n",
       "iPhone13Pro    Alpine Green\n",
       "iPhone14Pro     Deep Purple"
      ]
     },
     "execution_count": 85,
     "metadata": {},
     "output_type": "execute_result"
    }
   ],
   "source": [
    "iPhone[['Special Color'] ]  #dataframe 방식으로 반환하기"
   ]
  },
  {
   "cell_type": "code",
   "execution_count": null,
   "id": "9845761b-cf9d-4525-955f-c994bb52c740",
   "metadata": {},
   "outputs": [],
   "source": [
    "#문자열 label일 때는 정수 index사용불가능.\n",
    "#key Error 발생함\n",
    "\n",
    "iPhone[0]\n",
    "\n",
    "#문자열 label 아니고 기본 정수형 column index를 가지는 경우에는 index 값으로 정수 사용 가능"
   ]
  },
  {
   "cell_type": "code",
   "execution_count": 88,
   "id": "1fde006c-5557-474e-bfb6-62f8de2673eb",
   "metadata": {},
   "outputs": [
    {
     "name": "stdout",
     "output_type": "stream",
     "text": [
      "   0  1   2   3\n",
      "0  0  1   2   3\n",
      "1  4  5   6   7\n",
      "2  8  9  10  11 \n",
      "\n",
      "0     2\n",
      "1     6\n",
      "2    10\n",
      "Name: 2, dtype: int32\n"
     ]
    }
   ],
   "source": [
    "df2 = pd.DataFrame(np.arange(12).reshape(3, 4))\n",
    "print(df2, '\\n')\n",
    "print(df2[2])"
   ]
  },
  {
   "cell_type": "code",
   "execution_count": 90,
   "id": "3fb2e526-a695-4e87-8267-2640dc0da3a3",
   "metadata": {},
   "outputs": [
    {
     "data": {
      "text/plain": [
       "'Alpine Green'"
      ]
     },
     "execution_count": 90,
     "metadata": {},
     "output_type": "execute_result"
    }
   ],
   "source": [
    "#iPhone['iPhone13Pro'] row 단위로 인덱싱 못 함.\n",
    "#column으로 먼저 접근 후 row로 도려내기는 가능\n",
    "iPhone['Special Color']['iPhone13Pro']\n",
    "# 나중에 나오는 at을 더 많이 사용함"
   ]
  },
  {
   "cell_type": "code",
   "execution_count": 92,
   "id": "accbd5cf-717d-44fa-a3a5-0cdf4a41913a",
   "metadata": {},
   "outputs": [
    {
     "data": {
      "text/html": [
       "<div>\n",
       "<style scoped>\n",
       "    .dataframe tbody tr th:only-of-type {\n",
       "        vertical-align: middle;\n",
       "    }\n",
       "\n",
       "    .dataframe tbody tr th {\n",
       "        vertical-align: top;\n",
       "    }\n",
       "\n",
       "    .dataframe thead th {\n",
       "        text-align: right;\n",
       "    }\n",
       "</style>\n",
       "<table border=\"1\" class=\"dataframe\">\n",
       "  <thead>\n",
       "    <tr style=\"text-align: right;\">\n",
       "      <th></th>\n",
       "      <th>국어</th>\n",
       "      <th>영어</th>\n",
       "      <th>수학</th>\n",
       "    </tr>\n",
       "  </thead>\n",
       "  <tbody>\n",
       "    <tr>\n",
       "      <th>춘향</th>\n",
       "      <td>80</td>\n",
       "      <td>90</td>\n",
       "      <td>90</td>\n",
       "    </tr>\n",
       "    <tr>\n",
       "      <th>몽룡</th>\n",
       "      <td>90</td>\n",
       "      <td>70</td>\n",
       "      <td>60</td>\n",
       "    </tr>\n",
       "    <tr>\n",
       "      <th>향단</th>\n",
       "      <td>70</td>\n",
       "      <td>60</td>\n",
       "      <td>80</td>\n",
       "    </tr>\n",
       "    <tr>\n",
       "      <th>방자</th>\n",
       "      <td>30</td>\n",
       "      <td>40</td>\n",
       "      <td>70</td>\n",
       "    </tr>\n",
       "  </tbody>\n",
       "</table>\n",
       "</div>"
      ],
      "text/plain": [
       "    국어  영어  수학\n",
       "춘향  80  90  90\n",
       "몽룡  90  70  60\n",
       "향단  70  60  80\n",
       "방자  30  40  70"
      ]
     },
     "execution_count": 92,
     "metadata": {},
     "output_type": "execute_result"
    }
   ],
   "source": [
    "#연습문제\n",
    "\n",
    "data = {\n",
    "    '국어': [80,90,70,30],\n",
    "    '영어': [90,70,60,40],\n",
    "    '수학': [90,60,80,70]\n",
    "}\n",
    "columns = ['국어', '영어', '수학']\n",
    "index = ['춘향', '몽룡', '향단', '방자']\n",
    "df = pd.DataFrame(data, index=index, columns=columns)\n",
    "df"
   ]
  },
  {
   "cell_type": "code",
   "execution_count": 112,
   "id": "7661fdd4-92ac-4bdf-9dee-b33a32729a78",
   "metadata": {},
   "outputs": [
    {
     "data": {
      "text/plain": [
       "춘향    90\n",
       "몽룡    60\n",
       "향단    80\n",
       "방자    70\n",
       "Name: 수학, dtype: int64"
      ]
     },
     "execution_count": 112,
     "metadata": {},
     "output_type": "execute_result"
    }
   ],
   "source": [
    "# 1) 모든 학생의 수학 점수를 Series\n",
    "pd.Series(df['수학'])"
   ]
  },
  {
   "cell_type": "code",
   "execution_count": null,
   "id": "74350ee6-1ca4-411a-a900-83ffc0e6d29c",
   "metadata": {},
   "outputs": [],
   "source": [
    "# 2) 모든 학생의 국어와 영어점수를 데이터 프레임\n",
    "df[['국어','영어']]"
   ]
  },
  {
   "cell_type": "code",
   "execution_count": 103,
   "id": "1f9636ec-c4a0-4fc8-9cf4-505d93f6bb21",
   "metadata": {},
   "outputs": [
    {
     "data": {
      "text/html": [
       "<div>\n",
       "<style scoped>\n",
       "    .dataframe tbody tr th:only-of-type {\n",
       "        vertical-align: middle;\n",
       "    }\n",
       "\n",
       "    .dataframe tbody tr th {\n",
       "        vertical-align: top;\n",
       "    }\n",
       "\n",
       "    .dataframe thead th {\n",
       "        text-align: right;\n",
       "    }\n",
       "</style>\n",
       "<table border=\"1\" class=\"dataframe\">\n",
       "  <thead>\n",
       "    <tr style=\"text-align: right;\">\n",
       "      <th></th>\n",
       "      <th>국어</th>\n",
       "      <th>영어</th>\n",
       "      <th>수학</th>\n",
       "      <th>평균점수</th>\n",
       "    </tr>\n",
       "  </thead>\n",
       "  <tbody>\n",
       "    <tr>\n",
       "      <th>춘향</th>\n",
       "      <td>80</td>\n",
       "      <td>90</td>\n",
       "      <td>90</td>\n",
       "      <td>86.666667</td>\n",
       "    </tr>\n",
       "    <tr>\n",
       "      <th>몽룡</th>\n",
       "      <td>90</td>\n",
       "      <td>70</td>\n",
       "      <td>60</td>\n",
       "      <td>73.333333</td>\n",
       "    </tr>\n",
       "    <tr>\n",
       "      <th>향단</th>\n",
       "      <td>70</td>\n",
       "      <td>60</td>\n",
       "      <td>80</td>\n",
       "      <td>70.000000</td>\n",
       "    </tr>\n",
       "    <tr>\n",
       "      <th>방자</th>\n",
       "      <td>30</td>\n",
       "      <td>40</td>\n",
       "      <td>70</td>\n",
       "      <td>46.666667</td>\n",
       "    </tr>\n",
       "  </tbody>\n",
       "</table>\n",
       "</div>"
      ],
      "text/plain": [
       "    국어  영어  수학       평균점수\n",
       "춘향  80  90  90  86.666667\n",
       "몽룡  90  70  60  73.333333\n",
       "향단  70  60  80  70.000000\n",
       "방자  30  40  70  46.666667"
      ]
     },
     "execution_count": 103,
     "metadata": {},
     "output_type": "execute_result"
    }
   ],
   "source": [
    "#3) 모든 학생, 각 과목 평균 점수를 새로운 열로 추가\n",
    "avg =[]\n",
    "\n",
    "for i in index:\n",
    "    sumv = 0\n",
    "    for c in columns:\n",
    "        sumv += df[c][i]\n",
    "    avg.append(sumv/3)\n",
    "df['평균점수'] = avg\n",
    "df"
   ]
  },
  {
   "cell_type": "code",
   "execution_count": 128,
   "id": "2aa4890d-db0c-4edb-be08-721e4fef97ff",
   "metadata": {},
   "outputs": [
    {
     "data": {
      "text/html": [
       "<div>\n",
       "<style scoped>\n",
       "    .dataframe tbody tr th:only-of-type {\n",
       "        vertical-align: middle;\n",
       "    }\n",
       "\n",
       "    .dataframe tbody tr th {\n",
       "        vertical-align: top;\n",
       "    }\n",
       "\n",
       "    .dataframe thead th {\n",
       "        text-align: right;\n",
       "    }\n",
       "</style>\n",
       "<table border=\"1\" class=\"dataframe\">\n",
       "  <thead>\n",
       "    <tr style=\"text-align: right;\">\n",
       "      <th></th>\n",
       "      <th>국어</th>\n",
       "      <th>영어</th>\n",
       "      <th>수학</th>\n",
       "      <th>평균점수</th>\n",
       "      <th>평균</th>\n",
       "    </tr>\n",
       "  </thead>\n",
       "  <tbody>\n",
       "    <tr>\n",
       "      <th>춘향</th>\n",
       "      <td>80</td>\n",
       "      <td>90</td>\n",
       "      <td>90</td>\n",
       "      <td>86.666667</td>\n",
       "      <td>86.67</td>\n",
       "    </tr>\n",
       "    <tr>\n",
       "      <th>몽룡</th>\n",
       "      <td>90</td>\n",
       "      <td>70</td>\n",
       "      <td>60</td>\n",
       "      <td>73.333333</td>\n",
       "      <td>73.33</td>\n",
       "    </tr>\n",
       "    <tr>\n",
       "      <th>향단</th>\n",
       "      <td>70</td>\n",
       "      <td>60</td>\n",
       "      <td>80</td>\n",
       "      <td>70.000000</td>\n",
       "      <td>70.00</td>\n",
       "    </tr>\n",
       "    <tr>\n",
       "      <th>방자</th>\n",
       "      <td>30</td>\n",
       "      <td>40</td>\n",
       "      <td>70</td>\n",
       "      <td>46.666667</td>\n",
       "      <td>46.67</td>\n",
       "    </tr>\n",
       "  </tbody>\n",
       "</table>\n",
       "</div>"
      ],
      "text/plain": [
       "    국어  영어  수학       평균점수     평균\n",
       "춘향  80  90  90  86.666667  86.67\n",
       "몽룡  90  70  60  73.333333  73.33\n",
       "향단  70  60  80  70.000000  70.00\n",
       "방자  30  40  70  46.666667  46.67"
      ]
     },
     "execution_count": 128,
     "metadata": {},
     "output_type": "execute_result"
    }
   ],
   "source": [
    "df['평균'] = round((df['국어']+df['영어']+df['수학'])/3, 2)\n",
    "df"
   ]
  },
  {
   "cell_type": "code",
   "execution_count": 122,
   "id": "a6fb1c90-b7ba-4a13-8953-53919f19671d",
   "metadata": {},
   "outputs": [
    {
     "data": {
      "text/html": [
       "<div>\n",
       "<style scoped>\n",
       "    .dataframe tbody tr th:only-of-type {\n",
       "        vertical-align: middle;\n",
       "    }\n",
       "\n",
       "    .dataframe tbody tr th {\n",
       "        vertical-align: top;\n",
       "    }\n",
       "\n",
       "    .dataframe thead th {\n",
       "        text-align: right;\n",
       "    }\n",
       "</style>\n",
       "<table border=\"1\" class=\"dataframe\">\n",
       "  <thead>\n",
       "    <tr style=\"text-align: right;\">\n",
       "      <th></th>\n",
       "      <th>춘향의 점수</th>\n",
       "    </tr>\n",
       "  </thead>\n",
       "  <tbody>\n",
       "    <tr>\n",
       "      <th>국어</th>\n",
       "      <td>80</td>\n",
       "    </tr>\n",
       "    <tr>\n",
       "      <th>영어</th>\n",
       "      <td>90</td>\n",
       "    </tr>\n",
       "    <tr>\n",
       "      <th>수학</th>\n",
       "      <td>90</td>\n",
       "    </tr>\n",
       "  </tbody>\n",
       "</table>\n",
       "</div>"
      ],
      "text/plain": [
       "    춘향의 점수\n",
       "국어      80\n",
       "영어      90\n",
       "수학      90"
      ]
     },
     "execution_count": 122,
     "metadata": {},
     "output_type": "execute_result"
    }
   ],
   "source": [
    "# 4) 춘향의 점수를 DataFrame\n",
    "ch = pd.DataFrame(data = [df['국어']['춘향'], df['영어']['춘향'], df['수학']['춘향']],\n",
    "                  index = columns, columns = ['춘향의 점수'] )\n",
    "\n",
    "#ch = pd.DataFrame(data=df[[df[_]['춘향'] for _ in columns]], columns = ['춘향의 점수'] )\n",
    "ch"
   ]
  },
  {
   "cell_type": "code",
   "execution_count": 126,
   "id": "ba61815c-90e2-48e9-9dcd-e339263d1559",
   "metadata": {},
   "outputs": [
    {
     "data": {
      "text/html": [
       "<div>\n",
       "<style scoped>\n",
       "    .dataframe tbody tr th:only-of-type {\n",
       "        vertical-align: middle;\n",
       "    }\n",
       "\n",
       "    .dataframe tbody tr th {\n",
       "        vertical-align: top;\n",
       "    }\n",
       "\n",
       "    .dataframe thead th {\n",
       "        text-align: right;\n",
       "    }\n",
       "</style>\n",
       "<table border=\"1\" class=\"dataframe\">\n",
       "  <thead>\n",
       "    <tr style=\"text-align: right;\">\n",
       "      <th></th>\n",
       "      <th>춘향</th>\n",
       "    </tr>\n",
       "  </thead>\n",
       "  <tbody>\n",
       "    <tr>\n",
       "      <th>국어</th>\n",
       "      <td>80.000000</td>\n",
       "    </tr>\n",
       "    <tr>\n",
       "      <th>영어</th>\n",
       "      <td>90.000000</td>\n",
       "    </tr>\n",
       "    <tr>\n",
       "      <th>수학</th>\n",
       "      <td>90.000000</td>\n",
       "    </tr>\n",
       "    <tr>\n",
       "      <th>평균점수</th>\n",
       "      <td>86.666667</td>\n",
       "    </tr>\n",
       "  </tbody>\n",
       "</table>\n",
       "</div>"
      ],
      "text/plain": [
       "             춘향\n",
       "국어    80.000000\n",
       "영어    90.000000\n",
       "수학    90.000000\n",
       "평균점수  86.666667"
      ]
     },
     "execution_count": 126,
     "metadata": {},
     "output_type": "execute_result"
    }
   ],
   "source": [
    "df.T[['춘향']] #전치 (Transpose)"
   ]
  },
  {
   "cell_type": "code",
   "execution_count": 130,
   "id": "e0fb5dad-f967-41c9-99e4-6aba97939fb1",
   "metadata": {},
   "outputs": [
    {
     "data": {
      "text/html": [
       "<div>\n",
       "<style scoped>\n",
       "    .dataframe tbody tr th:only-of-type {\n",
       "        vertical-align: middle;\n",
       "    }\n",
       "\n",
       "    .dataframe tbody tr th {\n",
       "        vertical-align: top;\n",
       "    }\n",
       "\n",
       "    .dataframe thead th {\n",
       "        text-align: right;\n",
       "    }\n",
       "</style>\n",
       "<table border=\"1\" class=\"dataframe\">\n",
       "  <thead>\n",
       "    <tr style=\"text-align: right;\">\n",
       "      <th></th>\n",
       "      <th>국어</th>\n",
       "      <th>영어</th>\n",
       "      <th>수학</th>\n",
       "      <th>평균점수</th>\n",
       "      <th>평균</th>\n",
       "    </tr>\n",
       "  </thead>\n",
       "  <tbody>\n",
       "    <tr>\n",
       "      <th>춘향</th>\n",
       "      <td>80</td>\n",
       "      <td>90</td>\n",
       "      <td>90</td>\n",
       "      <td>86.666667</td>\n",
       "      <td>86.67</td>\n",
       "    </tr>\n",
       "  </tbody>\n",
       "</table>\n",
       "</div>"
      ],
      "text/plain": [
       "    국어  영어  수학       평균점수     평균\n",
       "춘향  80  90  90  86.666667  86.67"
      ]
     },
     "execution_count": 130,
     "metadata": {},
     "output_type": "execute_result"
    }
   ],
   "source": [
    "df[:1] #df['춘향':'춘향']"
   ]
  },
  {
   "cell_type": "code",
   "execution_count": 114,
   "id": "2a5c2640-b548-44bf-a0bf-0c98960b594e",
   "metadata": {},
   "outputs": [
    {
     "data": {
      "text/plain": [
       "0    70\n",
       "1    60\n",
       "2    80\n",
       "dtype: int64"
      ]
     },
     "execution_count": 114,
     "metadata": {},
     "output_type": "execute_result"
    }
   ],
   "source": [
    "# 5) 향단의 점수를 Series\n",
    "pd.Series( [df[_]['향단'] for _ in columns])"
   ]
  },
  {
   "cell_type": "code",
   "execution_count": 127,
   "id": "7f241ab4-5611-4ab7-944a-0a1f8fb87b32",
   "metadata": {},
   "outputs": [
    {
     "data": {
      "text/plain": [
       "국어      70.0\n",
       "영어      60.0\n",
       "수학      80.0\n",
       "평균점수    70.0\n",
       "Name: 향단, dtype: float64"
      ]
     },
     "execution_count": 127,
     "metadata": {},
     "output_type": "execute_result"
    }
   ],
   "source": [
    "pd.Series( df.T['향단'] )  #전치 (Transpose)"
   ]
  },
  {
   "cell_type": "code",
   "execution_count": 133,
   "id": "50f5a2c4-cc5e-4fd2-9dab-3131a229efa3",
   "metadata": {},
   "outputs": [
    {
     "data": {
      "text/plain": [
       "국어      70.0\n",
       "영어      60.0\n",
       "수학      80.0\n",
       "평균점수    70.0\n",
       "평균      70.0\n",
       "Name: 향단, dtype: float64"
      ]
     },
     "execution_count": 133,
     "metadata": {},
     "output_type": "execute_result"
    }
   ],
   "source": [
    "df.T['향단'] #Series로 감싸지 않아도 됨 column에 대한 반환값은 자동으로 시리즈~!"
   ]
  },
  {
   "cell_type": "code",
   "execution_count": null,
   "id": "14accf09-dd0e-405c-a68f-967946c72128",
   "metadata": {},
   "outputs": [],
   "source": [
    "# df.loc[index] 로 향단이 가져오면 됨"
   ]
  },
  {
   "cell_type": "code",
   "execution_count": 156,
   "id": "0db080e7-ff3c-493d-a84d-b7147b52fbac",
   "metadata": {},
   "outputs": [
    {
     "data": {
      "text/html": [
       "<div>\n",
       "<style scoped>\n",
       "    .dataframe tbody tr th:only-of-type {\n",
       "        vertical-align: middle;\n",
       "    }\n",
       "\n",
       "    .dataframe tbody tr th {\n",
       "        vertical-align: top;\n",
       "    }\n",
       "\n",
       "    .dataframe thead th {\n",
       "        text-align: right;\n",
       "    }\n",
       "</style>\n",
       "<table border=\"1\" class=\"dataframe\">\n",
       "  <thead>\n",
       "    <tr style=\"text-align: right;\">\n",
       "      <th></th>\n",
       "      <th>A</th>\n",
       "      <th>B</th>\n",
       "      <th>C</th>\n",
       "      <th>D</th>\n",
       "    </tr>\n",
       "  </thead>\n",
       "  <tbody>\n",
       "    <tr>\n",
       "      <th>2013-02-26</th>\n",
       "      <td>1.764052</td>\n",
       "      <td>0.400157</td>\n",
       "      <td>0.978738</td>\n",
       "      <td>2.240893</td>\n",
       "    </tr>\n",
       "    <tr>\n",
       "      <th>2013-02-27</th>\n",
       "      <td>1.867558</td>\n",
       "      <td>-0.977278</td>\n",
       "      <td>0.950088</td>\n",
       "      <td>-0.151357</td>\n",
       "    </tr>\n",
       "    <tr>\n",
       "      <th>2013-02-28</th>\n",
       "      <td>-0.103219</td>\n",
       "      <td>0.410599</td>\n",
       "      <td>0.144044</td>\n",
       "      <td>1.454274</td>\n",
       "    </tr>\n",
       "    <tr>\n",
       "      <th>2013-03-01</th>\n",
       "      <td>0.761038</td>\n",
       "      <td>0.121675</td>\n",
       "      <td>0.443863</td>\n",
       "      <td>0.333674</td>\n",
       "    </tr>\n",
       "    <tr>\n",
       "      <th>2013-03-02</th>\n",
       "      <td>1.494079</td>\n",
       "      <td>-0.205158</td>\n",
       "      <td>0.313068</td>\n",
       "      <td>-0.854096</td>\n",
       "    </tr>\n",
       "    <tr>\n",
       "      <th>2013-03-03</th>\n",
       "      <td>-2.552990</td>\n",
       "      <td>0.653619</td>\n",
       "      <td>0.864436</td>\n",
       "      <td>-0.742165</td>\n",
       "    </tr>\n",
       "  </tbody>\n",
       "</table>\n",
       "</div>"
      ],
      "text/plain": [
       "                   A         B         C         D\n",
       "2013-02-26  1.764052  0.400157  0.978738  2.240893\n",
       "2013-02-27  1.867558 -0.977278  0.950088 -0.151357\n",
       "2013-02-28 -0.103219  0.410599  0.144044  1.454274\n",
       "2013-03-01  0.761038  0.121675  0.443863  0.333674\n",
       "2013-03-02  1.494079 -0.205158  0.313068 -0.854096\n",
       "2013-03-03 -2.552990  0.653619  0.864436 -0.742165"
      ]
     },
     "execution_count": 156,
     "metadata": {},
     "output_type": "execute_result"
    }
   ],
   "source": [
    "#연습문제\n",
    "#다음 DataFrame을 만들어 보세요\n",
    "\"\"\"\n",
    "- 랜덤 시드는 0입니다.\n",
    "- values는 넘파이 서브 패키지 중 random의 randn() 메서드를 사용하세요.\n",
    "- index는 pd.date_range(\"20130226\", periods=날짜수)을 활용하세요.\n",
    "\"\"\"\n",
    "\n",
    "import numpy as np\n",
    "np.random.seed(0)\n",
    "\n",
    "index = pd.date_range(\"20130226\", periods=6)\n",
    "\n",
    "pd.DataFrame( data = np.random.randn(24).reshape(6, 4),\n",
    "             index = index, columns = ['A', 'B', 'C', 'D'] )"
   ]
  },
  {
   "cell_type": "code",
   "execution_count": null,
   "id": "c42c38b6-60bf-4776-b745-3ef2c414713b",
   "metadata": {},
   "outputs": [],
   "source": []
  }
 ],
 "metadata": {
  "kernelspec": {
   "display_name": "Python 3 (ipykernel)",
   "language": "python",
   "name": "python3"
  },
  "language_info": {
   "codemirror_mode": {
    "name": "ipython",
    "version": 3
   },
   "file_extension": ".py",
   "mimetype": "text/x-python",
   "name": "python",
   "nbconvert_exporter": "python",
   "pygments_lexer": "ipython3",
   "version": "3.9.13"
  },
  "widgets": {
   "application/vnd.jupyter.widget-state+json": {
    "state": {},
    "version_major": 2,
    "version_minor": 0
   }
  }
 },
 "nbformat": 4,
 "nbformat_minor": 5
}
