{
 "cells": [
  {
   "cell_type": "code",
   "execution_count": 1,
   "id": "627ce3e4-67df-4a1a-b569-5b205df1f62c",
   "metadata": {},
   "outputs": [],
   "source": [
    "import pandas as pd\n",
    "import numpy as np"
   ]
  },
  {
   "cell_type": "code",
   "execution_count": 3,
   "id": "b6da9ea3-ef69-40f2-be7e-a1a6ad97891e",
   "metadata": {},
   "outputs": [
    {
     "data": {
      "text/plain": [
       "1    하나\n",
       "2     둘\n",
       "3     셋\n",
       "4     넷\n",
       "5    다섯\n",
       "dtype: object"
      ]
     },
     "execution_count": 3,
     "metadata": {},
     "output_type": "execute_result"
    }
   ],
   "source": [
    "# Series 객체를 생성할 때 pd.Series()\n",
    "\n",
    "series = pd.Series(['하나', '둘', '셋', '넷', '다섯'],\n",
    "                    index = [ _ for _ in range(1,6)])\n",
    "\n",
    "series"
   ]
  },
  {
   "cell_type": "code",
   "execution_count": 4,
   "id": "86fe32e6-cd0d-4023-b906-2dcbfae50eab",
   "metadata": {},
   "outputs": [
    {
     "data": {
      "text/plain": [
       "0    10\n",
       "1    20\n",
       "2    30\n",
       "3    40\n",
       "4    50\n",
       "5    60\n",
       "6    70\n",
       "7    80\n",
       "8    90\n",
       "dtype: int64"
      ]
     },
     "execution_count": 4,
     "metadata": {},
     "output_type": "execute_result"
    }
   ],
   "source": [
    "#10에서 90까지 값을 갖는 Series 생성\n",
    "#rangeIndex 사용\n",
    "\n",
    "s = pd.Series([ _ for _ in range(10,100,10)])\n",
    "s\n",
    "\n",
    "# pd.Series(list(range(10,100,10)))  <이렇게합시다...:)"
   ]
  },
  {
   "cell_type": "code",
   "execution_count": 5,
   "id": "2fccfbe0-ec47-48ef-b822-5cdae6dc78da",
   "metadata": {},
   "outputs": [
    {
     "data": {
      "text/plain": [
       "서울    9904312\n",
       "부산    3448737\n",
       "인천    2890451\n",
       "대구    2466052\n",
       "dtype: int64"
      ]
     },
     "execution_count": 5,
     "metadata": {},
     "output_type": "execute_result"
    }
   ],
   "source": [
    "# 각 도시의 2015년 인구 데이터를 series로 만들기~\n",
    "# 읽기 쉽게 하기 위해 콤마로 3자리씩 끊어 표기하는 법 _로!\n",
    "\n",
    "s = pd.Series( [9_904_312, 3_448_737, 2_890_451, 2_466_052],\n",
    "              index=['서울', '부산', '인천', '대구'])\n",
    "s"
   ]
  },
  {
   "cell_type": "code",
   "execution_count": 6,
   "id": "500d59de-19dc-49bf-bce7-739328201e87",
   "metadata": {},
   "outputs": [
    {
     "data": {
      "text/plain": [
       "0    10\n",
       "1    11\n",
       "2    12\n",
       "3    13\n",
       "dtype: int64"
      ]
     },
     "execution_count": 6,
     "metadata": {},
     "output_type": "execute_result"
    }
   ],
   "source": [
    "pd.Series(range(10,14))\n",
    "\n",
    "#index와 value의 개수는 동일해야 함.\n",
    "#index를 지정하지 않으면 0부터 시작하는 정수 값(rangeIndex)"
   ]
  },
  {
   "cell_type": "code",
   "execution_count": 7,
   "id": "e6f86862-f16c-4c96-b88f-a32ecb46646e",
   "metadata": {},
   "outputs": [
    {
     "name": "stdout",
     "output_type": "stream",
     "text": [
      "[9904312 3448737 2890451 2466052]\n"
     ]
    },
    {
     "data": {
      "text/plain": [
       "4"
      ]
     },
     "execution_count": 7,
     "metadata": {},
     "output_type": "execute_result"
    }
   ],
   "source": [
    "# 앞서 만든 연습문제의 Series 객체의 값 중 50보다 큰 값의 개수\n",
    "\n",
    "print(s.values)\n",
    "sum(s.values[:]>50) #하하 sum을 하면 되는군요:)"
   ]
  },
  {
   "cell_type": "code",
   "execution_count": 8,
   "id": "fa30e576-f850-445a-aa2f-d19c9f77cc74",
   "metadata": {},
   "outputs": [
    {
     "name": "stdout",
     "output_type": "stream",
     "text": [
      "c    3\n",
      "a    1\n",
      "b    2\n",
      "dtype: int64\n",
      "c     3.0\n",
      "a     1.0\n",
      "b1    NaN\n",
      "dtype: float64\n"
     ]
    }
   ],
   "source": [
    "d = {'a':1, 'b':2, 'c':3}\n",
    "ser = pd.Series(data=d, index=['c','a','b'])  #index 순서대로 딕셔너리 위치 바뀜\n",
    "                                        #딕셔너리는 순서가 없는 데이터(비시퀀스)\n",
    "print(ser)\n",
    "\n",
    "ser2 = pd.Series(data=d, index=['c','a','b1']) #없는 키를 입력하면 \n",
    "print(ser2)                                    #Nan 값 뜸"
   ]
  },
  {
   "cell_type": "code",
   "execution_count": 9,
   "id": "774c9d5d-bf96-458d-bb28-060a1341c388",
   "metadata": {},
   "outputs": [
    {
     "data": {
      "text/plain": [
       "철수     88\n",
       "영희     95\n",
       "길동    100\n",
       "몽룡     67\n",
       "dtype: int64"
      ]
     },
     "execution_count": 9,
     "metadata": {},
     "output_type": "execute_result"
    }
   ],
   "source": [
    "#연습문제 이름 index, 점수 values로 하는 series 만들기\n",
    "\n",
    "score = pd.Series([88,95,100,67],\n",
    "                  index=['철수','영희','길동','몽룡'])\n",
    "score"
   ]
  },
  {
   "cell_type": "code",
   "execution_count": 10,
   "id": "631b44c9-4daf-4632-868d-a9cc17060910",
   "metadata": {},
   "outputs": [
    {
     "name": "stdout",
     "output_type": "stream",
     "text": [
      "88\n"
     ]
    },
    {
     "data": {
      "text/plain": [
       "(88, 95, 67)"
      ]
     },
     "execution_count": 10,
     "metadata": {},
     "output_type": "execute_result"
    }
   ],
   "source": [
    "#index를 속성처럼 활용하기\n",
    "print(score.철수)\n",
    "\n",
    "score.철수, score.영희, score.몽룡\n",
    "\n",
    "#가능합니다."
   ]
  },
  {
   "cell_type": "code",
   "execution_count": 11,
   "id": "18cf7c34-7158-4407-997c-5de586496bf7",
   "metadata": {},
   "outputs": [
    {
     "data": {
      "text/plain": [
       "1"
      ]
     },
     "execution_count": 11,
     "metadata": {},
     "output_type": "execute_result"
    }
   ],
   "source": [
    "ser.a"
   ]
  },
  {
   "cell_type": "code",
   "execution_count": 12,
   "id": "ff719025-8c40-48e2-95bd-683902f5271d",
   "metadata": {},
   "outputs": [
    {
     "name": "stdout",
     "output_type": "stream",
     "text": [
      "True \n",
      "\n",
      "서울, 9904312\n",
      "부산, 3448737\n",
      "인천, 2890451\n",
      "대구, 2466052\n"
     ]
    }
   ],
   "source": [
    "#index label을 키(key)로 사용하므로\n",
    "#딕셔너리처럼 in, items() method 사용하며 요소의 키, 값에 접근 가능\n",
    "\n",
    "print('서울' in s, '\\n')\n",
    "\n",
    "for k, v in s.items():\n",
    "    print(f'{k}, {v}')"
   ]
  },
  {
   "cell_type": "code",
   "execution_count": 13,
   "id": "11a9af3a-ddb7-490b-8e58-fbba36615a45",
   "metadata": {},
   "outputs": [
    {
     "name": "stdout",
     "output_type": "stream",
     "text": [
      "0, 영\n",
      "1, 일\n",
      "2, 이\n",
      "3, 삼\n",
      "4, 사\n",
      "5, 오\n",
      "6, 육\n",
      "7, 칠\n",
      "8, 팔\n",
      "9, 구\n",
      "\n",
      "\n",
      "영 in test.values():  True\n",
      "서울 in s:  True\n"
     ]
    }
   ],
   "source": [
    "test = dict( zip(range(10), list('영일이삼사오육칠팔구')) )\n",
    "            #zip으로 dict에 키, 값을 넣어줌\n",
    "\n",
    "for k, v in test.items():\n",
    "    print(f'{k}, {v}')    #하나씩 꺼내줍니다\n",
    "    \n",
    "print('\\n')\n",
    "print('영 in test.values(): ', '영' in test.values())\n",
    "print('서울 in s: ', '서울' in s)"
   ]
  },
  {
   "cell_type": "code",
   "execution_count": 14,
   "id": "3683aab8-939c-4158-8e04-ef37819b6d0b",
   "metadata": {},
   "outputs": [
    {
     "name": "stdout",
     "output_type": "stream",
     "text": [
      "서울의 인구는 300만이 넘습니다.\n",
      "부산의 인구는 300만이 넘습니다.\n"
     ]
    }
   ],
   "source": [
    "pop = pd.Series( [9_904_312, 3_448_737, 2_890_451, 2_466_052],\n",
    "              index=['서울', '부산', '인천', '대구'])\n",
    "#population\n",
    "#도시의 인구가 300만이 넘는 곳을 찾아 다음과 같이 출력해보세요.\n",
    "# 서울의 인구는 300만이 넘습니다.\n",
    "# for, items() 사용\n",
    "\n",
    "for a, b in pop.items():\n",
    "    if b>=3000000:\n",
    "        print(f'{a}의 인구는 300만이 넘습니다.')"
   ]
  },
  {
   "cell_type": "code",
   "execution_count": 15,
   "id": "6d4dad8a-3937-46af-86e1-02c87666644c",
   "metadata": {},
   "outputs": [
    {
     "name": "stdout",
     "output_type": "stream",
     "text": [
      "9904312 9904312 \n",
      "\n",
      "인천    2890451\n",
      "대구    2466052\n",
      "부산    3448737\n",
      "dtype: int64 \n",
      "\n",
      "대구    2466052\n",
      "부산    3448737\n",
      "dtype: int64 \n",
      "\n",
      "9904312\n"
     ]
    }
   ],
   "source": [
    "print(pop['서울'], pop[0], '\\n')\n",
    "print(pop[[2, 3, 1]], '\\n')\n",
    "print(pop[['대구', '부산']], '\\n')\n",
    "#pop.0은 안 됨\n",
    "print(pop.서울)"
   ]
  },
  {
   "cell_type": "code",
   "execution_count": 16,
   "id": "254618ea-25bd-4a3f-a1ad-4eb8164ee899",
   "metadata": {},
   "outputs": [
    {
     "data": {
      "text/plain": [
       "인천    2890451\n",
       "dtype: int64"
      ]
     },
     "execution_count": 16,
     "metadata": {},
     "output_type": "execute_result"
    }
   ],
   "source": [
    "#인천의 인덱스와 값을 시리즈로 조회해보세요.\n",
    "pop[['인천']]"
   ]
  },
  {
   "cell_type": "code",
   "execution_count": 17,
   "id": "a0fad390-7f9d-4675-98ae-31ccd3dbc68e",
   "metadata": {},
   "outputs": [
    {
     "name": "stdout",
     "output_type": "stream",
     "text": [
      "서울    9904312\n",
      "부산    3448737\n",
      "인천    2890451\n",
      "대구    2466052\n",
      "dtype: int64 \n",
      "\n",
      "부산    3448737\n",
      "인천    2890451\n",
      "dtype: int64 \n",
      "\n",
      "부산    3448737\n",
      "인천    2890451\n",
      "대구    2466052\n",
      "dtype: int64\n"
     ]
    }
   ],
   "source": [
    "print(pop,'\\n')\n",
    "print(pop[1:3], '\\n')\n",
    "print(pop['부산':'대구'])"
   ]
  },
  {
   "cell_type": "code",
   "execution_count": 18,
   "id": "b4d998ba-7e2f-470a-bcb1-0daf554a4842",
   "metadata": {},
   "outputs": [],
   "source": [
    "#2015년도 인구, 2010년도 인구 비교(증감)\n",
    "#근데 이제 대구 대신 대전을 포함한\n",
    "pop15 = pop\n",
    "pop10 = pd.Series({'서울':9631482, '부산':3393191, '인천':2632035, '대전':1490158})\n",
    "\n",
    "popM = pop15-pop10\n",
    "\n",
    "#계산이 불가능한 데이터는 NaN(Not a Number) 값을 가짐"
   ]
  },
  {
   "cell_type": "code",
   "execution_count": 19,
   "id": "42490e21-bb95-4c38-8562-31add7da04b1",
   "metadata": {},
   "outputs": [
    {
     "data": {
      "text/plain": [
       "대구     True\n",
       "대전     True\n",
       "부산    False\n",
       "서울    False\n",
       "인천    False\n",
       "dtype: bool"
      ]
     },
     "execution_count": 19,
     "metadata": {},
     "output_type": "execute_result"
    }
   ],
   "source": [
    "popM.isnull()\n",
    "#NaN -> True null 값입니다.\n",
    "#값 있으면 False"
   ]
  },
  {
   "cell_type": "code",
   "execution_count": 20,
   "id": "3cf1c415-438f-459b-b793-8f23245835c6",
   "metadata": {},
   "outputs": [
    {
     "data": {
      "text/plain": [
       "대구    False\n",
       "대전    False\n",
       "부산     True\n",
       "서울     True\n",
       "인천     True\n",
       "dtype: bool"
      ]
     },
     "execution_count": 20,
     "metadata": {},
     "output_type": "execute_result"
    }
   ],
   "source": [
    "popM.notnull()\n",
    "#반대~"
   ]
  },
  {
   "cell_type": "code",
   "execution_count": 21,
   "id": "1504276a-b9ae-4511-ad9f-1affa38c2d68",
   "metadata": {},
   "outputs": [
    {
     "name": "stdout",
     "output_type": "stream",
     "text": [
      "대구   NaN\n",
      "대전   NaN\n",
      "dtype: float64 \n",
      "\n",
      "부산     55546.0\n",
      "서울    272830.0\n",
      "인천    258416.0\n",
      "dtype: float64 \n",
      "\n",
      "서울    9904312\n",
      "부산    3448737\n",
      "dtype: int64\n"
     ]
    }
   ],
   "source": [
    "#NaN이 아닌 값만 인덱싱으로 구하기\n",
    "\n",
    "print( popM[ popM.isnull() ], '\\n' )\n",
    "print( popM[ popM.notnull() ], '\\n' )\n",
    "\n",
    "print(pop[ pop>3000000 ] )"
   ]
  },
  {
   "cell_type": "code",
   "execution_count": 22,
   "id": "1dea4dd4-0ae6-4d25-8c87-8bccdb3a57e7",
   "metadata": {},
   "outputs": [
    {
     "data": {
      "text/plain": [
       "부산    1.636984\n",
       "서울    2.832690\n",
       "인천    9.818107\n",
       "dtype: float64"
      ]
     },
     "execution_count": 22,
     "metadata": {},
     "output_type": "execute_result"
    }
   ],
   "source": [
    "#Nan 값을 배제하고 2010년 대비 2015년의 인구 증가율 구하기\n",
    "\n",
    "popP = (pop15 - pop10) / pop10 * 100\n",
    "popP = popP[ popP.notnull() ]    #notnull true인 값만 popP에 추가~\n",
    "popP"
   ]
  },
  {
   "cell_type": "code",
   "execution_count": 23,
   "id": "0b853d20-acd8-445f-b8a7-4796308b56cf",
   "metadata": {},
   "outputs": [
    {
     "data": {
      "text/plain": [
       "서울    272830.0\n",
       "dtype: float64"
      ]
     },
     "execution_count": 23,
     "metadata": {},
     "output_type": "execute_result"
    }
   ],
   "source": [
    "#2010년 대비 2015년 증가량 구하기(NaN값 배제)\n",
    "#인구수 증가가 가장 많은 도시의 이름과 증가한 인구수를 series 객체로 출력\n",
    "\n",
    "popPlus = pop15 - pop10\n",
    "popPlus = popPlus[ popPlus.notnull() ]\n",
    "popPlus[ popPlus == popPlus.max() ]"
   ]
  },
  {
   "cell_type": "code",
   "execution_count": 24,
   "id": "db5079d8-5c55-4135-96a8-50b6d10c23f0",
   "metadata": {},
   "outputs": [
    {
     "data": {
      "text/plain": [
       "서울    272830.0\n",
       "dtype: float64"
      ]
     },
     "execution_count": 24,
     "metadata": {},
     "output_type": "execute_result"
    }
   ],
   "source": [
    "#강사님 답변\n",
    "popPlus = pop15 - pop10\n",
    "popPlus = popPlus[ popPlus.notnull() ]\n",
    "popPlus[[popPlus.values.argmax()]]"
   ]
  },
  {
   "cell_type": "code",
   "execution_count": 25,
   "id": "3b2f1939-afa5-44d4-ac1a-1ae8d91938b8",
   "metadata": {},
   "outputs": [
    {
     "data": {
      "text/plain": [
       "부산    1.63\n",
       "인천    9.82\n",
       "울산    1.03\n",
       "dtype: float64"
      ]
     },
     "execution_count": 25,
     "metadata": {},
     "output_type": "execute_result"
    }
   ],
   "source": [
    "#갱신\n",
    "popP.서울 = 2.83\n",
    "popP['인천'] = 9.82\n",
    "\n",
    "popP['부산':'서울'] = 1.63, 2.83\n",
    "popP['울산'] = 1.03\n",
    "del popP['서울']\n",
    "\n",
    "popP"
   ]
  },
  {
   "cell_type": "code",
   "execution_count": 26,
   "id": "aeca04ff-f744-45aa-b895-3cc884adb90f",
   "metadata": {},
   "outputs": [
    {
     "data": {
      "text/plain": [
       "대구    False\n",
       "대전    False\n",
       "부산     True\n",
       "서울     True\n",
       "인천     True\n",
       "dtype: bool"
      ]
     },
     "execution_count": 26,
     "metadata": {},
     "output_type": "execute_result"
    }
   ],
   "source": [
    "popM.notnull()"
   ]
  },
  {
   "cell_type": "code",
   "execution_count": 27,
   "id": "7f8ca947-3fc3-48d6-8708-8790763bcaf3",
   "metadata": {},
   "outputs": [
    {
     "data": {
      "text/plain": [
       "카카오     60010\n",
       "삼성전자    61000\n",
       "LG전자    90000\n",
       "dtype: int64"
      ]
     },
     "execution_count": 27,
     "metadata": {},
     "output_type": "execute_result"
    }
   ],
   "source": [
    "fin1 = {'카카오': 60010, '삼성전자': 61000, 'LG전자': 90000}\n",
    "fin2_value = [60200, 61200, 200100]\n",
    "fin2_index = ['카카오', '삼성전자', '네이버']\n",
    "\n",
    "ser_finance1 = pd.Series(fin1)\n",
    "ser_finance2 = pd.Series(fin2_value, index = fin2_index )\n",
    "\n",
    "ser_finance1"
   ]
  },
  {
   "cell_type": "code",
   "execution_count": 28,
   "id": "e596a0b8-1b0d-453c-86b5-197092708762",
   "metadata": {},
   "outputs": [
    {
     "data": {
      "text/plain": [
       "카카오      60200\n",
       "삼성전자     61200\n",
       "네이버     200100\n",
       "dtype: int64"
      ]
     },
     "execution_count": 28,
     "metadata": {},
     "output_type": "execute_result"
    }
   ],
   "source": [
    "ser_finance2"
   ]
  },
  {
   "cell_type": "code",
   "execution_count": 29,
   "id": "6fb3ce38-e0e4-488a-b9e7-ee7a4fbd3d67",
   "metadata": {},
   "outputs": [
    {
     "data": {
      "text/plain": [
       "LG전자      NaN\n",
       "네이버       NaN\n",
       "삼성전자   -200.0\n",
       "카카오    -190.0\n",
       "dtype: float64"
      ]
     },
     "execution_count": 29,
     "metadata": {},
     "output_type": "execute_result"
    }
   ],
   "source": [
    "ser_finance1 - ser_finance2"
   ]
  },
  {
   "cell_type": "code",
   "execution_count": 30,
   "id": "e57296f3-edbd-44db-8fc5-791a6c3b0171",
   "metadata": {},
   "outputs": [
    {
     "data": {
      "text/plain": [
       "LG전자         NaN\n",
       "네이버          NaN\n",
       "삼성전자    122200.0\n",
       "카카오     120210.0\n",
       "dtype: float64"
      ]
     },
     "execution_count": 30,
     "metadata": {},
     "output_type": "execute_result"
    }
   ],
   "source": [
    "ser_finance1 + ser_finance2"
   ]
  },
  {
   "cell_type": "code",
   "execution_count": 31,
   "id": "5a22d2e6-a678-4de1-96fa-b5894f84a7ca",
   "metadata": {},
   "outputs": [
    {
     "data": {
      "text/plain": [
       "LG전자             NaN\n",
       "네이버              NaN\n",
       "삼성전자    3.733200e+09\n",
       "카카오     3.612602e+09\n",
       "dtype: float64"
      ]
     },
     "execution_count": 31,
     "metadata": {},
     "output_type": "execute_result"
    }
   ],
   "source": [
    "ser_finance1 * ser_finance2"
   ]
  },
  {
   "cell_type": "code",
   "execution_count": 32,
   "id": "5deaf636-2fb1-4869-9e41-bb1f6c65a8b9",
   "metadata": {},
   "outputs": [
    {
     "data": {
      "text/plain": [
       "LG전자         NaN\n",
       "네이버          NaN\n",
       "삼성전자    0.996732\n",
       "카카오     0.996844\n",
       "dtype: float64"
      ]
     },
     "execution_count": 32,
     "metadata": {},
     "output_type": "execute_result"
    }
   ],
   "source": [
    "ser_finance1 / ser_finance2"
   ]
  },
  {
   "cell_type": "code",
   "execution_count": 41,
   "id": "283d4684-9110-4e46-affb-28cfbd76136c",
   "metadata": {},
   "outputs": [
    {
     "data": {
      "text/plain": [
       "삼성전자   -200.0\n",
       "카카오    -190.0\n",
       "dtype: float64"
      ]
     },
     "execution_count": 41,
     "metadata": {},
     "output_type": "execute_result"
    }
   ],
   "source": [
    "result = ser_finance1 - ser_finance2\n",
    "result[result.notnull()]    #nan 값 빼고 저장하기"
   ]
  },
  {
   "cell_type": "code",
   "execution_count": null,
   "id": "39006f7d-9ae4-4ed4-8d26-9ad9803875ff",
   "metadata": {},
   "outputs": [],
   "source": []
  },
  {
   "cell_type": "code",
   "execution_count": null,
   "id": "55be10f2-5f3c-44db-9f50-e27cc1050fad",
   "metadata": {},
   "outputs": [],
   "source": [
    "pd.DataFrame( data=None, index:'key'=None)"
   ]
  },
  {
   "cell_type": "code",
   "execution_count": 42,
   "id": "3ad880ae-acfc-4b84-b6d4-72b70ea06c0f",
   "metadata": {},
   "outputs": [
    {
     "data": {
      "text/html": [
       "<div>\n",
       "<style scoped>\n",
       "    .dataframe tbody tr th:only-of-type {\n",
       "        vertical-align: middle;\n",
       "    }\n",
       "\n",
       "    .dataframe tbody tr th {\n",
       "        vertical-align: top;\n",
       "    }\n",
       "\n",
       "    .dataframe thead th {\n",
       "        text-align: right;\n",
       "    }\n",
       "</style>\n",
       "<table border=\"1\" class=\"dataframe\">\n",
       "  <thead>\n",
       "    <tr style=\"text-align: right;\">\n",
       "      <th></th>\n",
       "      <th>col1</th>\n",
       "      <th>col2</th>\n",
       "    </tr>\n",
       "  </thead>\n",
       "  <tbody>\n",
       "    <tr>\n",
       "      <th>0</th>\n",
       "      <td>1</td>\n",
       "      <td>3</td>\n",
       "    </tr>\n",
       "    <tr>\n",
       "      <th>1</th>\n",
       "      <td>2</td>\n",
       "      <td>4</td>\n",
       "    </tr>\n",
       "  </tbody>\n",
       "</table>\n",
       "</div>"
      ],
      "text/plain": [
       "   col1  col2\n",
       "0     1     3\n",
       "1     2     4"
      ]
     },
     "execution_count": 42,
     "metadata": {},
     "output_type": "execute_result"
    }
   ],
   "source": [
    "d = {'col1' : [1, 2], 'col2': [3,4] }  #열 이름이 key, 값들이 value\n",
    "df = pd.DataFrame(data=d)\n",
    "df"
   ]
  },
  {
   "cell_type": "code",
   "execution_count": 43,
   "id": "e59e4994-df0f-4167-9e6e-aaa36e1253c1",
   "metadata": {},
   "outputs": [
    {
     "data": {
      "text/html": [
       "<div>\n",
       "<style scoped>\n",
       "    .dataframe tbody tr th:only-of-type {\n",
       "        vertical-align: middle;\n",
       "    }\n",
       "\n",
       "    .dataframe tbody tr th {\n",
       "        vertical-align: top;\n",
       "    }\n",
       "\n",
       "    .dataframe thead th {\n",
       "        text-align: right;\n",
       "    }\n",
       "</style>\n",
       "<table border=\"1\" class=\"dataframe\">\n",
       "  <thead>\n",
       "    <tr style=\"text-align: right;\">\n",
       "      <th></th>\n",
       "      <th>지역</th>\n",
       "      <th>2015</th>\n",
       "      <th>2010</th>\n",
       "      <th>2005</th>\n",
       "      <th>2000</th>\n",
       "      <th>2010-2015 증가율</th>\n",
       "    </tr>\n",
       "  </thead>\n",
       "  <tbody>\n",
       "    <tr>\n",
       "      <th>서울</th>\n",
       "      <td>수도권</td>\n",
       "      <td>9904312</td>\n",
       "      <td>9631482</td>\n",
       "      <td>9762546</td>\n",
       "      <td>9853972</td>\n",
       "      <td>0.0283</td>\n",
       "    </tr>\n",
       "    <tr>\n",
       "      <th>부산</th>\n",
       "      <td>경상권</td>\n",
       "      <td>3448737</td>\n",
       "      <td>3393191</td>\n",
       "      <td>3512547</td>\n",
       "      <td>3655437</td>\n",
       "      <td>0.0163</td>\n",
       "    </tr>\n",
       "    <tr>\n",
       "      <th>인천</th>\n",
       "      <td>수도권</td>\n",
       "      <td>2890451</td>\n",
       "      <td>2632035</td>\n",
       "      <td>2517680</td>\n",
       "      <td>2466338</td>\n",
       "      <td>0.0982</td>\n",
       "    </tr>\n",
       "    <tr>\n",
       "      <th>대구</th>\n",
       "      <td>경상권</td>\n",
       "      <td>2466052</td>\n",
       "      <td>2431774</td>\n",
       "      <td>2456016</td>\n",
       "      <td>2473990</td>\n",
       "      <td>0.0141</td>\n",
       "    </tr>\n",
       "  </tbody>\n",
       "</table>\n",
       "</div>"
      ],
      "text/plain": [
       "     지역     2015     2010     2005     2000  2010-2015 증가율\n",
       "서울  수도권  9904312  9631482  9762546  9853972         0.0283\n",
       "부산  경상권  3448737  3393191  3512547  3655437         0.0163\n",
       "인천  수도권  2890451  2632035  2517680  2466338         0.0982\n",
       "대구  경상권  2466052  2431774  2456016  2473990         0.0141"
      ]
     },
     "execution_count": 43,
     "metadata": {},
     "output_type": "execute_result"
    }
   ],
   "source": [
    "data = {\n",
    "    \"2015\" : [9904312, 3448737, 2890451, 2466052],\n",
    "    \"2010\" : [9631482, 3393191, 2632035, 2431774],\n",
    "    \"2005\" : [9762546, 3512547, 2517680, 2456016],\n",
    "    \"2000\" : [9853972, 3655437, 2466338, 2473990],\n",
    "    \"지역\" : [\"수도권\", \"경상권\", \"수도권\", \"경상권\"],\n",
    "    \"2010-2015 증가율\" :[0.0283, 0.0163, 0.0982, 0.0141]\n",
    "}\n",
    "columns = [\"지역\", \"2015\", \"2010\", \"2005\", \"2000\", \"2010-2015 증가율\"]\n",
    "index = [\"서울\", \"부산\", \"인천\", \"대구\"]\n",
    "df = pd.DataFrame(data, index = index, columns = columns)\n",
    "df"
   ]
  },
  {
   "cell_type": "code",
   "execution_count": 45,
   "id": "3aba8f16-a88a-4280-bfa8-cfcdd073e63a",
   "metadata": {},
   "outputs": [
    {
     "data": {
      "text/plain": [
       "지역                object\n",
       "2015               int64\n",
       "2010               int64\n",
       "2005               int64\n",
       "2000               int64\n",
       "2010-2015 증가율    float64\n",
       "dtype: object"
      ]
     },
     "execution_count": 45,
     "metadata": {},
     "output_type": "execute_result"
    }
   ],
   "source": [
    "# dataFrame 자료형 확인\n",
    "# 각 열 별로 자료형이 다를 수 있다.\n",
    "df.dtypes #dtype이 아닌 dtypes!"
   ]
  },
  {
   "cell_type": "code",
   "execution_count": 46,
   "id": "4e45c06c-acfb-49eb-83b6-ed3ba2ada5c4",
   "metadata": {},
   "outputs": [
    {
     "name": "stdout",
     "output_type": "stream",
     "text": [
      "[['수도권' 9904312 9631482 9762546 9853972 0.0283]\n",
      " ['경상권' 3448737 3393191 3512547 3655437 0.0163]\n",
      " ['수도권' 2890451 2632035 2517680 2466338 0.0982]\n",
      " ['경상권' 2466052 2431774 2456016 2473990 0.0141]] \n",
      "\n",
      "Index(['지역', '2015', '2010', '2005', '2000', '2010-2015 증가율'], dtype='object') \n",
      "\n"
     ]
    },
    {
     "data": {
      "text/plain": [
       "Index(['서울', '부산', '인천', '대구'], dtype='object')"
      ]
     },
     "execution_count": 46,
     "metadata": {},
     "output_type": "execute_result"
    }
   ],
   "source": [
    "print(df.values, '\\n')\n",
    "print(df.columns, '\\n')\n",
    "df.index"
   ]
  },
  {
   "cell_type": "code",
   "execution_count": 50,
   "id": "4c97e533-a65f-4730-9b14-c869130f6dc6",
   "metadata": {},
   "outputs": [],
   "source": [
    "df.index.name = '도시'    #행이름의 그룹이름 \n",
    "df.columns.name = '특성'  #열이름의 그룹이름"
   ]
  },
  {
   "cell_type": "code",
   "execution_count": 49,
   "id": "3514835d-593b-4f5a-9e35-9de5439b4cc2",
   "metadata": {},
   "outputs": [
    {
     "data": {
      "text/html": [
       "<div>\n",
       "<style scoped>\n",
       "    .dataframe tbody tr th:only-of-type {\n",
       "        vertical-align: middle;\n",
       "    }\n",
       "\n",
       "    .dataframe tbody tr th {\n",
       "        vertical-align: top;\n",
       "    }\n",
       "\n",
       "    .dataframe thead th {\n",
       "        text-align: right;\n",
       "    }\n",
       "</style>\n",
       "<table border=\"1\" class=\"dataframe\">\n",
       "  <thead>\n",
       "    <tr style=\"text-align: right;\">\n",
       "      <th>특성</th>\n",
       "      <th>지역</th>\n",
       "      <th>2015</th>\n",
       "      <th>2010</th>\n",
       "      <th>2005</th>\n",
       "      <th>2000</th>\n",
       "      <th>2010-2015 증가율</th>\n",
       "    </tr>\n",
       "    <tr>\n",
       "      <th>도시</th>\n",
       "      <th></th>\n",
       "      <th></th>\n",
       "      <th></th>\n",
       "      <th></th>\n",
       "      <th></th>\n",
       "      <th></th>\n",
       "    </tr>\n",
       "  </thead>\n",
       "  <tbody>\n",
       "    <tr>\n",
       "      <th>서울</th>\n",
       "      <td>수도권</td>\n",
       "      <td>9904312</td>\n",
       "      <td>9631482</td>\n",
       "      <td>9762546</td>\n",
       "      <td>9853972</td>\n",
       "      <td>0.0283</td>\n",
       "    </tr>\n",
       "    <tr>\n",
       "      <th>부산</th>\n",
       "      <td>경상권</td>\n",
       "      <td>3448737</td>\n",
       "      <td>3393191</td>\n",
       "      <td>3512547</td>\n",
       "      <td>3655437</td>\n",
       "      <td>0.0163</td>\n",
       "    </tr>\n",
       "    <tr>\n",
       "      <th>인천</th>\n",
       "      <td>수도권</td>\n",
       "      <td>2890451</td>\n",
       "      <td>2632035</td>\n",
       "      <td>2517680</td>\n",
       "      <td>2466338</td>\n",
       "      <td>0.0982</td>\n",
       "    </tr>\n",
       "    <tr>\n",
       "      <th>대구</th>\n",
       "      <td>경상권</td>\n",
       "      <td>2466052</td>\n",
       "      <td>2431774</td>\n",
       "      <td>2456016</td>\n",
       "      <td>2473990</td>\n",
       "      <td>0.0141</td>\n",
       "    </tr>\n",
       "  </tbody>\n",
       "</table>\n",
       "</div>"
      ],
      "text/plain": [
       "특성   지역     2015     2010     2005     2000  2010-2015 증가율\n",
       "도시                                                        \n",
       "서울  수도권  9904312  9631482  9762546  9853972         0.0283\n",
       "부산  경상권  3448737  3393191  3512547  3655437         0.0163\n",
       "인천  수도권  2890451  2632035  2517680  2466338         0.0982\n",
       "대구  경상권  2466052  2431774  2456016  2473990         0.0141"
      ]
     },
     "execution_count": 49,
     "metadata": {},
     "output_type": "execute_result"
    }
   ],
   "source": [
    "df\n"
   ]
  },
  {
   "cell_type": "code",
   "execution_count": 66,
   "id": "9276476c-8525-4b6a-bcfb-4acf2e11a281",
   "metadata": {},
   "outputs": [
    {
     "data": {
      "text/html": [
       "<div>\n",
       "<style scoped>\n",
       "    .dataframe tbody tr th:only-of-type {\n",
       "        vertical-align: middle;\n",
       "    }\n",
       "\n",
       "    .dataframe tbody tr th {\n",
       "        vertical-align: top;\n",
       "    }\n",
       "\n",
       "    .dataframe thead th {\n",
       "        text-align: right;\n",
       "    }\n",
       "</style>\n",
       "<table border=\"1\" class=\"dataframe\">\n",
       "  <thead>\n",
       "    <tr style=\"text-align: right;\">\n",
       "      <th>Summary</th>\n",
       "      <th>Special Color</th>\n",
       "      <th>Display Size</th>\n",
       "      <th>Running Time</th>\n",
       "      <th>Bionic Chip</th>\n",
       "    </tr>\n",
       "  </thead>\n",
       "  <tbody>\n",
       "    <tr>\n",
       "      <th>iPhone11Pro</th>\n",
       "      <td>Midnight Green</td>\n",
       "      <td>5.8</td>\n",
       "      <td>18</td>\n",
       "      <td>A13</td>\n",
       "    </tr>\n",
       "    <tr>\n",
       "      <th>iPhone12Pro</th>\n",
       "      <td>Pacific Blue</td>\n",
       "      <td>6.1</td>\n",
       "      <td>17</td>\n",
       "      <td>A14</td>\n",
       "    </tr>\n",
       "    <tr>\n",
       "      <th>iPhone13Pro</th>\n",
       "      <td>Alpine Green</td>\n",
       "      <td>6.1</td>\n",
       "      <td>22</td>\n",
       "      <td>A15</td>\n",
       "    </tr>\n",
       "    <tr>\n",
       "      <th>iPhone14Pro</th>\n",
       "      <td>Deep Purple</td>\n",
       "      <td>6.1</td>\n",
       "      <td>23</td>\n",
       "      <td>A16</td>\n",
       "    </tr>\n",
       "  </tbody>\n",
       "</table>\n",
       "</div>"
      ],
      "text/plain": [
       "Summary       Special Color  Display Size  Running Time Bionic Chip\n",
       "iPhone11Pro  Midnight Green           5.8            18         A13\n",
       "iPhone12Pro    Pacific Blue           6.1            17         A14\n",
       "iPhone13Pro    Alpine Green           6.1            22         A15\n",
       "iPhone14Pro     Deep Purple           6.1            23         A16"
      ]
     },
     "execution_count": 66,
     "metadata": {},
     "output_type": "execute_result"
    }
   ],
   "source": [
    "data = {\n",
    "    \"Special Color\":['Midnight Green','Pacific Blue', 'Alpine Green', 'Deep Purple' ],\n",
    "    \"Display Size\":[5.8, 6.1, 6.1, 6.1 ],\n",
    "    \"Running Time\":[18, 17, 22, 23 ],\n",
    "    \"Bionic Chip\": ['A13', 'A14', 'A15', 'A16' ]\n",
    "}\n",
    "\n",
    "index = ['iPhone11Pro', 'iPhone12Pro', 'iPhone13Pro', 'iPhone14Pro']\n",
    "\n",
    "iPhone = pd.DataFrame(data = data, index = index)\n",
    "iPhone.columns.name = 'Summary'\n",
    "iPhone\n",
    "    "
   ]
  },
  {
   "cell_type": "code",
   "execution_count": 53,
   "id": "d1073bda-37f4-443e-9269-5598a26ea5ca",
   "metadata": {},
   "outputs": [
    {
     "data": {
      "text/plain": [
       "Summary\n",
       "Special Color     object\n",
       "Display Size     float64\n",
       "Running Time       int64\n",
       "Bionic Chip       object\n",
       "dtype: object"
      ]
     },
     "execution_count": 53,
     "metadata": {},
     "output_type": "execute_result"
    }
   ],
   "source": [
    "iPhone.dtypes "
   ]
  },
  {
   "cell_type": "code",
   "execution_count": 58,
   "id": "6dd590a0-cdaa-4b1a-8391-b65b1598f1bc",
   "metadata": {},
   "outputs": [],
   "source": [
    "#주현주현 왜 나랑 안 노라죠\n",
    "#나랑 노라죠\n",
    "#공부 하지뭬\n",
    "#난 내일 늦게 와\n",
    "#한번 상담사분깨 물어볼게\n",
    "#히히히히히히히"
   ]
  },
  {
   "cell_type": "code",
   "execution_count": 67,
   "id": "0692f468-a4be-426b-8cce-57295f3e2d08",
   "metadata": {},
   "outputs": [],
   "source": [
    "# dataFrame 추가, 갱신, 삭제\n",
    "\n",
    "# 열 추가 ( inch *25.4 = mm )\n",
    "iPhone ['Display Size(mm)'] = iPhone['Display Size']*25.4"
   ]
  },
  {
   "cell_type": "code",
   "execution_count": 68,
   "id": "82163ffd-76a8-4f66-ba42-ae2faaf9e414",
   "metadata": {},
   "outputs": [],
   "source": [
    "# 열 갱신\n",
    "# iPhone['Display Size'] = ['5.8 inch', '6.1 inch', '6.1 inch', '6.1 inch']\n",
    "\n",
    "del iPhone['Bionic Chip']"
   ]
  },
  {
   "cell_type": "code",
   "execution_count": 69,
   "id": "b5f2d942-0fb5-40ea-8b86-a62c6db4bfa8",
   "metadata": {},
   "outputs": [
    {
     "data": {
      "text/html": [
       "<div>\n",
       "<style scoped>\n",
       "    .dataframe tbody tr th:only-of-type {\n",
       "        vertical-align: middle;\n",
       "    }\n",
       "\n",
       "    .dataframe tbody tr th {\n",
       "        vertical-align: top;\n",
       "    }\n",
       "\n",
       "    .dataframe thead th {\n",
       "        text-align: right;\n",
       "    }\n",
       "</style>\n",
       "<table border=\"1\" class=\"dataframe\">\n",
       "  <thead>\n",
       "    <tr style=\"text-align: right;\">\n",
       "      <th>Summary</th>\n",
       "      <th>Special Color</th>\n",
       "      <th>Display Size</th>\n",
       "      <th>Running Time</th>\n",
       "      <th>Display Size(mm)</th>\n",
       "    </tr>\n",
       "  </thead>\n",
       "  <tbody>\n",
       "    <tr>\n",
       "      <th>iPhone11Pro</th>\n",
       "      <td>Midnight Green</td>\n",
       "      <td>5.8</td>\n",
       "      <td>18</td>\n",
       "      <td>147.32</td>\n",
       "    </tr>\n",
       "    <tr>\n",
       "      <th>iPhone12Pro</th>\n",
       "      <td>Pacific Blue</td>\n",
       "      <td>6.1</td>\n",
       "      <td>17</td>\n",
       "      <td>154.94</td>\n",
       "    </tr>\n",
       "    <tr>\n",
       "      <th>iPhone13Pro</th>\n",
       "      <td>Alpine Green</td>\n",
       "      <td>6.1</td>\n",
       "      <td>22</td>\n",
       "      <td>154.94</td>\n",
       "    </tr>\n",
       "    <tr>\n",
       "      <th>iPhone14Pro</th>\n",
       "      <td>Deep Purple</td>\n",
       "      <td>6.1</td>\n",
       "      <td>23</td>\n",
       "      <td>154.94</td>\n",
       "    </tr>\n",
       "  </tbody>\n",
       "</table>\n",
       "</div>"
      ],
      "text/plain": [
       "Summary       Special Color  Display Size  Running Time  Display Size(mm)\n",
       "iPhone11Pro  Midnight Green           5.8            18            147.32\n",
       "iPhone12Pro    Pacific Blue           6.1            17            154.94\n",
       "iPhone13Pro    Alpine Green           6.1            22            154.94\n",
       "iPhone14Pro     Deep Purple           6.1            23            154.94"
      ]
     },
     "execution_count": 69,
     "metadata": {},
     "output_type": "execute_result"
    }
   ],
   "source": [
    "iPhone"
   ]
  },
  {
   "cell_type": "code",
   "execution_count": 79,
   "id": "5ff0703b-c8b6-47e5-a32b-f57b8b0221e1",
   "metadata": {},
   "outputs": [],
   "source": [
    "#열 다시 추가\n",
    "iPhone[\"Bionic Chip\"] = ['A13', 'A14', 'A15', 'A16' ]  #같은 문자열"
   ]
  },
  {
   "cell_type": "code",
   "execution_count": 80,
   "id": "54b7e7dd-50bb-4a18-8701-745dbb3baef3",
   "metadata": {},
   "outputs": [
    {
     "data": {
      "text/html": [
       "<div>\n",
       "<style scoped>\n",
       "    .dataframe tbody tr th:only-of-type {\n",
       "        vertical-align: middle;\n",
       "    }\n",
       "\n",
       "    .dataframe tbody tr th {\n",
       "        vertical-align: top;\n",
       "    }\n",
       "\n",
       "    .dataframe thead th {\n",
       "        text-align: right;\n",
       "    }\n",
       "</style>\n",
       "<table border=\"1\" class=\"dataframe\">\n",
       "  <thead>\n",
       "    <tr style=\"text-align: right;\">\n",
       "      <th>Summary</th>\n",
       "      <th>Special Color</th>\n",
       "      <th>Display Size</th>\n",
       "      <th>Running Time</th>\n",
       "      <th>Display Size(mm)</th>\n",
       "      <th>Bionic Chip</th>\n",
       "    </tr>\n",
       "  </thead>\n",
       "  <tbody>\n",
       "    <tr>\n",
       "      <th>iPhone11Pro</th>\n",
       "      <td>Midnight Green</td>\n",
       "      <td>5.8</td>\n",
       "      <td>18</td>\n",
       "      <td>147.32</td>\n",
       "      <td>A13</td>\n",
       "    </tr>\n",
       "    <tr>\n",
       "      <th>iPhone12Pro</th>\n",
       "      <td>Pacific Blue</td>\n",
       "      <td>6.1</td>\n",
       "      <td>17</td>\n",
       "      <td>154.94</td>\n",
       "      <td>A14</td>\n",
       "    </tr>\n",
       "    <tr>\n",
       "      <th>iPhone13Pro</th>\n",
       "      <td>Alpine Green</td>\n",
       "      <td>6.1</td>\n",
       "      <td>22</td>\n",
       "      <td>154.94</td>\n",
       "      <td>A15</td>\n",
       "    </tr>\n",
       "    <tr>\n",
       "      <th>iPhone14Pro</th>\n",
       "      <td>Deep Purple</td>\n",
       "      <td>6.1</td>\n",
       "      <td>23</td>\n",
       "      <td>154.94</td>\n",
       "      <td>A16</td>\n",
       "    </tr>\n",
       "  </tbody>\n",
       "</table>\n",
       "</div>"
      ],
      "text/plain": [
       "Summary       Special Color  Display Size  Running Time  Display Size(mm)  \\\n",
       "iPhone11Pro  Midnight Green           5.8            18            147.32   \n",
       "iPhone12Pro    Pacific Blue           6.1            17            154.94   \n",
       "iPhone13Pro    Alpine Green           6.1            22            154.94   \n",
       "iPhone14Pro     Deep Purple           6.1            23            154.94   \n",
       "\n",
       "Summary     Bionic Chip  \n",
       "iPhone11Pro         A13  \n",
       "iPhone12Pro         A14  \n",
       "iPhone13Pro         A15  \n",
       "iPhone14Pro         A16  "
      ]
     },
     "execution_count": 80,
     "metadata": {},
     "output_type": "execute_result"
    }
   ],
   "source": [
    "iPhone"
   ]
  },
  {
   "cell_type": "code",
   "execution_count": 81,
   "id": "db639bdc-ebcf-4c00-b6ab-49a1b73088d8",
   "metadata": {},
   "outputs": [
    {
     "data": {
      "text/plain": [
       "iPhone11Pro    Midnight Green\n",
       "iPhone12Pro      Pacific Blue\n",
       "iPhone13Pro      Alpine Green\n",
       "iPhone14Pro       Deep Purple\n",
       "Name: Special Color, dtype: object"
      ]
     },
     "execution_count": 81,
     "metadata": {},
     "output_type": "execute_result"
    }
   ],
   "source": [
    "iPhone['Special Color']  # index도 시리즈 객체로 같이 반환된당"
   ]
  },
  {
   "cell_type": "code",
   "execution_count": 85,
   "id": "d63ff4cb-0848-4f6a-be72-89c12b09eddd",
   "metadata": {},
   "outputs": [
    {
     "data": {
      "text/html": [
       "<div>\n",
       "<style scoped>\n",
       "    .dataframe tbody tr th:only-of-type {\n",
       "        vertical-align: middle;\n",
       "    }\n",
       "\n",
       "    .dataframe tbody tr th {\n",
       "        vertical-align: top;\n",
       "    }\n",
       "\n",
       "    .dataframe thead th {\n",
       "        text-align: right;\n",
       "    }\n",
       "</style>\n",
       "<table border=\"1\" class=\"dataframe\">\n",
       "  <thead>\n",
       "    <tr style=\"text-align: right;\">\n",
       "      <th>Summary</th>\n",
       "      <th>Special Color</th>\n",
       "    </tr>\n",
       "  </thead>\n",
       "  <tbody>\n",
       "    <tr>\n",
       "      <th>iPhone11Pro</th>\n",
       "      <td>Midnight Green</td>\n",
       "    </tr>\n",
       "    <tr>\n",
       "      <th>iPhone12Pro</th>\n",
       "      <td>Pacific Blue</td>\n",
       "    </tr>\n",
       "    <tr>\n",
       "      <th>iPhone13Pro</th>\n",
       "      <td>Alpine Green</td>\n",
       "    </tr>\n",
       "    <tr>\n",
       "      <th>iPhone14Pro</th>\n",
       "      <td>Deep Purple</td>\n",
       "    </tr>\n",
       "  </tbody>\n",
       "</table>\n",
       "</div>"
      ],
      "text/plain": [
       "Summary       Special Color\n",
       "iPhone11Pro  Midnight Green\n",
       "iPhone12Pro    Pacific Blue\n",
       "iPhone13Pro    Alpine Green\n",
       "iPhone14Pro     Deep Purple"
      ]
     },
     "execution_count": 85,
     "metadata": {},
     "output_type": "execute_result"
    }
   ],
   "source": [
    "iPhone[['Special Color'] ]  #dataframe 방식으로 반환하기"
   ]
  },
  {
   "cell_type": "code",
   "execution_count": null,
   "id": "9845761b-cf9d-4525-955f-c994bb52c740",
   "metadata": {},
   "outputs": [],
   "source": [
    "#문자열 label일 때는 정수 index사용불가능.\n",
    "#key Error 발생함\n",
    "\n",
    "iPhone[0]\n",
    "\n",
    "#문자열 label 아니고 기본 정수형 column index를 가지는 경우에는 index 값으로 정수 사용 가능"
   ]
  },
  {
   "cell_type": "code",
   "execution_count": 88,
   "id": "1fde006c-5557-474e-bfb6-62f8de2673eb",
   "metadata": {},
   "outputs": [
    {
     "name": "stdout",
     "output_type": "stream",
     "text": [
      "   0  1   2   3\n",
      "0  0  1   2   3\n",
      "1  4  5   6   7\n",
      "2  8  9  10  11 \n",
      "\n",
      "0     2\n",
      "1     6\n",
      "2    10\n",
      "Name: 2, dtype: int32\n"
     ]
    }
   ],
   "source": [
    "df2 = pd.DataFrame(np.arange(12).reshape(3, 4))\n",
    "print(df2, '\\n')\n",
    "print(df2[2])"
   ]
  },
  {
   "cell_type": "code",
   "execution_count": 90,
   "id": "3fb2e526-a695-4e87-8267-2640dc0da3a3",
   "metadata": {},
   "outputs": [
    {
     "data": {
      "text/plain": [
       "'Alpine Green'"
      ]
     },
     "execution_count": 90,
     "metadata": {},
     "output_type": "execute_result"
    }
   ],
   "source": [
    "#iPhone['iPhone13Pro'] row 단위로 인덱싱 못 함.\n",
    "#column으로 먼저 접근 후 row로 도려내기는 가능\n",
    "iPhone['Special Color']['iPhone13Pro']\n",
    "# 나중에 나오는 at을 더 많이 사용함"
   ]
  },
  {
   "cell_type": "code",
   "execution_count": 92,
   "id": "accbd5cf-717d-44fa-a3a5-0cdf4a41913a",
   "metadata": {},
   "outputs": [
    {
     "data": {
      "text/html": [
       "<div>\n",
       "<style scoped>\n",
       "    .dataframe tbody tr th:only-of-type {\n",
       "        vertical-align: middle;\n",
       "    }\n",
       "\n",
       "    .dataframe tbody tr th {\n",
       "        vertical-align: top;\n",
       "    }\n",
       "\n",
       "    .dataframe thead th {\n",
       "        text-align: right;\n",
       "    }\n",
       "</style>\n",
       "<table border=\"1\" class=\"dataframe\">\n",
       "  <thead>\n",
       "    <tr style=\"text-align: right;\">\n",
       "      <th></th>\n",
       "      <th>국어</th>\n",
       "      <th>영어</th>\n",
       "      <th>수학</th>\n",
       "    </tr>\n",
       "  </thead>\n",
       "  <tbody>\n",
       "    <tr>\n",
       "      <th>춘향</th>\n",
       "      <td>80</td>\n",
       "      <td>90</td>\n",
       "      <td>90</td>\n",
       "    </tr>\n",
       "    <tr>\n",
       "      <th>몽룡</th>\n",
       "      <td>90</td>\n",
       "      <td>70</td>\n",
       "      <td>60</td>\n",
       "    </tr>\n",
       "    <tr>\n",
       "      <th>향단</th>\n",
       "      <td>70</td>\n",
       "      <td>60</td>\n",
       "      <td>80</td>\n",
       "    </tr>\n",
       "    <tr>\n",
       "      <th>방자</th>\n",
       "      <td>30</td>\n",
       "      <td>40</td>\n",
       "      <td>70</td>\n",
       "    </tr>\n",
       "  </tbody>\n",
       "</table>\n",
       "</div>"
      ],
      "text/plain": [
       "    국어  영어  수학\n",
       "춘향  80  90  90\n",
       "몽룡  90  70  60\n",
       "향단  70  60  80\n",
       "방자  30  40  70"
      ]
     },
     "execution_count": 92,
     "metadata": {},
     "output_type": "execute_result"
    }
   ],
   "source": [
    "#연습문제\n",
    "\n",
    "data = {\n",
    "    '국어': [80,90,70,30],\n",
    "    '영어': [90,70,60,40],\n",
    "    '수학': [90,60,80,70]\n",
    "}\n",
    "columns = ['국어', '영어', '수학']\n",
    "index = ['춘향', '몽룡', '향단', '방자']\n",
    "df = pd.DataFrame(data, index=index, columns=columns)\n",
    "df"
   ]
  },
  {
   "cell_type": "code",
   "execution_count": 112,
   "id": "7661fdd4-92ac-4bdf-9dee-b33a32729a78",
   "metadata": {},
   "outputs": [
    {
     "data": {
      "text/plain": [
       "춘향    90\n",
       "몽룡    60\n",
       "향단    80\n",
       "방자    70\n",
       "Name: 수학, dtype: int64"
      ]
     },
     "execution_count": 112,
     "metadata": {},
     "output_type": "execute_result"
    }
   ],
   "source": [
    "# 1) 모든 학생의 수학 점수를 Series\n",
    "pd.Series(df['수학'])"
   ]
  },
  {
   "cell_type": "code",
   "execution_count": null,
   "id": "74350ee6-1ca4-411a-a900-83ffc0e6d29c",
   "metadata": {},
   "outputs": [],
   "source": [
    "# 2) 모든 학생의 국어와 영어점수를 데이터 프레임\n",
    "df[['국어','영어']]"
   ]
  },
  {
   "cell_type": "code",
   "execution_count": 103,
   "id": "1f9636ec-c4a0-4fc8-9cf4-505d93f6bb21",
   "metadata": {},
   "outputs": [
    {
     "data": {
      "text/html": [
       "<div>\n",
       "<style scoped>\n",
       "    .dataframe tbody tr th:only-of-type {\n",
       "        vertical-align: middle;\n",
       "    }\n",
       "\n",
       "    .dataframe tbody tr th {\n",
       "        vertical-align: top;\n",
       "    }\n",
       "\n",
       "    .dataframe thead th {\n",
       "        text-align: right;\n",
       "    }\n",
       "</style>\n",
       "<table border=\"1\" class=\"dataframe\">\n",
       "  <thead>\n",
       "    <tr style=\"text-align: right;\">\n",
       "      <th></th>\n",
       "      <th>국어</th>\n",
       "      <th>영어</th>\n",
       "      <th>수학</th>\n",
       "      <th>평균점수</th>\n",
       "    </tr>\n",
       "  </thead>\n",
       "  <tbody>\n",
       "    <tr>\n",
       "      <th>춘향</th>\n",
       "      <td>80</td>\n",
       "      <td>90</td>\n",
       "      <td>90</td>\n",
       "      <td>86.666667</td>\n",
       "    </tr>\n",
       "    <tr>\n",
       "      <th>몽룡</th>\n",
       "      <td>90</td>\n",
       "      <td>70</td>\n",
       "      <td>60</td>\n",
       "      <td>73.333333</td>\n",
       "    </tr>\n",
       "    <tr>\n",
       "      <th>향단</th>\n",
       "      <td>70</td>\n",
       "      <td>60</td>\n",
       "      <td>80</td>\n",
       "      <td>70.000000</td>\n",
       "    </tr>\n",
       "    <tr>\n",
       "      <th>방자</th>\n",
       "      <td>30</td>\n",
       "      <td>40</td>\n",
       "      <td>70</td>\n",
       "      <td>46.666667</td>\n",
       "    </tr>\n",
       "  </tbody>\n",
       "</table>\n",
       "</div>"
      ],
      "text/plain": [
       "    국어  영어  수학       평균점수\n",
       "춘향  80  90  90  86.666667\n",
       "몽룡  90  70  60  73.333333\n",
       "향단  70  60  80  70.000000\n",
       "방자  30  40  70  46.666667"
      ]
     },
     "execution_count": 103,
     "metadata": {},
     "output_type": "execute_result"
    }
   ],
   "source": [
    "#3) 모든 학생, 각 과목 평균 점수를 새로운 열로 추가\n",
    "avg =[]\n",
    "\n",
    "for i in index:\n",
    "    sumv = 0\n",
    "    for c in columns:\n",
    "        sumv += df[c][i]\n",
    "    avg.append(sumv/3)\n",
    "df['평균점수'] = avg\n",
    "df"
   ]
  },
  {
   "cell_type": "code",
   "execution_count": 128,
   "id": "2aa4890d-db0c-4edb-be08-721e4fef97ff",
   "metadata": {},
   "outputs": [
    {
     "data": {
      "text/html": [
       "<div>\n",
       "<style scoped>\n",
       "    .dataframe tbody tr th:only-of-type {\n",
       "        vertical-align: middle;\n",
       "    }\n",
       "\n",
       "    .dataframe tbody tr th {\n",
       "        vertical-align: top;\n",
       "    }\n",
       "\n",
       "    .dataframe thead th {\n",
       "        text-align: right;\n",
       "    }\n",
       "</style>\n",
       "<table border=\"1\" class=\"dataframe\">\n",
       "  <thead>\n",
       "    <tr style=\"text-align: right;\">\n",
       "      <th></th>\n",
       "      <th>국어</th>\n",
       "      <th>영어</th>\n",
       "      <th>수학</th>\n",
       "      <th>평균점수</th>\n",
       "      <th>평균</th>\n",
       "    </tr>\n",
       "  </thead>\n",
       "  <tbody>\n",
       "    <tr>\n",
       "      <th>춘향</th>\n",
       "      <td>80</td>\n",
       "      <td>90</td>\n",
       "      <td>90</td>\n",
       "      <td>86.666667</td>\n",
       "      <td>86.67</td>\n",
       "    </tr>\n",
       "    <tr>\n",
       "      <th>몽룡</th>\n",
       "      <td>90</td>\n",
       "      <td>70</td>\n",
       "      <td>60</td>\n",
       "      <td>73.333333</td>\n",
       "      <td>73.33</td>\n",
       "    </tr>\n",
       "    <tr>\n",
       "      <th>향단</th>\n",
       "      <td>70</td>\n",
       "      <td>60</td>\n",
       "      <td>80</td>\n",
       "      <td>70.000000</td>\n",
       "      <td>70.00</td>\n",
       "    </tr>\n",
       "    <tr>\n",
       "      <th>방자</th>\n",
       "      <td>30</td>\n",
       "      <td>40</td>\n",
       "      <td>70</td>\n",
       "      <td>46.666667</td>\n",
       "      <td>46.67</td>\n",
       "    </tr>\n",
       "  </tbody>\n",
       "</table>\n",
       "</div>"
      ],
      "text/plain": [
       "    국어  영어  수학       평균점수     평균\n",
       "춘향  80  90  90  86.666667  86.67\n",
       "몽룡  90  70  60  73.333333  73.33\n",
       "향단  70  60  80  70.000000  70.00\n",
       "방자  30  40  70  46.666667  46.67"
      ]
     },
     "execution_count": 128,
     "metadata": {},
     "output_type": "execute_result"
    }
   ],
   "source": [
    "df['평균'] = round((df['국어']+df['영어']+df['수학'])/3, 2)\n",
    "df"
   ]
  },
  {
   "cell_type": "code",
   "execution_count": 122,
   "id": "a6fb1c90-b7ba-4a13-8953-53919f19671d",
   "metadata": {},
   "outputs": [
    {
     "data": {
      "text/html": [
       "<div>\n",
       "<style scoped>\n",
       "    .dataframe tbody tr th:only-of-type {\n",
       "        vertical-align: middle;\n",
       "    }\n",
       "\n",
       "    .dataframe tbody tr th {\n",
       "        vertical-align: top;\n",
       "    }\n",
       "\n",
       "    .dataframe thead th {\n",
       "        text-align: right;\n",
       "    }\n",
       "</style>\n",
       "<table border=\"1\" class=\"dataframe\">\n",
       "  <thead>\n",
       "    <tr style=\"text-align: right;\">\n",
       "      <th></th>\n",
       "      <th>춘향의 점수</th>\n",
       "    </tr>\n",
       "  </thead>\n",
       "  <tbody>\n",
       "    <tr>\n",
       "      <th>국어</th>\n",
       "      <td>80</td>\n",
       "    </tr>\n",
       "    <tr>\n",
       "      <th>영어</th>\n",
       "      <td>90</td>\n",
       "    </tr>\n",
       "    <tr>\n",
       "      <th>수학</th>\n",
       "      <td>90</td>\n",
       "    </tr>\n",
       "  </tbody>\n",
       "</table>\n",
       "</div>"
      ],
      "text/plain": [
       "    춘향의 점수\n",
       "국어      80\n",
       "영어      90\n",
       "수학      90"
      ]
     },
     "execution_count": 122,
     "metadata": {},
     "output_type": "execute_result"
    }
   ],
   "source": [
    "# 4) 춘향의 점수를 DataFrame\n",
    "ch = pd.DataFrame(data = [df['국어']['춘향'], df['영어']['춘향'], df['수학']['춘향']],\n",
    "                  index = columns, columns = ['춘향의 점수'] )\n",
    "\n",
    "#ch = pd.DataFrame(data=df[[df[_]['춘향'] for _ in columns]], columns = ['춘향의 점수'] )\n",
    "ch"
   ]
  },
  {
   "cell_type": "code",
   "execution_count": 126,
   "id": "ba61815c-90e2-48e9-9dcd-e339263d1559",
   "metadata": {},
   "outputs": [
    {
     "data": {
      "text/html": [
       "<div>\n",
       "<style scoped>\n",
       "    .dataframe tbody tr th:only-of-type {\n",
       "        vertical-align: middle;\n",
       "    }\n",
       "\n",
       "    .dataframe tbody tr th {\n",
       "        vertical-align: top;\n",
       "    }\n",
       "\n",
       "    .dataframe thead th {\n",
       "        text-align: right;\n",
       "    }\n",
       "</style>\n",
       "<table border=\"1\" class=\"dataframe\">\n",
       "  <thead>\n",
       "    <tr style=\"text-align: right;\">\n",
       "      <th></th>\n",
       "      <th>춘향</th>\n",
       "    </tr>\n",
       "  </thead>\n",
       "  <tbody>\n",
       "    <tr>\n",
       "      <th>국어</th>\n",
       "      <td>80.000000</td>\n",
       "    </tr>\n",
       "    <tr>\n",
       "      <th>영어</th>\n",
       "      <td>90.000000</td>\n",
       "    </tr>\n",
       "    <tr>\n",
       "      <th>수학</th>\n",
       "      <td>90.000000</td>\n",
       "    </tr>\n",
       "    <tr>\n",
       "      <th>평균점수</th>\n",
       "      <td>86.666667</td>\n",
       "    </tr>\n",
       "  </tbody>\n",
       "</table>\n",
       "</div>"
      ],
      "text/plain": [
       "             춘향\n",
       "국어    80.000000\n",
       "영어    90.000000\n",
       "수학    90.000000\n",
       "평균점수  86.666667"
      ]
     },
     "execution_count": 126,
     "metadata": {},
     "output_type": "execute_result"
    }
   ],
   "source": [
    "df.T[['춘향']] #전치 (Transpose)"
   ]
  },
  {
   "cell_type": "code",
   "execution_count": 130,
   "id": "e0fb5dad-f967-41c9-99e4-6aba97939fb1",
   "metadata": {},
   "outputs": [
    {
     "data": {
      "text/html": [
       "<div>\n",
       "<style scoped>\n",
       "    .dataframe tbody tr th:only-of-type {\n",
       "        vertical-align: middle;\n",
       "    }\n",
       "\n",
       "    .dataframe tbody tr th {\n",
       "        vertical-align: top;\n",
       "    }\n",
       "\n",
       "    .dataframe thead th {\n",
       "        text-align: right;\n",
       "    }\n",
       "</style>\n",
       "<table border=\"1\" class=\"dataframe\">\n",
       "  <thead>\n",
       "    <tr style=\"text-align: right;\">\n",
       "      <th></th>\n",
       "      <th>국어</th>\n",
       "      <th>영어</th>\n",
       "      <th>수학</th>\n",
       "      <th>평균점수</th>\n",
       "      <th>평균</th>\n",
       "    </tr>\n",
       "  </thead>\n",
       "  <tbody>\n",
       "    <tr>\n",
       "      <th>춘향</th>\n",
       "      <td>80</td>\n",
       "      <td>90</td>\n",
       "      <td>90</td>\n",
       "      <td>86.666667</td>\n",
       "      <td>86.67</td>\n",
       "    </tr>\n",
       "  </tbody>\n",
       "</table>\n",
       "</div>"
      ],
      "text/plain": [
       "    국어  영어  수학       평균점수     평균\n",
       "춘향  80  90  90  86.666667  86.67"
      ]
     },
     "execution_count": 130,
     "metadata": {},
     "output_type": "execute_result"
    }
   ],
   "source": [
    "df[:1] #df['춘향':'춘향']"
   ]
  },
  {
   "cell_type": "code",
   "execution_count": 114,
   "id": "2a5c2640-b548-44bf-a0bf-0c98960b594e",
   "metadata": {},
   "outputs": [
    {
     "data": {
      "text/plain": [
       "0    70\n",
       "1    60\n",
       "2    80\n",
       "dtype: int64"
      ]
     },
     "execution_count": 114,
     "metadata": {},
     "output_type": "execute_result"
    }
   ],
   "source": [
    "# 5) 향단의 점수를 Series\n",
    "pd.Series( [df[_]['향단'] for _ in columns])"
   ]
  },
  {
   "cell_type": "code",
   "execution_count": 127,
   "id": "7f241ab4-5611-4ab7-944a-0a1f8fb87b32",
   "metadata": {},
   "outputs": [
    {
     "data": {
      "text/plain": [
       "국어      70.0\n",
       "영어      60.0\n",
       "수학      80.0\n",
       "평균점수    70.0\n",
       "Name: 향단, dtype: float64"
      ]
     },
     "execution_count": 127,
     "metadata": {},
     "output_type": "execute_result"
    }
   ],
   "source": [
    "pd.Series( df.T['향단'] )  #전치 (Transpose)"
   ]
  },
  {
   "cell_type": "code",
   "execution_count": 133,
   "id": "50f5a2c4-cc5e-4fd2-9dab-3131a229efa3",
   "metadata": {},
   "outputs": [
    {
     "data": {
      "text/plain": [
       "국어      70.0\n",
       "영어      60.0\n",
       "수학      80.0\n",
       "평균점수    70.0\n",
       "평균      70.0\n",
       "Name: 향단, dtype: float64"
      ]
     },
     "execution_count": 133,
     "metadata": {},
     "output_type": "execute_result"
    }
   ],
   "source": [
    "df.T['향단'] #Series로 감싸지 않아도 됨 column에 대한 반환값은 자동으로 시리즈~!"
   ]
  },
  {
   "cell_type": "code",
   "execution_count": null,
   "id": "14accf09-dd0e-405c-a68f-967946c72128",
   "metadata": {},
   "outputs": [],
   "source": [
    "# df.loc[index] 로 향단이 가져오면 됨"
   ]
  },
  {
   "cell_type": "code",
   "execution_count": 156,
   "id": "0db080e7-ff3c-493d-a84d-b7147b52fbac",
   "metadata": {},
   "outputs": [
    {
     "data": {
      "text/html": [
       "<div>\n",
       "<style scoped>\n",
       "    .dataframe tbody tr th:only-of-type {\n",
       "        vertical-align: middle;\n",
       "    }\n",
       "\n",
       "    .dataframe tbody tr th {\n",
       "        vertical-align: top;\n",
       "    }\n",
       "\n",
       "    .dataframe thead th {\n",
       "        text-align: right;\n",
       "    }\n",
       "</style>\n",
       "<table border=\"1\" class=\"dataframe\">\n",
       "  <thead>\n",
       "    <tr style=\"text-align: right;\">\n",
       "      <th></th>\n",
       "      <th>A</th>\n",
       "      <th>B</th>\n",
       "      <th>C</th>\n",
       "      <th>D</th>\n",
       "    </tr>\n",
       "  </thead>\n",
       "  <tbody>\n",
       "    <tr>\n",
       "      <th>2013-02-26</th>\n",
       "      <td>1.764052</td>\n",
       "      <td>0.400157</td>\n",
       "      <td>0.978738</td>\n",
       "      <td>2.240893</td>\n",
       "    </tr>\n",
       "    <tr>\n",
       "      <th>2013-02-27</th>\n",
       "      <td>1.867558</td>\n",
       "      <td>-0.977278</td>\n",
       "      <td>0.950088</td>\n",
       "      <td>-0.151357</td>\n",
       "    </tr>\n",
       "    <tr>\n",
       "      <th>2013-02-28</th>\n",
       "      <td>-0.103219</td>\n",
       "      <td>0.410599</td>\n",
       "      <td>0.144044</td>\n",
       "      <td>1.454274</td>\n",
       "    </tr>\n",
       "    <tr>\n",
       "      <th>2013-03-01</th>\n",
       "      <td>0.761038</td>\n",
       "      <td>0.121675</td>\n",
       "      <td>0.443863</td>\n",
       "      <td>0.333674</td>\n",
       "    </tr>\n",
       "    <tr>\n",
       "      <th>2013-03-02</th>\n",
       "      <td>1.494079</td>\n",
       "      <td>-0.205158</td>\n",
       "      <td>0.313068</td>\n",
       "      <td>-0.854096</td>\n",
       "    </tr>\n",
       "    <tr>\n",
       "      <th>2013-03-03</th>\n",
       "      <td>-2.552990</td>\n",
       "      <td>0.653619</td>\n",
       "      <td>0.864436</td>\n",
       "      <td>-0.742165</td>\n",
       "    </tr>\n",
       "  </tbody>\n",
       "</table>\n",
       "</div>"
      ],
      "text/plain": [
       "                   A         B         C         D\n",
       "2013-02-26  1.764052  0.400157  0.978738  2.240893\n",
       "2013-02-27  1.867558 -0.977278  0.950088 -0.151357\n",
       "2013-02-28 -0.103219  0.410599  0.144044  1.454274\n",
       "2013-03-01  0.761038  0.121675  0.443863  0.333674\n",
       "2013-03-02  1.494079 -0.205158  0.313068 -0.854096\n",
       "2013-03-03 -2.552990  0.653619  0.864436 -0.742165"
      ]
     },
     "execution_count": 156,
     "metadata": {},
     "output_type": "execute_result"
    }
   ],
   "source": [
    "#연습문제\n",
    "#다음 DataFrame을 만들어 보세요\n",
    "\"\"\"\n",
    "- 랜덤 시드는 0입니다.\n",
    "- values는 넘파이 서브 패키지 중 random의 randn() 메서드를 사용하세요.\n",
    "- index는 pd.date_range(\"20130226\", periods=날짜수)을 활용하세요.\n",
    "\"\"\"\n",
    "\n",
    "import numpy as np\n",
    "np.random.seed(0)\n",
    "\n",
    "index = pd.date_range(\"20130226\", periods=6)\n",
    "\n",
    "pd.DataFrame( data = np.random.randn(24).reshape(6, 4),\n",
    "             index = index, columns = ['A', 'B', 'C', 'D'] )"
   ]
  },
  {
   "cell_type": "code",
   "execution_count": null,
   "id": "6a358f34-fb62-45a6-98c9-ff0574dd1bc9",
   "metadata": {},
   "outputs": [],
   "source": []
  },
  {
   "cell_type": "code",
   "execution_count": 9,
   "id": "e6cef89d-c462-45bc-a81b-fa06f96b237d",
   "metadata": {},
   "outputs": [],
   "source": [
    "\"\"\"\n",
    "230307 수업\n",
    "\"\"\"\n",
    "\n",
    "import pandas as pd\n",
    "import numpy as np"
   ]
  },
  {
   "cell_type": "code",
   "execution_count": 10,
   "id": "c42c38b6-60bf-4776-b745-3ef2c414713b",
   "metadata": {},
   "outputs": [
    {
     "data": {
      "text/plain": [
       "'\\n앞 5개, 뒤 5개 출력해 줌\\n많은 데이터를 한번에 출력하면 주피터 자체가 느려질 수 있기 때문\\n'"
      ]
     },
     "execution_count": 10,
     "metadata": {},
     "output_type": "execute_result"
    }
   ],
   "source": [
    "#Series의 값이 많은 경우\n",
    "\n",
    "nums = pd.Series(range(500))\n",
    "nums\n",
    "\n",
    "\"\"\"\n",
    "앞 5개, 뒤 5개 출력해 줌\n",
    "많은 데이터를 한번에 출력하면 주피터 자체가 느려질 수 있기 때문\n",
    "\"\"\""
   ]
  },
  {
   "cell_type": "code",
   "execution_count": 5,
   "id": "e897d72d-f755-427c-99b5-cd3b40634252",
   "metadata": {},
   "outputs": [
    {
     "data": {
      "text/plain": [
       "0    0\n",
       "1    1\n",
       "2    2\n",
       "3    3\n",
       "4    4\n",
       "5    5\n",
       "6    6\n",
       "7    7\n",
       "8    8\n",
       "9    9\n",
       "dtype: int64"
      ]
     },
     "execution_count": 5,
     "metadata": {},
     "output_type": "execute_result"
    }
   ],
   "source": [
    "#series head 메서드\n",
    "#데이터를 앞에 n개 출력해 볼 수 있는 메서드\n",
    "nums.head(10)"
   ]
  },
  {
   "cell_type": "code",
   "execution_count": 6,
   "id": "71d339f7-4822-4a88-b8b6-753d0034a1c3",
   "metadata": {},
   "outputs": [
    {
     "data": {
      "text/plain": [
       "490    490\n",
       "491    491\n",
       "492    492\n",
       "493    493\n",
       "494    494\n",
       "495    495\n",
       "496    496\n",
       "497    497\n",
       "498    498\n",
       "499    499\n",
       "dtype: int64"
      ]
     },
     "execution_count": 6,
     "metadata": {},
     "output_type": "execute_result"
    }
   ],
   "source": [
    "#series tail 메서드\n",
    "#데이터를 뒤에 n개 출력해 볼 수 있음\n",
    "\n",
    "nums.tail(10)"
   ]
  },
  {
   "cell_type": "code",
   "execution_count": 11,
   "id": "e1977950-c243-4788-9399-3b327dddad77",
   "metadata": {},
   "outputs": [
    {
     "data": {
      "text/plain": [
       "0    1.0\n",
       "1    2.0\n",
       "2    NaN\n",
       "3    4.0\n",
       "4    5.0\n",
       "dtype: float64"
      ]
     },
     "execution_count": 11,
     "metadata": {},
     "output_type": "execute_result"
    }
   ],
   "source": [
    "nums = pd.Series ( [1, 2, np.nan, 4, 5] )\n",
    "nums"
   ]
  },
  {
   "cell_type": "code",
   "execution_count": 13,
   "id": "e7b3fc8b-16e6-412c-b2f2-e242f6d3d074",
   "metadata": {},
   "outputs": [
    {
     "data": {
      "text/plain": [
       "0    h\n",
       "1    e\n",
       "2    l\n",
       "3    l\n",
       "4    o\n",
       "dtype: object"
      ]
     },
     "execution_count": 13,
     "metadata": {},
     "output_type": "execute_result"
    }
   ],
   "source": [
    "hello = pd.Series(list('hello'))\n",
    "hello"
   ]
  },
  {
   "cell_type": "code",
   "execution_count": 15,
   "id": "1e62e4a8-5d12-4f0a-ad51-587333882bb6",
   "metadata": {},
   "outputs": [
    {
     "data": {
      "text/plain": [
       "4"
      ]
     },
     "execution_count": 15,
     "metadata": {},
     "output_type": "execute_result"
    }
   ],
   "source": [
    "#unique한 값의 개수를 반환\n",
    "hello.nunique()"
   ]
  },
  {
   "cell_type": "code",
   "execution_count": 16,
   "id": "3d0bd295-6d03-42bb-88eb-3bbec116ac23",
   "metadata": {},
   "outputs": [
    {
     "data": {
      "text/plain": [
       "4"
      ]
     },
     "execution_count": 16,
     "metadata": {},
     "output_type": "execute_result"
    }
   ],
   "source": [
    "#데이터의 개수를 반환\n",
    "nums.count()"
   ]
  },
  {
   "cell_type": "code",
   "execution_count": 18,
   "id": "8ee8fcd1-a7e1-4814-98c9-2f5d805a080e",
   "metadata": {},
   "outputs": [
    {
     "data": {
      "text/plain": [
       "0    A\n",
       "1    a\n",
       "2    B\n",
       "3    b\n",
       "4    C\n",
       "5    c\n",
       "dtype: object"
      ]
     },
     "execution_count": 18,
     "metadata": {},
     "output_type": "execute_result"
    }
   ],
   "source": [
    "somechar = pd.Series(list(\"AaBbCc\"))\n",
    "somechar"
   ]
  },
  {
   "cell_type": "code",
   "execution_count": 21,
   "id": "519659d6-fe6e-4c6f-ada1-6ed9478f31d2",
   "metadata": {},
   "outputs": [
    {
     "data": {
      "text/plain": [
       "97"
      ]
     },
     "execution_count": 21,
     "metadata": {},
     "output_type": "execute_result"
    }
   ],
   "source": [
    "#하나의 문자를 unicode 숫자로 변경해주는 ord()\n",
    "ord('a')"
   ]
  },
  {
   "cell_type": "code",
   "execution_count": 22,
   "id": "e7930b7d-297a-4d02-b50c-c824eeed8d2d",
   "metadata": {},
   "outputs": [
    {
     "data": {
      "text/plain": [
       "count    4.000000\n",
       "mean     3.000000\n",
       "std      1.825742\n",
       "min      1.000000\n",
       "25%      1.750000\n",
       "50%      3.000000\n",
       "75%      4.250000\n",
       "max      5.000000\n",
       "dtype: float64"
      ]
     },
     "execution_count": 22,
     "metadata": {},
     "output_type": "execute_result"
    }
   ],
   "source": [
    "#수학연산 describe() 메서드\n",
    "nums.describe()"
   ]
  },
  {
   "cell_type": "code",
   "execution_count": 23,
   "id": "06d0e35f-e0cd-4a0d-bf03-a13095a69c68",
   "metadata": {},
   "outputs": [],
   "source": [
    "superheros = [\n",
    "    \"Batman\",\n",
    "    \"Superman\",\n",
    "     \"Spider-Man\",\n",
    "     \"Iron Man\",\n",
    "     \"Captain America\",\n",
    "     \"Wonder Woman\"\n",
    "]\n",
    "strength_levels = (100, 120, 90, 95, 110, 120)"
   ]
  },
  {
   "cell_type": "code",
   "execution_count": 25,
   "id": "e9dce5ff-7759-4f1a-aedd-e1e341324ae1",
   "metadata": {},
   "outputs": [
    {
     "data": {
      "text/plain": [
       "'\\n연습문제!!\\n'"
      ]
     },
     "execution_count": 25,
     "metadata": {},
     "output_type": "execute_result"
    }
   ],
   "source": [
    "\"\"\"\n",
    "연습문제!!\n",
    "\"\"\""
   ]
  },
  {
   "cell_type": "code",
   "execution_count": null,
   "id": "aef6cda2-7093-4631-88be-4666d13570ae",
   "metadata": {},
   "outputs": [],
   "source": []
  },
  {
   "cell_type": "code",
   "execution_count": null,
   "id": "d4d8010f-0f32-44bf-b887-b8f92b445e75",
   "metadata": {},
   "outputs": [],
   "source": []
  },
  {
   "cell_type": "code",
   "execution_count": 72,
   "id": "3527b687-5ac7-49b6-86cd-511ac09296c9",
   "metadata": {},
   "outputs": [
    {
     "name": "stderr",
     "output_type": "stream",
     "text": [
      "C:\\Users\\user\\AppData\\Local\\Temp\\ipykernel_9480\\3037897865.py:3: FutureWarning: The squeeze argument has been deprecated and will be removed in a future version. Append .squeeze(\"columns\") to the call to squeeze.\n",
      "\n",
      "\n",
      "  pokemons = pd.read_csv (\"C:\\python\\datas\\pokemon.csv\", index_col=\"Pokemon\", squeeze=True)\n"
     ]
    }
   ],
   "source": [
    "#csv 데이터 읽어오기\n",
    "\n",
    "pokemons = pd.read_csv (\"C:\\python\\datas\\pokemon.csv\", index_col=\"Pokemon\", squeeze=True)"
   ]
  },
  {
   "cell_type": "code",
   "execution_count": 7,
   "id": "ac76fef2-057c-4b6a-ac56-947c8a957263",
   "metadata": {},
   "outputs": [
    {
     "data": {
      "text/plain": [
       "Pokemon\n",
       "Bulbasaur      Grass / Poison\n",
       "Ivysaur        Grass / Poison\n",
       "Venusaur       Grass / Poison\n",
       "Charmander               Fire\n",
       "Charmeleon               Fire\n",
       "                    ...      \n",
       "Stakataka        Rock / Steel\n",
       "Blacephalon      Fire / Ghost\n",
       "Zeraora              Electric\n",
       "Meltan                  Steel\n",
       "Melmetal                Steel\n",
       "Name: Type, Length: 809, dtype: object"
      ]
     },
     "execution_count": 7,
     "metadata": {},
     "output_type": "execute_result"
    }
   ],
   "source": [
    "pokemons"
   ]
  },
  {
   "cell_type": "code",
   "execution_count": 8,
   "id": "0483a184-6fa8-4316-8dff-30f18586c8fe",
   "metadata": {},
   "outputs": [
    {
     "data": {
      "text/plain": [
       "count        809\n",
       "unique       159\n",
       "top       Normal\n",
       "freq          65\n",
       "Name: Type, dtype: object"
      ]
     },
     "execution_count": 8,
     "metadata": {},
     "output_type": "execute_result"
    }
   ],
   "source": [
    "pokemons.describe()"
   ]
  },
  {
   "cell_type": "code",
   "execution_count": 12,
   "id": "7b167928-c5d5-4f4b-b2eb-b3e0cb87789c",
   "metadata": {},
   "outputs": [
    {
     "data": {
      "text/plain": [
       "Pokemon\n",
       "Empoleon      Water / Steel\n",
       "Corsola        Water / Rock\n",
       "Relicanth      Water / Rock\n",
       "Carracosta     Water / Rock\n",
       "Tirtouga       Water / Rock\n",
       "                  ...      \n",
       "Kricketune              Bug\n",
       "Cascoon                 Bug\n",
       "Scatterbug              Bug\n",
       "Kricketot               Bug\n",
       "Grubbin                 Bug\n",
       "Name: Type, Length: 809, dtype: object"
      ]
     },
     "execution_count": 12,
     "metadata": {},
     "output_type": "execute_result"
    }
   ],
   "source": [
    "pokemons.sort_values(ascending = False)    #값 내림차순 정렬"
   ]
  },
  {
   "cell_type": "code",
   "execution_count": 1,
   "id": "e6e9904d-1613-4034-96d6-1072b2b933f8",
   "metadata": {},
   "outputs": [
    {
     "ename": "NameError",
     "evalue": "name 'pd' is not defined",
     "output_type": "error",
     "traceback": [
      "\u001b[1;31m---------------------------------------------------------------------------\u001b[0m",
      "\u001b[1;31mNameError\u001b[0m                                 Traceback (most recent call last)",
      "\u001b[1;32m~\\AppData\\Local\\Temp\\ipykernel_14856\\3262380209.py\u001b[0m in \u001b[0;36m<module>\u001b[1;34m\u001b[0m\n\u001b[1;32m----> 1\u001b[1;33m google = pd.read_csv(\"C:\\python\\datas\\google_stocks.csv\", parse_dates=[\"Date\"],\n\u001b[0m\u001b[0;32m      2\u001b[0m                      index_col=\"Date\", squeeze=True)\n\u001b[0;32m      3\u001b[0m \u001b[0mgoogle\u001b[0m\u001b[1;33m\u001b[0m\u001b[1;33m\u001b[0m\u001b[0m\n",
      "\u001b[1;31mNameError\u001b[0m: name 'pd' is not defined"
     ]
    }
   ],
   "source": [
    "google = pd.read_csv(\"C:\\python\\datas\\google_stocks.csv\", parse_dates=[\"Date\"],\n",
    "                     index_col=\"Date\", squeeze=True)\n",
    "google"
   ]
  },
  {
   "cell_type": "code",
   "execution_count": 75,
   "id": "5a4da755-8a8f-4ff6-b99a-9aa8c568cc75",
   "metadata": {},
   "outputs": [
    {
     "name": "stderr",
     "output_type": "stream",
     "text": [
      "C:\\Users\\user\\AppData\\Local\\Temp\\ipykernel_9480\\2069280567.py:1: FutureWarning: The squeeze argument has been deprecated and will be removed in a future version. Append .squeeze(\"columns\") to the call to squeeze.\n",
      "\n",
      "\n",
      "  war = pd.read_csv('C:\\\\python\\\\datas\\\\revolutionary_war.csv', parse_dates=['Start Date'],\n"
     ]
    },
    {
     "data": {
      "text/plain": [
       "Start Date\n",
       "1774-09-01    Massachusetts\n",
       "1774-12-14    New Hampshire\n",
       "1775-04-19    Massachusetts\n",
       "1775-04-19    Massachusetts\n",
       "1775-04-20         Virginia\n",
       "                  ...      \n",
       "1782-09-11         Virginia\n",
       "1782-09-13              NaN\n",
       "1782-10-18              NaN\n",
       "1782-12-06              NaN\n",
       "1783-01-22         Virginia\n",
       "Name: State, Length: 232, dtype: object"
      ]
     },
     "execution_count": 75,
     "metadata": {},
     "output_type": "execute_result"
    }
   ],
   "source": [
    "war = pd.read_csv('C:\\\\python\\\\datas\\\\revolutionary_war.csv', parse_dates=['Start Date'],\n",
    "                  index_col='Start Date', usecols=['Start Date', 'State'],\n",
    "                  squeeze=True\n",
    "                 )\n",
    "war"
   ]
  },
  {
   "cell_type": "code",
   "execution_count": 76,
   "id": "207661cb-9826-4349-a1aa-4566f069e315",
   "metadata": {},
   "outputs": [
    {
     "data": {
      "text/plain": [
       "'\\n\\n\\n\\n슬라이드 47page까지!\\n\\n\\n\\n\\n'"
      ]
     },
     "execution_count": 76,
     "metadata": {},
     "output_type": "execute_result"
    }
   ],
   "source": [
    "\"\"\"\n",
    "\n",
    "\n",
    "\n",
    "슬라이드 47page까지!\n",
    "\n",
    "\n",
    "\n",
    "\n",
    "\"\"\""
   ]
  },
  {
   "cell_type": "code",
   "execution_count": 21,
   "id": "71aaebd3-d999-4d31-90d9-b865856ba59a",
   "metadata": {},
   "outputs": [
    {
     "data": {
      "text/plain": [
       "Date\n",
       "2019-04-29    1287.58\n",
       "2019-04-26    1272.18\n",
       "2018-07-26    1268.33\n",
       "2019-10-25    1265.13\n",
       "2019-04-23    1264.55\n",
       "2018-07-25    1263.70\n",
       "2019-04-25    1263.45\n",
       "2019-10-24    1260.99\n",
       "2019-10-23    1259.13\n",
       "2019-04-24    1256.00\n",
       "Name: Close, dtype: float64"
      ]
     },
     "execution_count": 21,
     "metadata": {},
     "output_type": "execute_result"
    }
   ],
   "source": [
    "google.nlargest(10)"
   ]
  },
  {
   "cell_type": "code",
   "execution_count": 23,
   "id": "31b1ab6c-e6ee-47e2-af75-04e29830b078",
   "metadata": {},
   "outputs": [
    {
     "data": {
      "text/plain": [
       "Normal                65\n",
       "Water                 61\n",
       "Grass                 38\n",
       "Psychic               35\n",
       "Fire                  30\n",
       "                      ..\n",
       "Fire / Psychic         1\n",
       "Normal / Ground        1\n",
       "Psychic / Fighting     1\n",
       "Dark / Ghost           1\n",
       "Fire / Ghost           1\n",
       "Name: Type, Length: 159, dtype: int64"
      ]
     },
     "execution_count": 23,
     "metadata": {},
     "output_type": "execute_result"
    }
   ],
   "source": [
    "\"\"\"\n",
    "Series 내 데이터의 고유한 값의 빈도를 볼 때 활용\n",
    "값의 내림차순으로 (빈도) 정렬됨\n",
    "\"\"\"\n",
    "\n",
    "pokemons.value_counts()"
   ]
  },
  {
   "cell_type": "code",
   "execution_count": 26,
   "id": "a47362a3-97c0-4ee4-b013-10e9311d1b32",
   "metadata": {},
   "outputs": [
    {
     "data": {
      "text/plain": [
       "159"
      ]
     },
     "execution_count": 26,
     "metadata": {},
     "output_type": "execute_result"
    }
   ],
   "source": [
    "#            ↑와 같은 값 나옴\n",
    "len(pokemons.value_counts())"
   ]
  },
  {
   "cell_type": "code",
   "execution_count": 28,
   "id": "df4d27e5-e9ad-481e-a4ff-76ce2bb59b8f",
   "metadata": {},
   "outputs": [
    {
     "data": {
      "text/plain": [
       "count    3824.000000\n",
       "mean      479.945860\n",
       "std       328.528592\n",
       "min        49.820000\n",
       "25%       235.860000\n",
       "50%       314.680000\n",
       "75%       708.205000\n",
       "max      1287.580000\n",
       "Name: Close, dtype: float64"
      ]
     },
     "execution_count": 28,
     "metadata": {},
     "output_type": "execute_result"
    }
   ],
   "source": [
    "google.describe()\n",
    "\n",
    "#min        49.820000\n",
    "#max      1287.580000"
   ]
  },
  {
   "cell_type": "code",
   "execution_count": 31,
   "id": "59c636a1-821f-43ca-be09-e1caebe7f2ed",
   "metadata": {},
   "outputs": [
    {
     "data": {
      "text/plain": [
       "array([   0.,  200.,  400.,  600.,  800., 1000., 1200., 1400.])"
      ]
     },
     "execution_count": 31,
     "metadata": {},
     "output_type": "execute_result"
    }
   ],
   "source": [
    "bins = np.linspace(0, 1400, 8)\n",
    "bins   # 이걸로 슬라이싱해줄거임 인위적으로 범위 만든겨"
   ]
  },
  {
   "cell_type": "code",
   "execution_count": 34,
   "id": "e8eb5478-2dff-479c-91f3-ff65308bf20d",
   "metadata": {},
   "outputs": [
    {
     "data": {
      "text/plain": [
       "(200.0, 400.0]      1568\n",
       "(-0.001, 200.0]      595\n",
       "(400.0, 600.0]       575\n",
       "(1000.0, 1200.0]     406\n",
       "(600.0, 800.0]       380\n",
       "(800.0, 1000.0]      207\n",
       "(1200.0, 1400.0]      93\n",
       "Name: Close, dtype: int64"
      ]
     },
     "execution_count": 34,
     "metadata": {},
     "output_type": "execute_result"
    }
   ],
   "source": [
    "google.value_counts(bins=bins)\n",
    "\n",
    "#(0, 200] 0초과 200이하, (200, 400]... 범위에 포함되는 값의 개수를\n",
    "#세어서 자동으로 값의 내림차순으로 정렬"
   ]
  },
  {
   "cell_type": "code",
   "execution_count": 44,
   "id": "35857074-942a-4703-adfe-afe0df6c7b79",
   "metadata": {},
   "outputs": [
    {
     "data": {
      "text/plain": [
       "(-0.001, 200.0]      595\n",
       "(200.0, 400.0]      1568\n",
       "(400.0, 600.0]       575\n",
       "(600.0, 800.0]       380\n",
       "(800.0, 1000.0]      207\n",
       "(1000.0, 1200.0]     406\n",
       "(1200.0, 1400.0]      93\n",
       "Name: Close, dtype: int64"
      ]
     },
     "execution_count": 44,
     "metadata": {},
     "output_type": "execute_result"
    }
   ],
   "source": [
    "\"\"\"\n",
    "연습문제\n",
    "- google 변수가 가리키는 Series 객체에 대해\n",
    "[0, 200, 400, 600, 800, 1000, 1200, 1400]의 구간을 갖는 값의 개수를 구하고\n",
    "인덱스 순으로 정렬\n",
    "\"\"\"\n",
    "\n",
    "google.value_counts(bins=range(0,1401,200)).sort_index(na_position=\"first\")\n",
    "#                                         , sort=False) 해주면 sort 풀림\n",
    "#                          미입력 시 기본값 sort =True"
   ]
  },
  {
   "cell_type": "code",
   "execution_count": 45,
   "id": "26f7ffc8-2edc-48db-bb24-51ca2fa2c896",
   "metadata": {},
   "outputs": [
    {
     "data": {
      "text/plain": [
       "(48.581, 204.54]       651\n",
       "(204.54, 359.26]      1435\n",
       "(359.26, 513.98]       263\n",
       "(513.98, 668.7]        466\n",
       "(668.7, 823.42]        334\n",
       "(823.42, 978.14]       161\n",
       "(978.14, 1132.86]      283\n",
       "(1132.86, 1287.58]     231\n",
       "Name: Close, dtype: int64"
      ]
     },
     "execution_count": 45,
     "metadata": {},
     "output_type": "execute_result"
    }
   ],
   "source": [
    "#bins 에 정수로 전달하면 알아서 정수만큼의 구간으로 나누어줌\n",
    "google.value_counts(bins=8, sort=False)"
   ]
  },
  {
   "cell_type": "code",
   "execution_count": 54,
   "id": "71b38244-b00c-43bd-a298-9dfed0583715",
   "metadata": {},
   "outputs": [
    {
     "data": {
      "text/html": [
       "<div>\n",
       "<style scoped>\n",
       "    .dataframe tbody tr th:only-of-type {\n",
       "        vertical-align: middle;\n",
       "    }\n",
       "\n",
       "    .dataframe tbody tr th {\n",
       "        vertical-align: top;\n",
       "    }\n",
       "\n",
       "    .dataframe thead th {\n",
       "        text-align: right;\n",
       "    }\n",
       "</style>\n",
       "<table border=\"1\" class=\"dataframe\">\n",
       "  <thead>\n",
       "    <tr style=\"text-align: right;\">\n",
       "      <th></th>\n",
       "      <th>c1</th>\n",
       "      <th>c2</th>\n",
       "      <th>c3</th>\n",
       "    </tr>\n",
       "  </thead>\n",
       "  <tbody>\n",
       "    <tr>\n",
       "      <th>0</th>\n",
       "      <td>1</td>\n",
       "      <td>1.11</td>\n",
       "      <td>one</td>\n",
       "    </tr>\n",
       "    <tr>\n",
       "      <th>1</th>\n",
       "      <td>2</td>\n",
       "      <td></td>\n",
       "      <td>two</td>\n",
       "    </tr>\n",
       "    <tr>\n",
       "      <th>2</th>\n",
       "      <td>누락</td>\n",
       "      <td>3.33</td>\n",
       "      <td>three</td>\n",
       "    </tr>\n",
       "  </tbody>\n",
       "</table>\n",
       "</div>"
      ],
      "text/plain": [
       "   c1    c2     c3\n",
       "0   1  1.11    one\n",
       "1   2          two\n",
       "2  누락  3.33  three"
      ]
     },
     "execution_count": 54,
     "metadata": {},
     "output_type": "execute_result"
    }
   ],
   "source": [
    "#pandas 데이터 csv로 출력하기\n",
    "\n",
    "columns = ['c1', 'c2', 'c3']\n",
    "df_csv = pd.DataFrame([[1, 2, '누락'],\n",
    "              [1.11, '', 3.33],\n",
    "              ['one', 'two', 'three']],index=columns).T\n",
    "df_csv"
   ]
  },
  {
   "cell_type": "code",
   "execution_count": 56,
   "id": "b16d0c27-ccf2-4cf3-8f91-8dd1431f185f",
   "metadata": {},
   "outputs": [],
   "source": [
    "\"\"\"\n",
    "데이터를 csv 파일로 출력할 때 to_csv() 메서드 활용\n",
    "index=True 기본값인데 현재 만든 dataframe에서는 index가 필요없으므로 false로 해보겟읍니다\n",
    "\"\"\"\n",
    "\n",
    "df_csv.to_csv('datas/sample1.csv', index=False)"
   ]
  },
  {
   "cell_type": "code",
   "execution_count": 63,
   "id": "01b34e7b-961c-4635-9107-43c332128e82",
   "metadata": {},
   "outputs": [
    {
     "name": "stdout",
     "output_type": "stream",
     "text": [
      "   c1  c2\n",
      "0   1   4\n",
      "1   2   5\n",
      "2   3   6\n"
     ]
    },
    {
     "data": {
      "text/html": [
       "<div>\n",
       "<style scoped>\n",
       "    .dataframe tbody tr th:only-of-type {\n",
       "        vertical-align: middle;\n",
       "    }\n",
       "\n",
       "    .dataframe tbody tr th {\n",
       "        vertical-align: top;\n",
       "    }\n",
       "\n",
       "    .dataframe thead th {\n",
       "        text-align: right;\n",
       "    }\n",
       "</style>\n",
       "<table border=\"1\" class=\"dataframe\">\n",
       "  <thead>\n",
       "    <tr style=\"text-align: right;\">\n",
       "      <th></th>\n",
       "      <th>c1</th>\n",
       "      <th>c2</th>\n",
       "      <th>c3</th>\n",
       "    </tr>\n",
       "  </thead>\n",
       "  <tbody>\n",
       "    <tr>\n",
       "      <th>0</th>\n",
       "      <td>1</td>\n",
       "      <td>2</td>\n",
       "      <td>3</td>\n",
       "    </tr>\n",
       "    <tr>\n",
       "      <th>1</th>\n",
       "      <td>4</td>\n",
       "      <td>5</td>\n",
       "      <td>6</td>\n",
       "    </tr>\n",
       "  </tbody>\n",
       "</table>\n",
       "</div>"
      ],
      "text/plain": [
       "   c1  c2  c3\n",
       "0   1   2   3\n",
       "1   4   5   6"
      ]
     },
     "execution_count": 63,
     "metadata": {},
     "output_type": "execute_result"
    }
   ],
   "source": [
    "#딕셔너리는 키값 기준으로 열 추가됨\n",
    "d = { 'c1' :[1, 2, 3], 'c2':[4, 5, 6] }\n",
    "print(pd.DataFrame(d))\n",
    "\n",
    "#리스트는 행으로 쌓임...\n",
    "pd.DataFrame(\n",
    "    data = [[1,2,3], [4,5,6]],\n",
    "    columns = ['c1', 'c2', 'c3']\n",
    ")"
   ]
  },
  {
   "cell_type": "code",
   "execution_count": 71,
   "id": "eea889d7-f1c9-4ea0-a397-782cb14a4312",
   "metadata": {},
   "outputs": [
    {
     "data": {
      "text/plain": [
       "'C:\\\\python'"
      ]
     },
     "execution_count": 71,
     "metadata": {},
     "output_type": "execute_result"
    }
   ],
   "source": [
    "%pwd\n",
    "\n",
    "#지금 어디서 동작하고 있는지 위치 뜸"
   ]
  },
  {
   "cell_type": "code",
   "execution_count": 70,
   "id": "694893a3-0338-4895-b06c-4e15f4f3c5aa",
   "metadata": {},
   "outputs": [
    {
     "name": "stdout",
     "output_type": "stream",
     "text": [
      "C:\\python\n"
     ]
    }
   ],
   "source": [
    "%cd C:\\\\python\n",
    "\n",
    "# 현재 경로 바꿔줌"
   ]
  },
  {
   "cell_type": "code",
   "execution_count": 77,
   "id": "71daf45e-dd43-4894-8e92-28501bd8c000",
   "metadata": {},
   "outputs": [
    {
     "name": "stdout",
     "output_type": "stream",
     "text": [
      "C:\\python\\datas\n"
     ]
    },
    {
     "data": {
      "text/html": [
       "<div>\n",
       "<style scoped>\n",
       "    .dataframe tbody tr th:only-of-type {\n",
       "        vertical-align: middle;\n",
       "    }\n",
       "\n",
       "    .dataframe tbody tr th {\n",
       "        vertical-align: top;\n",
       "    }\n",
       "\n",
       "    .dataframe thead th {\n",
       "        text-align: right;\n",
       "    }\n",
       "</style>\n",
       "<table border=\"1\" class=\"dataframe\">\n",
       "  <thead>\n",
       "    <tr style=\"text-align: right;\">\n",
       "      <th></th>\n",
       "      <th>c1</th>\n",
       "      <th>c2</th>\n",
       "      <th>c3</th>\n",
       "    </tr>\n",
       "  </thead>\n",
       "  <tbody>\n",
       "    <tr>\n",
       "      <th>0</th>\n",
       "      <td>1</td>\n",
       "      <td>1.11</td>\n",
       "      <td>one</td>\n",
       "    </tr>\n",
       "    <tr>\n",
       "      <th>1</th>\n",
       "      <td>2</td>\n",
       "      <td>NaN</td>\n",
       "      <td>two</td>\n",
       "    </tr>\n",
       "    <tr>\n",
       "      <th>2</th>\n",
       "      <td>누락</td>\n",
       "      <td>3.33</td>\n",
       "      <td>three</td>\n",
       "    </tr>\n",
       "  </tbody>\n",
       "</table>\n",
       "</div>"
      ],
      "text/plain": [
       "   c1    c2     c3\n",
       "0   1  1.11    one\n",
       "1   2   NaN    two\n",
       "2  누락  3.33  three"
      ]
     },
     "execution_count": 77,
     "metadata": {},
     "output_type": "execute_result"
    }
   ],
   "source": [
    "%cd C:\\\\python\\datas\n",
    "df_read = pd.read_csv('sample1.csv')\n",
    "df_read"
   ]
  },
  {
   "cell_type": "code",
   "execution_count": 79,
   "id": "6accd303-270b-43ff-9cd7-5816a3d0a22c",
   "metadata": {},
   "outputs": [],
   "source": [
    "df_csv.to_csv('sample2.csv', index=False, header=False)\n",
    "#인덱스 없이:)"
   ]
  },
  {
   "cell_type": "code",
   "execution_count": 81,
   "id": "083516f8-4af5-487d-9c9a-fe713a04a731",
   "metadata": {},
   "outputs": [
    {
     "data": {
      "text/html": [
       "<div>\n",
       "<style scoped>\n",
       "    .dataframe tbody tr th:only-of-type {\n",
       "        vertical-align: middle;\n",
       "    }\n",
       "\n",
       "    .dataframe tbody tr th {\n",
       "        vertical-align: top;\n",
       "    }\n",
       "\n",
       "    .dataframe thead th {\n",
       "        text-align: right;\n",
       "    }\n",
       "</style>\n",
       "<table border=\"1\" class=\"dataframe\">\n",
       "  <thead>\n",
       "    <tr style=\"text-align: right;\">\n",
       "      <th></th>\n",
       "      <th>c1</th>\n",
       "      <th>c2</th>\n",
       "      <th>c3</th>\n",
       "    </tr>\n",
       "  </thead>\n",
       "  <tbody>\n",
       "    <tr>\n",
       "      <th>0</th>\n",
       "      <td>1</td>\n",
       "      <td>1.11</td>\n",
       "      <td>one</td>\n",
       "    </tr>\n",
       "    <tr>\n",
       "      <th>1</th>\n",
       "      <td>2</td>\n",
       "      <td>NaN</td>\n",
       "      <td>two</td>\n",
       "    </tr>\n",
       "    <tr>\n",
       "      <th>2</th>\n",
       "      <td>누락</td>\n",
       "      <td>3.33</td>\n",
       "      <td>three</td>\n",
       "    </tr>\n",
       "  </tbody>\n",
       "</table>\n",
       "</div>"
      ],
      "text/plain": [
       "   c1    c2     c3\n",
       "0   1  1.11    one\n",
       "1   2   NaN    two\n",
       "2  누락  3.33  three"
      ]
     },
     "execution_count": 81,
     "metadata": {},
     "output_type": "execute_result"
    }
   ],
   "source": [
    "pd.read_csv('sample2.csv', names=['c1', 'c2', 'c3'])\n",
    "\n",
    "#불러올 때 header 만들어 줌 (열 이름)"
   ]
  },
  {
   "cell_type": "code",
   "execution_count": 88,
   "id": "50cb25c2-399c-47ce-b2ac-ae22d84c73dc",
   "metadata": {},
   "outputs": [
    {
     "name": "stdout",
     "output_type": "stream",
     "text": [
      "Writing sample3.txt\n"
     ]
    }
   ],
   "source": [
    "%%writefile sample3.txt\n",
    "c1       c2        c3        c4\n",
    "0.179181 -1.538472  1.347553  0.43381\n",
    "1.024209  0.087307 -1.281997  0.49265\n",
    "0.417899 -2.002308  0.255245 -1.10515"
   ]
  },
  {
   "cell_type": "code",
   "execution_count": 89,
   "id": "4f67a298-6db6-4d15-9f16-1e18e09a7f07",
   "metadata": {},
   "outputs": [],
   "source": [
    "# 위는 jupyterlab 자체 기능"
   ]
  },
  {
   "cell_type": "code",
   "execution_count": 91,
   "id": "210f586b-b4c5-4bb6-97a8-4d3bec6ed7e2",
   "metadata": {},
   "outputs": [
    {
     "data": {
      "text/html": [
       "<div>\n",
       "<style scoped>\n",
       "    .dataframe tbody tr th:only-of-type {\n",
       "        vertical-align: middle;\n",
       "    }\n",
       "\n",
       "    .dataframe tbody tr th {\n",
       "        vertical-align: top;\n",
       "    }\n",
       "\n",
       "    .dataframe thead th {\n",
       "        text-align: right;\n",
       "    }\n",
       "</style>\n",
       "<table border=\"1\" class=\"dataframe\">\n",
       "  <thead>\n",
       "    <tr style=\"text-align: right;\">\n",
       "      <th></th>\n",
       "      <th>c1</th>\n",
       "      <th>c2</th>\n",
       "      <th>c3</th>\n",
       "      <th>c4</th>\n",
       "    </tr>\n",
       "  </thead>\n",
       "  <tbody>\n",
       "    <tr>\n",
       "      <th>0</th>\n",
       "      <td>0.179181</td>\n",
       "      <td>-1.538472</td>\n",
       "      <td>1.347553</td>\n",
       "      <td>0.43381</td>\n",
       "    </tr>\n",
       "    <tr>\n",
       "      <th>1</th>\n",
       "      <td>1.024209</td>\n",
       "      <td>0.087307</td>\n",
       "      <td>-1.281997</td>\n",
       "      <td>0.49265</td>\n",
       "    </tr>\n",
       "    <tr>\n",
       "      <th>2</th>\n",
       "      <td>0.417899</td>\n",
       "      <td>-2.002308</td>\n",
       "      <td>0.255245</td>\n",
       "      <td>-1.10515</td>\n",
       "    </tr>\n",
       "  </tbody>\n",
       "</table>\n",
       "</div>"
      ],
      "text/plain": [
       "         c1        c2        c3       c4\n",
       "0  0.179181 -1.538472  1.347553  0.43381\n",
       "1  1.024209  0.087307 -1.281997  0.49265\n",
       "2  0.417899 -2.002308  0.255245 -1.10515"
      ]
     },
     "execution_count": 91,
     "metadata": {},
     "output_type": "execute_result"
    }
   ],
   "source": [
    "        # 길이가 정해지지 않은 공백이 구분자인 경우\n",
    "        #                       space + 정규식 문자열 사용\n",
    "pd.read_table('sample3.txt', sep='\\s+' )"
   ]
  },
  {
   "cell_type": "code",
   "execution_count": 92,
   "id": "184765fc-14b2-41f6-b008-f14398b76fb7",
   "metadata": {},
   "outputs": [
    {
     "name": "stdout",
     "output_type": "stream",
     "text": [
      "Writing sample4.txt\n"
     ]
    }
   ],
   "source": [
    "%%writefile sample4.txt\n",
    "파일 제목: sample4.txt\n",
    "데이터 포맷의 설명:\n",
    "c1, c2, c3\n",
    "1, 1.11, one\n",
    "2, 2.22, two\n",
    "3, 3.33, three"
   ]
  },
  {
   "cell_type": "code",
   "execution_count": 93,
   "id": "92d4f603-f2a3-4c20-af9d-3155d4be4415",
   "metadata": {},
   "outputs": [
    {
     "data": {
      "text/html": [
       "<div>\n",
       "<style scoped>\n",
       "    .dataframe tbody tr th:only-of-type {\n",
       "        vertical-align: middle;\n",
       "    }\n",
       "\n",
       "    .dataframe tbody tr th {\n",
       "        vertical-align: top;\n",
       "    }\n",
       "\n",
       "    .dataframe thead th {\n",
       "        text-align: right;\n",
       "    }\n",
       "</style>\n",
       "<table border=\"1\" class=\"dataframe\">\n",
       "  <thead>\n",
       "    <tr style=\"text-align: right;\">\n",
       "      <th></th>\n",
       "      <th>c1</th>\n",
       "      <th>c2</th>\n",
       "      <th>c3</th>\n",
       "    </tr>\n",
       "  </thead>\n",
       "  <tbody>\n",
       "    <tr>\n",
       "      <th>0</th>\n",
       "      <td>1</td>\n",
       "      <td>1.11</td>\n",
       "      <td>one</td>\n",
       "    </tr>\n",
       "    <tr>\n",
       "      <th>1</th>\n",
       "      <td>2</td>\n",
       "      <td>2.22</td>\n",
       "      <td>two</td>\n",
       "    </tr>\n",
       "    <tr>\n",
       "      <th>2</th>\n",
       "      <td>3</td>\n",
       "      <td>3.33</td>\n",
       "      <td>three</td>\n",
       "    </tr>\n",
       "  </tbody>\n",
       "</table>\n",
       "</div>"
      ],
      "text/plain": [
       "   c1    c2      c3\n",
       "0   1  1.11     one\n",
       "1   2  2.22     two\n",
       "2   3  3.33   three"
      ]
     },
     "execution_count": 93,
     "metadata": {},
     "output_type": "execute_result"
    }
   ],
   "source": [
    "#앞 두 줄을 skip 하겠다는 뜻\n",
    "pd.read_csv('sample4.txt', skiprows=[0, 1] )"
   ]
  },
  {
   "cell_type": "code",
   "execution_count": 95,
   "id": "b020860f-b28f-47a1-9acf-0e42cc0c9312",
   "metadata": {},
   "outputs": [
    {
     "data": {
      "text/html": [
       "<div>\n",
       "<style scoped>\n",
       "    .dataframe tbody tr th:only-of-type {\n",
       "        vertical-align: middle;\n",
       "    }\n",
       "\n",
       "    .dataframe tbody tr th {\n",
       "        vertical-align: top;\n",
       "    }\n",
       "\n",
       "    .dataframe thead th {\n",
       "        text-align: right;\n",
       "    }\n",
       "</style>\n",
       "<table border=\"1\" class=\"dataframe\">\n",
       "  <thead>\n",
       "    <tr style=\"text-align: right;\">\n",
       "      <th></th>\n",
       "      <th>c1</th>\n",
       "      <th>c2</th>\n",
       "      <th>c3</th>\n",
       "    </tr>\n",
       "  </thead>\n",
       "  <tbody>\n",
       "    <tr>\n",
       "      <th>0</th>\n",
       "      <td>1.0</td>\n",
       "      <td>1.11</td>\n",
       "      <td>one</td>\n",
       "    </tr>\n",
       "    <tr>\n",
       "      <th>1</th>\n",
       "      <td>2.0</td>\n",
       "      <td>NaN</td>\n",
       "      <td>two</td>\n",
       "    </tr>\n",
       "    <tr>\n",
       "      <th>2</th>\n",
       "      <td>NaN</td>\n",
       "      <td>3.33</td>\n",
       "      <td>three</td>\n",
       "    </tr>\n",
       "  </tbody>\n",
       "</table>\n",
       "</div>"
      ],
      "text/plain": [
       "    c1    c2     c3\n",
       "0  1.0  1.11    one\n",
       "1  2.0   NaN    two\n",
       "2  NaN  3.33  three"
      ]
     },
     "execution_count": 95,
     "metadata": {},
     "output_type": "execute_result"
    }
   ],
   "source": [
    "#자료 안 특정 값을 NaN으로 취급하고 싶으면 na_values 인수에 NaN으로 취급할 값을 넣기\n",
    "\n",
    "df_na_val = pd.read_csv('sample1.csv', na_values=['누락'] )\n",
    "df_na_val"
   ]
  },
  {
   "cell_type": "code",
   "execution_count": 98,
   "id": "a0beb6c2-3357-4ccc-abb4-b3b8a439b14f",
   "metadata": {},
   "outputs": [],
   "source": [
    "# 구분자 바꿔서 넣어봅쉬다\n",
    "# | vertical bar\n",
    "\n",
    "df_na_val.to_csv('sample5.txt', sep = '|' )\n",
    "\n",
    "#to_csv 지만 .txt로 지정해주면 txt로 저장된다"
   ]
  },
  {
   "cell_type": "code",
   "execution_count": 99,
   "id": "78724690-7a9a-43a0-ad65-4f6c6e264aa5",
   "metadata": {},
   "outputs": [],
   "source": [
    "#불러올 때와 마찬가지로 저장할 때도\n",
    "#na_rep 키워드 인수를 사용해서 NaN 값을 바꿀 수 있다.\n",
    "df_na_val.to_csv('sample6.csv', na_rep='누락')"
   ]
  },
  {
   "cell_type": "code",
   "execution_count": 104,
   "id": "fa32775a-2572-4b49-b62b-af9cfd4a844e",
   "metadata": {},
   "outputs": [
    {
     "data": {
      "text/html": [
       "<div>\n",
       "<style scoped>\n",
       "    .dataframe tbody tr th:only-of-type {\n",
       "        vertical-align: middle;\n",
       "    }\n",
       "\n",
       "    .dataframe tbody tr th {\n",
       "        vertical-align: top;\n",
       "    }\n",
       "\n",
       "    .dataframe thead th {\n",
       "        text-align: right;\n",
       "    }\n",
       "</style>\n",
       "<table border=\"1\" class=\"dataframe\">\n",
       "  <thead>\n",
       "    <tr style=\"text-align: right;\">\n",
       "      <th></th>\n",
       "      <th>survived</th>\n",
       "      <th>sex</th>\n",
       "      <th>age</th>\n",
       "      <th>n_siblings_spouses</th>\n",
       "      <th>parch</th>\n",
       "      <th>fare</th>\n",
       "      <th>class</th>\n",
       "      <th>deck</th>\n",
       "      <th>embark_town</th>\n",
       "      <th>alone</th>\n",
       "    </tr>\n",
       "  </thead>\n",
       "  <tbody>\n",
       "    <tr>\n",
       "      <th>0</th>\n",
       "      <td>0</td>\n",
       "      <td>male</td>\n",
       "      <td>22.0</td>\n",
       "      <td>1</td>\n",
       "      <td>0</td>\n",
       "      <td>7.2500</td>\n",
       "      <td>Third</td>\n",
       "      <td>unknown</td>\n",
       "      <td>Southampton</td>\n",
       "      <td>n</td>\n",
       "    </tr>\n",
       "    <tr>\n",
       "      <th>1</th>\n",
       "      <td>1</td>\n",
       "      <td>female</td>\n",
       "      <td>38.0</td>\n",
       "      <td>1</td>\n",
       "      <td>0</td>\n",
       "      <td>71.2833</td>\n",
       "      <td>First</td>\n",
       "      <td>C</td>\n",
       "      <td>Cherbourg</td>\n",
       "      <td>n</td>\n",
       "    </tr>\n",
       "    <tr>\n",
       "      <th>2</th>\n",
       "      <td>1</td>\n",
       "      <td>female</td>\n",
       "      <td>26.0</td>\n",
       "      <td>0</td>\n",
       "      <td>0</td>\n",
       "      <td>7.9250</td>\n",
       "      <td>Third</td>\n",
       "      <td>unknown</td>\n",
       "      <td>Southampton</td>\n",
       "      <td>y</td>\n",
       "    </tr>\n",
       "    <tr>\n",
       "      <th>3</th>\n",
       "      <td>1</td>\n",
       "      <td>female</td>\n",
       "      <td>35.0</td>\n",
       "      <td>1</td>\n",
       "      <td>0</td>\n",
       "      <td>53.1000</td>\n",
       "      <td>First</td>\n",
       "      <td>C</td>\n",
       "      <td>Southampton</td>\n",
       "      <td>n</td>\n",
       "    </tr>\n",
       "    <tr>\n",
       "      <th>4</th>\n",
       "      <td>0</td>\n",
       "      <td>male</td>\n",
       "      <td>28.0</td>\n",
       "      <td>0</td>\n",
       "      <td>0</td>\n",
       "      <td>8.4583</td>\n",
       "      <td>Third</td>\n",
       "      <td>unknown</td>\n",
       "      <td>Queenstown</td>\n",
       "      <td>y</td>\n",
       "    </tr>\n",
       "    <tr>\n",
       "      <th>...</th>\n",
       "      <td>...</td>\n",
       "      <td>...</td>\n",
       "      <td>...</td>\n",
       "      <td>...</td>\n",
       "      <td>...</td>\n",
       "      <td>...</td>\n",
       "      <td>...</td>\n",
       "      <td>...</td>\n",
       "      <td>...</td>\n",
       "      <td>...</td>\n",
       "    </tr>\n",
       "    <tr>\n",
       "      <th>622</th>\n",
       "      <td>0</td>\n",
       "      <td>male</td>\n",
       "      <td>28.0</td>\n",
       "      <td>0</td>\n",
       "      <td>0</td>\n",
       "      <td>10.5000</td>\n",
       "      <td>Second</td>\n",
       "      <td>unknown</td>\n",
       "      <td>Southampton</td>\n",
       "      <td>y</td>\n",
       "    </tr>\n",
       "    <tr>\n",
       "      <th>623</th>\n",
       "      <td>0</td>\n",
       "      <td>male</td>\n",
       "      <td>25.0</td>\n",
       "      <td>0</td>\n",
       "      <td>0</td>\n",
       "      <td>7.0500</td>\n",
       "      <td>Third</td>\n",
       "      <td>unknown</td>\n",
       "      <td>Southampton</td>\n",
       "      <td>y</td>\n",
       "    </tr>\n",
       "    <tr>\n",
       "      <th>624</th>\n",
       "      <td>1</td>\n",
       "      <td>female</td>\n",
       "      <td>19.0</td>\n",
       "      <td>0</td>\n",
       "      <td>0</td>\n",
       "      <td>30.0000</td>\n",
       "      <td>First</td>\n",
       "      <td>B</td>\n",
       "      <td>Southampton</td>\n",
       "      <td>y</td>\n",
       "    </tr>\n",
       "    <tr>\n",
       "      <th>625</th>\n",
       "      <td>0</td>\n",
       "      <td>female</td>\n",
       "      <td>28.0</td>\n",
       "      <td>1</td>\n",
       "      <td>2</td>\n",
       "      <td>23.4500</td>\n",
       "      <td>Third</td>\n",
       "      <td>unknown</td>\n",
       "      <td>Southampton</td>\n",
       "      <td>n</td>\n",
       "    </tr>\n",
       "    <tr>\n",
       "      <th>626</th>\n",
       "      <td>0</td>\n",
       "      <td>male</td>\n",
       "      <td>32.0</td>\n",
       "      <td>0</td>\n",
       "      <td>0</td>\n",
       "      <td>7.7500</td>\n",
       "      <td>Third</td>\n",
       "      <td>unknown</td>\n",
       "      <td>Queenstown</td>\n",
       "      <td>y</td>\n",
       "    </tr>\n",
       "  </tbody>\n",
       "</table>\n",
       "<p>627 rows × 10 columns</p>\n",
       "</div>"
      ],
      "text/plain": [
       "     survived     sex   age  n_siblings_spouses  parch     fare   class  \\\n",
       "0           0    male  22.0                   1      0   7.2500   Third   \n",
       "1           1  female  38.0                   1      0  71.2833   First   \n",
       "2           1  female  26.0                   0      0   7.9250   Third   \n",
       "3           1  female  35.0                   1      0  53.1000   First   \n",
       "4           0    male  28.0                   0      0   8.4583   Third   \n",
       "..        ...     ...   ...                 ...    ...      ...     ...   \n",
       "622         0    male  28.0                   0      0  10.5000  Second   \n",
       "623         0    male  25.0                   0      0   7.0500   Third   \n",
       "624         1  female  19.0                   0      0  30.0000   First   \n",
       "625         0  female  28.0                   1      2  23.4500   Third   \n",
       "626         0    male  32.0                   0      0   7.7500   Third   \n",
       "\n",
       "        deck  embark_town alone  \n",
       "0    unknown  Southampton     n  \n",
       "1          C    Cherbourg     n  \n",
       "2    unknown  Southampton     y  \n",
       "3          C  Southampton     n  \n",
       "4    unknown   Queenstown     y  \n",
       "..       ...          ...   ...  \n",
       "622  unknown  Southampton     y  \n",
       "623  unknown  Southampton     y  \n",
       "624        B  Southampton     y  \n",
       "625  unknown  Southampton     n  \n",
       "626  unknown   Queenstown     y  \n",
       "\n",
       "[627 rows x 10 columns]"
      ]
     },
     "execution_count": 104,
     "metadata": {},
     "output_type": "execute_result"
    }
   ],
   "source": [
    "#유명한 데이터인데 불러와볼게용.\n",
    "\"\"\" 온라인 csv 파일 가져오기 \"\"\"\n",
    "\n",
    "titanic = pd.read_csv(\"https://storage.googleapis.com/tf-datasets/titanic/train.csv\")\n",
    "titanic"
   ]
  },
  {
   "cell_type": "code",
   "execution_count": 101,
   "id": "d8172748-e17d-4e1a-b907-ce2e4ec7d8ad",
   "metadata": {},
   "outputs": [
    {
     "data": {
      "text/html": [
       "<div>\n",
       "<style scoped>\n",
       "    .dataframe tbody tr th:only-of-type {\n",
       "        vertical-align: middle;\n",
       "    }\n",
       "\n",
       "    .dataframe tbody tr th {\n",
       "        vertical-align: top;\n",
       "    }\n",
       "\n",
       "    .dataframe thead th {\n",
       "        text-align: right;\n",
       "    }\n",
       "</style>\n",
       "<table border=\"1\" class=\"dataframe\">\n",
       "  <thead>\n",
       "    <tr style=\"text-align: right;\">\n",
       "      <th></th>\n",
       "      <th>survived</th>\n",
       "      <th>age</th>\n",
       "      <th>n_siblings_spouses</th>\n",
       "      <th>parch</th>\n",
       "      <th>fare</th>\n",
       "    </tr>\n",
       "  </thead>\n",
       "  <tbody>\n",
       "    <tr>\n",
       "      <th>count</th>\n",
       "      <td>627.000000</td>\n",
       "      <td>627.000000</td>\n",
       "      <td>627.000000</td>\n",
       "      <td>627.000000</td>\n",
       "      <td>627.000000</td>\n",
       "    </tr>\n",
       "    <tr>\n",
       "      <th>mean</th>\n",
       "      <td>0.387560</td>\n",
       "      <td>29.631308</td>\n",
       "      <td>0.545455</td>\n",
       "      <td>0.379585</td>\n",
       "      <td>34.385399</td>\n",
       "    </tr>\n",
       "    <tr>\n",
       "      <th>std</th>\n",
       "      <td>0.487582</td>\n",
       "      <td>12.511818</td>\n",
       "      <td>1.151090</td>\n",
       "      <td>0.792999</td>\n",
       "      <td>54.597730</td>\n",
       "    </tr>\n",
       "    <tr>\n",
       "      <th>min</th>\n",
       "      <td>0.000000</td>\n",
       "      <td>0.750000</td>\n",
       "      <td>0.000000</td>\n",
       "      <td>0.000000</td>\n",
       "      <td>0.000000</td>\n",
       "    </tr>\n",
       "    <tr>\n",
       "      <th>25%</th>\n",
       "      <td>0.000000</td>\n",
       "      <td>23.000000</td>\n",
       "      <td>0.000000</td>\n",
       "      <td>0.000000</td>\n",
       "      <td>7.895800</td>\n",
       "    </tr>\n",
       "    <tr>\n",
       "      <th>50%</th>\n",
       "      <td>0.000000</td>\n",
       "      <td>28.000000</td>\n",
       "      <td>0.000000</td>\n",
       "      <td>0.000000</td>\n",
       "      <td>15.045800</td>\n",
       "    </tr>\n",
       "    <tr>\n",
       "      <th>75%</th>\n",
       "      <td>1.000000</td>\n",
       "      <td>35.000000</td>\n",
       "      <td>1.000000</td>\n",
       "      <td>0.000000</td>\n",
       "      <td>31.387500</td>\n",
       "    </tr>\n",
       "    <tr>\n",
       "      <th>max</th>\n",
       "      <td>1.000000</td>\n",
       "      <td>80.000000</td>\n",
       "      <td>8.000000</td>\n",
       "      <td>5.000000</td>\n",
       "      <td>512.329200</td>\n",
       "    </tr>\n",
       "  </tbody>\n",
       "</table>\n",
       "</div>"
      ],
      "text/plain": [
       "         survived         age  n_siblings_spouses       parch        fare\n",
       "count  627.000000  627.000000          627.000000  627.000000  627.000000\n",
       "mean     0.387560   29.631308            0.545455    0.379585   34.385399\n",
       "std      0.487582   12.511818            1.151090    0.792999   54.597730\n",
       "min      0.000000    0.750000            0.000000    0.000000    0.000000\n",
       "25%      0.000000   23.000000            0.000000    0.000000    7.895800\n",
       "50%      0.000000   28.000000            0.000000    0.000000   15.045800\n",
       "75%      1.000000   35.000000            1.000000    0.000000   31.387500\n",
       "max      1.000000   80.000000            8.000000    5.000000  512.329200"
      ]
     },
     "execution_count": 101,
     "metadata": {},
     "output_type": "execute_result"
    }
   ],
   "source": [
    "titanic.describe()"
   ]
  },
  {
   "cell_type": "code",
   "execution_count": 102,
   "id": "960d5726-b58a-4b83-9510-e3aaeffdf27d",
   "metadata": {},
   "outputs": [
    {
     "data": {
      "text/html": [
       "<div>\n",
       "<style scoped>\n",
       "    .dataframe tbody tr th:only-of-type {\n",
       "        vertical-align: middle;\n",
       "    }\n",
       "\n",
       "    .dataframe tbody tr th {\n",
       "        vertical-align: top;\n",
       "    }\n",
       "\n",
       "    .dataframe thead th {\n",
       "        text-align: right;\n",
       "    }\n",
       "</style>\n",
       "<table border=\"1\" class=\"dataframe\">\n",
       "  <thead>\n",
       "    <tr style=\"text-align: right;\">\n",
       "      <th></th>\n",
       "      <th>survived</th>\n",
       "      <th>sex</th>\n",
       "      <th>age</th>\n",
       "      <th>n_siblings_spouses</th>\n",
       "      <th>parch</th>\n",
       "      <th>fare</th>\n",
       "      <th>class</th>\n",
       "      <th>deck</th>\n",
       "      <th>embark_town</th>\n",
       "      <th>alone</th>\n",
       "    </tr>\n",
       "  </thead>\n",
       "  <tbody>\n",
       "    <tr>\n",
       "      <th>0</th>\n",
       "      <td>0</td>\n",
       "      <td>male</td>\n",
       "      <td>22.0</td>\n",
       "      <td>1</td>\n",
       "      <td>0</td>\n",
       "      <td>7.2500</td>\n",
       "      <td>Third</td>\n",
       "      <td>unknown</td>\n",
       "      <td>Southampton</td>\n",
       "      <td>n</td>\n",
       "    </tr>\n",
       "    <tr>\n",
       "      <th>1</th>\n",
       "      <td>1</td>\n",
       "      <td>female</td>\n",
       "      <td>38.0</td>\n",
       "      <td>1</td>\n",
       "      <td>0</td>\n",
       "      <td>71.2833</td>\n",
       "      <td>First</td>\n",
       "      <td>C</td>\n",
       "      <td>Cherbourg</td>\n",
       "      <td>n</td>\n",
       "    </tr>\n",
       "    <tr>\n",
       "      <th>2</th>\n",
       "      <td>1</td>\n",
       "      <td>female</td>\n",
       "      <td>26.0</td>\n",
       "      <td>0</td>\n",
       "      <td>0</td>\n",
       "      <td>7.9250</td>\n",
       "      <td>Third</td>\n",
       "      <td>unknown</td>\n",
       "      <td>Southampton</td>\n",
       "      <td>y</td>\n",
       "    </tr>\n",
       "    <tr>\n",
       "      <th>3</th>\n",
       "      <td>1</td>\n",
       "      <td>female</td>\n",
       "      <td>35.0</td>\n",
       "      <td>1</td>\n",
       "      <td>0</td>\n",
       "      <td>53.1000</td>\n",
       "      <td>First</td>\n",
       "      <td>C</td>\n",
       "      <td>Southampton</td>\n",
       "      <td>n</td>\n",
       "    </tr>\n",
       "    <tr>\n",
       "      <th>4</th>\n",
       "      <td>0</td>\n",
       "      <td>male</td>\n",
       "      <td>28.0</td>\n",
       "      <td>0</td>\n",
       "      <td>0</td>\n",
       "      <td>8.4583</td>\n",
       "      <td>Third</td>\n",
       "      <td>unknown</td>\n",
       "      <td>Queenstown</td>\n",
       "      <td>y</td>\n",
       "    </tr>\n",
       "  </tbody>\n",
       "</table>\n",
       "</div>"
      ],
      "text/plain": [
       "   survived     sex   age  n_siblings_spouses  parch     fare  class     deck  \\\n",
       "0         0    male  22.0                   1      0   7.2500  Third  unknown   \n",
       "1         1  female  38.0                   1      0  71.2833  First        C   \n",
       "2         1  female  26.0                   0      0   7.9250  Third  unknown   \n",
       "3         1  female  35.0                   1      0  53.1000  First        C   \n",
       "4         0    male  28.0                   0      0   8.4583  Third  unknown   \n",
       "\n",
       "   embark_town alone  \n",
       "0  Southampton     n  \n",
       "1    Cherbourg     n  \n",
       "2  Southampton     y  \n",
       "3  Southampton     n  \n",
       "4   Queenstown     y  "
      ]
     },
     "execution_count": 102,
     "metadata": {},
     "output_type": "execute_result"
    }
   ],
   "source": [
    "titanic.head(5)"
   ]
  },
  {
   "cell_type": "code",
   "execution_count": 103,
   "id": "f3c47273-b0d5-4bd1-8153-ec677956c667",
   "metadata": {},
   "outputs": [
    {
     "data": {
      "text/html": [
       "<div>\n",
       "<style scoped>\n",
       "    .dataframe tbody tr th:only-of-type {\n",
       "        vertical-align: middle;\n",
       "    }\n",
       "\n",
       "    .dataframe tbody tr th {\n",
       "        vertical-align: top;\n",
       "    }\n",
       "\n",
       "    .dataframe thead th {\n",
       "        text-align: right;\n",
       "    }\n",
       "</style>\n",
       "<table border=\"1\" class=\"dataframe\">\n",
       "  <thead>\n",
       "    <tr style=\"text-align: right;\">\n",
       "      <th></th>\n",
       "      <th>survived</th>\n",
       "      <th>sex</th>\n",
       "      <th>age</th>\n",
       "      <th>n_siblings_spouses</th>\n",
       "      <th>parch</th>\n",
       "      <th>fare</th>\n",
       "      <th>class</th>\n",
       "      <th>deck</th>\n",
       "      <th>embark_town</th>\n",
       "      <th>alone</th>\n",
       "    </tr>\n",
       "  </thead>\n",
       "  <tbody>\n",
       "    <tr>\n",
       "      <th>617</th>\n",
       "      <td>1</td>\n",
       "      <td>female</td>\n",
       "      <td>15.0</td>\n",
       "      <td>0</td>\n",
       "      <td>0</td>\n",
       "      <td>7.2250</td>\n",
       "      <td>Third</td>\n",
       "      <td>unknown</td>\n",
       "      <td>Cherbourg</td>\n",
       "      <td>y</td>\n",
       "    </tr>\n",
       "    <tr>\n",
       "      <th>618</th>\n",
       "      <td>0</td>\n",
       "      <td>male</td>\n",
       "      <td>20.0</td>\n",
       "      <td>0</td>\n",
       "      <td>0</td>\n",
       "      <td>9.8458</td>\n",
       "      <td>Third</td>\n",
       "      <td>unknown</td>\n",
       "      <td>Southampton</td>\n",
       "      <td>y</td>\n",
       "    </tr>\n",
       "    <tr>\n",
       "      <th>619</th>\n",
       "      <td>0</td>\n",
       "      <td>male</td>\n",
       "      <td>19.0</td>\n",
       "      <td>0</td>\n",
       "      <td>0</td>\n",
       "      <td>7.8958</td>\n",
       "      <td>Third</td>\n",
       "      <td>unknown</td>\n",
       "      <td>Southampton</td>\n",
       "      <td>y</td>\n",
       "    </tr>\n",
       "    <tr>\n",
       "      <th>620</th>\n",
       "      <td>0</td>\n",
       "      <td>male</td>\n",
       "      <td>28.0</td>\n",
       "      <td>0</td>\n",
       "      <td>0</td>\n",
       "      <td>7.8958</td>\n",
       "      <td>Third</td>\n",
       "      <td>unknown</td>\n",
       "      <td>Southampton</td>\n",
       "      <td>y</td>\n",
       "    </tr>\n",
       "    <tr>\n",
       "      <th>621</th>\n",
       "      <td>0</td>\n",
       "      <td>female</td>\n",
       "      <td>22.0</td>\n",
       "      <td>0</td>\n",
       "      <td>0</td>\n",
       "      <td>10.5167</td>\n",
       "      <td>Third</td>\n",
       "      <td>unknown</td>\n",
       "      <td>Southampton</td>\n",
       "      <td>y</td>\n",
       "    </tr>\n",
       "    <tr>\n",
       "      <th>622</th>\n",
       "      <td>0</td>\n",
       "      <td>male</td>\n",
       "      <td>28.0</td>\n",
       "      <td>0</td>\n",
       "      <td>0</td>\n",
       "      <td>10.5000</td>\n",
       "      <td>Second</td>\n",
       "      <td>unknown</td>\n",
       "      <td>Southampton</td>\n",
       "      <td>y</td>\n",
       "    </tr>\n",
       "    <tr>\n",
       "      <th>623</th>\n",
       "      <td>0</td>\n",
       "      <td>male</td>\n",
       "      <td>25.0</td>\n",
       "      <td>0</td>\n",
       "      <td>0</td>\n",
       "      <td>7.0500</td>\n",
       "      <td>Third</td>\n",
       "      <td>unknown</td>\n",
       "      <td>Southampton</td>\n",
       "      <td>y</td>\n",
       "    </tr>\n",
       "    <tr>\n",
       "      <th>624</th>\n",
       "      <td>1</td>\n",
       "      <td>female</td>\n",
       "      <td>19.0</td>\n",
       "      <td>0</td>\n",
       "      <td>0</td>\n",
       "      <td>30.0000</td>\n",
       "      <td>First</td>\n",
       "      <td>B</td>\n",
       "      <td>Southampton</td>\n",
       "      <td>y</td>\n",
       "    </tr>\n",
       "    <tr>\n",
       "      <th>625</th>\n",
       "      <td>0</td>\n",
       "      <td>female</td>\n",
       "      <td>28.0</td>\n",
       "      <td>1</td>\n",
       "      <td>2</td>\n",
       "      <td>23.4500</td>\n",
       "      <td>Third</td>\n",
       "      <td>unknown</td>\n",
       "      <td>Southampton</td>\n",
       "      <td>n</td>\n",
       "    </tr>\n",
       "    <tr>\n",
       "      <th>626</th>\n",
       "      <td>0</td>\n",
       "      <td>male</td>\n",
       "      <td>32.0</td>\n",
       "      <td>0</td>\n",
       "      <td>0</td>\n",
       "      <td>7.7500</td>\n",
       "      <td>Third</td>\n",
       "      <td>unknown</td>\n",
       "      <td>Queenstown</td>\n",
       "      <td>y</td>\n",
       "    </tr>\n",
       "  </tbody>\n",
       "</table>\n",
       "</div>"
      ],
      "text/plain": [
       "     survived     sex   age  n_siblings_spouses  parch     fare   class  \\\n",
       "617         1  female  15.0                   0      0   7.2250   Third   \n",
       "618         0    male  20.0                   0      0   9.8458   Third   \n",
       "619         0    male  19.0                   0      0   7.8958   Third   \n",
       "620         0    male  28.0                   0      0   7.8958   Third   \n",
       "621         0  female  22.0                   0      0  10.5167   Third   \n",
       "622         0    male  28.0                   0      0  10.5000  Second   \n",
       "623         0    male  25.0                   0      0   7.0500   Third   \n",
       "624         1  female  19.0                   0      0  30.0000   First   \n",
       "625         0  female  28.0                   1      2  23.4500   Third   \n",
       "626         0    male  32.0                   0      0   7.7500   Third   \n",
       "\n",
       "        deck  embark_town alone  \n",
       "617  unknown    Cherbourg     y  \n",
       "618  unknown  Southampton     y  \n",
       "619  unknown  Southampton     y  \n",
       "620  unknown  Southampton     y  \n",
       "621  unknown  Southampton     y  \n",
       "622  unknown  Southampton     y  \n",
       "623  unknown  Southampton     y  \n",
       "624        B  Southampton     y  \n",
       "625  unknown  Southampton     n  \n",
       "626  unknown   Queenstown     y  "
      ]
     },
     "execution_count": 103,
     "metadata": {},
     "output_type": "execute_result"
    }
   ],
   "source": [
    "titanic.tail(10)"
   ]
  },
  {
   "cell_type": "code",
   "execution_count": 112,
   "id": "3d878fc8-4640-424e-9271-86203ea7f852",
   "metadata": {},
   "outputs": [
    {
     "name": "stderr",
     "output_type": "stream",
     "text": [
      "C:\\Users\\user\\AppData\\Local\\Temp\\ipykernel_9480\\306811262.py:3: DtypeWarning: Columns (4) have mixed types. Specify dtype option on import or set low_memory=False.\n",
      "  cities = pd.read_csv('공공데이터활용지원센터_공공데이터포털 목록개방현황_20230228.csv', encoding='cp949')\n"
     ]
    }
   ],
   "source": [
    "# 저도 온라인 csv 파일 가져올게용\n",
    "\n",
    "cities = pd.read_csv('공공데이터활용지원센터_공공데이터포털 목록개방현황_20230228.csv', encoding='cp949')"
   ]
  },
  {
   "cell_type": "code",
   "execution_count": null,
   "id": "b5b006bd-5284-4066-ad11-044a9f192753",
   "metadata": {},
   "outputs": [],
   "source": [
    "cities"
   ]
  },
  {
   "cell_type": "code",
   "execution_count": 116,
   "id": "e02ae2a8-2606-4e87-9b4a-e766be7a80da",
   "metadata": {},
   "outputs": [
    {
     "data": {
      "text/html": [
       "<div>\n",
       "<style scoped>\n",
       "    .dataframe tbody tr th:only-of-type {\n",
       "        vertical-align: middle;\n",
       "    }\n",
       "\n",
       "    .dataframe tbody tr th {\n",
       "        vertical-align: top;\n",
       "    }\n",
       "\n",
       "    .dataframe thead th {\n",
       "        text-align: right;\n",
       "    }\n",
       "</style>\n",
       "<table border=\"1\" class=\"dataframe\">\n",
       "  <thead>\n",
       "    <tr style=\"text-align: right;\">\n",
       "      <th></th>\n",
       "      <th>목록키</th>\n",
       "    </tr>\n",
       "  </thead>\n",
       "  <tbody>\n",
       "    <tr>\n",
       "      <th>count</th>\n",
       "      <td>6.861000e+04</td>\n",
       "    </tr>\n",
       "    <tr>\n",
       "      <th>mean</th>\n",
       "      <td>1.377254e+07</td>\n",
       "    </tr>\n",
       "    <tr>\n",
       "      <th>std</th>\n",
       "      <td>3.746398e+06</td>\n",
       "    </tr>\n",
       "    <tr>\n",
       "      <th>min</th>\n",
       "      <td>2.140252e+06</td>\n",
       "    </tr>\n",
       "    <tr>\n",
       "      <th>25%</th>\n",
       "      <td>1.504309e+07</td>\n",
       "    </tr>\n",
       "    <tr>\n",
       "      <th>50%</th>\n",
       "      <td>1.506672e+07</td>\n",
       "    </tr>\n",
       "    <tr>\n",
       "      <th>75%</th>\n",
       "      <td>1.509113e+07</td>\n",
       "    </tr>\n",
       "    <tr>\n",
       "      <th>max</th>\n",
       "      <td>1.511255e+07</td>\n",
       "    </tr>\n",
       "  </tbody>\n",
       "</table>\n",
       "</div>"
      ],
      "text/plain": [
       "                목록키\n",
       "count  6.861000e+04\n",
       "mean   1.377254e+07\n",
       "std    3.746398e+06\n",
       "min    2.140252e+06\n",
       "25%    1.504309e+07\n",
       "50%    1.506672e+07\n",
       "75%    1.509113e+07\n",
       "max    1.511255e+07"
      ]
     },
     "execution_count": 116,
     "metadata": {},
     "output_type": "execute_result"
    }
   ],
   "source": [
    "cities.describe()"
   ]
  },
  {
   "cell_type": "code",
   "execution_count": 117,
   "id": "bafed8da-86f4-45a5-b88a-17f534182f11",
   "metadata": {},
   "outputs": [],
   "source": [
    "covid19 = pd.read_csv('COVID 19 Containment measures data.csv')"
   ]
  },
  {
   "cell_type": "code",
   "execution_count": 118,
   "id": "7f4f637f-95be-4fd1-8744-890a744687e9",
   "metadata": {},
   "outputs": [
    {
     "data": {
      "text/html": [
       "<div>\n",
       "<style scoped>\n",
       "    .dataframe tbody tr th:only-of-type {\n",
       "        vertical-align: middle;\n",
       "    }\n",
       "\n",
       "    .dataframe tbody tr th {\n",
       "        vertical-align: top;\n",
       "    }\n",
       "\n",
       "    .dataframe thead th {\n",
       "        text-align: right;\n",
       "    }\n",
       "</style>\n",
       "<table border=\"1\" class=\"dataframe\">\n",
       "  <thead>\n",
       "    <tr style=\"text-align: right;\">\n",
       "      <th></th>\n",
       "      <th>ID</th>\n",
       "      <th>Applies To</th>\n",
       "      <th>Country</th>\n",
       "      <th>Date Start</th>\n",
       "      <th>Date end intended</th>\n",
       "      <th>Description of measure implemented</th>\n",
       "      <th>Exceptions</th>\n",
       "      <th>Implementing City</th>\n",
       "      <th>Implementing State/Province</th>\n",
       "      <th>Keywords</th>\n",
       "      <th>Quantity</th>\n",
       "      <th>Source</th>\n",
       "      <th>Target city</th>\n",
       "      <th>Target country</th>\n",
       "      <th>Target region</th>\n",
       "      <th>Target state</th>\n",
       "    </tr>\n",
       "  </thead>\n",
       "  <tbody>\n",
       "    <tr>\n",
       "      <th>0</th>\n",
       "      <td>163</td>\n",
       "      <td>NaN</td>\n",
       "      <td>Austria</td>\n",
       "      <td>Mar 16, 2020</td>\n",
       "      <td>NaN</td>\n",
       "      <td>On 10 March 2020 government announced that all...</td>\n",
       "      <td>NaN</td>\n",
       "      <td>NaN</td>\n",
       "      <td>NaN</td>\n",
       "      <td>university closure</td>\n",
       "      <td>NaN</td>\n",
       "      <td>https://en.wikipedia.org/wiki/2020_coronavirus...</td>\n",
       "      <td>NaN</td>\n",
       "      <td>NaN</td>\n",
       "      <td>NaN</td>\n",
       "      <td>NaN</td>\n",
       "    </tr>\n",
       "    <tr>\n",
       "      <th>1</th>\n",
       "      <td>132</td>\n",
       "      <td>NaN</td>\n",
       "      <td>Germany</td>\n",
       "      <td>Feb 01, 2020</td>\n",
       "      <td>NaN</td>\n",
       "      <td>102 German citizens and 26 relatives, all of w...</td>\n",
       "      <td>NaN</td>\n",
       "      <td>NaN</td>\n",
       "      <td>NaN</td>\n",
       "      <td>international traveller quarantine - risk coun...</td>\n",
       "      <td>0.0001</td>\n",
       "      <td>https://www.tagesschau.de/inland/coronavirus-g...</td>\n",
       "      <td>NaN</td>\n",
       "      <td>NaN</td>\n",
       "      <td>NaN</td>\n",
       "      <td>NaN</td>\n",
       "    </tr>\n",
       "    <tr>\n",
       "      <th>2</th>\n",
       "      <td>578</td>\n",
       "      <td>NaN</td>\n",
       "      <td>United Kingdom</td>\n",
       "      <td>Mar 20, 2020</td>\n",
       "      <td>NaN</td>\n",
       "      <td>All schools, nurseries and colleges closed.</td>\n",
       "      <td>NaN</td>\n",
       "      <td>NaN</td>\n",
       "      <td>NaN</td>\n",
       "      <td>nursery school closure, school closure, univer...</td>\n",
       "      <td>NaN</td>\n",
       "      <td>https://www.theguardian.com/world/2020/mar/18/...</td>\n",
       "      <td>NaN</td>\n",
       "      <td>NaN</td>\n",
       "      <td>NaN</td>\n",
       "      <td>NaN</td>\n",
       "    </tr>\n",
       "    <tr>\n",
       "      <th>3</th>\n",
       "      <td>372</td>\n",
       "      <td>NaN</td>\n",
       "      <td>United Kingdom</td>\n",
       "      <td>Mar 16, 2020</td>\n",
       "      <td>NaN</td>\n",
       "      <td>If one person in any household has a persisten...</td>\n",
       "      <td>NaN</td>\n",
       "      <td>NaN</td>\n",
       "      <td>NaN</td>\n",
       "      <td>blanket isolation - symptoms</td>\n",
       "      <td>NaN</td>\n",
       "      <td>https://www.bbc.com/news/uk-51920444</td>\n",
       "      <td>NaN</td>\n",
       "      <td>NaN</td>\n",
       "      <td>NaN</td>\n",
       "      <td>NaN</td>\n",
       "    </tr>\n",
       "    <tr>\n",
       "      <th>4</th>\n",
       "      <td>357</td>\n",
       "      <td>NaN</td>\n",
       "      <td>United Kingdom</td>\n",
       "      <td>Mar 16, 2020</td>\n",
       "      <td>NaN</td>\n",
       "      <td>By the weekend, those with the most serious he...</td>\n",
       "      <td>NaN</td>\n",
       "      <td>NaN</td>\n",
       "      <td>NaN</td>\n",
       "      <td>isolation advice to elderly</td>\n",
       "      <td>NaN</td>\n",
       "      <td>https://www.bbc.com/news/uk-51920444</td>\n",
       "      <td>NaN</td>\n",
       "      <td>NaN</td>\n",
       "      <td>NaN</td>\n",
       "      <td>NaN</td>\n",
       "    </tr>\n",
       "    <tr>\n",
       "      <th>...</th>\n",
       "      <td>...</td>\n",
       "      <td>...</td>\n",
       "      <td>...</td>\n",
       "      <td>...</td>\n",
       "      <td>...</td>\n",
       "      <td>...</td>\n",
       "      <td>...</td>\n",
       "      <td>...</td>\n",
       "      <td>...</td>\n",
       "      <td>...</td>\n",
       "      <td>...</td>\n",
       "      <td>...</td>\n",
       "      <td>...</td>\n",
       "      <td>...</td>\n",
       "      <td>...</td>\n",
       "      <td>...</td>\n",
       "    </tr>\n",
       "    <tr>\n",
       "      <th>1698</th>\n",
       "      <td>NaN</td>\n",
       "      <td>NaN</td>\n",
       "      <td>US:Louisiana</td>\n",
       "      <td>Mar 11, 2020</td>\n",
       "      <td>NaN</td>\n",
       "      <td>public health emergency declared</td>\n",
       "      <td>NaN</td>\n",
       "      <td>NaN</td>\n",
       "      <td>NaN</td>\n",
       "      <td>state of emergency</td>\n",
       "      <td>NaN</td>\n",
       "      <td>https://gov.louisiana.gov/assets/Proclamations...</td>\n",
       "      <td>NaN</td>\n",
       "      <td>NaN</td>\n",
       "      <td>NaN</td>\n",
       "      <td>NaN</td>\n",
       "    </tr>\n",
       "    <tr>\n",
       "      <th>1699</th>\n",
       "      <td>NaN</td>\n",
       "      <td>NaN</td>\n",
       "      <td>US:Louisiana</td>\n",
       "      <td>Mar 13, 2020</td>\n",
       "      <td>NaN</td>\n",
       "      <td>all gatherings of 250 people or more postponed...</td>\n",
       "      <td>NaN</td>\n",
       "      <td>NaN</td>\n",
       "      <td>NaN</td>\n",
       "      <td>indoor gatherings banned, outdoor gatherings b...</td>\n",
       "      <td>250.0000</td>\n",
       "      <td>https://gov.louisiana.gov/assets/Proclamations...</td>\n",
       "      <td>NaN</td>\n",
       "      <td>NaN</td>\n",
       "      <td>NaN</td>\n",
       "      <td>NaN</td>\n",
       "    </tr>\n",
       "    <tr>\n",
       "      <th>1700</th>\n",
       "      <td>NaN</td>\n",
       "      <td>NaN</td>\n",
       "      <td>US:Louisiana</td>\n",
       "      <td>Mar 13, 2020</td>\n",
       "      <td>NaN</td>\n",
       "      <td>closure of all K-12 public schools; all Cathol...</td>\n",
       "      <td>NaN</td>\n",
       "      <td>NaN</td>\n",
       "      <td>NaN</td>\n",
       "      <td>school closure</td>\n",
       "      <td>NaN</td>\n",
       "      <td>https://gov.louisiana.gov/assets/Proclamations...</td>\n",
       "      <td>NaN</td>\n",
       "      <td>NaN</td>\n",
       "      <td>NaN</td>\n",
       "      <td>NaN</td>\n",
       "    </tr>\n",
       "    <tr>\n",
       "      <th>1701</th>\n",
       "      <td>NaN</td>\n",
       "      <td>NaN</td>\n",
       "      <td>US:Louisiana</td>\n",
       "      <td>Mar 13, 2020</td>\n",
       "      <td>NaN</td>\n",
       "      <td>all Louisiana elections postponed</td>\n",
       "      <td>NaN</td>\n",
       "      <td>NaN</td>\n",
       "      <td>NaN</td>\n",
       "      <td>very large event cancellation or postponement</td>\n",
       "      <td>NaN</td>\n",
       "      <td>https://en.wikipedia.org/wiki/2020_coronavirus...</td>\n",
       "      <td>NaN</td>\n",
       "      <td>NaN</td>\n",
       "      <td>NaN</td>\n",
       "      <td>NaN</td>\n",
       "    </tr>\n",
       "    <tr>\n",
       "      <th>1702</th>\n",
       "      <td>NaN</td>\n",
       "      <td>NaN</td>\n",
       "      <td>US:Louisiana</td>\n",
       "      <td>Mar 17, 2020</td>\n",
       "      <td>NaN</td>\n",
       "      <td>Jazz Fest 2020 postponed</td>\n",
       "      <td>NaN</td>\n",
       "      <td>NaN</td>\n",
       "      <td>NaN</td>\n",
       "      <td>very large event cancellation or postponement</td>\n",
       "      <td>NaN</td>\n",
       "      <td>https://wgno.com/news/local/jazz-fest-2020-pos...</td>\n",
       "      <td>NaN</td>\n",
       "      <td>NaN</td>\n",
       "      <td>NaN</td>\n",
       "      <td>NaN</td>\n",
       "    </tr>\n",
       "  </tbody>\n",
       "</table>\n",
       "<p>1703 rows × 16 columns</p>\n",
       "</div>"
      ],
      "text/plain": [
       "       ID Applies To         Country    Date Start Date end intended  \\\n",
       "0     163        NaN         Austria  Mar 16, 2020               NaN   \n",
       "1     132        NaN         Germany  Feb 01, 2020               NaN   \n",
       "2     578        NaN  United Kingdom  Mar 20, 2020               NaN   \n",
       "3     372        NaN  United Kingdom  Mar 16, 2020               NaN   \n",
       "4     357        NaN  United Kingdom  Mar 16, 2020               NaN   \n",
       "...   ...        ...             ...           ...               ...   \n",
       "1698  NaN        NaN    US:Louisiana  Mar 11, 2020               NaN   \n",
       "1699  NaN        NaN    US:Louisiana  Mar 13, 2020               NaN   \n",
       "1700  NaN        NaN    US:Louisiana  Mar 13, 2020               NaN   \n",
       "1701  NaN        NaN    US:Louisiana  Mar 13, 2020               NaN   \n",
       "1702  NaN        NaN    US:Louisiana  Mar 17, 2020               NaN   \n",
       "\n",
       "                     Description of measure implemented Exceptions  \\\n",
       "0     On 10 March 2020 government announced that all...        NaN   \n",
       "1     102 German citizens and 26 relatives, all of w...        NaN   \n",
       "2           All schools, nurseries and colleges closed.        NaN   \n",
       "3     If one person in any household has a persisten...        NaN   \n",
       "4     By the weekend, those with the most serious he...        NaN   \n",
       "...                                                 ...        ...   \n",
       "1698                   public health emergency declared        NaN   \n",
       "1699  all gatherings of 250 people or more postponed...        NaN   \n",
       "1700  closure of all K-12 public schools; all Cathol...        NaN   \n",
       "1701                  all Louisiana elections postponed        NaN   \n",
       "1702                           Jazz Fest 2020 postponed        NaN   \n",
       "\n",
       "     Implementing City Implementing State/Province  \\\n",
       "0                  NaN                         NaN   \n",
       "1                  NaN                         NaN   \n",
       "2                  NaN                         NaN   \n",
       "3                  NaN                         NaN   \n",
       "4                  NaN                         NaN   \n",
       "...                ...                         ...   \n",
       "1698               NaN                         NaN   \n",
       "1699               NaN                         NaN   \n",
       "1700               NaN                         NaN   \n",
       "1701               NaN                         NaN   \n",
       "1702               NaN                         NaN   \n",
       "\n",
       "                                               Keywords  Quantity  \\\n",
       "0                                    university closure       NaN   \n",
       "1     international traveller quarantine - risk coun...    0.0001   \n",
       "2     nursery school closure, school closure, univer...       NaN   \n",
       "3                          blanket isolation - symptoms       NaN   \n",
       "4                           isolation advice to elderly       NaN   \n",
       "...                                                 ...       ...   \n",
       "1698                                 state of emergency       NaN   \n",
       "1699  indoor gatherings banned, outdoor gatherings b...  250.0000   \n",
       "1700                                     school closure       NaN   \n",
       "1701      very large event cancellation or postponement       NaN   \n",
       "1702      very large event cancellation or postponement       NaN   \n",
       "\n",
       "                                                 Source Target city  \\\n",
       "0     https://en.wikipedia.org/wiki/2020_coronavirus...         NaN   \n",
       "1     https://www.tagesschau.de/inland/coronavirus-g...         NaN   \n",
       "2     https://www.theguardian.com/world/2020/mar/18/...         NaN   \n",
       "3                  https://www.bbc.com/news/uk-51920444         NaN   \n",
       "4                  https://www.bbc.com/news/uk-51920444         NaN   \n",
       "...                                                 ...         ...   \n",
       "1698  https://gov.louisiana.gov/assets/Proclamations...         NaN   \n",
       "1699  https://gov.louisiana.gov/assets/Proclamations...         NaN   \n",
       "1700  https://gov.louisiana.gov/assets/Proclamations...         NaN   \n",
       "1701  https://en.wikipedia.org/wiki/2020_coronavirus...         NaN   \n",
       "1702  https://wgno.com/news/local/jazz-fest-2020-pos...         NaN   \n",
       "\n",
       "     Target country Target region  Target state  \n",
       "0               NaN           NaN           NaN  \n",
       "1               NaN           NaN           NaN  \n",
       "2               NaN           NaN           NaN  \n",
       "3               NaN           NaN           NaN  \n",
       "4               NaN           NaN           NaN  \n",
       "...             ...           ...           ...  \n",
       "1698            NaN           NaN           NaN  \n",
       "1699            NaN           NaN           NaN  \n",
       "1700            NaN           NaN           NaN  \n",
       "1701            NaN           NaN           NaN  \n",
       "1702            NaN           NaN           NaN  \n",
       "\n",
       "[1703 rows x 16 columns]"
      ]
     },
     "execution_count": 118,
     "metadata": {},
     "output_type": "execute_result"
    }
   ],
   "source": [
    "covid19"
   ]
  },
  {
   "cell_type": "code",
   "execution_count": 119,
   "id": "abdac5d1-d558-4b7d-a45a-ca573b3ac3fe",
   "metadata": {},
   "outputs": [
    {
     "name": "stdout",
     "output_type": "stream",
     "text": [
      "C:\\python\n"
     ]
    }
   ],
   "source": [
    "%cd C:\\\\python\\"
   ]
  },
  {
   "cell_type": "code",
   "execution_count": null,
   "id": "1f9e3ff1-44cd-41ef-8d75-a97f79d4f582",
   "metadata": {},
   "outputs": [],
   "source": []
  },
  {
   "cell_type": "code",
   "execution_count": 2,
   "id": "dd7cceff-acfb-4d88-8f2b-00c1251e8ae1",
   "metadata": {},
   "outputs": [],
   "source": [
    "# 230308 "
   ]
  },
  {
   "cell_type": "code",
   "execution_count": 3,
   "id": "ca5d73a6-edeb-4799-884e-ac13641633b9",
   "metadata": {},
   "outputs": [],
   "source": [
    "import numpy as np\n",
    "import pandas as pd\n",
    "import seaborn as sns"
   ]
  },
  {
   "cell_type": "code",
   "execution_count": 4,
   "id": "adff1696-987d-4e88-ada6-9a829ecd048b",
   "metadata": {},
   "outputs": [
    {
     "data": {
      "text/html": [
       "<div>\n",
       "<style scoped>\n",
       "    .dataframe tbody tr th:only-of-type {\n",
       "        vertical-align: middle;\n",
       "    }\n",
       "\n",
       "    .dataframe tbody tr th {\n",
       "        vertical-align: top;\n",
       "    }\n",
       "\n",
       "    .dataframe thead th {\n",
       "        text-align: right;\n",
       "    }\n",
       "</style>\n",
       "<table border=\"1\" class=\"dataframe\">\n",
       "  <thead>\n",
       "    <tr style=\"text-align: right;\">\n",
       "      <th></th>\n",
       "      <th>survived</th>\n",
       "      <th>pclass</th>\n",
       "      <th>sex</th>\n",
       "      <th>age</th>\n",
       "      <th>sibsp</th>\n",
       "      <th>parch</th>\n",
       "      <th>fare</th>\n",
       "      <th>embarked</th>\n",
       "      <th>class</th>\n",
       "      <th>who</th>\n",
       "      <th>adult_male</th>\n",
       "      <th>deck</th>\n",
       "      <th>embark_town</th>\n",
       "      <th>alive</th>\n",
       "      <th>alone</th>\n",
       "    </tr>\n",
       "  </thead>\n",
       "  <tbody>\n",
       "    <tr>\n",
       "      <th>0</th>\n",
       "      <td>0</td>\n",
       "      <td>3</td>\n",
       "      <td>male</td>\n",
       "      <td>22.0</td>\n",
       "      <td>1</td>\n",
       "      <td>0</td>\n",
       "      <td>7.2500</td>\n",
       "      <td>S</td>\n",
       "      <td>Third</td>\n",
       "      <td>man</td>\n",
       "      <td>True</td>\n",
       "      <td>NaN</td>\n",
       "      <td>Southampton</td>\n",
       "      <td>no</td>\n",
       "      <td>False</td>\n",
       "    </tr>\n",
       "    <tr>\n",
       "      <th>1</th>\n",
       "      <td>1</td>\n",
       "      <td>1</td>\n",
       "      <td>female</td>\n",
       "      <td>38.0</td>\n",
       "      <td>1</td>\n",
       "      <td>0</td>\n",
       "      <td>71.2833</td>\n",
       "      <td>C</td>\n",
       "      <td>First</td>\n",
       "      <td>woman</td>\n",
       "      <td>False</td>\n",
       "      <td>C</td>\n",
       "      <td>Cherbourg</td>\n",
       "      <td>yes</td>\n",
       "      <td>False</td>\n",
       "    </tr>\n",
       "    <tr>\n",
       "      <th>2</th>\n",
       "      <td>1</td>\n",
       "      <td>3</td>\n",
       "      <td>female</td>\n",
       "      <td>26.0</td>\n",
       "      <td>0</td>\n",
       "      <td>0</td>\n",
       "      <td>7.9250</td>\n",
       "      <td>S</td>\n",
       "      <td>Third</td>\n",
       "      <td>woman</td>\n",
       "      <td>False</td>\n",
       "      <td>NaN</td>\n",
       "      <td>Southampton</td>\n",
       "      <td>yes</td>\n",
       "      <td>True</td>\n",
       "    </tr>\n",
       "    <tr>\n",
       "      <th>3</th>\n",
       "      <td>1</td>\n",
       "      <td>1</td>\n",
       "      <td>female</td>\n",
       "      <td>35.0</td>\n",
       "      <td>1</td>\n",
       "      <td>0</td>\n",
       "      <td>53.1000</td>\n",
       "      <td>S</td>\n",
       "      <td>First</td>\n",
       "      <td>woman</td>\n",
       "      <td>False</td>\n",
       "      <td>C</td>\n",
       "      <td>Southampton</td>\n",
       "      <td>yes</td>\n",
       "      <td>False</td>\n",
       "    </tr>\n",
       "    <tr>\n",
       "      <th>4</th>\n",
       "      <td>0</td>\n",
       "      <td>3</td>\n",
       "      <td>male</td>\n",
       "      <td>35.0</td>\n",
       "      <td>0</td>\n",
       "      <td>0</td>\n",
       "      <td>8.0500</td>\n",
       "      <td>S</td>\n",
       "      <td>Third</td>\n",
       "      <td>man</td>\n",
       "      <td>True</td>\n",
       "      <td>NaN</td>\n",
       "      <td>Southampton</td>\n",
       "      <td>no</td>\n",
       "      <td>True</td>\n",
       "    </tr>\n",
       "    <tr>\n",
       "      <th>...</th>\n",
       "      <td>...</td>\n",
       "      <td>...</td>\n",
       "      <td>...</td>\n",
       "      <td>...</td>\n",
       "      <td>...</td>\n",
       "      <td>...</td>\n",
       "      <td>...</td>\n",
       "      <td>...</td>\n",
       "      <td>...</td>\n",
       "      <td>...</td>\n",
       "      <td>...</td>\n",
       "      <td>...</td>\n",
       "      <td>...</td>\n",
       "      <td>...</td>\n",
       "      <td>...</td>\n",
       "    </tr>\n",
       "    <tr>\n",
       "      <th>886</th>\n",
       "      <td>0</td>\n",
       "      <td>2</td>\n",
       "      <td>male</td>\n",
       "      <td>27.0</td>\n",
       "      <td>0</td>\n",
       "      <td>0</td>\n",
       "      <td>13.0000</td>\n",
       "      <td>S</td>\n",
       "      <td>Second</td>\n",
       "      <td>man</td>\n",
       "      <td>True</td>\n",
       "      <td>NaN</td>\n",
       "      <td>Southampton</td>\n",
       "      <td>no</td>\n",
       "      <td>True</td>\n",
       "    </tr>\n",
       "    <tr>\n",
       "      <th>887</th>\n",
       "      <td>1</td>\n",
       "      <td>1</td>\n",
       "      <td>female</td>\n",
       "      <td>19.0</td>\n",
       "      <td>0</td>\n",
       "      <td>0</td>\n",
       "      <td>30.0000</td>\n",
       "      <td>S</td>\n",
       "      <td>First</td>\n",
       "      <td>woman</td>\n",
       "      <td>False</td>\n",
       "      <td>B</td>\n",
       "      <td>Southampton</td>\n",
       "      <td>yes</td>\n",
       "      <td>True</td>\n",
       "    </tr>\n",
       "    <tr>\n",
       "      <th>888</th>\n",
       "      <td>0</td>\n",
       "      <td>3</td>\n",
       "      <td>female</td>\n",
       "      <td>NaN</td>\n",
       "      <td>1</td>\n",
       "      <td>2</td>\n",
       "      <td>23.4500</td>\n",
       "      <td>S</td>\n",
       "      <td>Third</td>\n",
       "      <td>woman</td>\n",
       "      <td>False</td>\n",
       "      <td>NaN</td>\n",
       "      <td>Southampton</td>\n",
       "      <td>no</td>\n",
       "      <td>False</td>\n",
       "    </tr>\n",
       "    <tr>\n",
       "      <th>889</th>\n",
       "      <td>1</td>\n",
       "      <td>1</td>\n",
       "      <td>male</td>\n",
       "      <td>26.0</td>\n",
       "      <td>0</td>\n",
       "      <td>0</td>\n",
       "      <td>30.0000</td>\n",
       "      <td>C</td>\n",
       "      <td>First</td>\n",
       "      <td>man</td>\n",
       "      <td>True</td>\n",
       "      <td>C</td>\n",
       "      <td>Cherbourg</td>\n",
       "      <td>yes</td>\n",
       "      <td>True</td>\n",
       "    </tr>\n",
       "    <tr>\n",
       "      <th>890</th>\n",
       "      <td>0</td>\n",
       "      <td>3</td>\n",
       "      <td>male</td>\n",
       "      <td>32.0</td>\n",
       "      <td>0</td>\n",
       "      <td>0</td>\n",
       "      <td>7.7500</td>\n",
       "      <td>Q</td>\n",
       "      <td>Third</td>\n",
       "      <td>man</td>\n",
       "      <td>True</td>\n",
       "      <td>NaN</td>\n",
       "      <td>Queenstown</td>\n",
       "      <td>no</td>\n",
       "      <td>True</td>\n",
       "    </tr>\n",
       "  </tbody>\n",
       "</table>\n",
       "<p>891 rows × 15 columns</p>\n",
       "</div>"
      ],
      "text/plain": [
       "     survived  pclass     sex   age  sibsp  parch     fare embarked   class  \\\n",
       "0           0       3    male  22.0      1      0   7.2500        S   Third   \n",
       "1           1       1  female  38.0      1      0  71.2833        C   First   \n",
       "2           1       3  female  26.0      0      0   7.9250        S   Third   \n",
       "3           1       1  female  35.0      1      0  53.1000        S   First   \n",
       "4           0       3    male  35.0      0      0   8.0500        S   Third   \n",
       "..        ...     ...     ...   ...    ...    ...      ...      ...     ...   \n",
       "886         0       2    male  27.0      0      0  13.0000        S  Second   \n",
       "887         1       1  female  19.0      0      0  30.0000        S   First   \n",
       "888         0       3  female   NaN      1      2  23.4500        S   Third   \n",
       "889         1       1    male  26.0      0      0  30.0000        C   First   \n",
       "890         0       3    male  32.0      0      0   7.7500        Q   Third   \n",
       "\n",
       "       who  adult_male deck  embark_town alive  alone  \n",
       "0      man        True  NaN  Southampton    no  False  \n",
       "1    woman       False    C    Cherbourg   yes  False  \n",
       "2    woman       False  NaN  Southampton   yes   True  \n",
       "3    woman       False    C  Southampton   yes  False  \n",
       "4      man        True  NaN  Southampton    no   True  \n",
       "..     ...         ...  ...          ...   ...    ...  \n",
       "886    man        True  NaN  Southampton    no   True  \n",
       "887  woman       False    B  Southampton   yes   True  \n",
       "888  woman       False  NaN  Southampton    no  False  \n",
       "889    man        True    C    Cherbourg   yes   True  \n",
       "890    man        True  NaN   Queenstown    no   True  \n",
       "\n",
       "[891 rows x 15 columns]"
      ]
     },
     "execution_count": 4,
     "metadata": {},
     "output_type": "execute_result"
    }
   ],
   "source": [
    "titanic = sns.load_dataset('titanic')\n",
    "titanic"
   ]
  },
  {
   "cell_type": "code",
   "execution_count": 5,
   "id": "94282462-1f24-4365-9454-85b10b883573",
   "metadata": {},
   "outputs": [],
   "source": [
    "# survived 0사망 1생존\n",
    "# pclass 객실 등급\n",
    "# sibsp 함께 탑승한 형제 및 배우자 수\n",
    "# parch 함께 탑승한 부모 수\n",
    "# fare 요금\n",
    "# embarked 탑승지 이름 앞글자\n",
    "# class 객실 등급\n",
    "# who man, woman, child"
   ]
  },
  {
   "cell_type": "code",
   "execution_count": 7,
   "id": "b62efd18-9141-4403-830e-cace870abb7c",
   "metadata": {},
   "outputs": [
    {
     "data": {
      "text/html": [
       "<div>\n",
       "<style scoped>\n",
       "    .dataframe tbody tr th:only-of-type {\n",
       "        vertical-align: middle;\n",
       "    }\n",
       "\n",
       "    .dataframe tbody tr th {\n",
       "        vertical-align: top;\n",
       "    }\n",
       "\n",
       "    .dataframe thead th {\n",
       "        text-align: right;\n",
       "    }\n",
       "</style>\n",
       "<table border=\"1\" class=\"dataframe\">\n",
       "  <thead>\n",
       "    <tr style=\"text-align: right;\">\n",
       "      <th></th>\n",
       "      <th>survived</th>\n",
       "      <th>pclass</th>\n",
       "      <th>sex</th>\n",
       "      <th>age</th>\n",
       "      <th>sibsp</th>\n",
       "      <th>parch</th>\n",
       "      <th>fare</th>\n",
       "      <th>embarked</th>\n",
       "      <th>class</th>\n",
       "      <th>who</th>\n",
       "      <th>adult_male</th>\n",
       "      <th>deck</th>\n",
       "      <th>embark_town</th>\n",
       "      <th>alive</th>\n",
       "      <th>alone</th>\n",
       "    </tr>\n",
       "  </thead>\n",
       "  <tbody>\n",
       "    <tr>\n",
       "      <th>0</th>\n",
       "      <td>0</td>\n",
       "      <td>3</td>\n",
       "      <td>male</td>\n",
       "      <td>22.0</td>\n",
       "      <td>1</td>\n",
       "      <td>0</td>\n",
       "      <td>7.2500</td>\n",
       "      <td>S</td>\n",
       "      <td>Third</td>\n",
       "      <td>man</td>\n",
       "      <td>True</td>\n",
       "      <td>NaN</td>\n",
       "      <td>Southampton</td>\n",
       "      <td>no</td>\n",
       "      <td>False</td>\n",
       "    </tr>\n",
       "    <tr>\n",
       "      <th>1</th>\n",
       "      <td>1</td>\n",
       "      <td>1</td>\n",
       "      <td>female</td>\n",
       "      <td>38.0</td>\n",
       "      <td>1</td>\n",
       "      <td>0</td>\n",
       "      <td>71.2833</td>\n",
       "      <td>C</td>\n",
       "      <td>First</td>\n",
       "      <td>woman</td>\n",
       "      <td>False</td>\n",
       "      <td>C</td>\n",
       "      <td>Cherbourg</td>\n",
       "      <td>yes</td>\n",
       "      <td>False</td>\n",
       "    </tr>\n",
       "    <tr>\n",
       "      <th>2</th>\n",
       "      <td>1</td>\n",
       "      <td>3</td>\n",
       "      <td>female</td>\n",
       "      <td>26.0</td>\n",
       "      <td>0</td>\n",
       "      <td>0</td>\n",
       "      <td>7.9250</td>\n",
       "      <td>S</td>\n",
       "      <td>Third</td>\n",
       "      <td>woman</td>\n",
       "      <td>False</td>\n",
       "      <td>NaN</td>\n",
       "      <td>Southampton</td>\n",
       "      <td>yes</td>\n",
       "      <td>True</td>\n",
       "    </tr>\n",
       "    <tr>\n",
       "      <th>3</th>\n",
       "      <td>1</td>\n",
       "      <td>1</td>\n",
       "      <td>female</td>\n",
       "      <td>35.0</td>\n",
       "      <td>1</td>\n",
       "      <td>0</td>\n",
       "      <td>53.1000</td>\n",
       "      <td>S</td>\n",
       "      <td>First</td>\n",
       "      <td>woman</td>\n",
       "      <td>False</td>\n",
       "      <td>C</td>\n",
       "      <td>Southampton</td>\n",
       "      <td>yes</td>\n",
       "      <td>False</td>\n",
       "    </tr>\n",
       "  </tbody>\n",
       "</table>\n",
       "</div>"
      ],
      "text/plain": [
       "   survived  pclass     sex   age  sibsp  parch     fare embarked  class  \\\n",
       "0         0       3    male  22.0      1      0   7.2500        S  Third   \n",
       "1         1       1  female  38.0      1      0  71.2833        C  First   \n",
       "2         1       3  female  26.0      0      0   7.9250        S  Third   \n",
       "3         1       1  female  35.0      1      0  53.1000        S  First   \n",
       "\n",
       "     who  adult_male deck  embark_town alive  alone  \n",
       "0    man        True  NaN  Southampton    no  False  \n",
       "1  woman       False    C    Cherbourg   yes  False  \n",
       "2  woman       False  NaN  Southampton   yes   True  \n",
       "3  woman       False    C  Southampton   yes  False  "
      ]
     },
     "execution_count": 7,
     "metadata": {},
     "output_type": "execute_result"
    }
   ],
   "source": [
    "titanic.head(4)"
   ]
  },
  {
   "cell_type": "code",
   "execution_count": 8,
   "id": "15b8a09a-2e32-47e3-8c41-fe0d838c05d5",
   "metadata": {},
   "outputs": [
    {
     "data": {
      "text/html": [
       "<div>\n",
       "<style scoped>\n",
       "    .dataframe tbody tr th:only-of-type {\n",
       "        vertical-align: middle;\n",
       "    }\n",
       "\n",
       "    .dataframe tbody tr th {\n",
       "        vertical-align: top;\n",
       "    }\n",
       "\n",
       "    .dataframe thead th {\n",
       "        text-align: right;\n",
       "    }\n",
       "</style>\n",
       "<table border=\"1\" class=\"dataframe\">\n",
       "  <thead>\n",
       "    <tr style=\"text-align: right;\">\n",
       "      <th></th>\n",
       "      <th>survived</th>\n",
       "      <th>pclass</th>\n",
       "      <th>sex</th>\n",
       "      <th>age</th>\n",
       "      <th>sibsp</th>\n",
       "      <th>parch</th>\n",
       "      <th>fare</th>\n",
       "      <th>embarked</th>\n",
       "      <th>class</th>\n",
       "      <th>who</th>\n",
       "      <th>adult_male</th>\n",
       "      <th>deck</th>\n",
       "      <th>embark_town</th>\n",
       "      <th>alive</th>\n",
       "      <th>alone</th>\n",
       "    </tr>\n",
       "  </thead>\n",
       "  <tbody>\n",
       "    <tr>\n",
       "      <th>888</th>\n",
       "      <td>0</td>\n",
       "      <td>3</td>\n",
       "      <td>female</td>\n",
       "      <td>NaN</td>\n",
       "      <td>1</td>\n",
       "      <td>2</td>\n",
       "      <td>23.45</td>\n",
       "      <td>S</td>\n",
       "      <td>Third</td>\n",
       "      <td>woman</td>\n",
       "      <td>False</td>\n",
       "      <td>NaN</td>\n",
       "      <td>Southampton</td>\n",
       "      <td>no</td>\n",
       "      <td>False</td>\n",
       "    </tr>\n",
       "    <tr>\n",
       "      <th>889</th>\n",
       "      <td>1</td>\n",
       "      <td>1</td>\n",
       "      <td>male</td>\n",
       "      <td>26.0</td>\n",
       "      <td>0</td>\n",
       "      <td>0</td>\n",
       "      <td>30.00</td>\n",
       "      <td>C</td>\n",
       "      <td>First</td>\n",
       "      <td>man</td>\n",
       "      <td>True</td>\n",
       "      <td>C</td>\n",
       "      <td>Cherbourg</td>\n",
       "      <td>yes</td>\n",
       "      <td>True</td>\n",
       "    </tr>\n",
       "    <tr>\n",
       "      <th>890</th>\n",
       "      <td>0</td>\n",
       "      <td>3</td>\n",
       "      <td>male</td>\n",
       "      <td>32.0</td>\n",
       "      <td>0</td>\n",
       "      <td>0</td>\n",
       "      <td>7.75</td>\n",
       "      <td>Q</td>\n",
       "      <td>Third</td>\n",
       "      <td>man</td>\n",
       "      <td>True</td>\n",
       "      <td>NaN</td>\n",
       "      <td>Queenstown</td>\n",
       "      <td>no</td>\n",
       "      <td>True</td>\n",
       "    </tr>\n",
       "  </tbody>\n",
       "</table>\n",
       "</div>"
      ],
      "text/plain": [
       "     survived  pclass     sex   age  sibsp  parch   fare embarked  class  \\\n",
       "888         0       3  female   NaN      1      2  23.45        S  Third   \n",
       "889         1       1    male  26.0      0      0  30.00        C  First   \n",
       "890         0       3    male  32.0      0      0   7.75        Q  Third   \n",
       "\n",
       "       who  adult_male deck  embark_town alive  alone  \n",
       "888  woman       False  NaN  Southampton    no  False  \n",
       "889    man        True    C    Cherbourg   yes   True  \n",
       "890    man        True  NaN   Queenstown    no   True  "
      ]
     },
     "execution_count": 8,
     "metadata": {},
     "output_type": "execute_result"
    }
   ],
   "source": [
    "titanic.tail(3)"
   ]
  },
  {
   "cell_type": "code",
   "execution_count": 10,
   "id": "c024e097-c6dc-48f4-a815-90e358c1209d",
   "metadata": {},
   "outputs": [
    {
     "data": {
      "text/plain": [
       "survived         2\n",
       "pclass           3\n",
       "sex              2\n",
       "age             88\n",
       "sibsp            7\n",
       "parch            7\n",
       "fare           248\n",
       "embarked         3\n",
       "class            3\n",
       "who              3\n",
       "adult_male       2\n",
       "deck             7\n",
       "embark_town      3\n",
       "alive            2\n",
       "alone            2\n",
       "dtype: int64"
      ]
     },
     "execution_count": 10,
     "metadata": {},
     "output_type": "execute_result"
    }
   ],
   "source": [
    "titanic.nunique()\n",
    "\n",
    "#survived 살고 죽음의 2가지"
   ]
  },
  {
   "cell_type": "code",
   "execution_count": 12,
   "id": "c4e492d1-fe58-4c81-99dc-c220f63910df",
   "metadata": {},
   "outputs": [
    {
     "data": {
      "text/plain": [
       "survived       891\n",
       "pclass         891\n",
       "sex            891\n",
       "age            714\n",
       "sibsp          891\n",
       "parch          891\n",
       "fare           891\n",
       "embarked       889\n",
       "class          891\n",
       "who            891\n",
       "adult_male     891\n",
       "deck           203\n",
       "embark_town    889\n",
       "alive          891\n",
       "alone          891\n",
       "dtype: int64"
      ]
     },
     "execution_count": 12,
     "metadata": {},
     "output_type": "execute_result"
    }
   ],
   "source": [
    "#NaN이 아닌 값 제외하고 count\n",
    "\n",
    "titanic.count()"
   ]
  },
  {
   "cell_type": "code",
   "execution_count": 14,
   "id": "bff3d730-5fa4-4c99-8258-496ff10976f1",
   "metadata": {},
   "outputs": [
    {
     "data": {
      "text/plain": [
       "survived          int64\n",
       "pclass            int64\n",
       "sex              object\n",
       "age             float64\n",
       "sibsp             int64\n",
       "parch             int64\n",
       "fare            float64\n",
       "embarked         object\n",
       "class          category\n",
       "who              object\n",
       "adult_male         bool\n",
       "deck           category\n",
       "embark_town      object\n",
       "alive            object\n",
       "alone              bool\n",
       "dtype: object"
      ]
     },
     "execution_count": 14,
     "metadata": {},
     "output_type": "execute_result"
    }
   ],
   "source": [
    "titanic.dtypes #각각의 타입 조회\n",
    "\n",
    "#category 라는 type?\n",
    "#class: First, Second, Third 라는 종류만 있음\n",
    "#데이터를 카테고리화 하고 메모리를 불러오면\n",
    "# 메모리상으로 효율적일 수 있음."
   ]
  },
  {
   "cell_type": "code",
   "execution_count": 17,
   "id": "a66d6c82-a861-4950-ab37-269c34bd4a96",
   "metadata": {},
   "outputs": [
    {
     "data": {
      "text/plain": [
       "survived        342.0000\n",
       "pclass         2057.0000\n",
       "age           21205.1700\n",
       "sibsp           466.0000\n",
       "parch           340.0000\n",
       "fare          28693.9493\n",
       "adult_male      537.0000\n",
       "alone           537.0000\n",
       "dtype: float64"
      ]
     },
     "execution_count": 17,
     "metadata": {},
     "output_type": "execute_result"
    }
   ],
   "source": [
    "titanic.sum(numeric_only=True) # 숫자만 합해주세용\n",
    "\n",
    "# 산 사람이 342명 (산 사람이 1이었으니까)"
   ]
  },
  {
   "cell_type": "code",
   "execution_count": 37,
   "id": "f1f8f449-7fdf-4ecb-8716-b01735a2578d",
   "metadata": {},
   "outputs": [
    {
     "name": "stdout",
     "output_type": "stream",
     "text": [
      "survived       0.383838\n",
      "pclass         2.308642\n",
      "age           29.699118\n",
      "sibsp          0.523008\n",
      "parch          0.381594\n",
      "fare          32.204208\n",
      "adult_male     0.602694\n",
      "alone          0.602694\n",
      "dtype: float64 \n",
      "\n",
      "survived       0.486592\n",
      "pclass         0.836071\n",
      "age           14.526497\n",
      "sibsp          1.102743\n",
      "parch          0.806057\n",
      "fare          49.693429\n",
      "adult_male     0.489615\n",
      "alone          0.489615\n",
      "dtype: float64 \n",
      "\n",
      "survived             1\n",
      "pclass               3\n",
      "age               80.0\n",
      "sibsp                8\n",
      "parch                6\n",
      "fare          512.3292\n",
      "adult_male        True\n",
      "alone             True\n",
      "dtype: object \n",
      "\n",
      "survived          0\n",
      "pclass            1\n",
      "age            0.42\n",
      "sibsp             0\n",
      "parch             0\n",
      "fare            0.0\n",
      "adult_male    False\n",
      "alone         False\n",
      "dtype: object \n",
      "\n",
      "survived       0.0000\n",
      "pclass         3.0000\n",
      "age           28.0000\n",
      "sibsp          0.0000\n",
      "parch          0.0000\n",
      "fare          14.4542\n",
      "adult_male     1.0000\n",
      "alone          1.0000\n",
      "dtype: float64\n"
     ]
    }
   ],
   "source": [
    "print(titanic.mean(numeric_only=True),'\\n')\n",
    "print(titanic.std(numeric_only=True),'\\n')\n",
    "print(titanic.max(numeric_only=True),'\\n')\n",
    "print(titanic.min(numeric_only=True),'\\n')\n",
    "print(titanic.median(numeric_only=True))"
   ]
  },
  {
   "cell_type": "code",
   "execution_count": 19,
   "id": "c233841b-9e8f-46d1-9e50-22ff0d9e235e",
   "metadata": {},
   "outputs": [
    {
     "data": {
      "text/html": [
       "<div>\n",
       "<style scoped>\n",
       "    .dataframe tbody tr th:only-of-type {\n",
       "        vertical-align: middle;\n",
       "    }\n",
       "\n",
       "    .dataframe tbody tr th {\n",
       "        vertical-align: top;\n",
       "    }\n",
       "\n",
       "    .dataframe thead th {\n",
       "        text-align: right;\n",
       "    }\n",
       "</style>\n",
       "<table border=\"1\" class=\"dataframe\">\n",
       "  <thead>\n",
       "    <tr style=\"text-align: right;\">\n",
       "      <th></th>\n",
       "      <th>age</th>\n",
       "      <th>fare</th>\n",
       "      <th>survived</th>\n",
       "    </tr>\n",
       "  </thead>\n",
       "  <tbody>\n",
       "    <tr>\n",
       "      <th>0</th>\n",
       "      <td>22.0</td>\n",
       "      <td>7.2500</td>\n",
       "      <td>0</td>\n",
       "    </tr>\n",
       "    <tr>\n",
       "      <th>1</th>\n",
       "      <td>38.0</td>\n",
       "      <td>71.2833</td>\n",
       "      <td>1</td>\n",
       "    </tr>\n",
       "    <tr>\n",
       "      <th>2</th>\n",
       "      <td>26.0</td>\n",
       "      <td>7.9250</td>\n",
       "      <td>1</td>\n",
       "    </tr>\n",
       "    <tr>\n",
       "      <th>3</th>\n",
       "      <td>35.0</td>\n",
       "      <td>53.1000</td>\n",
       "      <td>1</td>\n",
       "    </tr>\n",
       "    <tr>\n",
       "      <th>4</th>\n",
       "      <td>35.0</td>\n",
       "      <td>8.0500</td>\n",
       "      <td>0</td>\n",
       "    </tr>\n",
       "    <tr>\n",
       "      <th>...</th>\n",
       "      <td>...</td>\n",
       "      <td>...</td>\n",
       "      <td>...</td>\n",
       "    </tr>\n",
       "    <tr>\n",
       "      <th>886</th>\n",
       "      <td>27.0</td>\n",
       "      <td>13.0000</td>\n",
       "      <td>0</td>\n",
       "    </tr>\n",
       "    <tr>\n",
       "      <th>887</th>\n",
       "      <td>19.0</td>\n",
       "      <td>30.0000</td>\n",
       "      <td>1</td>\n",
       "    </tr>\n",
       "    <tr>\n",
       "      <th>888</th>\n",
       "      <td>NaN</td>\n",
       "      <td>23.4500</td>\n",
       "      <td>0</td>\n",
       "    </tr>\n",
       "    <tr>\n",
       "      <th>889</th>\n",
       "      <td>26.0</td>\n",
       "      <td>30.0000</td>\n",
       "      <td>1</td>\n",
       "    </tr>\n",
       "    <tr>\n",
       "      <th>890</th>\n",
       "      <td>32.0</td>\n",
       "      <td>7.7500</td>\n",
       "      <td>0</td>\n",
       "    </tr>\n",
       "  </tbody>\n",
       "</table>\n",
       "<p>891 rows × 3 columns</p>\n",
       "</div>"
      ],
      "text/plain": [
       "      age     fare  survived\n",
       "0    22.0   7.2500         0\n",
       "1    38.0  71.2833         1\n",
       "2    26.0   7.9250         1\n",
       "3    35.0  53.1000         1\n",
       "4    35.0   8.0500         0\n",
       "..    ...      ...       ...\n",
       "886  27.0  13.0000         0\n",
       "887  19.0  30.0000         1\n",
       "888   NaN  23.4500         0\n",
       "889  26.0  30.0000         1\n",
       "890  32.0   7.7500         0\n",
       "\n",
       "[891 rows x 3 columns]"
      ]
     },
     "execution_count": 19,
     "metadata": {},
     "output_type": "execute_result"
    }
   ],
   "source": [
    "# 열 인덱싱\n",
    "titanic[['age', 'fare', 'survived']]"
   ]
  },
  {
   "cell_type": "code",
   "execution_count": 29,
   "id": "e9e6caa4-a544-40fe-a107-aa12ee6a3306",
   "metadata": {},
   "outputs": [
    {
     "data": {
      "text/plain": [
       "age         21205.1700\n",
       "fare        28693.9493\n",
       "survived      342.0000\n",
       "dtype: float64"
      ]
     },
     "execution_count": 29,
     "metadata": {},
     "output_type": "execute_result"
    }
   ],
   "source": [
    "#행 인덱싱\n",
    "titanic[['age', 'fare', 'survived']].sum(axis='rows') #row[i] 간의 벡터 연산을 하겠다\n",
    "                                     #기본값 axis=0"
   ]
  },
  {
   "cell_type": "code",
   "execution_count": 30,
   "id": "0a3e3943-5bbf-4e1d-93be-38af53014095",
   "metadata": {},
   "outputs": [
    {
     "data": {
      "text/plain": [
       "0       29.2500\n",
       "1      110.2833\n",
       "2       34.9250\n",
       "3       89.1000\n",
       "4       43.0500\n",
       "         ...   \n",
       "886     40.0000\n",
       "887     50.0000\n",
       "888     23.4500\n",
       "889     57.0000\n",
       "890     39.7500\n",
       "Length: 891, dtype: float64"
      ]
     },
     "execution_count": 30,
     "metadata": {},
     "output_type": "execute_result"
    }
   ],
   "source": [
    "titanic[['age', 'fare', 'survived']].sum(axis=1) #1인 경우는 axis=columns\n",
    "                                    # columns[i] 간의 벡터 연산을 한다"
   ]
  },
  {
   "cell_type": "code",
   "execution_count": 35,
   "id": "15cb5a0a-7b1b-4c45-83fc-080eeb228087",
   "metadata": {},
   "outputs": [
    {
     "data": {
      "text/html": [
       "<div>\n",
       "<style scoped>\n",
       "    .dataframe tbody tr th:only-of-type {\n",
       "        vertical-align: middle;\n",
       "    }\n",
       "\n",
       "    .dataframe tbody tr th {\n",
       "        vertical-align: top;\n",
       "    }\n",
       "\n",
       "    .dataframe thead th {\n",
       "        text-align: right;\n",
       "    }\n",
       "</style>\n",
       "<table border=\"1\" class=\"dataframe\">\n",
       "  <thead>\n",
       "    <tr style=\"text-align: right;\">\n",
       "      <th></th>\n",
       "      <th>survived</th>\n",
       "      <th>pclass</th>\n",
       "      <th>sex</th>\n",
       "      <th>age</th>\n",
       "      <th>sibsp</th>\n",
       "      <th>parch</th>\n",
       "      <th>fare</th>\n",
       "      <th>embarked</th>\n",
       "      <th>class</th>\n",
       "      <th>who</th>\n",
       "      <th>adult_male</th>\n",
       "      <th>deck</th>\n",
       "      <th>embark_town</th>\n",
       "      <th>alive</th>\n",
       "      <th>alone</th>\n",
       "    </tr>\n",
       "  </thead>\n",
       "  <tbody>\n",
       "    <tr>\n",
       "      <th>679</th>\n",
       "      <td>1</td>\n",
       "      <td>1</td>\n",
       "      <td>male</td>\n",
       "      <td>36.0</td>\n",
       "      <td>0</td>\n",
       "      <td>1</td>\n",
       "      <td>512.3292</td>\n",
       "      <td>C</td>\n",
       "      <td>First</td>\n",
       "      <td>man</td>\n",
       "      <td>True</td>\n",
       "      <td>B</td>\n",
       "      <td>Cherbourg</td>\n",
       "      <td>yes</td>\n",
       "      <td>False</td>\n",
       "    </tr>\n",
       "    <tr>\n",
       "      <th>258</th>\n",
       "      <td>1</td>\n",
       "      <td>1</td>\n",
       "      <td>female</td>\n",
       "      <td>35.0</td>\n",
       "      <td>0</td>\n",
       "      <td>0</td>\n",
       "      <td>512.3292</td>\n",
       "      <td>C</td>\n",
       "      <td>First</td>\n",
       "      <td>woman</td>\n",
       "      <td>False</td>\n",
       "      <td>NaN</td>\n",
       "      <td>Cherbourg</td>\n",
       "      <td>yes</td>\n",
       "      <td>True</td>\n",
       "    </tr>\n",
       "    <tr>\n",
       "      <th>737</th>\n",
       "      <td>1</td>\n",
       "      <td>1</td>\n",
       "      <td>male</td>\n",
       "      <td>35.0</td>\n",
       "      <td>0</td>\n",
       "      <td>0</td>\n",
       "      <td>512.3292</td>\n",
       "      <td>C</td>\n",
       "      <td>First</td>\n",
       "      <td>man</td>\n",
       "      <td>True</td>\n",
       "      <td>B</td>\n",
       "      <td>Cherbourg</td>\n",
       "      <td>yes</td>\n",
       "      <td>True</td>\n",
       "    </tr>\n",
       "  </tbody>\n",
       "</table>\n",
       "</div>"
      ],
      "text/plain": [
       "     survived  pclass     sex   age  sibsp  parch      fare embarked  class  \\\n",
       "679         1       1    male  36.0      0      1  512.3292        C  First   \n",
       "258         1       1  female  35.0      0      0  512.3292        C  First   \n",
       "737         1       1    male  35.0      0      0  512.3292        C  First   \n",
       "\n",
       "       who  adult_male deck embark_town alive  alone  \n",
       "679    man        True    B   Cherbourg   yes  False  \n",
       "258  woman       False  NaN   Cherbourg   yes   True  \n",
       "737    man        True    B   Cherbourg   yes   True  "
      ]
     },
     "execution_count": 35,
     "metadata": {},
     "output_type": "execute_result"
    }
   ],
   "source": [
    "titanic.nlargest(3, columns = ['fare', 'age'])"
   ]
  },
  {
   "cell_type": "code",
   "execution_count": 36,
   "id": "c325c207-62f5-4059-9c5e-213530840490",
   "metadata": {},
   "outputs": [
    {
     "data": {
      "text/html": [
       "<div>\n",
       "<style scoped>\n",
       "    .dataframe tbody tr th:only-of-type {\n",
       "        vertical-align: middle;\n",
       "    }\n",
       "\n",
       "    .dataframe tbody tr th {\n",
       "        vertical-align: top;\n",
       "    }\n",
       "\n",
       "    .dataframe thead th {\n",
       "        text-align: right;\n",
       "    }\n",
       "</style>\n",
       "<table border=\"1\" class=\"dataframe\">\n",
       "  <thead>\n",
       "    <tr style=\"text-align: right;\">\n",
       "      <th></th>\n",
       "      <th>survived</th>\n",
       "      <th>pclass</th>\n",
       "      <th>sex</th>\n",
       "      <th>age</th>\n",
       "      <th>sibsp</th>\n",
       "      <th>parch</th>\n",
       "      <th>fare</th>\n",
       "      <th>embarked</th>\n",
       "      <th>class</th>\n",
       "      <th>who</th>\n",
       "      <th>adult_male</th>\n",
       "      <th>deck</th>\n",
       "      <th>embark_town</th>\n",
       "      <th>alive</th>\n",
       "      <th>alone</th>\n",
       "    </tr>\n",
       "  </thead>\n",
       "  <tbody>\n",
       "    <tr>\n",
       "      <th>179</th>\n",
       "      <td>0</td>\n",
       "      <td>3</td>\n",
       "      <td>male</td>\n",
       "      <td>36.0</td>\n",
       "      <td>0</td>\n",
       "      <td>0</td>\n",
       "      <td>0.0</td>\n",
       "      <td>S</td>\n",
       "      <td>Third</td>\n",
       "      <td>man</td>\n",
       "      <td>True</td>\n",
       "      <td>NaN</td>\n",
       "      <td>Southampton</td>\n",
       "      <td>no</td>\n",
       "      <td>True</td>\n",
       "    </tr>\n",
       "    <tr>\n",
       "      <th>263</th>\n",
       "      <td>0</td>\n",
       "      <td>1</td>\n",
       "      <td>male</td>\n",
       "      <td>40.0</td>\n",
       "      <td>0</td>\n",
       "      <td>0</td>\n",
       "      <td>0.0</td>\n",
       "      <td>S</td>\n",
       "      <td>First</td>\n",
       "      <td>man</td>\n",
       "      <td>True</td>\n",
       "      <td>B</td>\n",
       "      <td>Southampton</td>\n",
       "      <td>no</td>\n",
       "      <td>True</td>\n",
       "    </tr>\n",
       "    <tr>\n",
       "      <th>271</th>\n",
       "      <td>1</td>\n",
       "      <td>3</td>\n",
       "      <td>male</td>\n",
       "      <td>25.0</td>\n",
       "      <td>0</td>\n",
       "      <td>0</td>\n",
       "      <td>0.0</td>\n",
       "      <td>S</td>\n",
       "      <td>Third</td>\n",
       "      <td>man</td>\n",
       "      <td>True</td>\n",
       "      <td>NaN</td>\n",
       "      <td>Southampton</td>\n",
       "      <td>yes</td>\n",
       "      <td>True</td>\n",
       "    </tr>\n",
       "  </tbody>\n",
       "</table>\n",
       "</div>"
      ],
      "text/plain": [
       "     survived  pclass   sex   age  sibsp  parch  fare embarked  class  who  \\\n",
       "179         0       3  male  36.0      0      0   0.0        S  Third  man   \n",
       "263         0       1  male  40.0      0      0   0.0        S  First  man   \n",
       "271         1       3  male  25.0      0      0   0.0        S  Third  man   \n",
       "\n",
       "     adult_male deck  embark_town alive  alone  \n",
       "179        True  NaN  Southampton    no   True  \n",
       "263        True    B  Southampton    no   True  \n",
       "271        True  NaN  Southampton   yes   True  "
      ]
     },
     "execution_count": 36,
     "metadata": {},
     "output_type": "execute_result"
    }
   ],
   "source": [
    "titanic.nsmallest(3, columns = ['fare'])"
   ]
  },
  {
   "cell_type": "code",
   "execution_count": 39,
   "id": "c3874bb5-7cfa-4819-985b-ed5819feb952",
   "metadata": {},
   "outputs": [
    {
     "data": {
      "text/html": [
       "<div>\n",
       "<style scoped>\n",
       "    .dataframe tbody tr th:only-of-type {\n",
       "        vertical-align: middle;\n",
       "    }\n",
       "\n",
       "    .dataframe tbody tr th {\n",
       "        vertical-align: top;\n",
       "    }\n",
       "\n",
       "    .dataframe thead th {\n",
       "        text-align: right;\n",
       "    }\n",
       "</style>\n",
       "<table border=\"1\" class=\"dataframe\">\n",
       "  <thead>\n",
       "    <tr style=\"text-align: right;\">\n",
       "      <th></th>\n",
       "      <th>survived</th>\n",
       "      <th>pclass</th>\n",
       "      <th>age</th>\n",
       "      <th>sibsp</th>\n",
       "      <th>parch</th>\n",
       "      <th>fare</th>\n",
       "    </tr>\n",
       "  </thead>\n",
       "  <tbody>\n",
       "    <tr>\n",
       "      <th>count</th>\n",
       "      <td>891.000000</td>\n",
       "      <td>891.000000</td>\n",
       "      <td>714.000000</td>\n",
       "      <td>891.000000</td>\n",
       "      <td>891.000000</td>\n",
       "      <td>891.000000</td>\n",
       "    </tr>\n",
       "    <tr>\n",
       "      <th>mean</th>\n",
       "      <td>0.383838</td>\n",
       "      <td>2.308642</td>\n",
       "      <td>29.699118</td>\n",
       "      <td>0.523008</td>\n",
       "      <td>0.381594</td>\n",
       "      <td>32.204208</td>\n",
       "    </tr>\n",
       "    <tr>\n",
       "      <th>std</th>\n",
       "      <td>0.486592</td>\n",
       "      <td>0.836071</td>\n",
       "      <td>14.526497</td>\n",
       "      <td>1.102743</td>\n",
       "      <td>0.806057</td>\n",
       "      <td>49.693429</td>\n",
       "    </tr>\n",
       "    <tr>\n",
       "      <th>min</th>\n",
       "      <td>0.000000</td>\n",
       "      <td>1.000000</td>\n",
       "      <td>0.420000</td>\n",
       "      <td>0.000000</td>\n",
       "      <td>0.000000</td>\n",
       "      <td>0.000000</td>\n",
       "    </tr>\n",
       "    <tr>\n",
       "      <th>25%</th>\n",
       "      <td>0.000000</td>\n",
       "      <td>2.000000</td>\n",
       "      <td>20.125000</td>\n",
       "      <td>0.000000</td>\n",
       "      <td>0.000000</td>\n",
       "      <td>7.910400</td>\n",
       "    </tr>\n",
       "    <tr>\n",
       "      <th>50%</th>\n",
       "      <td>0.000000</td>\n",
       "      <td>3.000000</td>\n",
       "      <td>28.000000</td>\n",
       "      <td>0.000000</td>\n",
       "      <td>0.000000</td>\n",
       "      <td>14.454200</td>\n",
       "    </tr>\n",
       "    <tr>\n",
       "      <th>75%</th>\n",
       "      <td>1.000000</td>\n",
       "      <td>3.000000</td>\n",
       "      <td>38.000000</td>\n",
       "      <td>1.000000</td>\n",
       "      <td>0.000000</td>\n",
       "      <td>31.000000</td>\n",
       "    </tr>\n",
       "    <tr>\n",
       "      <th>max</th>\n",
       "      <td>1.000000</td>\n",
       "      <td>3.000000</td>\n",
       "      <td>80.000000</td>\n",
       "      <td>8.000000</td>\n",
       "      <td>6.000000</td>\n",
       "      <td>512.329200</td>\n",
       "    </tr>\n",
       "  </tbody>\n",
       "</table>\n",
       "</div>"
      ],
      "text/plain": [
       "         survived      pclass         age       sibsp       parch        fare\n",
       "count  891.000000  891.000000  714.000000  891.000000  891.000000  891.000000\n",
       "mean     0.383838    2.308642   29.699118    0.523008    0.381594   32.204208\n",
       "std      0.486592    0.836071   14.526497    1.102743    0.806057   49.693429\n",
       "min      0.000000    1.000000    0.420000    0.000000    0.000000    0.000000\n",
       "25%      0.000000    2.000000   20.125000    0.000000    0.000000    7.910400\n",
       "50%      0.000000    3.000000   28.000000    0.000000    0.000000   14.454200\n",
       "75%      1.000000    3.000000   38.000000    1.000000    0.000000   31.000000\n",
       "max      1.000000    3.000000   80.000000    8.000000    6.000000  512.329200"
      ]
     },
     "execution_count": 39,
     "metadata": {},
     "output_type": "execute_result"
    }
   ],
   "source": [
    "titanic.describe()\n",
    "\n",
    "#수치형 데이터에 대해서만 값을 반환함"
   ]
  },
  {
   "cell_type": "code",
   "execution_count": 40,
   "id": "7be7a8c5-0f41-41b3-b80e-12983a785bed",
   "metadata": {},
   "outputs": [
    {
     "data": {
      "text/html": [
       "<div>\n",
       "<style scoped>\n",
       "    .dataframe tbody tr th:only-of-type {\n",
       "        vertical-align: middle;\n",
       "    }\n",
       "\n",
       "    .dataframe tbody tr th {\n",
       "        vertical-align: top;\n",
       "    }\n",
       "\n",
       "    .dataframe thead th {\n",
       "        text-align: right;\n",
       "    }\n",
       "</style>\n",
       "<table border=\"1\" class=\"dataframe\">\n",
       "  <thead>\n",
       "    <tr style=\"text-align: right;\">\n",
       "      <th></th>\n",
       "      <th>who</th>\n",
       "      <th>survived</th>\n",
       "      <th>sibsp</th>\n",
       "      <th>sex</th>\n",
       "      <th>pclass</th>\n",
       "      <th>parch</th>\n",
       "      <th>fare</th>\n",
       "      <th>embarked</th>\n",
       "      <th>embark_town</th>\n",
       "      <th>deck</th>\n",
       "      <th>class</th>\n",
       "      <th>alone</th>\n",
       "      <th>alive</th>\n",
       "      <th>age</th>\n",
       "      <th>adult_male</th>\n",
       "    </tr>\n",
       "  </thead>\n",
       "  <tbody>\n",
       "    <tr>\n",
       "      <th>0</th>\n",
       "      <td>man</td>\n",
       "      <td>0</td>\n",
       "      <td>1</td>\n",
       "      <td>male</td>\n",
       "      <td>3</td>\n",
       "      <td>0</td>\n",
       "      <td>7.2500</td>\n",
       "      <td>S</td>\n",
       "      <td>Southampton</td>\n",
       "      <td>NaN</td>\n",
       "      <td>Third</td>\n",
       "      <td>False</td>\n",
       "      <td>no</td>\n",
       "      <td>22.0</td>\n",
       "      <td>True</td>\n",
       "    </tr>\n",
       "    <tr>\n",
       "      <th>1</th>\n",
       "      <td>woman</td>\n",
       "      <td>1</td>\n",
       "      <td>1</td>\n",
       "      <td>female</td>\n",
       "      <td>1</td>\n",
       "      <td>0</td>\n",
       "      <td>71.2833</td>\n",
       "      <td>C</td>\n",
       "      <td>Cherbourg</td>\n",
       "      <td>C</td>\n",
       "      <td>First</td>\n",
       "      <td>False</td>\n",
       "      <td>yes</td>\n",
       "      <td>38.0</td>\n",
       "      <td>False</td>\n",
       "    </tr>\n",
       "    <tr>\n",
       "      <th>2</th>\n",
       "      <td>woman</td>\n",
       "      <td>1</td>\n",
       "      <td>0</td>\n",
       "      <td>female</td>\n",
       "      <td>3</td>\n",
       "      <td>0</td>\n",
       "      <td>7.9250</td>\n",
       "      <td>S</td>\n",
       "      <td>Southampton</td>\n",
       "      <td>NaN</td>\n",
       "      <td>Third</td>\n",
       "      <td>True</td>\n",
       "      <td>yes</td>\n",
       "      <td>26.0</td>\n",
       "      <td>False</td>\n",
       "    </tr>\n",
       "    <tr>\n",
       "      <th>3</th>\n",
       "      <td>woman</td>\n",
       "      <td>1</td>\n",
       "      <td>1</td>\n",
       "      <td>female</td>\n",
       "      <td>1</td>\n",
       "      <td>0</td>\n",
       "      <td>53.1000</td>\n",
       "      <td>S</td>\n",
       "      <td>Southampton</td>\n",
       "      <td>C</td>\n",
       "      <td>First</td>\n",
       "      <td>False</td>\n",
       "      <td>yes</td>\n",
       "      <td>35.0</td>\n",
       "      <td>False</td>\n",
       "    </tr>\n",
       "    <tr>\n",
       "      <th>4</th>\n",
       "      <td>man</td>\n",
       "      <td>0</td>\n",
       "      <td>0</td>\n",
       "      <td>male</td>\n",
       "      <td>3</td>\n",
       "      <td>0</td>\n",
       "      <td>8.0500</td>\n",
       "      <td>S</td>\n",
       "      <td>Southampton</td>\n",
       "      <td>NaN</td>\n",
       "      <td>Third</td>\n",
       "      <td>True</td>\n",
       "      <td>no</td>\n",
       "      <td>35.0</td>\n",
       "      <td>True</td>\n",
       "    </tr>\n",
       "    <tr>\n",
       "      <th>...</th>\n",
       "      <td>...</td>\n",
       "      <td>...</td>\n",
       "      <td>...</td>\n",
       "      <td>...</td>\n",
       "      <td>...</td>\n",
       "      <td>...</td>\n",
       "      <td>...</td>\n",
       "      <td>...</td>\n",
       "      <td>...</td>\n",
       "      <td>...</td>\n",
       "      <td>...</td>\n",
       "      <td>...</td>\n",
       "      <td>...</td>\n",
       "      <td>...</td>\n",
       "      <td>...</td>\n",
       "    </tr>\n",
       "    <tr>\n",
       "      <th>886</th>\n",
       "      <td>man</td>\n",
       "      <td>0</td>\n",
       "      <td>0</td>\n",
       "      <td>male</td>\n",
       "      <td>2</td>\n",
       "      <td>0</td>\n",
       "      <td>13.0000</td>\n",
       "      <td>S</td>\n",
       "      <td>Southampton</td>\n",
       "      <td>NaN</td>\n",
       "      <td>Second</td>\n",
       "      <td>True</td>\n",
       "      <td>no</td>\n",
       "      <td>27.0</td>\n",
       "      <td>True</td>\n",
       "    </tr>\n",
       "    <tr>\n",
       "      <th>887</th>\n",
       "      <td>woman</td>\n",
       "      <td>1</td>\n",
       "      <td>0</td>\n",
       "      <td>female</td>\n",
       "      <td>1</td>\n",
       "      <td>0</td>\n",
       "      <td>30.0000</td>\n",
       "      <td>S</td>\n",
       "      <td>Southampton</td>\n",
       "      <td>B</td>\n",
       "      <td>First</td>\n",
       "      <td>True</td>\n",
       "      <td>yes</td>\n",
       "      <td>19.0</td>\n",
       "      <td>False</td>\n",
       "    </tr>\n",
       "    <tr>\n",
       "      <th>888</th>\n",
       "      <td>woman</td>\n",
       "      <td>0</td>\n",
       "      <td>1</td>\n",
       "      <td>female</td>\n",
       "      <td>3</td>\n",
       "      <td>2</td>\n",
       "      <td>23.4500</td>\n",
       "      <td>S</td>\n",
       "      <td>Southampton</td>\n",
       "      <td>NaN</td>\n",
       "      <td>Third</td>\n",
       "      <td>False</td>\n",
       "      <td>no</td>\n",
       "      <td>NaN</td>\n",
       "      <td>False</td>\n",
       "    </tr>\n",
       "    <tr>\n",
       "      <th>889</th>\n",
       "      <td>man</td>\n",
       "      <td>1</td>\n",
       "      <td>0</td>\n",
       "      <td>male</td>\n",
       "      <td>1</td>\n",
       "      <td>0</td>\n",
       "      <td>30.0000</td>\n",
       "      <td>C</td>\n",
       "      <td>Cherbourg</td>\n",
       "      <td>C</td>\n",
       "      <td>First</td>\n",
       "      <td>True</td>\n",
       "      <td>yes</td>\n",
       "      <td>26.0</td>\n",
       "      <td>True</td>\n",
       "    </tr>\n",
       "    <tr>\n",
       "      <th>890</th>\n",
       "      <td>man</td>\n",
       "      <td>0</td>\n",
       "      <td>0</td>\n",
       "      <td>male</td>\n",
       "      <td>3</td>\n",
       "      <td>0</td>\n",
       "      <td>7.7500</td>\n",
       "      <td>Q</td>\n",
       "      <td>Queenstown</td>\n",
       "      <td>NaN</td>\n",
       "      <td>Third</td>\n",
       "      <td>True</td>\n",
       "      <td>no</td>\n",
       "      <td>32.0</td>\n",
       "      <td>True</td>\n",
       "    </tr>\n",
       "  </tbody>\n",
       "</table>\n",
       "<p>891 rows × 15 columns</p>\n",
       "</div>"
      ],
      "text/plain": [
       "       who  survived  sibsp     sex  pclass  parch     fare embarked  \\\n",
       "0      man         0      1    male       3      0   7.2500        S   \n",
       "1    woman         1      1  female       1      0  71.2833        C   \n",
       "2    woman         1      0  female       3      0   7.9250        S   \n",
       "3    woman         1      1  female       1      0  53.1000        S   \n",
       "4      man         0      0    male       3      0   8.0500        S   \n",
       "..     ...       ...    ...     ...     ...    ...      ...      ...   \n",
       "886    man         0      0    male       2      0  13.0000        S   \n",
       "887  woman         1      0  female       1      0  30.0000        S   \n",
       "888  woman         0      1  female       3      2  23.4500        S   \n",
       "889    man         1      0    male       1      0  30.0000        C   \n",
       "890    man         0      0    male       3      0   7.7500        Q   \n",
       "\n",
       "     embark_town deck   class  alone alive   age  adult_male  \n",
       "0    Southampton  NaN   Third  False    no  22.0        True  \n",
       "1      Cherbourg    C   First  False   yes  38.0       False  \n",
       "2    Southampton  NaN   Third   True   yes  26.0       False  \n",
       "3    Southampton    C   First  False   yes  35.0       False  \n",
       "4    Southampton  NaN   Third   True    no  35.0        True  \n",
       "..           ...  ...     ...    ...   ...   ...         ...  \n",
       "886  Southampton  NaN  Second   True    no  27.0        True  \n",
       "887  Southampton    B   First   True   yes  19.0       False  \n",
       "888  Southampton  NaN   Third  False    no   NaN       False  \n",
       "889    Cherbourg    C   First   True   yes  26.0        True  \n",
       "890   Queenstown  NaN   Third   True    no  32.0        True  \n",
       "\n",
       "[891 rows x 15 columns]"
      ]
     },
     "execution_count": 40,
     "metadata": {},
     "output_type": "execute_result"
    }
   ],
   "source": [
    "# dataframe column index를 기준으로 절령하기\n",
    "titanic.sort_index(axis=1, ascending=False)"
   ]
  },
  {
   "cell_type": "code",
   "execution_count": 45,
   "id": "552d31b9-0716-4aae-8a7d-69f4be86f48b",
   "metadata": {},
   "outputs": [
    {
     "data": {
      "text/html": [
       "<div>\n",
       "<style scoped>\n",
       "    .dataframe tbody tr th:only-of-type {\n",
       "        vertical-align: middle;\n",
       "    }\n",
       "\n",
       "    .dataframe tbody tr th {\n",
       "        vertical-align: top;\n",
       "    }\n",
       "\n",
       "    .dataframe thead th {\n",
       "        text-align: right;\n",
       "    }\n",
       "</style>\n",
       "<table border=\"1\" class=\"dataframe\">\n",
       "  <thead>\n",
       "    <tr style=\"text-align: right;\">\n",
       "      <th></th>\n",
       "      <th>survived</th>\n",
       "      <th>pclass</th>\n",
       "      <th>sex</th>\n",
       "      <th>age</th>\n",
       "      <th>sibsp</th>\n",
       "      <th>parch</th>\n",
       "      <th>fare</th>\n",
       "      <th>embarked</th>\n",
       "      <th>class</th>\n",
       "      <th>who</th>\n",
       "      <th>adult_male</th>\n",
       "      <th>deck</th>\n",
       "      <th>embark_town</th>\n",
       "      <th>alive</th>\n",
       "      <th>alone</th>\n",
       "    </tr>\n",
       "  </thead>\n",
       "  <tbody>\n",
       "    <tr>\n",
       "      <th>0</th>\n",
       "      <td>0</td>\n",
       "      <td>3</td>\n",
       "      <td>male</td>\n",
       "      <td>22.0</td>\n",
       "      <td>1</td>\n",
       "      <td>0</td>\n",
       "      <td>7.2500</td>\n",
       "      <td>S</td>\n",
       "      <td>Third</td>\n",
       "      <td>man</td>\n",
       "      <td>True</td>\n",
       "      <td>NaN</td>\n",
       "      <td>Southampton</td>\n",
       "      <td>no</td>\n",
       "      <td>False</td>\n",
       "    </tr>\n",
       "    <tr>\n",
       "      <th>1</th>\n",
       "      <td>1</td>\n",
       "      <td>1</td>\n",
       "      <td>female</td>\n",
       "      <td>38.0</td>\n",
       "      <td>1</td>\n",
       "      <td>0</td>\n",
       "      <td>71.2833</td>\n",
       "      <td>C</td>\n",
       "      <td>First</td>\n",
       "      <td>woman</td>\n",
       "      <td>False</td>\n",
       "      <td>C</td>\n",
       "      <td>Cherbourg</td>\n",
       "      <td>yes</td>\n",
       "      <td>False</td>\n",
       "    </tr>\n",
       "    <tr>\n",
       "      <th>2</th>\n",
       "      <td>1</td>\n",
       "      <td>3</td>\n",
       "      <td>female</td>\n",
       "      <td>26.0</td>\n",
       "      <td>0</td>\n",
       "      <td>0</td>\n",
       "      <td>7.9250</td>\n",
       "      <td>S</td>\n",
       "      <td>Third</td>\n",
       "      <td>woman</td>\n",
       "      <td>False</td>\n",
       "      <td>NaN</td>\n",
       "      <td>Southampton</td>\n",
       "      <td>yes</td>\n",
       "      <td>True</td>\n",
       "    </tr>\n",
       "    <tr>\n",
       "      <th>3</th>\n",
       "      <td>1</td>\n",
       "      <td>1</td>\n",
       "      <td>female</td>\n",
       "      <td>35.0</td>\n",
       "      <td>1</td>\n",
       "      <td>0</td>\n",
       "      <td>53.1000</td>\n",
       "      <td>S</td>\n",
       "      <td>First</td>\n",
       "      <td>woman</td>\n",
       "      <td>False</td>\n",
       "      <td>C</td>\n",
       "      <td>Southampton</td>\n",
       "      <td>yes</td>\n",
       "      <td>False</td>\n",
       "    </tr>\n",
       "    <tr>\n",
       "      <th>4</th>\n",
       "      <td>0</td>\n",
       "      <td>3</td>\n",
       "      <td>male</td>\n",
       "      <td>35.0</td>\n",
       "      <td>0</td>\n",
       "      <td>0</td>\n",
       "      <td>8.0500</td>\n",
       "      <td>S</td>\n",
       "      <td>Third</td>\n",
       "      <td>man</td>\n",
       "      <td>True</td>\n",
       "      <td>NaN</td>\n",
       "      <td>Southampton</td>\n",
       "      <td>no</td>\n",
       "      <td>True</td>\n",
       "    </tr>\n",
       "    <tr>\n",
       "      <th>...</th>\n",
       "      <td>...</td>\n",
       "      <td>...</td>\n",
       "      <td>...</td>\n",
       "      <td>...</td>\n",
       "      <td>...</td>\n",
       "      <td>...</td>\n",
       "      <td>...</td>\n",
       "      <td>...</td>\n",
       "      <td>...</td>\n",
       "      <td>...</td>\n",
       "      <td>...</td>\n",
       "      <td>...</td>\n",
       "      <td>...</td>\n",
       "      <td>...</td>\n",
       "      <td>...</td>\n",
       "    </tr>\n",
       "    <tr>\n",
       "      <th>886</th>\n",
       "      <td>0</td>\n",
       "      <td>2</td>\n",
       "      <td>male</td>\n",
       "      <td>27.0</td>\n",
       "      <td>0</td>\n",
       "      <td>0</td>\n",
       "      <td>13.0000</td>\n",
       "      <td>S</td>\n",
       "      <td>Second</td>\n",
       "      <td>man</td>\n",
       "      <td>True</td>\n",
       "      <td>NaN</td>\n",
       "      <td>Southampton</td>\n",
       "      <td>no</td>\n",
       "      <td>True</td>\n",
       "    </tr>\n",
       "    <tr>\n",
       "      <th>887</th>\n",
       "      <td>1</td>\n",
       "      <td>1</td>\n",
       "      <td>female</td>\n",
       "      <td>19.0</td>\n",
       "      <td>0</td>\n",
       "      <td>0</td>\n",
       "      <td>30.0000</td>\n",
       "      <td>S</td>\n",
       "      <td>First</td>\n",
       "      <td>woman</td>\n",
       "      <td>False</td>\n",
       "      <td>B</td>\n",
       "      <td>Southampton</td>\n",
       "      <td>yes</td>\n",
       "      <td>True</td>\n",
       "    </tr>\n",
       "    <tr>\n",
       "      <th>888</th>\n",
       "      <td>0</td>\n",
       "      <td>3</td>\n",
       "      <td>female</td>\n",
       "      <td>NaN</td>\n",
       "      <td>1</td>\n",
       "      <td>2</td>\n",
       "      <td>23.4500</td>\n",
       "      <td>S</td>\n",
       "      <td>Third</td>\n",
       "      <td>woman</td>\n",
       "      <td>False</td>\n",
       "      <td>NaN</td>\n",
       "      <td>Southampton</td>\n",
       "      <td>no</td>\n",
       "      <td>False</td>\n",
       "    </tr>\n",
       "    <tr>\n",
       "      <th>889</th>\n",
       "      <td>1</td>\n",
       "      <td>1</td>\n",
       "      <td>male</td>\n",
       "      <td>26.0</td>\n",
       "      <td>0</td>\n",
       "      <td>0</td>\n",
       "      <td>30.0000</td>\n",
       "      <td>C</td>\n",
       "      <td>First</td>\n",
       "      <td>man</td>\n",
       "      <td>True</td>\n",
       "      <td>C</td>\n",
       "      <td>Cherbourg</td>\n",
       "      <td>yes</td>\n",
       "      <td>True</td>\n",
       "    </tr>\n",
       "    <tr>\n",
       "      <th>890</th>\n",
       "      <td>0</td>\n",
       "      <td>3</td>\n",
       "      <td>male</td>\n",
       "      <td>32.0</td>\n",
       "      <td>0</td>\n",
       "      <td>0</td>\n",
       "      <td>7.7500</td>\n",
       "      <td>Q</td>\n",
       "      <td>Third</td>\n",
       "      <td>man</td>\n",
       "      <td>True</td>\n",
       "      <td>NaN</td>\n",
       "      <td>Queenstown</td>\n",
       "      <td>no</td>\n",
       "      <td>True</td>\n",
       "    </tr>\n",
       "  </tbody>\n",
       "</table>\n",
       "<p>891 rows × 15 columns</p>\n",
       "</div>"
      ],
      "text/plain": [
       "     survived  pclass     sex   age  sibsp  parch     fare embarked   class  \\\n",
       "0           0       3    male  22.0      1      0   7.2500        S   Third   \n",
       "1           1       1  female  38.0      1      0  71.2833        C   First   \n",
       "2           1       3  female  26.0      0      0   7.9250        S   Third   \n",
       "3           1       1  female  35.0      1      0  53.1000        S   First   \n",
       "4           0       3    male  35.0      0      0   8.0500        S   Third   \n",
       "..        ...     ...     ...   ...    ...    ...      ...      ...     ...   \n",
       "886         0       2    male  27.0      0      0  13.0000        S  Second   \n",
       "887         1       1  female  19.0      0      0  30.0000        S   First   \n",
       "888         0       3  female   NaN      1      2  23.4500        S   Third   \n",
       "889         1       1    male  26.0      0      0  30.0000        C   First   \n",
       "890         0       3    male  32.0      0      0   7.7500        Q   Third   \n",
       "\n",
       "       who  adult_male deck  embark_town alive  alone  \n",
       "0      man        True  NaN  Southampton    no  False  \n",
       "1    woman       False    C    Cherbourg   yes  False  \n",
       "2    woman       False  NaN  Southampton   yes   True  \n",
       "3    woman       False    C  Southampton   yes  False  \n",
       "4      man        True  NaN  Southampton    no   True  \n",
       "..     ...         ...  ...          ...   ...    ...  \n",
       "886    man        True  NaN  Southampton    no   True  \n",
       "887  woman       False    B  Southampton   yes   True  \n",
       "888  woman       False  NaN  Southampton    no  False  \n",
       "889    man        True    C    Cherbourg   yes   True  \n",
       "890    man        True  NaN   Queenstown    no   True  \n",
       "\n",
       "[891 rows x 15 columns]"
      ]
     },
     "execution_count": 45,
     "metadata": {},
     "output_type": "execute_result"
    }
   ],
   "source": [
    "# 타이타닉\n",
    "#import seaborn as sns\n",
    "#titanic = sns.load_dataset(\"titanic\")\n",
    "\n",
    "titanic"
   ]
  },
  {
   "cell_type": "code",
   "execution_count": 48,
   "id": "0d9c2e4b-eb5d-4bef-a247-c9a015758a76",
   "metadata": {},
   "outputs": [
    {
     "data": {
      "text/plain": [
       "sex   \n",
       "male      577\n",
       "female    314\n",
       "dtype: int64"
      ]
     },
     "execution_count": 48,
     "metadata": {},
     "output_type": "execute_result"
    }
   ],
   "source": [
    "titanic[['sex']].value_counts()"
   ]
  },
  {
   "cell_type": "code",
   "execution_count": 53,
   "id": "1a8e54aa-27cb-4d23-a8c6-f2cde7f8e7f6",
   "metadata": {},
   "outputs": [
    {
     "data": {
      "text/plain": [
       "male      577\n",
       "female    314\n",
       "Name: sex, dtype: int64"
      ]
     },
     "execution_count": 53,
     "metadata": {},
     "output_type": "execute_result"
    }
   ],
   "source": [
    "pd.value_counts(titanic['sex']).sort_values(ascending=False)"
   ]
  },
  {
   "cell_type": "code",
   "execution_count": 52,
   "id": "90830656-483b-4b09-80db-9df32ebf06aa",
   "metadata": {},
   "outputs": [
    {
     "data": {
      "text/plain": [
       "24.00    30\n",
       "22.00    27\n",
       "18.00    26\n",
       "19.00    25\n",
       "28.00    25\n",
       "         ..\n",
       "66.00     1\n",
       "0.67      1\n",
       "0.42      1\n",
       "34.50     1\n",
       "74.00     1\n",
       "Name: age, Length: 88, dtype: int64"
      ]
     },
     "execution_count": 52,
     "metadata": {},
     "output_type": "execute_result"
    }
   ],
   "source": [
    "pd.value_counts(titanic['age']).sort_values(ascending=False)"
   ]
  },
  {
   "cell_type": "code",
   "execution_count": 54,
   "id": "acdf2832-7c76-490a-8e61-ef8ac36e8357",
   "metadata": {},
   "outputs": [
    {
     "data": {
      "text/plain": [
       "Third     491\n",
       "First     216\n",
       "Second    184\n",
       "Name: class, dtype: int64"
      ]
     },
     "execution_count": 54,
     "metadata": {},
     "output_type": "execute_result"
    }
   ],
   "source": [
    "pd.value_counts(titanic['class']).sort_values(ascending=False)"
   ]
  },
  {
   "cell_type": "code",
   "execution_count": 55,
   "id": "19b9b833-048d-4c73-9585-30cd3b367f79",
   "metadata": {},
   "outputs": [
    {
     "data": {
      "text/plain": [
       "no     549\n",
       "yes    342\n",
       "Name: alive, dtype: int64"
      ]
     },
     "execution_count": 55,
     "metadata": {},
     "output_type": "execute_result"
    }
   ],
   "source": [
    "pd.value_counts(titanic['alive']).sort_values(ascending=False)"
   ]
  },
  {
   "cell_type": "code",
   "execution_count": 57,
   "id": "ed3ad314-7b16-42a8-abef-acdbec5f4681",
   "metadata": {},
   "outputs": [
    {
     "data": {
      "text/plain": [
       "no     549\n",
       "yes    342\n",
       "Name: alive, dtype: int64"
      ]
     },
     "execution_count": 57,
     "metadata": {},
     "output_type": "execute_result"
    }
   ],
   "source": [
    "titanic['alive'].value_counts().sort_values(ascending=False)"
   ]
  },
  {
   "cell_type": "code",
   "execution_count": 70,
   "id": "1d14b042-f88e-457e-a60d-bee2db02f400",
   "metadata": {},
   "outputs": [
    {
     "data": {
      "text/html": [
       "<div>\n",
       "<style scoped>\n",
       "    .dataframe tbody tr th:only-of-type {\n",
       "        vertical-align: middle;\n",
       "    }\n",
       "\n",
       "    .dataframe tbody tr th {\n",
       "        vertical-align: top;\n",
       "    }\n",
       "\n",
       "    .dataframe thead th {\n",
       "        text-align: right;\n",
       "    }\n",
       "</style>\n",
       "<table border=\"1\" class=\"dataframe\">\n",
       "  <thead>\n",
       "    <tr style=\"text-align: right;\">\n",
       "      <th></th>\n",
       "      <th>A</th>\n",
       "      <th>B</th>\n",
       "      <th>C</th>\n",
       "      <th>D</th>\n",
       "    </tr>\n",
       "  </thead>\n",
       "  <tbody>\n",
       "    <tr>\n",
       "      <th>a</th>\n",
       "      <td>10</td>\n",
       "      <td>11</td>\n",
       "      <td>12</td>\n",
       "      <td>13</td>\n",
       "    </tr>\n",
       "    <tr>\n",
       "      <th>b</th>\n",
       "      <td>14</td>\n",
       "      <td>15</td>\n",
       "      <td>16</td>\n",
       "      <td>17</td>\n",
       "    </tr>\n",
       "    <tr>\n",
       "      <th>c</th>\n",
       "      <td>18</td>\n",
       "      <td>19</td>\n",
       "      <td>20</td>\n",
       "      <td>21</td>\n",
       "    </tr>\n",
       "  </tbody>\n",
       "</table>\n",
       "</div>"
      ],
      "text/plain": [
       "    A   B   C   D\n",
       "a  10  11  12  13\n",
       "b  14  15  16  17\n",
       "c  18  19  20  21"
      ]
     },
     "execution_count": 70,
     "metadata": {},
     "output_type": "execute_result"
    }
   ],
   "source": [
    "# DataFrame 고급 인덱싱 loc 인덱서를 위해 DataFrame을 만들어보렵니다\n",
    "\n",
    "df = pd.DataFrame(data=np.arange(10,22).reshape(3,4),\n",
    "                  index=['a','b','c'], columns=['A','B','C','D'])\n",
    "\n",
    "#좋은 방법\n",
    "df = pd.DataFrame(data=np.arange(10,22).reshape(3,4),\n",
    "                  index=list('abc'), columns=list('ABCD'))\n",
    "df"
   ]
  },
  {
   "cell_type": "code",
   "execution_count": 71,
   "id": "3e5fe31b-26c6-4491-8f28-80c38da88c8c",
   "metadata": {},
   "outputs": [
    {
     "data": {
      "text/plain": [
       "A    10\n",
       "B    11\n",
       "C    12\n",
       "D    13\n",
       "Name: a, dtype: int32"
      ]
     },
     "execution_count": 71,
     "metadata": {},
     "output_type": "execute_result"
    }
   ],
   "source": [
    "df.loc['a']\n",
    "\n",
    "#label에 대해 접근함\n"
   ]
  },
  {
   "cell_type": "code",
   "execution_count": 72,
   "id": "aae15498-b2bd-41b5-8dab-f59756eaee4e",
   "metadata": {},
   "outputs": [
    {
     "data": {
      "text/html": [
       "<div>\n",
       "<style scoped>\n",
       "    .dataframe tbody tr th:only-of-type {\n",
       "        vertical-align: middle;\n",
       "    }\n",
       "\n",
       "    .dataframe tbody tr th {\n",
       "        vertical-align: top;\n",
       "    }\n",
       "\n",
       "    .dataframe thead th {\n",
       "        text-align: right;\n",
       "    }\n",
       "</style>\n",
       "<table border=\"1\" class=\"dataframe\">\n",
       "  <thead>\n",
       "    <tr style=\"text-align: right;\">\n",
       "      <th></th>\n",
       "      <th>A</th>\n",
       "      <th>B</th>\n",
       "      <th>C</th>\n",
       "      <th>D</th>\n",
       "    </tr>\n",
       "  </thead>\n",
       "  <tbody>\n",
       "    <tr>\n",
       "      <th>b</th>\n",
       "      <td>14</td>\n",
       "      <td>15</td>\n",
       "      <td>16</td>\n",
       "      <td>17</td>\n",
       "    </tr>\n",
       "    <tr>\n",
       "      <th>c</th>\n",
       "      <td>18</td>\n",
       "      <td>19</td>\n",
       "      <td>20</td>\n",
       "      <td>21</td>\n",
       "    </tr>\n",
       "  </tbody>\n",
       "</table>\n",
       "</div>"
      ],
      "text/plain": [
       "    A   B   C   D\n",
       "b  14  15  16  17\n",
       "c  18  19  20  21"
      ]
     },
     "execution_count": 72,
     "metadata": {},
     "output_type": "execute_result"
    }
   ],
   "source": [
    "df.loc['b':'c']"
   ]
  },
  {
   "cell_type": "code",
   "execution_count": 74,
   "id": "beeb2fc4-9392-48ff-84d1-4f41e8597f63",
   "metadata": {},
   "outputs": [
    {
     "data": {
      "text/html": [
       "<div>\n",
       "<style scoped>\n",
       "    .dataframe tbody tr th:only-of-type {\n",
       "        vertical-align: middle;\n",
       "    }\n",
       "\n",
       "    .dataframe tbody tr th {\n",
       "        vertical-align: top;\n",
       "    }\n",
       "\n",
       "    .dataframe thead th {\n",
       "        text-align: right;\n",
       "    }\n",
       "</style>\n",
       "<table border=\"1\" class=\"dataframe\">\n",
       "  <thead>\n",
       "    <tr style=\"text-align: right;\">\n",
       "      <th></th>\n",
       "      <th>A</th>\n",
       "      <th>B</th>\n",
       "      <th>C</th>\n",
       "      <th>D</th>\n",
       "    </tr>\n",
       "  </thead>\n",
       "  <tbody>\n",
       "    <tr>\n",
       "      <th>b</th>\n",
       "      <td>14</td>\n",
       "      <td>15</td>\n",
       "      <td>16</td>\n",
       "      <td>17</td>\n",
       "    </tr>\n",
       "    <tr>\n",
       "      <th>c</th>\n",
       "      <td>18</td>\n",
       "      <td>19</td>\n",
       "      <td>20</td>\n",
       "      <td>21</td>\n",
       "    </tr>\n",
       "  </tbody>\n",
       "</table>\n",
       "</div>"
      ],
      "text/plain": [
       "    A   B   C   D\n",
       "b  14  15  16  17\n",
       "c  18  19  20  21"
      ]
     },
     "execution_count": 74,
     "metadata": {},
     "output_type": "execute_result"
    }
   ],
   "source": [
    "df['b':'c']"
   ]
  },
  {
   "cell_type": "code",
   "execution_count": 76,
   "id": "7df23552-a485-4d8b-9bab-6026be74fee3",
   "metadata": {},
   "outputs": [
    {
     "data": {
      "text/plain": [
       "a    False\n",
       "b    False\n",
       "c     True\n",
       "Name: A, dtype: bool"
      ]
     },
     "execution_count": 76,
     "metadata": {},
     "output_type": "execute_result"
    }
   ],
   "source": [
    "df.A >15"
   ]
  },
  {
   "cell_type": "code",
   "execution_count": 79,
   "id": "44020b98-4a15-41c0-aee0-b51c3ddb17b7",
   "metadata": {},
   "outputs": [
    {
     "data": {
      "text/plain": [
       "a    False\n",
       "b     True\n",
       "c     True\n",
       "Name: A, dtype: bool"
      ]
     },
     "execution_count": 79,
     "metadata": {},
     "output_type": "execute_result"
    }
   ],
   "source": [
    "\"\"\"\n",
    "고급 인덱싱, loc 인덱서\n",
    "callable한 함수를 만들어서 인덱싱하는데 사용할 수 있다.\n",
    "다음 함수는 A열의 값이 10보다 큰 row만 선택한다.\n",
    "\"\"\"\n",
    "\n",
    "def select_rows(df, num):\n",
    "    return df.A>num\n",
    "\n",
    "select_rows(df, 10) #A열 요소들이 10보다 큰지 확인"
   ]
  },
  {
   "cell_type": "code",
   "execution_count": 81,
   "id": "1a4bea1c-5a41-47d6-9772-51eaaae251de",
   "metadata": {},
   "outputs": [
    {
     "data": {
      "text/html": [
       "<div>\n",
       "<style scoped>\n",
       "    .dataframe tbody tr th:only-of-type {\n",
       "        vertical-align: middle;\n",
       "    }\n",
       "\n",
       "    .dataframe tbody tr th {\n",
       "        vertical-align: top;\n",
       "    }\n",
       "\n",
       "    .dataframe thead th {\n",
       "        text-align: right;\n",
       "    }\n",
       "</style>\n",
       "<table border=\"1\" class=\"dataframe\">\n",
       "  <thead>\n",
       "    <tr style=\"text-align: right;\">\n",
       "      <th></th>\n",
       "      <th>A</th>\n",
       "      <th>B</th>\n",
       "      <th>C</th>\n",
       "      <th>D</th>\n",
       "    </tr>\n",
       "  </thead>\n",
       "  <tbody>\n",
       "    <tr>\n",
       "      <th>b</th>\n",
       "      <td>14</td>\n",
       "      <td>15</td>\n",
       "      <td>16</td>\n",
       "      <td>17</td>\n",
       "    </tr>\n",
       "    <tr>\n",
       "      <th>c</th>\n",
       "      <td>18</td>\n",
       "      <td>19</td>\n",
       "      <td>20</td>\n",
       "      <td>21</td>\n",
       "    </tr>\n",
       "  </tbody>\n",
       "</table>\n",
       "</div>"
      ],
      "text/plain": [
       "    A   B   C   D\n",
       "b  14  15  16  17\n",
       "c  18  19  20  21"
      ]
     },
     "execution_count": 81,
     "metadata": {},
     "output_type": "execute_result"
    }
   ],
   "source": [
    "df.loc[select_rows(df, 10)]\n",
    "\n",
    "#def select_rows 함수에서 True 값을 갖는 열을 출력"
   ]
  },
  {
   "cell_type": "code",
   "execution_count": 83,
   "id": "21152683-8599-4426-a7f6-e9213dd7dcd3",
   "metadata": {},
   "outputs": [
    {
     "data": {
      "text/html": [
       "<div>\n",
       "<style scoped>\n",
       "    .dataframe tbody tr th:only-of-type {\n",
       "        vertical-align: middle;\n",
       "    }\n",
       "\n",
       "    .dataframe tbody tr th {\n",
       "        vertical-align: top;\n",
       "    }\n",
       "\n",
       "    .dataframe thead th {\n",
       "        text-align: right;\n",
       "    }\n",
       "</style>\n",
       "<table border=\"1\" class=\"dataframe\">\n",
       "  <thead>\n",
       "    <tr style=\"text-align: right;\">\n",
       "      <th></th>\n",
       "      <th>A</th>\n",
       "      <th>B</th>\n",
       "      <th>C</th>\n",
       "      <th>D</th>\n",
       "    </tr>\n",
       "  </thead>\n",
       "  <tbody>\n",
       "    <tr>\n",
       "      <th>a</th>\n",
       "      <td>10</td>\n",
       "      <td>11</td>\n",
       "      <td>12</td>\n",
       "      <td>13</td>\n",
       "    </tr>\n",
       "    <tr>\n",
       "      <th>b</th>\n",
       "      <td>14</td>\n",
       "      <td>15</td>\n",
       "      <td>16</td>\n",
       "      <td>17</td>\n",
       "    </tr>\n",
       "  </tbody>\n",
       "</table>\n",
       "</div>"
      ],
      "text/plain": [
       "    A   B   C   D\n",
       "a  10  11  12  13\n",
       "b  14  15  16  17"
      ]
     },
     "execution_count": 83,
     "metadata": {},
     "output_type": "execute_result"
    }
   ],
   "source": [
    "df.loc['a':'b']"
   ]
  },
  {
   "cell_type": "code",
   "execution_count": 85,
   "id": "3a0b83c7-c4b3-4e26-8dd4-64a3135d5079",
   "metadata": {},
   "outputs": [
    {
     "data": {
      "text/html": [
       "<div>\n",
       "<style scoped>\n",
       "    .dataframe tbody tr th:only-of-type {\n",
       "        vertical-align: middle;\n",
       "    }\n",
       "\n",
       "    .dataframe tbody tr th {\n",
       "        vertical-align: top;\n",
       "    }\n",
       "\n",
       "    .dataframe thead th {\n",
       "        text-align: right;\n",
       "    }\n",
       "</style>\n",
       "<table border=\"1\" class=\"dataframe\">\n",
       "  <thead>\n",
       "    <tr style=\"text-align: right;\">\n",
       "      <th></th>\n",
       "      <th>A</th>\n",
       "      <th>B</th>\n",
       "      <th>C</th>\n",
       "      <th>D</th>\n",
       "    </tr>\n",
       "  </thead>\n",
       "  <tbody>\n",
       "    <tr>\n",
       "      <th>0</th>\n",
       "      <td>10</td>\n",
       "      <td>11</td>\n",
       "      <td>12</td>\n",
       "      <td>13</td>\n",
       "    </tr>\n",
       "    <tr>\n",
       "      <th>1</th>\n",
       "      <td>14</td>\n",
       "      <td>15</td>\n",
       "      <td>16</td>\n",
       "      <td>17</td>\n",
       "    </tr>\n",
       "    <tr>\n",
       "      <th>2</th>\n",
       "      <td>18</td>\n",
       "      <td>19</td>\n",
       "      <td>20</td>\n",
       "      <td>21</td>\n",
       "    </tr>\n",
       "    <tr>\n",
       "      <th>3</th>\n",
       "      <td>22</td>\n",
       "      <td>23</td>\n",
       "      <td>24</td>\n",
       "      <td>25</td>\n",
       "    </tr>\n",
       "  </tbody>\n",
       "</table>\n",
       "</div>"
      ],
      "text/plain": [
       "    A   B   C   D\n",
       "0  10  11  12  13\n",
       "1  14  15  16  17\n",
       "2  18  19  20  21\n",
       "3  22  23  24  25"
      ]
     },
     "execution_count": 85,
     "metadata": {},
     "output_type": "execute_result"
    }
   ],
   "source": [
    "df2 = pd.DataFrame(np.arange(10, 26).reshape(4,4),\n",
    "                   columns=list('ABCD'))\n",
    "df2"
   ]
  },
  {
   "cell_type": "code",
   "execution_count": 86,
   "id": "aaf3cb86-d2af-405b-878b-ecd27fe89d6c",
   "metadata": {},
   "outputs": [
    {
     "data": {
      "text/plain": [
       "10"
      ]
     },
     "execution_count": 86,
     "metadata": {},
     "output_type": "execute_result"
    }
   ],
   "source": [
    "df.loc['a','A'] #행, 열"
   ]
  },
  {
   "cell_type": "code",
   "execution_count": 88,
   "id": "5da12124-37f3-4621-82f0-8d33f27b38cd",
   "metadata": {},
   "outputs": [
    {
     "data": {
      "text/plain": [
       "10"
      ]
     },
     "execution_count": 88,
     "metadata": {},
     "output_type": "execute_result"
    }
   ],
   "source": [
    "df.at['a', 'A'] #속도가 더 빨라용"
   ]
  },
  {
   "cell_type": "code",
   "execution_count": 89,
   "id": "5c90f37e-225d-4cc7-b585-0ff6b810c52a",
   "metadata": {},
   "outputs": [
    {
     "data": {
      "text/plain": [
       "b    14\n",
       "c    18\n",
       "Name: A, dtype: int32"
      ]
     },
     "execution_count": 89,
     "metadata": {},
     "output_type": "execute_result"
    }
   ],
   "source": [
    "df.loc['b':, 'A']"
   ]
  },
  {
   "cell_type": "code",
   "execution_count": 96,
   "id": "39cf0161-6be2-4ab7-9b12-b16b44b271a0",
   "metadata": {},
   "outputs": [
    {
     "data": {
      "text/plain": [
       "A    10\n",
       "B    11\n",
       "C    12\n",
       "D    13\n",
       "Name: a, dtype: int32"
      ]
     },
     "execution_count": 96,
     "metadata": {},
     "output_type": "execute_result"
    }
   ],
   "source": [
    "df.loc['a', : ]"
   ]
  },
  {
   "cell_type": "code",
   "execution_count": 91,
   "id": "247698f1-4d99-4576-ac25-888a5ca2dd38",
   "metadata": {},
   "outputs": [
    {
     "data": {
      "text/html": [
       "<div>\n",
       "<style scoped>\n",
       "    .dataframe tbody tr th:only-of-type {\n",
       "        vertical-align: middle;\n",
       "    }\n",
       "\n",
       "    .dataframe tbody tr th {\n",
       "        vertical-align: top;\n",
       "    }\n",
       "\n",
       "    .dataframe thead th {\n",
       "        text-align: right;\n",
       "    }\n",
       "</style>\n",
       "<table border=\"1\" class=\"dataframe\">\n",
       "  <thead>\n",
       "    <tr style=\"text-align: right;\">\n",
       "      <th></th>\n",
       "      <th>B</th>\n",
       "      <th>D</th>\n",
       "    </tr>\n",
       "  </thead>\n",
       "  <tbody>\n",
       "    <tr>\n",
       "      <th>a</th>\n",
       "      <td>11</td>\n",
       "      <td>13</td>\n",
       "    </tr>\n",
       "    <tr>\n",
       "      <th>b</th>\n",
       "      <td>15</td>\n",
       "      <td>17</td>\n",
       "    </tr>\n",
       "  </tbody>\n",
       "</table>\n",
       "</div>"
      ],
      "text/plain": [
       "    B   D\n",
       "a  11  13\n",
       "b  15  17"
      ]
     },
     "execution_count": 91,
     "metadata": {},
     "output_type": "execute_result"
    }
   ],
   "source": [
    "df.loc[['a','b'],['B','D']]"
   ]
  },
  {
   "cell_type": "code",
   "execution_count": 94,
   "id": "d069cf5b-340f-4e5a-b62b-d20d0ce4152a",
   "metadata": {},
   "outputs": [
    {
     "data": {
      "text/html": [
       "<div>\n",
       "<style scoped>\n",
       "    .dataframe tbody tr th:only-of-type {\n",
       "        vertical-align: middle;\n",
       "    }\n",
       "\n",
       "    .dataframe tbody tr th {\n",
       "        vertical-align: top;\n",
       "    }\n",
       "\n",
       "    .dataframe thead th {\n",
       "        text-align: right;\n",
       "    }\n",
       "</style>\n",
       "<table border=\"1\" class=\"dataframe\">\n",
       "  <thead>\n",
       "    <tr style=\"text-align: right;\">\n",
       "      <th></th>\n",
       "      <th>A</th>\n",
       "      <th>B</th>\n",
       "      <th>C</th>\n",
       "      <th>D</th>\n",
       "    </tr>\n",
       "  </thead>\n",
       "  <tbody>\n",
       "    <tr>\n",
       "      <th>a</th>\n",
       "      <td>10</td>\n",
       "      <td>11</td>\n",
       "      <td>12</td>\n",
       "      <td>13</td>\n",
       "    </tr>\n",
       "    <tr>\n",
       "      <th>c</th>\n",
       "      <td>18</td>\n",
       "      <td>19</td>\n",
       "      <td>20</td>\n",
       "      <td>21</td>\n",
       "    </tr>\n",
       "  </tbody>\n",
       "</table>\n",
       "</div>"
      ],
      "text/plain": [
       "    A   B   C   D\n",
       "a  10  11  12  13\n",
       "c  18  19  20  21"
      ]
     },
     "execution_count": 94,
     "metadata": {},
     "output_type": "execute_result"
    }
   ],
   "source": [
    "df.loc[['a','c'], ]"
   ]
  },
  {
   "cell_type": "code",
   "execution_count": 98,
   "id": "0475e706-065c-45e6-bd86-4709b18e90a4",
   "metadata": {},
   "outputs": [
    {
     "data": {
      "text/html": [
       "<div>\n",
       "<style scoped>\n",
       "    .dataframe tbody tr th:only-of-type {\n",
       "        vertical-align: middle;\n",
       "    }\n",
       "\n",
       "    .dataframe tbody tr th {\n",
       "        vertical-align: top;\n",
       "    }\n",
       "\n",
       "    .dataframe thead th {\n",
       "        text-align: right;\n",
       "    }\n",
       "</style>\n",
       "<table border=\"1\" class=\"dataframe\">\n",
       "  <thead>\n",
       "    <tr style=\"text-align: right;\">\n",
       "      <th></th>\n",
       "      <th>A</th>\n",
       "      <th>B</th>\n",
       "      <th>C</th>\n",
       "      <th>D</th>\n",
       "    </tr>\n",
       "  </thead>\n",
       "  <tbody>\n",
       "    <tr>\n",
       "      <th>a</th>\n",
       "      <td>10</td>\n",
       "      <td>11</td>\n",
       "      <td>12</td>\n",
       "      <td>13</td>\n",
       "    </tr>\n",
       "    <tr>\n",
       "      <th>b</th>\n",
       "      <td>14</td>\n",
       "      <td>15</td>\n",
       "      <td>16</td>\n",
       "      <td>17</td>\n",
       "    </tr>\n",
       "    <tr>\n",
       "      <th>c</th>\n",
       "      <td>18</td>\n",
       "      <td>19</td>\n",
       "      <td>20</td>\n",
       "      <td>21</td>\n",
       "    </tr>\n",
       "  </tbody>\n",
       "</table>\n",
       "</div>"
      ],
      "text/plain": [
       "    A   B   C   D\n",
       "a  10  11  12  13\n",
       "b  14  15  16  17\n",
       "c  18  19  20  21"
      ]
     },
     "execution_count": 98,
     "metadata": {},
     "output_type": "execute_result"
    }
   ],
   "source": [
    "df"
   ]
  },
  {
   "cell_type": "code",
   "execution_count": 101,
   "id": "09984d20-4ee9-4874-a8a0-8b1338c6df09",
   "metadata": {},
   "outputs": [
    {
     "name": "stdout",
     "output_type": "stream",
     "text": [
      "11\n",
      "\n",
      "\n",
      "a    12\n",
      "b    16\n",
      "Name: C, dtype: int32\n",
      "\n",
      "\n",
      "C    12\n",
      "D    13\n",
      "Name: a, dtype: int32\n",
      "\n",
      "\n"
     ]
    },
    {
     "data": {
      "text/html": [
       "<div>\n",
       "<style scoped>\n",
       "    .dataframe tbody tr th:only-of-type {\n",
       "        vertical-align: middle;\n",
       "    }\n",
       "\n",
       "    .dataframe tbody tr th {\n",
       "        vertical-align: top;\n",
       "    }\n",
       "\n",
       "    .dataframe thead th {\n",
       "        text-align: right;\n",
       "    }\n",
       "</style>\n",
       "<table border=\"1\" class=\"dataframe\">\n",
       "  <thead>\n",
       "    <tr style=\"text-align: right;\">\n",
       "      <th></th>\n",
       "      <th>B</th>\n",
       "      <th>C</th>\n",
       "    </tr>\n",
       "  </thead>\n",
       "  <tbody>\n",
       "    <tr>\n",
       "      <th>c</th>\n",
       "      <td>19</td>\n",
       "      <td>20</td>\n",
       "    </tr>\n",
       "  </tbody>\n",
       "</table>\n",
       "</div>"
      ],
      "text/plain": [
       "    B   C\n",
       "c  19  20"
      ]
     },
     "execution_count": 101,
     "metadata": {},
     "output_type": "execute_result"
    }
   ],
   "source": [
    "print(df.iloc[0,1])\n",
    "print('\\n')\n",
    "print(df.iloc[:2, 2])\n",
    "print('\\n')\n",
    "print(df.iloc[0, -2:])\n",
    "print('\\n')\n",
    "df.iloc[2:3, 1:3]"
   ]
  },
  {
   "cell_type": "code",
   "execution_count": 102,
   "id": "11379d3c-5ee9-45fa-b280-7e40ebb8b82a",
   "metadata": {},
   "outputs": [
    {
     "data": {
      "text/html": [
       "<div>\n",
       "<style scoped>\n",
       "    .dataframe tbody tr th:only-of-type {\n",
       "        vertical-align: middle;\n",
       "    }\n",
       "\n",
       "    .dataframe tbody tr th {\n",
       "        vertical-align: top;\n",
       "    }\n",
       "\n",
       "    .dataframe thead th {\n",
       "        text-align: right;\n",
       "    }\n",
       "</style>\n",
       "<table border=\"1\" class=\"dataframe\">\n",
       "  <thead>\n",
       "    <tr style=\"text-align: right;\">\n",
       "      <th></th>\n",
       "      <th>survived</th>\n",
       "      <th>pclass</th>\n",
       "      <th>sex</th>\n",
       "      <th>age</th>\n",
       "      <th>sibsp</th>\n",
       "      <th>parch</th>\n",
       "      <th>fare</th>\n",
       "      <th>embarked</th>\n",
       "      <th>class</th>\n",
       "      <th>who</th>\n",
       "      <th>adult_male</th>\n",
       "      <th>deck</th>\n",
       "      <th>embark_town</th>\n",
       "      <th>alive</th>\n",
       "      <th>alone</th>\n",
       "    </tr>\n",
       "  </thead>\n",
       "  <tbody>\n",
       "    <tr>\n",
       "      <th>0</th>\n",
       "      <td>0</td>\n",
       "      <td>3</td>\n",
       "      <td>male</td>\n",
       "      <td>22.0</td>\n",
       "      <td>1</td>\n",
       "      <td>0</td>\n",
       "      <td>7.2500</td>\n",
       "      <td>S</td>\n",
       "      <td>Third</td>\n",
       "      <td>man</td>\n",
       "      <td>True</td>\n",
       "      <td>NaN</td>\n",
       "      <td>Southampton</td>\n",
       "      <td>no</td>\n",
       "      <td>False</td>\n",
       "    </tr>\n",
       "    <tr>\n",
       "      <th>1</th>\n",
       "      <td>1</td>\n",
       "      <td>1</td>\n",
       "      <td>female</td>\n",
       "      <td>38.0</td>\n",
       "      <td>1</td>\n",
       "      <td>0</td>\n",
       "      <td>71.2833</td>\n",
       "      <td>C</td>\n",
       "      <td>First</td>\n",
       "      <td>woman</td>\n",
       "      <td>False</td>\n",
       "      <td>C</td>\n",
       "      <td>Cherbourg</td>\n",
       "      <td>yes</td>\n",
       "      <td>False</td>\n",
       "    </tr>\n",
       "    <tr>\n",
       "      <th>2</th>\n",
       "      <td>1</td>\n",
       "      <td>3</td>\n",
       "      <td>female</td>\n",
       "      <td>26.0</td>\n",
       "      <td>0</td>\n",
       "      <td>0</td>\n",
       "      <td>7.9250</td>\n",
       "      <td>S</td>\n",
       "      <td>Third</td>\n",
       "      <td>woman</td>\n",
       "      <td>False</td>\n",
       "      <td>NaN</td>\n",
       "      <td>Southampton</td>\n",
       "      <td>yes</td>\n",
       "      <td>True</td>\n",
       "    </tr>\n",
       "    <tr>\n",
       "      <th>3</th>\n",
       "      <td>1</td>\n",
       "      <td>1</td>\n",
       "      <td>female</td>\n",
       "      <td>35.0</td>\n",
       "      <td>1</td>\n",
       "      <td>0</td>\n",
       "      <td>53.1000</td>\n",
       "      <td>S</td>\n",
       "      <td>First</td>\n",
       "      <td>woman</td>\n",
       "      <td>False</td>\n",
       "      <td>C</td>\n",
       "      <td>Southampton</td>\n",
       "      <td>yes</td>\n",
       "      <td>False</td>\n",
       "    </tr>\n",
       "    <tr>\n",
       "      <th>4</th>\n",
       "      <td>0</td>\n",
       "      <td>3</td>\n",
       "      <td>male</td>\n",
       "      <td>35.0</td>\n",
       "      <td>0</td>\n",
       "      <td>0</td>\n",
       "      <td>8.0500</td>\n",
       "      <td>S</td>\n",
       "      <td>Third</td>\n",
       "      <td>man</td>\n",
       "      <td>True</td>\n",
       "      <td>NaN</td>\n",
       "      <td>Southampton</td>\n",
       "      <td>no</td>\n",
       "      <td>True</td>\n",
       "    </tr>\n",
       "    <tr>\n",
       "      <th>...</th>\n",
       "      <td>...</td>\n",
       "      <td>...</td>\n",
       "      <td>...</td>\n",
       "      <td>...</td>\n",
       "      <td>...</td>\n",
       "      <td>...</td>\n",
       "      <td>...</td>\n",
       "      <td>...</td>\n",
       "      <td>...</td>\n",
       "      <td>...</td>\n",
       "      <td>...</td>\n",
       "      <td>...</td>\n",
       "      <td>...</td>\n",
       "      <td>...</td>\n",
       "      <td>...</td>\n",
       "    </tr>\n",
       "    <tr>\n",
       "      <th>886</th>\n",
       "      <td>0</td>\n",
       "      <td>2</td>\n",
       "      <td>male</td>\n",
       "      <td>27.0</td>\n",
       "      <td>0</td>\n",
       "      <td>0</td>\n",
       "      <td>13.0000</td>\n",
       "      <td>S</td>\n",
       "      <td>Second</td>\n",
       "      <td>man</td>\n",
       "      <td>True</td>\n",
       "      <td>NaN</td>\n",
       "      <td>Southampton</td>\n",
       "      <td>no</td>\n",
       "      <td>True</td>\n",
       "    </tr>\n",
       "    <tr>\n",
       "      <th>887</th>\n",
       "      <td>1</td>\n",
       "      <td>1</td>\n",
       "      <td>female</td>\n",
       "      <td>19.0</td>\n",
       "      <td>0</td>\n",
       "      <td>0</td>\n",
       "      <td>30.0000</td>\n",
       "      <td>S</td>\n",
       "      <td>First</td>\n",
       "      <td>woman</td>\n",
       "      <td>False</td>\n",
       "      <td>B</td>\n",
       "      <td>Southampton</td>\n",
       "      <td>yes</td>\n",
       "      <td>True</td>\n",
       "    </tr>\n",
       "    <tr>\n",
       "      <th>888</th>\n",
       "      <td>0</td>\n",
       "      <td>3</td>\n",
       "      <td>female</td>\n",
       "      <td>NaN</td>\n",
       "      <td>1</td>\n",
       "      <td>2</td>\n",
       "      <td>23.4500</td>\n",
       "      <td>S</td>\n",
       "      <td>Third</td>\n",
       "      <td>woman</td>\n",
       "      <td>False</td>\n",
       "      <td>NaN</td>\n",
       "      <td>Southampton</td>\n",
       "      <td>no</td>\n",
       "      <td>False</td>\n",
       "    </tr>\n",
       "    <tr>\n",
       "      <th>889</th>\n",
       "      <td>1</td>\n",
       "      <td>1</td>\n",
       "      <td>male</td>\n",
       "      <td>26.0</td>\n",
       "      <td>0</td>\n",
       "      <td>0</td>\n",
       "      <td>30.0000</td>\n",
       "      <td>C</td>\n",
       "      <td>First</td>\n",
       "      <td>man</td>\n",
       "      <td>True</td>\n",
       "      <td>C</td>\n",
       "      <td>Cherbourg</td>\n",
       "      <td>yes</td>\n",
       "      <td>True</td>\n",
       "    </tr>\n",
       "    <tr>\n",
       "      <th>890</th>\n",
       "      <td>0</td>\n",
       "      <td>3</td>\n",
       "      <td>male</td>\n",
       "      <td>32.0</td>\n",
       "      <td>0</td>\n",
       "      <td>0</td>\n",
       "      <td>7.7500</td>\n",
       "      <td>Q</td>\n",
       "      <td>Third</td>\n",
       "      <td>man</td>\n",
       "      <td>True</td>\n",
       "      <td>NaN</td>\n",
       "      <td>Queenstown</td>\n",
       "      <td>no</td>\n",
       "      <td>True</td>\n",
       "    </tr>\n",
       "  </tbody>\n",
       "</table>\n",
       "<p>891 rows × 15 columns</p>\n",
       "</div>"
      ],
      "text/plain": [
       "     survived  pclass     sex   age  sibsp  parch     fare embarked   class  \\\n",
       "0           0       3    male  22.0      1      0   7.2500        S   Third   \n",
       "1           1       1  female  38.0      1      0  71.2833        C   First   \n",
       "2           1       3  female  26.0      0      0   7.9250        S   Third   \n",
       "3           1       1  female  35.0      1      0  53.1000        S   First   \n",
       "4           0       3    male  35.0      0      0   8.0500        S   Third   \n",
       "..        ...     ...     ...   ...    ...    ...      ...      ...     ...   \n",
       "886         0       2    male  27.0      0      0  13.0000        S  Second   \n",
       "887         1       1  female  19.0      0      0  30.0000        S   First   \n",
       "888         0       3  female   NaN      1      2  23.4500        S   Third   \n",
       "889         1       1    male  26.0      0      0  30.0000        C   First   \n",
       "890         0       3    male  32.0      0      0   7.7500        Q   Third   \n",
       "\n",
       "       who  adult_male deck  embark_town alive  alone  \n",
       "0      man        True  NaN  Southampton    no  False  \n",
       "1    woman       False    C    Cherbourg   yes  False  \n",
       "2    woman       False  NaN  Southampton   yes   True  \n",
       "3    woman       False    C  Southampton   yes  False  \n",
       "4      man        True  NaN  Southampton    no   True  \n",
       "..     ...         ...  ...          ...   ...    ...  \n",
       "886    man        True  NaN  Southampton    no   True  \n",
       "887  woman       False    B  Southampton   yes   True  \n",
       "888  woman       False  NaN  Southampton    no  False  \n",
       "889    man        True    C    Cherbourg   yes   True  \n",
       "890    man        True  NaN   Queenstown    no   True  \n",
       "\n",
       "[891 rows x 15 columns]"
      ]
     },
     "execution_count": 102,
     "metadata": {},
     "output_type": "execute_result"
    }
   ],
   "source": [
    "titanic"
   ]
  },
  {
   "cell_type": "code",
   "execution_count": 112,
   "id": "ddfa4e0f-4565-409b-abfb-9dcd7e581712",
   "metadata": {},
   "outputs": [
    {
     "data": {
      "text/plain": [
       "29.7"
      ]
     },
     "execution_count": 112,
     "metadata": {},
     "output_type": "execute_result"
    }
   ],
   "source": [
    "round( titanic['age'].mean(), 1 )"
   ]
  },
  {
   "cell_type": "code",
   "execution_count": 145,
   "id": "487eb607-b360-441d-8482-e1a05cb6fba2",
   "metadata": {},
   "outputs": [
    {
     "data": {
      "text/plain": [
       "0      22.0\n",
       "1      38.0\n",
       "2      26.0\n",
       "3      35.0\n",
       "4      35.0\n",
       "       ... \n",
       "886    27.0\n",
       "887    19.0\n",
       "888     NaN\n",
       "889    26.0\n",
       "890    32.0\n",
       "Name: age, Length: 891, dtype: float64"
      ]
     },
     "execution_count": 145,
     "metadata": {},
     "output_type": "execute_result"
    }
   ],
   "source": [
    "titanic['sex']=='female'\n",
    "titanic['age']"
   ]
  },
  {
   "cell_type": "code",
   "execution_count": 156,
   "id": "56d6bf61-622d-4a20-9228-c8b1d05e57b6",
   "metadata": {},
   "outputs": [
    {
     "data": {
      "text/plain": [
       "27.9"
      ]
     },
     "execution_count": 156,
     "metadata": {},
     "output_type": "execute_result"
    }
   ],
   "source": [
    "#여자 중에서 나이 평균\n",
    "\n",
    "round( titanic[titanic['sex']=='female']['age'].mean(), 1)"
   ]
  },
  {
   "cell_type": "code",
   "execution_count": 157,
   "id": "6b0ddd0c-ed84-4936-b4a5-a841f1a48b8b",
   "metadata": {},
   "outputs": [
    {
     "data": {
      "text/plain": [
       "34.6"
      ]
     },
     "execution_count": 157,
     "metadata": {},
     "output_type": "execute_result"
    }
   ],
   "source": [
    "#1등실, 여성 승객의 평균 나이\n",
    "round( titanic[ (titanic['pclass']==1) & (titanic['sex']=='female')]['age'].mean(), 1)"
   ]
  },
  {
   "cell_type": "code",
   "execution_count": null,
   "id": "54b0536d-d297-41d6-b8c0-925c7dcd8083",
   "metadata": {},
   "outputs": [],
   "source": []
  }
 ],
 "metadata": {
  "kernelspec": {
   "display_name": "Python 3 (ipykernel)",
   "language": "python",
   "name": "python3"
  },
  "language_info": {
   "codemirror_mode": {
    "name": "ipython",
    "version": 3
   },
   "file_extension": ".py",
   "mimetype": "text/x-python",
   "name": "python",
   "nbconvert_exporter": "python",
   "pygments_lexer": "ipython3",
   "version": "3.9.13"
  },
  "widgets": {
   "application/vnd.jupyter.widget-state+json": {
    "state": {},
    "version_major": 2,
    "version_minor": 0
   }
  }
 },
 "nbformat": 4,
 "nbformat_minor": 5
}
