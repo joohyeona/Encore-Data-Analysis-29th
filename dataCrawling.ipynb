{
 "cells": [
  {
   "cell_type": "code",
   "execution_count": 7,
   "id": "6e93f874-fd86-40a6-ac4e-b5f85f6f6505",
   "metadata": {},
   "outputs": [
    {
     "name": "stdout",
     "output_type": "stream",
     "text": [
      "200\n"
     ]
    }
   ],
   "source": [
    "import requests\n",
    "           #요청 시 get method 사용\n",
    "response = requests.get ('https://api.github.com/repositories', #서버 주소로 요청\n",
    "                         headers = {'Accept': 'application/vnd.github.v3+json'})\n",
    "print(response.status_code)"
   ]
  },
  {
   "cell_type": "code",
   "execution_count": 8,
   "id": "0f7f0c2a-018f-4b93-9da1-eb6f31d8356a",
   "metadata": {},
   "outputs": [
    {
     "ename": "SyntaxError",
     "evalue": "invalid syntax (1193849858.py, line 5)",
     "output_type": "error",
     "traceback": [
      "\u001b[1;36m  File \u001b[1;32m\"C:\\Users\\user\\AppData\\Local\\Temp\\ipykernel_12308\\1193849858.py\"\u001b[1;36m, line \u001b[1;32m5\u001b[0m\n\u001b[1;33m    https://httpstatuses.com/200\u001b[0m\n\u001b[1;37m          ^\u001b[0m\n\u001b[1;31mSyntaxError\u001b[0m\u001b[1;31m:\u001b[0m invalid syntax\n"
     ]
    }
   ],
   "source": [
    "#http response status codes : 200이면 OK\n",
    "# 384: Not modified\n",
    "# 422: Validation failed, or the~\n",
    "\n",
    "https://httpstatuses.com/200\n",
    "서버가 보내는 답변: 200\n",
    "표준으로 잡혀있음."
   ]
  },
  {
   "cell_type": "code",
   "execution_count": 12,
   "id": "baf968d1-a878-401d-8d6d-3a27ac76a6b7",
   "metadata": {},
   "outputs": [
    {
     "name": "stdout",
     "output_type": "stream",
     "text": [
      "인코딩: utf-8\n",
      "콘텐츠 타입: application/json; charset=utf-8\n",
      "서버: GitHub.com\n"
     ]
    }
   ],
   "source": [
    "#response에 대한 요소 확인\n",
    "print(f'인코딩: {response.encoding}')\n",
    "print(f'콘텐츠 타입: {response.headers[\"Content-Type\"]}')\n",
    "print(f'서버: {response.headers[\"server\"]}')"
   ]
  },
  {
   "cell_type": "code",
   "execution_count": 15,
   "id": "a003b54e-e8c3-41d2-bdb0-a20c23cd84c8",
   "metadata": {},
   "outputs": [
    {
     "name": "stdout",
     "output_type": "stream",
     "text": [
      "{\n",
      "  \"id\": 1,\n",
      "  \"node_id\": \"MDEwOlJlcG9zaXRvcnkx\",\n",
      "  \"name\": \"grit\",\n",
      "  \"full_name\": \"mojombo/grit\",\n",
      "  \"private\": false,\n",
      "  \"owner\": {\n",
      "    \"login\": \"mojombo\",\n",
      "    \"id\": 1,\n",
      "    \"node_id\": \"MDQ6VXNlcjE=\",\n",
      "\n"
     ]
    }
   ],
   "source": [
    "import json as js\n",
    "print(js.dumps(response.json()[0], indent =2)[:200])"
   ]
  },
  {
   "cell_type": "code",
   "execution_count": 19,
   "id": "35784861-d018-40e8-845f-9bc52eb53e70",
   "metadata": {},
   "outputs": [
    {
     "name": "stdout",
     "output_type": "stream",
     "text": [
      "422\n"
     ]
    }
   ],
   "source": [
    "#요청 시 parameter 활용하기\n",
    "\n",
    "response = requests.get('https://api.github.com/search/repositories')\n",
    "print(response.status_code)"
   ]
  },
  {
   "cell_type": "code",
   "execution_count": 21,
   "id": "8a9377a9-f2ed-41c6-8ad9-9e9c660d40a4",
   "metadata": {},
   "outputs": [
    {
     "name": "stdout",
     "output_type": "stream",
     "text": [
      "200\n"
     ]
    }
   ],
   "source": [
    "#query parameter 추가\n",
    "response = requests.get('https://api.github.com/search/repositories',\n",
    "                        params = {'q': 'data_science+language:python'},  #query parameters 'q' 필수\n",
    "                        headers = {'Accept': 'application/vnd.github.v3.text-match+json'})\n",
    "print(response.status_code)"
   ]
  },
  {
   "cell_type": "code",
   "execution_count": 24,
   "id": "7f07c6db-735e-49ba-bd8a-630fa148580f",
   "metadata": {},
   "outputs": [
    {
     "ename": "ModuleNotFoundError",
     "evalue": "No module named 'js'",
     "output_type": "error",
     "traceback": [
      "\u001b[1;31m---------------------------------------------------------------------------\u001b[0m",
      "\u001b[1;31mModuleNotFoundError\u001b[0m                       Traceback (most recent call last)",
      "\u001b[1;32m~\\AppData\\Local\\Temp\\ipykernel_12308\\995266492.py\u001b[0m in \u001b[0;36m<module>\u001b[1;34m\u001b[0m\n\u001b[1;32m----> 1\u001b[1;33m \u001b[1;32mimport\u001b[0m \u001b[0mjs\u001b[0m\u001b[1;33m\u001b[0m\u001b[1;33m\u001b[0m\u001b[0m\n\u001b[0m\u001b[0;32m      2\u001b[0m \u001b[0mresponse\u001b[0m\u001b[1;33m.\u001b[0m\u001b[0mjson\u001b[0m\u001b[1;33m(\u001b[0m\u001b[1;33m)\u001b[0m\u001b[1;33m\u001b[0m\u001b[1;33m\u001b[0m\u001b[0m\n",
      "\u001b[1;31mModuleNotFoundError\u001b[0m: No module named 'js'"
     ]
    }
   ],
   "source": [
    "import js\n",
    "response.json()"
   ]
  },
  {
   "cell_type": "code",
   "execution_count": null,
   "id": "8ba66329-01e0-47d3-9b4d-25fa93f29071",
   "metadata": {},
   "outputs": [],
   "source": []
  },
  {
   "cell_type": "code",
   "execution_count": 25,
   "id": "d82331c5-52c2-4d1c-8aa7-8571323bf0ad",
   "metadata": {},
   "outputs": [
    {
     "data": {
      "text/plain": [
       "dict_keys(['total_count', 'incomplete_results', 'items'])"
      ]
     },
     "execution_count": 25,
     "metadata": {},
     "output_type": "execute_result"
    }
   ],
   "source": [
    "response.json().keys()\n"
   ]
  },
  {
   "cell_type": "code",
   "execution_count": 26,
   "id": "ebc7b0bd-0250-4a2d-88ef-618955a6eadf",
   "metadata": {},
   "outputs": [
    {
     "data": {
      "text/plain": [
       "30"
      ]
     },
     "execution_count": 26,
     "metadata": {},
     "output_type": "execute_result"
    }
   ],
   "source": [
    "len(response.json()['items'])"
   ]
  },
  {
   "cell_type": "code",
   "execution_count": 27,
   "id": "928131af-0d78-4481-9801-fc4ca2f1b256",
   "metadata": {},
   "outputs": [],
   "source": [
    "def get_all_pages(url, params=None, headers=None):\n",
    "    output_json = []\n",
    "    response = request.get(url, params=params, headers=headers)\n",
    "    if response.status_code ==200:\n",
    "        output_json = response.json()\n",
    "        if 'next' in response.links:\n",
    "            next_url = response.links['next']['url']\n",
    "            if next_url is not None:\n",
    "                output_json += get_all_pages(next_url, params, headers)\n",
    "    return output_json \n",
    "    \n",
    "    #나 자신을 부르는 함수 재귀함수"
   ]
  },
  {
   "cell_type": "code",
   "execution_count": 29,
   "id": "26b747d7-e85f-489e-ad04-e8d0ab5f982b",
   "metadata": {},
   "outputs": [
    {
     "name": "stdout",
     "output_type": "stream",
     "text": [
      "data-science-from-scratch\n",
      "PySyft\n",
      "data-science-blogs\n",
      "galaxy\n",
      "DataCamp\n"
     ]
    }
   ],
   "source": [
    "#네트워크 오류를 감안한 코드 작성\n",
    "# API 호출에는 여러가지 변수가 존재 : 연결중단, dns 조회실패, 연결시간 초과 등\n",
    "\n",
    "#호출 실패에 대한 재시도를 할 수 있도록 HTTPAdapter를 사용\n",
    "    #Retry 객체를 통해 초기화\n",
    "    #total은 재시도횟수 / #status_forcelist는 재시도할 상태 코드 목록 / backoff_factor는 각 시도마다 간격을 늘려주는 수치\n",
    "\n",
    "from requests.adapters import HTTPAdapter\n",
    "from requests.packages.urllib3.util.retry import Retry\n",
    "\n",
    "retry_strategy = Retry(\n",
    "    total=5,\n",
    "    status_forcelist=[500, 503, 504],\n",
    "    backoff_factor=1\n",
    ")\n",
    "\n",
    "retry_adapter = HTTPAdapter(max_retries=retry_strategy)\n",
    "\n",
    "http = requests.Session()\n",
    "http.mount(\"https://\", retry_adapter)\n",
    "http.mount(\"https://\", retry_adapter)\n",
    "\n",
    "response = http.get('https://api.github.com/search/repositories',\n",
    "                    params={'q': 'data_science+language:python'})\n",
    "\n",
    "for item in response.json()['items'][:5]:\n",
    "    print(item['name'])"
   ]
  },
  {
   "cell_type": "code",
   "execution_count": null,
   "id": "5a785cf6-af6c-43d3-9ca4-66734b47d37c",
   "metadata": {},
   "outputs": [],
   "source": [
    "ㅇㄷ"
   ]
  }
 ],
 "metadata": {
  "kernelspec": {
   "display_name": "Python 3 (ipykernel)",
   "language": "python",
   "name": "python3"
  },
  "language_info": {
   "codemirror_mode": {
    "name": "ipython",
    "version": 3
   },
   "file_extension": ".py",
   "mimetype": "text/x-python",
   "name": "python",
   "nbconvert_exporter": "python",
   "pygments_lexer": "ipython3",
   "version": "3.9.13"
  },
  "widgets": {
   "application/vnd.jupyter.widget-state+json": {
    "state": {},
    "version_major": 2,
    "version_minor": 0
   }
  }
 },
 "nbformat": 4,
 "nbformat_minor": 5
}
