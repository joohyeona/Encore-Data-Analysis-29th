{
 "cells": [
  {
   "cell_type": "code",
   "execution_count": 4,
   "id": "941579c4-cd41-42a2-91fa-0fd98edd464f",
   "metadata": {},
   "outputs": [],
   "source": [
    "import numpy as np"
   ]
  },
  {
   "cell_type": "code",
   "execution_count": 10,
   "id": "824b5eb6-c0bc-4b7b-a34f-5b9b2b47c55a",
   "metadata": {},
   "outputs": [
    {
     "name": "stdout",
     "output_type": "stream",
     "text": [
      "3.89\n"
     ]
    }
   ],
   "source": [
    "dice = [i for i in range(1,7)]\n",
    "diceResult = np.random.choice(dice, 100)\n",
    "dice_result = np.random.randint(1, 7, 100) #강사님 답안\n",
    "mean = diceResult.mean()\n",
    "print(mean)"
   ]
  },
  {
   "cell_type": "code",
   "execution_count": 15,
   "id": "34da66ad-fc7c-422a-a0a7-007160a064f5",
   "metadata": {},
   "outputs": [
    {
     "data": {
      "text/plain": [
       "array([[ 8, 10, 12],\n",
       "       [14, 16, 18]])"
      ]
     },
     "execution_count": 15,
     "metadata": {},
     "output_type": "execute_result"
    }
   ],
   "source": [
    "#array 더하기\n",
    "\n",
    "array1 = np.array([[1,2,3],\n",
    "           [4,5,6]])\n",
    "array2 = np.array([[7,8,9],\n",
    "           [10,11,12]])\n",
    "\n",
    "array1+array2"
   ]
  },
  {
   "cell_type": "code",
   "execution_count": 20,
   "id": "fd317455-7ecc-4dad-8fd7-6c19ac1694ae",
   "metadata": {},
   "outputs": [
    {
     "data": {
      "text/plain": [
       "array([ 3,  6,  9, 12, 15, 18, 21, 24, 27])"
      ]
     },
     "execution_count": 20,
     "metadata": {},
     "output_type": "execute_result"
    }
   ],
   "source": [
    "intArray = np.array( [_ for _ in range(1,10)])\n",
    "intArray*3"
   ]
  },
  {
   "cell_type": "code",
   "execution_count": 28,
   "id": "5423132f-1317-4036-a3d4-417d6c3d7dc4",
   "metadata": {},
   "outputs": [
    {
     "name": "stdout",
     "output_type": "stream",
     "text": [
      "[0. 0. 0. 0. 1. 0. 0. 0. 0. 0.]\n"
     ]
    }
   ],
   "source": [
    "zeroArray = np.zeros(10)\n",
    "zeroArray[4] = 1\n",
    "print(zeroArray)"
   ]
  },
  {
   "cell_type": "code",
   "execution_count": 35,
   "id": "551d8bab-d28d-433d-bae0-8a065d63d8d6",
   "metadata": {},
   "outputs": [
    {
     "data": {
      "text/plain": [
       "array([49, 48, 47, 46, 45, 44, 43, 42, 41, 40, 39, 38, 37, 36, 35, 34, 33,\n",
       "       32, 31, 30, 29, 28, 27, 26, 25, 24, 23, 22, 21, 20, 19, 18, 17, 16,\n",
       "       15, 14, 13, 12, 11, 10,  9,  8,  7,  6,  5,  4,  3,  2,  1,  0])"
      ]
     },
     "execution_count": 35,
     "metadata": {},
     "output_type": "execute_result"
    }
   ],
   "source": [
    "arrayRange=np.arange(50)\n",
    "\n",
    "#슬라이싱 해보라고 주신 문제\n",
    "arrayRange[::-1]"
   ]
  },
  {
   "cell_type": "code",
   "execution_count": 38,
   "id": "e0db6e08-95b6-4282-9d89-11e7b16aadee",
   "metadata": {},
   "outputs": [
    {
     "data": {
      "text/plain": [
       "array([1, 6])"
      ]
     },
     "execution_count": 38,
     "metadata": {},
     "output_type": "execute_result"
    }
   ],
   "source": [
    "np.arange(1,10,5)"
   ]
  },
  {
   "cell_type": "code",
   "execution_count": 59,
   "id": "2f56f38f-7505-4daf-8025-e4278e1352c2",
   "metadata": {},
   "outputs": [
    {
     "data": {
      "text/plain": [
       "array([[['', '', ''],\n",
       "        ['', '', ''],\n",
       "        ['', '', '']],\n",
       "\n",
       "       [['', '', ''],\n",
       "        ['', '', ''],\n",
       "        ['', '', '']],\n",
       "\n",
       "       [['', '', ''],\n",
       "        ['', '', ''],\n",
       "        ['', '', '']]], dtype='<U10')"
      ]
     },
     "execution_count": 59,
     "metadata": {},
     "output_type": "execute_result"
    }
   ],
   "source": [
    "array4 = np.array([[['','','']]*3]*3, dtype='<U10')\n",
    "array4\n",
    "\n",
    "# np.zeros((3, 3, 3), dtype = \"U10\")\n",
    "\n",
    "# a = np.array(['' for _ in range(27)], dtype='<U10')\n",
    "# a.reshape(3, 3, 3)\n",
    "\n",
    "# 동일한 결과\n",
    "\n",
    "np.full((3,3,3), '', dtype='U10')"
   ]
  },
  {
   "cell_type": "code",
   "execution_count": 61,
   "id": "9a62c7f8-1fb4-4078-b2e2-86cf4410034b",
   "metadata": {},
   "outputs": [
    {
     "data": {
      "text/plain": [
       "array([[['playdata', 'playdata', 'playdata'],\n",
       "        ['playdata', 'playdata', 'playdata'],\n",
       "        ['playdata', 'playdata', 'playdata']],\n",
       "\n",
       "       [['playdata', 'playdata', 'playdata'],\n",
       "        ['playdata', 'playdata', 'playdata'],\n",
       "        ['playdata', 'playdata', 'playdata']],\n",
       "\n",
       "       [['playdata', 'playdata', 'playdata'],\n",
       "        ['playdata', 'playdata', 'playdata'],\n",
       "        ['playdata', 'playdata', 'playdata']]], dtype='<U8')"
      ]
     },
     "execution_count": 61,
     "metadata": {},
     "output_type": "execute_result"
    }
   ],
   "source": [
    "np.full((3,3,3,), 'playdata', dtype='<U8') #=U8 해도 됨"
   ]
  },
  {
   "cell_type": "code",
   "execution_count": 65,
   "id": "ede57784-1e52-4642-b553-aa7b1d5de0e4",
   "metadata": {},
   "outputs": [
    {
     "data": {
      "text/plain": [
       "array([[[ 2,  4,  6,  8, 10],\n",
       "        [12, 14, 16, 18, 20]],\n",
       "\n",
       "       [[22, 24, 26, 28, 30],\n",
       "        [32, 34, 36, 38, 40]]])"
      ]
     },
     "execution_count": 65,
     "metadata": {},
     "output_type": "execute_result"
    }
   ],
   "source": [
    "#1부터 40까지 짝수를 갖는 1차원 ndarray 만들기\n",
    "#그 shape을 변경해서 (2, 2, 5)로 변경하기\n",
    "\n",
    "array5 = np.arange(2,41,2)\n",
    "array5.reshape(2,2,5)"
   ]
  },
  {
   "cell_type": "code",
   "execution_count": null,
   "id": "d6197a2b-4ad3-4d1b-a658-95fb972ed4f0",
   "metadata": {},
   "outputs": [],
   "source": []
  },
  {
   "cell_type": "code",
   "execution_count": 68,
   "id": "30aed66f-c421-4e8a-b489-ed1d5562ec66",
   "metadata": {},
   "outputs": [
    {
     "data": {
      "text/plain": [
       "array([[1., 0., 0., 0.],\n",
       "       [0., 1., 0., 0.],\n",
       "       [0., 0., 1., 0.],\n",
       "       [0., 0., 0., 1.]])"
      ]
     },
     "execution_count": 68,
     "metadata": {},
     "output_type": "execute_result"
    }
   ],
   "source": [
    "#단위 행렬 만들기\n",
    "# 1 0 0 0\n",
    "# 0 1 0 0\n",
    "# 0 0 1 0\n",
    "# 0 0 0 1\n",
    "\n",
    "np.eye(4)\n",
    "\n",
    "#기본 float\n",
    "#numpy.eye(N, M=None, k=0, dtype=<class 'float'>, order='C', *, like=None)"
   ]
  },
  {
   "cell_type": "code",
   "execution_count": 69,
   "id": "d59bcab5-fbf1-454b-bbfd-154775e193a3",
   "metadata": {},
   "outputs": [
    {
     "data": {
      "text/plain": [
       "array([ 2,  4,  6,  8, 10, 12, 14, 16, 18, 20, 22, 24, 26, 28, 30, 32, 34,\n",
       "       36, 38, 40])"
      ]
     },
     "execution_count": 69,
     "metadata": {},
     "output_type": "execute_result"
    }
   ],
   "source": [
    "array5.astype(int)"
   ]
  },
  {
   "cell_type": "code",
   "execution_count": 81,
   "id": "10307405-45a3-441c-b73a-0d8c0a9a645f",
   "metadata": {},
   "outputs": [
    {
     "data": {
      "text/plain": [
       "array([[ True,  True, False],\n",
       "       [False,  True, False],\n",
       "       [False, False, False]])"
      ]
     },
     "execution_count": 81,
     "metadata": {},
     "output_type": "execute_result"
    }
   ],
   "source": [
    "np.random.seed(0)\n",
    "array6 = np.random.randint(0,2,9)\n",
    "array6.astype(bool).reshape(3,3)\n",
    "\n",
    "array7 = np.random.randint(0,2,size=9)\n",
    "array7.astype(\"?\").reshape(3,3) # 이런 방법도 있음!! bool 확인"
   ]
  },
  {
   "cell_type": "code",
   "execution_count": 94,
   "id": "960484f2-e75a-4fc4-bb5a-222749ac0d8c",
   "metadata": {},
   "outputs": [
    {
     "data": {
      "text/plain": [
       "array([5, 7, 6, 5, 4, 6, 4, 8, 9, 3])"
      ]
     },
     "execution_count": 94,
     "metadata": {},
     "output_type": "execute_result"
    }
   ],
   "source": [
    "np.random.seed(0)  # 시드가 같으면 랜덤한 숫자를 만드는 규칙이 있어서\n",
    "                   # 결과가 같게 나옴\n",
    "array8 = np.random.rand(10)\n",
    "(array8*10).astype(int)    # .astype('int') 이렇게 해도 됨"
   ]
  },
  {
   "cell_type": "code",
   "execution_count": 105,
   "id": "023fad0e-d6b8-492c-98cd-eab39c6deafd",
   "metadata": {},
   "outputs": [
    {
     "name": "stdout",
     "output_type": "stream",
     "text": [
      "[[1. 1. 1. 1. 1. 1. 1. 1. 1. 1.]\n",
      " [1. 0. 0. 0. 0. 0. 0. 0. 0. 1.]\n",
      " [1. 0. 0. 0. 0. 0. 0. 0. 0. 1.]\n",
      " [1. 0. 0. 0. 0. 0. 0. 0. 0. 1.]\n",
      " [1. 0. 0. 0. 0. 0. 0. 0. 0. 1.]\n",
      " [1. 0. 0. 0. 0. 0. 0. 0. 0. 1.]\n",
      " [1. 0. 0. 0. 0. 0. 0. 0. 0. 1.]\n",
      " [1. 0. 0. 0. 0. 0. 0. 0. 0. 1.]\n",
      " [1. 0. 0. 0. 0. 0. 0. 0. 0. 1.]\n",
      " [1. 1. 1. 1. 1. 1. 1. 1. 1. 1.]] \n",
      "\n",
      "[[1. 1. 1. 1. 1. 1. 1. 1. 1. 1.]\n",
      " [1. 0. 0. 0. 0. 0. 0. 0. 0. 1.]\n",
      " [1. 0. 0. 0. 0. 0. 0. 0. 0. 1.]\n",
      " [1. 0. 0. 0. 0. 0. 0. 0. 0. 1.]\n",
      " [1. 0. 0. 0. 0. 0. 0. 0. 0. 1.]\n",
      " [1. 0. 0. 0. 0. 0. 0. 0. 0. 1.]\n",
      " [1. 0. 0. 0. 0. 0. 0. 0. 0. 1.]\n",
      " [1. 0. 0. 0. 0. 0. 0. 0. 0. 1.]\n",
      " [1. 0. 0. 0. 0. 0. 0. 0. 0. 1.]\n",
      " [1. 1. 1. 1. 1. 1. 1. 1. 1. 1.]]\n"
     ]
    }
   ],
   "source": [
    "#np.ones((10,10))만들고 안쪽을 0으로 변경하는 거 도전\n",
    "#인덱싱 \n",
    "array9 = np.ones((10,10))\n",
    "for i in range(1,9):\n",
    "    for j in range(1,9):\n",
    "        array9[i][j] = 0\n",
    "        \n",
    "print(array9,'\\n')\n",
    "\n",
    "#슬라이싱과 벡터화 연산 활용\n",
    "array10 = np.ones((10,10))\n",
    "array10[1:9, 1:9]=0\n",
    "        \n",
    "print(array10)"
   ]
  },
  {
   "cell_type": "code",
   "execution_count": 124,
   "id": "705755dd-a942-4415-89dc-dd8d71a02765",
   "metadata": {},
   "outputs": [
    {
     "name": "stdout",
     "output_type": "stream",
     "text": [
      "[[0. 0. 0. 0. 0. 0. 0. 0. 0. 0.]\n",
      " [0. 1. 1. 1. 1. 1. 1. 1. 1. 0.]\n",
      " [0. 1. 1. 1. 1. 1. 1. 1. 1. 0.]\n",
      " [0. 1. 1. 1. 1. 1. 1. 1. 1. 0.]\n",
      " [0. 1. 1. 1. 1. 1. 1. 1. 1. 0.]\n",
      " [0. 1. 1. 1. 1. 1. 1. 1. 1. 0.]\n",
      " [0. 1. 1. 1. 1. 1. 1. 1. 1. 0.]\n",
      " [0. 1. 1. 1. 1. 1. 1. 1. 1. 0.]\n",
      " [0. 1. 1. 1. 1. 1. 1. 1. 1. 0.]\n",
      " [0. 0. 0. 0. 0. 0. 0. 0. 0. 0.]]\n"
     ]
    }
   ],
   "source": [
    "#슬라이싱과 벡터화 연산 활용\n",
    "array11 = np.ones((10,10))\n",
    "array11[:,0]=0\n",
    "array11[:,-1]=0 #array[:, [0,-1]] = 0\n",
    "array11[0]=0\n",
    "array11[-1]=0  #array[[0,-1], :] = 0\n",
    "        \n",
    "print(array11)"
   ]
  },
  {
   "cell_type": "code",
   "execution_count": 160,
   "id": "c42e46fe-fba0-4722-98bc-ff7ca0aa4799",
   "metadata": {},
   "outputs": [
    {
     "name": "stdout",
     "output_type": "stream",
     "text": [
      "[[1. 0. 1. 0. 1. 0. 1. 0.]\n",
      " [0. 1. 0. 1. 0. 1. 0. 1.]\n",
      " [1. 0. 1. 0. 1. 0. 1. 0.]\n",
      " [0. 1. 0. 1. 0. 1. 0. 1.]\n",
      " [1. 0. 1. 0. 1. 0. 1. 0.]\n",
      " [0. 1. 0. 1. 0. 1. 0. 1.]\n",
      " [1. 0. 1. 0. 1. 0. 1. 0.]\n",
      " [0. 1. 0. 1. 0. 1. 0. 1.]]\n"
     ]
    }
   ],
   "source": [
    "#체크무늬 만들기 01010101\n",
    "\n",
    "array12 = np.ones((8,8))\n",
    "\n",
    "array12[::2,1::2]=0  #array[[1,3,5,7],:] 이건 인덱싱!!\n",
    "array12[1::2,::2]=0\n",
    "\n",
    "print(array12)"
   ]
  },
  {
   "cell_type": "code",
   "execution_count": 186,
   "id": "e6632903-a692-4364-abcf-37a6c58895f9",
   "metadata": {},
   "outputs": [
    {
     "data": {
      "text/plain": [
       "array([[1., 0., 1., 0., 1., 0., 1., 0.],\n",
       "       [0., 1., 0., 1., 0., 1., 0., 1.],\n",
       "       [1., 0., 1., 0., 1., 0., 1., 0.],\n",
       "       [0., 1., 0., 1., 0., 1., 0., 1.],\n",
       "       [1., 0., 1., 0., 1., 0., 1., 0.],\n",
       "       [0., 1., 0., 1., 0., 1., 0., 1.],\n",
       "       [1., 0., 1., 0., 1., 0., 1., 0.],\n",
       "       [0., 1., 0., 1., 0., 1., 0., 1.]])"
      ]
     },
     "execution_count": 186,
     "metadata": {},
     "output_type": "execute_result"
    }
   ],
   "source": [
    "np.tile( np.eye(2), (4,4) )\n",
    "\n",
    "#tile 명령은 동일한 배열을 반복하여 연결한다."
   ]
  },
  {
   "cell_type": "code",
   "execution_count": 185,
   "id": "b769c92f-6ef2-4d11-a726-bc27333f623c",
   "metadata": {},
   "outputs": [
    {
     "data": {
      "text/plain": [
       "array([[1., 0., 1., 0.],\n",
       "       [0., 1., 0., 1.],\n",
       "       [1., 0., 1., 0.],\n",
       "       [0., 1., 0., 1.],\n",
       "       [1., 0., 1., 0.],\n",
       "       [0., 1., 0., 1.]])"
      ]
     },
     "execution_count": 185,
     "metadata": {},
     "output_type": "execute_result"
    }
   ],
   "source": [
    "#tile 명령은 동일한 배열을 반복하여 연결한다.\n",
    "np.tile( np.eye(2), (3,2))\n",
    "# ㄴ 모양으로 만들어짐 ↓3 →2"
   ]
  },
  {
   "cell_type": "code",
   "execution_count": 213,
   "id": "44955cbc-946c-4c29-a2c9-be5192d3486e",
   "metadata": {},
   "outputs": [
    {
     "name": "stdout",
     "output_type": "stream",
     "text": [
      "[ 0  1  2  3 -4 -5 -6  7  8  9 10]\n",
      "[ 0  1  2  3 -4 -5 -6  7  8  9 10]\n",
      "[ 0  1  2  3 -4 -5 -6  7  8  9 10]\n"
     ]
    }
   ],
   "source": [
    "array13 = np.arange(11)\n",
    "for i in array13:\n",
    "    if 3< i <7:\n",
    "        array13[i] *= (-1)\n",
    "print(array13)\n",
    "\n",
    "array13 = np.arange(11)\n",
    "array13[4:7] *= -1\n",
    "print(array13)\n",
    "\n",
    "#강사님 답변\n",
    "a = np.arange(11)\n",
    "a[ (3<a) & (a<7) ] *= -1  # 3<a and 7>a 해도 상관없음\n",
    "print(a)"
   ]
  },
  {
   "cell_type": "code",
   "execution_count": 219,
   "id": "d97ac4e3-7876-4211-9ee2-fa89e839b7e1",
   "metadata": {},
   "outputs": [
    {
     "data": {
      "text/plain": [
       "1683"
      ]
     },
     "execution_count": 219,
     "metadata": {},
     "output_type": "execute_result"
    }
   ],
   "source": [
    "a = np.arange(1,100)\n",
    "array3rd = a[ a%3==0 ]\n",
    "array3rd.sum()\n",
    "\n",
    "np.arange(3,101,3).sum()"
   ]
  },
  {
   "cell_type": "code",
   "execution_count": 221,
   "id": "01121bed-532f-4ff7-ad45-9ef4e75d844c",
   "metadata": {},
   "outputs": [
    {
     "data": {
      "text/plain": [
       "array([0.1, 0.2, 0.3, 0.4, 0.5, 0.6, 0.7, 0.8, 0.9])"
      ]
     },
     "execution_count": 221,
     "metadata": {},
     "output_type": "execute_result"
    }
   ],
   "source": [
    "np.arange(1,10)/10"
   ]
  },
  {
   "cell_type": "code",
   "execution_count": 228,
   "id": "297eaaa4-c86a-437e-a88a-89451f778d1b",
   "metadata": {},
   "outputs": [
    {
     "data": {
      "text/plain": [
       "array([0.1, 0.2, 0.3, 0.4, 0.5, 0.6, 0.7, 0.8, 0.9])"
      ]
     },
     "execution_count": 228,
     "metadata": {},
     "output_type": "execute_result"
    }
   ],
   "source": [
    "np.linspace(0.1,0.9,9)\n",
    "\n",
    "#linspace(start, stop, num, endpoint, retstep, dtype, axis)"
   ]
  },
  {
   "cell_type": "code",
   "execution_count": 229,
   "id": "3ca60c00-4ba9-4cce-b070-db520c4951db",
   "metadata": {},
   "outputs": [
    {
     "name": "stdout",
     "output_type": "stream",
     "text": [
      "\n",
      "    Return evenly spaced numbers over a specified interval.\n",
      "\n",
      "    Returns `num` evenly spaced samples, calculated over the\n",
      "    interval [`start`, `stop`].\n",
      "\n",
      "    The endpoint of the interval can optionally be excluded.\n",
      "\n",
      "    .. versionchanged:: 1.16.0\n",
      "        Non-scalar `start` and `stop` are now supported.\n",
      "\n",
      "    .. versionchanged:: 1.20.0\n",
      "        Values are rounded towards ``-inf`` instead of ``0`` when an\n",
      "        integer ``dtype`` is specified. The old behavior can\n",
      "        still be obtained with ``np.linspace(start, stop, num).astype(int)``\n",
      "\n",
      "    Parameters\n",
      "    ----------\n",
      "    start : array_like\n",
      "        The starting value of the sequence.\n",
      "    stop : array_like\n",
      "        The end value of the sequence, unless `endpoint` is set to False.\n",
      "        In that case, the sequence consists of all but the last of ``num + 1``\n",
      "        evenly spaced samples, so that `stop` is excluded.  Note that the step\n",
      "        size changes when `endpoint` is False.\n",
      "    num : int, optional\n",
      "        Number of samples to generate. Default is 50. Must be non-negative.\n",
      "    endpoint : bool, optional\n",
      "        If True, `stop` is the last sample. Otherwise, it is not included.\n",
      "        Default is True.\n",
      "    retstep : bool, optional\n",
      "        If True, return (`samples`, `step`), where `step` is the spacing\n",
      "        between samples.\n",
      "    dtype : dtype, optional\n",
      "        The type of the output array.  If `dtype` is not given, the data type\n",
      "        is inferred from `start` and `stop`. The inferred dtype will never be\n",
      "        an integer; `float` is chosen even if the arguments would produce an\n",
      "        array of integers.\n",
      "\n",
      "        .. versionadded:: 1.9.0\n",
      "\n",
      "    axis : int, optional\n",
      "        The axis in the result to store the samples.  Relevant only if start\n",
      "        or stop are array-like.  By default (0), the samples will be along a\n",
      "        new axis inserted at the beginning. Use -1 to get an axis at the end.\n",
      "\n",
      "        .. versionadded:: 1.16.0\n",
      "\n",
      "    Returns\n",
      "    -------\n",
      "    samples : ndarray\n",
      "        There are `num` equally spaced samples in the closed interval\n",
      "        ``[start, stop]`` or the half-open interval ``[start, stop)``\n",
      "        (depending on whether `endpoint` is True or False).\n",
      "    step : float, optional\n",
      "        Only returned if `retstep` is True\n",
      "\n",
      "        Size of spacing between samples.\n",
      "\n",
      "\n",
      "    See Also\n",
      "    --------\n",
      "    arange : Similar to `linspace`, but uses a step size (instead of the\n",
      "             number of samples).\n",
      "    geomspace : Similar to `linspace`, but with numbers spaced evenly on a log\n",
      "                scale (a geometric progression).\n",
      "    logspace : Similar to `geomspace`, but with the end points specified as\n",
      "               logarithms.\n",
      "\n",
      "    Examples\n",
      "    --------\n",
      "    >>> np.linspace(2.0, 3.0, num=5)\n",
      "    array([2.  , 2.25, 2.5 , 2.75, 3.  ])\n",
      "    >>> np.linspace(2.0, 3.0, num=5, endpoint=False)\n",
      "    array([2. ,  2.2,  2.4,  2.6,  2.8])\n",
      "    >>> np.linspace(2.0, 3.0, num=5, retstep=True)\n",
      "    (array([2.  ,  2.25,  2.5 ,  2.75,  3.  ]), 0.25)\n",
      "\n",
      "    Graphical illustration:\n",
      "\n",
      "    >>> import matplotlib.pyplot as plt\n",
      "    >>> N = 8\n",
      "    >>> y = np.zeros(N)\n",
      "    >>> x1 = np.linspace(0, 10, N, endpoint=True)\n",
      "    >>> x2 = np.linspace(0, 10, N, endpoint=False)\n",
      "    >>> plt.plot(x1, y, 'o')\n",
      "    [<matplotlib.lines.Line2D object at 0x...>]\n",
      "    >>> plt.plot(x2, y + 0.5, 'o')\n",
      "    [<matplotlib.lines.Line2D object at 0x...>]\n",
      "    >>> plt.ylim([-0.5, 1])\n",
      "    (-0.5, 1)\n",
      "    >>> plt.show()\n",
      "\n",
      "    \n"
     ]
    }
   ],
   "source": [
    "print(np.linspace.__doc__)"
   ]
  },
  {
   "cell_type": "code",
   "execution_count": null,
   "id": "7fcdee55-b775-4eb4-82e3-0deed4e79187",
   "metadata": {},
   "outputs": [
    {
     "name": "stdin",
     "output_type": "stream",
     "text": [
      " 4\n"
     ]
    },
    {
     "name": "stdout",
     "output_type": "stream",
     "text": [
      "자연수만 입력해주세요.\n"
     ]
    }
   ],
   "source": [
    "#로또번호 사용자가 입력한 수만큼 팔기\n",
    "\n",
    "import numpy as np\n",
    "\n",
    "while True:\n",
    "    try:\n",
    "        inputNum = int(input())\n",
    "        allNum = np.arange(1,46)\n",
    "        for i in range(inputNum):\n",
    "            newArray = np.random.choice(allNum, 6, replace = False)\n",
    "            result = np.stack([result, newArray])\n",
    "        print(result)\n",
    "        break\n",
    "    except:\n",
    "        print('자연수만 입력해주세요.')\n"
   ]
  },
  {
   "cell_type": "code",
   "execution_count": 2,
   "id": "1eb1618a-bcac-4386-8f9c-bfc4eb6017aa",
   "metadata": {},
   "outputs": [
    {
     "name": "stdin",
     "output_type": "stream",
     "text": [
      " 5\n"
     ]
    },
    {
     "ename": "NameError",
     "evalue": "name 'result' is not defined",
     "output_type": "error",
     "traceback": [
      "\u001b[1;31m---------------------------------------------------------------------------\u001b[0m",
      "\u001b[1;31mNameError\u001b[0m                                 Traceback (most recent call last)",
      "\u001b[1;32m~\\AppData\\Local\\Temp\\ipykernel_9912\\1452199452.py\u001b[0m in \u001b[0;36m<module>\u001b[1;34m\u001b[0m\n\u001b[0;32m      6\u001b[0m \u001b[1;32mfor\u001b[0m \u001b[0mi\u001b[0m \u001b[1;32min\u001b[0m \u001b[0mrange\u001b[0m\u001b[1;33m(\u001b[0m\u001b[0minputNum\u001b[0m\u001b[1;33m)\u001b[0m\u001b[1;33m:\u001b[0m\u001b[1;33m\u001b[0m\u001b[1;33m\u001b[0m\u001b[0m\n\u001b[0;32m      7\u001b[0m     \u001b[0mnewArray\u001b[0m \u001b[1;33m=\u001b[0m \u001b[0mnp\u001b[0m\u001b[1;33m.\u001b[0m\u001b[0mrandom\u001b[0m\u001b[1;33m.\u001b[0m\u001b[0mchoice\u001b[0m\u001b[1;33m(\u001b[0m\u001b[0mallNum\u001b[0m\u001b[1;33m,\u001b[0m \u001b[1;36m6\u001b[0m\u001b[1;33m,\u001b[0m \u001b[0mreplace\u001b[0m \u001b[1;33m=\u001b[0m \u001b[1;32mFalse\u001b[0m\u001b[1;33m)\u001b[0m\u001b[1;33m\u001b[0m\u001b[1;33m\u001b[0m\u001b[0m\n\u001b[1;32m----> 8\u001b[1;33m     \u001b[0mresult\u001b[0m \u001b[1;33m=\u001b[0m \u001b[0mnp\u001b[0m\u001b[1;33m.\u001b[0m\u001b[0mstack\u001b[0m\u001b[1;33m(\u001b[0m\u001b[1;33m[\u001b[0m\u001b[0mresult\u001b[0m\u001b[1;33m,\u001b[0m \u001b[0mnewArray\u001b[0m\u001b[1;33m]\u001b[0m\u001b[1;33m)\u001b[0m\u001b[1;33m\u001b[0m\u001b[1;33m\u001b[0m\u001b[0m\n\u001b[0m\u001b[0;32m      9\u001b[0m \u001b[0mprint\u001b[0m\u001b[1;33m(\u001b[0m\u001b[0mresult\u001b[0m\u001b[1;33m)\u001b[0m\u001b[1;33m\u001b[0m\u001b[1;33m\u001b[0m\u001b[0m\n\u001b[0;32m     10\u001b[0m \u001b[1;33m\u001b[0m\u001b[0m\n",
      "\u001b[1;31mNameError\u001b[0m: name 'result' is not defined"
     ]
    }
   ],
   "source": [
    "import numpy as np\n",
    "\n",
    "allNum = np.arange(1,46)\n",
    "\n",
    "inputNum = int(input())\n",
    "for i in range(inputNum):\n",
    "    newArray = np.random.choice(allNum, 6, replace = False)\n",
    "    result = np.stack([result, newArray])\n",
    "print(result)\n",
    "\n",
    "print('')"
   ]
  },
  {
   "cell_type": "code",
   "execution_count": 1,
   "id": "79eaff40-285f-4be6-8e0d-601c532eca7f",
   "metadata": {},
   "outputs": [
    {
     "name": "stdin",
     "output_type": "stream",
     "text": [
      "로또 몇개 드릴까요? 5\n"
     ]
    },
    {
     "data": {
      "text/plain": [
       "[array([ 7, 11, 12, 25, 31, 36]),\n",
       " array([ 5, 18, 24, 35, 36, 40]),\n",
       " array([ 1, 10, 12, 16, 22, 31]),\n",
       " array([ 4, 26, 29, 32, 37, 39]),\n",
       " array([ 1,  5,  8, 22, 23, 45])]"
      ]
     },
     "metadata": {},
     "output_type": "display_data"
    }
   ],
   "source": [
    "# 강사님 답안\n",
    "\n",
    "import numpy as np\n",
    "\n",
    "while True:\n",
    "    try:\n",
    "        count = int(input('로또 몇개 드릴까요?'))\n",
    "        if count <= 0:\n",
    "            raise Error #음수 거르기\n",
    "        numbers = np.arange(1,46)\n",
    "        lottos = [np.sort(np.random.choice(numbers, 6, replace=False))\n",
    "                  for _ in range(count)]\n",
    "        display(lottos)\n",
    "        break\n",
    "    except:\n",
    "        print('자연수만 입력해주세요')"
   ]
  },
  {
   "cell_type": "code",
   "execution_count": 18,
   "id": "f1be4b9a-c1a0-4567-8446-0ad86552d05d",
   "metadata": {},
   "outputs": [
    {
     "data": {
      "text/plain": [
       "8"
      ]
     },
     "execution_count": 18,
     "metadata": {},
     "output_type": "execute_result"
    }
   ],
   "source": [
    "resp_time = np. array([158,  85, 205,  24,  42, 175, 188, 149, 153, 171, 137,  55, 108,\n",
    "                       199, 177, 209, 218,  76, 103, 189, 110, 192, 136, 119,   4, 102,\n",
    "                       177, 212, 110,  37, 163,  32,  77,  22, 125, 184,  46, 139,  72,\n",
    "                       168, 133, 209, 148,  47, 102,  65, 160,  56,  11,  96, 169, 118,\n",
    "                        55, 135, 217,  49, 100,  85, 179,  15, 139, 199, 124, 142,  15,\n",
    "                        49, 168, 171, 168, 177, 147,  23, 199,  26,  51,  42,  90, 128,\n",
    "                       186, 169, 129,  70, 198, 111,  81, 150,  17, 177, 201,  10,  75,\n",
    "                       199,  55, 151, 183, 152, 119, 193, 110, 204])\n",
    "# 200ms를 넘기는 값의 개수는 몇 개일까용\n",
    "\n",
    "len(resp_time[ resp_time>200 ])\n",
    "\n",
    "(resp_time>200).sum() #허무합니다:)"
   ]
  },
  {
   "cell_type": "code",
   "execution_count": 22,
   "id": "e1014e6e-b25a-4e3a-9002-60632df021e8",
   "metadata": {},
   "outputs": [
    {
     "name": "stdout",
     "output_type": "stream",
     "text": [
      "제1분위수: 71.5\n",
      "제2분위수: 131.0\n",
      "제3분위수: 175.5\n",
      "제4분위수: 218.0\n"
     ]
    }
   ],
   "source": [
    "print('제1분위수:',np.percentile(resp_time, 25))\n",
    "print('제2분위수:',np.percentile(resp_time, 50))\n",
    "print('제3분위수:',np.percentile(resp_time, 75))\n",
    "print('제4분위수:',np.percentile(resp_time, 100))"
   ]
  },
  {
   "cell_type": "code",
   "execution_count": 17,
   "id": "40ff5cfd-8e1b-4323-bb53-ad5ee0eaeb6f",
   "metadata": {},
   "outputs": [
    {
     "name": "stdin",
     "output_type": "stream",
     "text": [
      " j\n"
     ]
    },
    {
     "name": "stdout",
     "output_type": "stream",
     "text": [
      "자연수만 입력해주세요\n"
     ]
    },
    {
     "name": "stdin",
     "output_type": "stream",
     "text": [
      " 3\n"
     ]
    },
    {
     "name": "stdout",
     "output_type": "stream",
     "text": [
      "[[ 7  8 29 43 12  6]\n",
      " [20 19 23  2  1 13]\n",
      " [24 11 44 42 37 35]]\n"
     ]
    }
   ],
   "source": [
    "import numpy as np\n",
    "\n",
    "while True:\n",
    "    try:\n",
    "        num = int(input())\n",
    "        if num <=0:\n",
    "            raise Error\n",
    "        print(np.stack((np.random.choice(np.arange(1,46),6,replace=False)\n",
    "                        for i in range (num) )))\n",
    "        break\n",
    "    except:\n",
    "        print('자연수만 입력해주세요')"
   ]
  },
  {
   "cell_type": "code",
   "execution_count": 18,
   "id": "44239dea-b145-4725-9226-cdd34bce5b13",
   "metadata": {},
   "outputs": [
    {
     "name": "stdout",
     "output_type": "stream",
     "text": [
      "뽀로로가 81표로 반장으로 선출되었습니다.\n"
     ]
    }
   ],
   "source": [
    "import numpy as np\n",
    "\n",
    "p = [\"뽀로로\", \"루피\", \"크롱\"]\n",
    "result = np.array([2, 1, 2, 2, 2, 2, 0, 2, 1, 1, 0, 0, 2, 0, 0, 1, 1, 2, 2, 2, 1, 1,\n",
    "                   1, 2, 0, 2, 2, 0, 1, 1, 0, 2, 1, 0, 1, 2, 0, 0, 1, 0, 1, 1, 1, 2,\n",
    "                   1, 1, 1, 0, 0, 0, 0, 1, 0, 0, 2, 0, 2, 2, 0, 0, 1, 1, 1, 0, 0, 2,\n",
    "                   2, 1, 0, 1, 2, 0, 2, 0, 0, 0, 2, 0, 0, 0, 0, 0, 1, 2, 1, 1, 2, 0,\n",
    "                   2, 0, 0, 0, 0, 2, 1, 2, 0, 2, 0, 0, 1, 0, 1, 2, 1, 2, 0, 2, 2, 1,\n",
    "                   2, 0, 0, 1, 1, 0, 1, 2, 1, 2, 0, 2, 2, 2, 2, 0, 2, 2, 0, 2, 0, 2,\n",
    "                   1, 1, 2, 1, 1, 0, 0, 1, 0, 0, 0, 2, 2, 0, 2, 0, 0, 0, 2, 0, 0, 0,\n",
    "                   2, 0, 1, 2, 1, 0, 2, 0, 0, 1, 2, 1, 1, 2, 2, 0, 0, 0, 0, 2, 2, 1,\n",
    "                   0, 1, 1, 2, 2, 1, 0, 0, 2, 0, 0, 0, 2, 0, 2, 2, 0, 2, 1, 0, 0, 2,\n",
    "                   0, 1])\n",
    "\n",
    "maxResult = np.bincount(result)\n",
    "\n",
    "print(f'{ p[maxResult.argmax()] }가 {max(maxResult)}표로 반장으로 선출되었습니다.')"
   ]
  },
  {
   "cell_type": "code",
   "execution_count": 2,
   "id": "7c066a91-8137-4f15-9ff1-1569c2abd308",
   "metadata": {},
   "outputs": [
    {
     "data": {
      "text/plain": [
       "array([[[['1', '1', '1'],\n",
       "         ['1', '1', '1']],\n",
       "\n",
       "        [['1', '1', '1'],\n",
       "         ['1', '1', '1']]],\n",
       "\n",
       "\n",
       "       [[['1', '1', '1'],\n",
       "         ['1', '1', '1']],\n",
       "\n",
       "        [['1', '1', '1'],\n",
       "         ['1', '1', '1']]]], dtype='<U4')"
      ]
     },
     "execution_count": 2,
     "metadata": {},
     "output_type": "execute_result"
    }
   ],
   "source": [
    "import numpy as np\n",
    "\n",
    "np.ones((2, 2, 2, 3), dtype='U4')"
   ]
  },
  {
   "cell_type": "code",
   "execution_count": null,
   "id": "4252415c-fdc9-44f4-a6cf-e386282bdcbf",
   "metadata": {},
   "outputs": [],
   "source": []
  }
 ],
 "metadata": {
  "kernelspec": {
   "display_name": "Python 3 (ipykernel)",
   "language": "python",
   "name": "python3"
  },
  "language_info": {
   "codemirror_mode": {
    "name": "ipython",
    "version": 3
   },
   "file_extension": ".py",
   "mimetype": "text/x-python",
   "name": "python",
   "nbconvert_exporter": "python",
   "pygments_lexer": "ipython3",
   "version": "3.9.13"
  },
  "widgets": {
   "application/vnd.jupyter.widget-state+json": {
    "state": {},
    "version_major": 2,
    "version_minor": 0
   }
  }
 },
 "nbformat": 4,
 "nbformat_minor": 5
}
