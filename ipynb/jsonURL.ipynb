{
 "cells": [
  {
   "cell_type": "code",
   "execution_count": 19,
   "id": "d4b3e503-09c0-4b45-85bd-be203e220301",
   "metadata": {},
   "outputs": [
    {
     "name": "stdout",
     "output_type": "stream",
     "text": [
      "<Response [401]>\n",
      "401\n"
     ]
    }
   ],
   "source": [
    "import requests\n",
    "import json\n",
    "\n",
    "url = \"\"\n",
    "\n",
    "headerKey = {'authorization': '45c83e54f195c1a6b52c09b1afd9004d'}\n",
    "\n",
    "response = requests.get(url, headers = headerKey)\n",
    "print(response)\n",
    "print(response.status_code)"
   ]
  },
  {
   "cell_type": "code",
   "execution_count": 20,
   "id": "f11145e6-878d-4751-8f2a-afa1f75fb095",
   "metadata": {},
   "outputs": [
    {
     "data": {
      "text/plain": [
       "403"
      ]
     },
     "execution_count": 20,
     "metadata": {},
     "output_type": "execute_result"
    }
   ],
   "source": [
    "import requests\n",
    "import json\n",
    "\n",
    "url = 'https://kauth.kakao.com/oauth/token'\n",
    "client_id = '45c83e54f195c1a6b52c09b1afd9004d'\n",
    "redirect_uri = 'https://example.com/oauth'\n",
    "code = 'nSTiAsMagTVbdg7rPY4QORSvdKd9_YpNls_5kcRXMUsQcwVEwyYhLAIqCr0vXTMvvzLDhAo9dGkAAAGGleo3mQ'\n",
    "\n",
    "data = {\n",
    "    'grant_type':'authorization_code',\n",
    "    'client_id':client_id,\n",
    "    'redirect_uri':redirect_uri,\n",
    "    'code': code,\n",
    "    }\n",
    "\n",
    "response = requests.post(url, data=data)\n",
    "tokens = response.json()\n",
    "\n",
    "#발행된 토큰 저장\n",
    "with open(\"token.json\",\"w\") as kakao:\n",
    "    json.dump(tokens, kakao)\n",
    "\n",
    "#######\n",
    "#발행한 토큰 불러오기\n",
    "with open(\"token.json\",\"r\") as kakao:\n",
    "    tokens = json.load(kakao)\n",
    "\n",
    "url=\"https://kapi.kakao.com/v2/api/talk/memo/default/send\"\n",
    "\n",
    "headers={\n",
    "    \"Authorization\" : \"Bearer \" + tokens[\"access_token\"]\n",
    "}\n",
    "\n",
    "data = {\n",
    "       'object_type': 'text',\n",
    "       'text': '테스트입니다',\n",
    "       'link': {\n",
    "           'web_url': 'https://developers.kakao.com',\n",
    "           'mobile_web_url': 'https://developers.kakao.com'\n",
    "       },\n",
    "       'button_title': '키워드'\n",
    "   }\n",
    "   \n",
    "data = {'template_object': json.dumps(data)}\n",
    "response = requests.post(url, headers=headers, data=data)\n",
    "response.status_code"
   ]
  },
  {
   "cell_type": "code",
   "execution_count": null,
   "id": "72a2d709-d3c9-4187-9f26-907764243092",
   "metadata": {},
   "outputs": [],
   "source": []
  },
  {
   "cell_type": "code",
   "execution_count": 75,
   "id": "67b13121-8db1-4fd2-a81c-dcf07eea368a",
   "metadata": {},
   "outputs": [
    {
     "name": "stdout",
     "output_type": "stream",
     "text": [
      "200\n"
     ]
    }
   ],
   "source": [
    "import requests\n",
    "\n",
    "url = 'http://apis.data.go.kr/B490007/qualExamSchd/getQualExamSchdList'\n",
    "param ={'serviceKey' : 'XwiVx74sXmK9Z8PyrVxlixhwiSZgbff5/9EUjFvrnlAhJJ6kTXsIxa66t8NYpoFqNBtU28uLgveyYuECBicV9g==',\n",
    "       'numOfRows' : '10', 'pageNo' : '1', 'dataFormat' : 'json', 'implYy' : '2023'}\n",
    "#Decoding 코드\n",
    "\n",
    "testData = requests.get(url, params=param)\n",
    "#print(response.content)\n",
    "\n",
    "print(testData.status_code)"
   ]
  },
  {
   "cell_type": "code",
   "execution_count": 76,
   "id": "b9c45742-22a5-49fa-a02f-82ffb58f4248",
   "metadata": {},
   "outputs": [
    {
     "data": {
      "text/plain": [
       "{'Access-Control-Allow-Origin': '*', 'Content-Encoding': 'gzip', 'Content-Type': 'application/json', 'Content-Length': '639', 'Date': 'Tue, 28 Feb 2023 05:31:11 GMT', 'Server': 'NIA API Server'}"
      ]
     },
     "execution_count": 76,
     "metadata": {},
     "output_type": "execute_result"
    }
   ],
   "source": [
    "#header 확인\n",
    "testData.headers"
   ]
  },
  {
   "cell_type": "code",
   "execution_count": 77,
   "id": "b351f38f-f04b-4043-9461-b2021e270998",
   "metadata": {},
   "outputs": [
    {
     "data": {
      "text/plain": [
       "{'header': {'resultCode': '00', 'resultMsg': 'NORMAL SERVICE'},\n",
       " 'body': {'items': [{'implYy': '2023',\n",
       "    'implSeq': 101,\n",
       "    'qualgbCd': 'T',\n",
       "    'qualgbNm': '국가기술자격',\n",
       "    'description': '국가기술자격 기능사 (2023년도 제101회)',\n",
       "    'docRegStartDt': '',\n",
       "    'docRegEndDt': '',\n",
       "    'docExamStartDt': '',\n",
       "    'docExamEndDt': '',\n",
       "    'docPassDt': '',\n",
       "    'pracRegStartDt': '20230203',\n",
       "    'pracRegEndDt': '20230203',\n",
       "    'pracExamStartDt': '20230213',\n",
       "    'pracExamEndDt': '20230317',\n",
       "    'pracPassDt': '20230323'},\n",
       "   {'implYy': '2023',\n",
       "    'implSeq': 22,\n",
       "    'qualgbCd': 'S',\n",
       "    'qualgbNm': '국가전문자격',\n",
       "    'description': '전문자격 (2023년도 22회 면접)',\n",
       "    'docRegStartDt': '20231113',\n",
       "    'docRegEndDt': '20231117',\n",
       "    'docExamStartDt': '20231211',\n",
       "    'docExamEndDt': '20231216',\n",
       "    'docPassDt': '20231227',\n",
       "    'pracRegStartDt': '',\n",
       "    'pracRegEndDt': '',\n",
       "    'pracExamStartDt': '',\n",
       "    'pracExamEndDt': '',\n",
       "    'pracPassDt': ''},\n",
       "   {'implYy': '2023',\n",
       "    'implSeq': 31,\n",
       "    'qualgbCd': 'S',\n",
       "    'qualgbNm': '국가전문자격',\n",
       "    'description': '전문자격 (2023년도 31회 면접)',\n",
       "    'docRegStartDt': '20231106',\n",
       "    'docRegEndDt': '20231110',\n",
       "    'docExamStartDt': '20231127',\n",
       "    'docExamEndDt': '20231202',\n",
       "    'docPassDt': '20231220',\n",
       "    'pracRegStartDt': '',\n",
       "    'pracRegEndDt': '',\n",
       "    'pracExamStartDt': '',\n",
       "    'pracExamEndDt': '',\n",
       "    'pracPassDt': ''},\n",
       "   {'implYy': '2023',\n",
       "    'implSeq': 6,\n",
       "    'qualgbCd': 'C',\n",
       "    'qualgbNm': '과정평가형자격',\n",
       "    'description': '2023년 정기 과정평가형자격 6회',\n",
       "    'docRegStartDt': '20231106',\n",
       "    'docRegEndDt': '20231109',\n",
       "    'docExamStartDt': '20231204',\n",
       "    'docExamEndDt': '20231208',\n",
       "    'docPassDt': '20231222',\n",
       "    'pracRegStartDt': '20231106',\n",
       "    'pracRegEndDt': '20231109',\n",
       "    'pracExamStartDt': '20231204',\n",
       "    'pracExamEndDt': '20231208',\n",
       "    'pracPassDt': '20231222'},\n",
       "   {'implYy': '2023',\n",
       "    'implSeq': 5,\n",
       "    'qualgbCd': 'C',\n",
       "    'qualgbNm': '과정평가형자격',\n",
       "    'description': '2023년 정기 과정평가형자격 5회',\n",
       "    'docRegStartDt': '20230925',\n",
       "    'docRegEndDt': '20231002',\n",
       "    'docExamStartDt': '20231023',\n",
       "    'docExamEndDt': '20231027',\n",
       "    'docPassDt': '20231110',\n",
       "    'pracRegStartDt': '20230925',\n",
       "    'pracRegEndDt': '20231002',\n",
       "    'pracExamStartDt': '20231023',\n",
       "    'pracExamEndDt': '20231027',\n",
       "    'pracPassDt': '20231110'},\n",
       "   {'implYy': '2023',\n",
       "    'implSeq': 25,\n",
       "    'qualgbCd': 'S',\n",
       "    'qualgbNm': '국가전문자격',\n",
       "    'description': '전문자격 (2023년도 25회 1차)',\n",
       "    'docRegStartDt': '20230918',\n",
       "    'docRegEndDt': '20231103',\n",
       "    'docExamStartDt': '20231111',\n",
       "    'docExamEndDt': '20231111',\n",
       "    'docPassDt': '20231227',\n",
       "    'pracRegStartDt': '',\n",
       "    'pracRegEndDt': '',\n",
       "    'pracExamStartDt': '',\n",
       "    'pracExamEndDt': '',\n",
       "    'pracPassDt': ''},\n",
       "   {'implYy': '2023',\n",
       "    'implSeq': 25,\n",
       "    'qualgbCd': 'S',\n",
       "    'qualgbNm': '국가전문자격',\n",
       "    'description': '전문자격 (2023년도 25회 2차)',\n",
       "    'docRegStartDt': '20230918',\n",
       "    'docRegEndDt': '20231103',\n",
       "    'docExamStartDt': '20231111',\n",
       "    'docExamEndDt': '20231111',\n",
       "    'docPassDt': '20231227',\n",
       "    'pracRegStartDt': '',\n",
       "    'pracRegEndDt': '',\n",
       "    'pracExamStartDt': '',\n",
       "    'pracExamEndDt': '',\n",
       "    'pracPassDt': ''},\n",
       "   {'implYy': '2023',\n",
       "    'implSeq': 23,\n",
       "    'qualgbCd': 'S',\n",
       "    'qualgbNm': '국가전문자격',\n",
       "    'description': '전문자격 (2023년도 23회 면접)',\n",
       "    'docRegStartDt': '20230918',\n",
       "    'docRegEndDt': '20231027',\n",
       "    'docExamStartDt': '20231216',\n",
       "    'docExamEndDt': '20231216',\n",
       "    'docPassDt': '20231227',\n",
       "    'pracRegStartDt': '',\n",
       "    'pracRegEndDt': '',\n",
       "    'pracExamStartDt': '',\n",
       "    'pracExamEndDt': '',\n",
       "    'pracPassDt': ''},\n",
       "   {'implYy': '2023',\n",
       "    'implSeq': 23,\n",
       "    'qualgbCd': 'S',\n",
       "    'qualgbNm': '국가전문자격',\n",
       "    'description': '전문자격 (2023년도 23회 필기)',\n",
       "    'docRegStartDt': '20230918',\n",
       "    'docRegEndDt': '20231027',\n",
       "    'docExamStartDt': '20231104',\n",
       "    'docExamEndDt': '20231104',\n",
       "    'docPassDt': '20231129',\n",
       "    'pracRegStartDt': '',\n",
       "    'pracRegEndDt': '',\n",
       "    'pracExamStartDt': '',\n",
       "    'pracExamEndDt': '',\n",
       "    'pracPassDt': ''},\n",
       "   {'implYy': '2023',\n",
       "    'implSeq': 23,\n",
       "    'qualgbCd': 'S',\n",
       "    'qualgbNm': '국가전문자격',\n",
       "    'description': '전문자격 (2023년도 23회 면접)',\n",
       "    'docRegStartDt': '20230918',\n",
       "    'docRegEndDt': '20231027',\n",
       "    'docExamStartDt': '20231216',\n",
       "    'docExamEndDt': '20231216',\n",
       "    'docPassDt': '20231227',\n",
       "    'pracRegStartDt': '',\n",
       "    'pracRegEndDt': '',\n",
       "    'pracExamStartDt': '',\n",
       "    'pracExamEndDt': '',\n",
       "    'pracPassDt': ''}],\n",
       "  'numOfRows': 10,\n",
       "  'pageNo': 1,\n",
       "  'totalCount': 106}}"
      ]
     },
     "execution_count": 77,
     "metadata": {},
     "output_type": "execute_result"
    }
   ],
   "source": [
    "import json\n",
    "testData.json()\n"
   ]
  },
  {
   "cell_type": "code",
   "execution_count": null,
   "id": "b972b834-fc41-44fb-88d8-7233a7a34f2b",
   "metadata": {},
   "outputs": [],
   "source": []
  },
  {
   "cell_type": "code",
   "execution_count": 82,
   "id": "f445d1a9-d1d5-482b-b9a1-7727b48081dd",
   "metadata": {},
   "outputs": [],
   "source": [
    "# robot.txt 분석하기\n",
    "# https://www.reuters.com/robots.txt\n",
    "\n",
    "import urllib.robotparser\n",
    "rp = urllib.robotparser.RobotFileParser()\n",
    "rp.set_url(\"https://www.reuters.com/robots.txt\")\n",
    "rp.read()"
   ]
  },
  {
   "cell_type": "code",
   "execution_count": 83,
   "id": "ccd9d971-5eca-4eaa-a4b3-283be23527a0",
   "metadata": {},
   "outputs": [
    {
     "data": {
      "text/plain": [
       "True"
      ]
     },
     "execution_count": 83,
     "metadata": {},
     "output_type": "execute_result"
    }
   ],
   "source": [
    "#특정 user-agent가 url에 접근 가능한지 확인한다.\n",
    "rp.can_fetch(useragent=\"*\", url= \"https://reuters.com/sitemap.xml\")"
   ]
  },
  {
   "cell_type": "code",
   "execution_count": null,
   "id": "6e438fbb-82b2-4ce2-b2e2-482cc0977a27",
   "metadata": {},
   "outputs": [],
   "source": []
  },
  {
   "cell_type": "code",
   "execution_count": null,
   "id": "8a818ca9-ded5-428d-bacc-e7f6291f534a",
   "metadata": {},
   "outputs": [],
   "source": []
  },
  {
   "cell_type": "code",
   "execution_count": 92,
   "id": "074ba0a5-2209-4682-8b43-62a9bfec5117",
   "metadata": {},
   "outputs": [
    {
     "name": "stderr",
     "output_type": "stream",
     "text": [
      "ERROR: Invalid requirement: '#'\n"
     ]
    }
   ],
   "source": [
    "!pip install xmltodict  # jupytercmd 안 켜도 됨..."
   ]
  },
  {
   "cell_type": "code",
   "execution_count": 151,
   "id": "1641158f-0540-4b95-8f48-e417b3646138",
   "metadata": {},
   "outputs": [
    {
     "data": {
      "text/plain": [
       "['https://www.reuters.com/arc/outboundfeeds/sitemap-index/?outputType=xml',\n",
       " 'https://www.reuters.com/arc/outboundfeeds/news-sitemap-index/?outputType=xml',\n",
       " 'https://www.reuters.com/sitemap_video_index.xml',\n",
       " 'https://www.reuters.com/brandfeature/sitemap']"
      ]
     },
     "execution_count": 151,
     "metadata": {},
     "output_type": "execute_result"
    }
   ],
   "source": [
    "#robot.txt에 있는 sitemap을 불러오는 것\n",
    "\n",
    "sitemaps = rp.site_maps()\n",
    "sitemaps"
   ]
  },
  {
   "cell_type": "code",
   "execution_count": 152,
   "id": "df3414ed-ad19-43a5-8e2b-0817e4a98bb3",
   "metadata": {},
   "outputs": [],
   "source": [
    "import xmltodict\n",
    "import requests\n",
    "\n",
    "url = sitemaps[0] #/sitemap/latest-articles 그냥 첫번째거 가져옴\n",
    "sitemaps = xmltodict.parse(requests.get(url).text)  #parse를 통해 의미있게 xml을 dictionary 로 바꿈"
   ]
  },
  {
   "cell_type": "code",
   "execution_count": 153,
   "id": "a8f6ed6a-6ca2-4924-9287-28e2c612dffe",
   "metadata": {},
   "outputs": [
    {
     "data": {
      "text/plain": [
       "dict_keys(['@xmlns', 'sitemap'])"
      ]
     },
     "execution_count": 153,
     "metadata": {},
     "output_type": "execute_result"
    }
   ],
   "source": [
    "sitemaps['sitemapindex'].keys() #로 키 추출!"
   ]
  },
  {
   "cell_type": "code",
   "execution_count": 154,
   "id": "34edc17d-1f01-4510-ba8a-7e334644be3b",
   "metadata": {},
   "outputs": [
    {
     "data": {
      "text/plain": [
       "{'loc': 'https://www.reuters.com/arc/outboundfeeds/sitemap/?outputType=xml',\n",
       " 'lastmod': '2023-02-28T06:45:48.420Z'}"
      ]
     },
     "execution_count": 154,
     "metadata": {},
     "output_type": "execute_result"
    }
   ],
   "source": [
    "sitemaps['sitemapindex']['sitemap'][0] #이 중 "
   ]
  },
  {
   "cell_type": "code",
   "execution_count": 155,
   "id": "158d9acf-8089-4eef-a4f1-f7560f2deba9",
   "metadata": {},
   "outputs": [
    {
     "data": {
      "text/plain": [
       "['https://www.reuters.com/arc/outboundfeeds/sitemap/?outputType=xml',\n",
       " 'https://www.reuters.com/arc/outboundfeeds/sitemap/?outputType=xml&from=100',\n",
       " 'https://www.reuters.com/arc/outboundfeeds/sitemap/?outputType=xml&from=200',\n",
       " 'https://www.reuters.com/arc/outboundfeeds/sitemap/?outputType=xml&from=300',\n",
       " 'https://www.reuters.com/arc/outboundfeeds/sitemap/?outputType=xml&from=400',\n",
       " 'https://www.reuters.com/arc/outboundfeeds/sitemap/?outputType=xml&from=500',\n",
       " 'https://www.reuters.com/arc/outboundfeeds/sitemap/?outputType=xml&from=600',\n",
       " 'https://www.reuters.com/arc/outboundfeeds/sitemap/?outputType=xml&from=700',\n",
       " 'https://www.reuters.com/arc/outboundfeeds/sitemap/?outputType=xml&from=800',\n",
       " 'https://www.reuters.com/arc/outboundfeeds/sitemap/?outputType=xml&from=900',\n",
       " 'https://www.reuters.com/arc/outboundfeeds/sitemap/?outputType=xml&from=1000',\n",
       " 'https://www.reuters.com/arc/outboundfeeds/sitemap/?outputType=xml&from=1100',\n",
       " 'https://www.reuters.com/arc/outboundfeeds/sitemap/?outputType=xml&from=1200',\n",
       " 'https://www.reuters.com/arc/outboundfeeds/sitemap/?outputType=xml&from=1300',\n",
       " 'https://www.reuters.com/arc/outboundfeeds/sitemap/?outputType=xml&from=1400',\n",
       " 'https://www.reuters.com/arc/outboundfeeds/sitemap/?outputType=xml&from=1500',\n",
       " 'https://www.reuters.com/arc/outboundfeeds/sitemap/?outputType=xml&from=1600',\n",
       " 'https://www.reuters.com/arc/outboundfeeds/sitemap/?outputType=xml&from=1700',\n",
       " 'https://www.reuters.com/arc/outboundfeeds/sitemap/?outputType=xml&from=1800',\n",
       " 'https://www.reuters.com/arc/outboundfeeds/sitemap/?outputType=xml&from=1900',\n",
       " 'https://www.reuters.com/arc/outboundfeeds/sitemap/?outputType=xml&from=2000',\n",
       " 'https://www.reuters.com/arc/outboundfeeds/sitemap/?outputType=xml&from=2100',\n",
       " 'https://www.reuters.com/arc/outboundfeeds/sitemap/?outputType=xml&from=2200',\n",
       " 'https://www.reuters.com/arc/outboundfeeds/sitemap/?outputType=xml&from=2300',\n",
       " 'https://www.reuters.com/arc/outboundfeeds/sitemap/?outputType=xml&from=2400',\n",
       " 'https://www.reuters.com/arc/outboundfeeds/sitemap/?outputType=xml&from=2500',\n",
       " 'https://www.reuters.com/arc/outboundfeeds/sitemap/?outputType=xml&from=2600',\n",
       " 'https://www.reuters.com/arc/outboundfeeds/sitemap/?outputType=xml&from=2700',\n",
       " 'https://www.reuters.com/arc/outboundfeeds/sitemap/?outputType=xml&from=2800',\n",
       " 'https://www.reuters.com/arc/outboundfeeds/sitemap/?outputType=xml&from=2900',\n",
       " 'https://www.reuters.com/arc/outboundfeeds/sitemap/?outputType=xml&from=3000',\n",
       " 'https://www.reuters.com/arc/outboundfeeds/sitemap/?outputType=xml&from=3100',\n",
       " 'https://www.reuters.com/arc/outboundfeeds/sitemap/?outputType=xml&from=3200',\n",
       " 'https://www.reuters.com/arc/outboundfeeds/sitemap/?outputType=xml&from=3300',\n",
       " 'https://www.reuters.com/arc/outboundfeeds/sitemap/?outputType=xml&from=3400',\n",
       " 'https://www.reuters.com/arc/outboundfeeds/sitemap/?outputType=xml&from=3500',\n",
       " 'https://www.reuters.com/arc/outboundfeeds/sitemap/?outputType=xml&from=3600',\n",
       " 'https://www.reuters.com/arc/outboundfeeds/sitemap/?outputType=xml&from=3700',\n",
       " 'https://www.reuters.com/arc/outboundfeeds/sitemap/?outputType=xml&from=3800',\n",
       " 'https://www.reuters.com/arc/outboundfeeds/sitemap/?outputType=xml&from=3900',\n",
       " 'https://www.reuters.com/arc/outboundfeeds/sitemap/?outputType=xml&from=4000',\n",
       " 'https://www.reuters.com/arc/outboundfeeds/sitemap/?outputType=xml&from=4100',\n",
       " 'https://www.reuters.com/arc/outboundfeeds/sitemap/?outputType=xml&from=4200',\n",
       " 'https://www.reuters.com/arc/outboundfeeds/sitemap/?outputType=xml&from=4300',\n",
       " 'https://www.reuters.com/arc/outboundfeeds/sitemap/?outputType=xml&from=4400',\n",
       " 'https://www.reuters.com/arc/outboundfeeds/sitemap/?outputType=xml&from=4500',\n",
       " 'https://www.reuters.com/arc/outboundfeeds/sitemap/?outputType=xml&from=4600',\n",
       " 'https://www.reuters.com/arc/outboundfeeds/sitemap/?outputType=xml&from=4700',\n",
       " 'https://www.reuters.com/arc/outboundfeeds/sitemap/?outputType=xml&from=4800',\n",
       " 'https://www.reuters.com/arc/outboundfeeds/sitemap/?outputType=xml&from=4900',\n",
       " 'https://www.reuters.com/arc/outboundfeeds/sitemap/?outputType=xml&from=5000',\n",
       " 'https://www.reuters.com/arc/outboundfeeds/sitemap/?outputType=xml&from=5100',\n",
       " 'https://www.reuters.com/arc/outboundfeeds/sitemap/?outputType=xml&from=5200',\n",
       " 'https://www.reuters.com/arc/outboundfeeds/sitemap/?outputType=xml&from=5300',\n",
       " 'https://www.reuters.com/arc/outboundfeeds/sitemap/?outputType=xml&from=5400',\n",
       " 'https://www.reuters.com/arc/outboundfeeds/sitemap/?outputType=xml&from=5500',\n",
       " 'https://www.reuters.com/arc/outboundfeeds/sitemap/?outputType=xml&from=5600',\n",
       " 'https://www.reuters.com/arc/outboundfeeds/sitemap/?outputType=xml&from=5700',\n",
       " 'https://www.reuters.com/arc/outboundfeeds/sitemap/?outputType=xml&from=5800',\n",
       " 'https://www.reuters.com/arc/outboundfeeds/sitemap/?outputType=xml&from=5900',\n",
       " 'https://www.reuters.com/arc/outboundfeeds/sitemap/?outputType=xml&from=6000',\n",
       " 'https://www.reuters.com/arc/outboundfeeds/sitemap/?outputType=xml&from=6100',\n",
       " 'https://www.reuters.com/arc/outboundfeeds/sitemap/?outputType=xml&from=6200',\n",
       " 'https://www.reuters.com/arc/outboundfeeds/sitemap/?outputType=xml&from=6300',\n",
       " 'https://www.reuters.com/arc/outboundfeeds/sitemap/?outputType=xml&from=6400',\n",
       " 'https://www.reuters.com/arc/outboundfeeds/sitemap/?outputType=xml&from=6500',\n",
       " 'https://www.reuters.com/arc/outboundfeeds/sitemap/?outputType=xml&from=6600',\n",
       " 'https://www.reuters.com/arc/outboundfeeds/sitemap/?outputType=xml&from=6700',\n",
       " 'https://www.reuters.com/arc/outboundfeeds/sitemap/?outputType=xml&from=6800',\n",
       " 'https://www.reuters.com/arc/outboundfeeds/sitemap/?outputType=xml&from=6900',\n",
       " 'https://www.reuters.com/arc/outboundfeeds/sitemap/?outputType=xml&from=7000',\n",
       " 'https://www.reuters.com/arc/outboundfeeds/sitemap/?outputType=xml&from=7100',\n",
       " 'https://www.reuters.com/arc/outboundfeeds/sitemap/?outputType=xml&from=7200',\n",
       " 'https://www.reuters.com/arc/outboundfeeds/sitemap/?outputType=xml&from=7300',\n",
       " 'https://www.reuters.com/arc/outboundfeeds/sitemap/?outputType=xml&from=7400',\n",
       " 'https://www.reuters.com/arc/outboundfeeds/sitemap/?outputType=xml&from=7500',\n",
       " 'https://www.reuters.com/arc/outboundfeeds/sitemap/?outputType=xml&from=7600',\n",
       " 'https://www.reuters.com/arc/outboundfeeds/sitemap/?outputType=xml&from=7700',\n",
       " 'https://www.reuters.com/arc/outboundfeeds/sitemap/?outputType=xml&from=7800',\n",
       " 'https://www.reuters.com/arc/outboundfeeds/sitemap/?outputType=xml&from=7900',\n",
       " 'https://www.reuters.com/arc/outboundfeeds/sitemap/?outputType=xml&from=8000',\n",
       " 'https://www.reuters.com/arc/outboundfeeds/sitemap/?outputType=xml&from=8100',\n",
       " 'https://www.reuters.com/arc/outboundfeeds/sitemap/?outputType=xml&from=8200',\n",
       " 'https://www.reuters.com/arc/outboundfeeds/sitemap/?outputType=xml&from=8300',\n",
       " 'https://www.reuters.com/arc/outboundfeeds/sitemap/?outputType=xml&from=8400',\n",
       " 'https://www.reuters.com/arc/outboundfeeds/sitemap/?outputType=xml&from=8500',\n",
       " 'https://www.reuters.com/arc/outboundfeeds/sitemap/?outputType=xml&from=8600',\n",
       " 'https://www.reuters.com/arc/outboundfeeds/sitemap/?outputType=xml&from=8700',\n",
       " 'https://www.reuters.com/arc/outboundfeeds/sitemap/?outputType=xml&from=8800',\n",
       " 'https://www.reuters.com/arc/outboundfeeds/sitemap/?outputType=xml&from=8900',\n",
       " 'https://www.reuters.com/arc/outboundfeeds/sitemap/?outputType=xml&from=9000',\n",
       " 'https://www.reuters.com/arc/outboundfeeds/sitemap/?outputType=xml&from=9100',\n",
       " 'https://www.reuters.com/arc/outboundfeeds/sitemap/?outputType=xml&from=9200',\n",
       " 'https://www.reuters.com/arc/outboundfeeds/sitemap/?outputType=xml&from=9300',\n",
       " 'https://www.reuters.com/arc/outboundfeeds/sitemap/?outputType=xml&from=9400',\n",
       " 'https://www.reuters.com/arc/outboundfeeds/sitemap/?outputType=xml&from=9500']"
      ]
     },
     "metadata": {},
     "output_type": "display_data"
    }
   ],
   "source": [
    "list1 = [ sitemaps['sitemapindex']['sitemap'][i]['loc'] for i in range(len(sitemaps['sitemapindex']['sitemap'])) ]\n",
    "display(list1) #print 하면 예쁘게 안 나옴"
   ]
  },
  {
   "cell_type": "code",
   "execution_count": 156,
   "id": "11a6b596-9d3f-4400-a2be-b9c29a584816",
   "metadata": {},
   "outputs": [
    {
     "name": "stdout",
     "output_type": "stream",
     "text": [
      "96개의 사이트맵 URL이 있습니다.\n"
     ]
    },
    {
     "data": {
      "text/plain": [
       "['https://www.reuters.com/arc/outboundfeeds/sitemap/?outputType=xml',\n",
       " 'https://www.reuters.com/arc/outboundfeeds/sitemap/?outputType=xml&from=100',\n",
       " 'https://www.reuters.com/arc/outboundfeeds/sitemap/?outputType=xml&from=200',\n",
       " 'https://www.reuters.com/arc/outboundfeeds/sitemap/?outputType=xml&from=300',\n",
       " 'https://www.reuters.com/arc/outboundfeeds/sitemap/?outputType=xml&from=400']"
      ]
     },
     "execution_count": 156,
     "metadata": {},
     "output_type": "execute_result"
    }
   ],
   "source": [
    "#강사님 url 추출 -> 리스트로 만들기 (진명 님이 정리해 줌)\n",
    "\n",
    "sitemap_urls = [sitemap['loc'] for sitemap in sitemaps['sitemapindex']['sitemap']]\n",
    "# 개수 파악\n",
    "print(f\"{len(sitemap_urls)}개의 사이트맵 URL이 있습니다.\")\n",
    "# 샘플로 앞의 sitemap url 5개만 확인\n",
    "sitemap_urls[:5]"
   ]
  },
  {
   "cell_type": "code",
   "execution_count": 169,
   "id": "6f6c7482-6b55-427e-bfe3-25abca710977",
   "metadata": {},
   "outputs": [
    {
     "data": {
      "text/plain": [
       "['https://www.reuters.com/arc/outboundfeeds/sitemap/?outputType=xml',\n",
       " 'https://www.reuters.com/arc/outboundfeeds/sitemap/?outputType=xml&from=100',\n",
       " 'https://www.reuters.com/arc/outboundfeeds/sitemap/?outputType=xml&from=200',\n",
       " 'https://www.reuters.com/arc/outboundfeeds/sitemap/?outputType=xml&from=300',\n",
       " 'https://www.reuters.com/arc/outboundfeeds/sitemap/?outputType=xml&from=400',\n",
       " 'https://www.reuters.com/arc/outboundfeeds/sitemap/?outputType=xml&from=500',\n",
       " 'https://www.reuters.com/arc/outboundfeeds/sitemap/?outputType=xml&from=600',\n",
       " 'https://www.reuters.com/arc/outboundfeeds/sitemap/?outputType=xml&from=700',\n",
       " 'https://www.reuters.com/arc/outboundfeeds/sitemap/?outputType=xml&from=800',\n",
       " 'https://www.reuters.com/arc/outboundfeeds/sitemap/?outputType=xml&from=900',\n",
       " 'https://www.reuters.com/arc/outboundfeeds/sitemap/?outputType=xml&from=1000',\n",
       " 'https://www.reuters.com/arc/outboundfeeds/sitemap/?outputType=xml&from=1100',\n",
       " 'https://www.reuters.com/arc/outboundfeeds/sitemap/?outputType=xml&from=1200',\n",
       " 'https://www.reuters.com/arc/outboundfeeds/sitemap/?outputType=xml&from=1300',\n",
       " 'https://www.reuters.com/arc/outboundfeeds/sitemap/?outputType=xml&from=1400',\n",
       " 'https://www.reuters.com/arc/outboundfeeds/sitemap/?outputType=xml&from=1500',\n",
       " 'https://www.reuters.com/arc/outboundfeeds/sitemap/?outputType=xml&from=1600',\n",
       " 'https://www.reuters.com/arc/outboundfeeds/sitemap/?outputType=xml&from=1700',\n",
       " 'https://www.reuters.com/arc/outboundfeeds/sitemap/?outputType=xml&from=1800',\n",
       " 'https://www.reuters.com/arc/outboundfeeds/sitemap/?outputType=xml&from=1900',\n",
       " 'https://www.reuters.com/arc/outboundfeeds/sitemap/?outputType=xml&from=2000',\n",
       " 'https://www.reuters.com/arc/outboundfeeds/sitemap/?outputType=xml&from=2100',\n",
       " 'https://www.reuters.com/arc/outboundfeeds/sitemap/?outputType=xml&from=2200',\n",
       " 'https://www.reuters.com/arc/outboundfeeds/sitemap/?outputType=xml&from=2300',\n",
       " 'https://www.reuters.com/arc/outboundfeeds/sitemap/?outputType=xml&from=2400',\n",
       " 'https://www.reuters.com/arc/outboundfeeds/sitemap/?outputType=xml&from=2500',\n",
       " 'https://www.reuters.com/arc/outboundfeeds/sitemap/?outputType=xml&from=2600',\n",
       " 'https://www.reuters.com/arc/outboundfeeds/sitemap/?outputType=xml&from=2700',\n",
       " 'https://www.reuters.com/arc/outboundfeeds/sitemap/?outputType=xml&from=2800',\n",
       " 'https://www.reuters.com/arc/outboundfeeds/sitemap/?outputType=xml&from=2900',\n",
       " 'https://www.reuters.com/arc/outboundfeeds/sitemap/?outputType=xml&from=3000',\n",
       " 'https://www.reuters.com/arc/outboundfeeds/sitemap/?outputType=xml&from=3100',\n",
       " 'https://www.reuters.com/arc/outboundfeeds/sitemap/?outputType=xml&from=3200',\n",
       " 'https://www.reuters.com/arc/outboundfeeds/sitemap/?outputType=xml&from=3300',\n",
       " 'https://www.reuters.com/arc/outboundfeeds/sitemap/?outputType=xml&from=3400',\n",
       " 'https://www.reuters.com/arc/outboundfeeds/sitemap/?outputType=xml&from=3500',\n",
       " 'https://www.reuters.com/arc/outboundfeeds/sitemap/?outputType=xml&from=3600',\n",
       " 'https://www.reuters.com/arc/outboundfeeds/sitemap/?outputType=xml&from=3700',\n",
       " 'https://www.reuters.com/arc/outboundfeeds/sitemap/?outputType=xml&from=3800',\n",
       " 'https://www.reuters.com/arc/outboundfeeds/sitemap/?outputType=xml&from=3900',\n",
       " 'https://www.reuters.com/arc/outboundfeeds/sitemap/?outputType=xml&from=4000',\n",
       " 'https://www.reuters.com/arc/outboundfeeds/sitemap/?outputType=xml&from=4100',\n",
       " 'https://www.reuters.com/arc/outboundfeeds/sitemap/?outputType=xml&from=4200',\n",
       " 'https://www.reuters.com/arc/outboundfeeds/sitemap/?outputType=xml&from=4300',\n",
       " 'https://www.reuters.com/arc/outboundfeeds/sitemap/?outputType=xml&from=4400',\n",
       " 'https://www.reuters.com/arc/outboundfeeds/sitemap/?outputType=xml&from=4500',\n",
       " 'https://www.reuters.com/arc/outboundfeeds/sitemap/?outputType=xml&from=4600',\n",
       " 'https://www.reuters.com/arc/outboundfeeds/sitemap/?outputType=xml&from=4700',\n",
       " 'https://www.reuters.com/arc/outboundfeeds/sitemap/?outputType=xml&from=4800',\n",
       " 'https://www.reuters.com/arc/outboundfeeds/sitemap/?outputType=xml&from=4900',\n",
       " 'https://www.reuters.com/arc/outboundfeeds/sitemap/?outputType=xml&from=5000',\n",
       " 'https://www.reuters.com/arc/outboundfeeds/sitemap/?outputType=xml&from=5100',\n",
       " 'https://www.reuters.com/arc/outboundfeeds/sitemap/?outputType=xml&from=5200',\n",
       " 'https://www.reuters.com/arc/outboundfeeds/sitemap/?outputType=xml&from=5300',\n",
       " 'https://www.reuters.com/arc/outboundfeeds/sitemap/?outputType=xml&from=5400',\n",
       " 'https://www.reuters.com/arc/outboundfeeds/sitemap/?outputType=xml&from=5500',\n",
       " 'https://www.reuters.com/arc/outboundfeeds/sitemap/?outputType=xml&from=5600',\n",
       " 'https://www.reuters.com/arc/outboundfeeds/sitemap/?outputType=xml&from=5700',\n",
       " 'https://www.reuters.com/arc/outboundfeeds/sitemap/?outputType=xml&from=5800',\n",
       " 'https://www.reuters.com/arc/outboundfeeds/sitemap/?outputType=xml&from=5900',\n",
       " 'https://www.reuters.com/arc/outboundfeeds/sitemap/?outputType=xml&from=6000',\n",
       " 'https://www.reuters.com/arc/outboundfeeds/sitemap/?outputType=xml&from=6100',\n",
       " 'https://www.reuters.com/arc/outboundfeeds/sitemap/?outputType=xml&from=6200',\n",
       " 'https://www.reuters.com/arc/outboundfeeds/sitemap/?outputType=xml&from=6300',\n",
       " 'https://www.reuters.com/arc/outboundfeeds/sitemap/?outputType=xml&from=6400',\n",
       " 'https://www.reuters.com/arc/outboundfeeds/sitemap/?outputType=xml&from=6500',\n",
       " 'https://www.reuters.com/arc/outboundfeeds/sitemap/?outputType=xml&from=6600',\n",
       " 'https://www.reuters.com/arc/outboundfeeds/sitemap/?outputType=xml&from=6700',\n",
       " 'https://www.reuters.com/arc/outboundfeeds/sitemap/?outputType=xml&from=6800',\n",
       " 'https://www.reuters.com/arc/outboundfeeds/sitemap/?outputType=xml&from=6900',\n",
       " 'https://www.reuters.com/arc/outboundfeeds/sitemap/?outputType=xml&from=7000',\n",
       " 'https://www.reuters.com/arc/outboundfeeds/sitemap/?outputType=xml&from=7100',\n",
       " 'https://www.reuters.com/arc/outboundfeeds/sitemap/?outputType=xml&from=7200',\n",
       " 'https://www.reuters.com/arc/outboundfeeds/sitemap/?outputType=xml&from=7300',\n",
       " 'https://www.reuters.com/arc/outboundfeeds/sitemap/?outputType=xml&from=7400',\n",
       " 'https://www.reuters.com/arc/outboundfeeds/sitemap/?outputType=xml&from=7500',\n",
       " 'https://www.reuters.com/arc/outboundfeeds/sitemap/?outputType=xml&from=7600',\n",
       " 'https://www.reuters.com/arc/outboundfeeds/sitemap/?outputType=xml&from=7700',\n",
       " 'https://www.reuters.com/arc/outboundfeeds/sitemap/?outputType=xml&from=7800',\n",
       " 'https://www.reuters.com/arc/outboundfeeds/sitemap/?outputType=xml&from=7900',\n",
       " 'https://www.reuters.com/arc/outboundfeeds/sitemap/?outputType=xml&from=8000',\n",
       " 'https://www.reuters.com/arc/outboundfeeds/sitemap/?outputType=xml&from=8100',\n",
       " 'https://www.reuters.com/arc/outboundfeeds/sitemap/?outputType=xml&from=8200',\n",
       " 'https://www.reuters.com/arc/outboundfeeds/sitemap/?outputType=xml&from=8300',\n",
       " 'https://www.reuters.com/arc/outboundfeeds/sitemap/?outputType=xml&from=8400',\n",
       " 'https://www.reuters.com/arc/outboundfeeds/sitemap/?outputType=xml&from=8500',\n",
       " 'https://www.reuters.com/arc/outboundfeeds/sitemap/?outputType=xml&from=8600',\n",
       " 'https://www.reuters.com/arc/outboundfeeds/sitemap/?outputType=xml&from=8700',\n",
       " 'https://www.reuters.com/arc/outboundfeeds/sitemap/?outputType=xml&from=8800',\n",
       " 'https://www.reuters.com/arc/outboundfeeds/sitemap/?outputType=xml&from=8900',\n",
       " 'https://www.reuters.com/arc/outboundfeeds/sitemap/?outputType=xml&from=9000',\n",
       " 'https://www.reuters.com/arc/outboundfeeds/sitemap/?outputType=xml&from=9100',\n",
       " 'https://www.reuters.com/arc/outboundfeeds/sitemap/?outputType=xml&from=9200',\n",
       " 'https://www.reuters.com/arc/outboundfeeds/sitemap/?outputType=xml&from=9300',\n",
       " 'https://www.reuters.com/arc/outboundfeeds/sitemap/?outputType=xml&from=9400',\n",
       " 'https://www.reuters.com/arc/outboundfeeds/sitemap/?outputType=xml&from=9500']"
      ]
     },
     "metadata": {},
     "output_type": "display_data"
    }
   ],
   "source": [
    "#총 정리\n",
    "\n",
    "# robot.txt 링크 가져오기\n",
    "# https://www.reuters.com/robots.txt\n",
    "\n",
    "import xmltodict\n",
    "import requests\n",
    "import urllib.robotparser\n",
    "\n",
    "rp = urllib.robotparser.RobotFileParser()\n",
    "rp.set_url(\"https://www.reuters.com/robots.txt\")\n",
    "rp.read()\n",
    "\n",
    "sitemaps = rp.site_maps()\n",
    "sitemaps\n",
    "\n",
    "url = sitemaps[0] #/sitemap/latest-articles 그냥 첫번째거 가져옴\n",
    "news_dict = xmltodict.parse(requests.get(url).text)  #parse를 통해 의미있게 xml을 dictionary 로 바꿈\n",
    "\n",
    "news_urls = [news['loc'] for news in news_dict['sitemapindex']['sitemap']]\n",
    "\n",
    "display(news_urls)"
   ]
  },
  {
   "cell_type": "code",
   "execution_count": 172,
   "id": "cbec54d8-7ade-40dc-8603-4e07e2200f4c",
   "metadata": {},
   "outputs": [],
   "source": [
    "response2 = requests.get(news_urls[0])\n",
    "news_dict2 = xmltodict.parse(response.text)"
   ]
  },
  {
   "cell_type": "code",
   "execution_count": 177,
   "id": "edab9738-5c1d-41c9-822d-f35328ea665a",
   "metadata": {},
   "outputs": [],
   "source": [
    "news_urls2 = [url[\"loc\"] for url in news_dict2['urlset']['url']]"
   ]
  },
  {
   "cell_type": "code",
   "execution_count": null,
   "id": "5babd120-22d5-4f59-bce2-2274097db7c3",
   "metadata": {},
   "outputs": [],
   "source": [
    "news_urls2"
   ]
  },
  {
   "cell_type": "code",
   "execution_count": 179,
   "id": "e1d53d8f-0c25-4008-be48-4265d8f028a8",
   "metadata": {},
   "outputs": [
    {
     "name": "stdout",
     "output_type": "stream",
     "text": [
      "Wall time: 4.11 s\n"
     ]
    }
   ],
   "source": [
    "%%time\n",
    "# session 추상화\n",
    "session = requests.Session()\n",
    "\n",
    "#앞의 5개의 링크만 가져와서 datas 폴더 안에 파일 만들기\n",
    "for url in news_urls2[:5]:\n",
    "    file = url.split(\"/\")[-2] + '.html'\n",
    "    \n",
    "    response = session.get(url)\n",
    "    if response.ok:\n",
    "        with open(\"datas/\"+file, \"w+b\") as f:    #파일을 쓰는 명령어\n",
    "                  f.write(response.text.encode('utf-8'))\n",
    "    else:\n",
    "        print(f\"error widh URL : {url}\")"
   ]
  },
  {
   "cell_type": "code",
   "execution_count": 183,
   "id": "7b48c2d5-1434-4081-8774-f906f6e06c24",
   "metadata": {},
   "outputs": [],
   "source": [
    "#filename.txt 파일을 쓰기모드(w)로 열기. open 함수는 파일 객체 반환\n",
    "file = open('testFile.txt', 'w')\n",
    "#엔코딩 오류가 난다면 open('testFile.txt', 'w', encoding = 'utf-8')\n",
    "\n",
    "#파일 객체의 write() 메서드를 통해 문자열을 파일에 쓸 수 있다.\n",
    "file.write('화장실 가고 싶다')\n",
    "\n",
    "file.close()"
   ]
  },
  {
   "cell_type": "code",
   "execution_count": 186,
   "id": "1eceadba-4ea6-41a4-ab61-79b7be3e9afa",
   "metadata": {},
   "outputs": [],
   "source": [
    "with open('testFile.txt','w') as file:\n",
    "    file.write('이렇게 하면 앞이랑 같은데 close 안해줘도됨')\n",
    "\n",
    "# 덮어쓰기가 된다..."
   ]
  },
  {
   "cell_type": "code",
   "execution_count": 188,
   "id": "4cc1e825-a700-45cf-acfe-fab88f4e4885",
   "metadata": {},
   "outputs": [
    {
     "name": "stdout",
     "output_type": "stream",
     "text": [
      "이렇게 하면 앞이랑 같은데 close 안해줘도됨\n"
     ]
    }
   ],
   "source": [
    "#파일 내용 읽어오기~\n",
    "\n",
    "with open('testFile.txt', 'r') as file:\n",
    "    print(file.read())"
   ]
  },
  {
   "cell_type": "code",
   "execution_count": 192,
   "id": "0626395e-339c-4ec7-a63f-475462ee76d0",
   "metadata": {},
   "outputs": [
    {
     "data": {
      "text/plain": [
       "['./datas/australias-recharge-industries-buys-failed-battery-firm-britishvolt-2023-02-27.html',\n",
       " './datas/chinas-tencent-sets-up-team-develop-chatgpt-like-product-sources-2023-02-27.html',\n",
       " './datas/czech-central-banker-holub-likely-support-further-rate-rise-e15-2023-02-27.html',\n",
       " './datas/south-african-rand-starts-week-back-foot-2023-02-27.html',\n",
       " './datas/strikes-german-regional-airports-ground-300-plus-flights-2023-02-27.html']"
      ]
     },
     "execution_count": 192,
     "metadata": {},
     "output_type": "execute_result"
    }
   ],
   "source": [
    "import os\n",
    "path = './datas/'\n",
    "files = [path + file for file in os.listdir(path)]\n",
    "files"
   ]
  },
  {
   "cell_type": "code",
   "execution_count": 195,
   "id": "d6de8b8d-6df4-4552-a247-96a886a8f64b",
   "metadata": {},
   "outputs": [],
   "source": [
    "with open(files[2], 'r', encoding = 'utf-8') as f:\n",
    "    html = f.read()"
   ]
  },
  {
   "cell_type": "code",
   "execution_count": 202,
   "id": "f75eeada-c7be-49f2-9a1d-326f24c6e0a8",
   "metadata": {},
   "outputs": [
    {
     "name": "stdout",
     "output_type": "stream",
     "text": [
      "Czech central banker Holub again likely to vote for 50 bps rate hike -E15\n"
     ]
    }
   ],
   "source": [
    "#beautifulSoup\n",
    "# HTML 파싱을 하는데 도움을 주는 모듈\n",
    "\n",
    "from bs4 import BeautifulSoup\n",
    "soup = BeautifulSoup(html, 'html.parser')\n",
    "#title = soup.select_one('h1')\n",
    "title = soup.select_one(\"#main-content > article > div.article__main__33WV2 > div.article__content__6hMn9 > header > div > div > h1\") # 같은 결과\n",
    "print(title.text)"
   ]
  },
  {
   "cell_type": "code",
   "execution_count": 203,
   "id": "ca074240-4d92-425e-8e98-7340aa1e86ab",
   "metadata": {},
   "outputs": [
    {
     "data": {
      "text/plain": [
       "'Czech central banker Holub again likely to vote for 50 bps rate hike -E15 | Reuters'"
      ]
     },
     "execution_count": 203,
     "metadata": {},
     "output_type": "execute_result"
    }
   ],
   "source": [
    "#기사 헤드라인 추출하기\n",
    "\n",
    "#<h1> 텍스트 </h1> 형태\n",
    "\n",
    "soup.h1 #<h1>태그에 해당하는 객체를 가져올 수 있고\n",
    "soup.title.text #<h1> 태그 사이에 있는 텍스트 값을 가져올 수 있음"
   ]
  },
  {
   "cell_type": "code",
   "execution_count": 210,
   "id": "1edde061-0476-4a7e-af9a-e88d728b2b2c",
   "metadata": {},
   "outputs": [
    {
     "name": "stdout",
     "output_type": "stream",
     "text": [
      "PRAGUE, Feb 27 (Reuters) - Czech central banker Tomas Holub is again likely to vote for higher interest rates at the next policy meeting on March 29 on concern that the bank could miss its inflation forecast, he was quoted as saying in an interview with daily E15 on Monday.\n"
     ]
    }
   ],
   "source": [
    "#기사 본문 추출하기\n",
    "\n",
    "#<h2> 텍스트 </h1> 형태\n",
    "\n",
    "from bs4 import BeautifulSoup\n",
    "soup = BeautifulSoup(html, 'html.parser')\n",
    "articleBody = soup.select_one(\"#main-content > article > div.article__main__33WV2 > div.article__content__6hMn9 > div > div > div > p:nth-child(2)\")\n",
    "print(articleBody.text)\n",
    "\n",
    "#main-content > article > div.article__main__33WV2 > div.article__content__6hMn9 > div > div > div > p:nth-child(2)"
   ]
  },
  {
   "cell_type": "code",
   "execution_count": 211,
   "id": "6953e826-559a-49b5-994c-848756e43df5",
   "metadata": {},
   "outputs": [
    {
     "data": {
      "text/plain": [
       "<p class=\"text__text__1FZLe text__dark-grey__3Ml43 text__regular__2N1Xr text__large__nEccO body__full_width__ekUdw body__large_body__FV5_X article-body__element__2p5pI\" data-testid=\"paragraph-0\" style=\"font-size:20px\">PRAGUE, Feb 27 (Reuters) - Czech central banker Tomas Holub is again likely to vote for higher interest rates at the next policy meeting on March 29 on concern that the bank could miss its inflation forecast, he was quoted as saying in an interview with daily E15 on Monday.</p>"
      ]
     },
     "execution_count": 211,
     "metadata": {},
     "output_type": "execute_result"
    }
   ],
   "source": [
    "soup.p"
   ]
  },
  {
   "cell_type": "code",
   "execution_count": 212,
   "id": "e7366198-94c7-4878-a636-1e3a85a37988",
   "metadata": {},
   "outputs": [
    {
     "ename": "SyntaxError",
     "evalue": "invalid syntax (2675678586.py, line 6)",
     "output_type": "error",
     "traceback": [
      "\u001b[1;36m  File \u001b[1;32m\"C:\\Users\\user\\AppData\\Local\\Temp\\ipykernel_3348\\2675678586.py\"\u001b[1;36m, line \u001b[1;32m6\u001b[0m\n\u001b[1;33m    soup.find('link', {'rel': 'canonical'}{}\u001b[0m\n\u001b[1;37m                                          ^\u001b[0m\n\u001b[1;31mSyntaxError\u001b[0m\u001b[1;31m:\u001b[0m invalid syntax\n"
     ]
    }
   ],
   "source": [
    "#URL 추출\n",
    "#표준 url을 일반적으로 사용해서 값을 관리하는 것이 좋다.\n",
    "#검색 엔진에서도 확인하고 SEO(Search Engine Optimal)에 좋은 영향을 주기 때문에 \n",
    "#URL 태그 <link rel = 'canonical'>\n",
    "\n",
    "soup.find('link', {'rel': 'canonical'}{}  # ppt 확인하고 다시 체크"
   ]
  },
  {
   "cell_type": "code",
   "execution_count": null,
   "id": "fa6111fe-0512-4f9e-b180-e691d6787184",
   "metadata": {},
   "outputs": [],
   "source": [
    "HTML 문서의 표준화된 영역 (권장)\n",
    "\n",
    "# 제목\n",
    "<title> <h1> 태그 사용\n",
    "\n",
    "#웹페이지 요약\n",
    "<meta name = 'description'>"
   ]
  },
  {
   "cell_type": "code",
   "execution_count": null,
   "id": "26db5287-31d2-4e00-b188-83ff311d49f8",
   "metadata": {},
   "outputs": [],
   "source": []
  }
 ],
 "metadata": {
  "kernelspec": {
   "display_name": "Python 3 (ipykernel)",
   "language": "python",
   "name": "python3"
  },
  "language_info": {
   "codemirror_mode": {
    "name": "ipython",
    "version": 3
   },
   "file_extension": ".py",
   "mimetype": "text/x-python",
   "name": "python",
   "nbconvert_exporter": "python",
   "pygments_lexer": "ipython3",
   "version": "3.9.13"
  },
  "widgets": {
   "application/vnd.jupyter.widget-state+json": {
    "state": {},
    "version_major": 2,
    "version_minor": 0
   }
  }
 },
 "nbformat": 4,
 "nbformat_minor": 5
}
